{
 "cells": [
  {
   "cell_type": "markdown",
   "metadata": {
    "application/vnd.databricks.v1+cell": {
     "cellMetadata": {
      "byteLimit": 2048000,
      "rowLimit": 10000
     },
     "inputWidgets": {},
     "nuid": "a5dd9ae3-6f67-4c3a-b281-d525d2ad0ff5",
     "showTitle": false,
     "tableResultSettingsMap": {},
     "title": ""
    }
   },
   "source": [
    "# MVP - Engenharia de Dados\n",
    "## Autor: Marcel Antonio Lopes Pereira\n"
   ]
  },
  {
   "cell_type": "markdown",
   "metadata": {
    "application/vnd.databricks.v1+cell": {
     "cellMetadata": {
      "byteLimit": 2048000,
      "rowLimit": 10000
     },
     "inputWidgets": {},
     "nuid": "6c397b6b-9f58-4acc-a379-a97cd836a1b6",
     "showTitle": false,
     "tableResultSettingsMap": {},
     "title": ""
    }
   },
   "source": [
    "##  Camada Silver\n",
    "\n",
    "Neste notebook, será continuado o processo de transformação dos dados, avançando para a construção da camada silver do nosso pipeline de dados. A camada silver tem como objetivo realizar um processamento mais refinado dos dados provenientes da camada bronze, aplicando transformações e limpezas essenciais para garantir que os dados estejam padronizados e prontos para análises mais complexas na camada gold.\n",
    "\n",
    "Utilizando as tabelas da camada bronze como base, foram realizadas operações como o tratamento de nomes de seleções através da tabela former_names, além de aplicar ajustes nos formatos de dados (como conversões de tipos de variáveis) e, quando necessário, a remoção de dados nulos. As tabelas resultantes da camada silver servirão como um ponto de partida para análises mais profundas e criação de métricas na camada gold.\n",
    "\n",
    "A seguir, serão processados os principais dados de resultados de partidas, disputas de pênaltis, marcadores de gols e o ranking FIFA para garantir que todas as informações estejam corretamente estruturadas e padronizadas. Ao final deste notebook, haverá tabelas com informações prontas para serem utilizadas em análises avançadas, como a performance das seleções ao longo do tempo.\n",
    "Primeiramente, são executados scripts de criação do database silver."
   ]
  },
  {
   "cell_type": "code",
   "execution_count": 0,
   "metadata": {
    "application/vnd.databricks.v1+cell": {
     "cellMetadata": {
      "byteLimit": 2048000,
      "implicitDf": true,
      "rowLimit": 10000
     },
     "inputWidgets": {},
     "nuid": "5db29da4-7496-4719-a974-7325ac6f96eb",
     "showTitle": true,
     "tableResultSettingsMap": {},
     "title": "Apagando o database \"silver\" para ser recriado"
    }
   },
   "outputs": [
    {
     "output_type": "display_data",
     "data": {
      "text/html": [
       "<style scoped>\n",
       "  .table-result-container {\n",
       "    max-height: 300px;\n",
       "    overflow: auto;\n",
       "  }\n",
       "  table, th, td {\n",
       "    border: 1px solid black;\n",
       "    border-collapse: collapse;\n",
       "  }\n",
       "  th, td {\n",
       "    padding: 5px;\n",
       "  }\n",
       "  th {\n",
       "    text-align: left;\n",
       "  }\n",
       "</style><div class='table-result-container'><table class='table-result'><thead style='background-color: white'><tr></tr></thead><tbody></tbody></table></div>"
      ]
     },
     "metadata": {
      "application/vnd.databricks.v1+output": {
       "addedWidgets": {},
       "aggData": [],
       "aggError": "",
       "aggOverflow": false,
       "aggSchema": [],
       "aggSeriesLimitReached": false,
       "aggType": "",
       "arguments": {},
       "columnCustomDisplayInfos": {},
       "data": [],
       "datasetInfos": [],
       "dbfsResultPath": null,
       "isJsonSchema": true,
       "metadata": {},
       "overflow": false,
       "plotOptions": {
        "customPlotOptions": {},
        "displayType": "table",
        "pivotAggregation": null,
        "pivotColumns": null,
        "xColumns": null,
        "yColumns": null
       },
       "removedWidgets": [],
       "schema": [],
       "type": "table"
      }
     },
     "output_type": "display_data"
    }
   ],
   "source": [
    "%sql DROP DATABASE IF EXISTS silver CASCADE"
   ]
  },
  {
   "cell_type": "code",
   "execution_count": 0,
   "metadata": {
    "application/vnd.databricks.v1+cell": {
     "cellMetadata": {
      "byteLimit": 2048000,
      "implicitDf": true,
      "rowLimit": 10000
     },
     "inputWidgets": {},
     "nuid": "26029e9f-d2a5-4793-ba6f-25e7015c1441",
     "showTitle": true,
     "tableResultSettingsMap": {},
     "title": "Recriando o database \"silver\""
    }
   },
   "outputs": [
    {
     "output_type": "display_data",
     "data": {
      "text/html": [
       "<style scoped>\n",
       "  .table-result-container {\n",
       "    max-height: 300px;\n",
       "    overflow: auto;\n",
       "  }\n",
       "  table, th, td {\n",
       "    border: 1px solid black;\n",
       "    border-collapse: collapse;\n",
       "  }\n",
       "  th, td {\n",
       "    padding: 5px;\n",
       "  }\n",
       "  th {\n",
       "    text-align: left;\n",
       "  }\n",
       "</style><div class='table-result-container'><table class='table-result'><thead style='background-color: white'><tr></tr></thead><tbody></tbody></table></div>"
      ]
     },
     "metadata": {
      "application/vnd.databricks.v1+output": {
       "addedWidgets": {},
       "aggData": [],
       "aggError": "",
       "aggOverflow": false,
       "aggSchema": [],
       "aggSeriesLimitReached": false,
       "aggType": "",
       "arguments": {},
       "columnCustomDisplayInfos": {},
       "data": [],
       "datasetInfos": [],
       "dbfsResultPath": null,
       "isJsonSchema": true,
       "metadata": {},
       "overflow": false,
       "plotOptions": {
        "customPlotOptions": {},
        "displayType": "table",
        "pivotAggregation": null,
        "pivotColumns": null,
        "xColumns": null,
        "yColumns": null
       },
       "removedWidgets": [],
       "schema": [],
       "type": "table"
      }
     },
     "output_type": "display_data"
    }
   ],
   "source": [
    "%sql CREATE DATABASE silver"
   ]
  },
  {
   "cell_type": "markdown",
   "metadata": {
    "application/vnd.databricks.v1+cell": {
     "cellMetadata": {
      "byteLimit": 2048000,
      "rowLimit": 10000
     },
     "inputWidgets": {},
     "nuid": "0bf63500-f6fe-4490-a83f-b9797c8c4893",
     "showTitle": false,
     "tableResultSettingsMap": {},
     "title": ""
    }
   },
   "source": [
    "A partir disso, são criadas as tabelas na camada silver a partir das tabelas da camada Bronze. O processo de criação de cada uma delas é descrito a seguir."
   ]
  },
  {
   "cell_type": "markdown",
   "metadata": {
    "application/vnd.databricks.v1+cell": {
     "cellMetadata": {
      "byteLimit": 2048000,
      "rowLimit": 10000
     },
     "inputWidgets": {},
     "nuid": "2c414377-254e-4eab-9083-6b698fef21c2",
     "showTitle": false,
     "tableResultSettingsMap": {},
     "title": ""
    }
   },
   "source": [
    "### Tabela Results\n",
    "A primeira tabela a ser criada é a tabela silver.results. \n",
    "O fluxo de construção da tabela silver.results inicia com os dados brutos da camada Bronze (bronze.results) e aplica uma série de transformações essenciais para garantir consistência, qualidade e enriquecimento dos dados.\n",
    "\n",
    "- Padronização de Datas: Converte date para o tipo DATE para garantir consistência em análises temporais.\n",
    "\n",
    "- Unificação de Nomes de Times:  Usa bronze.former_names para padronizar nomes históricos (ex: \"Alemanha Ocidental\" → \"Alemanha\"); Mantém o nome original se não houver correspondência (COALESCE).\n",
    "\n",
    "- Conversão de Tipos de Dados: Converte home_score e away_score para INT (evitando decimais desnecessários); Transforma neutral em BOOLEAN (TRUE/FALSE).\n",
    "\n",
    "- Limpeza Básica: Remove registros com placares nulos (WHERE home_score IS NOT NULL); Aplica TRIM() em campos de texto para eliminar espaços extras."
   ]
  },
  {
   "cell_type": "code",
   "execution_count": 0,
   "metadata": {
    "application/vnd.databricks.v1+cell": {
     "cellMetadata": {
      "byteLimit": 2048000,
      "implicitDf": true,
      "rowLimit": 10000
     },
     "inputWidgets": {},
     "nuid": "898e795e-2008-4fc6-bcbb-40d60e32cc92",
     "showTitle": false,
     "tableResultSettingsMap": {},
     "title": ""
    }
   },
   "outputs": [
    {
     "output_type": "display_data",
     "data": {
      "text/html": [
       "<style scoped>\n",
       "  .table-result-container {\n",
       "    max-height: 300px;\n",
       "    overflow: auto;\n",
       "  }\n",
       "  table, th, td {\n",
       "    border: 1px solid black;\n",
       "    border-collapse: collapse;\n",
       "  }\n",
       "  th, td {\n",
       "    padding: 5px;\n",
       "  }\n",
       "  th {\n",
       "    text-align: left;\n",
       "  }\n",
       "</style><div class='table-result-container'><table class='table-result'><thead style='background-color: white'><tr><th>num_affected_rows</th><th>num_inserted_rows</th></tr></thead><tbody></tbody></table></div>"
      ]
     },
     "metadata": {
      "application/vnd.databricks.v1+output": {
       "addedWidgets": {},
       "aggData": [],
       "aggError": "",
       "aggOverflow": false,
       "aggSchema": [],
       "aggSeriesLimitReached": false,
       "aggType": "",
       "arguments": {},
       "columnCustomDisplayInfos": {},
       "data": [],
       "datasetInfos": [],
       "dbfsResultPath": null,
       "isJsonSchema": true,
       "metadata": {},
       "overflow": false,
       "plotOptions": {
        "customPlotOptions": {},
        "displayType": "table",
        "pivotAggregation": null,
        "pivotColumns": null,
        "xColumns": null,
        "yColumns": null
       },
       "removedWidgets": [],
       "schema": [
        {
         "metadata": "{}",
         "name": "num_affected_rows",
         "type": "\"long\""
        },
        {
         "metadata": "{}",
         "name": "num_inserted_rows",
         "type": "\"long\""
        }
       ],
       "type": "table"
      }
     },
     "output_type": "display_data"
    }
   ],
   "source": [
    "%sql\n",
    "CREATE OR REPLACE TABLE silver.results AS\n",
    "SELECT \n",
    "  CONCAT(\n",
    "    CAST(date(r.date) AS STRING), \n",
    "    '_', \n",
    "    COALESCE(fn_home.current, r.home_team), \n",
    "    '_', \n",
    "    COALESCE(fn_away.current, r.away_team), \n",
    "    '_', \n",
    "    CAST(r.home_score AS STRING), \n",
    "    '_', \n",
    "    CAST(r.away_score AS STRING)\n",
    "  ) AS match_id,  -- Geração do match_id concatenando as colunas relevantes\n",
    "  date(r.date) AS match_date,\n",
    "  COALESCE(fn_home.current, r.home_team) AS home_team,\n",
    "  COALESCE(fn_away.current, r.away_team) AS away_team,\n",
    "  CAST(r.home_score AS INT) AS home_score,\n",
    "  CAST(r.away_score AS INT) AS away_score,\n",
    "  trim(r.tournament) AS tournament,  -- Apenas remove espaços, sem categorização\n",
    "  r.city,\n",
    "  r.country,\n",
    "  CAST(r.neutral AS BOOLEAN) AS is_neutral\n",
    "FROM bronze.results r\n",
    "LEFT JOIN bronze.former_names fn_home ON r.home_team = fn_home.former\n",
    "LEFT JOIN bronze.former_names fn_away ON r.away_team = fn_away.former\n",
    "WHERE r.home_score IS NOT NULL;\n"
   ]
  },
  {
   "cell_type": "markdown",
   "metadata": {
    "application/vnd.databricks.v1+cell": {
     "cellMetadata": {
      "byteLimit": 2048000,
      "rowLimit": 10000
     },
     "inputWidgets": {},
     "nuid": "651298f5-2fc1-4845-9e93-9945635a948e",
     "showTitle": false,
     "tableResultSettingsMap": {},
     "title": ""
    }
   },
   "source": [
    "São incluídos comentários descrevendo a tabela e seus atributos."
   ]
  },
  {
   "cell_type": "code",
   "execution_count": 0,
   "metadata": {
    "application/vnd.databricks.v1+cell": {
     "cellMetadata": {
      "byteLimit": 2048000,
      "implicitDf": true,
      "rowLimit": 10000
     },
     "inputWidgets": {},
     "nuid": "a28d291c-446c-40a4-9cfb-39cda95eb332",
     "showTitle": false,
     "tableResultSettingsMap": {},
     "title": ""
    }
   },
   "outputs": [
    {
     "output_type": "display_data",
     "data": {
      "text/html": [
       "<style scoped>\n",
       "  .table-result-container {\n",
       "    max-height: 300px;\n",
       "    overflow: auto;\n",
       "  }\n",
       "  table, th, td {\n",
       "    border: 1px solid black;\n",
       "    border-collapse: collapse;\n",
       "  }\n",
       "  th, td {\n",
       "    padding: 5px;\n",
       "  }\n",
       "  th {\n",
       "    text-align: left;\n",
       "  }\n",
       "</style><div class='table-result-container'><table class='table-result'><thead style='background-color: white'><tr></tr></thead><tbody></tbody></table></div>"
      ]
     },
     "metadata": {
      "application/vnd.databricks.v1+output": {
       "addedWidgets": {},
       "aggData": [],
       "aggError": "",
       "aggOverflow": false,
       "aggSchema": [],
       "aggSeriesLimitReached": false,
       "aggType": "",
       "arguments": {},
       "columnCustomDisplayInfos": {},
       "data": [],
       "datasetInfos": [],
       "dbfsResultPath": null,
       "isJsonSchema": true,
       "metadata": {},
       "overflow": false,
       "plotOptions": {
        "customPlotOptions": {},
        "displayType": "table",
        "pivotAggregation": null,
        "pivotColumns": null,
        "xColumns": null,
        "yColumns": null
       },
       "removedWidgets": [],
       "schema": [],
       "type": "table"
      }
     },
     "output_type": "display_data"
    }
   ],
   "source": [
    "%sql\n",
    "-- Comentário da tabela\n",
    "ALTER TABLE silver.results \n",
    "SET TBLPROPERTIES (\n",
    "  'comment' = 'Tabela de resultados de partidas de futebol internacionais. Contém dados brutos padronizados para uso na camada Gold. Fonte: bronze.results.'\n",
    ");\n",
    "\n",
    "-- Comentários das colunas (um comando por coluna)\n",
    "ALTER TABLE silver.results CHANGE COLUMN match_date match_date DATE COMMENT 'Data da partida no formato YYYY-MM-DD. Domínio: Datas entre 1872-11-30 (primeiro jogo internacional) e a data atual.';\n",
    "ALTER TABLE silver.results CHANGE COLUMN home_team home_team STRING COMMENT 'Nome do time da casa padronizado. Domínio: Valores da tabela silver.teams (ex: \"Brazil\", \"Germany\").';\n",
    "ALTER TABLE silver.results CHANGE COLUMN away_team away_team STRING COMMENT 'Nome do time visitante padronizado. Domínio: Valores da tabela silver.teams.';\n",
    "ALTER TABLE silver.results CHANGE COLUMN home_score home_score INT COMMENT 'Gols marcados pelo time da casa. Domínio: Inteiro ≥ 0 (valores nulos substituídos por 0).';\n",
    "ALTER TABLE silver.results CHANGE COLUMN away_score away_score INT COMMENT 'Gols marcados pelo time visitante. Domínio: Inteiro ≥ 0 (valores nulos substituídos por 0).';\n",
    "ALTER TABLE silver.results CHANGE COLUMN tournament tournament STRING COMMENT 'Nome do torneio sem formatação adicional. Domínio: Texto livre (ex: \"FIFA World Cup\", \"Copa América\").';\n",
    "ALTER TABLE silver.results CHANGE COLUMN city city STRING COMMENT 'Cidade onde a partida foi realizada. Domínio: Texto livre (ex: \"Rio de Janeiro\", \"Berlin\").';\n",
    "ALTER TABLE silver.results CHANGE COLUMN country country STRING COMMENT 'País onde a partida foi realizada. Domínio: Nomes de países ISO 3166 (ex: \"Brazil\", \"Spain\").';\n",
    "ALTER TABLE silver.results CHANGE COLUMN is_neutral is_neutral BOOLEAN COMMENT 'Indica se o jogo foi em local neutro. Domínio: TRUE/FALSE.';"
   ]
  },
  {
   "cell_type": "code",
   "execution_count": 0,
   "metadata": {
    "application/vnd.databricks.v1+cell": {
     "cellMetadata": {
      "byteLimit": 2048000,
      "implicitDf": true,
      "rowLimit": 10000
     },
     "inputWidgets": {},
     "nuid": "52b98c70-10fd-42a4-8471-5a648d10a14f",
     "showTitle": false,
     "tableResultSettingsMap": {},
     "title": ""
    }
   },
   "outputs": [
    {
     "output_type": "display_data",
     "data": {
      "text/html": [
       "<style scoped>\n",
       "  .table-result-container {\n",
       "    max-height: 300px;\n",
       "    overflow: auto;\n",
       "  }\n",
       "  table, th, td {\n",
       "    border: 1px solid black;\n",
       "    border-collapse: collapse;\n",
       "  }\n",
       "  th, td {\n",
       "    padding: 5px;\n",
       "  }\n",
       "  th {\n",
       "    text-align: left;\n",
       "  }\n",
       "</style><div class='table-result-container'><table class='table-result'><thead style='background-color: white'><tr><th>col_name</th><th>data_type</th><th>comment</th></tr></thead><tbody><tr><td>match_id</td><td>string</td><td>null</td></tr><tr><td>match_date</td><td>date</td><td>Data da partida no formato YYYY-MM-DD. Domínio: Datas entre 1872-11-30 (primeiro jogo internacional) e a data atual.</td></tr><tr><td>home_team</td><td>string</td><td>Nome do time da casa padronizado. Domínio: Valores da tabela silver.teams (ex: \"Brazil\", \"Germany\").</td></tr><tr><td>away_team</td><td>string</td><td>Nome do time visitante padronizado. Domínio: Valores da tabela silver.teams.</td></tr><tr><td>home_score</td><td>int</td><td>Gols marcados pelo time da casa. Domínio: Inteiro ≥ 0 (valores nulos substituídos por 0).</td></tr><tr><td>away_score</td><td>int</td><td>Gols marcados pelo time visitante. Domínio: Inteiro ≥ 0 (valores nulos substituídos por 0).</td></tr><tr><td>tournament</td><td>string</td><td>Nome do torneio sem formatação adicional. Domínio: Texto livre (ex: \"FIFA World Cup\", \"Copa América\").</td></tr><tr><td>city</td><td>string</td><td>Cidade onde a partida foi realizada. Domínio: Texto livre (ex: \"Rio de Janeiro\", \"Berlin\").</td></tr><tr><td>country</td><td>string</td><td>País onde a partida foi realizada. Domínio: Nomes de países ISO 3166 (ex: \"Brazil\", \"Spain\").</td></tr><tr><td>is_neutral</td><td>boolean</td><td>Indica se o jogo foi em local neutro. Domínio: TRUE/FALSE.</td></tr><tr><td></td><td></td><td></td></tr><tr><td># Detailed Table Information</td><td></td><td></td></tr><tr><td>Catalog</td><td>spark_catalog</td><td></td></tr><tr><td>Database</td><td>silver</td><td></td></tr><tr><td>Table</td><td>results</td><td></td></tr><tr><td>Created Time</td><td>Mon Mar 31 04:24:21 UTC 2025</td><td></td></tr><tr><td>Last Access</td><td>UNKNOWN</td><td></td></tr><tr><td>Created By</td><td>Spark 3.3.2</td><td></td></tr><tr><td>Statistics</td><td>2848510 bytes</td><td></td></tr><tr><td>Type</td><td>MANAGED</td><td></td></tr><tr><td>Comment</td><td>Tabela de resultados de partidas de futebol internacionais. Contém dados brutos padronizados para uso na camada Gold. Fonte: bronze.results.</td><td></td></tr><tr><td>Location</td><td>dbfs:/user/hive/warehouse/silver.db/results</td><td></td></tr><tr><td>Provider</td><td>delta</td><td></td></tr><tr><td>Owner</td><td>root</td><td></td></tr><tr><td>Is_managed_location</td><td>true</td><td></td></tr><tr><td>Table Properties</td><td>[delta.minReaderVersion=1,delta.minWriterVersion=2]</td><td></td></tr></tbody></table></div>"
      ]
     },
     "metadata": {
      "application/vnd.databricks.v1+output": {
       "addedWidgets": {},
       "aggData": [],
       "aggError": "",
       "aggOverflow": false,
       "aggSchema": [],
       "aggSeriesLimitReached": false,
       "aggType": "",
       "arguments": {},
       "columnCustomDisplayInfos": {},
       "data": [
        [
         "match_id",
         "string",
         null
        ],
        [
         "match_date",
         "date",
         "Data da partida no formato YYYY-MM-DD. Domínio: Datas entre 1872-11-30 (primeiro jogo internacional) e a data atual."
        ],
        [
         "home_team",
         "string",
         "Nome do time da casa padronizado. Domínio: Valores da tabela silver.teams (ex: \"Brazil\", \"Germany\")."
        ],
        [
         "away_team",
         "string",
         "Nome do time visitante padronizado. Domínio: Valores da tabela silver.teams."
        ],
        [
         "home_score",
         "int",
         "Gols marcados pelo time da casa. Domínio: Inteiro ≥ 0 (valores nulos substituídos por 0)."
        ],
        [
         "away_score",
         "int",
         "Gols marcados pelo time visitante. Domínio: Inteiro ≥ 0 (valores nulos substituídos por 0)."
        ],
        [
         "tournament",
         "string",
         "Nome do torneio sem formatação adicional. Domínio: Texto livre (ex: \"FIFA World Cup\", \"Copa América\")."
        ],
        [
         "city",
         "string",
         "Cidade onde a partida foi realizada. Domínio: Texto livre (ex: \"Rio de Janeiro\", \"Berlin\")."
        ],
        [
         "country",
         "string",
         "País onde a partida foi realizada. Domínio: Nomes de países ISO 3166 (ex: \"Brazil\", \"Spain\")."
        ],
        [
         "is_neutral",
         "boolean",
         "Indica se o jogo foi em local neutro. Domínio: TRUE/FALSE."
        ],
        [
         "",
         "",
         ""
        ],
        [
         "# Detailed Table Information",
         "",
         ""
        ],
        [
         "Catalog",
         "spark_catalog",
         ""
        ],
        [
         "Database",
         "silver",
         ""
        ],
        [
         "Table",
         "results",
         ""
        ],
        [
         "Created Time",
         "Mon Mar 31 04:24:21 UTC 2025",
         ""
        ],
        [
         "Last Access",
         "UNKNOWN",
         ""
        ],
        [
         "Created By",
         "Spark 3.3.2",
         ""
        ],
        [
         "Statistics",
         "2848510 bytes",
         ""
        ],
        [
         "Type",
         "MANAGED",
         ""
        ],
        [
         "Comment",
         "Tabela de resultados de partidas de futebol internacionais. Contém dados brutos padronizados para uso na camada Gold. Fonte: bronze.results.",
         ""
        ],
        [
         "Location",
         "dbfs:/user/hive/warehouse/silver.db/results",
         ""
        ],
        [
         "Provider",
         "delta",
         ""
        ],
        [
         "Owner",
         "root",
         ""
        ],
        [
         "Is_managed_location",
         "true",
         ""
        ],
        [
         "Table Properties",
         "[delta.minReaderVersion=1,delta.minWriterVersion=2]",
         ""
        ]
       ],
       "datasetInfos": [],
       "dbfsResultPath": null,
       "isJsonSchema": true,
       "metadata": {},
       "overflow": false,
       "plotOptions": {
        "customPlotOptions": {},
        "displayType": "table",
        "pivotAggregation": null,
        "pivotColumns": null,
        "xColumns": null,
        "yColumns": null
       },
       "removedWidgets": [],
       "schema": [
        {
         "metadata": "{\"comment\":\"name of the column\"}",
         "name": "col_name",
         "type": "\"string\""
        },
        {
         "metadata": "{\"comment\":\"data type of the column\"}",
         "name": "data_type",
         "type": "\"string\""
        },
        {
         "metadata": "{\"comment\":\"comment of the column\"}",
         "name": "comment",
         "type": "\"string\""
        }
       ],
       "type": "table"
      }
     },
     "output_type": "display_data"
    }
   ],
   "source": [
    "%sql\n",
    "DESCRIBE TABLE EXTENDED silver.results;"
   ]
  },
  {
   "cell_type": "markdown",
   "metadata": {
    "application/vnd.databricks.v1+cell": {
     "cellMetadata": {
      "byteLimit": 2048000,
      "rowLimit": 10000
     },
     "inputWidgets": {},
     "nuid": "325c101c-c846-43b2-9c75-c56ffdb1db59",
     "showTitle": false,
     "tableResultSettingsMap": {},
     "title": ""
    }
   },
   "source": [
    "É verificada a criação da tabela."
   ]
  },
  {
   "cell_type": "code",
   "execution_count": 0,
   "metadata": {
    "application/vnd.databricks.v1+cell": {
     "cellMetadata": {
      "byteLimit": 2048000,
      "implicitDf": true,
      "rowLimit": 10000
     },
     "inputWidgets": {},
     "nuid": "fbe62c58-ea07-410e-b749-89ffc92ae337",
     "showTitle": true,
     "tableResultSettingsMap": {},
     "title": "Verificando a tabela silver.results sem alterações"
    }
   },
   "outputs": [
    {
     "output_type": "display_data",
     "data": {
      "text/html": [
       "<style scoped>\n",
       "  .table-result-container {\n",
       "    max-height: 300px;\n",
       "    overflow: auto;\n",
       "  }\n",
       "  table, th, td {\n",
       "    border: 1px solid black;\n",
       "    border-collapse: collapse;\n",
       "  }\n",
       "  th, td {\n",
       "    padding: 5px;\n",
       "  }\n",
       "  th {\n",
       "    text-align: left;\n",
       "  }\n",
       "</style><div class='table-result-container'><table class='table-result'><thead style='background-color: white'><tr><th>match_id</th><th>match_date</th><th>home_team</th><th>away_team</th><th>home_score</th><th>away_score</th><th>tournament</th><th>city</th><th>country</th><th>is_neutral</th></tr></thead><tbody><tr><td>1872-11-30_Scotland_England_0_0</td><td>1872-11-30</td><td>Scotland</td><td>England</td><td>0</td><td>0</td><td>Friendly</td><td>Glasgow</td><td>Scotland</td><td>false</td></tr><tr><td>1873-03-08_England_Scotland_4_2</td><td>1873-03-08</td><td>England</td><td>Scotland</td><td>4</td><td>2</td><td>Friendly</td><td>London</td><td>England</td><td>false</td></tr><tr><td>1874-03-07_Scotland_England_2_1</td><td>1874-03-07</td><td>Scotland</td><td>England</td><td>2</td><td>1</td><td>Friendly</td><td>Glasgow</td><td>Scotland</td><td>false</td></tr><tr><td>1875-03-06_England_Scotland_2_2</td><td>1875-03-06</td><td>England</td><td>Scotland</td><td>2</td><td>2</td><td>Friendly</td><td>London</td><td>England</td><td>false</td></tr><tr><td>1876-03-04_Scotland_England_3_0</td><td>1876-03-04</td><td>Scotland</td><td>England</td><td>3</td><td>0</td><td>Friendly</td><td>Glasgow</td><td>Scotland</td><td>false</td></tr><tr><td>1876-03-25_Scotland_Wales_4_0</td><td>1876-03-25</td><td>Scotland</td><td>Wales</td><td>4</td><td>0</td><td>Friendly</td><td>Glasgow</td><td>Scotland</td><td>false</td></tr><tr><td>1877-03-03_England_Scotland_1_3</td><td>1877-03-03</td><td>England</td><td>Scotland</td><td>1</td><td>3</td><td>Friendly</td><td>London</td><td>England</td><td>false</td></tr><tr><td>1877-03-05_Wales_Scotland_0_2</td><td>1877-03-05</td><td>Wales</td><td>Scotland</td><td>0</td><td>2</td><td>Friendly</td><td>Wrexham</td><td>Wales</td><td>false</td></tr><tr><td>1878-03-02_Scotland_England_7_2</td><td>1878-03-02</td><td>Scotland</td><td>England</td><td>7</td><td>2</td><td>Friendly</td><td>Glasgow</td><td>Scotland</td><td>false</td></tr><tr><td>1878-03-23_Scotland_Wales_9_0</td><td>1878-03-23</td><td>Scotland</td><td>Wales</td><td>9</td><td>0</td><td>Friendly</td><td>Glasgow</td><td>Scotland</td><td>false</td></tr><tr><td>1879-01-18_England_Wales_2_1</td><td>1879-01-18</td><td>England</td><td>Wales</td><td>2</td><td>1</td><td>Friendly</td><td>London</td><td>England</td><td>false</td></tr><tr><td>1879-04-05_England_Scotland_5_4</td><td>1879-04-05</td><td>England</td><td>Scotland</td><td>5</td><td>4</td><td>Friendly</td><td>London</td><td>England</td><td>false</td></tr><tr><td>1879-04-07_Wales_Scotland_0_3</td><td>1879-04-07</td><td>Wales</td><td>Scotland</td><td>0</td><td>3</td><td>Friendly</td><td>Wrexham</td><td>Wales</td><td>false</td></tr><tr><td>1880-03-13_Scotland_England_5_4</td><td>1880-03-13</td><td>Scotland</td><td>England</td><td>5</td><td>4</td><td>Friendly</td><td>Glasgow</td><td>Scotland</td><td>false</td></tr><tr><td>1880-03-15_Wales_England_2_3</td><td>1880-03-15</td><td>Wales</td><td>England</td><td>2</td><td>3</td><td>Friendly</td><td>Wrexham</td><td>Wales</td><td>false</td></tr><tr><td>1880-03-27_Scotland_Wales_5_1</td><td>1880-03-27</td><td>Scotland</td><td>Wales</td><td>5</td><td>1</td><td>Friendly</td><td>Glasgow</td><td>Scotland</td><td>false</td></tr><tr><td>1881-02-26_England_Wales_0_1</td><td>1881-02-26</td><td>England</td><td>Wales</td><td>0</td><td>1</td><td>Friendly</td><td>Blackburn</td><td>England</td><td>false</td></tr><tr><td>1881-03-12_England_Scotland_1_6</td><td>1881-03-12</td><td>England</td><td>Scotland</td><td>1</td><td>6</td><td>Friendly</td><td>London</td><td>England</td><td>false</td></tr><tr><td>1881-03-14_Wales_Scotland_1_5</td><td>1881-03-14</td><td>Wales</td><td>Scotland</td><td>1</td><td>5</td><td>Friendly</td><td>Wrexham</td><td>Wales</td><td>false</td></tr><tr><td>1882-02-18_Northern Ireland_England_0_13</td><td>1882-02-18</td><td>Northern Ireland</td><td>England</td><td>0</td><td>13</td><td>Friendly</td><td>Belfast</td><td>Ireland</td><td>false</td></tr></tbody></table></div>"
      ]
     },
     "metadata": {
      "application/vnd.databricks.v1+output": {
       "addedWidgets": {},
       "aggData": [],
       "aggError": "",
       "aggOverflow": false,
       "aggSchema": [],
       "aggSeriesLimitReached": false,
       "aggType": "",
       "arguments": {},
       "columnCustomDisplayInfos": {},
       "data": [
        [
         "1872-11-30_Scotland_England_0_0",
         "1872-11-30",
         "Scotland",
         "England",
         0,
         0,
         "Friendly",
         "Glasgow",
         "Scotland",
         false
        ],
        [
         "1873-03-08_England_Scotland_4_2",
         "1873-03-08",
         "England",
         "Scotland",
         4,
         2,
         "Friendly",
         "London",
         "England",
         false
        ],
        [
         "1874-03-07_Scotland_England_2_1",
         "1874-03-07",
         "Scotland",
         "England",
         2,
         1,
         "Friendly",
         "Glasgow",
         "Scotland",
         false
        ],
        [
         "1875-03-06_England_Scotland_2_2",
         "1875-03-06",
         "England",
         "Scotland",
         2,
         2,
         "Friendly",
         "London",
         "England",
         false
        ],
        [
         "1876-03-04_Scotland_England_3_0",
         "1876-03-04",
         "Scotland",
         "England",
         3,
         0,
         "Friendly",
         "Glasgow",
         "Scotland",
         false
        ],
        [
         "1876-03-25_Scotland_Wales_4_0",
         "1876-03-25",
         "Scotland",
         "Wales",
         4,
         0,
         "Friendly",
         "Glasgow",
         "Scotland",
         false
        ],
        [
         "1877-03-03_England_Scotland_1_3",
         "1877-03-03",
         "England",
         "Scotland",
         1,
         3,
         "Friendly",
         "London",
         "England",
         false
        ],
        [
         "1877-03-05_Wales_Scotland_0_2",
         "1877-03-05",
         "Wales",
         "Scotland",
         0,
         2,
         "Friendly",
         "Wrexham",
         "Wales",
         false
        ],
        [
         "1878-03-02_Scotland_England_7_2",
         "1878-03-02",
         "Scotland",
         "England",
         7,
         2,
         "Friendly",
         "Glasgow",
         "Scotland",
         false
        ],
        [
         "1878-03-23_Scotland_Wales_9_0",
         "1878-03-23",
         "Scotland",
         "Wales",
         9,
         0,
         "Friendly",
         "Glasgow",
         "Scotland",
         false
        ],
        [
         "1879-01-18_England_Wales_2_1",
         "1879-01-18",
         "England",
         "Wales",
         2,
         1,
         "Friendly",
         "London",
         "England",
         false
        ],
        [
         "1879-04-05_England_Scotland_5_4",
         "1879-04-05",
         "England",
         "Scotland",
         5,
         4,
         "Friendly",
         "London",
         "England",
         false
        ],
        [
         "1879-04-07_Wales_Scotland_0_3",
         "1879-04-07",
         "Wales",
         "Scotland",
         0,
         3,
         "Friendly",
         "Wrexham",
         "Wales",
         false
        ],
        [
         "1880-03-13_Scotland_England_5_4",
         "1880-03-13",
         "Scotland",
         "England",
         5,
         4,
         "Friendly",
         "Glasgow",
         "Scotland",
         false
        ],
        [
         "1880-03-15_Wales_England_2_3",
         "1880-03-15",
         "Wales",
         "England",
         2,
         3,
         "Friendly",
         "Wrexham",
         "Wales",
         false
        ],
        [
         "1880-03-27_Scotland_Wales_5_1",
         "1880-03-27",
         "Scotland",
         "Wales",
         5,
         1,
         "Friendly",
         "Glasgow",
         "Scotland",
         false
        ],
        [
         "1881-02-26_England_Wales_0_1",
         "1881-02-26",
         "England",
         "Wales",
         0,
         1,
         "Friendly",
         "Blackburn",
         "England",
         false
        ],
        [
         "1881-03-12_England_Scotland_1_6",
         "1881-03-12",
         "England",
         "Scotland",
         1,
         6,
         "Friendly",
         "London",
         "England",
         false
        ],
        [
         "1881-03-14_Wales_Scotland_1_5",
         "1881-03-14",
         "Wales",
         "Scotland",
         1,
         5,
         "Friendly",
         "Wrexham",
         "Wales",
         false
        ],
        [
         "1882-02-18_Northern Ireland_England_0_13",
         "1882-02-18",
         "Northern Ireland",
         "England",
         0,
         13,
         "Friendly",
         "Belfast",
         "Ireland",
         false
        ]
       ],
       "datasetInfos": [],
       "dbfsResultPath": null,
       "isJsonSchema": true,
       "metadata": {},
       "overflow": false,
       "plotOptions": {
        "customPlotOptions": {},
        "displayType": "table",
        "pivotAggregation": null,
        "pivotColumns": null,
        "xColumns": null,
        "yColumns": null
       },
       "removedWidgets": [],
       "schema": [
        {
         "metadata": "{}",
         "name": "match_id",
         "type": "\"string\""
        },
        {
         "metadata": "{\"comment\":\"Data da partida no formato YYYY-MM-DD. Domínio: Datas entre 1872-11-30 (primeiro jogo internacional) e a data atual.\"}",
         "name": "match_date",
         "type": "\"date\""
        },
        {
         "metadata": "{\"comment\":\"Nome do time da casa padronizado. Domínio: Valores da tabela silver.teams (ex: \\\"Brazil\\\", \\\"Germany\\\").\"}",
         "name": "home_team",
         "type": "\"string\""
        },
        {
         "metadata": "{\"comment\":\"Nome do time visitante padronizado. Domínio: Valores da tabela silver.teams.\"}",
         "name": "away_team",
         "type": "\"string\""
        },
        {
         "metadata": "{\"comment\":\"Gols marcados pelo time da casa. Domínio: Inteiro ≥ 0 (valores nulos substituídos por 0).\"}",
         "name": "home_score",
         "type": "\"integer\""
        },
        {
         "metadata": "{\"comment\":\"Gols marcados pelo time visitante. Domínio: Inteiro ≥ 0 (valores nulos substituídos por 0).\"}",
         "name": "away_score",
         "type": "\"integer\""
        },
        {
         "metadata": "{\"comment\":\"Nome do torneio sem formatação adicional. Domínio: Texto livre (ex: \\\"FIFA World Cup\\\", \\\"Copa América\\\").\"}",
         "name": "tournament",
         "type": "\"string\""
        },
        {
         "metadata": "{\"comment\":\"Cidade onde a partida foi realizada. Domínio: Texto livre (ex: \\\"Rio de Janeiro\\\", \\\"Berlin\\\").\"}",
         "name": "city",
         "type": "\"string\""
        },
        {
         "metadata": "{\"comment\":\"País onde a partida foi realizada. Domínio: Nomes de países ISO 3166 (ex: \\\"Brazil\\\", \\\"Spain\\\").\"}",
         "name": "country",
         "type": "\"string\""
        },
        {
         "metadata": "{\"comment\":\"Indica se o jogo foi em local neutro. Domínio: TRUE/FALSE.\"}",
         "name": "is_neutral",
         "type": "\"boolean\""
        }
       ],
       "type": "table"
      }
     },
     "output_type": "display_data"
    }
   ],
   "source": [
    "%sql\n",
    "-- Verificar a tabela silver.results\n",
    "SELECT * FROM silver.results LIMIT 20;"
   ]
  },
  {
   "cell_type": "code",
   "execution_count": 0,
   "metadata": {
    "application/vnd.databricks.v1+cell": {
     "cellMetadata": {
      "byteLimit": 2048000,
      "implicitDf": true,
      "rowLimit": 10000
     },
     "inputWidgets": {},
     "nuid": "5d88e47d-4a1e-4136-b9ea-a8b49b9fba33",
     "showTitle": false,
     "tableResultSettingsMap": {},
     "title": ""
    }
   },
   "outputs": [
    {
     "output_type": "display_data",
     "data": {
      "text/html": [
       "<style scoped>\n",
       "  .table-result-container {\n",
       "    max-height: 300px;\n",
       "    overflow: auto;\n",
       "  }\n",
       "  table, th, td {\n",
       "    border: 1px solid black;\n",
       "    border-collapse: collapse;\n",
       "  }\n",
       "  th, td {\n",
       "    padding: 5px;\n",
       "  }\n",
       "  th {\n",
       "    text-align: left;\n",
       "  }\n",
       "</style><div class='table-result-container'><table class='table-result'><thead style='background-color: white'><tr><th>match_id</th><th>match_date</th><th>home_team</th><th>away_team</th><th>home_score</th><th>away_score</th><th>tournament</th><th>city</th><th>country</th><th>is_neutral</th></tr></thead><tbody><tr><td>1916-07-02_Chile_Uruguay_0_4</td><td>1916-07-02</td><td>Chile</td><td>Uruguay</td><td>0</td><td>4</td><td>Copa América</td><td>Buenos Aires</td><td>Argentina</td><td>true</td></tr><tr><td>1916-07-06_Argentina_Chile_6_1</td><td>1916-07-06</td><td>Argentina</td><td>Chile</td><td>6</td><td>1</td><td>Copa América</td><td>Buenos Aires</td><td>Argentina</td><td>false</td></tr><tr><td>1916-07-08_Brazil_Chile_1_1</td><td>1916-07-08</td><td>Brazil</td><td>Chile</td><td>1</td><td>1</td><td>Copa América</td><td>Buenos Aires</td><td>Argentina</td><td>true</td></tr><tr><td>1916-07-10_Argentina_Brazil_1_1</td><td>1916-07-10</td><td>Argentina</td><td>Brazil</td><td>1</td><td>1</td><td>Copa América</td><td>Buenos Aires</td><td>Argentina</td><td>false</td></tr><tr><td>1916-07-12_Brazil_Uruguay_1_2</td><td>1916-07-12</td><td>Brazil</td><td>Uruguay</td><td>1</td><td>2</td><td>Copa América</td><td>Buenos Aires</td><td>Argentina</td><td>true</td></tr><tr><td>1916-07-17_Argentina_Uruguay_0_0</td><td>1916-07-17</td><td>Argentina</td><td>Uruguay</td><td>0</td><td>0</td><td>Copa América</td><td>Avellaneda</td><td>Argentina</td><td>false</td></tr><tr><td>1917-09-30_Uruguay_Chile_4_0</td><td>1917-09-30</td><td>Uruguay</td><td>Chile</td><td>4</td><td>0</td><td>Copa América</td><td>Montevideo</td><td>Uruguay</td><td>false</td></tr><tr><td>1917-10-03_Argentina_Brazil_4_2</td><td>1917-10-03</td><td>Argentina</td><td>Brazil</td><td>4</td><td>2</td><td>Copa América</td><td>Montevideo</td><td>Uruguay</td><td>true</td></tr><tr><td>1917-10-06_Argentina_Chile_1_0</td><td>1917-10-06</td><td>Argentina</td><td>Chile</td><td>1</td><td>0</td><td>Copa América</td><td>Montevideo</td><td>Uruguay</td><td>true</td></tr><tr><td>1917-10-07_Uruguay_Brazil_4_0</td><td>1917-10-07</td><td>Uruguay</td><td>Brazil</td><td>4</td><td>0</td><td>Copa América</td><td>Montevideo</td><td>Uruguay</td><td>false</td></tr><tr><td>1917-10-12_Brazil_Chile_5_0</td><td>1917-10-12</td><td>Brazil</td><td>Chile</td><td>5</td><td>0</td><td>Copa América</td><td>Montevideo</td><td>Uruguay</td><td>true</td></tr><tr><td>1917-10-14_Uruguay_Argentina_1_0</td><td>1917-10-14</td><td>Uruguay</td><td>Argentina</td><td>1</td><td>0</td><td>Copa América</td><td>Montevideo</td><td>Uruguay</td><td>false</td></tr><tr><td>1919-05-11_Brazil_Chile_6_0</td><td>1919-05-11</td><td>Brazil</td><td>Chile</td><td>6</td><td>0</td><td>Copa América</td><td>Rio de Janeiro</td><td>Brazil</td><td>false</td></tr><tr><td>1919-05-13_Argentina_Uruguay_2_3</td><td>1919-05-13</td><td>Argentina</td><td>Uruguay</td><td>2</td><td>3</td><td>Copa América</td><td>Rio de Janeiro</td><td>Brazil</td><td>true</td></tr><tr><td>1919-05-17_Chile_Uruguay_0_2</td><td>1919-05-17</td><td>Chile</td><td>Uruguay</td><td>0</td><td>2</td><td>Copa América</td><td>Rio de Janeiro</td><td>Brazil</td><td>true</td></tr><tr><td>1919-05-18_Brazil_Argentina_3_1</td><td>1919-05-18</td><td>Brazil</td><td>Argentina</td><td>3</td><td>1</td><td>Copa América</td><td>Rio de Janeiro</td><td>Brazil</td><td>false</td></tr><tr><td>1919-05-22_Argentina_Chile_4_1</td><td>1919-05-22</td><td>Argentina</td><td>Chile</td><td>4</td><td>1</td><td>Copa América</td><td>Rio de Janeiro</td><td>Brazil</td><td>true</td></tr><tr><td>1919-05-26_Brazil_Uruguay_2_2</td><td>1919-05-26</td><td>Brazil</td><td>Uruguay</td><td>2</td><td>2</td><td>Copa América</td><td>Rio de Janeiro</td><td>Brazil</td><td>false</td></tr><tr><td>1919-05-29_Brazil_Uruguay_1_0</td><td>1919-05-29</td><td>Brazil</td><td>Uruguay</td><td>1</td><td>0</td><td>Copa América</td><td>Rio de Janeiro</td><td>Brazil</td><td>false</td></tr><tr><td>1920-09-11_Chile_Brazil_0_1</td><td>1920-09-11</td><td>Chile</td><td>Brazil</td><td>0</td><td>1</td><td>Copa América</td><td>Viña del Mar</td><td>Chile</td><td>false</td></tr><tr><td>1920-09-12_Uruguay_Argentina_1_1</td><td>1920-09-12</td><td>Uruguay</td><td>Argentina</td><td>1</td><td>1</td><td>Copa América</td><td>Viña del Mar</td><td>Chile</td><td>true</td></tr><tr><td>1920-09-18_Brazil_Uruguay_0_6</td><td>1920-09-18</td><td>Brazil</td><td>Uruguay</td><td>0</td><td>6</td><td>Copa América</td><td>Viña del Mar</td><td>Chile</td><td>true</td></tr><tr><td>1920-09-20_Chile_Argentina_1_1</td><td>1920-09-20</td><td>Chile</td><td>Argentina</td><td>1</td><td>1</td><td>Copa América</td><td>Viña del Mar</td><td>Chile</td><td>false</td></tr><tr><td>1920-09-25_Argentina_Brazil_2_0</td><td>1920-09-25</td><td>Argentina</td><td>Brazil</td><td>2</td><td>0</td><td>Copa América</td><td>Viña del Mar</td><td>Chile</td><td>true</td></tr><tr><td>1920-10-03_Chile_Uruguay_1_2</td><td>1920-10-03</td><td>Chile</td><td>Uruguay</td><td>1</td><td>2</td><td>Copa América</td><td>Viña del Mar</td><td>Chile</td><td>false</td></tr><tr><td>1921-10-02_Argentina_Brazil_1_0</td><td>1921-10-02</td><td>Argentina</td><td>Brazil</td><td>1</td><td>0</td><td>Copa América</td><td>Buenos Aires</td><td>Argentina</td><td>false</td></tr><tr><td>1921-10-09_Paraguay_Uruguay_2_1</td><td>1921-10-09</td><td>Paraguay</td><td>Uruguay</td><td>2</td><td>1</td><td>Copa América</td><td>Buenos Aires</td><td>Argentina</td><td>true</td></tr><tr><td>1921-10-12_Brazil_Paraguay_3_0</td><td>1921-10-12</td><td>Brazil</td><td>Paraguay</td><td>3</td><td>0</td><td>Copa América</td><td>Buenos Aires</td><td>Argentina</td><td>true</td></tr><tr><td>1921-10-16_Argentina_Paraguay_3_0</td><td>1921-10-16</td><td>Argentina</td><td>Paraguay</td><td>3</td><td>0</td><td>Copa América</td><td>Buenos Aires</td><td>Argentina</td><td>false</td></tr><tr><td>1921-10-23_Brazil_Uruguay_1_2</td><td>1921-10-23</td><td>Brazil</td><td>Uruguay</td><td>1</td><td>2</td><td>Copa América</td><td>Buenos Aires</td><td>Argentina</td><td>true</td></tr><tr><td>1921-10-30_Argentina_Uruguay_1_0</td><td>1921-10-30</td><td>Argentina</td><td>Uruguay</td><td>1</td><td>0</td><td>Copa América</td><td>Buenos Aires</td><td>Argentina</td><td>false</td></tr><tr><td>1922-09-17_Brazil_Chile_1_1</td><td>1922-09-17</td><td>Brazil</td><td>Chile</td><td>1</td><td>1</td><td>Copa América</td><td>Rio de Janeiro</td><td>Brazil</td><td>false</td></tr><tr><td>1922-09-23_Chile_Uruguay_0_2</td><td>1922-09-23</td><td>Chile</td><td>Uruguay</td><td>0</td><td>2</td><td>Copa América</td><td>Rio de Janeiro</td><td>Brazil</td><td>true</td></tr><tr><td>1922-09-24_Brazil_Paraguay_1_1</td><td>1922-09-24</td><td>Brazil</td><td>Paraguay</td><td>1</td><td>1</td><td>Copa América</td><td>Rio de Janeiro</td><td>Brazil</td><td>false</td></tr><tr><td>1922-09-28_Argentina_Chile_4_0</td><td>1922-09-28</td><td>Argentina</td><td>Chile</td><td>4</td><td>0</td><td>Copa América</td><td>Rio de Janeiro</td><td>Brazil</td><td>true</td></tr><tr><td>1922-10-01_Brazil_Uruguay_0_0</td><td>1922-10-01</td><td>Brazil</td><td>Uruguay</td><td>0</td><td>0</td><td>Copa América</td><td>Rio de Janeiro</td><td>Brazil</td><td>false</td></tr><tr><td>1922-10-05_Chile_Paraguay_0_3</td><td>1922-10-05</td><td>Chile</td><td>Paraguay</td><td>0</td><td>3</td><td>Copa América</td><td>Rio de Janeiro</td><td>Brazil</td><td>true</td></tr><tr><td>1922-10-08_Argentina_Uruguay_0_1</td><td>1922-10-08</td><td>Argentina</td><td>Uruguay</td><td>0</td><td>1</td><td>Copa América</td><td>Rio de Janeiro</td><td>Brazil</td><td>true</td></tr><tr><td>1922-10-12_Paraguay_Uruguay_1_0</td><td>1922-10-12</td><td>Paraguay</td><td>Uruguay</td><td>1</td><td>0</td><td>Copa América</td><td>Rio de Janeiro</td><td>Brazil</td><td>true</td></tr><tr><td>1922-10-15_Brazil_Argentina_2_0</td><td>1922-10-15</td><td>Brazil</td><td>Argentina</td><td>2</td><td>0</td><td>Copa América</td><td>Rio de Janeiro</td><td>Brazil</td><td>false</td></tr><tr><td>1922-10-18_Argentina_Paraguay_2_0</td><td>1922-10-18</td><td>Argentina</td><td>Paraguay</td><td>2</td><td>0</td><td>Copa América</td><td>Rio de Janeiro</td><td>Brazil</td><td>true</td></tr><tr><td>1922-11-06_Brazil_Paraguay_3_0</td><td>1922-11-06</td><td>Brazil</td><td>Paraguay</td><td>3</td><td>0</td><td>Copa América</td><td>Rio de Janeiro</td><td>Brazil</td><td>false</td></tr><tr><td>1923-10-29_Argentina_Paraguay_4_3</td><td>1923-10-29</td><td>Argentina</td><td>Paraguay</td><td>4</td><td>3</td><td>Copa América</td><td>Montevideo</td><td>Uruguay</td><td>true</td></tr><tr><td>1923-11-04_Uruguay_Paraguay_2_0</td><td>1923-11-04</td><td>Uruguay</td><td>Paraguay</td><td>2</td><td>0</td><td>Copa América</td><td>Montevideo</td><td>Uruguay</td><td>false</td></tr><tr><td>1923-11-11_Brazil_Paraguay_0_1</td><td>1923-11-11</td><td>Brazil</td><td>Paraguay</td><td>0</td><td>1</td><td>Copa América</td><td>Montevideo</td><td>Uruguay</td><td>true</td></tr><tr><td>1923-11-18_Argentina_Brazil_2_1</td><td>1923-11-18</td><td>Argentina</td><td>Brazil</td><td>2</td><td>1</td><td>Copa América</td><td>Montevideo</td><td>Uruguay</td><td>true</td></tr><tr><td>1923-11-25_Uruguay_Brazil_2_1</td><td>1923-11-25</td><td>Uruguay</td><td>Brazil</td><td>2</td><td>1</td><td>Copa América</td><td>Montevideo</td><td>Uruguay</td><td>false</td></tr><tr><td>1923-12-02_Uruguay_Argentina_2_0</td><td>1923-12-02</td><td>Uruguay</td><td>Argentina</td><td>2</td><td>0</td><td>Copa América</td><td>Montevideo</td><td>Uruguay</td><td>false</td></tr><tr><td>1924-10-12_Argentina_Paraguay_0_0</td><td>1924-10-12</td><td>Argentina</td><td>Paraguay</td><td>0</td><td>0</td><td>Copa América</td><td>Montevideo</td><td>Uruguay</td><td>true</td></tr><tr><td>1924-10-19_Uruguay_Chile_5_0</td><td>1924-10-19</td><td>Uruguay</td><td>Chile</td><td>5</td><td>0</td><td>Copa América</td><td>Montevideo</td><td>Uruguay</td><td>false</td></tr><tr><td>1924-10-25_Argentina_Chile_2_0</td><td>1924-10-25</td><td>Argentina</td><td>Chile</td><td>2</td><td>0</td><td>Copa América</td><td>Montevideo</td><td>Uruguay</td><td>true</td></tr><tr><td>1924-10-26_Uruguay_Paraguay_3_1</td><td>1924-10-26</td><td>Uruguay</td><td>Paraguay</td><td>3</td><td>1</td><td>Copa América</td><td>Montevideo</td><td>Uruguay</td><td>false</td></tr><tr><td>1924-11-01_Chile_Paraguay_1_3</td><td>1924-11-01</td><td>Chile</td><td>Paraguay</td><td>1</td><td>3</td><td>Copa América</td><td>Montevideo</td><td>Uruguay</td><td>true</td></tr><tr><td>1924-11-02_Uruguay_Argentina_0_0</td><td>1924-11-02</td><td>Uruguay</td><td>Argentina</td><td>0</td><td>0</td><td>Copa América</td><td>Montevideo</td><td>Uruguay</td><td>false</td></tr><tr><td>1925-11-29_Argentina_Paraguay_2_0</td><td>1925-11-29</td><td>Argentina</td><td>Paraguay</td><td>2</td><td>0</td><td>Copa América</td><td>Buenos Aires</td><td>Argentina</td><td>false</td></tr><tr><td>1925-12-06_Brazil_Paraguay_5_2</td><td>1925-12-06</td><td>Brazil</td><td>Paraguay</td><td>5</td><td>2</td><td>Copa América</td><td>Buenos Aires</td><td>Argentina</td><td>true</td></tr><tr><td>1925-12-13_Argentina_Brazil_4_1</td><td>1925-12-13</td><td>Argentina</td><td>Brazil</td><td>4</td><td>1</td><td>Copa América</td><td>Buenos Aires</td><td>Argentina</td><td>false</td></tr><tr><td>1925-12-17_Brazil_Paraguay_3_1</td><td>1925-12-17</td><td>Brazil</td><td>Paraguay</td><td>3</td><td>1</td><td>Copa América</td><td>Buenos Aires</td><td>Argentina</td><td>true</td></tr><tr><td>1925-12-20_Argentina_Paraguay_3_1</td><td>1925-12-20</td><td>Argentina</td><td>Paraguay</td><td>3</td><td>1</td><td>Copa América</td><td>Buenos Aires</td><td>Argentina</td><td>false</td></tr><tr><td>1925-12-25_Argentina_Brazil_2_2</td><td>1925-12-25</td><td>Argentina</td><td>Brazil</td><td>2</td><td>2</td><td>Copa América</td><td>Buenos Aires</td><td>Argentina</td><td>false</td></tr><tr><td>1926-10-12_Chile_Bolivia_7_1</td><td>1926-10-12</td><td>Chile</td><td>Bolivia</td><td>7</td><td>1</td><td>Copa América</td><td>Santiago</td><td>Chile</td><td>false</td></tr><tr><td>1926-10-16_Argentina_Bolivia_5_0</td><td>1926-10-16</td><td>Argentina</td><td>Bolivia</td><td>5</td><td>0</td><td>Copa América</td><td>Santiago</td><td>Chile</td><td>true</td></tr><tr><td>1926-10-17_Chile_Uruguay_1_3</td><td>1926-10-17</td><td>Chile</td><td>Uruguay</td><td>1</td><td>3</td><td>Copa América</td><td>Santiago</td><td>Chile</td><td>false</td></tr><tr><td>1926-10-20_Argentina_Paraguay_8_0</td><td>1926-10-20</td><td>Argentina</td><td>Paraguay</td><td>8</td><td>0</td><td>Copa América</td><td>Santiago</td><td>Chile</td><td>true</td></tr><tr><td>1926-10-23_Bolivia_Paraguay_1_6</td><td>1926-10-23</td><td>Bolivia</td><td>Paraguay</td><td>1</td><td>6</td><td>Copa América</td><td>Santiago</td><td>Chile</td><td>true</td></tr><tr><td>1926-10-24_Argentina_Uruguay_0_2</td><td>1926-10-24</td><td>Argentina</td><td>Uruguay</td><td>0</td><td>2</td><td>Copa América</td><td>Santiago</td><td>Chile</td><td>true</td></tr><tr><td>1926-10-28_Bolivia_Uruguay_0_6</td><td>1926-10-28</td><td>Bolivia</td><td>Uruguay</td><td>0</td><td>6</td><td>Copa América</td><td>Santiago</td><td>Chile</td><td>true</td></tr><tr><td>1926-10-31_Chile_Argentina_1_1</td><td>1926-10-31</td><td>Chile</td><td>Argentina</td><td>1</td><td>1</td><td>Copa América</td><td>Santiago</td><td>Chile</td><td>false</td></tr><tr><td>1926-11-01_Paraguay_Uruguay_1_6</td><td>1926-11-01</td><td>Paraguay</td><td>Uruguay</td><td>1</td><td>6</td><td>Copa América</td><td>Santiago</td><td>Chile</td><td>true</td></tr><tr><td>1926-11-03_Chile_Paraguay_5_1</td><td>1926-11-03</td><td>Chile</td><td>Paraguay</td><td>5</td><td>1</td><td>Copa América</td><td>Santiago</td><td>Chile</td><td>false</td></tr><tr><td>1927-10-30_Argentina_Bolivia_7_1</td><td>1927-10-30</td><td>Argentina</td><td>Bolivia</td><td>7</td><td>1</td><td>Copa América</td><td>Lima</td><td>Peru</td><td>true</td></tr><tr><td>1927-11-01_Peru_Uruguay_0_4</td><td>1927-11-01</td><td>Peru</td><td>Uruguay</td><td>0</td><td>4</td><td>Copa América</td><td>Lima</td><td>Peru</td><td>false</td></tr><tr><td>1927-11-06_Bolivia_Uruguay_0_9</td><td>1927-11-06</td><td>Bolivia</td><td>Uruguay</td><td>0</td><td>9</td><td>Copa América</td><td>Lima</td><td>Peru</td><td>true</td></tr><tr><td>1927-11-13_Peru_Bolivia_3_2</td><td>1927-11-13</td><td>Peru</td><td>Bolivia</td><td>3</td><td>2</td><td>Copa América</td><td>Lima</td><td>Peru</td><td>false</td></tr><tr><td>1927-11-20_Argentina_Uruguay_3_2</td><td>1927-11-20</td><td>Argentina</td><td>Uruguay</td><td>3</td><td>2</td><td>Copa América</td><td>Lima</td><td>Peru</td><td>true</td></tr><tr><td>1927-11-27_Peru_Argentina_1_5</td><td>1927-11-27</td><td>Peru</td><td>Argentina</td><td>1</td><td>5</td><td>Copa América</td><td>Lima</td><td>Peru</td><td>false</td></tr><tr><td>1929-11-01_Paraguay_Uruguay_3_0</td><td>1929-11-01</td><td>Paraguay</td><td>Uruguay</td><td>3</td><td>0</td><td>Copa América</td><td>Buenos Aires</td><td>Argentina</td><td>true</td></tr><tr><td>1929-11-03_Argentina_Peru_3_0</td><td>1929-11-03</td><td>Argentina</td><td>Peru</td><td>3</td><td>0</td><td>Copa América</td><td>Buenos Aires</td><td>Argentina</td><td>false</td></tr><tr><td>1929-11-10_Argentina_Paraguay_4_1</td><td>1929-11-10</td><td>Argentina</td><td>Paraguay</td><td>4</td><td>1</td><td>Copa América</td><td>Buenos Aires</td><td>Argentina</td><td>false</td></tr><tr><td>1929-11-11_Peru_Uruguay_1_4</td><td>1929-11-11</td><td>Peru</td><td>Uruguay</td><td>1</td><td>4</td><td>Copa América</td><td>Buenos Aires</td><td>Argentina</td><td>true</td></tr><tr><td>1929-11-16_Paraguay_Peru_5_0</td><td>1929-11-16</td><td>Paraguay</td><td>Peru</td><td>5</td><td>0</td><td>Copa América</td><td>Avellaneda</td><td>Argentina</td><td>true</td></tr><tr><td>1929-11-17_Argentina_Uruguay_2_0</td><td>1929-11-17</td><td>Argentina</td><td>Uruguay</td><td>2</td><td>0</td><td>Copa América</td><td>Buenos Aires</td><td>Argentina</td><td>false</td></tr><tr><td>1935-01-06_Argentina_Chile_4_1</td><td>1935-01-06</td><td>Argentina</td><td>Chile</td><td>4</td><td>1</td><td>Copa América</td><td>Lima</td><td>Peru</td><td>true</td></tr><tr><td>1935-01-13_Peru_Uruguay_0_1</td><td>1935-01-13</td><td>Peru</td><td>Uruguay</td><td>0</td><td>1</td><td>Copa América</td><td>Lima</td><td>Peru</td><td>false</td></tr><tr><td>1935-01-18_Chile_Uruguay_1_2</td><td>1935-01-18</td><td>Chile</td><td>Uruguay</td><td>1</td><td>2</td><td>Copa América</td><td>Lima</td><td>Peru</td><td>true</td></tr><tr><td>1935-01-20_Peru_Argentina_1_4</td><td>1935-01-20</td><td>Peru</td><td>Argentina</td><td>1</td><td>4</td><td>Copa América</td><td>Lima</td><td>Peru</td><td>false</td></tr><tr><td>1935-01-26_Peru_Chile_1_0</td><td>1935-01-26</td><td>Peru</td><td>Chile</td><td>1</td><td>0</td><td>Copa América</td><td>Lima</td><td>Peru</td><td>false</td></tr><tr><td>1935-01-27_Argentina_Uruguay_0_3</td><td>1935-01-27</td><td>Argentina</td><td>Uruguay</td><td>0</td><td>3</td><td>Copa América</td><td>Lima</td><td>Peru</td><td>true</td></tr><tr><td>1936-12-27_Brazil_Peru_3_2</td><td>1936-12-27</td><td>Brazil</td><td>Peru</td><td>3</td><td>2</td><td>Copa América</td><td>Buenos Aires</td><td>Argentina</td><td>true</td></tr><tr><td>1936-12-30_Argentina_Chile_2_1</td><td>1936-12-30</td><td>Argentina</td><td>Chile</td><td>2</td><td>1</td><td>Copa América</td><td>Buenos Aires</td><td>Argentina</td><td>false</td></tr><tr><td>1937-01-02_Paraguay_Uruguay_4_2</td><td>1937-01-02</td><td>Paraguay</td><td>Uruguay</td><td>4</td><td>2</td><td>Copa América</td><td>Buenos Aires</td><td>Argentina</td><td>true</td></tr><tr><td>1937-01-03_Brazil_Chile_6_4</td><td>1937-01-03</td><td>Brazil</td><td>Chile</td><td>6</td><td>4</td><td>Copa América</td><td>Buenos Aires</td><td>Argentina</td><td>true</td></tr><tr><td>1937-01-06_Peru_Uruguay_2_4</td><td>1937-01-06</td><td>Peru</td><td>Uruguay</td><td>2</td><td>4</td><td>Copa América</td><td>Buenos Aires</td><td>Argentina</td><td>true</td></tr><tr><td>1937-01-09_Argentina_Paraguay_6_1</td><td>1937-01-09</td><td>Argentina</td><td>Paraguay</td><td>6</td><td>1</td><td>Copa América</td><td>Buenos Aires</td><td>Argentina</td><td>false</td></tr><tr><td>1937-01-10_Chile_Uruguay_3_0</td><td>1937-01-10</td><td>Chile</td><td>Uruguay</td><td>3</td><td>0</td><td>Copa América</td><td>Buenos Aires</td><td>Argentina</td><td>true</td></tr><tr><td>1937-01-13_Brazil_Paraguay_5_0</td><td>1937-01-13</td><td>Brazil</td><td>Paraguay</td><td>5</td><td>0</td><td>Copa América</td><td>Buenos Aires</td><td>Argentina</td><td>true</td></tr><tr><td>1937-01-16_Argentina_Peru_1_0</td><td>1937-01-16</td><td>Argentina</td><td>Peru</td><td>1</td><td>0</td><td>Copa América</td><td>Buenos Aires</td><td>Argentina</td><td>false</td></tr><tr><td>1937-01-17_Chile_Paraguay_2_3</td><td>1937-01-17</td><td>Chile</td><td>Paraguay</td><td>2</td><td>3</td><td>Copa América</td><td>Buenos Aires</td><td>Argentina</td><td>true</td></tr><tr><td>1937-01-19_Brazil_Uruguay_3_2</td><td>1937-01-19</td><td>Brazil</td><td>Uruguay</td><td>3</td><td>2</td><td>Copa América</td><td>Buenos Aires</td><td>Argentina</td><td>true</td></tr><tr><td>1937-01-21_Chile_Peru_2_2</td><td>1937-01-21</td><td>Chile</td><td>Peru</td><td>2</td><td>2</td><td>Copa América</td><td>Buenos Aires</td><td>Argentina</td><td>true</td></tr><tr><td>1937-01-23_Argentina_Uruguay_2_3</td><td>1937-01-23</td><td>Argentina</td><td>Uruguay</td><td>2</td><td>3</td><td>Copa América</td><td>Buenos Aires</td><td>Argentina</td><td>false</td></tr><tr><td>1937-01-24_Paraguay_Peru_0_1</td><td>1937-01-24</td><td>Paraguay</td><td>Peru</td><td>0</td><td>1</td><td>Copa América</td><td>Buenos Aires</td><td>Argentina</td><td>true</td></tr><tr><td>1937-01-30_Argentina_Brazil_1_0</td><td>1937-01-30</td><td>Argentina</td><td>Brazil</td><td>1</td><td>0</td><td>Copa América</td><td>Buenos Aires</td><td>Argentina</td><td>false</td></tr><tr><td>1937-02-01_Argentina_Brazil_2_0</td><td>1937-02-01</td><td>Argentina</td><td>Brazil</td><td>2</td><td>0</td><td>Copa América</td><td>Buenos Aires</td><td>Argentina</td><td>false</td></tr><tr><td>1939-01-15_Chile_Paraguay_1_5</td><td>1939-01-15</td><td>Chile</td><td>Paraguay</td><td>1</td><td>5</td><td>Copa América</td><td>Lima</td><td>Peru</td><td>true</td></tr><tr><td>1939-01-15_Peru_Ecuador_5_2</td><td>1939-01-15</td><td>Peru</td><td>Ecuador</td><td>5</td><td>2</td><td>Copa América</td><td>Lima</td><td>Peru</td><td>false</td></tr><tr><td>1939-01-22_Ecuador_Uruguay_0_6</td><td>1939-01-22</td><td>Ecuador</td><td>Uruguay</td><td>0</td><td>6</td><td>Copa América</td><td>Lima</td><td>Peru</td><td>true</td></tr><tr><td>1939-01-22_Peru_Chile_3_1</td><td>1939-01-22</td><td>Peru</td><td>Chile</td><td>3</td><td>1</td><td>Copa América</td><td>Lima</td><td>Peru</td><td>false</td></tr><tr><td>1939-01-29_Chile_Uruguay_2_3</td><td>1939-01-29</td><td>Chile</td><td>Uruguay</td><td>2</td><td>3</td><td>Copa América</td><td>Lima</td><td>Peru</td><td>true</td></tr><tr><td>1939-01-29_Peru_Paraguay_3_0</td><td>1939-01-29</td><td>Peru</td><td>Paraguay</td><td>3</td><td>0</td><td>Copa América</td><td>Lima</td><td>Peru</td><td>false</td></tr><tr><td>1939-02-05_Chile_Ecuador_4_1</td><td>1939-02-05</td><td>Chile</td><td>Ecuador</td><td>4</td><td>1</td><td>Copa América</td><td>Lima</td><td>Peru</td><td>true</td></tr><tr><td>1939-02-05_Paraguay_Uruguay_1_3</td><td>1939-02-05</td><td>Paraguay</td><td>Uruguay</td><td>1</td><td>3</td><td>Copa América</td><td>Lima</td><td>Peru</td><td>true</td></tr><tr><td>1939-02-12_Ecuador_Paraguay_1_3</td><td>1939-02-12</td><td>Ecuador</td><td>Paraguay</td><td>1</td><td>3</td><td>Copa América</td><td>Lima</td><td>Peru</td><td>true</td></tr><tr><td>1939-02-12_Peru_Uruguay_2_1</td><td>1939-02-12</td><td>Peru</td><td>Uruguay</td><td>2</td><td>1</td><td>Copa América</td><td>Lima</td><td>Peru</td><td>false</td></tr><tr><td>1941-02-02_Chile_Ecuador_5_0</td><td>1941-02-02</td><td>Chile</td><td>Ecuador</td><td>5</td><td>0</td><td>Copa América</td><td>Santiago</td><td>Chile</td><td>false</td></tr><tr><td>1941-02-09_Chile_Peru_1_0</td><td>1941-02-09</td><td>Chile</td><td>Peru</td><td>1</td><td>0</td><td>Copa América</td><td>Santiago</td><td>Chile</td><td>false</td></tr><tr><td>1941-02-09_Ecuador_Uruguay_0_6</td><td>1941-02-09</td><td>Ecuador</td><td>Uruguay</td><td>0</td><td>6</td><td>Copa América</td><td>Santiago</td><td>Chile</td><td>true</td></tr><tr><td>1941-02-12_Argentina_Peru_2_1</td><td>1941-02-12</td><td>Argentina</td><td>Peru</td><td>2</td><td>1</td><td>Copa América</td><td>Santiago</td><td>Chile</td><td>true</td></tr><tr><td>1941-02-16_Argentina_Ecuador_6_1</td><td>1941-02-16</td><td>Argentina</td><td>Ecuador</td><td>6</td><td>1</td><td>Copa América</td><td>Santiago</td><td>Chile</td><td>true</td></tr><tr><td>1941-02-16_Chile_Uruguay_0_2</td><td>1941-02-16</td><td>Chile</td><td>Uruguay</td><td>0</td><td>2</td><td>Copa América</td><td>Santiago</td><td>Chile</td><td>false</td></tr><tr><td>1941-02-23_Argentina_Uruguay_1_0</td><td>1941-02-23</td><td>Argentina</td><td>Uruguay</td><td>1</td><td>0</td><td>Copa América</td><td>Santiago</td><td>Chile</td><td>true</td></tr><tr><td>1941-02-23_Ecuador_Peru_0_4</td><td>1941-02-23</td><td>Ecuador</td><td>Peru</td><td>0</td><td>4</td><td>Copa América</td><td>Santiago</td><td>Chile</td><td>true</td></tr><tr><td>1941-02-26_Peru_Uruguay_0_2</td><td>1941-02-26</td><td>Peru</td><td>Uruguay</td><td>0</td><td>2</td><td>Copa América</td><td>Santiago</td><td>Chile</td><td>true</td></tr><tr><td>1941-03-04_Chile_Argentina_0_1</td><td>1941-03-04</td><td>Chile</td><td>Argentina</td><td>0</td><td>1</td><td>Copa América</td><td>Santiago</td><td>Chile</td><td>false</td></tr><tr><td>1942-01-10_Uruguay_Chile_6_1</td><td>1942-01-10</td><td>Uruguay</td><td>Chile</td><td>6</td><td>1</td><td>Copa América</td><td>Montevideo</td><td>Uruguay</td><td>false</td></tr><tr><td>1942-01-11_Argentina_Paraguay_4_3</td><td>1942-01-11</td><td>Argentina</td><td>Paraguay</td><td>4</td><td>3</td><td>Copa América</td><td>Montevideo</td><td>Uruguay</td><td>true</td></tr><tr><td>1942-01-14_Brazil_Chile_6_1</td><td>1942-01-14</td><td>Brazil</td><td>Chile</td><td>6</td><td>1</td><td>Copa América</td><td>Montevideo</td><td>Uruguay</td><td>true</td></tr><tr><td>1942-01-17_Argentina_Brazil_2_1</td><td>1942-01-17</td><td>Argentina</td><td>Brazil</td><td>2</td><td>1</td><td>Copa América</td><td>Montevideo</td><td>Uruguay</td><td>true</td></tr><tr><td>1942-01-18_Paraguay_Peru_1_1</td><td>1942-01-18</td><td>Paraguay</td><td>Peru</td><td>1</td><td>1</td><td>Copa América</td><td>Montevideo</td><td>Uruguay</td><td>true</td></tr><tr><td>1942-01-18_Uruguay_Ecuador_7_0</td><td>1942-01-18</td><td>Uruguay</td><td>Ecuador</td><td>7</td><td>0</td><td>Copa América</td><td>Montevideo</td><td>Uruguay</td><td>false</td></tr><tr><td>1942-01-21_Brazil_Peru_2_1</td><td>1942-01-21</td><td>Brazil</td><td>Peru</td><td>2</td><td>1</td><td>Copa América</td><td>Montevideo</td><td>Uruguay</td><td>true</td></tr><tr><td>1942-01-22_Argentina_Ecuador_12_0</td><td>1942-01-22</td><td>Argentina</td><td>Ecuador</td><td>12</td><td>0</td><td>Copa América</td><td>Montevideo</td><td>Uruguay</td><td>true</td></tr><tr><td>1942-01-22_Chile_Paraguay_0_2</td><td>1942-01-22</td><td>Chile</td><td>Paraguay</td><td>0</td><td>2</td><td>Copa América</td><td>Montevideo</td><td>Uruguay</td><td>true</td></tr><tr><td>1942-01-24_Uruguay_Brazil_1_0</td><td>1942-01-24</td><td>Uruguay</td><td>Brazil</td><td>1</td><td>0</td><td>Copa América</td><td>Montevideo</td><td>Uruguay</td><td>false</td></tr><tr><td>1942-01-25_Argentina_Peru_3_1</td><td>1942-01-25</td><td>Argentina</td><td>Peru</td><td>3</td><td>1</td><td>Copa América</td><td>Montevideo</td><td>Uruguay</td><td>true</td></tr><tr><td>1942-01-25_Ecuador_Paraguay_1_3</td><td>1942-01-25</td><td>Ecuador</td><td>Paraguay</td><td>1</td><td>3</td><td>Copa América</td><td>Montevideo</td><td>Uruguay</td><td>true</td></tr><tr><td>1942-01-28_Ecuador_Peru_1_2</td><td>1942-01-28</td><td>Ecuador</td><td>Peru</td><td>1</td><td>2</td><td>Copa América</td><td>Montevideo</td><td>Uruguay</td><td>true</td></tr><tr><td>1942-01-28_Uruguay_Paraguay_3_1</td><td>1942-01-28</td><td>Uruguay</td><td>Paraguay</td><td>3</td><td>1</td><td>Copa América</td><td>Montevideo</td><td>Uruguay</td><td>false</td></tr><tr><td>1942-01-31_Argentina_Chile_0_0</td><td>1942-01-31</td><td>Argentina</td><td>Chile</td><td>0</td><td>0</td><td>Copa América</td><td>Montevideo</td><td>Uruguay</td><td>true</td></tr><tr><td>1942-01-31_Brazil_Ecuador_5_1</td><td>1942-01-31</td><td>Brazil</td><td>Ecuador</td><td>5</td><td>1</td><td>Copa América</td><td>Montevideo</td><td>Uruguay</td><td>true</td></tr><tr><td>1942-02-01_Uruguay_Peru_3_0</td><td>1942-02-01</td><td>Uruguay</td><td>Peru</td><td>3</td><td>0</td><td>Copa América</td><td>Montevideo</td><td>Uruguay</td><td>false</td></tr><tr><td>1942-02-05_Brazil_Paraguay_1_1</td><td>1942-02-05</td><td>Brazil</td><td>Paraguay</td><td>1</td><td>1</td><td>Copa América</td><td>Montevideo</td><td>Uruguay</td><td>true</td></tr><tr><td>1942-02-05_Chile_Ecuador_2_1</td><td>1942-02-05</td><td>Chile</td><td>Ecuador</td><td>2</td><td>1</td><td>Copa América</td><td>Montevideo</td><td>Uruguay</td><td>true</td></tr><tr><td>1942-02-07_Chile_Peru_0_0</td><td>1942-02-07</td><td>Chile</td><td>Peru</td><td>0</td><td>0</td><td>Copa América</td><td>Montevideo</td><td>Uruguay</td><td>true</td></tr><tr><td>1942-02-07_Uruguay_Argentina_1_0</td><td>1942-02-07</td><td>Uruguay</td><td>Argentina</td><td>1</td><td>0</td><td>Copa América</td><td>Montevideo</td><td>Uruguay</td><td>false</td></tr><tr><td>1945-01-14_Chile_Ecuador_6_3</td><td>1945-01-14</td><td>Chile</td><td>Ecuador</td><td>6</td><td>3</td><td>Copa América</td><td>Santiago</td><td>Chile</td><td>false</td></tr><tr><td>1945-01-18_Argentina_Bolivia_4_0</td><td>1945-01-18</td><td>Argentina</td><td>Bolivia</td><td>4</td><td>0</td><td>Copa América</td><td>Santiago</td><td>Chile</td><td>true</td></tr><tr><td>1945-01-21_Brazil_Colombia_3_0</td><td>1945-01-21</td><td>Brazil</td><td>Colombia</td><td>3</td><td>0</td><td>Copa América</td><td>Santiago</td><td>Chile</td><td>true</td></tr><tr><td>1945-01-24_Chile_Bolivia_5_0</td><td>1945-01-24</td><td>Chile</td><td>Bolivia</td><td>5</td><td>0</td><td>Copa América</td><td>Santiago</td><td>Chile</td><td>false</td></tr><tr><td>1945-01-24_Ecuador_Uruguay_1_5</td><td>1945-01-24</td><td>Ecuador</td><td>Uruguay</td><td>1</td><td>5</td><td>Copa América</td><td>Santiago</td><td>Chile</td><td>true</td></tr><tr><td>1945-01-28_Bolivia_Brazil_0_2</td><td>1945-01-28</td><td>Bolivia</td><td>Brazil</td><td>0</td><td>2</td><td>Copa América</td><td>Santiago</td><td>Chile</td><td>true</td></tr><tr><td>1945-01-28_Colombia_Uruguay_0_7</td><td>1945-01-28</td><td>Colombia</td><td>Uruguay</td><td>0</td><td>7</td><td>Copa América</td><td>Santiago</td><td>Chile</td><td>true</td></tr><tr><td>1945-01-31_Argentina_Ecuador_4_2</td><td>1945-01-31</td><td>Argentina</td><td>Ecuador</td><td>4</td><td>2</td><td>Copa América</td><td>Santiago</td><td>Chile</td><td>true</td></tr><tr><td>1945-01-31_Chile_Colombia_2_0</td><td>1945-01-31</td><td>Chile</td><td>Colombia</td><td>2</td><td>0</td><td>Copa América</td><td>Santiago</td><td>Chile</td><td>false</td></tr><tr><td>1945-02-07_Argentina_Colombia_9_1</td><td>1945-02-07</td><td>Argentina</td><td>Colombia</td><td>9</td><td>1</td><td>Copa América</td><td>Santiago</td><td>Chile</td><td>true</td></tr><tr><td>1945-02-07_Brazil_Uruguay_3_0</td><td>1945-02-07</td><td>Brazil</td><td>Uruguay</td><td>3</td><td>0</td><td>Copa América</td><td>Santiago</td><td>Chile</td><td>true</td></tr><tr><td>1945-02-11_Bolivia_Ecuador_0_0</td><td>1945-02-11</td><td>Bolivia</td><td>Ecuador</td><td>0</td><td>0</td><td>Copa América</td><td>Santiago</td><td>Chile</td><td>true</td></tr><tr><td>1945-02-11_Chile_Argentina_1_1</td><td>1945-02-11</td><td>Chile</td><td>Argentina</td><td>1</td><td>1</td><td>Copa América</td><td>Santiago</td><td>Chile</td><td>false</td></tr><tr><td>1945-02-15_Argentina_Brazil_3_1</td><td>1945-02-15</td><td>Argentina</td><td>Brazil</td><td>3</td><td>1</td><td>Copa América</td><td>Santiago</td><td>Chile</td><td>true</td></tr><tr><td>1945-02-15_Bolivia_Uruguay_0_2</td><td>1945-02-15</td><td>Bolivia</td><td>Uruguay</td><td>0</td><td>2</td><td>Copa América</td><td>Santiago</td><td>Chile</td><td>true</td></tr><tr><td>1945-02-18_Chile_Uruguay_1_0</td><td>1945-02-18</td><td>Chile</td><td>Uruguay</td><td>1</td><td>0</td><td>Copa América</td><td>Santiago</td><td>Chile</td><td>false</td></tr><tr><td>1945-02-18_Colombia_Ecuador_3_1</td><td>1945-02-18</td><td>Colombia</td><td>Ecuador</td><td>3</td><td>1</td><td>Copa América</td><td>Santiago</td><td>Chile</td><td>true</td></tr><tr><td>1945-02-21_Bolivia_Colombia_3_3</td><td>1945-02-21</td><td>Bolivia</td><td>Colombia</td><td>3</td><td>3</td><td>Copa América</td><td>Santiago</td><td>Chile</td><td>true</td></tr><tr><td>1945-02-21_Brazil_Ecuador_9_2</td><td>1945-02-21</td><td>Brazil</td><td>Ecuador</td><td>9</td><td>2</td><td>Copa América</td><td>Santiago</td><td>Chile</td><td>true</td></tr><tr><td>1945-02-25_Argentina_Uruguay_1_0</td><td>1945-02-25</td><td>Argentina</td><td>Uruguay</td><td>1</td><td>0</td><td>Copa América</td><td>Santiago</td><td>Chile</td><td>true</td></tr><tr><td>1945-02-28_Chile_Brazil_0_1</td><td>1945-02-28</td><td>Chile</td><td>Brazil</td><td>0</td><td>1</td><td>Copa América</td><td>Santiago</td><td>Chile</td><td>false</td></tr><tr><td>1946-01-12_Argentina_Paraguay_2_0</td><td>1946-01-12</td><td>Argentina</td><td>Paraguay</td><td>2</td><td>0</td><td>Copa América</td><td>Buenos Aires</td><td>Argentina</td><td>false</td></tr><tr><td>1946-01-16_Bolivia_Brazil_0_3</td><td>1946-01-16</td><td>Bolivia</td><td>Brazil</td><td>0</td><td>3</td><td>Copa América</td><td>Buenos Aires</td><td>Argentina</td><td>true</td></tr><tr><td>1946-01-16_Chile_Uruguay_0_1</td><td>1946-01-16</td><td>Chile</td><td>Uruguay</td><td>0</td><td>1</td><td>Copa América</td><td>Buenos Aires</td><td>Argentina</td><td>true</td></tr><tr><td>1946-01-19_Argentina_Bolivia_7_1</td><td>1946-01-19</td><td>Argentina</td><td>Bolivia</td><td>7</td><td>1</td><td>Copa América</td><td>Buenos Aires</td><td>Argentina</td><td>false</td></tr><tr><td>1946-01-19_Chile_Paraguay_2_1</td><td>1946-01-19</td><td>Chile</td><td>Paraguay</td><td>2</td><td>1</td><td>Copa América</td><td>Buenos Aires</td><td>Argentina</td><td>true</td></tr><tr><td>1946-01-23_Brazil_Uruguay_4_3</td><td>1946-01-23</td><td>Brazil</td><td>Uruguay</td><td>4</td><td>3</td><td>Copa América</td><td>Buenos Aires</td><td>Argentina</td><td>true</td></tr><tr><td>1946-01-26_Argentina_Chile_3_1</td><td>1946-01-26</td><td>Argentina</td><td>Chile</td><td>3</td><td>1</td><td>Copa América</td><td>Buenos Aires</td><td>Argentina</td><td>false</td></tr><tr><td>1946-01-26_Bolivia_Paraguay_2_4</td><td>1946-01-26</td><td>Bolivia</td><td>Paraguay</td><td>2</td><td>4</td><td>Copa América</td><td>Buenos Aires</td><td>Argentina</td><td>true</td></tr><tr><td>1946-01-29_Bolivia_Uruguay_0_5</td><td>1946-01-29</td><td>Bolivia</td><td>Uruguay</td><td>0</td><td>5</td><td>Copa América</td><td>Avellaneda</td><td>Argentina</td><td>true</td></tr><tr><td>1946-01-29_Brazil_Paraguay_1_1</td><td>1946-01-29</td><td>Brazil</td><td>Paraguay</td><td>1</td><td>1</td><td>Copa América</td><td>Avellaneda</td><td>Argentina</td><td>true</td></tr><tr><td>1946-02-02_Argentina_Uruguay_3_1</td><td>1946-02-02</td><td>Argentina</td><td>Uruguay</td><td>3</td><td>1</td><td>Copa América</td><td>Buenos Aires</td><td>Argentina</td><td>false</td></tr><tr><td>1946-02-03_Brazil_Chile_5_1</td><td>1946-02-03</td><td>Brazil</td><td>Chile</td><td>5</td><td>1</td><td>Copa América</td><td>Buenos Aires</td><td>Argentina</td><td>true</td></tr><tr><td>1946-02-08_Bolivia_Chile_1_4</td><td>1946-02-08</td><td>Bolivia</td><td>Chile</td><td>1</td><td>4</td><td>Copa América</td><td>Buenos Aires</td><td>Argentina</td><td>true</td></tr><tr><td>1946-02-08_Paraguay_Uruguay_2_1</td><td>1946-02-08</td><td>Paraguay</td><td>Uruguay</td><td>2</td><td>1</td><td>Copa América</td><td>Buenos Aires</td><td>Argentina</td><td>true</td></tr><tr><td>1946-02-10_Argentina_Brazil_2_0</td><td>1946-02-10</td><td>Argentina</td><td>Brazil</td><td>2</td><td>0</td><td>Copa América</td><td>Buenos Aires</td><td>Argentina</td><td>false</td></tr><tr><td>1947-11-30_Ecuador_Bolivia_2_2</td><td>1947-11-30</td><td>Ecuador</td><td>Bolivia</td><td>2</td><td>2</td><td>Copa América</td><td>Guayaquil</td><td>Ecuador</td><td>false</td></tr><tr><td>1947-12-02_Argentina_Paraguay_6_0</td><td>1947-12-02</td><td>Argentina</td><td>Paraguay</td><td>6</td><td>0</td><td>Copa América</td><td>Guayaquil</td><td>Ecuador</td><td>true</td></tr><tr><td>1947-12-02_Colombia_Uruguay_0_2</td><td>1947-12-02</td><td>Colombia</td><td>Uruguay</td><td>0</td><td>2</td><td>Copa América</td><td>Guayaquil</td><td>Ecuador</td><td>true</td></tr><tr><td>1947-12-04_Argentina_Bolivia_7_0</td><td>1947-12-04</td><td>Argentina</td><td>Bolivia</td><td>7</td><td>0</td><td>Copa América</td><td>Guayaquil</td><td>Ecuador</td><td>true</td></tr><tr><td>1947-12-04_Ecuador_Colombia_0_0</td><td>1947-12-04</td><td>Ecuador</td><td>Colombia</td><td>0</td><td>0</td><td>Copa América</td><td>Guayaquil</td><td>Ecuador</td><td>false</td></tr><tr><td>1947-12-06_Chile_Uruguay_0_6</td><td>1947-12-06</td><td>Chile</td><td>Uruguay</td><td>0</td><td>6</td><td>Copa América</td><td>Guayaquil</td><td>Ecuador</td><td>true</td></tr><tr><td>1947-12-06_Paraguay_Peru_2_2</td><td>1947-12-06</td><td>Paraguay</td><td>Peru</td><td>2</td><td>2</td><td>Copa América</td><td>Guayaquil</td><td>Ecuador</td><td>true</td></tr><tr><td>1947-12-09_Bolivia_Uruguay_0_3</td><td>1947-12-09</td><td>Bolivia</td><td>Uruguay</td><td>0</td><td>3</td><td>Copa América</td><td>Guayaquil</td><td>Ecuador</td><td>true</td></tr><tr><td>1947-12-09_Chile_Peru_2_1</td><td>1947-12-09</td><td>Chile</td><td>Peru</td><td>2</td><td>1</td><td>Copa América</td><td>Guayaquil</td><td>Ecuador</td><td>true</td></tr><tr><td>1947-12-11_Argentina_Peru_3_2</td><td>1947-12-11</td><td>Argentina</td><td>Peru</td><td>3</td><td>2</td><td>Copa América</td><td>Guayaquil</td><td>Ecuador</td><td>true</td></tr><tr><td>1947-12-11_Ecuador_Chile_0_3</td><td>1947-12-11</td><td>Ecuador</td><td>Chile</td><td>0</td><td>3</td><td>Copa América</td><td>Guayaquil</td><td>Ecuador</td><td>false</td></tr><tr><td>1947-12-13_Bolivia_Colombia_0_0</td><td>1947-12-13</td><td>Bolivia</td><td>Colombia</td><td>0</td><td>0</td><td>Copa América</td><td>Guayaquil</td><td>Ecuador</td><td>true</td></tr><tr><td>1947-12-13_Paraguay_Uruguay_4_2</td><td>1947-12-13</td><td>Paraguay</td><td>Uruguay</td><td>4</td><td>2</td><td>Copa América</td><td>Guayaquil</td><td>Ecuador</td><td>true</td></tr><tr><td>1947-12-16_Argentina_Chile_1_1</td><td>1947-12-16</td><td>Argentina</td><td>Chile</td><td>1</td><td>1</td><td>Copa América</td><td>Guayaquil</td><td>Ecuador</td><td>true</td></tr><tr><td>1947-12-16_Ecuador_Uruguay_1_6</td><td>1947-12-16</td><td>Ecuador</td><td>Uruguay</td><td>1</td><td>6</td><td>Copa América</td><td>Guayaquil</td><td>Ecuador</td><td>false</td></tr><tr><td>1947-12-18_Argentina_Colombia_6_0</td><td>1947-12-18</td><td>Argentina</td><td>Colombia</td><td>6</td><td>0</td><td>Copa América</td><td>Guayaquil</td><td>Ecuador</td><td>true</td></tr><tr><td>1947-12-18_Bolivia_Paraguay_1_3</td><td>1947-12-18</td><td>Bolivia</td><td>Paraguay</td><td>1</td><td>3</td><td>Copa América</td><td>Guayaquil</td><td>Ecuador</td><td>true</td></tr><tr><td>1947-12-20_Colombia_Paraguay_0_2</td><td>1947-12-20</td><td>Colombia</td><td>Paraguay</td><td>0</td><td>2</td><td>Copa América</td><td>Guayaquil</td><td>Ecuador</td><td>true</td></tr><tr><td>1947-12-20_Ecuador_Peru_0_0</td><td>1947-12-20</td><td>Ecuador</td><td>Peru</td><td>0</td><td>0</td><td>Copa América</td><td>Guayaquil</td><td>Ecuador</td><td>false</td></tr><tr><td>1947-12-23_Chile_Paraguay_0_1</td><td>1947-12-23</td><td>Chile</td><td>Paraguay</td><td>0</td><td>1</td><td>Copa América</td><td>Guayaquil</td><td>Ecuador</td><td>true</td></tr><tr><td>1947-12-23_Colombia_Peru_1_5</td><td>1947-12-23</td><td>Colombia</td><td>Peru</td><td>1</td><td>5</td><td>Copa América</td><td>Guayaquil</td><td>Ecuador</td><td>true</td></tr><tr><td>1947-12-25_Ecuador_Argentina_0_2</td><td>1947-12-25</td><td>Ecuador</td><td>Argentina</td><td>0</td><td>2</td><td>Copa América</td><td>Guayaquil</td><td>Ecuador</td><td>false</td></tr><tr><td>1947-12-25_Peru_Uruguay_0_1</td><td>1947-12-25</td><td>Peru</td><td>Uruguay</td><td>0</td><td>1</td><td>Copa América</td><td>Guayaquil</td><td>Ecuador</td><td>true</td></tr><tr><td>1947-12-27_Bolivia_Peru_0_2</td><td>1947-12-27</td><td>Bolivia</td><td>Peru</td><td>0</td><td>2</td><td>Copa América</td><td>Guayaquil</td><td>Ecuador</td><td>true</td></tr><tr><td>1947-12-28_Argentina_Uruguay_3_1</td><td>1947-12-28</td><td>Argentina</td><td>Uruguay</td><td>3</td><td>1</td><td>Copa América</td><td>Guayaquil</td><td>Ecuador</td><td>true</td></tr><tr><td>1947-12-29_Chile_Colombia_4_1</td><td>1947-12-29</td><td>Chile</td><td>Colombia</td><td>4</td><td>1</td><td>Copa América</td><td>Guayaquil</td><td>Ecuador</td><td>true</td></tr><tr><td>1947-12-29_Ecuador_Paraguay_0_4</td><td>1947-12-29</td><td>Ecuador</td><td>Paraguay</td><td>0</td><td>4</td><td>Copa América</td><td>Guayaquil</td><td>Ecuador</td><td>false</td></tr><tr><td>1947-12-31_Bolivia_Chile_3_4</td><td>1947-12-31</td><td>Bolivia</td><td>Chile</td><td>3</td><td>4</td><td>Copa América</td><td>Guayaquil</td><td>Ecuador</td><td>true</td></tr><tr><td>1949-04-03_Brazil_Ecuador_9_1</td><td>1949-04-03</td><td>Brazil</td><td>Ecuador</td><td>9</td><td>1</td><td>Copa América</td><td>Rio de Janeiro</td><td>Brazil</td><td>false</td></tr><tr><td>1949-04-06_Bolivia_Chile_3_2</td><td>1949-04-06</td><td>Bolivia</td><td>Chile</td><td>3</td><td>2</td><td>Copa América</td><td>São Paulo</td><td>Brazil</td><td>true</td></tr><tr><td>1949-04-06_Colombia_Paraguay_0_3</td><td>1949-04-06</td><td>Colombia</td><td>Paraguay</td><td>0</td><td>3</td><td>Copa América</td><td>São Paulo</td><td>Brazil</td><td>true</td></tr><tr><td>1949-04-10_Brazil_Bolivia_10_1</td><td>1949-04-10</td><td>Brazil</td><td>Bolivia</td><td>10</td><td>1</td><td>Copa América</td><td>São Paulo</td><td>Brazil</td><td>false</td></tr><tr><td>1949-04-10_Colombia_Peru_0_4</td><td>1949-04-10</td><td>Colombia</td><td>Peru</td><td>0</td><td>4</td><td>Copa América</td><td>Rio de Janeiro</td><td>Brazil</td><td>true</td></tr><tr><td>1949-04-10_Ecuador_Paraguay_0_1</td><td>1949-04-10</td><td>Ecuador</td><td>Paraguay</td><td>0</td><td>1</td><td>Copa América</td><td>Rio de Janeiro</td><td>Brazil</td><td>true</td></tr><tr><td>1949-04-13_Brazil_Chile_2_1</td><td>1949-04-13</td><td>Brazil</td><td>Chile</td><td>2</td><td>1</td><td>Copa América</td><td>São Paulo</td><td>Brazil</td><td>false</td></tr><tr><td>1949-04-13_Ecuador_Uruguay_2_3</td><td>1949-04-13</td><td>Ecuador</td><td>Uruguay</td><td>2</td><td>3</td><td>Copa América</td><td>Rio de Janeiro</td><td>Brazil</td><td>true</td></tr><tr><td>1949-04-13_Paraguay_Peru_3_1</td><td>1949-04-13</td><td>Paraguay</td><td>Peru</td><td>3</td><td>1</td><td>Copa América</td><td>Rio de Janeiro</td><td>Brazil</td><td>true</td></tr><tr><td>1949-04-17_Bolivia_Uruguay_3_2</td><td>1949-04-17</td><td>Bolivia</td><td>Uruguay</td><td>3</td><td>2</td><td>Copa América</td><td>Rio de Janeiro</td><td>Brazil</td><td>true</td></tr><tr><td>1949-04-17_Brazil_Colombia_5_0</td><td>1949-04-17</td><td>Brazil</td><td>Colombia</td><td>5</td><td>0</td><td>Copa América</td><td>São Paulo</td><td>Brazil</td><td>false</td></tr><tr><td>1949-04-17_Chile_Ecuador_1_0</td><td>1949-04-17</td><td>Chile</td><td>Ecuador</td><td>1</td><td>0</td><td>Copa América</td><td>São Paulo</td><td>Brazil</td><td>true</td></tr><tr><td>1949-04-20_Chile_Colombia_1_1</td><td>1949-04-20</td><td>Chile</td><td>Colombia</td><td>1</td><td>1</td><td>Copa América</td><td>Rio de Janeiro</td><td>Brazil</td><td>true</td></tr><tr><td>1949-04-20_Ecuador_Peru_0_4</td><td>1949-04-20</td><td>Ecuador</td><td>Peru</td><td>0</td><td>4</td><td>Copa América</td><td>Rio de Janeiro</td><td>Brazil</td><td>true</td></tr><tr><td>1949-04-20_Paraguay_Uruguay_1_2</td><td>1949-04-20</td><td>Paraguay</td><td>Uruguay</td><td>1</td><td>2</td><td>Copa América</td><td>São Paulo</td><td>Brazil</td><td>true</td></tr><tr><td>1949-04-24_Brazil_Peru_7_1</td><td>1949-04-24</td><td>Brazil</td><td>Peru</td><td>7</td><td>1</td><td>Copa América</td><td>Rio de Janeiro</td><td>Brazil</td><td>false</td></tr><tr><td>1949-04-25_Bolivia_Ecuador_2_0</td><td>1949-04-25</td><td>Bolivia</td><td>Ecuador</td><td>2</td><td>0</td><td>Copa América</td><td>São Paulo</td><td>Brazil</td><td>true</td></tr><tr><td>1949-04-25_Uruguay_Colombia_2_2</td><td>1949-04-25</td><td>Uruguay</td><td>Colombia</td><td>2</td><td>2</td><td>Copa América</td><td>São Paulo</td><td>Brazil</td><td>true</td></tr><tr><td>1949-04-27_Bolivia_Peru_0_3</td><td>1949-04-27</td><td>Bolivia</td><td>Peru</td><td>0</td><td>3</td><td>Copa América</td><td>Santos</td><td>Brazil</td><td>true</td></tr><tr><td>1949-04-27_Chile_Paraguay_2_4</td><td>1949-04-27</td><td>Chile</td><td>Paraguay</td><td>2</td><td>4</td><td>Copa América</td><td>São Paulo</td><td>Brazil</td><td>true</td></tr><tr><td>1949-04-30_Bolivia_Paraguay_0_7</td><td>1949-04-30</td><td>Bolivia</td><td>Paraguay</td><td>0</td><td>7</td><td>Copa América</td><td>Rio de Janeiro</td><td>Brazil</td><td>true</td></tr><tr><td>1949-04-30_Brazil_Uruguay_5_1</td><td>1949-04-30</td><td>Brazil</td><td>Uruguay</td><td>5</td><td>1</td><td>Copa América</td><td>Rio de Janeiro</td><td>Brazil</td><td>false</td></tr><tr><td>1949-04-30_Chile_Peru_0_3</td><td>1949-04-30</td><td>Chile</td><td>Peru</td><td>0</td><td>3</td><td>Copa América</td><td>São Paulo</td><td>Brazil</td><td>true</td></tr><tr><td>1949-05-03_Colombia_Ecuador_1_4</td><td>1949-05-03</td><td>Colombia</td><td>Ecuador</td><td>1</td><td>4</td><td>Copa América</td><td>Rio de Janeiro</td><td>Brazil</td><td>true</td></tr><tr><td>1949-05-04_Peru_Uruguay_4_3</td><td>1949-05-04</td><td>Peru</td><td>Uruguay</td><td>4</td><td>3</td><td>Copa América</td><td>Rio de Janeiro</td><td>Brazil</td><td>true</td></tr><tr><td>1949-05-06_Bolivia_Colombia_4_0</td><td>1949-05-06</td><td>Bolivia</td><td>Colombia</td><td>4</td><td>0</td><td>Copa América</td><td>Rio de Janeiro</td><td>Brazil</td><td>true</td></tr><tr><td>1949-05-08_Brazil_Paraguay_1_2</td><td>1949-05-08</td><td>Brazil</td><td>Paraguay</td><td>1</td><td>2</td><td>Copa América</td><td>Rio de Janeiro</td><td>Brazil</td><td>false</td></tr><tr><td>1949-05-08_Chile_Uruguay_3_1</td><td>1949-05-08</td><td>Chile</td><td>Uruguay</td><td>3</td><td>1</td><td>Copa América</td><td>Belo Horizonte</td><td>Brazil</td><td>true</td></tr><tr><td>1949-05-11_Brazil_Paraguay_7_0</td><td>1949-05-11</td><td>Brazil</td><td>Paraguay</td><td>7</td><td>0</td><td>Copa América</td><td>Rio de Janeiro</td><td>Brazil</td><td>false</td></tr><tr><td>1953-02-22_Peru_Bolivia_0_1</td><td>1953-02-22</td><td>Peru</td><td>Bolivia</td><td>0</td><td>1</td><td>Copa América</td><td>Lima</td><td>Peru</td><td>false</td></tr><tr><td>1953-02-25_Bolivia_Uruguay_0_2</td><td>1953-02-25</td><td>Bolivia</td><td>Uruguay</td><td>0</td><td>2</td><td>Copa América</td><td>Lima</td><td>Peru</td><td>true</td></tr><tr><td>1953-02-25_Chile_Paraguay_0_3</td><td>1953-02-25</td><td>Chile</td><td>Paraguay</td><td>0</td><td>3</td><td>Copa América</td><td>Lima</td><td>Peru</td><td>true</td></tr><tr><td>1953-02-28_Peru_Ecuador_1_0</td><td>1953-02-28</td><td>Peru</td><td>Ecuador</td><td>1</td><td>0</td><td>Copa América</td><td>Lima</td><td>Peru</td><td>false</td></tr><tr><td>1953-03-01_Bolivia_Brazil_1_8</td><td>1953-03-01</td><td>Bolivia</td><td>Brazil</td><td>1</td><td>8</td><td>Copa América</td><td>Lima</td><td>Peru</td><td>true</td></tr><tr><td>1953-03-01_Chile_Uruguay_3_2</td><td>1953-03-01</td><td>Chile</td><td>Uruguay</td><td>3</td><td>2</td><td>Copa América</td><td>Lima</td><td>Peru</td><td>true</td></tr><tr><td>1953-03-04_Ecuador_Paraguay_0_0</td><td>1953-03-04</td><td>Ecuador</td><td>Paraguay</td><td>0</td><td>0</td><td>Copa América</td><td>Lima</td><td>Peru</td><td>true</td></tr><tr><td>1953-03-04_Peru_Chile_0_0</td><td>1953-03-04</td><td>Peru</td><td>Chile</td><td>0</td><td>0</td><td>Copa América</td><td>Lima</td><td>Peru</td><td>false</td></tr><tr><td>1953-03-08_Bolivia_Ecuador_1_1</td><td>1953-03-08</td><td>Bolivia</td><td>Ecuador</td><td>1</td><td>1</td><td>Copa América</td><td>Lima</td><td>Peru</td><td>true</td></tr><tr><td>1953-03-08_Peru_Paraguay_2_2</td><td>1953-03-08</td><td>Peru</td><td>Paraguay</td><td>2</td><td>2</td><td>Copa América</td><td>Lima</td><td>Peru</td><td>false</td></tr><tr><td>1953-03-12_Brazil_Ecuador_2_0</td><td>1953-03-12</td><td>Brazil</td><td>Ecuador</td><td>2</td><td>0</td><td>Copa América</td><td>Lima</td><td>Peru</td><td>true</td></tr><tr><td>1953-03-12_Paraguay_Uruguay_2_2</td><td>1953-03-12</td><td>Paraguay</td><td>Uruguay</td><td>2</td><td>2</td><td>Copa América</td><td>Lima</td><td>Peru</td><td>true</td></tr><tr><td>1953-03-15_Brazil_Uruguay_1_0</td><td>1953-03-15</td><td>Brazil</td><td>Uruguay</td><td>1</td><td>0</td><td>Copa América</td><td>Lima</td><td>Peru</td><td>true</td></tr><tr><td>1953-03-16_Bolivia_Paraguay_1_2</td><td>1953-03-16</td><td>Bolivia</td><td>Paraguay</td><td>1</td><td>2</td><td>Copa América</td><td>Lima</td><td>Peru</td><td>true</td></tr><tr><td>1953-03-19_Chile_Ecuador_3_0</td><td>1953-03-19</td><td>Chile</td><td>Ecuador</td><td>3</td><td>0</td><td>Copa América</td><td>Lima</td><td>Peru</td><td>true</td></tr><tr><td>1953-03-19_Peru_Brazil_1_0</td><td>1953-03-19</td><td>Peru</td><td>Brazil</td><td>1</td><td>0</td><td>Copa América</td><td>Lima</td><td>Peru</td><td>false</td></tr><tr><td>1953-03-23_Brazil_Chile_3_2</td><td>1953-03-23</td><td>Brazil</td><td>Chile</td><td>3</td><td>2</td><td>Copa América</td><td>Lima</td><td>Peru</td><td>true</td></tr><tr><td>1953-03-23_Ecuador_Uruguay_0_6</td><td>1953-03-23</td><td>Ecuador</td><td>Uruguay</td><td>0</td><td>6</td><td>Copa América</td><td>Lima</td><td>Peru</td><td>true</td></tr><tr><td>1953-03-27_Brazil_Paraguay_1_2</td><td>1953-03-27</td><td>Brazil</td><td>Paraguay</td><td>1</td><td>2</td><td>Copa América</td><td>Lima</td><td>Peru</td><td>true</td></tr><tr><td>1953-03-28_Bolivia_Chile_2_2</td><td>1953-03-28</td><td>Bolivia</td><td>Chile</td><td>2</td><td>2</td><td>Copa América</td><td>Lima</td><td>Peru</td><td>true</td></tr><tr><td>1953-03-28_Peru_Uruguay_0_3</td><td>1953-03-28</td><td>Peru</td><td>Uruguay</td><td>0</td><td>3</td><td>Copa América</td><td>Lima</td><td>Peru</td><td>false</td></tr><tr><td>1953-04-01_Brazil_Paraguay_2_3</td><td>1953-04-01</td><td>Brazil</td><td>Paraguay</td><td>2</td><td>3</td><td>Copa América</td><td>Lima</td><td>Peru</td><td>true</td></tr><tr><td>1955-02-27_Chile_Ecuador_7_1</td><td>1955-02-27</td><td>Chile</td><td>Ecuador</td><td>7</td><td>1</td><td>Copa América</td><td>Santiago</td><td>Chile</td><td>false</td></tr><tr><td>1955-03-02_Argentina_Paraguay_5_3</td><td>1955-03-02</td><td>Argentina</td><td>Paraguay</td><td>5</td><td>3</td><td>Copa América</td><td>Santiago</td><td>Chile</td><td>true</td></tr><tr><td>1955-03-06_Chile_Peru_5_4</td><td>1955-03-06</td><td>Chile</td><td>Peru</td><td>5</td><td>4</td><td>Copa América</td><td>Santiago</td><td>Chile</td><td>false</td></tr><tr><td>1955-03-09_Argentina_Ecuador_4_0</td><td>1955-03-09</td><td>Argentina</td><td>Ecuador</td><td>4</td><td>0</td><td>Copa América</td><td>Santiago</td><td>Chile</td><td>true</td></tr><tr><td>1955-03-09_Paraguay_Uruguay_1_3</td><td>1955-03-09</td><td>Paraguay</td><td>Uruguay</td><td>1</td><td>3</td><td>Copa América</td><td>Santiago</td><td>Chile</td><td>true</td></tr><tr><td>1955-03-13_Chile_Uruguay_2_2</td><td>1955-03-13</td><td>Chile</td><td>Uruguay</td><td>2</td><td>2</td><td>Copa América</td><td>Santiago</td><td>Chile</td><td>false</td></tr><tr><td>1955-03-13_Ecuador_Peru_2_4</td><td>1955-03-13</td><td>Ecuador</td><td>Peru</td><td>2</td><td>4</td><td>Copa América</td><td>Santiago</td><td>Chile</td><td>true</td></tr><tr><td>1955-03-16_Argentina_Peru_2_2</td><td>1955-03-16</td><td>Argentina</td><td>Peru</td><td>2</td><td>2</td><td>Copa América</td><td>Santiago</td><td>Chile</td><td>true</td></tr><tr><td>1955-03-16_Ecuador_Paraguay_0_2</td><td>1955-03-16</td><td>Ecuador</td><td>Paraguay</td><td>0</td><td>2</td><td>Copa América</td><td>Santiago</td><td>Chile</td><td>true</td></tr><tr><td>1955-03-20_Chile_Paraguay_5_0</td><td>1955-03-20</td><td>Chile</td><td>Paraguay</td><td>5</td><td>0</td><td>Copa América</td><td>Santiago</td><td>Chile</td><td>false</td></tr><tr><td>1955-03-23_Ecuador_Uruguay_1_5</td><td>1955-03-23</td><td>Ecuador</td><td>Uruguay</td><td>1</td><td>5</td><td>Copa América</td><td>Santiago</td><td>Chile</td><td>true</td></tr><tr><td>1955-03-23_Paraguay_Peru_1_1</td><td>1955-03-23</td><td>Paraguay</td><td>Peru</td><td>1</td><td>1</td><td>Copa América</td><td>Santiago</td><td>Chile</td><td>true</td></tr><tr><td>1955-03-27_Argentina_Uruguay_6_1</td><td>1955-03-27</td><td>Argentina</td><td>Uruguay</td><td>6</td><td>1</td><td>Copa América</td><td>Santiago</td><td>Chile</td><td>true</td></tr><tr><td>1955-03-30_Chile_Argentina_0_1</td><td>1955-03-30</td><td>Chile</td><td>Argentina</td><td>0</td><td>1</td><td>Copa América</td><td>Santiago</td><td>Chile</td><td>false</td></tr><tr><td>1955-03-30_Peru_Uruguay_2_1</td><td>1955-03-30</td><td>Peru</td><td>Uruguay</td><td>2</td><td>1</td><td>Copa América</td><td>Santiago</td><td>Chile</td><td>true</td></tr><tr><td>1956-01-21_Uruguay_Paraguay_4_2</td><td>1956-01-21</td><td>Uruguay</td><td>Paraguay</td><td>4</td><td>2</td><td>Copa América</td><td>Montevideo</td><td>Uruguay</td><td>false</td></tr><tr><td>1956-01-22_Argentina_Peru_2_1</td><td>1956-01-22</td><td>Argentina</td><td>Peru</td><td>2</td><td>1</td><td>Copa América</td><td>Montevideo</td><td>Uruguay</td><td>true</td></tr><tr><td>1956-01-24_Brazil_Chile_1_4</td><td>1956-01-24</td><td>Brazil</td><td>Chile</td><td>1</td><td>4</td><td>Copa América</td><td>Montevideo</td><td>Uruguay</td><td>true</td></tr><tr><td>1956-01-28_Uruguay_Peru_2_0</td><td>1956-01-28</td><td>Uruguay</td><td>Peru</td><td>2</td><td>0</td><td>Copa América</td><td>Montevideo</td><td>Uruguay</td><td>false</td></tr><tr><td>1956-01-29_Argentina_Chile_2_0</td><td>1956-01-29</td><td>Argentina</td><td>Chile</td><td>2</td><td>0</td><td>Copa América</td><td>Montevideo</td><td>Uruguay</td><td>true</td></tr><tr><td>1956-01-29_Brazil_Paraguay_0_0</td><td>1956-01-29</td><td>Brazil</td><td>Paraguay</td><td>0</td><td>0</td><td>Copa América</td><td>Montevideo</td><td>Uruguay</td><td>true</td></tr><tr><td>1956-02-01_Argentina_Paraguay_1_0</td><td>1956-02-01</td><td>Argentina</td><td>Paraguay</td><td>1</td><td>0</td><td>Copa América</td><td>Montevideo</td><td>Uruguay</td><td>true</td></tr><tr><td>1956-02-01_Brazil_Peru_2_1</td><td>1956-02-01</td><td>Brazil</td><td>Peru</td><td>2</td><td>1</td><td>Copa América</td><td>Montevideo</td><td>Uruguay</td><td>true</td></tr><tr><td>1956-02-05_Argentina_Brazil_0_1</td><td>1956-02-05</td><td>Argentina</td><td>Brazil</td><td>0</td><td>1</td><td>Copa América</td><td>Montevideo</td><td>Uruguay</td><td>true</td></tr><tr><td>1956-02-05_Paraguay_Peru_1_1</td><td>1956-02-05</td><td>Paraguay</td><td>Peru</td><td>1</td><td>1</td><td>Copa América</td><td>Montevideo</td><td>Uruguay</td><td>true</td></tr><tr><td>1956-02-06_Uruguay_Chile_2_1</td><td>1956-02-06</td><td>Uruguay</td><td>Chile</td><td>2</td><td>1</td><td>Copa América</td><td>Montevideo</td><td>Uruguay</td><td>false</td></tr><tr><td>1956-02-09_Chile_Peru_4_3</td><td>1956-02-09</td><td>Chile</td><td>Peru</td><td>4</td><td>3</td><td>Copa América</td><td>Montevideo</td><td>Uruguay</td><td>true</td></tr><tr><td>1956-02-10_Uruguay_Brazil_0_0</td><td>1956-02-10</td><td>Uruguay</td><td>Brazil</td><td>0</td><td>0</td><td>Copa América</td><td>Montevideo</td><td>Uruguay</td><td>false</td></tr><tr><td>1956-02-12_Chile_Paraguay_2_0</td><td>1956-02-12</td><td>Chile</td><td>Paraguay</td><td>2</td><td>0</td><td>Copa América</td><td>Montevideo</td><td>Uruguay</td><td>true</td></tr><tr><td>1956-02-15_Uruguay_Argentina_1_0</td><td>1956-02-15</td><td>Uruguay</td><td>Argentina</td><td>1</td><td>0</td><td>Copa América</td><td>Montevideo</td><td>Uruguay</td><td>false</td></tr><tr><td>1957-03-07_Ecuador_Uruguay_2_5</td><td>1957-03-07</td><td>Ecuador</td><td>Uruguay</td><td>2</td><td>5</td><td>Copa América</td><td>Lima</td><td>Peru</td><td>true</td></tr><tr><td>1957-03-10_Peru_Ecuador_2_1</td><td>1957-03-10</td><td>Peru</td><td>Ecuador</td><td>2</td><td>1</td><td>Copa América</td><td>Lima</td><td>Peru</td><td>false</td></tr><tr><td>1957-03-13_Argentina_Colombia_8_2</td><td>1957-03-13</td><td>Argentina</td><td>Colombia</td><td>8</td><td>2</td><td>Copa América</td><td>Lima</td><td>Peru</td><td>true</td></tr><tr><td>1957-03-13_Brazil_Chile_4_2</td><td>1957-03-13</td><td>Brazil</td><td>Chile</td><td>4</td><td>2</td><td>Copa América</td><td>Lima</td><td>Peru</td><td>true</td></tr><tr><td>1957-03-16_Peru_Chile_1_0</td><td>1957-03-16</td><td>Peru</td><td>Chile</td><td>1</td><td>0</td><td>Copa América</td><td>Lima</td><td>Peru</td><td>false</td></tr><tr><td>1957-03-17_Argentina_Ecuador_3_0</td><td>1957-03-17</td><td>Argentina</td><td>Ecuador</td><td>3</td><td>0</td><td>Copa América</td><td>Lima</td><td>Peru</td><td>true</td></tr><tr><td>1957-03-17_Colombia_Uruguay_1_0</td><td>1957-03-17</td><td>Colombia</td><td>Uruguay</td><td>1</td><td>0</td><td>Copa América</td><td>Lima</td><td>Peru</td><td>true</td></tr><tr><td>1957-03-20_Argentina_Uruguay_4_0</td><td>1957-03-20</td><td>Argentina</td><td>Uruguay</td><td>4</td><td>0</td><td>Copa América</td><td>Lima</td><td>Peru</td><td>true</td></tr><tr><td>1957-03-21_Brazil_Ecuador_7_1</td><td>1957-03-21</td><td>Brazil</td><td>Ecuador</td><td>7</td><td>1</td><td>Copa América</td><td>Lima</td><td>Peru</td><td>true</td></tr><tr><td>1957-03-21_Chile_Colombia_3_2</td><td>1957-03-21</td><td>Chile</td><td>Colombia</td><td>3</td><td>2</td><td>Copa América</td><td>Lima</td><td>Peru</td><td>true</td></tr><tr><td>1957-03-23_Peru_Uruguay_3_5</td><td>1957-03-23</td><td>Peru</td><td>Uruguay</td><td>3</td><td>5</td><td>Copa América</td><td>Lima</td><td>Peru</td><td>false</td></tr><tr><td>1957-03-24_Brazil_Colombia_9_0</td><td>1957-03-24</td><td>Brazil</td><td>Colombia</td><td>9</td><td>0</td><td>Copa América</td><td>Lima</td><td>Peru</td><td>true</td></tr><tr><td>1957-03-24_Chile_Ecuador_2_2</td><td>1957-03-24</td><td>Chile</td><td>Ecuador</td><td>2</td><td>2</td><td>Copa América</td><td>Lima</td><td>Peru</td><td>true</td></tr><tr><td>1957-03-27_Peru_Colombia_4_1</td><td>1957-03-27</td><td>Peru</td><td>Colombia</td><td>4</td><td>1</td><td>Copa América</td><td>Lima</td><td>Peru</td><td>false</td></tr><tr><td>1957-03-28_Argentina_Chile_6_2</td><td>1957-03-28</td><td>Argentina</td><td>Chile</td><td>6</td><td>2</td><td>Copa América</td><td>Lima</td><td>Peru</td><td>true</td></tr><tr><td>1957-03-28_Brazil_Uruguay_2_3</td><td>1957-03-28</td><td>Brazil</td><td>Uruguay</td><td>2</td><td>3</td><td>Copa América</td><td>Lima</td><td>Peru</td><td>true</td></tr><tr><td>1957-03-31_Peru_Brazil_0_1</td><td>1957-03-31</td><td>Peru</td><td>Brazil</td><td>0</td><td>1</td><td>Copa América</td><td>Lima</td><td>Peru</td><td>false</td></tr><tr><td>1957-04-01_Chile_Uruguay_0_2</td><td>1957-04-01</td><td>Chile</td><td>Uruguay</td><td>0</td><td>2</td><td>Copa América</td><td>Lima</td><td>Peru</td><td>true</td></tr><tr><td>1957-04-01_Colombia_Ecuador_4_1</td><td>1957-04-01</td><td>Colombia</td><td>Ecuador</td><td>4</td><td>1</td><td>Copa América</td><td>Lima</td><td>Peru</td><td>true</td></tr><tr><td>1957-04-03_Argentina_Brazil_3_0</td><td>1957-04-03</td><td>Argentina</td><td>Brazil</td><td>3</td><td>0</td><td>Copa América</td><td>Lima</td><td>Peru</td><td>true</td></tr><tr><td>1957-04-06_Peru_Argentina_2_1</td><td>1957-04-06</td><td>Peru</td><td>Argentina</td><td>2</td><td>1</td><td>Copa América</td><td>Lima</td><td>Peru</td><td>false</td></tr><tr><td>1959-03-07_Argentina_Chile_6_1</td><td>1959-03-07</td><td>Argentina</td><td>Chile</td><td>6</td><td>1</td><td>Copa América</td><td>Buenos Aires</td><td>Argentina</td><td>false</td></tr><tr><td>1959-03-08_Bolivia_Uruguay_0_7</td><td>1959-03-08</td><td>Bolivia</td><td>Uruguay</td><td>0</td><td>7</td><td>Copa América</td><td>Buenos Aires</td><td>Argentina</td><td>true</td></tr><tr><td>1959-03-10_Brazil_Peru_2_2</td><td>1959-03-10</td><td>Brazil</td><td>Peru</td><td>2</td><td>2</td><td>Copa América</td><td>Buenos Aires</td><td>Argentina</td><td>true</td></tr><tr><td>1959-03-11_Argentina_Bolivia_2_0</td><td>1959-03-11</td><td>Argentina</td><td>Bolivia</td><td>2</td><td>0</td><td>Copa América</td><td>Buenos Aires</td><td>Argentina</td><td>false</td></tr><tr><td>1959-03-11_Chile_Paraguay_1_2</td><td>1959-03-11</td><td>Chile</td><td>Paraguay</td><td>1</td><td>2</td><td>Copa América</td><td>Buenos Aires</td><td>Argentina</td><td>true</td></tr><tr><td>1959-03-14_Peru_Uruguay_5_3</td><td>1959-03-14</td><td>Peru</td><td>Uruguay</td><td>5</td><td>3</td><td>Copa América</td><td>Buenos Aires</td><td>Argentina</td><td>true</td></tr><tr><td>1959-03-15_Bolivia_Paraguay_0_5</td><td>1959-03-15</td><td>Bolivia</td><td>Paraguay</td><td>0</td><td>5</td><td>Copa América</td><td>Buenos Aires</td><td>Argentina</td><td>true</td></tr><tr><td>1959-03-15_Brazil_Chile_3_0</td><td>1959-03-15</td><td>Brazil</td><td>Chile</td><td>3</td><td>0</td><td>Copa América</td><td>Buenos Aires</td><td>Argentina</td><td>true</td></tr><tr><td>1959-03-18_Argentina_Peru_3_1</td><td>1959-03-18</td><td>Argentina</td><td>Peru</td><td>3</td><td>1</td><td>Copa América</td><td>Buenos Aires</td><td>Argentina</td><td>false</td></tr><tr><td>1959-03-18_Paraguay_Uruguay_1_3</td><td>1959-03-18</td><td>Paraguay</td><td>Uruguay</td><td>1</td><td>3</td><td>Copa América</td><td>Buenos Aires</td><td>Argentina</td><td>true</td></tr><tr><td>1959-03-21_Bolivia_Brazil_2_4</td><td>1959-03-21</td><td>Bolivia</td><td>Brazil</td><td>2</td><td>4</td><td>Copa América</td><td>Buenos Aires</td><td>Argentina</td><td>true</td></tr><tr><td>1959-03-21_Chile_Peru_1_1</td><td>1959-03-21</td><td>Chile</td><td>Peru</td><td>1</td><td>1</td><td>Copa América</td><td>Buenos Aires</td><td>Argentina</td><td>true</td></tr><tr><td>1959-03-22_Argentina_Paraguay_3_1</td><td>1959-03-22</td><td>Argentina</td><td>Paraguay</td><td>3</td><td>1</td><td>Copa América</td><td>Buenos Aires</td><td>Argentina</td><td>false</td></tr><tr><td>1959-03-26_Bolivia_Chile_2_5</td><td>1959-03-26</td><td>Bolivia</td><td>Chile</td><td>2</td><td>5</td><td>Copa América</td><td>Buenos Aires</td><td>Argentina</td><td>true</td></tr><tr><td>1959-03-26_Brazil_Uruguay_3_1</td><td>1959-03-26</td><td>Brazil</td><td>Uruguay</td><td>3</td><td>1</td><td>Copa América</td><td>Buenos Aires</td><td>Argentina</td><td>true</td></tr><tr><td>1959-03-29_Bolivia_Peru_0_0</td><td>1959-03-29</td><td>Bolivia</td><td>Peru</td><td>0</td><td>0</td><td>Copa América</td><td>Buenos Aires</td><td>Argentina</td><td>true</td></tr><tr><td>1959-03-29_Brazil_Paraguay_4_1</td><td>1959-03-29</td><td>Brazil</td><td>Paraguay</td><td>4</td><td>1</td><td>Copa América</td><td>Buenos Aires</td><td>Argentina</td><td>true</td></tr><tr><td>1959-03-30_Argentina_Uruguay_4_1</td><td>1959-03-30</td><td>Argentina</td><td>Uruguay</td><td>4</td><td>1</td><td>Copa América</td><td>Buenos Aires</td><td>Argentina</td><td>false</td></tr><tr><td>1959-04-02_Chile_Uruguay_1_0</td><td>1959-04-02</td><td>Chile</td><td>Uruguay</td><td>1</td><td>0</td><td>Copa América</td><td>Buenos Aires</td><td>Argentina</td><td>true</td></tr><tr><td>1959-04-02_Paraguay_Peru_2_1</td><td>1959-04-02</td><td>Paraguay</td><td>Peru</td><td>2</td><td>1</td><td>Copa América</td><td>Buenos Aires</td><td>Argentina</td><td>true</td></tr><tr><td>1959-04-04_Argentina_Brazil_1_1</td><td>1959-04-04</td><td>Argentina</td><td>Brazil</td><td>1</td><td>1</td><td>Copa América</td><td>Buenos Aires</td><td>Argentina</td><td>false</td></tr><tr><td>1959-12-05_Brazil_Paraguay_3_2</td><td>1959-12-05</td><td>Brazil</td><td>Paraguay</td><td>3</td><td>2</td><td>Copa América</td><td>Guayaquil</td><td>Ecuador</td><td>true</td></tr><tr><td>1959-12-06_Ecuador_Uruguay_0_4</td><td>1959-12-06</td><td>Ecuador</td><td>Uruguay</td><td>0</td><td>4</td><td>Copa América</td><td>Guayaquil</td><td>Ecuador</td><td>false</td></tr><tr><td>1959-12-09_Argentina_Paraguay_4_2</td><td>1959-12-09</td><td>Argentina</td><td>Paraguay</td><td>4</td><td>2</td><td>Copa América</td><td>Guayaquil</td><td>Ecuador</td><td>true</td></tr><tr><td>1959-12-12_Brazil_Uruguay_0_3</td><td>1959-12-12</td><td>Brazil</td><td>Uruguay</td><td>0</td><td>3</td><td>Copa América</td><td>Guayaquil</td><td>Ecuador</td><td>true</td></tr><tr><td>1959-12-12_Ecuador_Argentina_1_1</td><td>1959-12-12</td><td>Ecuador</td><td>Argentina</td><td>1</td><td>1</td><td>Copa América</td><td>Guayaquil</td><td>Ecuador</td><td>false</td></tr><tr><td>1959-12-16_Argentina_Uruguay_0_5</td><td>1959-12-16</td><td>Argentina</td><td>Uruguay</td><td>0</td><td>5</td><td>Copa América</td><td>Guayaquil</td><td>Ecuador</td><td>true</td></tr><tr><td>1959-12-19_Ecuador_Brazil_1_3</td><td>1959-12-19</td><td>Ecuador</td><td>Brazil</td><td>1</td><td>3</td><td>Copa América</td><td>Guayaquil</td><td>Ecuador</td><td>false</td></tr><tr><td>1959-12-22_Argentina_Brazil_4_1</td><td>1959-12-22</td><td>Argentina</td><td>Brazil</td><td>4</td><td>1</td><td>Copa América</td><td>Guayaquil</td><td>Ecuador</td><td>true</td></tr><tr><td>1959-12-22_Paraguay_Uruguay_1_1</td><td>1959-12-22</td><td>Paraguay</td><td>Uruguay</td><td>1</td><td>1</td><td>Copa América</td><td>Guayaquil</td><td>Ecuador</td><td>true</td></tr><tr><td>1959-12-25_Ecuador_Paraguay_3_1</td><td>1959-12-25</td><td>Ecuador</td><td>Paraguay</td><td>3</td><td>1</td><td>Copa América</td><td>Guayaquil</td><td>Ecuador</td><td>false</td></tr><tr><td>1963-03-10_Argentina_Colombia_4_2</td><td>1963-03-10</td><td>Argentina</td><td>Colombia</td><td>4</td><td>2</td><td>Copa América</td><td>Cochabamba</td><td>Bolivia</td><td>true</td></tr><tr><td>1963-03-10_Bolivia_Ecuador_4_4</td><td>1963-03-10</td><td>Bolivia</td><td>Ecuador</td><td>4</td><td>4</td><td>Copa América</td><td>La Paz</td><td>Bolivia</td><td>false</td></tr><tr><td>1963-03-10_Brazil_Peru_1_0</td><td>1963-03-10</td><td>Brazil</td><td>Peru</td><td>1</td><td>0</td><td>Copa América</td><td>Cochabamba</td><td>Bolivia</td><td>true</td></tr><tr><td>1963-03-13_Argentina_Peru_1_2</td><td>1963-03-13</td><td>Argentina</td><td>Peru</td><td>1</td><td>2</td><td>Copa América</td><td>Cochabamba</td><td>Bolivia</td><td>true</td></tr><tr><td>1963-03-14_Brazil_Colombia_5_1</td><td>1963-03-14</td><td>Brazil</td><td>Colombia</td><td>5</td><td>1</td><td>Copa América</td><td>La Paz</td><td>Bolivia</td><td>true</td></tr><tr><td>1963-03-14_Ecuador_Paraguay_1_3</td><td>1963-03-14</td><td>Ecuador</td><td>Paraguay</td><td>1</td><td>3</td><td>Copa América</td><td>La Paz</td><td>Bolivia</td><td>true</td></tr><tr><td>1963-03-17_Bolivia_Colombia_2_1</td><td>1963-03-17</td><td>Bolivia</td><td>Colombia</td><td>2</td><td>1</td><td>Copa América</td><td>Cochabamba</td><td>Bolivia</td><td>false</td></tr><tr><td>1963-03-17_Brazil_Paraguay_0_2</td><td>1963-03-17</td><td>Brazil</td><td>Paraguay</td><td>0</td><td>2</td><td>Copa América</td><td>La Paz</td><td>Bolivia</td><td>true</td></tr><tr><td>1963-03-17_Ecuador_Peru_1_2</td><td>1963-03-17</td><td>Ecuador</td><td>Peru</td><td>1</td><td>2</td><td>Copa América</td><td>La Paz</td><td>Bolivia</td><td>true</td></tr><tr><td>1963-03-20_Argentina_Ecuador_4_2</td><td>1963-03-20</td><td>Argentina</td><td>Ecuador</td><td>4</td><td>2</td><td>Copa América</td><td>Cochabamba</td><td>Bolivia</td><td>true</td></tr><tr><td>1963-03-20_Colombia_Paraguay_2_3</td><td>1963-03-20</td><td>Colombia</td><td>Paraguay</td><td>2</td><td>3</td><td>Copa América</td><td>Cochabamba</td><td>Bolivia</td><td>true</td></tr><tr><td>1963-03-21_Bolivia_Peru_3_2</td><td>1963-03-21</td><td>Bolivia</td><td>Peru</td><td>3</td><td>2</td><td>Copa América</td><td>La Paz</td><td>Bolivia</td><td>false</td></tr><tr><td>1963-03-24_Argentina_Brazil_3_0</td><td>1963-03-24</td><td>Argentina</td><td>Brazil</td><td>3</td><td>0</td><td>Copa América</td><td>La Paz</td><td>Bolivia</td><td>true</td></tr><tr><td>1963-03-24_Bolivia_Paraguay_2_0</td><td>1963-03-24</td><td>Bolivia</td><td>Paraguay</td><td>2</td><td>0</td><td>Copa América</td><td>Cochabamba</td><td>Bolivia</td><td>false</td></tr><tr><td>1963-03-24_Colombia_Peru_1_1</td><td>1963-03-24</td><td>Colombia</td><td>Peru</td><td>1</td><td>1</td><td>Copa América</td><td>La Paz</td><td>Bolivia</td><td>true</td></tr><tr><td>1963-03-27_Brazil_Ecuador_2_2</td><td>1963-03-27</td><td>Brazil</td><td>Ecuador</td><td>2</td><td>2</td><td>Copa América</td><td>Cochabamba</td><td>Bolivia</td><td>true</td></tr><tr><td>1963-03-27_Paraguay_Peru_4_1</td><td>1963-03-27</td><td>Paraguay</td><td>Peru</td><td>4</td><td>1</td><td>Copa América</td><td>Cochabamba</td><td>Bolivia</td><td>true</td></tr><tr><td>1963-03-28_Bolivia_Argentina_3_2</td><td>1963-03-28</td><td>Bolivia</td><td>Argentina</td><td>3</td><td>2</td><td>Copa América</td><td>La Paz</td><td>Bolivia</td><td>false</td></tr><tr><td>1963-03-31_Argentina_Paraguay_1_1</td><td>1963-03-31</td><td>Argentina</td><td>Paraguay</td><td>1</td><td>1</td><td>Copa América</td><td>La Paz</td><td>Bolivia</td><td>true</td></tr><tr><td>1963-03-31_Bolivia_Brazil_5_4</td><td>1963-03-31</td><td>Bolivia</td><td>Brazil</td><td>5</td><td>4</td><td>Copa América</td><td>Cochabamba</td><td>Bolivia</td><td>false</td></tr><tr><td>1963-03-31_Colombia_Ecuador_3_4</td><td>1963-03-31</td><td>Colombia</td><td>Ecuador</td><td>3</td><td>4</td><td>Copa América</td><td>La Paz</td><td>Bolivia</td><td>true</td></tr><tr><td>1993-06-15_Ecuador_Venezuela_6_1</td><td>1993-06-15</td><td>Ecuador</td><td>Venezuela</td><td>6</td><td>1</td><td>Copa América</td><td>Quito</td><td>Ecuador</td><td>false</td></tr><tr><td>1993-06-16_Colombia_Mexico_2_1</td><td>1993-06-16</td><td>Colombia</td><td>Mexico</td><td>2</td><td>1</td><td>Copa América</td><td>Machala</td><td>Ecuador</td><td>true</td></tr><tr><td>1993-06-16_Uruguay_United States_1_0</td><td>1993-06-16</td><td>Uruguay</td><td>United States</td><td>1</td><td>0</td><td>Copa América</td><td>Ambato</td><td>Ecuador</td><td>true</td></tr><tr><td>1993-06-17_Argentina_Bolivia_1_0</td><td>1993-06-17</td><td>Argentina</td><td>Bolivia</td><td>1</td><td>0</td><td>Copa América</td><td>Guayaquil</td><td>Ecuador</td><td>true</td></tr><tr><td>1993-06-18_Brazil_Peru_0_0</td><td>1993-06-18</td><td>Brazil</td><td>Peru</td><td>0</td><td>0</td><td>Copa América</td><td>Cuenca</td><td>Ecuador</td><td>true</td></tr><tr><td>1993-06-18_Paraguay_Chile_1_0</td><td>1993-06-18</td><td>Paraguay</td><td>Chile</td><td>1</td><td>0</td><td>Copa América</td><td>Cuenca</td><td>Ecuador</td><td>true</td></tr><tr><td>1993-06-19_Ecuador_United States_2_0</td><td>1993-06-19</td><td>Ecuador</td><td>United States</td><td>2</td><td>0</td><td>Copa América</td><td>Quito</td><td>Ecuador</td><td>false</td></tr><tr><td>1993-06-19_Uruguay_Venezuela_2_2</td><td>1993-06-19</td><td>Uruguay</td><td>Venezuela</td><td>2</td><td>2</td><td>Copa América</td><td>Ambato</td><td>Ecuador</td><td>true</td></tr><tr><td>1993-06-20_Argentina_Mexico_1_1</td><td>1993-06-20</td><td>Argentina</td><td>Mexico</td><td>1</td><td>1</td><td>Copa América</td><td>Guayaquil</td><td>Ecuador</td><td>true</td></tr><tr><td>1993-06-20_Colombia_Bolivia_1_1</td><td>1993-06-20</td><td>Colombia</td><td>Bolivia</td><td>1</td><td>1</td><td>Copa América</td><td>Machala</td><td>Ecuador</td><td>true</td></tr><tr><td>1993-06-21_Brazil_Chile_2_3</td><td>1993-06-21</td><td>Brazil</td><td>Chile</td><td>2</td><td>3</td><td>Copa América</td><td>Cuenca</td><td>Ecuador</td><td>true</td></tr><tr><td>1993-06-21_Paraguay_Peru_1_1</td><td>1993-06-21</td><td>Paraguay</td><td>Peru</td><td>1</td><td>1</td><td>Copa América</td><td>Cuenca</td><td>Ecuador</td><td>true</td></tr><tr><td>1993-06-22_Ecuador_Uruguay_2_1</td><td>1993-06-22</td><td>Ecuador</td><td>Uruguay</td><td>2</td><td>1</td><td>Copa América</td><td>Quito</td><td>Ecuador</td><td>false</td></tr><tr><td>1993-06-22_United States_Venezuela_3_3</td><td>1993-06-22</td><td>United States</td><td>Venezuela</td><td>3</td><td>3</td><td>Copa América</td><td>Quito</td><td>Ecuador</td><td>true</td></tr><tr><td>1993-06-23_Argentina_Colombia_1_1</td><td>1993-06-23</td><td>Argentina</td><td>Colombia</td><td>1</td><td>1</td><td>Copa América</td><td>Guayaquil</td><td>Ecuador</td><td>true</td></tr><tr><td>1993-06-23_Mexico_Bolivia_0_0</td><td>1993-06-23</td><td>Mexico</td><td>Bolivia</td><td>0</td><td>0</td><td>Copa América</td><td>Portoviejo</td><td>Ecuador</td><td>true</td></tr><tr><td>1993-06-24_Brazil_Paraguay_3_0</td><td>1993-06-24</td><td>Brazil</td><td>Paraguay</td><td>3</td><td>0</td><td>Copa América</td><td>Cuenca</td><td>Ecuador</td><td>true</td></tr><tr><td>1993-06-24_Chile_Peru_0_1</td><td>1993-06-24</td><td>Chile</td><td>Peru</td><td>0</td><td>1</td><td>Copa América</td><td>Cuenca</td><td>Ecuador</td><td>true</td></tr><tr><td>1993-06-26_Colombia_Uruguay_1_1</td><td>1993-06-26</td><td>Colombia</td><td>Uruguay</td><td>1</td><td>1</td><td>Copa América</td><td>Guayaquil</td><td>Ecuador</td><td>true</td></tr><tr><td>1993-06-26_Ecuador_Paraguay_3_0</td><td>1993-06-26</td><td>Ecuador</td><td>Paraguay</td><td>3</td><td>0</td><td>Copa América</td><td>Quito</td><td>Ecuador</td><td>false</td></tr><tr><td>1993-06-27_Brazil_Argentina_1_1</td><td>1993-06-27</td><td>Brazil</td><td>Argentina</td><td>1</td><td>1</td><td>Copa América</td><td>Guayaquil</td><td>Ecuador</td><td>true</td></tr><tr><td>1993-06-27_Peru_Mexico_2_4</td><td>1993-06-27</td><td>Peru</td><td>Mexico</td><td>2</td><td>4</td><td>Copa América</td><td>Quito</td><td>Ecuador</td><td>true</td></tr><tr><td>1993-06-30_Ecuador_Mexico_0_2</td><td>1993-06-30</td><td>Ecuador</td><td>Mexico</td><td>0</td><td>2</td><td>Copa América</td><td>Quito</td><td>Ecuador</td><td>false</td></tr><tr><td>1993-07-01_Colombia_Argentina_0_0</td><td>1993-07-01</td><td>Colombia</td><td>Argentina</td><td>0</td><td>0</td><td>Copa América</td><td>Guayaquil</td><td>Ecuador</td><td>true</td></tr><tr><td>1993-07-03_Ecuador_Colombia_0_1</td><td>1993-07-03</td><td>Ecuador</td><td>Colombia</td><td>0</td><td>1</td><td>Copa América</td><td>Portoviejo</td><td>Ecuador</td><td>false</td></tr><tr><td>1993-07-04_Argentina_Mexico_2_1</td><td>1993-07-04</td><td>Argentina</td><td>Mexico</td><td>2</td><td>1</td><td>Copa América</td><td>Guayaquil</td><td>Ecuador</td><td>true</td></tr><tr><td>1995-07-05_Uruguay_Venezuela_4_1</td><td>1995-07-05</td><td>Uruguay</td><td>Venezuela</td><td>4</td><td>1</td><td>Copa América</td><td>Montevideo</td><td>Uruguay</td><td>false</td></tr><tr><td>1995-07-06_Mexico_Paraguay_1_2</td><td>1995-07-06</td><td>Mexico</td><td>Paraguay</td><td>1</td><td>2</td><td>Copa América</td><td>Maldonado</td><td>Uruguay</td><td>true</td></tr><tr><td>1995-07-07_Brazil_Ecuador_1_0</td><td>1995-07-07</td><td>Brazil</td><td>Ecuador</td><td>1</td><td>0</td><td>Copa América</td><td>Rivera</td><td>Uruguay</td><td>true</td></tr><tr><td>1995-07-07_Colombia_Peru_1_1</td><td>1995-07-07</td><td>Colombia</td><td>Peru</td><td>1</td><td>1</td><td>Copa América</td><td>Rivera</td><td>Uruguay</td><td>true</td></tr><tr><td>1995-07-08_Argentina_Bolivia_2_1</td><td>1995-07-08</td><td>Argentina</td><td>Bolivia</td><td>2</td><td>1</td><td>Copa América</td><td>Paysandú</td><td>Uruguay</td><td>true</td></tr><tr><td>1995-07-08_United States_Chile_2_1</td><td>1995-07-08</td><td>United States</td><td>Chile</td><td>2</td><td>1</td><td>Copa América</td><td>Paysandú</td><td>Uruguay</td><td>true</td></tr><tr><td>1995-07-09_Mexico_Venezuela_3_1</td><td>1995-07-09</td><td>Mexico</td><td>Venezuela</td><td>3</td><td>1</td><td>Copa América</td><td>Maldonado</td><td>Uruguay</td><td>true</td></tr><tr><td>1995-07-09_Uruguay_Paraguay_1_0</td><td>1995-07-09</td><td>Uruguay</td><td>Paraguay</td><td>1</td><td>0</td><td>Copa América</td><td>Montevideo</td><td>Uruguay</td><td>false</td></tr><tr><td>1995-07-10_Brazil_Peru_2_0</td><td>1995-07-10</td><td>Brazil</td><td>Peru</td><td>2</td><td>0</td><td>Copa América</td><td>Rivera</td><td>Uruguay</td><td>true</td></tr><tr><td>1995-07-10_Colombia_Ecuador_1_0</td><td>1995-07-10</td><td>Colombia</td><td>Ecuador</td><td>1</td><td>0</td><td>Copa América</td><td>Rivera</td><td>Uruguay</td><td>true</td></tr><tr><td>1995-07-11_Argentina_Chile_4_0</td><td>1995-07-11</td><td>Argentina</td><td>Chile</td><td>4</td><td>0</td><td>Copa América</td><td>Paysandú</td><td>Uruguay</td><td>true</td></tr><tr><td>1995-07-11_United States_Bolivia_0_1</td><td>1995-07-11</td><td>United States</td><td>Bolivia</td><td>0</td><td>1</td><td>Copa América</td><td>Paysandú</td><td>Uruguay</td><td>true</td></tr><tr><td>1995-07-12_Paraguay_Venezuela_3_2</td><td>1995-07-12</td><td>Paraguay</td><td>Venezuela</td><td>3</td><td>2</td><td>Copa América</td><td>Maldonado</td><td>Uruguay</td><td>true</td></tr><tr><td>1995-07-13_Brazil_Colombia_3_0</td><td>1995-07-13</td><td>Brazil</td><td>Colombia</td><td>3</td><td>0</td><td>Copa América</td><td>Rivera</td><td>Uruguay</td><td>true</td></tr><tr><td>1995-07-13_Peru_Ecuador_1_2</td><td>1995-07-13</td><td>Peru</td><td>Ecuador</td><td>1</td><td>2</td><td>Copa América</td><td>Rivera</td><td>Uruguay</td><td>true</td></tr><tr><td>1995-07-13_Uruguay_Mexico_1_1</td><td>1995-07-13</td><td>Uruguay</td><td>Mexico</td><td>1</td><td>1</td><td>Copa América</td><td>Montevideo</td><td>Uruguay</td><td>false</td></tr><tr><td>1995-07-14_Argentina_United States_0_3</td><td>1995-07-14</td><td>Argentina</td><td>United States</td><td>0</td><td>3</td><td>Copa América</td><td>Paysandú</td><td>Uruguay</td><td>true</td></tr><tr><td>1995-07-14_Chile_Bolivia_2_2</td><td>1995-07-14</td><td>Chile</td><td>Bolivia</td><td>2</td><td>2</td><td>Copa América</td><td>Paysandú</td><td>Uruguay</td><td>true</td></tr><tr><td>1995-07-16_Paraguay_Colombia_1_1</td><td>1995-07-16</td><td>Paraguay</td><td>Colombia</td><td>1</td><td>1</td><td>Copa América</td><td>Montevideo</td><td>Uruguay</td><td>true</td></tr><tr><td>1995-07-16_Uruguay_Bolivia_2_1</td><td>1995-07-16</td><td>Uruguay</td><td>Bolivia</td><td>2</td><td>1</td><td>Copa América</td><td>Montevideo</td><td>Uruguay</td><td>false</td></tr><tr><td>1995-07-17_Brazil_Argentina_2_2</td><td>1995-07-17</td><td>Brazil</td><td>Argentina</td><td>2</td><td>2</td><td>Copa América</td><td>Rivera</td><td>Uruguay</td><td>true</td></tr><tr><td>1995-07-17_United States_Mexico_0_0</td><td>1995-07-17</td><td>United States</td><td>Mexico</td><td>0</td><td>0</td><td>Copa América</td><td>Paysandú</td><td>Uruguay</td><td>true</td></tr><tr><td>1995-07-19_Uruguay_Colombia_2_0</td><td>1995-07-19</td><td>Uruguay</td><td>Colombia</td><td>2</td><td>0</td><td>Copa América</td><td>Montevideo</td><td>Uruguay</td><td>false</td></tr><tr><td>1995-07-20_United States_Brazil_0_1</td><td>1995-07-20</td><td>United States</td><td>Brazil</td><td>0</td><td>1</td><td>Copa América</td><td>Maldonado</td><td>Uruguay</td><td>true</td></tr><tr><td>1995-07-22_Colombia_United States_4_1</td><td>1995-07-22</td><td>Colombia</td><td>United States</td><td>4</td><td>1</td><td>Copa América</td><td>Maldonado</td><td>Uruguay</td><td>true</td></tr><tr><td>1995-07-23_Uruguay_Brazil_1_1</td><td>1995-07-23</td><td>Uruguay</td><td>Brazil</td><td>1</td><td>1</td><td>Copa América</td><td>Montevideo</td><td>Uruguay</td><td>false</td></tr><tr><td>1997-06-11_Argentina_Ecuador_0_0</td><td>1997-06-11</td><td>Argentina</td><td>Ecuador</td><td>0</td><td>0</td><td>Copa América</td><td>Cochabamba</td><td>Bolivia</td><td>true</td></tr><tr><td>1997-06-11_Chile_Paraguay_0_1</td><td>1997-06-11</td><td>Chile</td><td>Paraguay</td><td>0</td><td>1</td><td>Copa América</td><td>Cochabamba</td><td>Bolivia</td><td>true</td></tr><tr><td>1997-06-12_Bolivia_Venezuela_1_0</td><td>1997-06-12</td><td>Bolivia</td><td>Venezuela</td><td>1</td><td>0</td><td>Copa América</td><td>La Paz</td><td>Bolivia</td><td>false</td></tr><tr><td>1997-06-12_Peru_Uruguay_1_0</td><td>1997-06-12</td><td>Peru</td><td>Uruguay</td><td>1</td><td>0</td><td>Copa América</td><td>Sucre</td><td>Bolivia</td><td>true</td></tr><tr><td>1997-06-13_Brazil_Costa Rica_5_0</td><td>1997-06-13</td><td>Brazil</td><td>Costa Rica</td><td>5</td><td>0</td><td>Copa América</td><td>Santa Cruz</td><td>Bolivia</td><td>true</td></tr><tr><td>1997-06-13_Mexico_Colombia_2_1</td><td>1997-06-13</td><td>Mexico</td><td>Colombia</td><td>2</td><td>1</td><td>Copa América</td><td>Santa Cruz</td><td>Bolivia</td><td>true</td></tr><tr><td>1997-06-14_Argentina_Chile_2_0</td><td>1997-06-14</td><td>Argentina</td><td>Chile</td><td>2</td><td>0</td><td>Copa América</td><td>Cochabamba</td><td>Bolivia</td><td>true</td></tr><tr><td>1997-06-14_Paraguay_Ecuador_0_2</td><td>1997-06-14</td><td>Paraguay</td><td>Ecuador</td><td>0</td><td>2</td><td>Copa América</td><td>Cochabamba</td><td>Bolivia</td><td>true</td></tr><tr><td>1997-06-15_Bolivia_Peru_2_0</td><td>1997-06-15</td><td>Bolivia</td><td>Peru</td><td>2</td><td>0</td><td>Copa América</td><td>La Paz</td><td>Bolivia</td><td>false</td></tr><tr><td>1997-06-15_Uruguay_Venezuela_2_0</td><td>1997-06-15</td><td>Uruguay</td><td>Venezuela</td><td>2</td><td>0</td><td>Copa América</td><td>Sucre</td><td>Bolivia</td><td>true</td></tr><tr><td>1997-06-16_Brazil_Mexico_3_2</td><td>1997-06-16</td><td>Brazil</td><td>Mexico</td><td>3</td><td>2</td><td>Copa América</td><td>Santa Cruz</td><td>Bolivia</td><td>true</td></tr><tr><td>1997-06-16_Colombia_Costa Rica_4_1</td><td>1997-06-16</td><td>Colombia</td><td>Costa Rica</td><td>4</td><td>1</td><td>Copa América</td><td>Santa Cruz</td><td>Bolivia</td><td>true</td></tr><tr><td>1997-06-17_Argentina_Paraguay_1_1</td><td>1997-06-17</td><td>Argentina</td><td>Paraguay</td><td>1</td><td>1</td><td>Copa América</td><td>Cochabamba</td><td>Bolivia</td><td>true</td></tr><tr><td>1997-06-17_Chile_Ecuador_1_2</td><td>1997-06-17</td><td>Chile</td><td>Ecuador</td><td>1</td><td>2</td><td>Copa América</td><td>Cochabamba</td><td>Bolivia</td><td>true</td></tr><tr><td>1997-06-18_Bolivia_Uruguay_1_0</td><td>1997-06-18</td><td>Bolivia</td><td>Uruguay</td><td>1</td><td>0</td><td>Copa América</td><td>La Paz</td><td>Bolivia</td><td>false</td></tr><tr><td>1997-06-18_Peru_Venezuela_2_0</td><td>1997-06-18</td><td>Peru</td><td>Venezuela</td><td>2</td><td>0</td><td>Copa América</td><td>Sucre</td><td>Bolivia</td><td>true</td></tr><tr><td>1997-06-19_Brazil_Colombia_2_0</td><td>1997-06-19</td><td>Brazil</td><td>Colombia</td><td>2</td><td>0</td><td>Copa América</td><td>Santa Cruz</td><td>Bolivia</td><td>true</td></tr><tr><td>1997-06-19_Mexico_Costa Rica_1_1</td><td>1997-06-19</td><td>Mexico</td><td>Costa Rica</td><td>1</td><td>1</td><td>Copa América</td><td>Santa Cruz</td><td>Bolivia</td><td>true</td></tr><tr><td>1997-06-21_Bolivia_Colombia_2_1</td><td>1997-06-21</td><td>Bolivia</td><td>Colombia</td><td>2</td><td>1</td><td>Copa América</td><td>La Paz</td><td>Bolivia</td><td>false</td></tr><tr><td>1997-06-21_Peru_Argentina_2_1</td><td>1997-06-21</td><td>Peru</td><td>Argentina</td><td>2</td><td>1</td><td>Copa América</td><td>Sucre</td><td>Bolivia</td><td>true</td></tr><tr><td>1997-06-22_Brazil_Paraguay_2_0</td><td>1997-06-22</td><td>Brazil</td><td>Paraguay</td><td>2</td><td>0</td><td>Copa América</td><td>Santa Cruz</td><td>Bolivia</td><td>true</td></tr><tr><td>1997-06-22_Ecuador_Mexico_1_1</td><td>1997-06-22</td><td>Ecuador</td><td>Mexico</td><td>1</td><td>1</td><td>Copa América</td><td>Cochabamba</td><td>Bolivia</td><td>true</td></tr><tr><td>1997-06-25_Bolivia_Mexico_3_1</td><td>1997-06-25</td><td>Bolivia</td><td>Mexico</td><td>3</td><td>1</td><td>Copa América</td><td>La Paz</td><td>Bolivia</td><td>false</td></tr><tr><td>1997-06-26_Brazil_Peru_7_0</td><td>1997-06-26</td><td>Brazil</td><td>Peru</td><td>7</td><td>0</td><td>Copa América</td><td>Santa Cruz</td><td>Bolivia</td><td>true</td></tr><tr><td>1997-06-28_Mexico_Peru_1_0</td><td>1997-06-28</td><td>Mexico</td><td>Peru</td><td>1</td><td>0</td><td>Copa América</td><td>Oruro</td><td>Bolivia</td><td>true</td></tr><tr><td>1997-06-29_Bolivia_Brazil_1_3</td><td>1997-06-29</td><td>Bolivia</td><td>Brazil</td><td>1</td><td>3</td><td>Copa América</td><td>La Paz</td><td>Bolivia</td><td>false</td></tr><tr><td>1999-06-29_Paraguay_Bolivia_0_0</td><td>1999-06-29</td><td>Paraguay</td><td>Bolivia</td><td>0</td><td>0</td><td>Copa América</td><td>Asunción</td><td>Paraguay</td><td>false</td></tr><tr><td>1999-06-29_Peru_Japan_3_2</td><td>1999-06-29</td><td>Peru</td><td>Japan</td><td>3</td><td>2</td><td>Copa América</td><td>Asunción</td><td>Paraguay</td><td>true</td></tr><tr><td>1999-06-30_Brazil_Venezuela_7_0</td><td>1999-06-30</td><td>Brazil</td><td>Venezuela</td><td>7</td><td>0</td><td>Copa América</td><td>Ciudad del Este</td><td>Paraguay</td><td>true</td></tr><tr><td>1999-06-30_Chile_Mexico_0_1</td><td>1999-06-30</td><td>Chile</td><td>Mexico</td><td>0</td><td>1</td><td>Copa América</td><td>Ciudad del Este</td><td>Paraguay</td><td>true</td></tr><tr><td>1999-07-01_Argentina_Ecuador_3_1</td><td>1999-07-01</td><td>Argentina</td><td>Ecuador</td><td>3</td><td>1</td><td>Copa América</td><td>Luque</td><td>Paraguay</td><td>true</td></tr><tr><td>1999-07-01_Uruguay_Colombia_0_1</td><td>1999-07-01</td><td>Uruguay</td><td>Colombia</td><td>0</td><td>1</td><td>Copa América</td><td>Asunción</td><td>Paraguay</td><td>true</td></tr><tr><td>1999-07-02_Paraguay_Japan_4_0</td><td>1999-07-02</td><td>Paraguay</td><td>Japan</td><td>4</td><td>0</td><td>Copa América</td><td>Asunción</td><td>Paraguay</td><td>false</td></tr><tr><td>1999-07-02_Peru_Bolivia_1_0</td><td>1999-07-02</td><td>Peru</td><td>Bolivia</td><td>1</td><td>0</td><td>Copa América</td><td>Asunción</td><td>Paraguay</td><td>true</td></tr><tr><td>1999-07-03_Brazil_Mexico_2_1</td><td>1999-07-03</td><td>Brazil</td><td>Mexico</td><td>2</td><td>1</td><td>Copa América</td><td>Ciudad del Este</td><td>Paraguay</td><td>true</td></tr><tr><td>1999-07-03_Chile_Venezuela_3_0</td><td>1999-07-03</td><td>Chile</td><td>Venezuela</td><td>3</td><td>0</td><td>Copa América</td><td>Ciudad del Este</td><td>Paraguay</td><td>true</td></tr><tr><td>1999-07-04_Argentina_Colombia_0_3</td><td>1999-07-04</td><td>Argentina</td><td>Colombia</td><td>0</td><td>3</td><td>Copa América</td><td>Luque</td><td>Paraguay</td><td>true</td></tr><tr><td>1999-07-04_Uruguay_Ecuador_2_1</td><td>1999-07-04</td><td>Uruguay</td><td>Ecuador</td><td>2</td><td>1</td><td>Copa América</td><td>Luque</td><td>Paraguay</td><td>true</td></tr><tr><td>1999-07-05_Bolivia_Japan_1_1</td><td>1999-07-05</td><td>Bolivia</td><td>Japan</td><td>1</td><td>1</td><td>Copa América</td><td>Pedro Juan Caballero</td><td>Paraguay</td><td>true</td></tr><tr><td>1999-07-05_Paraguay_Peru_1_0</td><td>1999-07-05</td><td>Paraguay</td><td>Peru</td><td>1</td><td>0</td><td>Copa América</td><td>Pedro Juan Caballero</td><td>Paraguay</td><td>false</td></tr><tr><td>1999-07-06_Brazil_Chile_1_0</td><td>1999-07-06</td><td>Brazil</td><td>Chile</td><td>1</td><td>0</td><td>Copa América</td><td>Ciudad del Este</td><td>Paraguay</td><td>true</td></tr><tr><td>1999-07-06_Mexico_Venezuela_3_1</td><td>1999-07-06</td><td>Mexico</td><td>Venezuela</td><td>3</td><td>1</td><td>Copa América</td><td>Ciudad del Este</td><td>Paraguay</td><td>true</td></tr><tr><td>1999-07-07_Colombia_Ecuador_2_1</td><td>1999-07-07</td><td>Colombia</td><td>Ecuador</td><td>2</td><td>1</td><td>Copa América</td><td>Luque</td><td>Paraguay</td><td>true</td></tr><tr><td>1999-07-07_Uruguay_Argentina_0_2</td><td>1999-07-07</td><td>Uruguay</td><td>Argentina</td><td>0</td><td>2</td><td>Copa América</td><td>Luque</td><td>Paraguay</td><td>true</td></tr><tr><td>1999-07-10_Mexico_Peru_3_3</td><td>1999-07-10</td><td>Mexico</td><td>Peru</td><td>3</td><td>3</td><td>Copa América</td><td>Asunción</td><td>Paraguay</td><td>true</td></tr><tr><td>1999-07-10_Paraguay_Uruguay_1_1</td><td>1999-07-10</td><td>Paraguay</td><td>Uruguay</td><td>1</td><td>1</td><td>Copa América</td><td>Asunción</td><td>Paraguay</td><td>false</td></tr><tr><td>1999-07-11_Brazil_Argentina_2_1</td><td>1999-07-11</td><td>Brazil</td><td>Argentina</td><td>2</td><td>1</td><td>Copa América</td><td>Ciudad del Este</td><td>Paraguay</td><td>true</td></tr><tr><td>1999-07-11_Chile_Colombia_3_2</td><td>1999-07-11</td><td>Chile</td><td>Colombia</td><td>3</td><td>2</td><td>Copa América</td><td>Luque</td><td>Paraguay</td><td>true</td></tr><tr><td>1999-07-13_Uruguay_Chile_1_1</td><td>1999-07-13</td><td>Uruguay</td><td>Chile</td><td>1</td><td>1</td><td>Copa América</td><td>Asunción</td><td>Paraguay</td><td>true</td></tr><tr><td>1999-07-14_Mexico_Brazil_0_2</td><td>1999-07-14</td><td>Mexico</td><td>Brazil</td><td>0</td><td>2</td><td>Copa América</td><td>Ciudad del Este</td><td>Paraguay</td><td>true</td></tr><tr><td>1999-07-17_Chile_Mexico_1_2</td><td>1999-07-17</td><td>Chile</td><td>Mexico</td><td>1</td><td>2</td><td>Copa América</td><td>Asunción</td><td>Paraguay</td><td>true</td></tr><tr><td>1999-07-18_Brazil_Uruguay_3_0</td><td>1999-07-18</td><td>Brazil</td><td>Uruguay</td><td>3</td><td>0</td><td>Copa América</td><td>Asunción</td><td>Paraguay</td><td>true</td></tr><tr><td>1979-11-28_Paraguay_Chile_3_0</td><td>1979-11-28</td><td>Paraguay</td><td>Chile</td><td>3</td><td>0</td><td>Copa América</td><td>Asunción</td><td>Paraguay</td><td>false</td></tr><tr><td>1979-12-05_Chile_Paraguay_1_0</td><td>1979-12-05</td><td>Chile</td><td>Paraguay</td><td>1</td><td>0</td><td>Copa América</td><td>Santiago</td><td>Chile</td><td>false</td></tr><tr><td>1979-12-11_Chile_Paraguay_0_0</td><td>1979-12-11</td><td>Chile</td><td>Paraguay</td><td>0</td><td>0</td><td>Copa América</td><td>Buenos Aires</td><td>Argentina</td><td>true</td></tr><tr><td>1983-08-10_Ecuador_Argentina_2_2</td><td>1983-08-10</td><td>Ecuador</td><td>Argentina</td><td>2</td><td>2</td><td>Copa América</td><td>Quito</td><td>Ecuador</td><td>false</td></tr><tr><td>1983-08-14_Bolivia_Colombia_0_1</td><td>1983-08-14</td><td>Bolivia</td><td>Colombia</td><td>0</td><td>1</td><td>Copa América</td><td>La Paz</td><td>Bolivia</td><td>false</td></tr><tr><td>1983-08-17_Ecuador_Brazil_0_1</td><td>1983-08-17</td><td>Ecuador</td><td>Brazil</td><td>0</td><td>1</td><td>Copa América</td><td>Quito</td><td>Ecuador</td><td>false</td></tr><tr><td>1983-08-17_Peru_Colombia_1_0</td><td>1983-08-17</td><td>Peru</td><td>Colombia</td><td>1</td><td>0</td><td>Copa América</td><td>Lima</td><td>Peru</td><td>false</td></tr><tr><td>1983-08-21_Bolivia_Peru_1_1</td><td>1983-08-21</td><td>Bolivia</td><td>Peru</td><td>1</td><td>1</td><td>Copa América</td><td>La Paz</td><td>Bolivia</td><td>false</td></tr><tr><td>1983-08-24_Argentina_Brazil_1_0</td><td>1983-08-24</td><td>Argentina</td><td>Brazil</td><td>1</td><td>0</td><td>Copa América</td><td>Buenos Aires</td><td>Argentina</td><td>false</td></tr><tr><td>1983-08-28_Colombia_Peru_2_2</td><td>1983-08-28</td><td>Colombia</td><td>Peru</td><td>2</td><td>2</td><td>Copa América</td><td>Bogotá</td><td>Colombia</td><td>false</td></tr><tr><td>1983-08-31_Colombia_Bolivia_2_2</td><td>1983-08-31</td><td>Colombia</td><td>Bolivia</td><td>2</td><td>2</td><td>Copa América</td><td>Bogotá</td><td>Colombia</td><td>false</td></tr><tr><td>1983-09-01_Brazil_Ecuador_5_0</td><td>1983-09-01</td><td>Brazil</td><td>Ecuador</td><td>5</td><td>0</td><td>Copa América</td><td>Goiânia</td><td>Brazil</td><td>false</td></tr><tr><td>1983-09-01_Uruguay_Chile_2_1</td><td>1983-09-01</td><td>Uruguay</td><td>Chile</td><td>2</td><td>1</td><td>Copa América</td><td>Montevideo</td><td>Uruguay</td><td>false</td></tr><tr><td>1983-09-04_Peru_Bolivia_2_1</td><td>1983-09-04</td><td>Peru</td><td>Bolivia</td><td>2</td><td>1</td><td>Copa América</td><td>Lima</td><td>Peru</td><td>false</td></tr><tr><td>1983-09-04_Uruguay_Venezuela_3_0</td><td>1983-09-04</td><td>Uruguay</td><td>Venezuela</td><td>3</td><td>0</td><td>Copa América</td><td>Montevideo</td><td>Uruguay</td><td>false</td></tr><tr><td>1983-09-07_Argentina_Ecuador_2_2</td><td>1983-09-07</td><td>Argentina</td><td>Ecuador</td><td>2</td><td>2</td><td>Copa América</td><td>Buenos Aires</td><td>Argentina</td><td>false</td></tr><tr><td>1983-09-08_Chile_Venezuela_5_0</td><td>1983-09-08</td><td>Chile</td><td>Venezuela</td><td>5</td><td>0</td><td>Copa América</td><td>Santiago</td><td>Chile</td><td>false</td></tr><tr><td>1983-09-11_Chile_Uruguay_2_0</td><td>1983-09-11</td><td>Chile</td><td>Uruguay</td><td>2</td><td>0</td><td>Copa América</td><td>Santiago</td><td>Chile</td><td>false</td></tr><tr><td>1983-09-14_Brazil_Argentina_0_0</td><td>1983-09-14</td><td>Brazil</td><td>Argentina</td><td>0</td><td>0</td><td>Copa América</td><td>Rio de Janeiro</td><td>Brazil</td><td>false</td></tr><tr><td>1983-09-18_Venezuela_Uruguay_1_2</td><td>1983-09-18</td><td>Venezuela</td><td>Uruguay</td><td>1</td><td>2</td><td>Copa América</td><td>Caracas</td><td>Venezuela</td><td>false</td></tr><tr><td>1983-09-21_Venezuela_Chile_0_0</td><td>1983-09-21</td><td>Venezuela</td><td>Chile</td><td>0</td><td>0</td><td>Copa América</td><td>Caracas</td><td>Venezuela</td><td>false</td></tr><tr><td>1983-10-13_Paraguay_Brazil_1_1</td><td>1983-10-13</td><td>Paraguay</td><td>Brazil</td><td>1</td><td>1</td><td>Copa América</td><td>Asunción</td><td>Paraguay</td><td>false</td></tr><tr><td>1983-10-13_Peru_Uruguay_0_1</td><td>1983-10-13</td><td>Peru</td><td>Uruguay</td><td>0</td><td>1</td><td>Copa América</td><td>Lima</td><td>Peru</td><td>false</td></tr><tr><td>1983-10-20_Brazil_Paraguay_0_0</td><td>1983-10-20</td><td>Brazil</td><td>Paraguay</td><td>0</td><td>0</td><td>Copa América</td><td>Uberlândia</td><td>Brazil</td><td>false</td></tr><tr><td>1983-10-20_Uruguay_Peru_1_1</td><td>1983-10-20</td><td>Uruguay</td><td>Peru</td><td>1</td><td>1</td><td>Copa América</td><td>Montevideo</td><td>Uruguay</td><td>false</td></tr><tr><td>1983-10-27_Uruguay_Brazil_2_0</td><td>1983-10-27</td><td>Uruguay</td><td>Brazil</td><td>2</td><td>0</td><td>Copa América</td><td>Montevideo</td><td>Uruguay</td><td>false</td></tr><tr><td>1983-11-04_Brazil_Uruguay_1_1</td><td>1983-11-04</td><td>Brazil</td><td>Uruguay</td><td>1</td><td>1</td><td>Copa América</td><td>Salvador</td><td>Brazil</td><td>false</td></tr><tr><td>1987-06-27_Argentina_Peru_1_1</td><td>1987-06-27</td><td>Argentina</td><td>Peru</td><td>1</td><td>1</td><td>Copa América</td><td>Buenos Aires</td><td>Argentina</td><td>false</td></tr><tr><td>1987-06-28_Brazil_Venezuela_5_0</td><td>1987-06-28</td><td>Brazil</td><td>Venezuela</td><td>5</td><td>0</td><td>Copa América</td><td>Córdoba</td><td>Argentina</td><td>true</td></tr><tr><td>1987-06-28_Paraguay_Bolivia_0_0</td><td>1987-06-28</td><td>Paraguay</td><td>Bolivia</td><td>0</td><td>0</td><td>Copa América</td><td>Rosario</td><td>Argentina</td><td>true</td></tr><tr><td>1987-06-30_Venezuela_Chile_1_3</td><td>1987-06-30</td><td>Venezuela</td><td>Chile</td><td>1</td><td>3</td><td>Copa América</td><td>Córdoba</td><td>Argentina</td><td>true</td></tr><tr><td>1987-07-01_Bolivia_Colombia_0_2</td><td>1987-07-01</td><td>Bolivia</td><td>Colombia</td><td>0</td><td>2</td><td>Copa América</td><td>Rosario</td><td>Argentina</td><td>true</td></tr><tr><td>1987-07-02_Argentina_Ecuador_3_0</td><td>1987-07-02</td><td>Argentina</td><td>Ecuador</td><td>3</td><td>0</td><td>Copa América</td><td>Buenos Aires</td><td>Argentina</td><td>false</td></tr><tr><td>1987-07-03_Chile_Brazil_4_0</td><td>1987-07-03</td><td>Chile</td><td>Brazil</td><td>4</td><td>0</td><td>Copa América</td><td>Córdoba</td><td>Argentina</td><td>true</td></tr><tr><td>1987-07-04_Peru_Ecuador_1_1</td><td>1987-07-04</td><td>Peru</td><td>Ecuador</td><td>1</td><td>1</td><td>Copa América</td><td>Buenos Aires</td><td>Argentina</td><td>true</td></tr><tr><td>1987-07-05_Colombia_Paraguay_3_0</td><td>1987-07-05</td><td>Colombia</td><td>Paraguay</td><td>3</td><td>0</td><td>Copa América</td><td>Rosario</td><td>Argentina</td><td>true</td></tr><tr><td>1987-07-08_Chile_Colombia_2_1</td><td>1987-07-08</td><td>Chile</td><td>Colombia</td><td>2</td><td>1</td><td>Copa América</td><td>Córdoba</td><td>Argentina</td><td>true</td></tr><tr><td>1987-07-09_Argentina_Uruguay_0_1</td><td>1987-07-09</td><td>Argentina</td><td>Uruguay</td><td>0</td><td>1</td><td>Copa América</td><td>Buenos Aires</td><td>Argentina</td><td>false</td></tr><tr><td>1987-07-11_Argentina_Colombia_1_2</td><td>1987-07-11</td><td>Argentina</td><td>Colombia</td><td>1</td><td>2</td><td>Copa América</td><td>Buenos Aires</td><td>Argentina</td><td>false</td></tr><tr><td>1987-07-12_Chile_Uruguay_0_1</td><td>1987-07-12</td><td>Chile</td><td>Uruguay</td><td>0</td><td>1</td><td>Copa América</td><td>Buenos Aires</td><td>Argentina</td><td>true</td></tr><tr><td>1989-07-01_Brazil_Venezuela_3_1</td><td>1989-07-01</td><td>Brazil</td><td>Venezuela</td><td>3</td><td>1</td><td>Copa América</td><td>Salvador</td><td>Brazil</td><td>false</td></tr><tr><td>1989-07-01_Paraguay_Peru_5_2</td><td>1989-07-01</td><td>Paraguay</td><td>Peru</td><td>5</td><td>2</td><td>Copa América</td><td>Salvador</td><td>Brazil</td><td>true</td></tr><tr><td>1989-07-02_Argentina_Chile_1_0</td><td>1989-07-02</td><td>Argentina</td><td>Chile</td><td>1</td><td>0</td><td>Copa América</td><td>Goiânia</td><td>Brazil</td><td>true</td></tr><tr><td>1989-07-02_Uruguay_Ecuador_0_1</td><td>1989-07-02</td><td>Uruguay</td><td>Ecuador</td><td>0</td><td>1</td><td>Copa América</td><td>Goiânia</td><td>Brazil</td><td>true</td></tr><tr><td>1989-07-03_Brazil_Peru_0_0</td><td>1989-07-03</td><td>Brazil</td><td>Peru</td><td>0</td><td>0</td><td>Copa América</td><td>Salvador</td><td>Brazil</td><td>false</td></tr><tr><td>1989-07-03_Venezuela_Colombia_2_4</td><td>1989-07-03</td><td>Venezuela</td><td>Colombia</td><td>2</td><td>4</td><td>Copa América</td><td>Salvador</td><td>Brazil</td><td>true</td></tr><tr><td>1989-07-04_Argentina_Ecuador_0_0</td><td>1989-07-04</td><td>Argentina</td><td>Ecuador</td><td>0</td><td>0</td><td>Copa América</td><td>Goiânia</td><td>Brazil</td><td>true</td></tr><tr><td>1989-07-04_Uruguay_Bolivia_3_0</td><td>1989-07-04</td><td>Uruguay</td><td>Bolivia</td><td>3</td><td>0</td><td>Copa América</td><td>Goiânia</td><td>Brazil</td><td>true</td></tr><tr><td>1989-07-05_Colombia_Paraguay_0_1</td><td>1989-07-05</td><td>Colombia</td><td>Paraguay</td><td>0</td><td>1</td><td>Copa América</td><td>Salvador</td><td>Brazil</td><td>true</td></tr><tr><td>1989-07-05_Peru_Venezuela_1_1</td><td>1989-07-05</td><td>Peru</td><td>Venezuela</td><td>1</td><td>1</td><td>Copa América</td><td>Salvador</td><td>Brazil</td><td>true</td></tr><tr><td>1989-07-06_Chile_Uruguay_0_3</td><td>1989-07-06</td><td>Chile</td><td>Uruguay</td><td>0</td><td>3</td><td>Copa América</td><td>Goiânia</td><td>Brazil</td><td>true</td></tr><tr><td>1989-07-06_Ecuador_Bolivia_0_0</td><td>1989-07-06</td><td>Ecuador</td><td>Bolivia</td><td>0</td><td>0</td><td>Copa América</td><td>Goiânia</td><td>Brazil</td><td>true</td></tr><tr><td>1989-07-07_Brazil_Colombia_0_0</td><td>1989-07-07</td><td>Brazil</td><td>Colombia</td><td>0</td><td>0</td><td>Copa América</td><td>Salvador</td><td>Brazil</td><td>false</td></tr><tr><td>1989-07-07_Paraguay_Venezuela_3_0</td><td>1989-07-07</td><td>Paraguay</td><td>Venezuela</td><td>3</td><td>0</td><td>Copa América</td><td>Salvador</td><td>Brazil</td><td>true</td></tr><tr><td>1989-07-08_Bolivia_Chile_0_5</td><td>1989-07-08</td><td>Bolivia</td><td>Chile</td><td>0</td><td>5</td><td>Copa América</td><td>Goiânia</td><td>Brazil</td><td>true</td></tr><tr><td>1989-07-08_Uruguay_Argentina_0_1</td><td>1989-07-08</td><td>Uruguay</td><td>Argentina</td><td>0</td><td>1</td><td>Copa América</td><td>Goiânia</td><td>Brazil</td><td>true</td></tr><tr><td>1989-07-09_Brazil_Paraguay_2_0</td><td>1989-07-09</td><td>Brazil</td><td>Paraguay</td><td>2</td><td>0</td><td>Copa América</td><td>Recife</td><td>Brazil</td><td>false</td></tr><tr><td>1989-07-09_Colombia_Peru_1_1</td><td>1989-07-09</td><td>Colombia</td><td>Peru</td><td>1</td><td>1</td><td>Copa América</td><td>Recife</td><td>Brazil</td><td>true</td></tr><tr><td>1989-07-10_Argentina_Bolivia_0_0</td><td>1989-07-10</td><td>Argentina</td><td>Bolivia</td><td>0</td><td>0</td><td>Copa América</td><td>Goiânia</td><td>Brazil</td><td>true</td></tr><tr><td>1989-07-10_Chile_Ecuador_2_1</td><td>1989-07-10</td><td>Chile</td><td>Ecuador</td><td>2</td><td>1</td><td>Copa América</td><td>Goiânia</td><td>Brazil</td><td>true</td></tr><tr><td>1989-07-12_Brazil_Argentina_2_0</td><td>1989-07-12</td><td>Brazil</td><td>Argentina</td><td>2</td><td>0</td><td>Copa América</td><td>Rio de Janeiro</td><td>Brazil</td><td>false</td></tr><tr><td>1989-07-12_Paraguay_Uruguay_0_3</td><td>1989-07-12</td><td>Paraguay</td><td>Uruguay</td><td>0</td><td>3</td><td>Copa América</td><td>Rio de Janeiro</td><td>Brazil</td><td>true</td></tr><tr><td>1989-07-14_Argentina_Uruguay_0_2</td><td>1989-07-14</td><td>Argentina</td><td>Uruguay</td><td>0</td><td>2</td><td>Copa América</td><td>Rio de Janeiro</td><td>Brazil</td><td>true</td></tr><tr><td>1989-07-14_Brazil_Paraguay_3_0</td><td>1989-07-14</td><td>Brazil</td><td>Paraguay</td><td>3</td><td>0</td><td>Copa América</td><td>Rio de Janeiro</td><td>Brazil</td><td>false</td></tr><tr><td>1989-07-16_Brazil_Uruguay_1_0</td><td>1989-07-16</td><td>Brazil</td><td>Uruguay</td><td>1</td><td>0</td><td>Copa América</td><td>Rio de Janeiro</td><td>Brazil</td><td>false</td></tr><tr><td>1989-07-16_Paraguay_Argentina_0_0</td><td>1989-07-16</td><td>Paraguay</td><td>Argentina</td><td>0</td><td>0</td><td>Copa América</td><td>Rio de Janeiro</td><td>Brazil</td><td>true</td></tr><tr><td>1991-07-06_Chile_Venezuela_2_0</td><td>1991-07-06</td><td>Chile</td><td>Venezuela</td><td>2</td><td>0</td><td>Copa América</td><td>Santiago</td><td>Chile</td><td>false</td></tr><tr><td>1991-07-06_Paraguay_Peru_1_0</td><td>1991-07-06</td><td>Paraguay</td><td>Peru</td><td>1</td><td>0</td><td>Copa América</td><td>Santiago</td><td>Chile</td><td>true</td></tr><tr><td>1991-07-07_Bolivia_Uruguay_1_1</td><td>1991-07-07</td><td>Bolivia</td><td>Uruguay</td><td>1</td><td>1</td><td>Copa América</td><td>Valparaíso</td><td>Chile</td><td>true</td></tr><tr><td>1991-07-07_Colombia_Ecuador_1_0</td><td>1991-07-07</td><td>Colombia</td><td>Ecuador</td><td>1</td><td>0</td><td>Copa América</td><td>Valparaíso</td><td>Chile</td><td>true</td></tr><tr><td>1991-07-08_Argentina_Venezuela_3_0</td><td>1991-07-08</td><td>Argentina</td><td>Venezuela</td><td>3</td><td>0</td><td>Copa América</td><td>Santiago</td><td>Chile</td><td>true</td></tr><tr><td>1991-07-08_Chile_Peru_4_2</td><td>1991-07-08</td><td>Chile</td><td>Peru</td><td>4</td><td>2</td><td>Copa América</td><td>Concepción</td><td>Chile</td><td>false</td></tr><tr><td>1991-07-09_Bolivia_Brazil_1_2</td><td>1991-07-09</td><td>Bolivia</td><td>Brazil</td><td>1</td><td>2</td><td>Copa América</td><td>Viña del Mar</td><td>Chile</td><td>true</td></tr><tr><td>1991-07-09_Ecuador_Uruguay_1_1</td><td>1991-07-09</td><td>Ecuador</td><td>Uruguay</td><td>1</td><td>1</td><td>Copa América</td><td>Viña del Mar</td><td>Chile</td><td>true</td></tr><tr><td>1991-07-10_Chile_Argentina_0_1</td><td>1991-07-10</td><td>Chile</td><td>Argentina</td><td>0</td><td>1</td><td>Copa América</td><td>Santiago</td><td>Chile</td><td>false</td></tr><tr><td>1991-07-10_Paraguay_Venezuela_5_0</td><td>1991-07-10</td><td>Paraguay</td><td>Venezuela</td><td>5</td><td>0</td><td>Copa América</td><td>Santiago</td><td>Chile</td><td>true</td></tr><tr><td>1991-07-11_Bolivia_Colombia_0_0</td><td>1991-07-11</td><td>Bolivia</td><td>Colombia</td><td>0</td><td>0</td><td>Copa América</td><td>Viña del Mar</td><td>Chile</td><td>true</td></tr><tr><td>1991-07-11_Brazil_Uruguay_1_1</td><td>1991-07-11</td><td>Brazil</td><td>Uruguay</td><td>1</td><td>1</td><td>Copa América</td><td>Viña del Mar</td><td>Chile</td><td>true</td></tr><tr><td>1991-07-12_Argentina_Paraguay_4_1</td><td>1991-07-12</td><td>Argentina</td><td>Paraguay</td><td>4</td><td>1</td><td>Copa América</td><td>Concepción</td><td>Chile</td><td>true</td></tr><tr><td>1991-07-12_Peru_Venezuela_5_1</td><td>1991-07-12</td><td>Peru</td><td>Venezuela</td><td>5</td><td>1</td><td>Copa América</td><td>Santiago</td><td>Chile</td><td>true</td></tr><tr><td>1991-07-13_Bolivia_Ecuador_0_4</td><td>1991-07-13</td><td>Bolivia</td><td>Ecuador</td><td>0</td><td>4</td><td>Copa América</td><td>Viña del Mar</td><td>Chile</td><td>true</td></tr><tr><td>1991-07-13_Brazil_Colombia_0_2</td><td>1991-07-13</td><td>Brazil</td><td>Colombia</td><td>0</td><td>2</td><td>Copa América</td><td>Viña del Mar</td><td>Chile</td><td>true</td></tr><tr><td>1991-07-14_Argentina_Peru_3_2</td><td>1991-07-14</td><td>Argentina</td><td>Peru</td><td>3</td><td>2</td><td>Copa América</td><td>Santiago</td><td>Chile</td><td>true</td></tr><tr><td>1991-07-14_Chile_Paraguay_4_0</td><td>1991-07-14</td><td>Chile</td><td>Paraguay</td><td>4</td><td>0</td><td>Copa América</td><td>Santiago</td><td>Chile</td><td>false</td></tr><tr><td>1991-07-15_Brazil_Ecuador_3_1</td><td>1991-07-15</td><td>Brazil</td><td>Ecuador</td><td>3</td><td>1</td><td>Copa América</td><td>Viña del Mar</td><td>Chile</td><td>true</td></tr><tr><td>1991-07-15_Colombia_Uruguay_0_1</td><td>1991-07-15</td><td>Colombia</td><td>Uruguay</td><td>0</td><td>1</td><td>Copa América</td><td>Viña del Mar</td><td>Chile</td><td>true</td></tr><tr><td>1991-07-17_Argentina_Brazil_3_2</td><td>1991-07-17</td><td>Argentina</td><td>Brazil</td><td>3</td><td>2</td><td>Copa América</td><td>Santiago</td><td>Chile</td><td>true</td></tr><tr><td>1991-07-17_Chile_Colombia_1_1</td><td>1991-07-17</td><td>Chile</td><td>Colombia</td><td>1</td><td>1</td><td>Copa América</td><td>Santiago</td><td>Chile</td><td>false</td></tr><tr><td>1991-07-19_Brazil_Colombia_2_0</td><td>1991-07-19</td><td>Brazil</td><td>Colombia</td><td>2</td><td>0</td><td>Copa América</td><td>Santiago</td><td>Chile</td><td>true</td></tr><tr><td>1991-07-19_Chile_Argentina_0_0</td><td>1991-07-19</td><td>Chile</td><td>Argentina</td><td>0</td><td>0</td><td>Copa América</td><td>Santiago</td><td>Chile</td><td>false</td></tr><tr><td>1991-07-21_Argentina_Colombia_2_1</td><td>1991-07-21</td><td>Argentina</td><td>Colombia</td><td>2</td><td>1</td><td>Copa América</td><td>Santiago</td><td>Chile</td><td>true</td></tr><tr><td>1991-07-21_Chile_Brazil_0_2</td><td>1991-07-21</td><td>Chile</td><td>Brazil</td><td>0</td><td>2</td><td>Copa América</td><td>Santiago</td><td>Chile</td><td>false</td></tr><tr><td>1967-01-17_Uruguay_Bolivia_4_0</td><td>1967-01-17</td><td>Uruguay</td><td>Bolivia</td><td>4</td><td>0</td><td>Copa América</td><td>Montevideo</td><td>Uruguay</td><td>false</td></tr><tr><td>1967-01-18_Argentina_Paraguay_4_1</td><td>1967-01-18</td><td>Argentina</td><td>Paraguay</td><td>4</td><td>1</td><td>Copa América</td><td>Montevideo</td><td>Uruguay</td><td>true</td></tr><tr><td>1967-01-18_Chile_Venezuela_2_0</td><td>1967-01-18</td><td>Chile</td><td>Venezuela</td><td>2</td><td>0</td><td>Copa América</td><td>Montevideo</td><td>Uruguay</td><td>true</td></tr><tr><td>1967-01-21_Uruguay_Venezuela_4_0</td><td>1967-01-21</td><td>Uruguay</td><td>Venezuela</td><td>4</td><td>0</td><td>Copa América</td><td>Montevideo</td><td>Uruguay</td><td>false</td></tr><tr><td>1967-01-22_Bolivia_Argentina_0_1</td><td>1967-01-22</td><td>Bolivia</td><td>Argentina</td><td>0</td><td>1</td><td>Copa América</td><td>Montevideo</td><td>Uruguay</td><td>true</td></tr><tr><td>1967-01-22_Chile_Paraguay_4_2</td><td>1967-01-22</td><td>Chile</td><td>Paraguay</td><td>4</td><td>2</td><td>Copa América</td><td>Montevideo</td><td>Uruguay</td><td>true</td></tr><tr><td>1967-01-25_Argentina_Venezuela_5_1</td><td>1967-01-25</td><td>Argentina</td><td>Venezuela</td><td>5</td><td>1</td><td>Copa América</td><td>Montevideo</td><td>Uruguay</td><td>true</td></tr><tr><td>1967-01-25_Paraguay_Bolivia_1_0</td><td>1967-01-25</td><td>Paraguay</td><td>Bolivia</td><td>1</td><td>0</td><td>Copa América</td><td>Montevideo</td><td>Uruguay</td><td>true</td></tr><tr><td>1967-01-26_Uruguay_Chile_2_2</td><td>1967-01-26</td><td>Uruguay</td><td>Chile</td><td>2</td><td>2</td><td>Copa América</td><td>Montevideo</td><td>Uruguay</td><td>false</td></tr><tr><td>1967-01-28_Argentina_Chile_2_0</td><td>1967-01-28</td><td>Argentina</td><td>Chile</td><td>2</td><td>0</td><td>Copa América</td><td>Montevideo</td><td>Uruguay</td><td>true</td></tr><tr><td>1967-01-28_Bolivia_Venezuela_0_3</td><td>1967-01-28</td><td>Bolivia</td><td>Venezuela</td><td>0</td><td>3</td><td>Copa América</td><td>Montevideo</td><td>Uruguay</td><td>true</td></tr><tr><td>1967-01-29_Uruguay_Paraguay_2_0</td><td>1967-01-29</td><td>Uruguay</td><td>Paraguay</td><td>2</td><td>0</td><td>Copa América</td><td>Montevideo</td><td>Uruguay</td><td>false</td></tr><tr><td>1967-02-01_Bolivia_Chile_0_0</td><td>1967-02-01</td><td>Bolivia</td><td>Chile</td><td>0</td><td>0</td><td>Copa América</td><td>Montevideo</td><td>Uruguay</td><td>true</td></tr><tr><td>1967-02-01_Venezuela_Paraguay_3_5</td><td>1967-02-01</td><td>Venezuela</td><td>Paraguay</td><td>3</td><td>5</td><td>Copa América</td><td>Montevideo</td><td>Uruguay</td><td>true</td></tr><tr><td>1967-02-02_Uruguay_Argentina_1_0</td><td>1967-02-02</td><td>Uruguay</td><td>Argentina</td><td>1</td><td>0</td><td>Copa América</td><td>Montevideo</td><td>Uruguay</td><td>false</td></tr><tr><td>1975-07-17_Chile_Peru_1_1</td><td>1975-07-17</td><td>Chile</td><td>Peru</td><td>1</td><td>1</td><td>Copa América</td><td>Santiago</td><td>Chile</td><td>false</td></tr><tr><td>1975-07-20_Bolivia_Chile_2_1</td><td>1975-07-20</td><td>Bolivia</td><td>Chile</td><td>2</td><td>1</td><td>Copa América</td><td>Oruro</td><td>Bolivia</td><td>false</td></tr><tr><td>1975-07-20_Colombia_Paraguay_1_0</td><td>1975-07-20</td><td>Colombia</td><td>Paraguay</td><td>1</td><td>0</td><td>Copa América</td><td>Bogotá</td><td>Colombia</td><td>false</td></tr><tr><td>1975-07-24_Ecuador_Paraguay_2_2</td><td>1975-07-24</td><td>Ecuador</td><td>Paraguay</td><td>2</td><td>2</td><td>Copa América</td><td>Guayaquil</td><td>Ecuador</td><td>false</td></tr><tr><td>1975-07-27_Bolivia_Peru_0_1</td><td>1975-07-27</td><td>Bolivia</td><td>Peru</td><td>0</td><td>1</td><td>Copa América</td><td>Oruro</td><td>Bolivia</td><td>false</td></tr><tr><td>1975-07-27_Ecuador_Colombia_1_3</td><td>1975-07-27</td><td>Ecuador</td><td>Colombia</td><td>1</td><td>3</td><td>Copa América</td><td>Quito</td><td>Ecuador</td><td>false</td></tr><tr><td>1975-07-30_Paraguay_Colombia_0_1</td><td>1975-07-30</td><td>Paraguay</td><td>Colombia</td><td>0</td><td>1</td><td>Copa América</td><td>Asunción</td><td>Paraguay</td><td>false</td></tr><tr><td>1975-07-31_Venezuela_Brazil_0_4</td><td>1975-07-31</td><td>Venezuela</td><td>Brazil</td><td>0</td><td>4</td><td>Copa América</td><td>Caracas</td><td>Venezuela</td><td>false</td></tr><tr><td>1975-08-03_Venezuela_Argentina_1_5</td><td>1975-08-03</td><td>Venezuela</td><td>Argentina</td><td>1</td><td>5</td><td>Copa América</td><td>Caracas</td><td>Venezuela</td><td>false</td></tr><tr><td>1975-08-06_Brazil_Argentina_2_1</td><td>1975-08-06</td><td>Brazil</td><td>Argentina</td><td>2</td><td>1</td><td>Copa América</td><td>Belo Horizonte</td><td>Brazil</td><td>false</td></tr><tr><td>1975-08-07_Colombia_Ecuador_2_0</td><td>1975-08-07</td><td>Colombia</td><td>Ecuador</td><td>2</td><td>0</td><td>Copa América</td><td>Bogotá</td><td>Colombia</td><td>false</td></tr><tr><td>1975-08-07_Peru_Bolivia_3_1</td><td>1975-08-07</td><td>Peru</td><td>Bolivia</td><td>3</td><td>1</td><td>Copa América</td><td>Lima</td><td>Peru</td><td>false</td></tr><tr><td>1975-08-10_Argentina_Venezuela_11_0</td><td>1975-08-10</td><td>Argentina</td><td>Venezuela</td><td>11</td><td>0</td><td>Copa América</td><td>Rosario</td><td>Argentina</td><td>false</td></tr><tr><td>1975-08-10_Paraguay_Ecuador_3_1</td><td>1975-08-10</td><td>Paraguay</td><td>Ecuador</td><td>3</td><td>1</td><td>Copa América</td><td>Asunción</td><td>Paraguay</td><td>false</td></tr><tr><td>1975-08-13_Brazil_Venezuela_6_0</td><td>1975-08-13</td><td>Brazil</td><td>Venezuela</td><td>6</td><td>0</td><td>Copa América</td><td>Belo Horizonte</td><td>Brazil</td><td>false</td></tr><tr><td>1975-08-13_Chile_Bolivia_4_0</td><td>1975-08-13</td><td>Chile</td><td>Bolivia</td><td>4</td><td>0</td><td>Copa América</td><td>Santiago</td><td>Chile</td><td>false</td></tr><tr><td>1975-08-16_Argentina_Brazil_0_1</td><td>1975-08-16</td><td>Argentina</td><td>Brazil</td><td>0</td><td>1</td><td>Copa América</td><td>Rosario</td><td>Argentina</td><td>false</td></tr><tr><td>1975-08-20_Peru_Chile_3_1</td><td>1975-08-20</td><td>Peru</td><td>Chile</td><td>3</td><td>1</td><td>Copa América</td><td>Lima</td><td>Peru</td><td>false</td></tr><tr><td>1975-09-21_Colombia_Uruguay_3_0</td><td>1975-09-21</td><td>Colombia</td><td>Uruguay</td><td>3</td><td>0</td><td>Copa América</td><td>Bogotá</td><td>Colombia</td><td>false</td></tr><tr><td>1975-09-30_Brazil_Peru_1_3</td><td>1975-09-30</td><td>Brazil</td><td>Peru</td><td>1</td><td>3</td><td>Copa América</td><td>Belo Horizonte</td><td>Brazil</td><td>false</td></tr><tr><td>1975-10-01_Uruguay_Colombia_1_0</td><td>1975-10-01</td><td>Uruguay</td><td>Colombia</td><td>1</td><td>0</td><td>Copa América</td><td>Montevideo</td><td>Uruguay</td><td>false</td></tr><tr><td>1975-10-04_Peru_Brazil_0_2</td><td>1975-10-04</td><td>Peru</td><td>Brazil</td><td>0</td><td>2</td><td>Copa América</td><td>Lima</td><td>Peru</td><td>false</td></tr><tr><td>1975-10-16_Colombia_Peru_1_0</td><td>1975-10-16</td><td>Colombia</td><td>Peru</td><td>1</td><td>0</td><td>Copa América</td><td>Bogotá</td><td>Colombia</td><td>false</td></tr><tr><td>1975-10-22_Peru_Colombia_2_0</td><td>1975-10-22</td><td>Peru</td><td>Colombia</td><td>2</td><td>0</td><td>Copa América</td><td>Lima</td><td>Peru</td><td>false</td></tr><tr><td>1975-10-28_Colombia_Peru_0_1</td><td>1975-10-28</td><td>Colombia</td><td>Peru</td><td>0</td><td>1</td><td>Copa América</td><td>Caracas</td><td>Venezuela</td><td>true</td></tr><tr><td>1979-07-18_Bolivia_Argentina_2_1</td><td>1979-07-18</td><td>Bolivia</td><td>Argentina</td><td>2</td><td>1</td><td>Copa América</td><td>La Paz</td><td>Bolivia</td><td>false</td></tr><tr><td>1979-07-26_Bolivia_Brazil_2_1</td><td>1979-07-26</td><td>Bolivia</td><td>Brazil</td><td>2</td><td>1</td><td>Copa América</td><td>La Paz</td><td>Bolivia</td><td>false</td></tr><tr><td>1979-08-01_Venezuela_Colombia_0_0</td><td>1979-08-01</td><td>Venezuela</td><td>Colombia</td><td>0</td><td>0</td><td>Copa América</td><td>San Cristóbal</td><td>Venezuela</td><td>false</td></tr><tr><td>1979-08-02_Brazil_Argentina_2_1</td><td>1979-08-02</td><td>Brazil</td><td>Argentina</td><td>2</td><td>1</td><td>Copa América</td><td>Rio de Janeiro</td><td>Brazil</td><td>false</td></tr><tr><td>1979-08-08_Argentina_Bolivia_3_0</td><td>1979-08-08</td><td>Argentina</td><td>Bolivia</td><td>3</td><td>0</td><td>Copa América</td><td>Buenos Aires</td><td>Argentina</td><td>false</td></tr><tr><td>1979-08-08_Venezuela_Chile_1_1</td><td>1979-08-08</td><td>Venezuela</td><td>Chile</td><td>1</td><td>1</td><td>Copa América</td><td>San Cristóbal</td><td>Venezuela</td><td>false</td></tr><tr><td>1979-08-15_Colombia_Chile_1_0</td><td>1979-08-15</td><td>Colombia</td><td>Chile</td><td>1</td><td>0</td><td>Copa América</td><td>Bogotá</td><td>Colombia</td><td>false</td></tr><tr><td>1979-08-16_Brazil_Bolivia_2_0</td><td>1979-08-16</td><td>Brazil</td><td>Bolivia</td><td>2</td><td>0</td><td>Copa América</td><td>São Paulo</td><td>Brazil</td><td>false</td></tr><tr><td>1979-08-22_Colombia_Venezuela_4_0</td><td>1979-08-22</td><td>Colombia</td><td>Venezuela</td><td>4</td><td>0</td><td>Copa América</td><td>Bogotá</td><td>Colombia</td><td>false</td></tr><tr><td>1979-08-23_Argentina_Brazil_2_2</td><td>1979-08-23</td><td>Argentina</td><td>Brazil</td><td>2</td><td>2</td><td>Copa América</td><td>Buenos Aires</td><td>Argentina</td><td>false</td></tr><tr><td>1979-08-29_Chile_Venezuela_7_0</td><td>1979-08-29</td><td>Chile</td><td>Venezuela</td><td>7</td><td>0</td><td>Copa América</td><td>Santiago</td><td>Chile</td><td>false</td></tr><tr><td>1979-08-29_Ecuador_Paraguay_1_2</td><td>1979-08-29</td><td>Ecuador</td><td>Paraguay</td><td>1</td><td>2</td><td>Copa América</td><td>Quito</td><td>Ecuador</td><td>false</td></tr><tr><td>1979-09-05_Chile_Colombia_2_0</td><td>1979-09-05</td><td>Chile</td><td>Colombia</td><td>2</td><td>0</td><td>Copa América</td><td>Santiago</td><td>Chile</td><td>false</td></tr><tr><td>1979-09-05_Ecuador_Uruguay_2_1</td><td>1979-09-05</td><td>Ecuador</td><td>Uruguay</td><td>2</td><td>1</td><td>Copa América</td><td>Quito</td><td>Ecuador</td><td>false</td></tr><tr><td>1979-09-13_Paraguay_Ecuador_2_0</td><td>1979-09-13</td><td>Paraguay</td><td>Ecuador</td><td>2</td><td>0</td><td>Copa América</td><td>Asunción</td><td>Paraguay</td><td>false</td></tr><tr><td>1979-09-16_Uruguay_Ecuador_2_1</td><td>1979-09-16</td><td>Uruguay</td><td>Ecuador</td><td>2</td><td>1</td><td>Copa América</td><td>Montevideo</td><td>Uruguay</td><td>false</td></tr><tr><td>1979-09-20_Paraguay_Uruguay_0_0</td><td>1979-09-20</td><td>Paraguay</td><td>Uruguay</td><td>0</td><td>0</td><td>Copa América</td><td>Asunción</td><td>Paraguay</td><td>false</td></tr><tr><td>1979-09-26_Uruguay_Paraguay_2_2</td><td>1979-09-26</td><td>Uruguay</td><td>Paraguay</td><td>2</td><td>2</td><td>Copa América</td><td>Montevideo</td><td>Uruguay</td><td>false</td></tr><tr><td>1979-10-17_Peru_Chile_1_2</td><td>1979-10-17</td><td>Peru</td><td>Chile</td><td>1</td><td>2</td><td>Copa América</td><td>Lima</td><td>Peru</td><td>false</td></tr><tr><td>1979-10-24_Chile_Peru_0_0</td><td>1979-10-24</td><td>Chile</td><td>Peru</td><td>0</td><td>0</td><td>Copa América</td><td>Santiago</td><td>Chile</td><td>false</td></tr><tr><td>1979-10-24_Paraguay_Brazil_2_1</td><td>1979-10-24</td><td>Paraguay</td><td>Brazil</td><td>2</td><td>1</td><td>Copa América</td><td>Asunción</td><td>Paraguay</td><td>false</td></tr><tr><td>1979-10-31_Brazil_Paraguay_2_2</td><td>1979-10-31</td><td>Brazil</td><td>Paraguay</td><td>2</td><td>2</td><td>Copa América</td><td>Rio de Janeiro</td><td>Brazil</td><td>false</td></tr><tr><td>2007-06-26_Uruguay_Peru_0_3</td><td>2007-06-26</td><td>Uruguay</td><td>Peru</td><td>0</td><td>3</td><td>Copa América</td><td>Mérida</td><td>Venezuela</td><td>true</td></tr><tr><td>2007-06-26_Venezuela_Bolivia_2_2</td><td>2007-06-26</td><td>Venezuela</td><td>Bolivia</td><td>2</td><td>2</td><td>Copa América</td><td>San Cristóbal</td><td>Venezuela</td><td>false</td></tr><tr><td>2007-06-27_Brazil_Mexico_0_2</td><td>2007-06-27</td><td>Brazil</td><td>Mexico</td><td>0</td><td>2</td><td>Copa América</td><td>Puerto Ordaz</td><td>Venezuela</td><td>true</td></tr><tr><td>2007-06-27_Ecuador_Chile_2_3</td><td>2007-06-27</td><td>Ecuador</td><td>Chile</td><td>2</td><td>3</td><td>Copa América</td><td>Puerto Ordaz</td><td>Venezuela</td><td>true</td></tr><tr><td>2007-06-28_Argentina_United States_4_1</td><td>2007-06-28</td><td>Argentina</td><td>United States</td><td>4</td><td>1</td><td>Copa América</td><td>Maracaibo</td><td>Venezuela</td><td>true</td></tr><tr><td>2007-06-28_Paraguay_Colombia_5_0</td><td>2007-06-28</td><td>Paraguay</td><td>Colombia</td><td>5</td><td>0</td><td>Copa América</td><td>Barinas</td><td>Venezuela</td><td>true</td></tr><tr><td>2007-06-30_Bolivia_Uruguay_0_1</td><td>2007-06-30</td><td>Bolivia</td><td>Uruguay</td><td>0</td><td>1</td><td>Copa América</td><td>San Cristóbal</td><td>Venezuela</td><td>true</td></tr><tr><td>2007-06-30_Venezuela_Peru_2_0</td><td>2007-06-30</td><td>Venezuela</td><td>Peru</td><td>2</td><td>0</td><td>Copa América</td><td>San Cristóbal</td><td>Venezuela</td><td>false</td></tr><tr><td>2007-07-01_Brazil_Chile_3_0</td><td>2007-07-01</td><td>Brazil</td><td>Chile</td><td>3</td><td>0</td><td>Copa América</td><td>Maturín</td><td>Venezuela</td><td>true</td></tr><tr><td>2007-07-01_Mexico_Ecuador_2_1</td><td>2007-07-01</td><td>Mexico</td><td>Ecuador</td><td>2</td><td>1</td><td>Copa América</td><td>Maturín</td><td>Venezuela</td><td>true</td></tr><tr><td>2007-07-02_Argentina_Colombia_4_2</td><td>2007-07-02</td><td>Argentina</td><td>Colombia</td><td>4</td><td>2</td><td>Copa América</td><td>Maracaibo</td><td>Venezuela</td><td>true</td></tr><tr><td>2007-07-02_United States_Paraguay_1_3</td><td>2007-07-02</td><td>United States</td><td>Paraguay</td><td>1</td><td>3</td><td>Copa América</td><td>Barinas</td><td>Venezuela</td><td>true</td></tr><tr><td>2007-07-03_Peru_Bolivia_2_2</td><td>2007-07-03</td><td>Peru</td><td>Bolivia</td><td>2</td><td>2</td><td>Copa América</td><td>Mérida</td><td>Venezuela</td><td>true</td></tr><tr><td>2007-07-03_Venezuela_Uruguay_0_0</td><td>2007-07-03</td><td>Venezuela</td><td>Uruguay</td><td>0</td><td>0</td><td>Copa América</td><td>Mérida</td><td>Venezuela</td><td>false</td></tr><tr><td>2007-07-04_Brazil_Ecuador_1_0</td><td>2007-07-04</td><td>Brazil</td><td>Ecuador</td><td>1</td><td>0</td><td>Copa América</td><td>Puerto la Cruz</td><td>Venezuela</td><td>true</td></tr><tr><td>2007-07-04_Mexico_Chile_0_0</td><td>2007-07-04</td><td>Mexico</td><td>Chile</td><td>0</td><td>0</td><td>Copa América</td><td>Puerto la Cruz</td><td>Venezuela</td><td>true</td></tr><tr><td>2007-07-05_Argentina_Paraguay_1_0</td><td>2007-07-05</td><td>Argentina</td><td>Paraguay</td><td>1</td><td>0</td><td>Copa América</td><td>Barquisimeto</td><td>Venezuela</td><td>true</td></tr><tr><td>2007-07-05_Colombia_United States_1_0</td><td>2007-07-05</td><td>Colombia</td><td>United States</td><td>1</td><td>0</td><td>Copa América</td><td>Barquisimeto</td><td>Venezuela</td><td>true</td></tr><tr><td>2007-07-07_Chile_Brazil_1_6</td><td>2007-07-07</td><td>Chile</td><td>Brazil</td><td>1</td><td>6</td><td>Copa América</td><td>Puerto la Cruz</td><td>Venezuela</td><td>true</td></tr><tr><td>2007-07-07_Venezuela_Uruguay_1_4</td><td>2007-07-07</td><td>Venezuela</td><td>Uruguay</td><td>1</td><td>4</td><td>Copa América</td><td>San Cristóbal</td><td>Venezuela</td><td>false</td></tr><tr><td>2007-07-08_Argentina_Peru_4_0</td><td>2007-07-08</td><td>Argentina</td><td>Peru</td><td>4</td><td>0</td><td>Copa América</td><td>Barquisimeto</td><td>Venezuela</td><td>true</td></tr><tr><td>2007-07-08_Mexico_Paraguay_6_0</td><td>2007-07-08</td><td>Mexico</td><td>Paraguay</td><td>6</td><td>0</td><td>Copa América</td><td>Maturín</td><td>Venezuela</td><td>true</td></tr><tr><td>2007-07-10_Uruguay_Brazil_2_2</td><td>2007-07-10</td><td>Uruguay</td><td>Brazil</td><td>2</td><td>2</td><td>Copa América</td><td>Maracaibo</td><td>Venezuela</td><td>true</td></tr><tr><td>2007-07-11_Mexico_Argentina_0_3</td><td>2007-07-11</td><td>Mexico</td><td>Argentina</td><td>0</td><td>3</td><td>Copa América</td><td>Puerto Ordaz</td><td>Venezuela</td><td>true</td></tr><tr><td>2007-07-14_Mexico_Uruguay_3_1</td><td>2007-07-14</td><td>Mexico</td><td>Uruguay</td><td>3</td><td>1</td><td>Copa América</td><td>Caracas</td><td>Venezuela</td><td>true</td></tr><tr><td>2007-07-15_Brazil_Argentina_3_0</td><td>2007-07-15</td><td>Brazil</td><td>Argentina</td><td>3</td><td>0</td><td>Copa América</td><td>Maracaibo</td><td>Venezuela</td><td>true</td></tr><tr><td>2011-07-01_Argentina_Bolivia_1_1</td><td>2011-07-01</td><td>Argentina</td><td>Bolivia</td><td>1</td><td>1</td><td>Copa América</td><td>La Plata</td><td>Argentina</td><td>false</td></tr><tr><td>2011-07-02_Colombia_Costa Rica_1_0</td><td>2011-07-02</td><td>Colombia</td><td>Costa Rica</td><td>1</td><td>0</td><td>Copa América</td><td>San Salvador de Jujuy</td><td>Argentina</td><td>true</td></tr><tr><td>2011-07-03_Brazil_Venezuela_0_0</td><td>2011-07-03</td><td>Brazil</td><td>Venezuela</td><td>0</td><td>0</td><td>Copa América</td><td>La Plata</td><td>Argentina</td><td>true</td></tr><tr><td>2011-07-03_Paraguay_Ecuador_0_0</td><td>2011-07-03</td><td>Paraguay</td><td>Ecuador</td><td>0</td><td>0</td><td>Copa América</td><td>Santa Fe</td><td>Argentina</td><td>true</td></tr><tr><td>2011-07-04_Chile_Mexico_2_1</td><td>2011-07-04</td><td>Chile</td><td>Mexico</td><td>2</td><td>1</td><td>Copa América</td><td>San Juan</td><td>Argentina</td><td>true</td></tr><tr><td>2011-07-04_Uruguay_Peru_1_1</td><td>2011-07-04</td><td>Uruguay</td><td>Peru</td><td>1</td><td>1</td><td>Copa América</td><td>San Juan</td><td>Argentina</td><td>true</td></tr><tr><td>2011-07-06_Argentina_Colombia_0_0</td><td>2011-07-06</td><td>Argentina</td><td>Colombia</td><td>0</td><td>0</td><td>Copa América</td><td>Santa Fe</td><td>Argentina</td><td>false</td></tr><tr><td>2011-07-07_Bolivia_Costa Rica_0_2</td><td>2011-07-07</td><td>Bolivia</td><td>Costa Rica</td><td>0</td><td>2</td><td>Copa América</td><td>San Salvador de Jujuy</td><td>Argentina</td><td>true</td></tr><tr><td>2011-07-08_Peru_Mexico_1_0</td><td>2011-07-08</td><td>Peru</td><td>Mexico</td><td>1</td><td>0</td><td>Copa América</td><td>Mendoza</td><td>Argentina</td><td>true</td></tr><tr><td>2011-07-08_Uruguay_Chile_1_1</td><td>2011-07-08</td><td>Uruguay</td><td>Chile</td><td>1</td><td>1</td><td>Copa América</td><td>Mendoza</td><td>Argentina</td><td>true</td></tr><tr><td>2011-07-09_Brazil_Paraguay_2_2</td><td>2011-07-09</td><td>Brazil</td><td>Paraguay</td><td>2</td><td>2</td><td>Copa América</td><td>Córdoba</td><td>Argentina</td><td>true</td></tr><tr><td>2011-07-09_Venezuela_Ecuador_1_0</td><td>2011-07-09</td><td>Venezuela</td><td>Ecuador</td><td>1</td><td>0</td><td>Copa América</td><td>Salta</td><td>Argentina</td><td>true</td></tr><tr><td>2011-07-10_Colombia_Bolivia_2_0</td><td>2011-07-10</td><td>Colombia</td><td>Bolivia</td><td>2</td><td>0</td><td>Copa América</td><td>Santa Fe</td><td>Argentina</td><td>true</td></tr><tr><td>2011-07-11_Argentina_Costa Rica_3_0</td><td>2011-07-11</td><td>Argentina</td><td>Costa Rica</td><td>3</td><td>0</td><td>Copa América</td><td>Córdoba</td><td>Argentina</td><td>false</td></tr><tr><td>2011-07-12_Chile_Peru_1_0</td><td>2011-07-12</td><td>Chile</td><td>Peru</td><td>1</td><td>0</td><td>Copa América</td><td>Mendoza</td><td>Argentina</td><td>true</td></tr><tr><td>2011-07-12_Uruguay_Mexico_1_0</td><td>2011-07-12</td><td>Uruguay</td><td>Mexico</td><td>1</td><td>0</td><td>Copa América</td><td>La Plata</td><td>Argentina</td><td>true</td></tr><tr><td>2011-07-13_Brazil_Ecuador_4_2</td><td>2011-07-13</td><td>Brazil</td><td>Ecuador</td><td>4</td><td>2</td><td>Copa América</td><td>Córdoba</td><td>Argentina</td><td>true</td></tr><tr><td>2011-07-13_Paraguay_Venezuela_3_3</td><td>2011-07-13</td><td>Paraguay</td><td>Venezuela</td><td>3</td><td>3</td><td>Copa América</td><td>Salta</td><td>Argentina</td><td>true</td></tr><tr><td>2011-07-16_Argentina_Uruguay_1_1</td><td>2011-07-16</td><td>Argentina</td><td>Uruguay</td><td>1</td><td>1</td><td>Copa América</td><td>Santa Fe</td><td>Argentina</td><td>false</td></tr><tr><td>2011-07-16_Colombia_Peru_0_2</td><td>2011-07-16</td><td>Colombia</td><td>Peru</td><td>0</td><td>2</td><td>Copa América</td><td>Córdoba</td><td>Argentina</td><td>true</td></tr><tr><td>2011-07-17_Brazil_Paraguay_0_0</td><td>2011-07-17</td><td>Brazil</td><td>Paraguay</td><td>0</td><td>0</td><td>Copa América</td><td>La Plata</td><td>Argentina</td><td>true</td></tr><tr><td>2011-07-17_Chile_Venezuela_1_2</td><td>2011-07-17</td><td>Chile</td><td>Venezuela</td><td>1</td><td>2</td><td>Copa América</td><td>San Juan</td><td>Argentina</td><td>true</td></tr><tr><td>2011-07-19_Peru_Uruguay_0_2</td><td>2011-07-19</td><td>Peru</td><td>Uruguay</td><td>0</td><td>2</td><td>Copa América</td><td>La Plata</td><td>Argentina</td><td>true</td></tr><tr><td>2011-07-20_Paraguay_Venezuela_0_0</td><td>2011-07-20</td><td>Paraguay</td><td>Venezuela</td><td>0</td><td>0</td><td>Copa América</td><td>Mendoza</td><td>Argentina</td><td>true</td></tr><tr><td>2011-07-23_Peru_Venezuela_4_1</td><td>2011-07-23</td><td>Peru</td><td>Venezuela</td><td>4</td><td>1</td><td>Copa América</td><td>La Plata</td><td>Argentina</td><td>true</td></tr><tr><td>2011-07-24_Uruguay_Paraguay_3_0</td><td>2011-07-24</td><td>Uruguay</td><td>Paraguay</td><td>3</td><td>0</td><td>Copa América</td><td>Buenos Aires</td><td>Argentina</td><td>true</td></tr><tr><td>2015-06-11_Chile_Ecuador_2_0</td><td>2015-06-11</td><td>Chile</td><td>Ecuador</td><td>2</td><td>0</td><td>Copa América</td><td>Santiago</td><td>Chile</td><td>false</td></tr><tr><td>2015-06-12_Mexico_Bolivia_0_0</td><td>2015-06-12</td><td>Mexico</td><td>Bolivia</td><td>0</td><td>0</td><td>Copa América</td><td>Viña del Mar</td><td>Chile</td><td>true</td></tr><tr><td>2015-06-13_Argentina_Paraguay_2_2</td><td>2015-06-13</td><td>Argentina</td><td>Paraguay</td><td>2</td><td>2</td><td>Copa América</td><td>La Serena</td><td>Chile</td><td>true</td></tr><tr><td>2015-06-13_Uruguay_Jamaica_1_0</td><td>2015-06-13</td><td>Uruguay</td><td>Jamaica</td><td>1</td><td>0</td><td>Copa América</td><td>Antofagasta</td><td>Chile</td><td>true</td></tr><tr><td>2015-06-14_Brazil_Peru_2_1</td><td>2015-06-14</td><td>Brazil</td><td>Peru</td><td>2</td><td>1</td><td>Copa América</td><td>Temuco</td><td>Chile</td><td>true</td></tr><tr><td>2015-06-14_Colombia_Venezuela_0_1</td><td>2015-06-14</td><td>Colombia</td><td>Venezuela</td><td>0</td><td>1</td><td>Copa América</td><td>Rancagua</td><td>Chile</td><td>true</td></tr><tr><td>2015-06-15_Chile_Mexico_3_3</td><td>2015-06-15</td><td>Chile</td><td>Mexico</td><td>3</td><td>3</td><td>Copa América</td><td>Santiago</td><td>Chile</td><td>false</td></tr><tr><td>2015-06-15_Ecuador_Bolivia_2_3</td><td>2015-06-15</td><td>Ecuador</td><td>Bolivia</td><td>2</td><td>3</td><td>Copa América</td><td>Valparaíso</td><td>Chile</td><td>true</td></tr><tr><td>2015-06-16_Argentina_Uruguay_1_0</td><td>2015-06-16</td><td>Argentina</td><td>Uruguay</td><td>1</td><td>0</td><td>Copa América</td><td>La Serena</td><td>Chile</td><td>true</td></tr><tr><td>2015-06-16_Paraguay_Jamaica_1_0</td><td>2015-06-16</td><td>Paraguay</td><td>Jamaica</td><td>1</td><td>0</td><td>Copa América</td><td>Antofagasta</td><td>Chile</td><td>true</td></tr><tr><td>2015-06-17_Brazil_Colombia_0_1</td><td>2015-06-17</td><td>Brazil</td><td>Colombia</td><td>0</td><td>1</td><td>Copa América</td><td>Santiago</td><td>Chile</td><td>true</td></tr><tr><td>2015-06-18_Peru_Venezuela_1_0</td><td>2015-06-18</td><td>Peru</td><td>Venezuela</td><td>1</td><td>0</td><td>Copa América</td><td>Valparaíso</td><td>Chile</td><td>true</td></tr><tr><td>2015-06-19_Chile_Bolivia_5_0</td><td>2015-06-19</td><td>Chile</td><td>Bolivia</td><td>5</td><td>0</td><td>Copa América</td><td>Santiago</td><td>Chile</td><td>false</td></tr><tr><td>2015-06-19_Mexico_Ecuador_1_2</td><td>2015-06-19</td><td>Mexico</td><td>Ecuador</td><td>1</td><td>2</td><td>Copa América</td><td>Rancagua</td><td>Chile</td><td>true</td></tr><tr><td>2015-06-20_Argentina_Jamaica_1_0</td><td>2015-06-20</td><td>Argentina</td><td>Jamaica</td><td>1</td><td>0</td><td>Copa América</td><td>Viña del Mar</td><td>Chile</td><td>true</td></tr><tr><td>2015-06-20_Uruguay_Paraguay_1_1</td><td>2015-06-20</td><td>Uruguay</td><td>Paraguay</td><td>1</td><td>1</td><td>Copa América</td><td>La Serena</td><td>Chile</td><td>true</td></tr><tr><td>2015-06-21_Brazil_Venezuela_2_1</td><td>2015-06-21</td><td>Brazil</td><td>Venezuela</td><td>2</td><td>1</td><td>Copa América</td><td>Santiago</td><td>Chile</td><td>true</td></tr><tr><td>2015-06-21_Colombia_Peru_0_0</td><td>2015-06-21</td><td>Colombia</td><td>Peru</td><td>0</td><td>0</td><td>Copa América</td><td>Temuco</td><td>Chile</td><td>true</td></tr><tr><td>2015-06-24_Chile_Uruguay_1_0</td><td>2015-06-24</td><td>Chile</td><td>Uruguay</td><td>1</td><td>0</td><td>Copa América</td><td>Santiago</td><td>Chile</td><td>false</td></tr><tr><td>2015-06-25_Bolivia_Peru_1_3</td><td>2015-06-25</td><td>Bolivia</td><td>Peru</td><td>1</td><td>3</td><td>Copa América</td><td>Temuco</td><td>Chile</td><td>true</td></tr><tr><td>2015-06-26_Argentina_Colombia_0_0</td><td>2015-06-26</td><td>Argentina</td><td>Colombia</td><td>0</td><td>0</td><td>Copa América</td><td>Viña del Mar</td><td>Chile</td><td>true</td></tr><tr><td>2015-06-27_Brazil_Paraguay_1_1</td><td>2015-06-27</td><td>Brazil</td><td>Paraguay</td><td>1</td><td>1</td><td>Copa América</td><td>Concepción</td><td>Chile</td><td>true</td></tr><tr><td>2015-06-29_Chile_Peru_2_1</td><td>2015-06-29</td><td>Chile</td><td>Peru</td><td>2</td><td>1</td><td>Copa América</td><td>Santiago</td><td>Chile</td><td>false</td></tr><tr><td>2015-06-30_Argentina_Paraguay_6_1</td><td>2015-06-30</td><td>Argentina</td><td>Paraguay</td><td>6</td><td>1</td><td>Copa América</td><td>Concepción</td><td>Chile</td><td>true</td></tr><tr><td>2015-07-03_Peru_Paraguay_2_0</td><td>2015-07-03</td><td>Peru</td><td>Paraguay</td><td>2</td><td>0</td><td>Copa América</td><td>Concepción</td><td>Chile</td><td>true</td></tr><tr><td>2015-07-04_Chile_Argentina_0_0</td><td>2015-07-04</td><td>Chile</td><td>Argentina</td><td>0</td><td>0</td><td>Copa América</td><td>Santiago</td><td>Chile</td><td>false</td></tr><tr><td>2016-06-03_United States_Colombia_0_2</td><td>2016-06-03</td><td>United States</td><td>Colombia</td><td>0</td><td>2</td><td>Copa América</td><td>Santa Clara</td><td>United States</td><td>false</td></tr><tr><td>2016-06-04_Brazil_Ecuador_0_0</td><td>2016-06-04</td><td>Brazil</td><td>Ecuador</td><td>0</td><td>0</td><td>Copa América</td><td>Pasadena</td><td>United States</td><td>true</td></tr><tr><td>2016-06-04_Costa Rica_Paraguay_0_0</td><td>2016-06-04</td><td>Costa Rica</td><td>Paraguay</td><td>0</td><td>0</td><td>Copa América</td><td>Orlando</td><td>United States</td><td>true</td></tr><tr><td>2016-06-04_Haiti_Peru_0_1</td><td>2016-06-04</td><td>Haiti</td><td>Peru</td><td>0</td><td>1</td><td>Copa América</td><td>Seattle</td><td>United States</td><td>true</td></tr><tr><td>2016-06-05_Jamaica_Venezuela_0_1</td><td>2016-06-05</td><td>Jamaica</td><td>Venezuela</td><td>0</td><td>1</td><td>Copa América</td><td>Chicago</td><td>United States</td><td>true</td></tr><tr><td>2016-06-05_Mexico_Uruguay_3_1</td><td>2016-06-05</td><td>Mexico</td><td>Uruguay</td><td>3</td><td>1</td><td>Copa América</td><td>Glendale</td><td>United States</td><td>true</td></tr><tr><td>2016-06-06_Argentina_Chile_2_1</td><td>2016-06-06</td><td>Argentina</td><td>Chile</td><td>2</td><td>1</td><td>Copa América</td><td>Santa Clara</td><td>United States</td><td>true</td></tr><tr><td>2016-06-06_Panama_Bolivia_2_1</td><td>2016-06-06</td><td>Panama</td><td>Bolivia</td><td>2</td><td>1</td><td>Copa América</td><td>Orlando</td><td>United States</td><td>true</td></tr><tr><td>2016-06-07_Colombia_Paraguay_2_1</td><td>2016-06-07</td><td>Colombia</td><td>Paraguay</td><td>2</td><td>1</td><td>Copa América</td><td>Pasadena</td><td>United States</td><td>true</td></tr><tr><td>2016-06-07_United States_Costa Rica_4_0</td><td>2016-06-07</td><td>United States</td><td>Costa Rica</td><td>4</td><td>0</td><td>Copa América</td><td>Chicago</td><td>United States</td><td>false</td></tr><tr><td>2016-06-08_Brazil_Haiti_7_1</td><td>2016-06-08</td><td>Brazil</td><td>Haiti</td><td>7</td><td>1</td><td>Copa América</td><td>Orlando</td><td>United States</td><td>true</td></tr><tr><td>2016-06-08_Ecuador_Peru_2_2</td><td>2016-06-08</td><td>Ecuador</td><td>Peru</td><td>2</td><td>2</td><td>Copa América</td><td>Glendale</td><td>United States</td><td>true</td></tr><tr><td>2016-06-09_Mexico_Jamaica_2_0</td><td>2016-06-09</td><td>Mexico</td><td>Jamaica</td><td>2</td><td>0</td><td>Copa América</td><td>Pasadena</td><td>United States</td><td>true</td></tr><tr><td>2016-06-09_Uruguay_Venezuela_0_1</td><td>2016-06-09</td><td>Uruguay</td><td>Venezuela</td><td>0</td><td>1</td><td>Copa América</td><td>Philadelphia</td><td>United States</td><td>true</td></tr><tr><td>2016-06-10_Argentina_Panama_5_0</td><td>2016-06-10</td><td>Argentina</td><td>Panama</td><td>5</td><td>0</td><td>Copa América</td><td>Chicago</td><td>United States</td><td>true</td></tr><tr><td>2016-06-10_Chile_Bolivia_2_1</td><td>2016-06-10</td><td>Chile</td><td>Bolivia</td><td>2</td><td>1</td><td>Copa América</td><td>Foxborough</td><td>United States</td><td>true</td></tr><tr><td>2016-06-11_Colombia_Costa Rica_2_3</td><td>2016-06-11</td><td>Colombia</td><td>Costa Rica</td><td>2</td><td>3</td><td>Copa América</td><td>Houston</td><td>United States</td><td>true</td></tr><tr><td>2016-06-11_United States_Paraguay_1_0</td><td>2016-06-11</td><td>United States</td><td>Paraguay</td><td>1</td><td>0</td><td>Copa América</td><td>Philadelphia</td><td>United States</td><td>false</td></tr><tr><td>2016-06-12_Brazil_Peru_0_1</td><td>2016-06-12</td><td>Brazil</td><td>Peru</td><td>0</td><td>1</td><td>Copa América</td><td>Foxborough</td><td>United States</td><td>true</td></tr><tr><td>2016-06-12_Ecuador_Haiti_4_0</td><td>2016-06-12</td><td>Ecuador</td><td>Haiti</td><td>4</td><td>0</td><td>Copa América</td><td>East Rutherford</td><td>United States</td><td>true</td></tr><tr><td>2016-06-13_Mexico_Venezuela_1_1</td><td>2016-06-13</td><td>Mexico</td><td>Venezuela</td><td>1</td><td>1</td><td>Copa América</td><td>Houston</td><td>United States</td><td>true</td></tr><tr><td>2016-06-13_Uruguay_Jamaica_3_0</td><td>2016-06-13</td><td>Uruguay</td><td>Jamaica</td><td>3</td><td>0</td><td>Copa América</td><td>Santa Clara</td><td>United States</td><td>true</td></tr><tr><td>2016-06-14_Argentina_Bolivia_3_0</td><td>2016-06-14</td><td>Argentina</td><td>Bolivia</td><td>3</td><td>0</td><td>Copa América</td><td>Seattle</td><td>United States</td><td>true</td></tr><tr><td>2016-06-14_Chile_Panama_4_2</td><td>2016-06-14</td><td>Chile</td><td>Panama</td><td>4</td><td>2</td><td>Copa América</td><td>Philadelphia</td><td>United States</td><td>true</td></tr><tr><td>2016-06-16_United States_Ecuador_2_1</td><td>2016-06-16</td><td>United States</td><td>Ecuador</td><td>2</td><td>1</td><td>Copa América</td><td>Seattle</td><td>United States</td><td>false</td></tr><tr><td>2016-06-17_Peru_Colombia_0_0</td><td>2016-06-17</td><td>Peru</td><td>Colombia</td><td>0</td><td>0</td><td>Copa América</td><td>East Rutherford</td><td>United States</td><td>true</td></tr><tr><td>2016-06-18_Argentina_Venezuela_4_1</td><td>2016-06-18</td><td>Argentina</td><td>Venezuela</td><td>4</td><td>1</td><td>Copa América</td><td>Foxborough</td><td>United States</td><td>true</td></tr><tr><td>2016-06-18_Mexico_Chile_0_7</td><td>2016-06-18</td><td>Mexico</td><td>Chile</td><td>0</td><td>7</td><td>Copa América</td><td>Santa Clara</td><td>United States</td><td>true</td></tr><tr><td>2016-06-21_United States_Argentina_0_4</td><td>2016-06-21</td><td>United States</td><td>Argentina</td><td>0</td><td>4</td><td>Copa América</td><td>Houston</td><td>United States</td><td>false</td></tr><tr><td>2016-06-22_Colombia_Chile_0_2</td><td>2016-06-22</td><td>Colombia</td><td>Chile</td><td>0</td><td>2</td><td>Copa América</td><td>Chicago</td><td>United States</td><td>true</td></tr><tr><td>2016-06-25_United States_Colombia_0_1</td><td>2016-06-25</td><td>United States</td><td>Colombia</td><td>0</td><td>1</td><td>Copa América</td><td>Glendale</td><td>United States</td><td>false</td></tr><tr><td>2016-06-26_Argentina_Chile_0_0</td><td>2016-06-26</td><td>Argentina</td><td>Chile</td><td>0</td><td>0</td><td>Copa América</td><td>East Rutherford</td><td>United States</td><td>true</td></tr><tr><td>2001-07-11_Colombia_Venezuela_2_0</td><td>2001-07-11</td><td>Colombia</td><td>Venezuela</td><td>2</td><td>0</td><td>Copa América</td><td>Barranquilla</td><td>Colombia</td><td>false</td></tr><tr><td>2001-07-11_Ecuador_Chile_1_4</td><td>2001-07-11</td><td>Ecuador</td><td>Chile</td><td>1</td><td>4</td><td>Copa América</td><td>Barranquilla</td><td>Colombia</td><td>true</td></tr><tr><td>2001-07-12_Brazil_Mexico_0_1</td><td>2001-07-12</td><td>Brazil</td><td>Mexico</td><td>0</td><td>1</td><td>Copa América</td><td>Cali</td><td>Colombia</td><td>true</td></tr><tr><td>2001-07-12_Peru_Paraguay_3_3</td><td>2001-07-12</td><td>Peru</td><td>Paraguay</td><td>3</td><td>3</td><td>Copa América</td><td>Cali</td><td>Colombia</td><td>true</td></tr><tr><td>2001-07-13_Bolivia_Uruguay_0_1</td><td>2001-07-13</td><td>Bolivia</td><td>Uruguay</td><td>0</td><td>1</td><td>Copa América</td><td>Medellín</td><td>Colombia</td><td>true</td></tr><tr><td>2001-07-13_Honduras_Costa Rica_0_1</td><td>2001-07-13</td><td>Honduras</td><td>Costa Rica</td><td>0</td><td>1</td><td>Copa América</td><td>Medellín</td><td>Colombia</td><td>true</td></tr><tr><td>2001-07-14_Chile_Venezuela_1_0</td><td>2001-07-14</td><td>Chile</td><td>Venezuela</td><td>1</td><td>0</td><td>Copa América</td><td>Barranquilla</td><td>Colombia</td><td>true</td></tr><tr><td>2001-07-14_Colombia_Ecuador_1_0</td><td>2001-07-14</td><td>Colombia</td><td>Ecuador</td><td>1</td><td>0</td><td>Copa América</td><td>Barranquilla</td><td>Colombia</td><td>false</td></tr><tr><td>2001-07-15_Brazil_Peru_2_0</td><td>2001-07-15</td><td>Brazil</td><td>Peru</td><td>2</td><td>0</td><td>Copa América</td><td>Cali</td><td>Colombia</td><td>true</td></tr><tr><td>2001-07-15_Paraguay_Mexico_0_0</td><td>2001-07-15</td><td>Paraguay</td><td>Mexico</td><td>0</td><td>0</td><td>Copa América</td><td>Cali</td><td>Colombia</td><td>true</td></tr><tr><td>2001-07-16_Honduras_Bolivia_2_0</td><td>2001-07-16</td><td>Honduras</td><td>Bolivia</td><td>2</td><td>0</td><td>Copa América</td><td>Medellín</td><td>Colombia</td><td>true</td></tr><tr><td>2001-07-16_Uruguay_Costa Rica_1_1</td><td>2001-07-16</td><td>Uruguay</td><td>Costa Rica</td><td>1</td><td>1</td><td>Copa América</td><td>Medellín</td><td>Colombia</td><td>true</td></tr><tr><td>2001-07-17_Colombia_Chile_2_0</td><td>2001-07-17</td><td>Colombia</td><td>Chile</td><td>2</td><td>0</td><td>Copa América</td><td>Barranquilla</td><td>Colombia</td><td>false</td></tr><tr><td>2001-07-17_Ecuador_Venezuela_4_0</td><td>2001-07-17</td><td>Ecuador</td><td>Venezuela</td><td>4</td><td>0</td><td>Copa América</td><td>Barranquilla</td><td>Colombia</td><td>true</td></tr><tr><td>2001-07-18_Brazil_Paraguay_3_1</td><td>2001-07-18</td><td>Brazil</td><td>Paraguay</td><td>3</td><td>1</td><td>Copa América</td><td>Cali</td><td>Colombia</td><td>true</td></tr><tr><td>2001-07-18_Peru_Mexico_1_0</td><td>2001-07-18</td><td>Peru</td><td>Mexico</td><td>1</td><td>0</td><td>Copa América</td><td>Cali</td><td>Colombia</td><td>true</td></tr><tr><td>2001-07-19_Bolivia_Costa Rica_0_4</td><td>2001-07-19</td><td>Bolivia</td><td>Costa Rica</td><td>0</td><td>4</td><td>Copa América</td><td>Medellín</td><td>Colombia</td><td>true</td></tr><tr><td>2001-07-19_Honduras_Uruguay_1_0</td><td>2001-07-19</td><td>Honduras</td><td>Uruguay</td><td>1</td><td>0</td><td>Copa América</td><td>Medellín</td><td>Colombia</td><td>true</td></tr><tr><td>2001-07-22_Chile_Mexico_0_2</td><td>2001-07-22</td><td>Chile</td><td>Mexico</td><td>0</td><td>2</td><td>Copa América</td><td>Pereira</td><td>Colombia</td><td>true</td></tr><tr><td>2001-07-22_Uruguay_Costa Rica_2_1</td><td>2001-07-22</td><td>Uruguay</td><td>Costa Rica</td><td>2</td><td>1</td><td>Copa América</td><td>Armenia</td><td>Colombia</td><td>true</td></tr><tr><td>2001-07-23_Brazil_Honduras_0_2</td><td>2001-07-23</td><td>Brazil</td><td>Honduras</td><td>0</td><td>2</td><td>Copa América</td><td>Manizales</td><td>Colombia</td><td>true</td></tr><tr><td>2001-07-23_Colombia_Peru_3_0</td><td>2001-07-23</td><td>Colombia</td><td>Peru</td><td>3</td><td>0</td><td>Copa América</td><td>Armenia</td><td>Colombia</td><td>false</td></tr><tr><td>2001-07-25_Mexico_Uruguay_2_1</td><td>2001-07-25</td><td>Mexico</td><td>Uruguay</td><td>2</td><td>1</td><td>Copa América</td><td>Pereira</td><td>Colombia</td><td>true</td></tr><tr><td>2001-07-26_Colombia_Honduras_2_0</td><td>2001-07-26</td><td>Colombia</td><td>Honduras</td><td>2</td><td>0</td><td>Copa América</td><td>Manizales</td><td>Colombia</td><td>false</td></tr><tr><td>2001-07-29_Uruguay_Honduras_2_2</td><td>2001-07-29</td><td>Uruguay</td><td>Honduras</td><td>2</td><td>2</td><td>Copa América</td><td>Bogotá</td><td>Colombia</td><td>true</td></tr><tr><td>2001-07-29_Colombia_Mexico_1_0</td><td>2001-07-29</td><td>Colombia</td><td>Mexico</td><td>1</td><td>0</td><td>Copa América</td><td>Bogotá</td><td>Colombia</td><td>false</td></tr><tr><td>2004-07-06_Peru_Bolivia_2_2</td><td>2004-07-06</td><td>Peru</td><td>Bolivia</td><td>2</td><td>2</td><td>Copa América</td><td>Lima</td><td>Peru</td><td>false</td></tr><tr><td>2004-07-06_Venezuela_Colombia_0_1</td><td>2004-07-06</td><td>Venezuela</td><td>Colombia</td><td>0</td><td>1</td><td>Copa América</td><td>Lima</td><td>Peru</td><td>true</td></tr><tr><td>2004-07-07_Argentina_Ecuador_6_1</td><td>2004-07-07</td><td>Argentina</td><td>Ecuador</td><td>6</td><td>1</td><td>Copa América</td><td>Chiclayo</td><td>Peru</td><td>true</td></tr><tr><td>2004-07-07_Mexico_Uruguay_2_2</td><td>2004-07-07</td><td>Mexico</td><td>Uruguay</td><td>2</td><td>2</td><td>Copa América</td><td>Chiclayo</td><td>Peru</td><td>true</td></tr><tr><td>2004-07-08_Brazil_Chile_1_0</td><td>2004-07-08</td><td>Brazil</td><td>Chile</td><td>1</td><td>0</td><td>Copa América</td><td>Arequipa</td><td>Peru</td><td>true</td></tr><tr><td>2004-07-08_Costa Rica_Paraguay_0_1</td><td>2004-07-08</td><td>Costa Rica</td><td>Paraguay</td><td>0</td><td>1</td><td>Copa América</td><td>Arequipa</td><td>Peru</td><td>true</td></tr><tr><td>2004-07-09_Colombia_Bolivia_1_0</td><td>2004-07-09</td><td>Colombia</td><td>Bolivia</td><td>1</td><td>0</td><td>Copa América</td><td>Lima</td><td>Peru</td><td>true</td></tr><tr><td>2004-07-09_Peru_Venezuela_3_1</td><td>2004-07-09</td><td>Peru</td><td>Venezuela</td><td>3</td><td>1</td><td>Copa América</td><td>Lima</td><td>Peru</td><td>false</td></tr><tr><td>2004-07-10_Argentina_Mexico_0_1</td><td>2004-07-10</td><td>Argentina</td><td>Mexico</td><td>0</td><td>1</td><td>Copa América</td><td>Chiclayo</td><td>Peru</td><td>true</td></tr><tr><td>2004-07-10_Uruguay_Ecuador_2_1</td><td>2004-07-10</td><td>Uruguay</td><td>Ecuador</td><td>2</td><td>1</td><td>Copa América</td><td>Chiclayo</td><td>Peru</td><td>true</td></tr><tr><td>2004-07-11_Brazil_Costa Rica_4_1</td><td>2004-07-11</td><td>Brazil</td><td>Costa Rica</td><td>4</td><td>1</td><td>Copa América</td><td>Arequipa</td><td>Peru</td><td>true</td></tr><tr><td>2004-07-11_Paraguay_Chile_1_1</td><td>2004-07-11</td><td>Paraguay</td><td>Chile</td><td>1</td><td>1</td><td>Copa América</td><td>Arequipa</td><td>Peru</td><td>true</td></tr><tr><td>2004-07-12_Peru_Colombia_2_2</td><td>2004-07-12</td><td>Peru</td><td>Colombia</td><td>2</td><td>2</td><td>Copa América</td><td>Trujillo</td><td>Peru</td><td>false</td></tr><tr><td>2004-07-12_Venezuela_Bolivia_1_1</td><td>2004-07-12</td><td>Venezuela</td><td>Bolivia</td><td>1</td><td>1</td><td>Copa América</td><td>Trujillo</td><td>Peru</td><td>true</td></tr><tr><td>2004-07-13_Argentina_Uruguay_4_2</td><td>2004-07-13</td><td>Argentina</td><td>Uruguay</td><td>4</td><td>2</td><td>Copa América</td><td>Piura</td><td>Peru</td><td>true</td></tr><tr><td>2004-07-13_Mexico_Ecuador_2_1</td><td>2004-07-13</td><td>Mexico</td><td>Ecuador</td><td>2</td><td>1</td><td>Copa América</td><td>Piura</td><td>Peru</td><td>true</td></tr><tr><td>2004-07-14_Brazil_Paraguay_1_2</td><td>2004-07-14</td><td>Brazil</td><td>Paraguay</td><td>1</td><td>2</td><td>Copa América</td><td>Arequipa</td><td>Peru</td><td>true</td></tr><tr><td>2004-07-14_Costa Rica_Chile_2_1</td><td>2004-07-14</td><td>Costa Rica</td><td>Chile</td><td>2</td><td>1</td><td>Copa América</td><td>Tacna</td><td>Peru</td><td>true</td></tr><tr><td>2004-07-17_Colombia_Costa Rica_2_0</td><td>2004-07-17</td><td>Colombia</td><td>Costa Rica</td><td>2</td><td>0</td><td>Copa América</td><td>Trujillo</td><td>Peru</td><td>true</td></tr><tr><td>2004-07-17_Peru_Argentina_0_1</td><td>2004-07-17</td><td>Peru</td><td>Argentina</td><td>0</td><td>1</td><td>Copa América</td><td>Chiclayo</td><td>Peru</td><td>false</td></tr><tr><td>2004-07-18_Mexico_Brazil_0_4</td><td>2004-07-18</td><td>Mexico</td><td>Brazil</td><td>0</td><td>4</td><td>Copa América</td><td>Piura</td><td>Peru</td><td>true</td></tr><tr><td>2004-07-18_Paraguay_Uruguay_1_3</td><td>2004-07-18</td><td>Paraguay</td><td>Uruguay</td><td>1</td><td>3</td><td>Copa América</td><td>Tacna</td><td>Peru</td><td>true</td></tr><tr><td>2004-07-20_Argentina_Colombia_3_0</td><td>2004-07-20</td><td>Argentina</td><td>Colombia</td><td>3</td><td>0</td><td>Copa América</td><td>Lima</td><td>Peru</td><td>true</td></tr><tr><td>2004-07-21_Uruguay_Brazil_1_1</td><td>2004-07-21</td><td>Uruguay</td><td>Brazil</td><td>1</td><td>1</td><td>Copa América</td><td>Lima</td><td>Peru</td><td>true</td></tr><tr><td>2004-07-24_Colombia_Uruguay_1_2</td><td>2004-07-24</td><td>Colombia</td><td>Uruguay</td><td>1</td><td>2</td><td>Copa América</td><td>Cusco</td><td>Peru</td><td>true</td></tr><tr><td>2004-07-25_Argentina_Brazil_2_2</td><td>2004-07-25</td><td>Argentina</td><td>Brazil</td><td>2</td><td>2</td><td>Copa América</td><td>Lima</td><td>Peru</td><td>true</td></tr><tr><td>2019-06-14_Brazil_Bolivia_3_0</td><td>2019-06-14</td><td>Brazil</td><td>Bolivia</td><td>3</td><td>0</td><td>Copa América</td><td>São Paulo</td><td>Brazil</td><td>false</td></tr><tr><td>2019-06-15_Venezuela_Peru_0_0</td><td>2019-06-15</td><td>Venezuela</td><td>Peru</td><td>0</td><td>0</td><td>Copa América</td><td>Porto Alegre</td><td>Brazil</td><td>true</td></tr><tr><td>2019-06-15_Argentina_Colombia_0_2</td><td>2019-06-15</td><td>Argentina</td><td>Colombia</td><td>0</td><td>2</td><td>Copa América</td><td>Salvador</td><td>Brazil</td><td>true</td></tr><tr><td>2019-06-16_Paraguay_Qatar_2_2</td><td>2019-06-16</td><td>Paraguay</td><td>Qatar</td><td>2</td><td>2</td><td>Copa América</td><td>Rio de Janeiro</td><td>Brazil</td><td>true</td></tr><tr><td>2019-06-16_Uruguay_Ecuador_4_0</td><td>2019-06-16</td><td>Uruguay</td><td>Ecuador</td><td>4</td><td>0</td><td>Copa América</td><td>Belo Horizonte</td><td>Brazil</td><td>true</td></tr><tr><td>2019-06-17_Japan_Chile_0_4</td><td>2019-06-17</td><td>Japan</td><td>Chile</td><td>0</td><td>4</td><td>Copa América</td><td>São Paulo</td><td>Brazil</td><td>true</td></tr><tr><td>2019-06-18_Bolivia_Peru_1_3</td><td>2019-06-18</td><td>Bolivia</td><td>Peru</td><td>1</td><td>3</td><td>Copa América</td><td>Rio de Janeiro</td><td>Brazil</td><td>true</td></tr><tr><td>2019-06-18_Brazil_Venezuela_0_0</td><td>2019-06-18</td><td>Brazil</td><td>Venezuela</td><td>0</td><td>0</td><td>Copa América</td><td>Salvador</td><td>Brazil</td><td>false</td></tr><tr><td>2019-06-19_Colombia_Qatar_1_0</td><td>2019-06-19</td><td>Colombia</td><td>Qatar</td><td>1</td><td>0</td><td>Copa América</td><td>São Paulo</td><td>Brazil</td><td>true</td></tr><tr><td>2019-06-19_Argentina_Paraguay_1_1</td><td>2019-06-19</td><td>Argentina</td><td>Paraguay</td><td>1</td><td>1</td><td>Copa América</td><td>Belo Horizonte</td><td>Brazil</td><td>true</td></tr><tr><td>2019-06-20_Uruguay_Japan_2_2</td><td>2019-06-20</td><td>Uruguay</td><td>Japan</td><td>2</td><td>2</td><td>Copa América</td><td>Porto Alegre</td><td>Brazil</td><td>true</td></tr><tr><td>2019-06-21_Ecuador_Chile_1_2</td><td>2019-06-21</td><td>Ecuador</td><td>Chile</td><td>1</td><td>2</td><td>Copa América</td><td>Salvador</td><td>Brazil</td><td>true</td></tr><tr><td>2019-06-22_Bolivia_Venezuela_1_3</td><td>2019-06-22</td><td>Bolivia</td><td>Venezuela</td><td>1</td><td>3</td><td>Copa América</td><td>Belo Horizonte</td><td>Brazil</td><td>true</td></tr><tr><td>2019-06-22_Brazil_Peru_5_0</td><td>2019-06-22</td><td>Brazil</td><td>Peru</td><td>5</td><td>0</td><td>Copa América</td><td>São Paulo</td><td>Brazil</td><td>false</td></tr><tr><td>2019-06-23_Colombia_Paraguay_1_0</td><td>2019-06-23</td><td>Colombia</td><td>Paraguay</td><td>1</td><td>0</td><td>Copa América</td><td>Salvador</td><td>Brazil</td><td>true</td></tr><tr><td>2019-06-23_Qatar_Argentina_0_2</td><td>2019-06-23</td><td>Qatar</td><td>Argentina</td><td>0</td><td>2</td><td>Copa América</td><td>Porto Alegre</td><td>Brazil</td><td>true</td></tr><tr><td>2019-06-24_Chile_Uruguay_0_1</td><td>2019-06-24</td><td>Chile</td><td>Uruguay</td><td>0</td><td>1</td><td>Copa América</td><td>Rio de Janeiro</td><td>Brazil</td><td>true</td></tr><tr><td>2019-06-24_Ecuador_Japan_1_1</td><td>2019-06-24</td><td>Ecuador</td><td>Japan</td><td>1</td><td>1</td><td>Copa América</td><td>Belo Horizonte</td><td>Brazil</td><td>true</td></tr><tr><td>2019-06-27_Brazil_Paraguay_0_0</td><td>2019-06-27</td><td>Brazil</td><td>Paraguay</td><td>0</td><td>0</td><td>Copa América</td><td>Porto Alegre</td><td>Brazil</td><td>false</td></tr><tr><td>2019-06-28_Colombia_Chile_0_0</td><td>2019-06-28</td><td>Colombia</td><td>Chile</td><td>0</td><td>0</td><td>Copa América</td><td>São Paulo</td><td>Brazil</td><td>true</td></tr><tr><td>2019-06-28_Venezuela_Argentina_0_2</td><td>2019-06-28</td><td>Venezuela</td><td>Argentina</td><td>0</td><td>2</td><td>Copa América</td><td>Rio de Janeiro</td><td>Brazil</td><td>true</td></tr><tr><td>2019-06-29_Uruguay_Peru_0_0</td><td>2019-06-29</td><td>Uruguay</td><td>Peru</td><td>0</td><td>0</td><td>Copa América</td><td>Salvador</td><td>Brazil</td><td>true</td></tr><tr><td>2019-07-02_Brazil_Argentina_2_0</td><td>2019-07-02</td><td>Brazil</td><td>Argentina</td><td>2</td><td>0</td><td>Copa América</td><td>Belo Horizonte</td><td>Brazil</td><td>false</td></tr><tr><td>2019-07-03_Chile_Peru_0_3</td><td>2019-07-03</td><td>Chile</td><td>Peru</td><td>0</td><td>3</td><td>Copa América</td><td>Porto Alegre</td><td>Brazil</td><td>true</td></tr><tr><td>2019-07-06_Argentina_Chile_2_1</td><td>2019-07-06</td><td>Argentina</td><td>Chile</td><td>2</td><td>1</td><td>Copa América</td><td>São Paulo</td><td>Brazil</td><td>true</td></tr><tr><td>2019-07-07_Brazil_Peru_3_1</td><td>2019-07-07</td><td>Brazil</td><td>Peru</td><td>3</td><td>1</td><td>Copa América</td><td>Rio de Janeiro</td><td>Brazil</td><td>false</td></tr><tr><td>2021-06-13_Brazil_Venezuela_3_0</td><td>2021-06-13</td><td>Brazil</td><td>Venezuela</td><td>3</td><td>0</td><td>Copa América</td><td>Brasília</td><td>Brazil</td><td>false</td></tr><tr><td>2021-06-13_Colombia_Ecuador_1_0</td><td>2021-06-13</td><td>Colombia</td><td>Ecuador</td><td>1</td><td>0</td><td>Copa América</td><td>Cuiabá</td><td>Brazil</td><td>true</td></tr><tr><td>2021-06-14_Argentina_Chile_1_1</td><td>2021-06-14</td><td>Argentina</td><td>Chile</td><td>1</td><td>1</td><td>Copa América</td><td>Rio de Janeiro</td><td>Brazil</td><td>true</td></tr><tr><td>2021-06-14_Paraguay_Bolivia_3_1</td><td>2021-06-14</td><td>Paraguay</td><td>Bolivia</td><td>3</td><td>1</td><td>Copa América</td><td>Goiânia</td><td>Brazil</td><td>true</td></tr><tr><td>2021-06-17_Colombia_Venezuela_0_0</td><td>2021-06-17</td><td>Colombia</td><td>Venezuela</td><td>0</td><td>0</td><td>Copa América</td><td>Goiânia</td><td>Brazil</td><td>true</td></tr><tr><td>2021-06-17_Brazil_Peru_4_0</td><td>2021-06-17</td><td>Brazil</td><td>Peru</td><td>4</td><td>0</td><td>Copa América</td><td>Rio de Janeiro</td><td>Brazil</td><td>false</td></tr><tr><td>2021-06-18_Chile_Bolivia_1_0</td><td>2021-06-18</td><td>Chile</td><td>Bolivia</td><td>1</td><td>0</td><td>Copa América</td><td>Cuiabá</td><td>Brazil</td><td>true</td></tr><tr><td>2021-06-18_Argentina_Uruguay_1_0</td><td>2021-06-18</td><td>Argentina</td><td>Uruguay</td><td>1</td><td>0</td><td>Copa América</td><td>Brasília</td><td>Brazil</td><td>true</td></tr><tr><td>2021-06-20_Venezuela_Ecuador_2_2</td><td>2021-06-20</td><td>Venezuela</td><td>Ecuador</td><td>2</td><td>2</td><td>Copa América</td><td>Rio de Janeiro</td><td>Brazil</td><td>true</td></tr><tr><td>2021-06-20_Colombia_Peru_1_2</td><td>2021-06-20</td><td>Colombia</td><td>Peru</td><td>1</td><td>2</td><td>Copa América</td><td>Goiânia</td><td>Brazil</td><td>true</td></tr><tr><td>2021-06-21_Uruguay_Chile_1_1</td><td>2021-06-21</td><td>Uruguay</td><td>Chile</td><td>1</td><td>1</td><td>Copa América</td><td>Cuiabá</td><td>Brazil</td><td>true</td></tr><tr><td>2021-06-21_Argentina_Paraguay_1_0</td><td>2021-06-21</td><td>Argentina</td><td>Paraguay</td><td>1</td><td>0</td><td>Copa América</td><td>Brasília</td><td>Brazil</td><td>true</td></tr><tr><td>2021-06-23_Ecuador_Peru_2_2</td><td>2021-06-23</td><td>Ecuador</td><td>Peru</td><td>2</td><td>2</td><td>Copa América</td><td>Goiânia</td><td>Brazil</td><td>true</td></tr><tr><td>2021-06-23_Brazil_Colombia_2_1</td><td>2021-06-23</td><td>Brazil</td><td>Colombia</td><td>2</td><td>1</td><td>Copa América</td><td>Rio de Janeiro</td><td>Brazil</td><td>false</td></tr><tr><td>2021-06-24_Bolivia_Uruguay_0_2</td><td>2021-06-24</td><td>Bolivia</td><td>Uruguay</td><td>0</td><td>2</td><td>Copa América</td><td>Cuiabá</td><td>Brazil</td><td>true</td></tr><tr><td>2021-06-24_Chile_Paraguay_0_2</td><td>2021-06-24</td><td>Chile</td><td>Paraguay</td><td>0</td><td>2</td><td>Copa América</td><td>Brasília</td><td>Brazil</td><td>true</td></tr><tr><td>2021-06-27_Brazil_Ecuador_1_1</td><td>2021-06-27</td><td>Brazil</td><td>Ecuador</td><td>1</td><td>1</td><td>Copa América</td><td>Goiânia</td><td>Brazil</td><td>false</td></tr><tr><td>2021-06-27_Venezuela_Peru_0_1</td><td>2021-06-27</td><td>Venezuela</td><td>Peru</td><td>0</td><td>1</td><td>Copa América</td><td>Brasília</td><td>Brazil</td><td>true</td></tr><tr><td>2021-06-28_Argentina_Bolivia_4_1</td><td>2021-06-28</td><td>Argentina</td><td>Bolivia</td><td>4</td><td>1</td><td>Copa América</td><td>Cuiabá</td><td>Brazil</td><td>true</td></tr><tr><td>2021-06-28_Uruguay_Paraguay_1_0</td><td>2021-06-28</td><td>Uruguay</td><td>Paraguay</td><td>1</td><td>0</td><td>Copa América</td><td>Rio de Janeiro</td><td>Brazil</td><td>true</td></tr><tr><td>2021-07-02_Peru_Paraguay_3_3</td><td>2021-07-02</td><td>Peru</td><td>Paraguay</td><td>3</td><td>3</td><td>Copa América</td><td>Goiânia</td><td>Brazil</td><td>true</td></tr><tr><td>2021-07-02_Brazil_Chile_1_0</td><td>2021-07-02</td><td>Brazil</td><td>Chile</td><td>1</td><td>0</td><td>Copa América</td><td>Rio de Janeiro</td><td>Brazil</td><td>false</td></tr><tr><td>2021-07-03_Uruguay_Colombia_0_0</td><td>2021-07-03</td><td>Uruguay</td><td>Colombia</td><td>0</td><td>0</td><td>Copa América</td><td>Brasília</td><td>Brazil</td><td>true</td></tr><tr><td>2021-07-03_Argentina_Ecuador_3_0</td><td>2021-07-03</td><td>Argentina</td><td>Ecuador</td><td>3</td><td>0</td><td>Copa América</td><td>Goiânia</td><td>Brazil</td><td>true</td></tr><tr><td>2021-07-05_Brazil_Peru_1_0</td><td>2021-07-05</td><td>Brazil</td><td>Peru</td><td>1</td><td>0</td><td>Copa América</td><td>Rio de Janeiro</td><td>Brazil</td><td>false</td></tr><tr><td>2021-07-06_Argentina_Colombia_1_1</td><td>2021-07-06</td><td>Argentina</td><td>Colombia</td><td>1</td><td>1</td><td>Copa América</td><td>Brasília</td><td>Brazil</td><td>true</td></tr><tr><td>2021-07-09_Peru_Colombia_2_3</td><td>2021-07-09</td><td>Peru</td><td>Colombia</td><td>2</td><td>3</td><td>Copa América</td><td>Brasília</td><td>Brazil</td><td>true</td></tr><tr><td>2021-07-10_Brazil_Argentina_0_1</td><td>2021-07-10</td><td>Brazil</td><td>Argentina</td><td>0</td><td>1</td><td>Copa América</td><td>Rio de Janeiro</td><td>Brazil</td><td>false</td></tr><tr><td>2024-06-20_Argentina_Canada_2_0</td><td>2024-06-20</td><td>Argentina</td><td>Canada</td><td>2</td><td>0</td><td>Copa América</td><td>Atlanta</td><td>United States</td><td>true</td></tr><tr><td>2024-06-21_Peru_Chile_0_0</td><td>2024-06-21</td><td>Peru</td><td>Chile</td><td>0</td><td>0</td><td>Copa América</td><td>Arlington</td><td>United States</td><td>true</td></tr><tr><td>2024-06-22_Ecuador_Venezuela_1_2</td><td>2024-06-22</td><td>Ecuador</td><td>Venezuela</td><td>1</td><td>2</td><td>Copa América</td><td>Santa Clara</td><td>United States</td><td>true</td></tr><tr><td>2024-06-22_Mexico_Jamaica_1_0</td><td>2024-06-22</td><td>Mexico</td><td>Jamaica</td><td>1</td><td>0</td><td>Copa América</td><td>Houston</td><td>United States</td><td>true</td></tr><tr><td>2024-06-23_United States_Bolivia_2_0</td><td>2024-06-23</td><td>United States</td><td>Bolivia</td><td>2</td><td>0</td><td>Copa América</td><td>Arlington</td><td>United States</td><td>false</td></tr><tr><td>2024-06-23_Uruguay_Panama_3_1</td><td>2024-06-23</td><td>Uruguay</td><td>Panama</td><td>3</td><td>1</td><td>Copa América</td><td>Miami Gardens</td><td>United States</td><td>true</td></tr><tr><td>2024-06-24_Colombia_Paraguay_2_1</td><td>2024-06-24</td><td>Colombia</td><td>Paraguay</td><td>2</td><td>1</td><td>Copa América</td><td>Houston</td><td>United States</td><td>true</td></tr><tr><td>2024-06-24_Brazil_Costa Rica_0_0</td><td>2024-06-24</td><td>Brazil</td><td>Costa Rica</td><td>0</td><td>0</td><td>Copa América</td><td>Inglewood</td><td>United States</td><td>true</td></tr><tr><td>2024-06-25_Peru_Canada_0_1</td><td>2024-06-25</td><td>Peru</td><td>Canada</td><td>0</td><td>1</td><td>Copa América</td><td>Kansas City</td><td>United States</td><td>true</td></tr><tr><td>2024-06-25_Chile_Argentina_0_1</td><td>2024-06-25</td><td>Chile</td><td>Argentina</td><td>0</td><td>1</td><td>Copa América</td><td>East Rutherford</td><td>United States</td><td>true</td></tr><tr><td>2024-06-26_Ecuador_Jamaica_3_1</td><td>2024-06-26</td><td>Ecuador</td><td>Jamaica</td><td>3</td><td>1</td><td>Copa América</td><td>Las Vegas</td><td>United States</td><td>true</td></tr><tr><td>2024-06-26_Venezuela_Mexico_1_0</td><td>2024-06-26</td><td>Venezuela</td><td>Mexico</td><td>1</td><td>0</td><td>Copa América</td><td>Inglewood</td><td>United States</td><td>true</td></tr><tr><td>2024-06-27_United States_Panama_1_2</td><td>2024-06-27</td><td>United States</td><td>Panama</td><td>1</td><td>2</td><td>Copa América</td><td>Atlanta</td><td>United States</td><td>false</td></tr><tr><td>2024-06-27_Uruguay_Bolivia_4_0</td><td>2024-06-27</td><td>Uruguay</td><td>Bolivia</td><td>4</td><td>0</td><td>Copa América</td><td>East Rutherford</td><td>United States</td><td>true</td></tr><tr><td>2024-06-28_Colombia_Costa Rica_3_0</td><td>2024-06-28</td><td>Colombia</td><td>Costa Rica</td><td>3</td><td>0</td><td>Copa América</td><td>Glendale</td><td>United States</td><td>true</td></tr><tr><td>2024-06-28_Paraguay_Brazil_1_4</td><td>2024-06-28</td><td>Paraguay</td><td>Brazil</td><td>1</td><td>4</td><td>Copa América</td><td>Las Vegas</td><td>United States</td><td>true</td></tr><tr><td>2024-06-29_Argentina_Peru_2_0</td><td>2024-06-29</td><td>Argentina</td><td>Peru</td><td>2</td><td>0</td><td>Copa América</td><td>Miami Gardens</td><td>United States</td><td>true</td></tr><tr><td>2024-06-29_Canada_Chile_0_0</td><td>2024-06-29</td><td>Canada</td><td>Chile</td><td>0</td><td>0</td><td>Copa América</td><td>Orlando</td><td>United States</td><td>true</td></tr><tr><td>2024-06-30_Mexico_Ecuador_0_0</td><td>2024-06-30</td><td>Mexico</td><td>Ecuador</td><td>0</td><td>0</td><td>Copa América</td><td>Glendale</td><td>United States</td><td>true</td></tr><tr><td>2024-06-30_Jamaica_Venezuela_0_3</td><td>2024-06-30</td><td>Jamaica</td><td>Venezuela</td><td>0</td><td>3</td><td>Copa América</td><td>Austin</td><td>United States</td><td>true</td></tr><tr><td>2024-07-01_United States_Uruguay_0_1</td><td>2024-07-01</td><td>United States</td><td>Uruguay</td><td>0</td><td>1</td><td>Copa América</td><td>Kansas City</td><td>United States</td><td>false</td></tr><tr><td>2024-07-01_Bolivia_Panama_1_3</td><td>2024-07-01</td><td>Bolivia</td><td>Panama</td><td>1</td><td>3</td><td>Copa América</td><td>Orlando</td><td>United States</td><td>true</td></tr><tr><td>2024-07-02_Brazil_Colombia_1_1</td><td>2024-07-02</td><td>Brazil</td><td>Colombia</td><td>1</td><td>1</td><td>Copa América</td><td>Santa Clara</td><td>United States</td><td>true</td></tr><tr><td>2024-07-02_Costa Rica_Paraguay_2_1</td><td>2024-07-02</td><td>Costa Rica</td><td>Paraguay</td><td>2</td><td>1</td><td>Copa América</td><td>Austin</td><td>United States</td><td>true</td></tr><tr><td>2024-07-04_Argentina_Ecuador_1_1</td><td>2024-07-04</td><td>Argentina</td><td>Ecuador</td><td>1</td><td>1</td><td>Copa América</td><td>Houston</td><td>United States</td><td>true</td></tr><tr><td>2024-07-05_Venezuela_Canada_1_1</td><td>2024-07-05</td><td>Venezuela</td><td>Canada</td><td>1</td><td>1</td><td>Copa América</td><td>Arlington</td><td>United States</td><td>true</td></tr><tr><td>2024-07-06_Uruguay_Brazil_0_0</td><td>2024-07-06</td><td>Uruguay</td><td>Brazil</td><td>0</td><td>0</td><td>Copa América</td><td>Las Vegas</td><td>United States</td><td>true</td></tr><tr><td>2024-07-06_Colombia_Panama_5_0</td><td>2024-07-06</td><td>Colombia</td><td>Panama</td><td>5</td><td>0</td><td>Copa América</td><td>Glendale</td><td>United States</td><td>true</td></tr><tr><td>2024-07-09_Argentina_Canada_2_0</td><td>2024-07-09</td><td>Argentina</td><td>Canada</td><td>2</td><td>0</td><td>Copa América</td><td>East Rutherford</td><td>United States</td><td>true</td></tr><tr><td>2024-07-10_Uruguay_Colombia_0_1</td><td>2024-07-10</td><td>Uruguay</td><td>Colombia</td><td>0</td><td>1</td><td>Copa América</td><td>Charlotte</td><td>United States</td><td>true</td></tr><tr><td>2024-07-13_Canada_Uruguay_2_2</td><td>2024-07-13</td><td>Canada</td><td>Uruguay</td><td>2</td><td>2</td><td>Copa América</td><td>Charlotte</td><td>United States</td><td>true</td></tr><tr><td>2024-07-14_Argentina_Colombia_1_0</td><td>2024-07-14</td><td>Argentina</td><td>Colombia</td><td>1</td><td>0</td><td>Copa América</td><td>Miami Gardens</td><td>United States</td><td>true</td></tr></tbody></table></div>"
      ]
     },
     "metadata": {
      "application/vnd.databricks.v1+output": {
       "addedWidgets": {},
       "aggData": [],
       "aggError": "",
       "aggOverflow": false,
       "aggSchema": [],
       "aggSeriesLimitReached": false,
       "aggType": "",
       "arguments": {},
       "columnCustomDisplayInfos": {},
       "data": [
        [
         "1916-07-02_Chile_Uruguay_0_4",
         "1916-07-02",
         "Chile",
         "Uruguay",
         0,
         4,
         "Copa América",
         "Buenos Aires",
         "Argentina",
         true
        ],
        [
         "1916-07-06_Argentina_Chile_6_1",
         "1916-07-06",
         "Argentina",
         "Chile",
         6,
         1,
         "Copa América",
         "Buenos Aires",
         "Argentina",
         false
        ],
        [
         "1916-07-08_Brazil_Chile_1_1",
         "1916-07-08",
         "Brazil",
         "Chile",
         1,
         1,
         "Copa América",
         "Buenos Aires",
         "Argentina",
         true
        ],
        [
         "1916-07-10_Argentina_Brazil_1_1",
         "1916-07-10",
         "Argentina",
         "Brazil",
         1,
         1,
         "Copa América",
         "Buenos Aires",
         "Argentina",
         false
        ],
        [
         "1916-07-12_Brazil_Uruguay_1_2",
         "1916-07-12",
         "Brazil",
         "Uruguay",
         1,
         2,
         "Copa América",
         "Buenos Aires",
         "Argentina",
         true
        ],
        [
         "1916-07-17_Argentina_Uruguay_0_0",
         "1916-07-17",
         "Argentina",
         "Uruguay",
         0,
         0,
         "Copa América",
         "Avellaneda",
         "Argentina",
         false
        ],
        [
         "1917-09-30_Uruguay_Chile_4_0",
         "1917-09-30",
         "Uruguay",
         "Chile",
         4,
         0,
         "Copa América",
         "Montevideo",
         "Uruguay",
         false
        ],
        [
         "1917-10-03_Argentina_Brazil_4_2",
         "1917-10-03",
         "Argentina",
         "Brazil",
         4,
         2,
         "Copa América",
         "Montevideo",
         "Uruguay",
         true
        ],
        [
         "1917-10-06_Argentina_Chile_1_0",
         "1917-10-06",
         "Argentina",
         "Chile",
         1,
         0,
         "Copa América",
         "Montevideo",
         "Uruguay",
         true
        ],
        [
         "1917-10-07_Uruguay_Brazil_4_0",
         "1917-10-07",
         "Uruguay",
         "Brazil",
         4,
         0,
         "Copa América",
         "Montevideo",
         "Uruguay",
         false
        ],
        [
         "1917-10-12_Brazil_Chile_5_0",
         "1917-10-12",
         "Brazil",
         "Chile",
         5,
         0,
         "Copa América",
         "Montevideo",
         "Uruguay",
         true
        ],
        [
         "1917-10-14_Uruguay_Argentina_1_0",
         "1917-10-14",
         "Uruguay",
         "Argentina",
         1,
         0,
         "Copa América",
         "Montevideo",
         "Uruguay",
         false
        ],
        [
         "1919-05-11_Brazil_Chile_6_0",
         "1919-05-11",
         "Brazil",
         "Chile",
         6,
         0,
         "Copa América",
         "Rio de Janeiro",
         "Brazil",
         false
        ],
        [
         "1919-05-13_Argentina_Uruguay_2_3",
         "1919-05-13",
         "Argentina",
         "Uruguay",
         2,
         3,
         "Copa América",
         "Rio de Janeiro",
         "Brazil",
         true
        ],
        [
         "1919-05-17_Chile_Uruguay_0_2",
         "1919-05-17",
         "Chile",
         "Uruguay",
         0,
         2,
         "Copa América",
         "Rio de Janeiro",
         "Brazil",
         true
        ],
        [
         "1919-05-18_Brazil_Argentina_3_1",
         "1919-05-18",
         "Brazil",
         "Argentina",
         3,
         1,
         "Copa América",
         "Rio de Janeiro",
         "Brazil",
         false
        ],
        [
         "1919-05-22_Argentina_Chile_4_1",
         "1919-05-22",
         "Argentina",
         "Chile",
         4,
         1,
         "Copa América",
         "Rio de Janeiro",
         "Brazil",
         true
        ],
        [
         "1919-05-26_Brazil_Uruguay_2_2",
         "1919-05-26",
         "Brazil",
         "Uruguay",
         2,
         2,
         "Copa América",
         "Rio de Janeiro",
         "Brazil",
         false
        ],
        [
         "1919-05-29_Brazil_Uruguay_1_0",
         "1919-05-29",
         "Brazil",
         "Uruguay",
         1,
         0,
         "Copa América",
         "Rio de Janeiro",
         "Brazil",
         false
        ],
        [
         "1920-09-11_Chile_Brazil_0_1",
         "1920-09-11",
         "Chile",
         "Brazil",
         0,
         1,
         "Copa América",
         "Viña del Mar",
         "Chile",
         false
        ],
        [
         "1920-09-12_Uruguay_Argentina_1_1",
         "1920-09-12",
         "Uruguay",
         "Argentina",
         1,
         1,
         "Copa América",
         "Viña del Mar",
         "Chile",
         true
        ],
        [
         "1920-09-18_Brazil_Uruguay_0_6",
         "1920-09-18",
         "Brazil",
         "Uruguay",
         0,
         6,
         "Copa América",
         "Viña del Mar",
         "Chile",
         true
        ],
        [
         "1920-09-20_Chile_Argentina_1_1",
         "1920-09-20",
         "Chile",
         "Argentina",
         1,
         1,
         "Copa América",
         "Viña del Mar",
         "Chile",
         false
        ],
        [
         "1920-09-25_Argentina_Brazil_2_0",
         "1920-09-25",
         "Argentina",
         "Brazil",
         2,
         0,
         "Copa América",
         "Viña del Mar",
         "Chile",
         true
        ],
        [
         "1920-10-03_Chile_Uruguay_1_2",
         "1920-10-03",
         "Chile",
         "Uruguay",
         1,
         2,
         "Copa América",
         "Viña del Mar",
         "Chile",
         false
        ],
        [
         "1921-10-02_Argentina_Brazil_1_0",
         "1921-10-02",
         "Argentina",
         "Brazil",
         1,
         0,
         "Copa América",
         "Buenos Aires",
         "Argentina",
         false
        ],
        [
         "1921-10-09_Paraguay_Uruguay_2_1",
         "1921-10-09",
         "Paraguay",
         "Uruguay",
         2,
         1,
         "Copa América",
         "Buenos Aires",
         "Argentina",
         true
        ],
        [
         "1921-10-12_Brazil_Paraguay_3_0",
         "1921-10-12",
         "Brazil",
         "Paraguay",
         3,
         0,
         "Copa América",
         "Buenos Aires",
         "Argentina",
         true
        ],
        [
         "1921-10-16_Argentina_Paraguay_3_0",
         "1921-10-16",
         "Argentina",
         "Paraguay",
         3,
         0,
         "Copa América",
         "Buenos Aires",
         "Argentina",
         false
        ],
        [
         "1921-10-23_Brazil_Uruguay_1_2",
         "1921-10-23",
         "Brazil",
         "Uruguay",
         1,
         2,
         "Copa América",
         "Buenos Aires",
         "Argentina",
         true
        ],
        [
         "1921-10-30_Argentina_Uruguay_1_0",
         "1921-10-30",
         "Argentina",
         "Uruguay",
         1,
         0,
         "Copa América",
         "Buenos Aires",
         "Argentina",
         false
        ],
        [
         "1922-09-17_Brazil_Chile_1_1",
         "1922-09-17",
         "Brazil",
         "Chile",
         1,
         1,
         "Copa América",
         "Rio de Janeiro",
         "Brazil",
         false
        ],
        [
         "1922-09-23_Chile_Uruguay_0_2",
         "1922-09-23",
         "Chile",
         "Uruguay",
         0,
         2,
         "Copa América",
         "Rio de Janeiro",
         "Brazil",
         true
        ],
        [
         "1922-09-24_Brazil_Paraguay_1_1",
         "1922-09-24",
         "Brazil",
         "Paraguay",
         1,
         1,
         "Copa América",
         "Rio de Janeiro",
         "Brazil",
         false
        ],
        [
         "1922-09-28_Argentina_Chile_4_0",
         "1922-09-28",
         "Argentina",
         "Chile",
         4,
         0,
         "Copa América",
         "Rio de Janeiro",
         "Brazil",
         true
        ],
        [
         "1922-10-01_Brazil_Uruguay_0_0",
         "1922-10-01",
         "Brazil",
         "Uruguay",
         0,
         0,
         "Copa América",
         "Rio de Janeiro",
         "Brazil",
         false
        ],
        [
         "1922-10-05_Chile_Paraguay_0_3",
         "1922-10-05",
         "Chile",
         "Paraguay",
         0,
         3,
         "Copa América",
         "Rio de Janeiro",
         "Brazil",
         true
        ],
        [
         "1922-10-08_Argentina_Uruguay_0_1",
         "1922-10-08",
         "Argentina",
         "Uruguay",
         0,
         1,
         "Copa América",
         "Rio de Janeiro",
         "Brazil",
         true
        ],
        [
         "1922-10-12_Paraguay_Uruguay_1_0",
         "1922-10-12",
         "Paraguay",
         "Uruguay",
         1,
         0,
         "Copa América",
         "Rio de Janeiro",
         "Brazil",
         true
        ],
        [
         "1922-10-15_Brazil_Argentina_2_0",
         "1922-10-15",
         "Brazil",
         "Argentina",
         2,
         0,
         "Copa América",
         "Rio de Janeiro",
         "Brazil",
         false
        ],
        [
         "1922-10-18_Argentina_Paraguay_2_0",
         "1922-10-18",
         "Argentina",
         "Paraguay",
         2,
         0,
         "Copa América",
         "Rio de Janeiro",
         "Brazil",
         true
        ],
        [
         "1922-11-06_Brazil_Paraguay_3_0",
         "1922-11-06",
         "Brazil",
         "Paraguay",
         3,
         0,
         "Copa América",
         "Rio de Janeiro",
         "Brazil",
         false
        ],
        [
         "1923-10-29_Argentina_Paraguay_4_3",
         "1923-10-29",
         "Argentina",
         "Paraguay",
         4,
         3,
         "Copa América",
         "Montevideo",
         "Uruguay",
         true
        ],
        [
         "1923-11-04_Uruguay_Paraguay_2_0",
         "1923-11-04",
         "Uruguay",
         "Paraguay",
         2,
         0,
         "Copa América",
         "Montevideo",
         "Uruguay",
         false
        ],
        [
         "1923-11-11_Brazil_Paraguay_0_1",
         "1923-11-11",
         "Brazil",
         "Paraguay",
         0,
         1,
         "Copa América",
         "Montevideo",
         "Uruguay",
         true
        ],
        [
         "1923-11-18_Argentina_Brazil_2_1",
         "1923-11-18",
         "Argentina",
         "Brazil",
         2,
         1,
         "Copa América",
         "Montevideo",
         "Uruguay",
         true
        ],
        [
         "1923-11-25_Uruguay_Brazil_2_1",
         "1923-11-25",
         "Uruguay",
         "Brazil",
         2,
         1,
         "Copa América",
         "Montevideo",
         "Uruguay",
         false
        ],
        [
         "1923-12-02_Uruguay_Argentina_2_0",
         "1923-12-02",
         "Uruguay",
         "Argentina",
         2,
         0,
         "Copa América",
         "Montevideo",
         "Uruguay",
         false
        ],
        [
         "1924-10-12_Argentina_Paraguay_0_0",
         "1924-10-12",
         "Argentina",
         "Paraguay",
         0,
         0,
         "Copa América",
         "Montevideo",
         "Uruguay",
         true
        ],
        [
         "1924-10-19_Uruguay_Chile_5_0",
         "1924-10-19",
         "Uruguay",
         "Chile",
         5,
         0,
         "Copa América",
         "Montevideo",
         "Uruguay",
         false
        ],
        [
         "1924-10-25_Argentina_Chile_2_0",
         "1924-10-25",
         "Argentina",
         "Chile",
         2,
         0,
         "Copa América",
         "Montevideo",
         "Uruguay",
         true
        ],
        [
         "1924-10-26_Uruguay_Paraguay_3_1",
         "1924-10-26",
         "Uruguay",
         "Paraguay",
         3,
         1,
         "Copa América",
         "Montevideo",
         "Uruguay",
         false
        ],
        [
         "1924-11-01_Chile_Paraguay_1_3",
         "1924-11-01",
         "Chile",
         "Paraguay",
         1,
         3,
         "Copa América",
         "Montevideo",
         "Uruguay",
         true
        ],
        [
         "1924-11-02_Uruguay_Argentina_0_0",
         "1924-11-02",
         "Uruguay",
         "Argentina",
         0,
         0,
         "Copa América",
         "Montevideo",
         "Uruguay",
         false
        ],
        [
         "1925-11-29_Argentina_Paraguay_2_0",
         "1925-11-29",
         "Argentina",
         "Paraguay",
         2,
         0,
         "Copa América",
         "Buenos Aires",
         "Argentina",
         false
        ],
        [
         "1925-12-06_Brazil_Paraguay_5_2",
         "1925-12-06",
         "Brazil",
         "Paraguay",
         5,
         2,
         "Copa América",
         "Buenos Aires",
         "Argentina",
         true
        ],
        [
         "1925-12-13_Argentina_Brazil_4_1",
         "1925-12-13",
         "Argentina",
         "Brazil",
         4,
         1,
         "Copa América",
         "Buenos Aires",
         "Argentina",
         false
        ],
        [
         "1925-12-17_Brazil_Paraguay_3_1",
         "1925-12-17",
         "Brazil",
         "Paraguay",
         3,
         1,
         "Copa América",
         "Buenos Aires",
         "Argentina",
         true
        ],
        [
         "1925-12-20_Argentina_Paraguay_3_1",
         "1925-12-20",
         "Argentina",
         "Paraguay",
         3,
         1,
         "Copa América",
         "Buenos Aires",
         "Argentina",
         false
        ],
        [
         "1925-12-25_Argentina_Brazil_2_2",
         "1925-12-25",
         "Argentina",
         "Brazil",
         2,
         2,
         "Copa América",
         "Buenos Aires",
         "Argentina",
         false
        ],
        [
         "1926-10-12_Chile_Bolivia_7_1",
         "1926-10-12",
         "Chile",
         "Bolivia",
         7,
         1,
         "Copa América",
         "Santiago",
         "Chile",
         false
        ],
        [
         "1926-10-16_Argentina_Bolivia_5_0",
         "1926-10-16",
         "Argentina",
         "Bolivia",
         5,
         0,
         "Copa América",
         "Santiago",
         "Chile",
         true
        ],
        [
         "1926-10-17_Chile_Uruguay_1_3",
         "1926-10-17",
         "Chile",
         "Uruguay",
         1,
         3,
         "Copa América",
         "Santiago",
         "Chile",
         false
        ],
        [
         "1926-10-20_Argentina_Paraguay_8_0",
         "1926-10-20",
         "Argentina",
         "Paraguay",
         8,
         0,
         "Copa América",
         "Santiago",
         "Chile",
         true
        ],
        [
         "1926-10-23_Bolivia_Paraguay_1_6",
         "1926-10-23",
         "Bolivia",
         "Paraguay",
         1,
         6,
         "Copa América",
         "Santiago",
         "Chile",
         true
        ],
        [
         "1926-10-24_Argentina_Uruguay_0_2",
         "1926-10-24",
         "Argentina",
         "Uruguay",
         0,
         2,
         "Copa América",
         "Santiago",
         "Chile",
         true
        ],
        [
         "1926-10-28_Bolivia_Uruguay_0_6",
         "1926-10-28",
         "Bolivia",
         "Uruguay",
         0,
         6,
         "Copa América",
         "Santiago",
         "Chile",
         true
        ],
        [
         "1926-10-31_Chile_Argentina_1_1",
         "1926-10-31",
         "Chile",
         "Argentina",
         1,
         1,
         "Copa América",
         "Santiago",
         "Chile",
         false
        ],
        [
         "1926-11-01_Paraguay_Uruguay_1_6",
         "1926-11-01",
         "Paraguay",
         "Uruguay",
         1,
         6,
         "Copa América",
         "Santiago",
         "Chile",
         true
        ],
        [
         "1926-11-03_Chile_Paraguay_5_1",
         "1926-11-03",
         "Chile",
         "Paraguay",
         5,
         1,
         "Copa América",
         "Santiago",
         "Chile",
         false
        ],
        [
         "1927-10-30_Argentina_Bolivia_7_1",
         "1927-10-30",
         "Argentina",
         "Bolivia",
         7,
         1,
         "Copa América",
         "Lima",
         "Peru",
         true
        ],
        [
         "1927-11-01_Peru_Uruguay_0_4",
         "1927-11-01",
         "Peru",
         "Uruguay",
         0,
         4,
         "Copa América",
         "Lima",
         "Peru",
         false
        ],
        [
         "1927-11-06_Bolivia_Uruguay_0_9",
         "1927-11-06",
         "Bolivia",
         "Uruguay",
         0,
         9,
         "Copa América",
         "Lima",
         "Peru",
         true
        ],
        [
         "1927-11-13_Peru_Bolivia_3_2",
         "1927-11-13",
         "Peru",
         "Bolivia",
         3,
         2,
         "Copa América",
         "Lima",
         "Peru",
         false
        ],
        [
         "1927-11-20_Argentina_Uruguay_3_2",
         "1927-11-20",
         "Argentina",
         "Uruguay",
         3,
         2,
         "Copa América",
         "Lima",
         "Peru",
         true
        ],
        [
         "1927-11-27_Peru_Argentina_1_5",
         "1927-11-27",
         "Peru",
         "Argentina",
         1,
         5,
         "Copa América",
         "Lima",
         "Peru",
         false
        ],
        [
         "1929-11-01_Paraguay_Uruguay_3_0",
         "1929-11-01",
         "Paraguay",
         "Uruguay",
         3,
         0,
         "Copa América",
         "Buenos Aires",
         "Argentina",
         true
        ],
        [
         "1929-11-03_Argentina_Peru_3_0",
         "1929-11-03",
         "Argentina",
         "Peru",
         3,
         0,
         "Copa América",
         "Buenos Aires",
         "Argentina",
         false
        ],
        [
         "1929-11-10_Argentina_Paraguay_4_1",
         "1929-11-10",
         "Argentina",
         "Paraguay",
         4,
         1,
         "Copa América",
         "Buenos Aires",
         "Argentina",
         false
        ],
        [
         "1929-11-11_Peru_Uruguay_1_4",
         "1929-11-11",
         "Peru",
         "Uruguay",
         1,
         4,
         "Copa América",
         "Buenos Aires",
         "Argentina",
         true
        ],
        [
         "1929-11-16_Paraguay_Peru_5_0",
         "1929-11-16",
         "Paraguay",
         "Peru",
         5,
         0,
         "Copa América",
         "Avellaneda",
         "Argentina",
         true
        ],
        [
         "1929-11-17_Argentina_Uruguay_2_0",
         "1929-11-17",
         "Argentina",
         "Uruguay",
         2,
         0,
         "Copa América",
         "Buenos Aires",
         "Argentina",
         false
        ],
        [
         "1935-01-06_Argentina_Chile_4_1",
         "1935-01-06",
         "Argentina",
         "Chile",
         4,
         1,
         "Copa América",
         "Lima",
         "Peru",
         true
        ],
        [
         "1935-01-13_Peru_Uruguay_0_1",
         "1935-01-13",
         "Peru",
         "Uruguay",
         0,
         1,
         "Copa América",
         "Lima",
         "Peru",
         false
        ],
        [
         "1935-01-18_Chile_Uruguay_1_2",
         "1935-01-18",
         "Chile",
         "Uruguay",
         1,
         2,
         "Copa América",
         "Lima",
         "Peru",
         true
        ],
        [
         "1935-01-20_Peru_Argentina_1_4",
         "1935-01-20",
         "Peru",
         "Argentina",
         1,
         4,
         "Copa América",
         "Lima",
         "Peru",
         false
        ],
        [
         "1935-01-26_Peru_Chile_1_0",
         "1935-01-26",
         "Peru",
         "Chile",
         1,
         0,
         "Copa América",
         "Lima",
         "Peru",
         false
        ],
        [
         "1935-01-27_Argentina_Uruguay_0_3",
         "1935-01-27",
         "Argentina",
         "Uruguay",
         0,
         3,
         "Copa América",
         "Lima",
         "Peru",
         true
        ],
        [
         "1936-12-27_Brazil_Peru_3_2",
         "1936-12-27",
         "Brazil",
         "Peru",
         3,
         2,
         "Copa América",
         "Buenos Aires",
         "Argentina",
         true
        ],
        [
         "1936-12-30_Argentina_Chile_2_1",
         "1936-12-30",
         "Argentina",
         "Chile",
         2,
         1,
         "Copa América",
         "Buenos Aires",
         "Argentina",
         false
        ],
        [
         "1937-01-02_Paraguay_Uruguay_4_2",
         "1937-01-02",
         "Paraguay",
         "Uruguay",
         4,
         2,
         "Copa América",
         "Buenos Aires",
         "Argentina",
         true
        ],
        [
         "1937-01-03_Brazil_Chile_6_4",
         "1937-01-03",
         "Brazil",
         "Chile",
         6,
         4,
         "Copa América",
         "Buenos Aires",
         "Argentina",
         true
        ],
        [
         "1937-01-06_Peru_Uruguay_2_4",
         "1937-01-06",
         "Peru",
         "Uruguay",
         2,
         4,
         "Copa América",
         "Buenos Aires",
         "Argentina",
         true
        ],
        [
         "1937-01-09_Argentina_Paraguay_6_1",
         "1937-01-09",
         "Argentina",
         "Paraguay",
         6,
         1,
         "Copa América",
         "Buenos Aires",
         "Argentina",
         false
        ],
        [
         "1937-01-10_Chile_Uruguay_3_0",
         "1937-01-10",
         "Chile",
         "Uruguay",
         3,
         0,
         "Copa América",
         "Buenos Aires",
         "Argentina",
         true
        ],
        [
         "1937-01-13_Brazil_Paraguay_5_0",
         "1937-01-13",
         "Brazil",
         "Paraguay",
         5,
         0,
         "Copa América",
         "Buenos Aires",
         "Argentina",
         true
        ],
        [
         "1937-01-16_Argentina_Peru_1_0",
         "1937-01-16",
         "Argentina",
         "Peru",
         1,
         0,
         "Copa América",
         "Buenos Aires",
         "Argentina",
         false
        ],
        [
         "1937-01-17_Chile_Paraguay_2_3",
         "1937-01-17",
         "Chile",
         "Paraguay",
         2,
         3,
         "Copa América",
         "Buenos Aires",
         "Argentina",
         true
        ],
        [
         "1937-01-19_Brazil_Uruguay_3_2",
         "1937-01-19",
         "Brazil",
         "Uruguay",
         3,
         2,
         "Copa América",
         "Buenos Aires",
         "Argentina",
         true
        ],
        [
         "1937-01-21_Chile_Peru_2_2",
         "1937-01-21",
         "Chile",
         "Peru",
         2,
         2,
         "Copa América",
         "Buenos Aires",
         "Argentina",
         true
        ],
        [
         "1937-01-23_Argentina_Uruguay_2_3",
         "1937-01-23",
         "Argentina",
         "Uruguay",
         2,
         3,
         "Copa América",
         "Buenos Aires",
         "Argentina",
         false
        ],
        [
         "1937-01-24_Paraguay_Peru_0_1",
         "1937-01-24",
         "Paraguay",
         "Peru",
         0,
         1,
         "Copa América",
         "Buenos Aires",
         "Argentina",
         true
        ],
        [
         "1937-01-30_Argentina_Brazil_1_0",
         "1937-01-30",
         "Argentina",
         "Brazil",
         1,
         0,
         "Copa América",
         "Buenos Aires",
         "Argentina",
         false
        ],
        [
         "1937-02-01_Argentina_Brazil_2_0",
         "1937-02-01",
         "Argentina",
         "Brazil",
         2,
         0,
         "Copa América",
         "Buenos Aires",
         "Argentina",
         false
        ],
        [
         "1939-01-15_Chile_Paraguay_1_5",
         "1939-01-15",
         "Chile",
         "Paraguay",
         1,
         5,
         "Copa América",
         "Lima",
         "Peru",
         true
        ],
        [
         "1939-01-15_Peru_Ecuador_5_2",
         "1939-01-15",
         "Peru",
         "Ecuador",
         5,
         2,
         "Copa América",
         "Lima",
         "Peru",
         false
        ],
        [
         "1939-01-22_Ecuador_Uruguay_0_6",
         "1939-01-22",
         "Ecuador",
         "Uruguay",
         0,
         6,
         "Copa América",
         "Lima",
         "Peru",
         true
        ],
        [
         "1939-01-22_Peru_Chile_3_1",
         "1939-01-22",
         "Peru",
         "Chile",
         3,
         1,
         "Copa América",
         "Lima",
         "Peru",
         false
        ],
        [
         "1939-01-29_Chile_Uruguay_2_3",
         "1939-01-29",
         "Chile",
         "Uruguay",
         2,
         3,
         "Copa América",
         "Lima",
         "Peru",
         true
        ],
        [
         "1939-01-29_Peru_Paraguay_3_0",
         "1939-01-29",
         "Peru",
         "Paraguay",
         3,
         0,
         "Copa América",
         "Lima",
         "Peru",
         false
        ],
        [
         "1939-02-05_Chile_Ecuador_4_1",
         "1939-02-05",
         "Chile",
         "Ecuador",
         4,
         1,
         "Copa América",
         "Lima",
         "Peru",
         true
        ],
        [
         "1939-02-05_Paraguay_Uruguay_1_3",
         "1939-02-05",
         "Paraguay",
         "Uruguay",
         1,
         3,
         "Copa América",
         "Lima",
         "Peru",
         true
        ],
        [
         "1939-02-12_Ecuador_Paraguay_1_3",
         "1939-02-12",
         "Ecuador",
         "Paraguay",
         1,
         3,
         "Copa América",
         "Lima",
         "Peru",
         true
        ],
        [
         "1939-02-12_Peru_Uruguay_2_1",
         "1939-02-12",
         "Peru",
         "Uruguay",
         2,
         1,
         "Copa América",
         "Lima",
         "Peru",
         false
        ],
        [
         "1941-02-02_Chile_Ecuador_5_0",
         "1941-02-02",
         "Chile",
         "Ecuador",
         5,
         0,
         "Copa América",
         "Santiago",
         "Chile",
         false
        ],
        [
         "1941-02-09_Chile_Peru_1_0",
         "1941-02-09",
         "Chile",
         "Peru",
         1,
         0,
         "Copa América",
         "Santiago",
         "Chile",
         false
        ],
        [
         "1941-02-09_Ecuador_Uruguay_0_6",
         "1941-02-09",
         "Ecuador",
         "Uruguay",
         0,
         6,
         "Copa América",
         "Santiago",
         "Chile",
         true
        ],
        [
         "1941-02-12_Argentina_Peru_2_1",
         "1941-02-12",
         "Argentina",
         "Peru",
         2,
         1,
         "Copa América",
         "Santiago",
         "Chile",
         true
        ],
        [
         "1941-02-16_Argentina_Ecuador_6_1",
         "1941-02-16",
         "Argentina",
         "Ecuador",
         6,
         1,
         "Copa América",
         "Santiago",
         "Chile",
         true
        ],
        [
         "1941-02-16_Chile_Uruguay_0_2",
         "1941-02-16",
         "Chile",
         "Uruguay",
         0,
         2,
         "Copa América",
         "Santiago",
         "Chile",
         false
        ],
        [
         "1941-02-23_Argentina_Uruguay_1_0",
         "1941-02-23",
         "Argentina",
         "Uruguay",
         1,
         0,
         "Copa América",
         "Santiago",
         "Chile",
         true
        ],
        [
         "1941-02-23_Ecuador_Peru_0_4",
         "1941-02-23",
         "Ecuador",
         "Peru",
         0,
         4,
         "Copa América",
         "Santiago",
         "Chile",
         true
        ],
        [
         "1941-02-26_Peru_Uruguay_0_2",
         "1941-02-26",
         "Peru",
         "Uruguay",
         0,
         2,
         "Copa América",
         "Santiago",
         "Chile",
         true
        ],
        [
         "1941-03-04_Chile_Argentina_0_1",
         "1941-03-04",
         "Chile",
         "Argentina",
         0,
         1,
         "Copa América",
         "Santiago",
         "Chile",
         false
        ],
        [
         "1942-01-10_Uruguay_Chile_6_1",
         "1942-01-10",
         "Uruguay",
         "Chile",
         6,
         1,
         "Copa América",
         "Montevideo",
         "Uruguay",
         false
        ],
        [
         "1942-01-11_Argentina_Paraguay_4_3",
         "1942-01-11",
         "Argentina",
         "Paraguay",
         4,
         3,
         "Copa América",
         "Montevideo",
         "Uruguay",
         true
        ],
        [
         "1942-01-14_Brazil_Chile_6_1",
         "1942-01-14",
         "Brazil",
         "Chile",
         6,
         1,
         "Copa América",
         "Montevideo",
         "Uruguay",
         true
        ],
        [
         "1942-01-17_Argentina_Brazil_2_1",
         "1942-01-17",
         "Argentina",
         "Brazil",
         2,
         1,
         "Copa América",
         "Montevideo",
         "Uruguay",
         true
        ],
        [
         "1942-01-18_Paraguay_Peru_1_1",
         "1942-01-18",
         "Paraguay",
         "Peru",
         1,
         1,
         "Copa América",
         "Montevideo",
         "Uruguay",
         true
        ],
        [
         "1942-01-18_Uruguay_Ecuador_7_0",
         "1942-01-18",
         "Uruguay",
         "Ecuador",
         7,
         0,
         "Copa América",
         "Montevideo",
         "Uruguay",
         false
        ],
        [
         "1942-01-21_Brazil_Peru_2_1",
         "1942-01-21",
         "Brazil",
         "Peru",
         2,
         1,
         "Copa América",
         "Montevideo",
         "Uruguay",
         true
        ],
        [
         "1942-01-22_Argentina_Ecuador_12_0",
         "1942-01-22",
         "Argentina",
         "Ecuador",
         12,
         0,
         "Copa América",
         "Montevideo",
         "Uruguay",
         true
        ],
        [
         "1942-01-22_Chile_Paraguay_0_2",
         "1942-01-22",
         "Chile",
         "Paraguay",
         0,
         2,
         "Copa América",
         "Montevideo",
         "Uruguay",
         true
        ],
        [
         "1942-01-24_Uruguay_Brazil_1_0",
         "1942-01-24",
         "Uruguay",
         "Brazil",
         1,
         0,
         "Copa América",
         "Montevideo",
         "Uruguay",
         false
        ],
        [
         "1942-01-25_Argentina_Peru_3_1",
         "1942-01-25",
         "Argentina",
         "Peru",
         3,
         1,
         "Copa América",
         "Montevideo",
         "Uruguay",
         true
        ],
        [
         "1942-01-25_Ecuador_Paraguay_1_3",
         "1942-01-25",
         "Ecuador",
         "Paraguay",
         1,
         3,
         "Copa América",
         "Montevideo",
         "Uruguay",
         true
        ],
        [
         "1942-01-28_Ecuador_Peru_1_2",
         "1942-01-28",
         "Ecuador",
         "Peru",
         1,
         2,
         "Copa América",
         "Montevideo",
         "Uruguay",
         true
        ],
        [
         "1942-01-28_Uruguay_Paraguay_3_1",
         "1942-01-28",
         "Uruguay",
         "Paraguay",
         3,
         1,
         "Copa América",
         "Montevideo",
         "Uruguay",
         false
        ],
        [
         "1942-01-31_Argentina_Chile_0_0",
         "1942-01-31",
         "Argentina",
         "Chile",
         0,
         0,
         "Copa América",
         "Montevideo",
         "Uruguay",
         true
        ],
        [
         "1942-01-31_Brazil_Ecuador_5_1",
         "1942-01-31",
         "Brazil",
         "Ecuador",
         5,
         1,
         "Copa América",
         "Montevideo",
         "Uruguay",
         true
        ],
        [
         "1942-02-01_Uruguay_Peru_3_0",
         "1942-02-01",
         "Uruguay",
         "Peru",
         3,
         0,
         "Copa América",
         "Montevideo",
         "Uruguay",
         false
        ],
        [
         "1942-02-05_Brazil_Paraguay_1_1",
         "1942-02-05",
         "Brazil",
         "Paraguay",
         1,
         1,
         "Copa América",
         "Montevideo",
         "Uruguay",
         true
        ],
        [
         "1942-02-05_Chile_Ecuador_2_1",
         "1942-02-05",
         "Chile",
         "Ecuador",
         2,
         1,
         "Copa América",
         "Montevideo",
         "Uruguay",
         true
        ],
        [
         "1942-02-07_Chile_Peru_0_0",
         "1942-02-07",
         "Chile",
         "Peru",
         0,
         0,
         "Copa América",
         "Montevideo",
         "Uruguay",
         true
        ],
        [
         "1942-02-07_Uruguay_Argentina_1_0",
         "1942-02-07",
         "Uruguay",
         "Argentina",
         1,
         0,
         "Copa América",
         "Montevideo",
         "Uruguay",
         false
        ],
        [
         "1945-01-14_Chile_Ecuador_6_3",
         "1945-01-14",
         "Chile",
         "Ecuador",
         6,
         3,
         "Copa América",
         "Santiago",
         "Chile",
         false
        ],
        [
         "1945-01-18_Argentina_Bolivia_4_0",
         "1945-01-18",
         "Argentina",
         "Bolivia",
         4,
         0,
         "Copa América",
         "Santiago",
         "Chile",
         true
        ],
        [
         "1945-01-21_Brazil_Colombia_3_0",
         "1945-01-21",
         "Brazil",
         "Colombia",
         3,
         0,
         "Copa América",
         "Santiago",
         "Chile",
         true
        ],
        [
         "1945-01-24_Chile_Bolivia_5_0",
         "1945-01-24",
         "Chile",
         "Bolivia",
         5,
         0,
         "Copa América",
         "Santiago",
         "Chile",
         false
        ],
        [
         "1945-01-24_Ecuador_Uruguay_1_5",
         "1945-01-24",
         "Ecuador",
         "Uruguay",
         1,
         5,
         "Copa América",
         "Santiago",
         "Chile",
         true
        ],
        [
         "1945-01-28_Bolivia_Brazil_0_2",
         "1945-01-28",
         "Bolivia",
         "Brazil",
         0,
         2,
         "Copa América",
         "Santiago",
         "Chile",
         true
        ],
        [
         "1945-01-28_Colombia_Uruguay_0_7",
         "1945-01-28",
         "Colombia",
         "Uruguay",
         0,
         7,
         "Copa América",
         "Santiago",
         "Chile",
         true
        ],
        [
         "1945-01-31_Argentina_Ecuador_4_2",
         "1945-01-31",
         "Argentina",
         "Ecuador",
         4,
         2,
         "Copa América",
         "Santiago",
         "Chile",
         true
        ],
        [
         "1945-01-31_Chile_Colombia_2_0",
         "1945-01-31",
         "Chile",
         "Colombia",
         2,
         0,
         "Copa América",
         "Santiago",
         "Chile",
         false
        ],
        [
         "1945-02-07_Argentina_Colombia_9_1",
         "1945-02-07",
         "Argentina",
         "Colombia",
         9,
         1,
         "Copa América",
         "Santiago",
         "Chile",
         true
        ],
        [
         "1945-02-07_Brazil_Uruguay_3_0",
         "1945-02-07",
         "Brazil",
         "Uruguay",
         3,
         0,
         "Copa América",
         "Santiago",
         "Chile",
         true
        ],
        [
         "1945-02-11_Bolivia_Ecuador_0_0",
         "1945-02-11",
         "Bolivia",
         "Ecuador",
         0,
         0,
         "Copa América",
         "Santiago",
         "Chile",
         true
        ],
        [
         "1945-02-11_Chile_Argentina_1_1",
         "1945-02-11",
         "Chile",
         "Argentina",
         1,
         1,
         "Copa América",
         "Santiago",
         "Chile",
         false
        ],
        [
         "1945-02-15_Argentina_Brazil_3_1",
         "1945-02-15",
         "Argentina",
         "Brazil",
         3,
         1,
         "Copa América",
         "Santiago",
         "Chile",
         true
        ],
        [
         "1945-02-15_Bolivia_Uruguay_0_2",
         "1945-02-15",
         "Bolivia",
         "Uruguay",
         0,
         2,
         "Copa América",
         "Santiago",
         "Chile",
         true
        ],
        [
         "1945-02-18_Chile_Uruguay_1_0",
         "1945-02-18",
         "Chile",
         "Uruguay",
         1,
         0,
         "Copa América",
         "Santiago",
         "Chile",
         false
        ],
        [
         "1945-02-18_Colombia_Ecuador_3_1",
         "1945-02-18",
         "Colombia",
         "Ecuador",
         3,
         1,
         "Copa América",
         "Santiago",
         "Chile",
         true
        ],
        [
         "1945-02-21_Bolivia_Colombia_3_3",
         "1945-02-21",
         "Bolivia",
         "Colombia",
         3,
         3,
         "Copa América",
         "Santiago",
         "Chile",
         true
        ],
        [
         "1945-02-21_Brazil_Ecuador_9_2",
         "1945-02-21",
         "Brazil",
         "Ecuador",
         9,
         2,
         "Copa América",
         "Santiago",
         "Chile",
         true
        ],
        [
         "1945-02-25_Argentina_Uruguay_1_0",
         "1945-02-25",
         "Argentina",
         "Uruguay",
         1,
         0,
         "Copa América",
         "Santiago",
         "Chile",
         true
        ],
        [
         "1945-02-28_Chile_Brazil_0_1",
         "1945-02-28",
         "Chile",
         "Brazil",
         0,
         1,
         "Copa América",
         "Santiago",
         "Chile",
         false
        ],
        [
         "1946-01-12_Argentina_Paraguay_2_0",
         "1946-01-12",
         "Argentina",
         "Paraguay",
         2,
         0,
         "Copa América",
         "Buenos Aires",
         "Argentina",
         false
        ],
        [
         "1946-01-16_Bolivia_Brazil_0_3",
         "1946-01-16",
         "Bolivia",
         "Brazil",
         0,
         3,
         "Copa América",
         "Buenos Aires",
         "Argentina",
         true
        ],
        [
         "1946-01-16_Chile_Uruguay_0_1",
         "1946-01-16",
         "Chile",
         "Uruguay",
         0,
         1,
         "Copa América",
         "Buenos Aires",
         "Argentina",
         true
        ],
        [
         "1946-01-19_Argentina_Bolivia_7_1",
         "1946-01-19",
         "Argentina",
         "Bolivia",
         7,
         1,
         "Copa América",
         "Buenos Aires",
         "Argentina",
         false
        ],
        [
         "1946-01-19_Chile_Paraguay_2_1",
         "1946-01-19",
         "Chile",
         "Paraguay",
         2,
         1,
         "Copa América",
         "Buenos Aires",
         "Argentina",
         true
        ],
        [
         "1946-01-23_Brazil_Uruguay_4_3",
         "1946-01-23",
         "Brazil",
         "Uruguay",
         4,
         3,
         "Copa América",
         "Buenos Aires",
         "Argentina",
         true
        ],
        [
         "1946-01-26_Argentina_Chile_3_1",
         "1946-01-26",
         "Argentina",
         "Chile",
         3,
         1,
         "Copa América",
         "Buenos Aires",
         "Argentina",
         false
        ],
        [
         "1946-01-26_Bolivia_Paraguay_2_4",
         "1946-01-26",
         "Bolivia",
         "Paraguay",
         2,
         4,
         "Copa América",
         "Buenos Aires",
         "Argentina",
         true
        ],
        [
         "1946-01-29_Bolivia_Uruguay_0_5",
         "1946-01-29",
         "Bolivia",
         "Uruguay",
         0,
         5,
         "Copa América",
         "Avellaneda",
         "Argentina",
         true
        ],
        [
         "1946-01-29_Brazil_Paraguay_1_1",
         "1946-01-29",
         "Brazil",
         "Paraguay",
         1,
         1,
         "Copa América",
         "Avellaneda",
         "Argentina",
         true
        ],
        [
         "1946-02-02_Argentina_Uruguay_3_1",
         "1946-02-02",
         "Argentina",
         "Uruguay",
         3,
         1,
         "Copa América",
         "Buenos Aires",
         "Argentina",
         false
        ],
        [
         "1946-02-03_Brazil_Chile_5_1",
         "1946-02-03",
         "Brazil",
         "Chile",
         5,
         1,
         "Copa América",
         "Buenos Aires",
         "Argentina",
         true
        ],
        [
         "1946-02-08_Bolivia_Chile_1_4",
         "1946-02-08",
         "Bolivia",
         "Chile",
         1,
         4,
         "Copa América",
         "Buenos Aires",
         "Argentina",
         true
        ],
        [
         "1946-02-08_Paraguay_Uruguay_2_1",
         "1946-02-08",
         "Paraguay",
         "Uruguay",
         2,
         1,
         "Copa América",
         "Buenos Aires",
         "Argentina",
         true
        ],
        [
         "1946-02-10_Argentina_Brazil_2_0",
         "1946-02-10",
         "Argentina",
         "Brazil",
         2,
         0,
         "Copa América",
         "Buenos Aires",
         "Argentina",
         false
        ],
        [
         "1947-11-30_Ecuador_Bolivia_2_2",
         "1947-11-30",
         "Ecuador",
         "Bolivia",
         2,
         2,
         "Copa América",
         "Guayaquil",
         "Ecuador",
         false
        ],
        [
         "1947-12-02_Argentina_Paraguay_6_0",
         "1947-12-02",
         "Argentina",
         "Paraguay",
         6,
         0,
         "Copa América",
         "Guayaquil",
         "Ecuador",
         true
        ],
        [
         "1947-12-02_Colombia_Uruguay_0_2",
         "1947-12-02",
         "Colombia",
         "Uruguay",
         0,
         2,
         "Copa América",
         "Guayaquil",
         "Ecuador",
         true
        ],
        [
         "1947-12-04_Argentina_Bolivia_7_0",
         "1947-12-04",
         "Argentina",
         "Bolivia",
         7,
         0,
         "Copa América",
         "Guayaquil",
         "Ecuador",
         true
        ],
        [
         "1947-12-04_Ecuador_Colombia_0_0",
         "1947-12-04",
         "Ecuador",
         "Colombia",
         0,
         0,
         "Copa América",
         "Guayaquil",
         "Ecuador",
         false
        ],
        [
         "1947-12-06_Chile_Uruguay_0_6",
         "1947-12-06",
         "Chile",
         "Uruguay",
         0,
         6,
         "Copa América",
         "Guayaquil",
         "Ecuador",
         true
        ],
        [
         "1947-12-06_Paraguay_Peru_2_2",
         "1947-12-06",
         "Paraguay",
         "Peru",
         2,
         2,
         "Copa América",
         "Guayaquil",
         "Ecuador",
         true
        ],
        [
         "1947-12-09_Bolivia_Uruguay_0_3",
         "1947-12-09",
         "Bolivia",
         "Uruguay",
         0,
         3,
         "Copa América",
         "Guayaquil",
         "Ecuador",
         true
        ],
        [
         "1947-12-09_Chile_Peru_2_1",
         "1947-12-09",
         "Chile",
         "Peru",
         2,
         1,
         "Copa América",
         "Guayaquil",
         "Ecuador",
         true
        ],
        [
         "1947-12-11_Argentina_Peru_3_2",
         "1947-12-11",
         "Argentina",
         "Peru",
         3,
         2,
         "Copa América",
         "Guayaquil",
         "Ecuador",
         true
        ],
        [
         "1947-12-11_Ecuador_Chile_0_3",
         "1947-12-11",
         "Ecuador",
         "Chile",
         0,
         3,
         "Copa América",
         "Guayaquil",
         "Ecuador",
         false
        ],
        [
         "1947-12-13_Bolivia_Colombia_0_0",
         "1947-12-13",
         "Bolivia",
         "Colombia",
         0,
         0,
         "Copa América",
         "Guayaquil",
         "Ecuador",
         true
        ],
        [
         "1947-12-13_Paraguay_Uruguay_4_2",
         "1947-12-13",
         "Paraguay",
         "Uruguay",
         4,
         2,
         "Copa América",
         "Guayaquil",
         "Ecuador",
         true
        ],
        [
         "1947-12-16_Argentina_Chile_1_1",
         "1947-12-16",
         "Argentina",
         "Chile",
         1,
         1,
         "Copa América",
         "Guayaquil",
         "Ecuador",
         true
        ],
        [
         "1947-12-16_Ecuador_Uruguay_1_6",
         "1947-12-16",
         "Ecuador",
         "Uruguay",
         1,
         6,
         "Copa América",
         "Guayaquil",
         "Ecuador",
         false
        ],
        [
         "1947-12-18_Argentina_Colombia_6_0",
         "1947-12-18",
         "Argentina",
         "Colombia",
         6,
         0,
         "Copa América",
         "Guayaquil",
         "Ecuador",
         true
        ],
        [
         "1947-12-18_Bolivia_Paraguay_1_3",
         "1947-12-18",
         "Bolivia",
         "Paraguay",
         1,
         3,
         "Copa América",
         "Guayaquil",
         "Ecuador",
         true
        ],
        [
         "1947-12-20_Colombia_Paraguay_0_2",
         "1947-12-20",
         "Colombia",
         "Paraguay",
         0,
         2,
         "Copa América",
         "Guayaquil",
         "Ecuador",
         true
        ],
        [
         "1947-12-20_Ecuador_Peru_0_0",
         "1947-12-20",
         "Ecuador",
         "Peru",
         0,
         0,
         "Copa América",
         "Guayaquil",
         "Ecuador",
         false
        ],
        [
         "1947-12-23_Chile_Paraguay_0_1",
         "1947-12-23",
         "Chile",
         "Paraguay",
         0,
         1,
         "Copa América",
         "Guayaquil",
         "Ecuador",
         true
        ],
        [
         "1947-12-23_Colombia_Peru_1_5",
         "1947-12-23",
         "Colombia",
         "Peru",
         1,
         5,
         "Copa América",
         "Guayaquil",
         "Ecuador",
         true
        ],
        [
         "1947-12-25_Ecuador_Argentina_0_2",
         "1947-12-25",
         "Ecuador",
         "Argentina",
         0,
         2,
         "Copa América",
         "Guayaquil",
         "Ecuador",
         false
        ],
        [
         "1947-12-25_Peru_Uruguay_0_1",
         "1947-12-25",
         "Peru",
         "Uruguay",
         0,
         1,
         "Copa América",
         "Guayaquil",
         "Ecuador",
         true
        ],
        [
         "1947-12-27_Bolivia_Peru_0_2",
         "1947-12-27",
         "Bolivia",
         "Peru",
         0,
         2,
         "Copa América",
         "Guayaquil",
         "Ecuador",
         true
        ],
        [
         "1947-12-28_Argentina_Uruguay_3_1",
         "1947-12-28",
         "Argentina",
         "Uruguay",
         3,
         1,
         "Copa América",
         "Guayaquil",
         "Ecuador",
         true
        ],
        [
         "1947-12-29_Chile_Colombia_4_1",
         "1947-12-29",
         "Chile",
         "Colombia",
         4,
         1,
         "Copa América",
         "Guayaquil",
         "Ecuador",
         true
        ],
        [
         "1947-12-29_Ecuador_Paraguay_0_4",
         "1947-12-29",
         "Ecuador",
         "Paraguay",
         0,
         4,
         "Copa América",
         "Guayaquil",
         "Ecuador",
         false
        ],
        [
         "1947-12-31_Bolivia_Chile_3_4",
         "1947-12-31",
         "Bolivia",
         "Chile",
         3,
         4,
         "Copa América",
         "Guayaquil",
         "Ecuador",
         true
        ],
        [
         "1949-04-03_Brazil_Ecuador_9_1",
         "1949-04-03",
         "Brazil",
         "Ecuador",
         9,
         1,
         "Copa América",
         "Rio de Janeiro",
         "Brazil",
         false
        ],
        [
         "1949-04-06_Bolivia_Chile_3_2",
         "1949-04-06",
         "Bolivia",
         "Chile",
         3,
         2,
         "Copa América",
         "São Paulo",
         "Brazil",
         true
        ],
        [
         "1949-04-06_Colombia_Paraguay_0_3",
         "1949-04-06",
         "Colombia",
         "Paraguay",
         0,
         3,
         "Copa América",
         "São Paulo",
         "Brazil",
         true
        ],
        [
         "1949-04-10_Brazil_Bolivia_10_1",
         "1949-04-10",
         "Brazil",
         "Bolivia",
         10,
         1,
         "Copa América",
         "São Paulo",
         "Brazil",
         false
        ],
        [
         "1949-04-10_Colombia_Peru_0_4",
         "1949-04-10",
         "Colombia",
         "Peru",
         0,
         4,
         "Copa América",
         "Rio de Janeiro",
         "Brazil",
         true
        ],
        [
         "1949-04-10_Ecuador_Paraguay_0_1",
         "1949-04-10",
         "Ecuador",
         "Paraguay",
         0,
         1,
         "Copa América",
         "Rio de Janeiro",
         "Brazil",
         true
        ],
        [
         "1949-04-13_Brazil_Chile_2_1",
         "1949-04-13",
         "Brazil",
         "Chile",
         2,
         1,
         "Copa América",
         "São Paulo",
         "Brazil",
         false
        ],
        [
         "1949-04-13_Ecuador_Uruguay_2_3",
         "1949-04-13",
         "Ecuador",
         "Uruguay",
         2,
         3,
         "Copa América",
         "Rio de Janeiro",
         "Brazil",
         true
        ],
        [
         "1949-04-13_Paraguay_Peru_3_1",
         "1949-04-13",
         "Paraguay",
         "Peru",
         3,
         1,
         "Copa América",
         "Rio de Janeiro",
         "Brazil",
         true
        ],
        [
         "1949-04-17_Bolivia_Uruguay_3_2",
         "1949-04-17",
         "Bolivia",
         "Uruguay",
         3,
         2,
         "Copa América",
         "Rio de Janeiro",
         "Brazil",
         true
        ],
        [
         "1949-04-17_Brazil_Colombia_5_0",
         "1949-04-17",
         "Brazil",
         "Colombia",
         5,
         0,
         "Copa América",
         "São Paulo",
         "Brazil",
         false
        ],
        [
         "1949-04-17_Chile_Ecuador_1_0",
         "1949-04-17",
         "Chile",
         "Ecuador",
         1,
         0,
         "Copa América",
         "São Paulo",
         "Brazil",
         true
        ],
        [
         "1949-04-20_Chile_Colombia_1_1",
         "1949-04-20",
         "Chile",
         "Colombia",
         1,
         1,
         "Copa América",
         "Rio de Janeiro",
         "Brazil",
         true
        ],
        [
         "1949-04-20_Ecuador_Peru_0_4",
         "1949-04-20",
         "Ecuador",
         "Peru",
         0,
         4,
         "Copa América",
         "Rio de Janeiro",
         "Brazil",
         true
        ],
        [
         "1949-04-20_Paraguay_Uruguay_1_2",
         "1949-04-20",
         "Paraguay",
         "Uruguay",
         1,
         2,
         "Copa América",
         "São Paulo",
         "Brazil",
         true
        ],
        [
         "1949-04-24_Brazil_Peru_7_1",
         "1949-04-24",
         "Brazil",
         "Peru",
         7,
         1,
         "Copa América",
         "Rio de Janeiro",
         "Brazil",
         false
        ],
        [
         "1949-04-25_Bolivia_Ecuador_2_0",
         "1949-04-25",
         "Bolivia",
         "Ecuador",
         2,
         0,
         "Copa América",
         "São Paulo",
         "Brazil",
         true
        ],
        [
         "1949-04-25_Uruguay_Colombia_2_2",
         "1949-04-25",
         "Uruguay",
         "Colombia",
         2,
         2,
         "Copa América",
         "São Paulo",
         "Brazil",
         true
        ],
        [
         "1949-04-27_Bolivia_Peru_0_3",
         "1949-04-27",
         "Bolivia",
         "Peru",
         0,
         3,
         "Copa América",
         "Santos",
         "Brazil",
         true
        ],
        [
         "1949-04-27_Chile_Paraguay_2_4",
         "1949-04-27",
         "Chile",
         "Paraguay",
         2,
         4,
         "Copa América",
         "São Paulo",
         "Brazil",
         true
        ],
        [
         "1949-04-30_Bolivia_Paraguay_0_7",
         "1949-04-30",
         "Bolivia",
         "Paraguay",
         0,
         7,
         "Copa América",
         "Rio de Janeiro",
         "Brazil",
         true
        ],
        [
         "1949-04-30_Brazil_Uruguay_5_1",
         "1949-04-30",
         "Brazil",
         "Uruguay",
         5,
         1,
         "Copa América",
         "Rio de Janeiro",
         "Brazil",
         false
        ],
        [
         "1949-04-30_Chile_Peru_0_3",
         "1949-04-30",
         "Chile",
         "Peru",
         0,
         3,
         "Copa América",
         "São Paulo",
         "Brazil",
         true
        ],
        [
         "1949-05-03_Colombia_Ecuador_1_4",
         "1949-05-03",
         "Colombia",
         "Ecuador",
         1,
         4,
         "Copa América",
         "Rio de Janeiro",
         "Brazil",
         true
        ],
        [
         "1949-05-04_Peru_Uruguay_4_3",
         "1949-05-04",
         "Peru",
         "Uruguay",
         4,
         3,
         "Copa América",
         "Rio de Janeiro",
         "Brazil",
         true
        ],
        [
         "1949-05-06_Bolivia_Colombia_4_0",
         "1949-05-06",
         "Bolivia",
         "Colombia",
         4,
         0,
         "Copa América",
         "Rio de Janeiro",
         "Brazil",
         true
        ],
        [
         "1949-05-08_Brazil_Paraguay_1_2",
         "1949-05-08",
         "Brazil",
         "Paraguay",
         1,
         2,
         "Copa América",
         "Rio de Janeiro",
         "Brazil",
         false
        ],
        [
         "1949-05-08_Chile_Uruguay_3_1",
         "1949-05-08",
         "Chile",
         "Uruguay",
         3,
         1,
         "Copa América",
         "Belo Horizonte",
         "Brazil",
         true
        ],
        [
         "1949-05-11_Brazil_Paraguay_7_0",
         "1949-05-11",
         "Brazil",
         "Paraguay",
         7,
         0,
         "Copa América",
         "Rio de Janeiro",
         "Brazil",
         false
        ],
        [
         "1953-02-22_Peru_Bolivia_0_1",
         "1953-02-22",
         "Peru",
         "Bolivia",
         0,
         1,
         "Copa América",
         "Lima",
         "Peru",
         false
        ],
        [
         "1953-02-25_Bolivia_Uruguay_0_2",
         "1953-02-25",
         "Bolivia",
         "Uruguay",
         0,
         2,
         "Copa América",
         "Lima",
         "Peru",
         true
        ],
        [
         "1953-02-25_Chile_Paraguay_0_3",
         "1953-02-25",
         "Chile",
         "Paraguay",
         0,
         3,
         "Copa América",
         "Lima",
         "Peru",
         true
        ],
        [
         "1953-02-28_Peru_Ecuador_1_0",
         "1953-02-28",
         "Peru",
         "Ecuador",
         1,
         0,
         "Copa América",
         "Lima",
         "Peru",
         false
        ],
        [
         "1953-03-01_Bolivia_Brazil_1_8",
         "1953-03-01",
         "Bolivia",
         "Brazil",
         1,
         8,
         "Copa América",
         "Lima",
         "Peru",
         true
        ],
        [
         "1953-03-01_Chile_Uruguay_3_2",
         "1953-03-01",
         "Chile",
         "Uruguay",
         3,
         2,
         "Copa América",
         "Lima",
         "Peru",
         true
        ],
        [
         "1953-03-04_Ecuador_Paraguay_0_0",
         "1953-03-04",
         "Ecuador",
         "Paraguay",
         0,
         0,
         "Copa América",
         "Lima",
         "Peru",
         true
        ],
        [
         "1953-03-04_Peru_Chile_0_0",
         "1953-03-04",
         "Peru",
         "Chile",
         0,
         0,
         "Copa América",
         "Lima",
         "Peru",
         false
        ],
        [
         "1953-03-08_Bolivia_Ecuador_1_1",
         "1953-03-08",
         "Bolivia",
         "Ecuador",
         1,
         1,
         "Copa América",
         "Lima",
         "Peru",
         true
        ],
        [
         "1953-03-08_Peru_Paraguay_2_2",
         "1953-03-08",
         "Peru",
         "Paraguay",
         2,
         2,
         "Copa América",
         "Lima",
         "Peru",
         false
        ],
        [
         "1953-03-12_Brazil_Ecuador_2_0",
         "1953-03-12",
         "Brazil",
         "Ecuador",
         2,
         0,
         "Copa América",
         "Lima",
         "Peru",
         true
        ],
        [
         "1953-03-12_Paraguay_Uruguay_2_2",
         "1953-03-12",
         "Paraguay",
         "Uruguay",
         2,
         2,
         "Copa América",
         "Lima",
         "Peru",
         true
        ],
        [
         "1953-03-15_Brazil_Uruguay_1_0",
         "1953-03-15",
         "Brazil",
         "Uruguay",
         1,
         0,
         "Copa América",
         "Lima",
         "Peru",
         true
        ],
        [
         "1953-03-16_Bolivia_Paraguay_1_2",
         "1953-03-16",
         "Bolivia",
         "Paraguay",
         1,
         2,
         "Copa América",
         "Lima",
         "Peru",
         true
        ],
        [
         "1953-03-19_Chile_Ecuador_3_0",
         "1953-03-19",
         "Chile",
         "Ecuador",
         3,
         0,
         "Copa América",
         "Lima",
         "Peru",
         true
        ],
        [
         "1953-03-19_Peru_Brazil_1_0",
         "1953-03-19",
         "Peru",
         "Brazil",
         1,
         0,
         "Copa América",
         "Lima",
         "Peru",
         false
        ],
        [
         "1953-03-23_Brazil_Chile_3_2",
         "1953-03-23",
         "Brazil",
         "Chile",
         3,
         2,
         "Copa América",
         "Lima",
         "Peru",
         true
        ],
        [
         "1953-03-23_Ecuador_Uruguay_0_6",
         "1953-03-23",
         "Ecuador",
         "Uruguay",
         0,
         6,
         "Copa América",
         "Lima",
         "Peru",
         true
        ],
        [
         "1953-03-27_Brazil_Paraguay_1_2",
         "1953-03-27",
         "Brazil",
         "Paraguay",
         1,
         2,
         "Copa América",
         "Lima",
         "Peru",
         true
        ],
        [
         "1953-03-28_Bolivia_Chile_2_2",
         "1953-03-28",
         "Bolivia",
         "Chile",
         2,
         2,
         "Copa América",
         "Lima",
         "Peru",
         true
        ],
        [
         "1953-03-28_Peru_Uruguay_0_3",
         "1953-03-28",
         "Peru",
         "Uruguay",
         0,
         3,
         "Copa América",
         "Lima",
         "Peru",
         false
        ],
        [
         "1953-04-01_Brazil_Paraguay_2_3",
         "1953-04-01",
         "Brazil",
         "Paraguay",
         2,
         3,
         "Copa América",
         "Lima",
         "Peru",
         true
        ],
        [
         "1955-02-27_Chile_Ecuador_7_1",
         "1955-02-27",
         "Chile",
         "Ecuador",
         7,
         1,
         "Copa América",
         "Santiago",
         "Chile",
         false
        ],
        [
         "1955-03-02_Argentina_Paraguay_5_3",
         "1955-03-02",
         "Argentina",
         "Paraguay",
         5,
         3,
         "Copa América",
         "Santiago",
         "Chile",
         true
        ],
        [
         "1955-03-06_Chile_Peru_5_4",
         "1955-03-06",
         "Chile",
         "Peru",
         5,
         4,
         "Copa América",
         "Santiago",
         "Chile",
         false
        ],
        [
         "1955-03-09_Argentina_Ecuador_4_0",
         "1955-03-09",
         "Argentina",
         "Ecuador",
         4,
         0,
         "Copa América",
         "Santiago",
         "Chile",
         true
        ],
        [
         "1955-03-09_Paraguay_Uruguay_1_3",
         "1955-03-09",
         "Paraguay",
         "Uruguay",
         1,
         3,
         "Copa América",
         "Santiago",
         "Chile",
         true
        ],
        [
         "1955-03-13_Chile_Uruguay_2_2",
         "1955-03-13",
         "Chile",
         "Uruguay",
         2,
         2,
         "Copa América",
         "Santiago",
         "Chile",
         false
        ],
        [
         "1955-03-13_Ecuador_Peru_2_4",
         "1955-03-13",
         "Ecuador",
         "Peru",
         2,
         4,
         "Copa América",
         "Santiago",
         "Chile",
         true
        ],
        [
         "1955-03-16_Argentina_Peru_2_2",
         "1955-03-16",
         "Argentina",
         "Peru",
         2,
         2,
         "Copa América",
         "Santiago",
         "Chile",
         true
        ],
        [
         "1955-03-16_Ecuador_Paraguay_0_2",
         "1955-03-16",
         "Ecuador",
         "Paraguay",
         0,
         2,
         "Copa América",
         "Santiago",
         "Chile",
         true
        ],
        [
         "1955-03-20_Chile_Paraguay_5_0",
         "1955-03-20",
         "Chile",
         "Paraguay",
         5,
         0,
         "Copa América",
         "Santiago",
         "Chile",
         false
        ],
        [
         "1955-03-23_Ecuador_Uruguay_1_5",
         "1955-03-23",
         "Ecuador",
         "Uruguay",
         1,
         5,
         "Copa América",
         "Santiago",
         "Chile",
         true
        ],
        [
         "1955-03-23_Paraguay_Peru_1_1",
         "1955-03-23",
         "Paraguay",
         "Peru",
         1,
         1,
         "Copa América",
         "Santiago",
         "Chile",
         true
        ],
        [
         "1955-03-27_Argentina_Uruguay_6_1",
         "1955-03-27",
         "Argentina",
         "Uruguay",
         6,
         1,
         "Copa América",
         "Santiago",
         "Chile",
         true
        ],
        [
         "1955-03-30_Chile_Argentina_0_1",
         "1955-03-30",
         "Chile",
         "Argentina",
         0,
         1,
         "Copa América",
         "Santiago",
         "Chile",
         false
        ],
        [
         "1955-03-30_Peru_Uruguay_2_1",
         "1955-03-30",
         "Peru",
         "Uruguay",
         2,
         1,
         "Copa América",
         "Santiago",
         "Chile",
         true
        ],
        [
         "1956-01-21_Uruguay_Paraguay_4_2",
         "1956-01-21",
         "Uruguay",
         "Paraguay",
         4,
         2,
         "Copa América",
         "Montevideo",
         "Uruguay",
         false
        ],
        [
         "1956-01-22_Argentina_Peru_2_1",
         "1956-01-22",
         "Argentina",
         "Peru",
         2,
         1,
         "Copa América",
         "Montevideo",
         "Uruguay",
         true
        ],
        [
         "1956-01-24_Brazil_Chile_1_4",
         "1956-01-24",
         "Brazil",
         "Chile",
         1,
         4,
         "Copa América",
         "Montevideo",
         "Uruguay",
         true
        ],
        [
         "1956-01-28_Uruguay_Peru_2_0",
         "1956-01-28",
         "Uruguay",
         "Peru",
         2,
         0,
         "Copa América",
         "Montevideo",
         "Uruguay",
         false
        ],
        [
         "1956-01-29_Argentina_Chile_2_0",
         "1956-01-29",
         "Argentina",
         "Chile",
         2,
         0,
         "Copa América",
         "Montevideo",
         "Uruguay",
         true
        ],
        [
         "1956-01-29_Brazil_Paraguay_0_0",
         "1956-01-29",
         "Brazil",
         "Paraguay",
         0,
         0,
         "Copa América",
         "Montevideo",
         "Uruguay",
         true
        ],
        [
         "1956-02-01_Argentina_Paraguay_1_0",
         "1956-02-01",
         "Argentina",
         "Paraguay",
         1,
         0,
         "Copa América",
         "Montevideo",
         "Uruguay",
         true
        ],
        [
         "1956-02-01_Brazil_Peru_2_1",
         "1956-02-01",
         "Brazil",
         "Peru",
         2,
         1,
         "Copa América",
         "Montevideo",
         "Uruguay",
         true
        ],
        [
         "1956-02-05_Argentina_Brazil_0_1",
         "1956-02-05",
         "Argentina",
         "Brazil",
         0,
         1,
         "Copa América",
         "Montevideo",
         "Uruguay",
         true
        ],
        [
         "1956-02-05_Paraguay_Peru_1_1",
         "1956-02-05",
         "Paraguay",
         "Peru",
         1,
         1,
         "Copa América",
         "Montevideo",
         "Uruguay",
         true
        ],
        [
         "1956-02-06_Uruguay_Chile_2_1",
         "1956-02-06",
         "Uruguay",
         "Chile",
         2,
         1,
         "Copa América",
         "Montevideo",
         "Uruguay",
         false
        ],
        [
         "1956-02-09_Chile_Peru_4_3",
         "1956-02-09",
         "Chile",
         "Peru",
         4,
         3,
         "Copa América",
         "Montevideo",
         "Uruguay",
         true
        ],
        [
         "1956-02-10_Uruguay_Brazil_0_0",
         "1956-02-10",
         "Uruguay",
         "Brazil",
         0,
         0,
         "Copa América",
         "Montevideo",
         "Uruguay",
         false
        ],
        [
         "1956-02-12_Chile_Paraguay_2_0",
         "1956-02-12",
         "Chile",
         "Paraguay",
         2,
         0,
         "Copa América",
         "Montevideo",
         "Uruguay",
         true
        ],
        [
         "1956-02-15_Uruguay_Argentina_1_0",
         "1956-02-15",
         "Uruguay",
         "Argentina",
         1,
         0,
         "Copa América",
         "Montevideo",
         "Uruguay",
         false
        ],
        [
         "1957-03-07_Ecuador_Uruguay_2_5",
         "1957-03-07",
         "Ecuador",
         "Uruguay",
         2,
         5,
         "Copa América",
         "Lima",
         "Peru",
         true
        ],
        [
         "1957-03-10_Peru_Ecuador_2_1",
         "1957-03-10",
         "Peru",
         "Ecuador",
         2,
         1,
         "Copa América",
         "Lima",
         "Peru",
         false
        ],
        [
         "1957-03-13_Argentina_Colombia_8_2",
         "1957-03-13",
         "Argentina",
         "Colombia",
         8,
         2,
         "Copa América",
         "Lima",
         "Peru",
         true
        ],
        [
         "1957-03-13_Brazil_Chile_4_2",
         "1957-03-13",
         "Brazil",
         "Chile",
         4,
         2,
         "Copa América",
         "Lima",
         "Peru",
         true
        ],
        [
         "1957-03-16_Peru_Chile_1_0",
         "1957-03-16",
         "Peru",
         "Chile",
         1,
         0,
         "Copa América",
         "Lima",
         "Peru",
         false
        ],
        [
         "1957-03-17_Argentina_Ecuador_3_0",
         "1957-03-17",
         "Argentina",
         "Ecuador",
         3,
         0,
         "Copa América",
         "Lima",
         "Peru",
         true
        ],
        [
         "1957-03-17_Colombia_Uruguay_1_0",
         "1957-03-17",
         "Colombia",
         "Uruguay",
         1,
         0,
         "Copa América",
         "Lima",
         "Peru",
         true
        ],
        [
         "1957-03-20_Argentina_Uruguay_4_0",
         "1957-03-20",
         "Argentina",
         "Uruguay",
         4,
         0,
         "Copa América",
         "Lima",
         "Peru",
         true
        ],
        [
         "1957-03-21_Brazil_Ecuador_7_1",
         "1957-03-21",
         "Brazil",
         "Ecuador",
         7,
         1,
         "Copa América",
         "Lima",
         "Peru",
         true
        ],
        [
         "1957-03-21_Chile_Colombia_3_2",
         "1957-03-21",
         "Chile",
         "Colombia",
         3,
         2,
         "Copa América",
         "Lima",
         "Peru",
         true
        ],
        [
         "1957-03-23_Peru_Uruguay_3_5",
         "1957-03-23",
         "Peru",
         "Uruguay",
         3,
         5,
         "Copa América",
         "Lima",
         "Peru",
         false
        ],
        [
         "1957-03-24_Brazil_Colombia_9_0",
         "1957-03-24",
         "Brazil",
         "Colombia",
         9,
         0,
         "Copa América",
         "Lima",
         "Peru",
         true
        ],
        [
         "1957-03-24_Chile_Ecuador_2_2",
         "1957-03-24",
         "Chile",
         "Ecuador",
         2,
         2,
         "Copa América",
         "Lima",
         "Peru",
         true
        ],
        [
         "1957-03-27_Peru_Colombia_4_1",
         "1957-03-27",
         "Peru",
         "Colombia",
         4,
         1,
         "Copa América",
         "Lima",
         "Peru",
         false
        ],
        [
         "1957-03-28_Argentina_Chile_6_2",
         "1957-03-28",
         "Argentina",
         "Chile",
         6,
         2,
         "Copa América",
         "Lima",
         "Peru",
         true
        ],
        [
         "1957-03-28_Brazil_Uruguay_2_3",
         "1957-03-28",
         "Brazil",
         "Uruguay",
         2,
         3,
         "Copa América",
         "Lima",
         "Peru",
         true
        ],
        [
         "1957-03-31_Peru_Brazil_0_1",
         "1957-03-31",
         "Peru",
         "Brazil",
         0,
         1,
         "Copa América",
         "Lima",
         "Peru",
         false
        ],
        [
         "1957-04-01_Chile_Uruguay_0_2",
         "1957-04-01",
         "Chile",
         "Uruguay",
         0,
         2,
         "Copa América",
         "Lima",
         "Peru",
         true
        ],
        [
         "1957-04-01_Colombia_Ecuador_4_1",
         "1957-04-01",
         "Colombia",
         "Ecuador",
         4,
         1,
         "Copa América",
         "Lima",
         "Peru",
         true
        ],
        [
         "1957-04-03_Argentina_Brazil_3_0",
         "1957-04-03",
         "Argentina",
         "Brazil",
         3,
         0,
         "Copa América",
         "Lima",
         "Peru",
         true
        ],
        [
         "1957-04-06_Peru_Argentina_2_1",
         "1957-04-06",
         "Peru",
         "Argentina",
         2,
         1,
         "Copa América",
         "Lima",
         "Peru",
         false
        ],
        [
         "1959-03-07_Argentina_Chile_6_1",
         "1959-03-07",
         "Argentina",
         "Chile",
         6,
         1,
         "Copa América",
         "Buenos Aires",
         "Argentina",
         false
        ],
        [
         "1959-03-08_Bolivia_Uruguay_0_7",
         "1959-03-08",
         "Bolivia",
         "Uruguay",
         0,
         7,
         "Copa América",
         "Buenos Aires",
         "Argentina",
         true
        ],
        [
         "1959-03-10_Brazil_Peru_2_2",
         "1959-03-10",
         "Brazil",
         "Peru",
         2,
         2,
         "Copa América",
         "Buenos Aires",
         "Argentina",
         true
        ],
        [
         "1959-03-11_Argentina_Bolivia_2_0",
         "1959-03-11",
         "Argentina",
         "Bolivia",
         2,
         0,
         "Copa América",
         "Buenos Aires",
         "Argentina",
         false
        ],
        [
         "1959-03-11_Chile_Paraguay_1_2",
         "1959-03-11",
         "Chile",
         "Paraguay",
         1,
         2,
         "Copa América",
         "Buenos Aires",
         "Argentina",
         true
        ],
        [
         "1959-03-14_Peru_Uruguay_5_3",
         "1959-03-14",
         "Peru",
         "Uruguay",
         5,
         3,
         "Copa América",
         "Buenos Aires",
         "Argentina",
         true
        ],
        [
         "1959-03-15_Bolivia_Paraguay_0_5",
         "1959-03-15",
         "Bolivia",
         "Paraguay",
         0,
         5,
         "Copa América",
         "Buenos Aires",
         "Argentina",
         true
        ],
        [
         "1959-03-15_Brazil_Chile_3_0",
         "1959-03-15",
         "Brazil",
         "Chile",
         3,
         0,
         "Copa América",
         "Buenos Aires",
         "Argentina",
         true
        ],
        [
         "1959-03-18_Argentina_Peru_3_1",
         "1959-03-18",
         "Argentina",
         "Peru",
         3,
         1,
         "Copa América",
         "Buenos Aires",
         "Argentina",
         false
        ],
        [
         "1959-03-18_Paraguay_Uruguay_1_3",
         "1959-03-18",
         "Paraguay",
         "Uruguay",
         1,
         3,
         "Copa América",
         "Buenos Aires",
         "Argentina",
         true
        ],
        [
         "1959-03-21_Bolivia_Brazil_2_4",
         "1959-03-21",
         "Bolivia",
         "Brazil",
         2,
         4,
         "Copa América",
         "Buenos Aires",
         "Argentina",
         true
        ],
        [
         "1959-03-21_Chile_Peru_1_1",
         "1959-03-21",
         "Chile",
         "Peru",
         1,
         1,
         "Copa América",
         "Buenos Aires",
         "Argentina",
         true
        ],
        [
         "1959-03-22_Argentina_Paraguay_3_1",
         "1959-03-22",
         "Argentina",
         "Paraguay",
         3,
         1,
         "Copa América",
         "Buenos Aires",
         "Argentina",
         false
        ],
        [
         "1959-03-26_Bolivia_Chile_2_5",
         "1959-03-26",
         "Bolivia",
         "Chile",
         2,
         5,
         "Copa América",
         "Buenos Aires",
         "Argentina",
         true
        ],
        [
         "1959-03-26_Brazil_Uruguay_3_1",
         "1959-03-26",
         "Brazil",
         "Uruguay",
         3,
         1,
         "Copa América",
         "Buenos Aires",
         "Argentina",
         true
        ],
        [
         "1959-03-29_Bolivia_Peru_0_0",
         "1959-03-29",
         "Bolivia",
         "Peru",
         0,
         0,
         "Copa América",
         "Buenos Aires",
         "Argentina",
         true
        ],
        [
         "1959-03-29_Brazil_Paraguay_4_1",
         "1959-03-29",
         "Brazil",
         "Paraguay",
         4,
         1,
         "Copa América",
         "Buenos Aires",
         "Argentina",
         true
        ],
        [
         "1959-03-30_Argentina_Uruguay_4_1",
         "1959-03-30",
         "Argentina",
         "Uruguay",
         4,
         1,
         "Copa América",
         "Buenos Aires",
         "Argentina",
         false
        ],
        [
         "1959-04-02_Chile_Uruguay_1_0",
         "1959-04-02",
         "Chile",
         "Uruguay",
         1,
         0,
         "Copa América",
         "Buenos Aires",
         "Argentina",
         true
        ],
        [
         "1959-04-02_Paraguay_Peru_2_1",
         "1959-04-02",
         "Paraguay",
         "Peru",
         2,
         1,
         "Copa América",
         "Buenos Aires",
         "Argentina",
         true
        ],
        [
         "1959-04-04_Argentina_Brazil_1_1",
         "1959-04-04",
         "Argentina",
         "Brazil",
         1,
         1,
         "Copa América",
         "Buenos Aires",
         "Argentina",
         false
        ],
        [
         "1959-12-05_Brazil_Paraguay_3_2",
         "1959-12-05",
         "Brazil",
         "Paraguay",
         3,
         2,
         "Copa América",
         "Guayaquil",
         "Ecuador",
         true
        ],
        [
         "1959-12-06_Ecuador_Uruguay_0_4",
         "1959-12-06",
         "Ecuador",
         "Uruguay",
         0,
         4,
         "Copa América",
         "Guayaquil",
         "Ecuador",
         false
        ],
        [
         "1959-12-09_Argentina_Paraguay_4_2",
         "1959-12-09",
         "Argentina",
         "Paraguay",
         4,
         2,
         "Copa América",
         "Guayaquil",
         "Ecuador",
         true
        ],
        [
         "1959-12-12_Brazil_Uruguay_0_3",
         "1959-12-12",
         "Brazil",
         "Uruguay",
         0,
         3,
         "Copa América",
         "Guayaquil",
         "Ecuador",
         true
        ],
        [
         "1959-12-12_Ecuador_Argentina_1_1",
         "1959-12-12",
         "Ecuador",
         "Argentina",
         1,
         1,
         "Copa América",
         "Guayaquil",
         "Ecuador",
         false
        ],
        [
         "1959-12-16_Argentina_Uruguay_0_5",
         "1959-12-16",
         "Argentina",
         "Uruguay",
         0,
         5,
         "Copa América",
         "Guayaquil",
         "Ecuador",
         true
        ],
        [
         "1959-12-19_Ecuador_Brazil_1_3",
         "1959-12-19",
         "Ecuador",
         "Brazil",
         1,
         3,
         "Copa América",
         "Guayaquil",
         "Ecuador",
         false
        ],
        [
         "1959-12-22_Argentina_Brazil_4_1",
         "1959-12-22",
         "Argentina",
         "Brazil",
         4,
         1,
         "Copa América",
         "Guayaquil",
         "Ecuador",
         true
        ],
        [
         "1959-12-22_Paraguay_Uruguay_1_1",
         "1959-12-22",
         "Paraguay",
         "Uruguay",
         1,
         1,
         "Copa América",
         "Guayaquil",
         "Ecuador",
         true
        ],
        [
         "1959-12-25_Ecuador_Paraguay_3_1",
         "1959-12-25",
         "Ecuador",
         "Paraguay",
         3,
         1,
         "Copa América",
         "Guayaquil",
         "Ecuador",
         false
        ],
        [
         "1963-03-10_Argentina_Colombia_4_2",
         "1963-03-10",
         "Argentina",
         "Colombia",
         4,
         2,
         "Copa América",
         "Cochabamba",
         "Bolivia",
         true
        ],
        [
         "1963-03-10_Bolivia_Ecuador_4_4",
         "1963-03-10",
         "Bolivia",
         "Ecuador",
         4,
         4,
         "Copa América",
         "La Paz",
         "Bolivia",
         false
        ],
        [
         "1963-03-10_Brazil_Peru_1_0",
         "1963-03-10",
         "Brazil",
         "Peru",
         1,
         0,
         "Copa América",
         "Cochabamba",
         "Bolivia",
         true
        ],
        [
         "1963-03-13_Argentina_Peru_1_2",
         "1963-03-13",
         "Argentina",
         "Peru",
         1,
         2,
         "Copa América",
         "Cochabamba",
         "Bolivia",
         true
        ],
        [
         "1963-03-14_Brazil_Colombia_5_1",
         "1963-03-14",
         "Brazil",
         "Colombia",
         5,
         1,
         "Copa América",
         "La Paz",
         "Bolivia",
         true
        ],
        [
         "1963-03-14_Ecuador_Paraguay_1_3",
         "1963-03-14",
         "Ecuador",
         "Paraguay",
         1,
         3,
         "Copa América",
         "La Paz",
         "Bolivia",
         true
        ],
        [
         "1963-03-17_Bolivia_Colombia_2_1",
         "1963-03-17",
         "Bolivia",
         "Colombia",
         2,
         1,
         "Copa América",
         "Cochabamba",
         "Bolivia",
         false
        ],
        [
         "1963-03-17_Brazil_Paraguay_0_2",
         "1963-03-17",
         "Brazil",
         "Paraguay",
         0,
         2,
         "Copa América",
         "La Paz",
         "Bolivia",
         true
        ],
        [
         "1963-03-17_Ecuador_Peru_1_2",
         "1963-03-17",
         "Ecuador",
         "Peru",
         1,
         2,
         "Copa América",
         "La Paz",
         "Bolivia",
         true
        ],
        [
         "1963-03-20_Argentina_Ecuador_4_2",
         "1963-03-20",
         "Argentina",
         "Ecuador",
         4,
         2,
         "Copa América",
         "Cochabamba",
         "Bolivia",
         true
        ],
        [
         "1963-03-20_Colombia_Paraguay_2_3",
         "1963-03-20",
         "Colombia",
         "Paraguay",
         2,
         3,
         "Copa América",
         "Cochabamba",
         "Bolivia",
         true
        ],
        [
         "1963-03-21_Bolivia_Peru_3_2",
         "1963-03-21",
         "Bolivia",
         "Peru",
         3,
         2,
         "Copa América",
         "La Paz",
         "Bolivia",
         false
        ],
        [
         "1963-03-24_Argentina_Brazil_3_0",
         "1963-03-24",
         "Argentina",
         "Brazil",
         3,
         0,
         "Copa América",
         "La Paz",
         "Bolivia",
         true
        ],
        [
         "1963-03-24_Bolivia_Paraguay_2_0",
         "1963-03-24",
         "Bolivia",
         "Paraguay",
         2,
         0,
         "Copa América",
         "Cochabamba",
         "Bolivia",
         false
        ],
        [
         "1963-03-24_Colombia_Peru_1_1",
         "1963-03-24",
         "Colombia",
         "Peru",
         1,
         1,
         "Copa América",
         "La Paz",
         "Bolivia",
         true
        ],
        [
         "1963-03-27_Brazil_Ecuador_2_2",
         "1963-03-27",
         "Brazil",
         "Ecuador",
         2,
         2,
         "Copa América",
         "Cochabamba",
         "Bolivia",
         true
        ],
        [
         "1963-03-27_Paraguay_Peru_4_1",
         "1963-03-27",
         "Paraguay",
         "Peru",
         4,
         1,
         "Copa América",
         "Cochabamba",
         "Bolivia",
         true
        ],
        [
         "1963-03-28_Bolivia_Argentina_3_2",
         "1963-03-28",
         "Bolivia",
         "Argentina",
         3,
         2,
         "Copa América",
         "La Paz",
         "Bolivia",
         false
        ],
        [
         "1963-03-31_Argentina_Paraguay_1_1",
         "1963-03-31",
         "Argentina",
         "Paraguay",
         1,
         1,
         "Copa América",
         "La Paz",
         "Bolivia",
         true
        ],
        [
         "1963-03-31_Bolivia_Brazil_5_4",
         "1963-03-31",
         "Bolivia",
         "Brazil",
         5,
         4,
         "Copa América",
         "Cochabamba",
         "Bolivia",
         false
        ],
        [
         "1963-03-31_Colombia_Ecuador_3_4",
         "1963-03-31",
         "Colombia",
         "Ecuador",
         3,
         4,
         "Copa América",
         "La Paz",
         "Bolivia",
         true
        ],
        [
         "1993-06-15_Ecuador_Venezuela_6_1",
         "1993-06-15",
         "Ecuador",
         "Venezuela",
         6,
         1,
         "Copa América",
         "Quito",
         "Ecuador",
         false
        ],
        [
         "1993-06-16_Colombia_Mexico_2_1",
         "1993-06-16",
         "Colombia",
         "Mexico",
         2,
         1,
         "Copa América",
         "Machala",
         "Ecuador",
         true
        ],
        [
         "1993-06-16_Uruguay_United States_1_0",
         "1993-06-16",
         "Uruguay",
         "United States",
         1,
         0,
         "Copa América",
         "Ambato",
         "Ecuador",
         true
        ],
        [
         "1993-06-17_Argentina_Bolivia_1_0",
         "1993-06-17",
         "Argentina",
         "Bolivia",
         1,
         0,
         "Copa América",
         "Guayaquil",
         "Ecuador",
         true
        ],
        [
         "1993-06-18_Brazil_Peru_0_0",
         "1993-06-18",
         "Brazil",
         "Peru",
         0,
         0,
         "Copa América",
         "Cuenca",
         "Ecuador",
         true
        ],
        [
         "1993-06-18_Paraguay_Chile_1_0",
         "1993-06-18",
         "Paraguay",
         "Chile",
         1,
         0,
         "Copa América",
         "Cuenca",
         "Ecuador",
         true
        ],
        [
         "1993-06-19_Ecuador_United States_2_0",
         "1993-06-19",
         "Ecuador",
         "United States",
         2,
         0,
         "Copa América",
         "Quito",
         "Ecuador",
         false
        ],
        [
         "1993-06-19_Uruguay_Venezuela_2_2",
         "1993-06-19",
         "Uruguay",
         "Venezuela",
         2,
         2,
         "Copa América",
         "Ambato",
         "Ecuador",
         true
        ],
        [
         "1993-06-20_Argentina_Mexico_1_1",
         "1993-06-20",
         "Argentina",
         "Mexico",
         1,
         1,
         "Copa América",
         "Guayaquil",
         "Ecuador",
         true
        ],
        [
         "1993-06-20_Colombia_Bolivia_1_1",
         "1993-06-20",
         "Colombia",
         "Bolivia",
         1,
         1,
         "Copa América",
         "Machala",
         "Ecuador",
         true
        ],
        [
         "1993-06-21_Brazil_Chile_2_3",
         "1993-06-21",
         "Brazil",
         "Chile",
         2,
         3,
         "Copa América",
         "Cuenca",
         "Ecuador",
         true
        ],
        [
         "1993-06-21_Paraguay_Peru_1_1",
         "1993-06-21",
         "Paraguay",
         "Peru",
         1,
         1,
         "Copa América",
         "Cuenca",
         "Ecuador",
         true
        ],
        [
         "1993-06-22_Ecuador_Uruguay_2_1",
         "1993-06-22",
         "Ecuador",
         "Uruguay",
         2,
         1,
         "Copa América",
         "Quito",
         "Ecuador",
         false
        ],
        [
         "1993-06-22_United States_Venezuela_3_3",
         "1993-06-22",
         "United States",
         "Venezuela",
         3,
         3,
         "Copa América",
         "Quito",
         "Ecuador",
         true
        ],
        [
         "1993-06-23_Argentina_Colombia_1_1",
         "1993-06-23",
         "Argentina",
         "Colombia",
         1,
         1,
         "Copa América",
         "Guayaquil",
         "Ecuador",
         true
        ],
        [
         "1993-06-23_Mexico_Bolivia_0_0",
         "1993-06-23",
         "Mexico",
         "Bolivia",
         0,
         0,
         "Copa América",
         "Portoviejo",
         "Ecuador",
         true
        ],
        [
         "1993-06-24_Brazil_Paraguay_3_0",
         "1993-06-24",
         "Brazil",
         "Paraguay",
         3,
         0,
         "Copa América",
         "Cuenca",
         "Ecuador",
         true
        ],
        [
         "1993-06-24_Chile_Peru_0_1",
         "1993-06-24",
         "Chile",
         "Peru",
         0,
         1,
         "Copa América",
         "Cuenca",
         "Ecuador",
         true
        ],
        [
         "1993-06-26_Colombia_Uruguay_1_1",
         "1993-06-26",
         "Colombia",
         "Uruguay",
         1,
         1,
         "Copa América",
         "Guayaquil",
         "Ecuador",
         true
        ],
        [
         "1993-06-26_Ecuador_Paraguay_3_0",
         "1993-06-26",
         "Ecuador",
         "Paraguay",
         3,
         0,
         "Copa América",
         "Quito",
         "Ecuador",
         false
        ],
        [
         "1993-06-27_Brazil_Argentina_1_1",
         "1993-06-27",
         "Brazil",
         "Argentina",
         1,
         1,
         "Copa América",
         "Guayaquil",
         "Ecuador",
         true
        ],
        [
         "1993-06-27_Peru_Mexico_2_4",
         "1993-06-27",
         "Peru",
         "Mexico",
         2,
         4,
         "Copa América",
         "Quito",
         "Ecuador",
         true
        ],
        [
         "1993-06-30_Ecuador_Mexico_0_2",
         "1993-06-30",
         "Ecuador",
         "Mexico",
         0,
         2,
         "Copa América",
         "Quito",
         "Ecuador",
         false
        ],
        [
         "1993-07-01_Colombia_Argentina_0_0",
         "1993-07-01",
         "Colombia",
         "Argentina",
         0,
         0,
         "Copa América",
         "Guayaquil",
         "Ecuador",
         true
        ],
        [
         "1993-07-03_Ecuador_Colombia_0_1",
         "1993-07-03",
         "Ecuador",
         "Colombia",
         0,
         1,
         "Copa América",
         "Portoviejo",
         "Ecuador",
         false
        ],
        [
         "1993-07-04_Argentina_Mexico_2_1",
         "1993-07-04",
         "Argentina",
         "Mexico",
         2,
         1,
         "Copa América",
         "Guayaquil",
         "Ecuador",
         true
        ],
        [
         "1995-07-05_Uruguay_Venezuela_4_1",
         "1995-07-05",
         "Uruguay",
         "Venezuela",
         4,
         1,
         "Copa América",
         "Montevideo",
         "Uruguay",
         false
        ],
        [
         "1995-07-06_Mexico_Paraguay_1_2",
         "1995-07-06",
         "Mexico",
         "Paraguay",
         1,
         2,
         "Copa América",
         "Maldonado",
         "Uruguay",
         true
        ],
        [
         "1995-07-07_Brazil_Ecuador_1_0",
         "1995-07-07",
         "Brazil",
         "Ecuador",
         1,
         0,
         "Copa América",
         "Rivera",
         "Uruguay",
         true
        ],
        [
         "1995-07-07_Colombia_Peru_1_1",
         "1995-07-07",
         "Colombia",
         "Peru",
         1,
         1,
         "Copa América",
         "Rivera",
         "Uruguay",
         true
        ],
        [
         "1995-07-08_Argentina_Bolivia_2_1",
         "1995-07-08",
         "Argentina",
         "Bolivia",
         2,
         1,
         "Copa América",
         "Paysandú",
         "Uruguay",
         true
        ],
        [
         "1995-07-08_United States_Chile_2_1",
         "1995-07-08",
         "United States",
         "Chile",
         2,
         1,
         "Copa América",
         "Paysandú",
         "Uruguay",
         true
        ],
        [
         "1995-07-09_Mexico_Venezuela_3_1",
         "1995-07-09",
         "Mexico",
         "Venezuela",
         3,
         1,
         "Copa América",
         "Maldonado",
         "Uruguay",
         true
        ],
        [
         "1995-07-09_Uruguay_Paraguay_1_0",
         "1995-07-09",
         "Uruguay",
         "Paraguay",
         1,
         0,
         "Copa América",
         "Montevideo",
         "Uruguay",
         false
        ],
        [
         "1995-07-10_Brazil_Peru_2_0",
         "1995-07-10",
         "Brazil",
         "Peru",
         2,
         0,
         "Copa América",
         "Rivera",
         "Uruguay",
         true
        ],
        [
         "1995-07-10_Colombia_Ecuador_1_0",
         "1995-07-10",
         "Colombia",
         "Ecuador",
         1,
         0,
         "Copa América",
         "Rivera",
         "Uruguay",
         true
        ],
        [
         "1995-07-11_Argentina_Chile_4_0",
         "1995-07-11",
         "Argentina",
         "Chile",
         4,
         0,
         "Copa América",
         "Paysandú",
         "Uruguay",
         true
        ],
        [
         "1995-07-11_United States_Bolivia_0_1",
         "1995-07-11",
         "United States",
         "Bolivia",
         0,
         1,
         "Copa América",
         "Paysandú",
         "Uruguay",
         true
        ],
        [
         "1995-07-12_Paraguay_Venezuela_3_2",
         "1995-07-12",
         "Paraguay",
         "Venezuela",
         3,
         2,
         "Copa América",
         "Maldonado",
         "Uruguay",
         true
        ],
        [
         "1995-07-13_Brazil_Colombia_3_0",
         "1995-07-13",
         "Brazil",
         "Colombia",
         3,
         0,
         "Copa América",
         "Rivera",
         "Uruguay",
         true
        ],
        [
         "1995-07-13_Peru_Ecuador_1_2",
         "1995-07-13",
         "Peru",
         "Ecuador",
         1,
         2,
         "Copa América",
         "Rivera",
         "Uruguay",
         true
        ],
        [
         "1995-07-13_Uruguay_Mexico_1_1",
         "1995-07-13",
         "Uruguay",
         "Mexico",
         1,
         1,
         "Copa América",
         "Montevideo",
         "Uruguay",
         false
        ],
        [
         "1995-07-14_Argentina_United States_0_3",
         "1995-07-14",
         "Argentina",
         "United States",
         0,
         3,
         "Copa América",
         "Paysandú",
         "Uruguay",
         true
        ],
        [
         "1995-07-14_Chile_Bolivia_2_2",
         "1995-07-14",
         "Chile",
         "Bolivia",
         2,
         2,
         "Copa América",
         "Paysandú",
         "Uruguay",
         true
        ],
        [
         "1995-07-16_Paraguay_Colombia_1_1",
         "1995-07-16",
         "Paraguay",
         "Colombia",
         1,
         1,
         "Copa América",
         "Montevideo",
         "Uruguay",
         true
        ],
        [
         "1995-07-16_Uruguay_Bolivia_2_1",
         "1995-07-16",
         "Uruguay",
         "Bolivia",
         2,
         1,
         "Copa América",
         "Montevideo",
         "Uruguay",
         false
        ],
        [
         "1995-07-17_Brazil_Argentina_2_2",
         "1995-07-17",
         "Brazil",
         "Argentina",
         2,
         2,
         "Copa América",
         "Rivera",
         "Uruguay",
         true
        ],
        [
         "1995-07-17_United States_Mexico_0_0",
         "1995-07-17",
         "United States",
         "Mexico",
         0,
         0,
         "Copa América",
         "Paysandú",
         "Uruguay",
         true
        ],
        [
         "1995-07-19_Uruguay_Colombia_2_0",
         "1995-07-19",
         "Uruguay",
         "Colombia",
         2,
         0,
         "Copa América",
         "Montevideo",
         "Uruguay",
         false
        ],
        [
         "1995-07-20_United States_Brazil_0_1",
         "1995-07-20",
         "United States",
         "Brazil",
         0,
         1,
         "Copa América",
         "Maldonado",
         "Uruguay",
         true
        ],
        [
         "1995-07-22_Colombia_United States_4_1",
         "1995-07-22",
         "Colombia",
         "United States",
         4,
         1,
         "Copa América",
         "Maldonado",
         "Uruguay",
         true
        ],
        [
         "1995-07-23_Uruguay_Brazil_1_1",
         "1995-07-23",
         "Uruguay",
         "Brazil",
         1,
         1,
         "Copa América",
         "Montevideo",
         "Uruguay",
         false
        ],
        [
         "1997-06-11_Argentina_Ecuador_0_0",
         "1997-06-11",
         "Argentina",
         "Ecuador",
         0,
         0,
         "Copa América",
         "Cochabamba",
         "Bolivia",
         true
        ],
        [
         "1997-06-11_Chile_Paraguay_0_1",
         "1997-06-11",
         "Chile",
         "Paraguay",
         0,
         1,
         "Copa América",
         "Cochabamba",
         "Bolivia",
         true
        ],
        [
         "1997-06-12_Bolivia_Venezuela_1_0",
         "1997-06-12",
         "Bolivia",
         "Venezuela",
         1,
         0,
         "Copa América",
         "La Paz",
         "Bolivia",
         false
        ],
        [
         "1997-06-12_Peru_Uruguay_1_0",
         "1997-06-12",
         "Peru",
         "Uruguay",
         1,
         0,
         "Copa América",
         "Sucre",
         "Bolivia",
         true
        ],
        [
         "1997-06-13_Brazil_Costa Rica_5_0",
         "1997-06-13",
         "Brazil",
         "Costa Rica",
         5,
         0,
         "Copa América",
         "Santa Cruz",
         "Bolivia",
         true
        ],
        [
         "1997-06-13_Mexico_Colombia_2_1",
         "1997-06-13",
         "Mexico",
         "Colombia",
         2,
         1,
         "Copa América",
         "Santa Cruz",
         "Bolivia",
         true
        ],
        [
         "1997-06-14_Argentina_Chile_2_0",
         "1997-06-14",
         "Argentina",
         "Chile",
         2,
         0,
         "Copa América",
         "Cochabamba",
         "Bolivia",
         true
        ],
        [
         "1997-06-14_Paraguay_Ecuador_0_2",
         "1997-06-14",
         "Paraguay",
         "Ecuador",
         0,
         2,
         "Copa América",
         "Cochabamba",
         "Bolivia",
         true
        ],
        [
         "1997-06-15_Bolivia_Peru_2_0",
         "1997-06-15",
         "Bolivia",
         "Peru",
         2,
         0,
         "Copa América",
         "La Paz",
         "Bolivia",
         false
        ],
        [
         "1997-06-15_Uruguay_Venezuela_2_0",
         "1997-06-15",
         "Uruguay",
         "Venezuela",
         2,
         0,
         "Copa América",
         "Sucre",
         "Bolivia",
         true
        ],
        [
         "1997-06-16_Brazil_Mexico_3_2",
         "1997-06-16",
         "Brazil",
         "Mexico",
         3,
         2,
         "Copa América",
         "Santa Cruz",
         "Bolivia",
         true
        ],
        [
         "1997-06-16_Colombia_Costa Rica_4_1",
         "1997-06-16",
         "Colombia",
         "Costa Rica",
         4,
         1,
         "Copa América",
         "Santa Cruz",
         "Bolivia",
         true
        ],
        [
         "1997-06-17_Argentina_Paraguay_1_1",
         "1997-06-17",
         "Argentina",
         "Paraguay",
         1,
         1,
         "Copa América",
         "Cochabamba",
         "Bolivia",
         true
        ],
        [
         "1997-06-17_Chile_Ecuador_1_2",
         "1997-06-17",
         "Chile",
         "Ecuador",
         1,
         2,
         "Copa América",
         "Cochabamba",
         "Bolivia",
         true
        ],
        [
         "1997-06-18_Bolivia_Uruguay_1_0",
         "1997-06-18",
         "Bolivia",
         "Uruguay",
         1,
         0,
         "Copa América",
         "La Paz",
         "Bolivia",
         false
        ],
        [
         "1997-06-18_Peru_Venezuela_2_0",
         "1997-06-18",
         "Peru",
         "Venezuela",
         2,
         0,
         "Copa América",
         "Sucre",
         "Bolivia",
         true
        ],
        [
         "1997-06-19_Brazil_Colombia_2_0",
         "1997-06-19",
         "Brazil",
         "Colombia",
         2,
         0,
         "Copa América",
         "Santa Cruz",
         "Bolivia",
         true
        ],
        [
         "1997-06-19_Mexico_Costa Rica_1_1",
         "1997-06-19",
         "Mexico",
         "Costa Rica",
         1,
         1,
         "Copa América",
         "Santa Cruz",
         "Bolivia",
         true
        ],
        [
         "1997-06-21_Bolivia_Colombia_2_1",
         "1997-06-21",
         "Bolivia",
         "Colombia",
         2,
         1,
         "Copa América",
         "La Paz",
         "Bolivia",
         false
        ],
        [
         "1997-06-21_Peru_Argentina_2_1",
         "1997-06-21",
         "Peru",
         "Argentina",
         2,
         1,
         "Copa América",
         "Sucre",
         "Bolivia",
         true
        ],
        [
         "1997-06-22_Brazil_Paraguay_2_0",
         "1997-06-22",
         "Brazil",
         "Paraguay",
         2,
         0,
         "Copa América",
         "Santa Cruz",
         "Bolivia",
         true
        ],
        [
         "1997-06-22_Ecuador_Mexico_1_1",
         "1997-06-22",
         "Ecuador",
         "Mexico",
         1,
         1,
         "Copa América",
         "Cochabamba",
         "Bolivia",
         true
        ],
        [
         "1997-06-25_Bolivia_Mexico_3_1",
         "1997-06-25",
         "Bolivia",
         "Mexico",
         3,
         1,
         "Copa América",
         "La Paz",
         "Bolivia",
         false
        ],
        [
         "1997-06-26_Brazil_Peru_7_0",
         "1997-06-26",
         "Brazil",
         "Peru",
         7,
         0,
         "Copa América",
         "Santa Cruz",
         "Bolivia",
         true
        ],
        [
         "1997-06-28_Mexico_Peru_1_0",
         "1997-06-28",
         "Mexico",
         "Peru",
         1,
         0,
         "Copa América",
         "Oruro",
         "Bolivia",
         true
        ],
        [
         "1997-06-29_Bolivia_Brazil_1_3",
         "1997-06-29",
         "Bolivia",
         "Brazil",
         1,
         3,
         "Copa América",
         "La Paz",
         "Bolivia",
         false
        ],
        [
         "1999-06-29_Paraguay_Bolivia_0_0",
         "1999-06-29",
         "Paraguay",
         "Bolivia",
         0,
         0,
         "Copa América",
         "Asunción",
         "Paraguay",
         false
        ],
        [
         "1999-06-29_Peru_Japan_3_2",
         "1999-06-29",
         "Peru",
         "Japan",
         3,
         2,
         "Copa América",
         "Asunción",
         "Paraguay",
         true
        ],
        [
         "1999-06-30_Brazil_Venezuela_7_0",
         "1999-06-30",
         "Brazil",
         "Venezuela",
         7,
         0,
         "Copa América",
         "Ciudad del Este",
         "Paraguay",
         true
        ],
        [
         "1999-06-30_Chile_Mexico_0_1",
         "1999-06-30",
         "Chile",
         "Mexico",
         0,
         1,
         "Copa América",
         "Ciudad del Este",
         "Paraguay",
         true
        ],
        [
         "1999-07-01_Argentina_Ecuador_3_1",
         "1999-07-01",
         "Argentina",
         "Ecuador",
         3,
         1,
         "Copa América",
         "Luque",
         "Paraguay",
         true
        ],
        [
         "1999-07-01_Uruguay_Colombia_0_1",
         "1999-07-01",
         "Uruguay",
         "Colombia",
         0,
         1,
         "Copa América",
         "Asunción",
         "Paraguay",
         true
        ],
        [
         "1999-07-02_Paraguay_Japan_4_0",
         "1999-07-02",
         "Paraguay",
         "Japan",
         4,
         0,
         "Copa América",
         "Asunción",
         "Paraguay",
         false
        ],
        [
         "1999-07-02_Peru_Bolivia_1_0",
         "1999-07-02",
         "Peru",
         "Bolivia",
         1,
         0,
         "Copa América",
         "Asunción",
         "Paraguay",
         true
        ],
        [
         "1999-07-03_Brazil_Mexico_2_1",
         "1999-07-03",
         "Brazil",
         "Mexico",
         2,
         1,
         "Copa América",
         "Ciudad del Este",
         "Paraguay",
         true
        ],
        [
         "1999-07-03_Chile_Venezuela_3_0",
         "1999-07-03",
         "Chile",
         "Venezuela",
         3,
         0,
         "Copa América",
         "Ciudad del Este",
         "Paraguay",
         true
        ],
        [
         "1999-07-04_Argentina_Colombia_0_3",
         "1999-07-04",
         "Argentina",
         "Colombia",
         0,
         3,
         "Copa América",
         "Luque",
         "Paraguay",
         true
        ],
        [
         "1999-07-04_Uruguay_Ecuador_2_1",
         "1999-07-04",
         "Uruguay",
         "Ecuador",
         2,
         1,
         "Copa América",
         "Luque",
         "Paraguay",
         true
        ],
        [
         "1999-07-05_Bolivia_Japan_1_1",
         "1999-07-05",
         "Bolivia",
         "Japan",
         1,
         1,
         "Copa América",
         "Pedro Juan Caballero",
         "Paraguay",
         true
        ],
        [
         "1999-07-05_Paraguay_Peru_1_0",
         "1999-07-05",
         "Paraguay",
         "Peru",
         1,
         0,
         "Copa América",
         "Pedro Juan Caballero",
         "Paraguay",
         false
        ],
        [
         "1999-07-06_Brazil_Chile_1_0",
         "1999-07-06",
         "Brazil",
         "Chile",
         1,
         0,
         "Copa América",
         "Ciudad del Este",
         "Paraguay",
         true
        ],
        [
         "1999-07-06_Mexico_Venezuela_3_1",
         "1999-07-06",
         "Mexico",
         "Venezuela",
         3,
         1,
         "Copa América",
         "Ciudad del Este",
         "Paraguay",
         true
        ],
        [
         "1999-07-07_Colombia_Ecuador_2_1",
         "1999-07-07",
         "Colombia",
         "Ecuador",
         2,
         1,
         "Copa América",
         "Luque",
         "Paraguay",
         true
        ],
        [
         "1999-07-07_Uruguay_Argentina_0_2",
         "1999-07-07",
         "Uruguay",
         "Argentina",
         0,
         2,
         "Copa América",
         "Luque",
         "Paraguay",
         true
        ],
        [
         "1999-07-10_Mexico_Peru_3_3",
         "1999-07-10",
         "Mexico",
         "Peru",
         3,
         3,
         "Copa América",
         "Asunción",
         "Paraguay",
         true
        ],
        [
         "1999-07-10_Paraguay_Uruguay_1_1",
         "1999-07-10",
         "Paraguay",
         "Uruguay",
         1,
         1,
         "Copa América",
         "Asunción",
         "Paraguay",
         false
        ],
        [
         "1999-07-11_Brazil_Argentina_2_1",
         "1999-07-11",
         "Brazil",
         "Argentina",
         2,
         1,
         "Copa América",
         "Ciudad del Este",
         "Paraguay",
         true
        ],
        [
         "1999-07-11_Chile_Colombia_3_2",
         "1999-07-11",
         "Chile",
         "Colombia",
         3,
         2,
         "Copa América",
         "Luque",
         "Paraguay",
         true
        ],
        [
         "1999-07-13_Uruguay_Chile_1_1",
         "1999-07-13",
         "Uruguay",
         "Chile",
         1,
         1,
         "Copa América",
         "Asunción",
         "Paraguay",
         true
        ],
        [
         "1999-07-14_Mexico_Brazil_0_2",
         "1999-07-14",
         "Mexico",
         "Brazil",
         0,
         2,
         "Copa América",
         "Ciudad del Este",
         "Paraguay",
         true
        ],
        [
         "1999-07-17_Chile_Mexico_1_2",
         "1999-07-17",
         "Chile",
         "Mexico",
         1,
         2,
         "Copa América",
         "Asunción",
         "Paraguay",
         true
        ],
        [
         "1999-07-18_Brazil_Uruguay_3_0",
         "1999-07-18",
         "Brazil",
         "Uruguay",
         3,
         0,
         "Copa América",
         "Asunción",
         "Paraguay",
         true
        ],
        [
         "1979-11-28_Paraguay_Chile_3_0",
         "1979-11-28",
         "Paraguay",
         "Chile",
         3,
         0,
         "Copa América",
         "Asunción",
         "Paraguay",
         false
        ],
        [
         "1979-12-05_Chile_Paraguay_1_0",
         "1979-12-05",
         "Chile",
         "Paraguay",
         1,
         0,
         "Copa América",
         "Santiago",
         "Chile",
         false
        ],
        [
         "1979-12-11_Chile_Paraguay_0_0",
         "1979-12-11",
         "Chile",
         "Paraguay",
         0,
         0,
         "Copa América",
         "Buenos Aires",
         "Argentina",
         true
        ],
        [
         "1983-08-10_Ecuador_Argentina_2_2",
         "1983-08-10",
         "Ecuador",
         "Argentina",
         2,
         2,
         "Copa América",
         "Quito",
         "Ecuador",
         false
        ],
        [
         "1983-08-14_Bolivia_Colombia_0_1",
         "1983-08-14",
         "Bolivia",
         "Colombia",
         0,
         1,
         "Copa América",
         "La Paz",
         "Bolivia",
         false
        ],
        [
         "1983-08-17_Ecuador_Brazil_0_1",
         "1983-08-17",
         "Ecuador",
         "Brazil",
         0,
         1,
         "Copa América",
         "Quito",
         "Ecuador",
         false
        ],
        [
         "1983-08-17_Peru_Colombia_1_0",
         "1983-08-17",
         "Peru",
         "Colombia",
         1,
         0,
         "Copa América",
         "Lima",
         "Peru",
         false
        ],
        [
         "1983-08-21_Bolivia_Peru_1_1",
         "1983-08-21",
         "Bolivia",
         "Peru",
         1,
         1,
         "Copa América",
         "La Paz",
         "Bolivia",
         false
        ],
        [
         "1983-08-24_Argentina_Brazil_1_0",
         "1983-08-24",
         "Argentina",
         "Brazil",
         1,
         0,
         "Copa América",
         "Buenos Aires",
         "Argentina",
         false
        ],
        [
         "1983-08-28_Colombia_Peru_2_2",
         "1983-08-28",
         "Colombia",
         "Peru",
         2,
         2,
         "Copa América",
         "Bogotá",
         "Colombia",
         false
        ],
        [
         "1983-08-31_Colombia_Bolivia_2_2",
         "1983-08-31",
         "Colombia",
         "Bolivia",
         2,
         2,
         "Copa América",
         "Bogotá",
         "Colombia",
         false
        ],
        [
         "1983-09-01_Brazil_Ecuador_5_0",
         "1983-09-01",
         "Brazil",
         "Ecuador",
         5,
         0,
         "Copa América",
         "Goiânia",
         "Brazil",
         false
        ],
        [
         "1983-09-01_Uruguay_Chile_2_1",
         "1983-09-01",
         "Uruguay",
         "Chile",
         2,
         1,
         "Copa América",
         "Montevideo",
         "Uruguay",
         false
        ],
        [
         "1983-09-04_Peru_Bolivia_2_1",
         "1983-09-04",
         "Peru",
         "Bolivia",
         2,
         1,
         "Copa América",
         "Lima",
         "Peru",
         false
        ],
        [
         "1983-09-04_Uruguay_Venezuela_3_0",
         "1983-09-04",
         "Uruguay",
         "Venezuela",
         3,
         0,
         "Copa América",
         "Montevideo",
         "Uruguay",
         false
        ],
        [
         "1983-09-07_Argentina_Ecuador_2_2",
         "1983-09-07",
         "Argentina",
         "Ecuador",
         2,
         2,
         "Copa América",
         "Buenos Aires",
         "Argentina",
         false
        ],
        [
         "1983-09-08_Chile_Venezuela_5_0",
         "1983-09-08",
         "Chile",
         "Venezuela",
         5,
         0,
         "Copa América",
         "Santiago",
         "Chile",
         false
        ],
        [
         "1983-09-11_Chile_Uruguay_2_0",
         "1983-09-11",
         "Chile",
         "Uruguay",
         2,
         0,
         "Copa América",
         "Santiago",
         "Chile",
         false
        ],
        [
         "1983-09-14_Brazil_Argentina_0_0",
         "1983-09-14",
         "Brazil",
         "Argentina",
         0,
         0,
         "Copa América",
         "Rio de Janeiro",
         "Brazil",
         false
        ],
        [
         "1983-09-18_Venezuela_Uruguay_1_2",
         "1983-09-18",
         "Venezuela",
         "Uruguay",
         1,
         2,
         "Copa América",
         "Caracas",
         "Venezuela",
         false
        ],
        [
         "1983-09-21_Venezuela_Chile_0_0",
         "1983-09-21",
         "Venezuela",
         "Chile",
         0,
         0,
         "Copa América",
         "Caracas",
         "Venezuela",
         false
        ],
        [
         "1983-10-13_Paraguay_Brazil_1_1",
         "1983-10-13",
         "Paraguay",
         "Brazil",
         1,
         1,
         "Copa América",
         "Asunción",
         "Paraguay",
         false
        ],
        [
         "1983-10-13_Peru_Uruguay_0_1",
         "1983-10-13",
         "Peru",
         "Uruguay",
         0,
         1,
         "Copa América",
         "Lima",
         "Peru",
         false
        ],
        [
         "1983-10-20_Brazil_Paraguay_0_0",
         "1983-10-20",
         "Brazil",
         "Paraguay",
         0,
         0,
         "Copa América",
         "Uberlândia",
         "Brazil",
         false
        ],
        [
         "1983-10-20_Uruguay_Peru_1_1",
         "1983-10-20",
         "Uruguay",
         "Peru",
         1,
         1,
         "Copa América",
         "Montevideo",
         "Uruguay",
         false
        ],
        [
         "1983-10-27_Uruguay_Brazil_2_0",
         "1983-10-27",
         "Uruguay",
         "Brazil",
         2,
         0,
         "Copa América",
         "Montevideo",
         "Uruguay",
         false
        ],
        [
         "1983-11-04_Brazil_Uruguay_1_1",
         "1983-11-04",
         "Brazil",
         "Uruguay",
         1,
         1,
         "Copa América",
         "Salvador",
         "Brazil",
         false
        ],
        [
         "1987-06-27_Argentina_Peru_1_1",
         "1987-06-27",
         "Argentina",
         "Peru",
         1,
         1,
         "Copa América",
         "Buenos Aires",
         "Argentina",
         false
        ],
        [
         "1987-06-28_Brazil_Venezuela_5_0",
         "1987-06-28",
         "Brazil",
         "Venezuela",
         5,
         0,
         "Copa América",
         "Córdoba",
         "Argentina",
         true
        ],
        [
         "1987-06-28_Paraguay_Bolivia_0_0",
         "1987-06-28",
         "Paraguay",
         "Bolivia",
         0,
         0,
         "Copa América",
         "Rosario",
         "Argentina",
         true
        ],
        [
         "1987-06-30_Venezuela_Chile_1_3",
         "1987-06-30",
         "Venezuela",
         "Chile",
         1,
         3,
         "Copa América",
         "Córdoba",
         "Argentina",
         true
        ],
        [
         "1987-07-01_Bolivia_Colombia_0_2",
         "1987-07-01",
         "Bolivia",
         "Colombia",
         0,
         2,
         "Copa América",
         "Rosario",
         "Argentina",
         true
        ],
        [
         "1987-07-02_Argentina_Ecuador_3_0",
         "1987-07-02",
         "Argentina",
         "Ecuador",
         3,
         0,
         "Copa América",
         "Buenos Aires",
         "Argentina",
         false
        ],
        [
         "1987-07-03_Chile_Brazil_4_0",
         "1987-07-03",
         "Chile",
         "Brazil",
         4,
         0,
         "Copa América",
         "Córdoba",
         "Argentina",
         true
        ],
        [
         "1987-07-04_Peru_Ecuador_1_1",
         "1987-07-04",
         "Peru",
         "Ecuador",
         1,
         1,
         "Copa América",
         "Buenos Aires",
         "Argentina",
         true
        ],
        [
         "1987-07-05_Colombia_Paraguay_3_0",
         "1987-07-05",
         "Colombia",
         "Paraguay",
         3,
         0,
         "Copa América",
         "Rosario",
         "Argentina",
         true
        ],
        [
         "1987-07-08_Chile_Colombia_2_1",
         "1987-07-08",
         "Chile",
         "Colombia",
         2,
         1,
         "Copa América",
         "Córdoba",
         "Argentina",
         true
        ],
        [
         "1987-07-09_Argentina_Uruguay_0_1",
         "1987-07-09",
         "Argentina",
         "Uruguay",
         0,
         1,
         "Copa América",
         "Buenos Aires",
         "Argentina",
         false
        ],
        [
         "1987-07-11_Argentina_Colombia_1_2",
         "1987-07-11",
         "Argentina",
         "Colombia",
         1,
         2,
         "Copa América",
         "Buenos Aires",
         "Argentina",
         false
        ],
        [
         "1987-07-12_Chile_Uruguay_0_1",
         "1987-07-12",
         "Chile",
         "Uruguay",
         0,
         1,
         "Copa América",
         "Buenos Aires",
         "Argentina",
         true
        ],
        [
         "1989-07-01_Brazil_Venezuela_3_1",
         "1989-07-01",
         "Brazil",
         "Venezuela",
         3,
         1,
         "Copa América",
         "Salvador",
         "Brazil",
         false
        ],
        [
         "1989-07-01_Paraguay_Peru_5_2",
         "1989-07-01",
         "Paraguay",
         "Peru",
         5,
         2,
         "Copa América",
         "Salvador",
         "Brazil",
         true
        ],
        [
         "1989-07-02_Argentina_Chile_1_0",
         "1989-07-02",
         "Argentina",
         "Chile",
         1,
         0,
         "Copa América",
         "Goiânia",
         "Brazil",
         true
        ],
        [
         "1989-07-02_Uruguay_Ecuador_0_1",
         "1989-07-02",
         "Uruguay",
         "Ecuador",
         0,
         1,
         "Copa América",
         "Goiânia",
         "Brazil",
         true
        ],
        [
         "1989-07-03_Brazil_Peru_0_0",
         "1989-07-03",
         "Brazil",
         "Peru",
         0,
         0,
         "Copa América",
         "Salvador",
         "Brazil",
         false
        ],
        [
         "1989-07-03_Venezuela_Colombia_2_4",
         "1989-07-03",
         "Venezuela",
         "Colombia",
         2,
         4,
         "Copa América",
         "Salvador",
         "Brazil",
         true
        ],
        [
         "1989-07-04_Argentina_Ecuador_0_0",
         "1989-07-04",
         "Argentina",
         "Ecuador",
         0,
         0,
         "Copa América",
         "Goiânia",
         "Brazil",
         true
        ],
        [
         "1989-07-04_Uruguay_Bolivia_3_0",
         "1989-07-04",
         "Uruguay",
         "Bolivia",
         3,
         0,
         "Copa América",
         "Goiânia",
         "Brazil",
         true
        ],
        [
         "1989-07-05_Colombia_Paraguay_0_1",
         "1989-07-05",
         "Colombia",
         "Paraguay",
         0,
         1,
         "Copa América",
         "Salvador",
         "Brazil",
         true
        ],
        [
         "1989-07-05_Peru_Venezuela_1_1",
         "1989-07-05",
         "Peru",
         "Venezuela",
         1,
         1,
         "Copa América",
         "Salvador",
         "Brazil",
         true
        ],
        [
         "1989-07-06_Chile_Uruguay_0_3",
         "1989-07-06",
         "Chile",
         "Uruguay",
         0,
         3,
         "Copa América",
         "Goiânia",
         "Brazil",
         true
        ],
        [
         "1989-07-06_Ecuador_Bolivia_0_0",
         "1989-07-06",
         "Ecuador",
         "Bolivia",
         0,
         0,
         "Copa América",
         "Goiânia",
         "Brazil",
         true
        ],
        [
         "1989-07-07_Brazil_Colombia_0_0",
         "1989-07-07",
         "Brazil",
         "Colombia",
         0,
         0,
         "Copa América",
         "Salvador",
         "Brazil",
         false
        ],
        [
         "1989-07-07_Paraguay_Venezuela_3_0",
         "1989-07-07",
         "Paraguay",
         "Venezuela",
         3,
         0,
         "Copa América",
         "Salvador",
         "Brazil",
         true
        ],
        [
         "1989-07-08_Bolivia_Chile_0_5",
         "1989-07-08",
         "Bolivia",
         "Chile",
         0,
         5,
         "Copa América",
         "Goiânia",
         "Brazil",
         true
        ],
        [
         "1989-07-08_Uruguay_Argentina_0_1",
         "1989-07-08",
         "Uruguay",
         "Argentina",
         0,
         1,
         "Copa América",
         "Goiânia",
         "Brazil",
         true
        ],
        [
         "1989-07-09_Brazil_Paraguay_2_0",
         "1989-07-09",
         "Brazil",
         "Paraguay",
         2,
         0,
         "Copa América",
         "Recife",
         "Brazil",
         false
        ],
        [
         "1989-07-09_Colombia_Peru_1_1",
         "1989-07-09",
         "Colombia",
         "Peru",
         1,
         1,
         "Copa América",
         "Recife",
         "Brazil",
         true
        ],
        [
         "1989-07-10_Argentina_Bolivia_0_0",
         "1989-07-10",
         "Argentina",
         "Bolivia",
         0,
         0,
         "Copa América",
         "Goiânia",
         "Brazil",
         true
        ],
        [
         "1989-07-10_Chile_Ecuador_2_1",
         "1989-07-10",
         "Chile",
         "Ecuador",
         2,
         1,
         "Copa América",
         "Goiânia",
         "Brazil",
         true
        ],
        [
         "1989-07-12_Brazil_Argentina_2_0",
         "1989-07-12",
         "Brazil",
         "Argentina",
         2,
         0,
         "Copa América",
         "Rio de Janeiro",
         "Brazil",
         false
        ],
        [
         "1989-07-12_Paraguay_Uruguay_0_3",
         "1989-07-12",
         "Paraguay",
         "Uruguay",
         0,
         3,
         "Copa América",
         "Rio de Janeiro",
         "Brazil",
         true
        ],
        [
         "1989-07-14_Argentina_Uruguay_0_2",
         "1989-07-14",
         "Argentina",
         "Uruguay",
         0,
         2,
         "Copa América",
         "Rio de Janeiro",
         "Brazil",
         true
        ],
        [
         "1989-07-14_Brazil_Paraguay_3_0",
         "1989-07-14",
         "Brazil",
         "Paraguay",
         3,
         0,
         "Copa América",
         "Rio de Janeiro",
         "Brazil",
         false
        ],
        [
         "1989-07-16_Brazil_Uruguay_1_0",
         "1989-07-16",
         "Brazil",
         "Uruguay",
         1,
         0,
         "Copa América",
         "Rio de Janeiro",
         "Brazil",
         false
        ],
        [
         "1989-07-16_Paraguay_Argentina_0_0",
         "1989-07-16",
         "Paraguay",
         "Argentina",
         0,
         0,
         "Copa América",
         "Rio de Janeiro",
         "Brazil",
         true
        ],
        [
         "1991-07-06_Chile_Venezuela_2_0",
         "1991-07-06",
         "Chile",
         "Venezuela",
         2,
         0,
         "Copa América",
         "Santiago",
         "Chile",
         false
        ],
        [
         "1991-07-06_Paraguay_Peru_1_0",
         "1991-07-06",
         "Paraguay",
         "Peru",
         1,
         0,
         "Copa América",
         "Santiago",
         "Chile",
         true
        ],
        [
         "1991-07-07_Bolivia_Uruguay_1_1",
         "1991-07-07",
         "Bolivia",
         "Uruguay",
         1,
         1,
         "Copa América",
         "Valparaíso",
         "Chile",
         true
        ],
        [
         "1991-07-07_Colombia_Ecuador_1_0",
         "1991-07-07",
         "Colombia",
         "Ecuador",
         1,
         0,
         "Copa América",
         "Valparaíso",
         "Chile",
         true
        ],
        [
         "1991-07-08_Argentina_Venezuela_3_0",
         "1991-07-08",
         "Argentina",
         "Venezuela",
         3,
         0,
         "Copa América",
         "Santiago",
         "Chile",
         true
        ],
        [
         "1991-07-08_Chile_Peru_4_2",
         "1991-07-08",
         "Chile",
         "Peru",
         4,
         2,
         "Copa América",
         "Concepción",
         "Chile",
         false
        ],
        [
         "1991-07-09_Bolivia_Brazil_1_2",
         "1991-07-09",
         "Bolivia",
         "Brazil",
         1,
         2,
         "Copa América",
         "Viña del Mar",
         "Chile",
         true
        ],
        [
         "1991-07-09_Ecuador_Uruguay_1_1",
         "1991-07-09",
         "Ecuador",
         "Uruguay",
         1,
         1,
         "Copa América",
         "Viña del Mar",
         "Chile",
         true
        ],
        [
         "1991-07-10_Chile_Argentina_0_1",
         "1991-07-10",
         "Chile",
         "Argentina",
         0,
         1,
         "Copa América",
         "Santiago",
         "Chile",
         false
        ],
        [
         "1991-07-10_Paraguay_Venezuela_5_0",
         "1991-07-10",
         "Paraguay",
         "Venezuela",
         5,
         0,
         "Copa América",
         "Santiago",
         "Chile",
         true
        ],
        [
         "1991-07-11_Bolivia_Colombia_0_0",
         "1991-07-11",
         "Bolivia",
         "Colombia",
         0,
         0,
         "Copa América",
         "Viña del Mar",
         "Chile",
         true
        ],
        [
         "1991-07-11_Brazil_Uruguay_1_1",
         "1991-07-11",
         "Brazil",
         "Uruguay",
         1,
         1,
         "Copa América",
         "Viña del Mar",
         "Chile",
         true
        ],
        [
         "1991-07-12_Argentina_Paraguay_4_1",
         "1991-07-12",
         "Argentina",
         "Paraguay",
         4,
         1,
         "Copa América",
         "Concepción",
         "Chile",
         true
        ],
        [
         "1991-07-12_Peru_Venezuela_5_1",
         "1991-07-12",
         "Peru",
         "Venezuela",
         5,
         1,
         "Copa América",
         "Santiago",
         "Chile",
         true
        ],
        [
         "1991-07-13_Bolivia_Ecuador_0_4",
         "1991-07-13",
         "Bolivia",
         "Ecuador",
         0,
         4,
         "Copa América",
         "Viña del Mar",
         "Chile",
         true
        ],
        [
         "1991-07-13_Brazil_Colombia_0_2",
         "1991-07-13",
         "Brazil",
         "Colombia",
         0,
         2,
         "Copa América",
         "Viña del Mar",
         "Chile",
         true
        ],
        [
         "1991-07-14_Argentina_Peru_3_2",
         "1991-07-14",
         "Argentina",
         "Peru",
         3,
         2,
         "Copa América",
         "Santiago",
         "Chile",
         true
        ],
        [
         "1991-07-14_Chile_Paraguay_4_0",
         "1991-07-14",
         "Chile",
         "Paraguay",
         4,
         0,
         "Copa América",
         "Santiago",
         "Chile",
         false
        ],
        [
         "1991-07-15_Brazil_Ecuador_3_1",
         "1991-07-15",
         "Brazil",
         "Ecuador",
         3,
         1,
         "Copa América",
         "Viña del Mar",
         "Chile",
         true
        ],
        [
         "1991-07-15_Colombia_Uruguay_0_1",
         "1991-07-15",
         "Colombia",
         "Uruguay",
         0,
         1,
         "Copa América",
         "Viña del Mar",
         "Chile",
         true
        ],
        [
         "1991-07-17_Argentina_Brazil_3_2",
         "1991-07-17",
         "Argentina",
         "Brazil",
         3,
         2,
         "Copa América",
         "Santiago",
         "Chile",
         true
        ],
        [
         "1991-07-17_Chile_Colombia_1_1",
         "1991-07-17",
         "Chile",
         "Colombia",
         1,
         1,
         "Copa América",
         "Santiago",
         "Chile",
         false
        ],
        [
         "1991-07-19_Brazil_Colombia_2_0",
         "1991-07-19",
         "Brazil",
         "Colombia",
         2,
         0,
         "Copa América",
         "Santiago",
         "Chile",
         true
        ],
        [
         "1991-07-19_Chile_Argentina_0_0",
         "1991-07-19",
         "Chile",
         "Argentina",
         0,
         0,
         "Copa América",
         "Santiago",
         "Chile",
         false
        ],
        [
         "1991-07-21_Argentina_Colombia_2_1",
         "1991-07-21",
         "Argentina",
         "Colombia",
         2,
         1,
         "Copa América",
         "Santiago",
         "Chile",
         true
        ],
        [
         "1991-07-21_Chile_Brazil_0_2",
         "1991-07-21",
         "Chile",
         "Brazil",
         0,
         2,
         "Copa América",
         "Santiago",
         "Chile",
         false
        ],
        [
         "1967-01-17_Uruguay_Bolivia_4_0",
         "1967-01-17",
         "Uruguay",
         "Bolivia",
         4,
         0,
         "Copa América",
         "Montevideo",
         "Uruguay",
         false
        ],
        [
         "1967-01-18_Argentina_Paraguay_4_1",
         "1967-01-18",
         "Argentina",
         "Paraguay",
         4,
         1,
         "Copa América",
         "Montevideo",
         "Uruguay",
         true
        ],
        [
         "1967-01-18_Chile_Venezuela_2_0",
         "1967-01-18",
         "Chile",
         "Venezuela",
         2,
         0,
         "Copa América",
         "Montevideo",
         "Uruguay",
         true
        ],
        [
         "1967-01-21_Uruguay_Venezuela_4_0",
         "1967-01-21",
         "Uruguay",
         "Venezuela",
         4,
         0,
         "Copa América",
         "Montevideo",
         "Uruguay",
         false
        ],
        [
         "1967-01-22_Bolivia_Argentina_0_1",
         "1967-01-22",
         "Bolivia",
         "Argentina",
         0,
         1,
         "Copa América",
         "Montevideo",
         "Uruguay",
         true
        ],
        [
         "1967-01-22_Chile_Paraguay_4_2",
         "1967-01-22",
         "Chile",
         "Paraguay",
         4,
         2,
         "Copa América",
         "Montevideo",
         "Uruguay",
         true
        ],
        [
         "1967-01-25_Argentina_Venezuela_5_1",
         "1967-01-25",
         "Argentina",
         "Venezuela",
         5,
         1,
         "Copa América",
         "Montevideo",
         "Uruguay",
         true
        ],
        [
         "1967-01-25_Paraguay_Bolivia_1_0",
         "1967-01-25",
         "Paraguay",
         "Bolivia",
         1,
         0,
         "Copa América",
         "Montevideo",
         "Uruguay",
         true
        ],
        [
         "1967-01-26_Uruguay_Chile_2_2",
         "1967-01-26",
         "Uruguay",
         "Chile",
         2,
         2,
         "Copa América",
         "Montevideo",
         "Uruguay",
         false
        ],
        [
         "1967-01-28_Argentina_Chile_2_0",
         "1967-01-28",
         "Argentina",
         "Chile",
         2,
         0,
         "Copa América",
         "Montevideo",
         "Uruguay",
         true
        ],
        [
         "1967-01-28_Bolivia_Venezuela_0_3",
         "1967-01-28",
         "Bolivia",
         "Venezuela",
         0,
         3,
         "Copa América",
         "Montevideo",
         "Uruguay",
         true
        ],
        [
         "1967-01-29_Uruguay_Paraguay_2_0",
         "1967-01-29",
         "Uruguay",
         "Paraguay",
         2,
         0,
         "Copa América",
         "Montevideo",
         "Uruguay",
         false
        ],
        [
         "1967-02-01_Bolivia_Chile_0_0",
         "1967-02-01",
         "Bolivia",
         "Chile",
         0,
         0,
         "Copa América",
         "Montevideo",
         "Uruguay",
         true
        ],
        [
         "1967-02-01_Venezuela_Paraguay_3_5",
         "1967-02-01",
         "Venezuela",
         "Paraguay",
         3,
         5,
         "Copa América",
         "Montevideo",
         "Uruguay",
         true
        ],
        [
         "1967-02-02_Uruguay_Argentina_1_0",
         "1967-02-02",
         "Uruguay",
         "Argentina",
         1,
         0,
         "Copa América",
         "Montevideo",
         "Uruguay",
         false
        ],
        [
         "1975-07-17_Chile_Peru_1_1",
         "1975-07-17",
         "Chile",
         "Peru",
         1,
         1,
         "Copa América",
         "Santiago",
         "Chile",
         false
        ],
        [
         "1975-07-20_Bolivia_Chile_2_1",
         "1975-07-20",
         "Bolivia",
         "Chile",
         2,
         1,
         "Copa América",
         "Oruro",
         "Bolivia",
         false
        ],
        [
         "1975-07-20_Colombia_Paraguay_1_0",
         "1975-07-20",
         "Colombia",
         "Paraguay",
         1,
         0,
         "Copa América",
         "Bogotá",
         "Colombia",
         false
        ],
        [
         "1975-07-24_Ecuador_Paraguay_2_2",
         "1975-07-24",
         "Ecuador",
         "Paraguay",
         2,
         2,
         "Copa América",
         "Guayaquil",
         "Ecuador",
         false
        ],
        [
         "1975-07-27_Bolivia_Peru_0_1",
         "1975-07-27",
         "Bolivia",
         "Peru",
         0,
         1,
         "Copa América",
         "Oruro",
         "Bolivia",
         false
        ],
        [
         "1975-07-27_Ecuador_Colombia_1_3",
         "1975-07-27",
         "Ecuador",
         "Colombia",
         1,
         3,
         "Copa América",
         "Quito",
         "Ecuador",
         false
        ],
        [
         "1975-07-30_Paraguay_Colombia_0_1",
         "1975-07-30",
         "Paraguay",
         "Colombia",
         0,
         1,
         "Copa América",
         "Asunción",
         "Paraguay",
         false
        ],
        [
         "1975-07-31_Venezuela_Brazil_0_4",
         "1975-07-31",
         "Venezuela",
         "Brazil",
         0,
         4,
         "Copa América",
         "Caracas",
         "Venezuela",
         false
        ],
        [
         "1975-08-03_Venezuela_Argentina_1_5",
         "1975-08-03",
         "Venezuela",
         "Argentina",
         1,
         5,
         "Copa América",
         "Caracas",
         "Venezuela",
         false
        ],
        [
         "1975-08-06_Brazil_Argentina_2_1",
         "1975-08-06",
         "Brazil",
         "Argentina",
         2,
         1,
         "Copa América",
         "Belo Horizonte",
         "Brazil",
         false
        ],
        [
         "1975-08-07_Colombia_Ecuador_2_0",
         "1975-08-07",
         "Colombia",
         "Ecuador",
         2,
         0,
         "Copa América",
         "Bogotá",
         "Colombia",
         false
        ],
        [
         "1975-08-07_Peru_Bolivia_3_1",
         "1975-08-07",
         "Peru",
         "Bolivia",
         3,
         1,
         "Copa América",
         "Lima",
         "Peru",
         false
        ],
        [
         "1975-08-10_Argentina_Venezuela_11_0",
         "1975-08-10",
         "Argentina",
         "Venezuela",
         11,
         0,
         "Copa América",
         "Rosario",
         "Argentina",
         false
        ],
        [
         "1975-08-10_Paraguay_Ecuador_3_1",
         "1975-08-10",
         "Paraguay",
         "Ecuador",
         3,
         1,
         "Copa América",
         "Asunción",
         "Paraguay",
         false
        ],
        [
         "1975-08-13_Brazil_Venezuela_6_0",
         "1975-08-13",
         "Brazil",
         "Venezuela",
         6,
         0,
         "Copa América",
         "Belo Horizonte",
         "Brazil",
         false
        ],
        [
         "1975-08-13_Chile_Bolivia_4_0",
         "1975-08-13",
         "Chile",
         "Bolivia",
         4,
         0,
         "Copa América",
         "Santiago",
         "Chile",
         false
        ],
        [
         "1975-08-16_Argentina_Brazil_0_1",
         "1975-08-16",
         "Argentina",
         "Brazil",
         0,
         1,
         "Copa América",
         "Rosario",
         "Argentina",
         false
        ],
        [
         "1975-08-20_Peru_Chile_3_1",
         "1975-08-20",
         "Peru",
         "Chile",
         3,
         1,
         "Copa América",
         "Lima",
         "Peru",
         false
        ],
        [
         "1975-09-21_Colombia_Uruguay_3_0",
         "1975-09-21",
         "Colombia",
         "Uruguay",
         3,
         0,
         "Copa América",
         "Bogotá",
         "Colombia",
         false
        ],
        [
         "1975-09-30_Brazil_Peru_1_3",
         "1975-09-30",
         "Brazil",
         "Peru",
         1,
         3,
         "Copa América",
         "Belo Horizonte",
         "Brazil",
         false
        ],
        [
         "1975-10-01_Uruguay_Colombia_1_0",
         "1975-10-01",
         "Uruguay",
         "Colombia",
         1,
         0,
         "Copa América",
         "Montevideo",
         "Uruguay",
         false
        ],
        [
         "1975-10-04_Peru_Brazil_0_2",
         "1975-10-04",
         "Peru",
         "Brazil",
         0,
         2,
         "Copa América",
         "Lima",
         "Peru",
         false
        ],
        [
         "1975-10-16_Colombia_Peru_1_0",
         "1975-10-16",
         "Colombia",
         "Peru",
         1,
         0,
         "Copa América",
         "Bogotá",
         "Colombia",
         false
        ],
        [
         "1975-10-22_Peru_Colombia_2_0",
         "1975-10-22",
         "Peru",
         "Colombia",
         2,
         0,
         "Copa América",
         "Lima",
         "Peru",
         false
        ],
        [
         "1975-10-28_Colombia_Peru_0_1",
         "1975-10-28",
         "Colombia",
         "Peru",
         0,
         1,
         "Copa América",
         "Caracas",
         "Venezuela",
         true
        ],
        [
         "1979-07-18_Bolivia_Argentina_2_1",
         "1979-07-18",
         "Bolivia",
         "Argentina",
         2,
         1,
         "Copa América",
         "La Paz",
         "Bolivia",
         false
        ],
        [
         "1979-07-26_Bolivia_Brazil_2_1",
         "1979-07-26",
         "Bolivia",
         "Brazil",
         2,
         1,
         "Copa América",
         "La Paz",
         "Bolivia",
         false
        ],
        [
         "1979-08-01_Venezuela_Colombia_0_0",
         "1979-08-01",
         "Venezuela",
         "Colombia",
         0,
         0,
         "Copa América",
         "San Cristóbal",
         "Venezuela",
         false
        ],
        [
         "1979-08-02_Brazil_Argentina_2_1",
         "1979-08-02",
         "Brazil",
         "Argentina",
         2,
         1,
         "Copa América",
         "Rio de Janeiro",
         "Brazil",
         false
        ],
        [
         "1979-08-08_Argentina_Bolivia_3_0",
         "1979-08-08",
         "Argentina",
         "Bolivia",
         3,
         0,
         "Copa América",
         "Buenos Aires",
         "Argentina",
         false
        ],
        [
         "1979-08-08_Venezuela_Chile_1_1",
         "1979-08-08",
         "Venezuela",
         "Chile",
         1,
         1,
         "Copa América",
         "San Cristóbal",
         "Venezuela",
         false
        ],
        [
         "1979-08-15_Colombia_Chile_1_0",
         "1979-08-15",
         "Colombia",
         "Chile",
         1,
         0,
         "Copa América",
         "Bogotá",
         "Colombia",
         false
        ],
        [
         "1979-08-16_Brazil_Bolivia_2_0",
         "1979-08-16",
         "Brazil",
         "Bolivia",
         2,
         0,
         "Copa América",
         "São Paulo",
         "Brazil",
         false
        ],
        [
         "1979-08-22_Colombia_Venezuela_4_0",
         "1979-08-22",
         "Colombia",
         "Venezuela",
         4,
         0,
         "Copa América",
         "Bogotá",
         "Colombia",
         false
        ],
        [
         "1979-08-23_Argentina_Brazil_2_2",
         "1979-08-23",
         "Argentina",
         "Brazil",
         2,
         2,
         "Copa América",
         "Buenos Aires",
         "Argentina",
         false
        ],
        [
         "1979-08-29_Chile_Venezuela_7_0",
         "1979-08-29",
         "Chile",
         "Venezuela",
         7,
         0,
         "Copa América",
         "Santiago",
         "Chile",
         false
        ],
        [
         "1979-08-29_Ecuador_Paraguay_1_2",
         "1979-08-29",
         "Ecuador",
         "Paraguay",
         1,
         2,
         "Copa América",
         "Quito",
         "Ecuador",
         false
        ],
        [
         "1979-09-05_Chile_Colombia_2_0",
         "1979-09-05",
         "Chile",
         "Colombia",
         2,
         0,
         "Copa América",
         "Santiago",
         "Chile",
         false
        ],
        [
         "1979-09-05_Ecuador_Uruguay_2_1",
         "1979-09-05",
         "Ecuador",
         "Uruguay",
         2,
         1,
         "Copa América",
         "Quito",
         "Ecuador",
         false
        ],
        [
         "1979-09-13_Paraguay_Ecuador_2_0",
         "1979-09-13",
         "Paraguay",
         "Ecuador",
         2,
         0,
         "Copa América",
         "Asunción",
         "Paraguay",
         false
        ],
        [
         "1979-09-16_Uruguay_Ecuador_2_1",
         "1979-09-16",
         "Uruguay",
         "Ecuador",
         2,
         1,
         "Copa América",
         "Montevideo",
         "Uruguay",
         false
        ],
        [
         "1979-09-20_Paraguay_Uruguay_0_0",
         "1979-09-20",
         "Paraguay",
         "Uruguay",
         0,
         0,
         "Copa América",
         "Asunción",
         "Paraguay",
         false
        ],
        [
         "1979-09-26_Uruguay_Paraguay_2_2",
         "1979-09-26",
         "Uruguay",
         "Paraguay",
         2,
         2,
         "Copa América",
         "Montevideo",
         "Uruguay",
         false
        ],
        [
         "1979-10-17_Peru_Chile_1_2",
         "1979-10-17",
         "Peru",
         "Chile",
         1,
         2,
         "Copa América",
         "Lima",
         "Peru",
         false
        ],
        [
         "1979-10-24_Chile_Peru_0_0",
         "1979-10-24",
         "Chile",
         "Peru",
         0,
         0,
         "Copa América",
         "Santiago",
         "Chile",
         false
        ],
        [
         "1979-10-24_Paraguay_Brazil_2_1",
         "1979-10-24",
         "Paraguay",
         "Brazil",
         2,
         1,
         "Copa América",
         "Asunción",
         "Paraguay",
         false
        ],
        [
         "1979-10-31_Brazil_Paraguay_2_2",
         "1979-10-31",
         "Brazil",
         "Paraguay",
         2,
         2,
         "Copa América",
         "Rio de Janeiro",
         "Brazil",
         false
        ],
        [
         "2007-06-26_Uruguay_Peru_0_3",
         "2007-06-26",
         "Uruguay",
         "Peru",
         0,
         3,
         "Copa América",
         "Mérida",
         "Venezuela",
         true
        ],
        [
         "2007-06-26_Venezuela_Bolivia_2_2",
         "2007-06-26",
         "Venezuela",
         "Bolivia",
         2,
         2,
         "Copa América",
         "San Cristóbal",
         "Venezuela",
         false
        ],
        [
         "2007-06-27_Brazil_Mexico_0_2",
         "2007-06-27",
         "Brazil",
         "Mexico",
         0,
         2,
         "Copa América",
         "Puerto Ordaz",
         "Venezuela",
         true
        ],
        [
         "2007-06-27_Ecuador_Chile_2_3",
         "2007-06-27",
         "Ecuador",
         "Chile",
         2,
         3,
         "Copa América",
         "Puerto Ordaz",
         "Venezuela",
         true
        ],
        [
         "2007-06-28_Argentina_United States_4_1",
         "2007-06-28",
         "Argentina",
         "United States",
         4,
         1,
         "Copa América",
         "Maracaibo",
         "Venezuela",
         true
        ],
        [
         "2007-06-28_Paraguay_Colombia_5_0",
         "2007-06-28",
         "Paraguay",
         "Colombia",
         5,
         0,
         "Copa América",
         "Barinas",
         "Venezuela",
         true
        ],
        [
         "2007-06-30_Bolivia_Uruguay_0_1",
         "2007-06-30",
         "Bolivia",
         "Uruguay",
         0,
         1,
         "Copa América",
         "San Cristóbal",
         "Venezuela",
         true
        ],
        [
         "2007-06-30_Venezuela_Peru_2_0",
         "2007-06-30",
         "Venezuela",
         "Peru",
         2,
         0,
         "Copa América",
         "San Cristóbal",
         "Venezuela",
         false
        ],
        [
         "2007-07-01_Brazil_Chile_3_0",
         "2007-07-01",
         "Brazil",
         "Chile",
         3,
         0,
         "Copa América",
         "Maturín",
         "Venezuela",
         true
        ],
        [
         "2007-07-01_Mexico_Ecuador_2_1",
         "2007-07-01",
         "Mexico",
         "Ecuador",
         2,
         1,
         "Copa América",
         "Maturín",
         "Venezuela",
         true
        ],
        [
         "2007-07-02_Argentina_Colombia_4_2",
         "2007-07-02",
         "Argentina",
         "Colombia",
         4,
         2,
         "Copa América",
         "Maracaibo",
         "Venezuela",
         true
        ],
        [
         "2007-07-02_United States_Paraguay_1_3",
         "2007-07-02",
         "United States",
         "Paraguay",
         1,
         3,
         "Copa América",
         "Barinas",
         "Venezuela",
         true
        ],
        [
         "2007-07-03_Peru_Bolivia_2_2",
         "2007-07-03",
         "Peru",
         "Bolivia",
         2,
         2,
         "Copa América",
         "Mérida",
         "Venezuela",
         true
        ],
        [
         "2007-07-03_Venezuela_Uruguay_0_0",
         "2007-07-03",
         "Venezuela",
         "Uruguay",
         0,
         0,
         "Copa América",
         "Mérida",
         "Venezuela",
         false
        ],
        [
         "2007-07-04_Brazil_Ecuador_1_0",
         "2007-07-04",
         "Brazil",
         "Ecuador",
         1,
         0,
         "Copa América",
         "Puerto la Cruz",
         "Venezuela",
         true
        ],
        [
         "2007-07-04_Mexico_Chile_0_0",
         "2007-07-04",
         "Mexico",
         "Chile",
         0,
         0,
         "Copa América",
         "Puerto la Cruz",
         "Venezuela",
         true
        ],
        [
         "2007-07-05_Argentina_Paraguay_1_0",
         "2007-07-05",
         "Argentina",
         "Paraguay",
         1,
         0,
         "Copa América",
         "Barquisimeto",
         "Venezuela",
         true
        ],
        [
         "2007-07-05_Colombia_United States_1_0",
         "2007-07-05",
         "Colombia",
         "United States",
         1,
         0,
         "Copa América",
         "Barquisimeto",
         "Venezuela",
         true
        ],
        [
         "2007-07-07_Chile_Brazil_1_6",
         "2007-07-07",
         "Chile",
         "Brazil",
         1,
         6,
         "Copa América",
         "Puerto la Cruz",
         "Venezuela",
         true
        ],
        [
         "2007-07-07_Venezuela_Uruguay_1_4",
         "2007-07-07",
         "Venezuela",
         "Uruguay",
         1,
         4,
         "Copa América",
         "San Cristóbal",
         "Venezuela",
         false
        ],
        [
         "2007-07-08_Argentina_Peru_4_0",
         "2007-07-08",
         "Argentina",
         "Peru",
         4,
         0,
         "Copa América",
         "Barquisimeto",
         "Venezuela",
         true
        ],
        [
         "2007-07-08_Mexico_Paraguay_6_0",
         "2007-07-08",
         "Mexico",
         "Paraguay",
         6,
         0,
         "Copa América",
         "Maturín",
         "Venezuela",
         true
        ],
        [
         "2007-07-10_Uruguay_Brazil_2_2",
         "2007-07-10",
         "Uruguay",
         "Brazil",
         2,
         2,
         "Copa América",
         "Maracaibo",
         "Venezuela",
         true
        ],
        [
         "2007-07-11_Mexico_Argentina_0_3",
         "2007-07-11",
         "Mexico",
         "Argentina",
         0,
         3,
         "Copa América",
         "Puerto Ordaz",
         "Venezuela",
         true
        ],
        [
         "2007-07-14_Mexico_Uruguay_3_1",
         "2007-07-14",
         "Mexico",
         "Uruguay",
         3,
         1,
         "Copa América",
         "Caracas",
         "Venezuela",
         true
        ],
        [
         "2007-07-15_Brazil_Argentina_3_0",
         "2007-07-15",
         "Brazil",
         "Argentina",
         3,
         0,
         "Copa América",
         "Maracaibo",
         "Venezuela",
         true
        ],
        [
         "2011-07-01_Argentina_Bolivia_1_1",
         "2011-07-01",
         "Argentina",
         "Bolivia",
         1,
         1,
         "Copa América",
         "La Plata",
         "Argentina",
         false
        ],
        [
         "2011-07-02_Colombia_Costa Rica_1_0",
         "2011-07-02",
         "Colombia",
         "Costa Rica",
         1,
         0,
         "Copa América",
         "San Salvador de Jujuy",
         "Argentina",
         true
        ],
        [
         "2011-07-03_Brazil_Venezuela_0_0",
         "2011-07-03",
         "Brazil",
         "Venezuela",
         0,
         0,
         "Copa América",
         "La Plata",
         "Argentina",
         true
        ],
        [
         "2011-07-03_Paraguay_Ecuador_0_0",
         "2011-07-03",
         "Paraguay",
         "Ecuador",
         0,
         0,
         "Copa América",
         "Santa Fe",
         "Argentina",
         true
        ],
        [
         "2011-07-04_Chile_Mexico_2_1",
         "2011-07-04",
         "Chile",
         "Mexico",
         2,
         1,
         "Copa América",
         "San Juan",
         "Argentina",
         true
        ],
        [
         "2011-07-04_Uruguay_Peru_1_1",
         "2011-07-04",
         "Uruguay",
         "Peru",
         1,
         1,
         "Copa América",
         "San Juan",
         "Argentina",
         true
        ],
        [
         "2011-07-06_Argentina_Colombia_0_0",
         "2011-07-06",
         "Argentina",
         "Colombia",
         0,
         0,
         "Copa América",
         "Santa Fe",
         "Argentina",
         false
        ],
        [
         "2011-07-07_Bolivia_Costa Rica_0_2",
         "2011-07-07",
         "Bolivia",
         "Costa Rica",
         0,
         2,
         "Copa América",
         "San Salvador de Jujuy",
         "Argentina",
         true
        ],
        [
         "2011-07-08_Peru_Mexico_1_0",
         "2011-07-08",
         "Peru",
         "Mexico",
         1,
         0,
         "Copa América",
         "Mendoza",
         "Argentina",
         true
        ],
        [
         "2011-07-08_Uruguay_Chile_1_1",
         "2011-07-08",
         "Uruguay",
         "Chile",
         1,
         1,
         "Copa América",
         "Mendoza",
         "Argentina",
         true
        ],
        [
         "2011-07-09_Brazil_Paraguay_2_2",
         "2011-07-09",
         "Brazil",
         "Paraguay",
         2,
         2,
         "Copa América",
         "Córdoba",
         "Argentina",
         true
        ],
        [
         "2011-07-09_Venezuela_Ecuador_1_0",
         "2011-07-09",
         "Venezuela",
         "Ecuador",
         1,
         0,
         "Copa América",
         "Salta",
         "Argentina",
         true
        ],
        [
         "2011-07-10_Colombia_Bolivia_2_0",
         "2011-07-10",
         "Colombia",
         "Bolivia",
         2,
         0,
         "Copa América",
         "Santa Fe",
         "Argentina",
         true
        ],
        [
         "2011-07-11_Argentina_Costa Rica_3_0",
         "2011-07-11",
         "Argentina",
         "Costa Rica",
         3,
         0,
         "Copa América",
         "Córdoba",
         "Argentina",
         false
        ],
        [
         "2011-07-12_Chile_Peru_1_0",
         "2011-07-12",
         "Chile",
         "Peru",
         1,
         0,
         "Copa América",
         "Mendoza",
         "Argentina",
         true
        ],
        [
         "2011-07-12_Uruguay_Mexico_1_0",
         "2011-07-12",
         "Uruguay",
         "Mexico",
         1,
         0,
         "Copa América",
         "La Plata",
         "Argentina",
         true
        ],
        [
         "2011-07-13_Brazil_Ecuador_4_2",
         "2011-07-13",
         "Brazil",
         "Ecuador",
         4,
         2,
         "Copa América",
         "Córdoba",
         "Argentina",
         true
        ],
        [
         "2011-07-13_Paraguay_Venezuela_3_3",
         "2011-07-13",
         "Paraguay",
         "Venezuela",
         3,
         3,
         "Copa América",
         "Salta",
         "Argentina",
         true
        ],
        [
         "2011-07-16_Argentina_Uruguay_1_1",
         "2011-07-16",
         "Argentina",
         "Uruguay",
         1,
         1,
         "Copa América",
         "Santa Fe",
         "Argentina",
         false
        ],
        [
         "2011-07-16_Colombia_Peru_0_2",
         "2011-07-16",
         "Colombia",
         "Peru",
         0,
         2,
         "Copa América",
         "Córdoba",
         "Argentina",
         true
        ],
        [
         "2011-07-17_Brazil_Paraguay_0_0",
         "2011-07-17",
         "Brazil",
         "Paraguay",
         0,
         0,
         "Copa América",
         "La Plata",
         "Argentina",
         true
        ],
        [
         "2011-07-17_Chile_Venezuela_1_2",
         "2011-07-17",
         "Chile",
         "Venezuela",
         1,
         2,
         "Copa América",
         "San Juan",
         "Argentina",
         true
        ],
        [
         "2011-07-19_Peru_Uruguay_0_2",
         "2011-07-19",
         "Peru",
         "Uruguay",
         0,
         2,
         "Copa América",
         "La Plata",
         "Argentina",
         true
        ],
        [
         "2011-07-20_Paraguay_Venezuela_0_0",
         "2011-07-20",
         "Paraguay",
         "Venezuela",
         0,
         0,
         "Copa América",
         "Mendoza",
         "Argentina",
         true
        ],
        [
         "2011-07-23_Peru_Venezuela_4_1",
         "2011-07-23",
         "Peru",
         "Venezuela",
         4,
         1,
         "Copa América",
         "La Plata",
         "Argentina",
         true
        ],
        [
         "2011-07-24_Uruguay_Paraguay_3_0",
         "2011-07-24",
         "Uruguay",
         "Paraguay",
         3,
         0,
         "Copa América",
         "Buenos Aires",
         "Argentina",
         true
        ],
        [
         "2015-06-11_Chile_Ecuador_2_0",
         "2015-06-11",
         "Chile",
         "Ecuador",
         2,
         0,
         "Copa América",
         "Santiago",
         "Chile",
         false
        ],
        [
         "2015-06-12_Mexico_Bolivia_0_0",
         "2015-06-12",
         "Mexico",
         "Bolivia",
         0,
         0,
         "Copa América",
         "Viña del Mar",
         "Chile",
         true
        ],
        [
         "2015-06-13_Argentina_Paraguay_2_2",
         "2015-06-13",
         "Argentina",
         "Paraguay",
         2,
         2,
         "Copa América",
         "La Serena",
         "Chile",
         true
        ],
        [
         "2015-06-13_Uruguay_Jamaica_1_0",
         "2015-06-13",
         "Uruguay",
         "Jamaica",
         1,
         0,
         "Copa América",
         "Antofagasta",
         "Chile",
         true
        ],
        [
         "2015-06-14_Brazil_Peru_2_1",
         "2015-06-14",
         "Brazil",
         "Peru",
         2,
         1,
         "Copa América",
         "Temuco",
         "Chile",
         true
        ],
        [
         "2015-06-14_Colombia_Venezuela_0_1",
         "2015-06-14",
         "Colombia",
         "Venezuela",
         0,
         1,
         "Copa América",
         "Rancagua",
         "Chile",
         true
        ],
        [
         "2015-06-15_Chile_Mexico_3_3",
         "2015-06-15",
         "Chile",
         "Mexico",
         3,
         3,
         "Copa América",
         "Santiago",
         "Chile",
         false
        ],
        [
         "2015-06-15_Ecuador_Bolivia_2_3",
         "2015-06-15",
         "Ecuador",
         "Bolivia",
         2,
         3,
         "Copa América",
         "Valparaíso",
         "Chile",
         true
        ],
        [
         "2015-06-16_Argentina_Uruguay_1_0",
         "2015-06-16",
         "Argentina",
         "Uruguay",
         1,
         0,
         "Copa América",
         "La Serena",
         "Chile",
         true
        ],
        [
         "2015-06-16_Paraguay_Jamaica_1_0",
         "2015-06-16",
         "Paraguay",
         "Jamaica",
         1,
         0,
         "Copa América",
         "Antofagasta",
         "Chile",
         true
        ],
        [
         "2015-06-17_Brazil_Colombia_0_1",
         "2015-06-17",
         "Brazil",
         "Colombia",
         0,
         1,
         "Copa América",
         "Santiago",
         "Chile",
         true
        ],
        [
         "2015-06-18_Peru_Venezuela_1_0",
         "2015-06-18",
         "Peru",
         "Venezuela",
         1,
         0,
         "Copa América",
         "Valparaíso",
         "Chile",
         true
        ],
        [
         "2015-06-19_Chile_Bolivia_5_0",
         "2015-06-19",
         "Chile",
         "Bolivia",
         5,
         0,
         "Copa América",
         "Santiago",
         "Chile",
         false
        ],
        [
         "2015-06-19_Mexico_Ecuador_1_2",
         "2015-06-19",
         "Mexico",
         "Ecuador",
         1,
         2,
         "Copa América",
         "Rancagua",
         "Chile",
         true
        ],
        [
         "2015-06-20_Argentina_Jamaica_1_0",
         "2015-06-20",
         "Argentina",
         "Jamaica",
         1,
         0,
         "Copa América",
         "Viña del Mar",
         "Chile",
         true
        ],
        [
         "2015-06-20_Uruguay_Paraguay_1_1",
         "2015-06-20",
         "Uruguay",
         "Paraguay",
         1,
         1,
         "Copa América",
         "La Serena",
         "Chile",
         true
        ],
        [
         "2015-06-21_Brazil_Venezuela_2_1",
         "2015-06-21",
         "Brazil",
         "Venezuela",
         2,
         1,
         "Copa América",
         "Santiago",
         "Chile",
         true
        ],
        [
         "2015-06-21_Colombia_Peru_0_0",
         "2015-06-21",
         "Colombia",
         "Peru",
         0,
         0,
         "Copa América",
         "Temuco",
         "Chile",
         true
        ],
        [
         "2015-06-24_Chile_Uruguay_1_0",
         "2015-06-24",
         "Chile",
         "Uruguay",
         1,
         0,
         "Copa América",
         "Santiago",
         "Chile",
         false
        ],
        [
         "2015-06-25_Bolivia_Peru_1_3",
         "2015-06-25",
         "Bolivia",
         "Peru",
         1,
         3,
         "Copa América",
         "Temuco",
         "Chile",
         true
        ],
        [
         "2015-06-26_Argentina_Colombia_0_0",
         "2015-06-26",
         "Argentina",
         "Colombia",
         0,
         0,
         "Copa América",
         "Viña del Mar",
         "Chile",
         true
        ],
        [
         "2015-06-27_Brazil_Paraguay_1_1",
         "2015-06-27",
         "Brazil",
         "Paraguay",
         1,
         1,
         "Copa América",
         "Concepción",
         "Chile",
         true
        ],
        [
         "2015-06-29_Chile_Peru_2_1",
         "2015-06-29",
         "Chile",
         "Peru",
         2,
         1,
         "Copa América",
         "Santiago",
         "Chile",
         false
        ],
        [
         "2015-06-30_Argentina_Paraguay_6_1",
         "2015-06-30",
         "Argentina",
         "Paraguay",
         6,
         1,
         "Copa América",
         "Concepción",
         "Chile",
         true
        ],
        [
         "2015-07-03_Peru_Paraguay_2_0",
         "2015-07-03",
         "Peru",
         "Paraguay",
         2,
         0,
         "Copa América",
         "Concepción",
         "Chile",
         true
        ],
        [
         "2015-07-04_Chile_Argentina_0_0",
         "2015-07-04",
         "Chile",
         "Argentina",
         0,
         0,
         "Copa América",
         "Santiago",
         "Chile",
         false
        ],
        [
         "2016-06-03_United States_Colombia_0_2",
         "2016-06-03",
         "United States",
         "Colombia",
         0,
         2,
         "Copa América",
         "Santa Clara",
         "United States",
         false
        ],
        [
         "2016-06-04_Brazil_Ecuador_0_0",
         "2016-06-04",
         "Brazil",
         "Ecuador",
         0,
         0,
         "Copa América",
         "Pasadena",
         "United States",
         true
        ],
        [
         "2016-06-04_Costa Rica_Paraguay_0_0",
         "2016-06-04",
         "Costa Rica",
         "Paraguay",
         0,
         0,
         "Copa América",
         "Orlando",
         "United States",
         true
        ],
        [
         "2016-06-04_Haiti_Peru_0_1",
         "2016-06-04",
         "Haiti",
         "Peru",
         0,
         1,
         "Copa América",
         "Seattle",
         "United States",
         true
        ],
        [
         "2016-06-05_Jamaica_Venezuela_0_1",
         "2016-06-05",
         "Jamaica",
         "Venezuela",
         0,
         1,
         "Copa América",
         "Chicago",
         "United States",
         true
        ],
        [
         "2016-06-05_Mexico_Uruguay_3_1",
         "2016-06-05",
         "Mexico",
         "Uruguay",
         3,
         1,
         "Copa América",
         "Glendale",
         "United States",
         true
        ],
        [
         "2016-06-06_Argentina_Chile_2_1",
         "2016-06-06",
         "Argentina",
         "Chile",
         2,
         1,
         "Copa América",
         "Santa Clara",
         "United States",
         true
        ],
        [
         "2016-06-06_Panama_Bolivia_2_1",
         "2016-06-06",
         "Panama",
         "Bolivia",
         2,
         1,
         "Copa América",
         "Orlando",
         "United States",
         true
        ],
        [
         "2016-06-07_Colombia_Paraguay_2_1",
         "2016-06-07",
         "Colombia",
         "Paraguay",
         2,
         1,
         "Copa América",
         "Pasadena",
         "United States",
         true
        ],
        [
         "2016-06-07_United States_Costa Rica_4_0",
         "2016-06-07",
         "United States",
         "Costa Rica",
         4,
         0,
         "Copa América",
         "Chicago",
         "United States",
         false
        ],
        [
         "2016-06-08_Brazil_Haiti_7_1",
         "2016-06-08",
         "Brazil",
         "Haiti",
         7,
         1,
         "Copa América",
         "Orlando",
         "United States",
         true
        ],
        [
         "2016-06-08_Ecuador_Peru_2_2",
         "2016-06-08",
         "Ecuador",
         "Peru",
         2,
         2,
         "Copa América",
         "Glendale",
         "United States",
         true
        ],
        [
         "2016-06-09_Mexico_Jamaica_2_0",
         "2016-06-09",
         "Mexico",
         "Jamaica",
         2,
         0,
         "Copa América",
         "Pasadena",
         "United States",
         true
        ],
        [
         "2016-06-09_Uruguay_Venezuela_0_1",
         "2016-06-09",
         "Uruguay",
         "Venezuela",
         0,
         1,
         "Copa América",
         "Philadelphia",
         "United States",
         true
        ],
        [
         "2016-06-10_Argentina_Panama_5_0",
         "2016-06-10",
         "Argentina",
         "Panama",
         5,
         0,
         "Copa América",
         "Chicago",
         "United States",
         true
        ],
        [
         "2016-06-10_Chile_Bolivia_2_1",
         "2016-06-10",
         "Chile",
         "Bolivia",
         2,
         1,
         "Copa América",
         "Foxborough",
         "United States",
         true
        ],
        [
         "2016-06-11_Colombia_Costa Rica_2_3",
         "2016-06-11",
         "Colombia",
         "Costa Rica",
         2,
         3,
         "Copa América",
         "Houston",
         "United States",
         true
        ],
        [
         "2016-06-11_United States_Paraguay_1_0",
         "2016-06-11",
         "United States",
         "Paraguay",
         1,
         0,
         "Copa América",
         "Philadelphia",
         "United States",
         false
        ],
        [
         "2016-06-12_Brazil_Peru_0_1",
         "2016-06-12",
         "Brazil",
         "Peru",
         0,
         1,
         "Copa América",
         "Foxborough",
         "United States",
         true
        ],
        [
         "2016-06-12_Ecuador_Haiti_4_0",
         "2016-06-12",
         "Ecuador",
         "Haiti",
         4,
         0,
         "Copa América",
         "East Rutherford",
         "United States",
         true
        ],
        [
         "2016-06-13_Mexico_Venezuela_1_1",
         "2016-06-13",
         "Mexico",
         "Venezuela",
         1,
         1,
         "Copa América",
         "Houston",
         "United States",
         true
        ],
        [
         "2016-06-13_Uruguay_Jamaica_3_0",
         "2016-06-13",
         "Uruguay",
         "Jamaica",
         3,
         0,
         "Copa América",
         "Santa Clara",
         "United States",
         true
        ],
        [
         "2016-06-14_Argentina_Bolivia_3_0",
         "2016-06-14",
         "Argentina",
         "Bolivia",
         3,
         0,
         "Copa América",
         "Seattle",
         "United States",
         true
        ],
        [
         "2016-06-14_Chile_Panama_4_2",
         "2016-06-14",
         "Chile",
         "Panama",
         4,
         2,
         "Copa América",
         "Philadelphia",
         "United States",
         true
        ],
        [
         "2016-06-16_United States_Ecuador_2_1",
         "2016-06-16",
         "United States",
         "Ecuador",
         2,
         1,
         "Copa América",
         "Seattle",
         "United States",
         false
        ],
        [
         "2016-06-17_Peru_Colombia_0_0",
         "2016-06-17",
         "Peru",
         "Colombia",
         0,
         0,
         "Copa América",
         "East Rutherford",
         "United States",
         true
        ],
        [
         "2016-06-18_Argentina_Venezuela_4_1",
         "2016-06-18",
         "Argentina",
         "Venezuela",
         4,
         1,
         "Copa América",
         "Foxborough",
         "United States",
         true
        ],
        [
         "2016-06-18_Mexico_Chile_0_7",
         "2016-06-18",
         "Mexico",
         "Chile",
         0,
         7,
         "Copa América",
         "Santa Clara",
         "United States",
         true
        ],
        [
         "2016-06-21_United States_Argentina_0_4",
         "2016-06-21",
         "United States",
         "Argentina",
         0,
         4,
         "Copa América",
         "Houston",
         "United States",
         false
        ],
        [
         "2016-06-22_Colombia_Chile_0_2",
         "2016-06-22",
         "Colombia",
         "Chile",
         0,
         2,
         "Copa América",
         "Chicago",
         "United States",
         true
        ],
        [
         "2016-06-25_United States_Colombia_0_1",
         "2016-06-25",
         "United States",
         "Colombia",
         0,
         1,
         "Copa América",
         "Glendale",
         "United States",
         false
        ],
        [
         "2016-06-26_Argentina_Chile_0_0",
         "2016-06-26",
         "Argentina",
         "Chile",
         0,
         0,
         "Copa América",
         "East Rutherford",
         "United States",
         true
        ],
        [
         "2001-07-11_Colombia_Venezuela_2_0",
         "2001-07-11",
         "Colombia",
         "Venezuela",
         2,
         0,
         "Copa América",
         "Barranquilla",
         "Colombia",
         false
        ],
        [
         "2001-07-11_Ecuador_Chile_1_4",
         "2001-07-11",
         "Ecuador",
         "Chile",
         1,
         4,
         "Copa América",
         "Barranquilla",
         "Colombia",
         true
        ],
        [
         "2001-07-12_Brazil_Mexico_0_1",
         "2001-07-12",
         "Brazil",
         "Mexico",
         0,
         1,
         "Copa América",
         "Cali",
         "Colombia",
         true
        ],
        [
         "2001-07-12_Peru_Paraguay_3_3",
         "2001-07-12",
         "Peru",
         "Paraguay",
         3,
         3,
         "Copa América",
         "Cali",
         "Colombia",
         true
        ],
        [
         "2001-07-13_Bolivia_Uruguay_0_1",
         "2001-07-13",
         "Bolivia",
         "Uruguay",
         0,
         1,
         "Copa América",
         "Medellín",
         "Colombia",
         true
        ],
        [
         "2001-07-13_Honduras_Costa Rica_0_1",
         "2001-07-13",
         "Honduras",
         "Costa Rica",
         0,
         1,
         "Copa América",
         "Medellín",
         "Colombia",
         true
        ],
        [
         "2001-07-14_Chile_Venezuela_1_0",
         "2001-07-14",
         "Chile",
         "Venezuela",
         1,
         0,
         "Copa América",
         "Barranquilla",
         "Colombia",
         true
        ],
        [
         "2001-07-14_Colombia_Ecuador_1_0",
         "2001-07-14",
         "Colombia",
         "Ecuador",
         1,
         0,
         "Copa América",
         "Barranquilla",
         "Colombia",
         false
        ],
        [
         "2001-07-15_Brazil_Peru_2_0",
         "2001-07-15",
         "Brazil",
         "Peru",
         2,
         0,
         "Copa América",
         "Cali",
         "Colombia",
         true
        ],
        [
         "2001-07-15_Paraguay_Mexico_0_0",
         "2001-07-15",
         "Paraguay",
         "Mexico",
         0,
         0,
         "Copa América",
         "Cali",
         "Colombia",
         true
        ],
        [
         "2001-07-16_Honduras_Bolivia_2_0",
         "2001-07-16",
         "Honduras",
         "Bolivia",
         2,
         0,
         "Copa América",
         "Medellín",
         "Colombia",
         true
        ],
        [
         "2001-07-16_Uruguay_Costa Rica_1_1",
         "2001-07-16",
         "Uruguay",
         "Costa Rica",
         1,
         1,
         "Copa América",
         "Medellín",
         "Colombia",
         true
        ],
        [
         "2001-07-17_Colombia_Chile_2_0",
         "2001-07-17",
         "Colombia",
         "Chile",
         2,
         0,
         "Copa América",
         "Barranquilla",
         "Colombia",
         false
        ],
        [
         "2001-07-17_Ecuador_Venezuela_4_0",
         "2001-07-17",
         "Ecuador",
         "Venezuela",
         4,
         0,
         "Copa América",
         "Barranquilla",
         "Colombia",
         true
        ],
        [
         "2001-07-18_Brazil_Paraguay_3_1",
         "2001-07-18",
         "Brazil",
         "Paraguay",
         3,
         1,
         "Copa América",
         "Cali",
         "Colombia",
         true
        ],
        [
         "2001-07-18_Peru_Mexico_1_0",
         "2001-07-18",
         "Peru",
         "Mexico",
         1,
         0,
         "Copa América",
         "Cali",
         "Colombia",
         true
        ],
        [
         "2001-07-19_Bolivia_Costa Rica_0_4",
         "2001-07-19",
         "Bolivia",
         "Costa Rica",
         0,
         4,
         "Copa América",
         "Medellín",
         "Colombia",
         true
        ],
        [
         "2001-07-19_Honduras_Uruguay_1_0",
         "2001-07-19",
         "Honduras",
         "Uruguay",
         1,
         0,
         "Copa América",
         "Medellín",
         "Colombia",
         true
        ],
        [
         "2001-07-22_Chile_Mexico_0_2",
         "2001-07-22",
         "Chile",
         "Mexico",
         0,
         2,
         "Copa América",
         "Pereira",
         "Colombia",
         true
        ],
        [
         "2001-07-22_Uruguay_Costa Rica_2_1",
         "2001-07-22",
         "Uruguay",
         "Costa Rica",
         2,
         1,
         "Copa América",
         "Armenia",
         "Colombia",
         true
        ],
        [
         "2001-07-23_Brazil_Honduras_0_2",
         "2001-07-23",
         "Brazil",
         "Honduras",
         0,
         2,
         "Copa América",
         "Manizales",
         "Colombia",
         true
        ],
        [
         "2001-07-23_Colombia_Peru_3_0",
         "2001-07-23",
         "Colombia",
         "Peru",
         3,
         0,
         "Copa América",
         "Armenia",
         "Colombia",
         false
        ],
        [
         "2001-07-25_Mexico_Uruguay_2_1",
         "2001-07-25",
         "Mexico",
         "Uruguay",
         2,
         1,
         "Copa América",
         "Pereira",
         "Colombia",
         true
        ],
        [
         "2001-07-26_Colombia_Honduras_2_0",
         "2001-07-26",
         "Colombia",
         "Honduras",
         2,
         0,
         "Copa América",
         "Manizales",
         "Colombia",
         false
        ],
        [
         "2001-07-29_Uruguay_Honduras_2_2",
         "2001-07-29",
         "Uruguay",
         "Honduras",
         2,
         2,
         "Copa América",
         "Bogotá",
         "Colombia",
         true
        ],
        [
         "2001-07-29_Colombia_Mexico_1_0",
         "2001-07-29",
         "Colombia",
         "Mexico",
         1,
         0,
         "Copa América",
         "Bogotá",
         "Colombia",
         false
        ],
        [
         "2004-07-06_Peru_Bolivia_2_2",
         "2004-07-06",
         "Peru",
         "Bolivia",
         2,
         2,
         "Copa América",
         "Lima",
         "Peru",
         false
        ],
        [
         "2004-07-06_Venezuela_Colombia_0_1",
         "2004-07-06",
         "Venezuela",
         "Colombia",
         0,
         1,
         "Copa América",
         "Lima",
         "Peru",
         true
        ],
        [
         "2004-07-07_Argentina_Ecuador_6_1",
         "2004-07-07",
         "Argentina",
         "Ecuador",
         6,
         1,
         "Copa América",
         "Chiclayo",
         "Peru",
         true
        ],
        [
         "2004-07-07_Mexico_Uruguay_2_2",
         "2004-07-07",
         "Mexico",
         "Uruguay",
         2,
         2,
         "Copa América",
         "Chiclayo",
         "Peru",
         true
        ],
        [
         "2004-07-08_Brazil_Chile_1_0",
         "2004-07-08",
         "Brazil",
         "Chile",
         1,
         0,
         "Copa América",
         "Arequipa",
         "Peru",
         true
        ],
        [
         "2004-07-08_Costa Rica_Paraguay_0_1",
         "2004-07-08",
         "Costa Rica",
         "Paraguay",
         0,
         1,
         "Copa América",
         "Arequipa",
         "Peru",
         true
        ],
        [
         "2004-07-09_Colombia_Bolivia_1_0",
         "2004-07-09",
         "Colombia",
         "Bolivia",
         1,
         0,
         "Copa América",
         "Lima",
         "Peru",
         true
        ],
        [
         "2004-07-09_Peru_Venezuela_3_1",
         "2004-07-09",
         "Peru",
         "Venezuela",
         3,
         1,
         "Copa América",
         "Lima",
         "Peru",
         false
        ],
        [
         "2004-07-10_Argentina_Mexico_0_1",
         "2004-07-10",
         "Argentina",
         "Mexico",
         0,
         1,
         "Copa América",
         "Chiclayo",
         "Peru",
         true
        ],
        [
         "2004-07-10_Uruguay_Ecuador_2_1",
         "2004-07-10",
         "Uruguay",
         "Ecuador",
         2,
         1,
         "Copa América",
         "Chiclayo",
         "Peru",
         true
        ],
        [
         "2004-07-11_Brazil_Costa Rica_4_1",
         "2004-07-11",
         "Brazil",
         "Costa Rica",
         4,
         1,
         "Copa América",
         "Arequipa",
         "Peru",
         true
        ],
        [
         "2004-07-11_Paraguay_Chile_1_1",
         "2004-07-11",
         "Paraguay",
         "Chile",
         1,
         1,
         "Copa América",
         "Arequipa",
         "Peru",
         true
        ],
        [
         "2004-07-12_Peru_Colombia_2_2",
         "2004-07-12",
         "Peru",
         "Colombia",
         2,
         2,
         "Copa América",
         "Trujillo",
         "Peru",
         false
        ],
        [
         "2004-07-12_Venezuela_Bolivia_1_1",
         "2004-07-12",
         "Venezuela",
         "Bolivia",
         1,
         1,
         "Copa América",
         "Trujillo",
         "Peru",
         true
        ],
        [
         "2004-07-13_Argentina_Uruguay_4_2",
         "2004-07-13",
         "Argentina",
         "Uruguay",
         4,
         2,
         "Copa América",
         "Piura",
         "Peru",
         true
        ],
        [
         "2004-07-13_Mexico_Ecuador_2_1",
         "2004-07-13",
         "Mexico",
         "Ecuador",
         2,
         1,
         "Copa América",
         "Piura",
         "Peru",
         true
        ],
        [
         "2004-07-14_Brazil_Paraguay_1_2",
         "2004-07-14",
         "Brazil",
         "Paraguay",
         1,
         2,
         "Copa América",
         "Arequipa",
         "Peru",
         true
        ],
        [
         "2004-07-14_Costa Rica_Chile_2_1",
         "2004-07-14",
         "Costa Rica",
         "Chile",
         2,
         1,
         "Copa América",
         "Tacna",
         "Peru",
         true
        ],
        [
         "2004-07-17_Colombia_Costa Rica_2_0",
         "2004-07-17",
         "Colombia",
         "Costa Rica",
         2,
         0,
         "Copa América",
         "Trujillo",
         "Peru",
         true
        ],
        [
         "2004-07-17_Peru_Argentina_0_1",
         "2004-07-17",
         "Peru",
         "Argentina",
         0,
         1,
         "Copa América",
         "Chiclayo",
         "Peru",
         false
        ],
        [
         "2004-07-18_Mexico_Brazil_0_4",
         "2004-07-18",
         "Mexico",
         "Brazil",
         0,
         4,
         "Copa América",
         "Piura",
         "Peru",
         true
        ],
        [
         "2004-07-18_Paraguay_Uruguay_1_3",
         "2004-07-18",
         "Paraguay",
         "Uruguay",
         1,
         3,
         "Copa América",
         "Tacna",
         "Peru",
         true
        ],
        [
         "2004-07-20_Argentina_Colombia_3_0",
         "2004-07-20",
         "Argentina",
         "Colombia",
         3,
         0,
         "Copa América",
         "Lima",
         "Peru",
         true
        ],
        [
         "2004-07-21_Uruguay_Brazil_1_1",
         "2004-07-21",
         "Uruguay",
         "Brazil",
         1,
         1,
         "Copa América",
         "Lima",
         "Peru",
         true
        ],
        [
         "2004-07-24_Colombia_Uruguay_1_2",
         "2004-07-24",
         "Colombia",
         "Uruguay",
         1,
         2,
         "Copa América",
         "Cusco",
         "Peru",
         true
        ],
        [
         "2004-07-25_Argentina_Brazil_2_2",
         "2004-07-25",
         "Argentina",
         "Brazil",
         2,
         2,
         "Copa América",
         "Lima",
         "Peru",
         true
        ],
        [
         "2019-06-14_Brazil_Bolivia_3_0",
         "2019-06-14",
         "Brazil",
         "Bolivia",
         3,
         0,
         "Copa América",
         "São Paulo",
         "Brazil",
         false
        ],
        [
         "2019-06-15_Venezuela_Peru_0_0",
         "2019-06-15",
         "Venezuela",
         "Peru",
         0,
         0,
         "Copa América",
         "Porto Alegre",
         "Brazil",
         true
        ],
        [
         "2019-06-15_Argentina_Colombia_0_2",
         "2019-06-15",
         "Argentina",
         "Colombia",
         0,
         2,
         "Copa América",
         "Salvador",
         "Brazil",
         true
        ],
        [
         "2019-06-16_Paraguay_Qatar_2_2",
         "2019-06-16",
         "Paraguay",
         "Qatar",
         2,
         2,
         "Copa América",
         "Rio de Janeiro",
         "Brazil",
         true
        ],
        [
         "2019-06-16_Uruguay_Ecuador_4_0",
         "2019-06-16",
         "Uruguay",
         "Ecuador",
         4,
         0,
         "Copa América",
         "Belo Horizonte",
         "Brazil",
         true
        ],
        [
         "2019-06-17_Japan_Chile_0_4",
         "2019-06-17",
         "Japan",
         "Chile",
         0,
         4,
         "Copa América",
         "São Paulo",
         "Brazil",
         true
        ],
        [
         "2019-06-18_Bolivia_Peru_1_3",
         "2019-06-18",
         "Bolivia",
         "Peru",
         1,
         3,
         "Copa América",
         "Rio de Janeiro",
         "Brazil",
         true
        ],
        [
         "2019-06-18_Brazil_Venezuela_0_0",
         "2019-06-18",
         "Brazil",
         "Venezuela",
         0,
         0,
         "Copa América",
         "Salvador",
         "Brazil",
         false
        ],
        [
         "2019-06-19_Colombia_Qatar_1_0",
         "2019-06-19",
         "Colombia",
         "Qatar",
         1,
         0,
         "Copa América",
         "São Paulo",
         "Brazil",
         true
        ],
        [
         "2019-06-19_Argentina_Paraguay_1_1",
         "2019-06-19",
         "Argentina",
         "Paraguay",
         1,
         1,
         "Copa América",
         "Belo Horizonte",
         "Brazil",
         true
        ],
        [
         "2019-06-20_Uruguay_Japan_2_2",
         "2019-06-20",
         "Uruguay",
         "Japan",
         2,
         2,
         "Copa América",
         "Porto Alegre",
         "Brazil",
         true
        ],
        [
         "2019-06-21_Ecuador_Chile_1_2",
         "2019-06-21",
         "Ecuador",
         "Chile",
         1,
         2,
         "Copa América",
         "Salvador",
         "Brazil",
         true
        ],
        [
         "2019-06-22_Bolivia_Venezuela_1_3",
         "2019-06-22",
         "Bolivia",
         "Venezuela",
         1,
         3,
         "Copa América",
         "Belo Horizonte",
         "Brazil",
         true
        ],
        [
         "2019-06-22_Brazil_Peru_5_0",
         "2019-06-22",
         "Brazil",
         "Peru",
         5,
         0,
         "Copa América",
         "São Paulo",
         "Brazil",
         false
        ],
        [
         "2019-06-23_Colombia_Paraguay_1_0",
         "2019-06-23",
         "Colombia",
         "Paraguay",
         1,
         0,
         "Copa América",
         "Salvador",
         "Brazil",
         true
        ],
        [
         "2019-06-23_Qatar_Argentina_0_2",
         "2019-06-23",
         "Qatar",
         "Argentina",
         0,
         2,
         "Copa América",
         "Porto Alegre",
         "Brazil",
         true
        ],
        [
         "2019-06-24_Chile_Uruguay_0_1",
         "2019-06-24",
         "Chile",
         "Uruguay",
         0,
         1,
         "Copa América",
         "Rio de Janeiro",
         "Brazil",
         true
        ],
        [
         "2019-06-24_Ecuador_Japan_1_1",
         "2019-06-24",
         "Ecuador",
         "Japan",
         1,
         1,
         "Copa América",
         "Belo Horizonte",
         "Brazil",
         true
        ],
        [
         "2019-06-27_Brazil_Paraguay_0_0",
         "2019-06-27",
         "Brazil",
         "Paraguay",
         0,
         0,
         "Copa América",
         "Porto Alegre",
         "Brazil",
         false
        ],
        [
         "2019-06-28_Colombia_Chile_0_0",
         "2019-06-28",
         "Colombia",
         "Chile",
         0,
         0,
         "Copa América",
         "São Paulo",
         "Brazil",
         true
        ],
        [
         "2019-06-28_Venezuela_Argentina_0_2",
         "2019-06-28",
         "Venezuela",
         "Argentina",
         0,
         2,
         "Copa América",
         "Rio de Janeiro",
         "Brazil",
         true
        ],
        [
         "2019-06-29_Uruguay_Peru_0_0",
         "2019-06-29",
         "Uruguay",
         "Peru",
         0,
         0,
         "Copa América",
         "Salvador",
         "Brazil",
         true
        ],
        [
         "2019-07-02_Brazil_Argentina_2_0",
         "2019-07-02",
         "Brazil",
         "Argentina",
         2,
         0,
         "Copa América",
         "Belo Horizonte",
         "Brazil",
         false
        ],
        [
         "2019-07-03_Chile_Peru_0_3",
         "2019-07-03",
         "Chile",
         "Peru",
         0,
         3,
         "Copa América",
         "Porto Alegre",
         "Brazil",
         true
        ],
        [
         "2019-07-06_Argentina_Chile_2_1",
         "2019-07-06",
         "Argentina",
         "Chile",
         2,
         1,
         "Copa América",
         "São Paulo",
         "Brazil",
         true
        ],
        [
         "2019-07-07_Brazil_Peru_3_1",
         "2019-07-07",
         "Brazil",
         "Peru",
         3,
         1,
         "Copa América",
         "Rio de Janeiro",
         "Brazil",
         false
        ],
        [
         "2021-06-13_Brazil_Venezuela_3_0",
         "2021-06-13",
         "Brazil",
         "Venezuela",
         3,
         0,
         "Copa América",
         "Brasília",
         "Brazil",
         false
        ],
        [
         "2021-06-13_Colombia_Ecuador_1_0",
         "2021-06-13",
         "Colombia",
         "Ecuador",
         1,
         0,
         "Copa América",
         "Cuiabá",
         "Brazil",
         true
        ],
        [
         "2021-06-14_Argentina_Chile_1_1",
         "2021-06-14",
         "Argentina",
         "Chile",
         1,
         1,
         "Copa América",
         "Rio de Janeiro",
         "Brazil",
         true
        ],
        [
         "2021-06-14_Paraguay_Bolivia_3_1",
         "2021-06-14",
         "Paraguay",
         "Bolivia",
         3,
         1,
         "Copa América",
         "Goiânia",
         "Brazil",
         true
        ],
        [
         "2021-06-17_Colombia_Venezuela_0_0",
         "2021-06-17",
         "Colombia",
         "Venezuela",
         0,
         0,
         "Copa América",
         "Goiânia",
         "Brazil",
         true
        ],
        [
         "2021-06-17_Brazil_Peru_4_0",
         "2021-06-17",
         "Brazil",
         "Peru",
         4,
         0,
         "Copa América",
         "Rio de Janeiro",
         "Brazil",
         false
        ],
        [
         "2021-06-18_Chile_Bolivia_1_0",
         "2021-06-18",
         "Chile",
         "Bolivia",
         1,
         0,
         "Copa América",
         "Cuiabá",
         "Brazil",
         true
        ],
        [
         "2021-06-18_Argentina_Uruguay_1_0",
         "2021-06-18",
         "Argentina",
         "Uruguay",
         1,
         0,
         "Copa América",
         "Brasília",
         "Brazil",
         true
        ],
        [
         "2021-06-20_Venezuela_Ecuador_2_2",
         "2021-06-20",
         "Venezuela",
         "Ecuador",
         2,
         2,
         "Copa América",
         "Rio de Janeiro",
         "Brazil",
         true
        ],
        [
         "2021-06-20_Colombia_Peru_1_2",
         "2021-06-20",
         "Colombia",
         "Peru",
         1,
         2,
         "Copa América",
         "Goiânia",
         "Brazil",
         true
        ],
        [
         "2021-06-21_Uruguay_Chile_1_1",
         "2021-06-21",
         "Uruguay",
         "Chile",
         1,
         1,
         "Copa América",
         "Cuiabá",
         "Brazil",
         true
        ],
        [
         "2021-06-21_Argentina_Paraguay_1_0",
         "2021-06-21",
         "Argentina",
         "Paraguay",
         1,
         0,
         "Copa América",
         "Brasília",
         "Brazil",
         true
        ],
        [
         "2021-06-23_Ecuador_Peru_2_2",
         "2021-06-23",
         "Ecuador",
         "Peru",
         2,
         2,
         "Copa América",
         "Goiânia",
         "Brazil",
         true
        ],
        [
         "2021-06-23_Brazil_Colombia_2_1",
         "2021-06-23",
         "Brazil",
         "Colombia",
         2,
         1,
         "Copa América",
         "Rio de Janeiro",
         "Brazil",
         false
        ],
        [
         "2021-06-24_Bolivia_Uruguay_0_2",
         "2021-06-24",
         "Bolivia",
         "Uruguay",
         0,
         2,
         "Copa América",
         "Cuiabá",
         "Brazil",
         true
        ],
        [
         "2021-06-24_Chile_Paraguay_0_2",
         "2021-06-24",
         "Chile",
         "Paraguay",
         0,
         2,
         "Copa América",
         "Brasília",
         "Brazil",
         true
        ],
        [
         "2021-06-27_Brazil_Ecuador_1_1",
         "2021-06-27",
         "Brazil",
         "Ecuador",
         1,
         1,
         "Copa América",
         "Goiânia",
         "Brazil",
         false
        ],
        [
         "2021-06-27_Venezuela_Peru_0_1",
         "2021-06-27",
         "Venezuela",
         "Peru",
         0,
         1,
         "Copa América",
         "Brasília",
         "Brazil",
         true
        ],
        [
         "2021-06-28_Argentina_Bolivia_4_1",
         "2021-06-28",
         "Argentina",
         "Bolivia",
         4,
         1,
         "Copa América",
         "Cuiabá",
         "Brazil",
         true
        ],
        [
         "2021-06-28_Uruguay_Paraguay_1_0",
         "2021-06-28",
         "Uruguay",
         "Paraguay",
         1,
         0,
         "Copa América",
         "Rio de Janeiro",
         "Brazil",
         true
        ],
        [
         "2021-07-02_Peru_Paraguay_3_3",
         "2021-07-02",
         "Peru",
         "Paraguay",
         3,
         3,
         "Copa América",
         "Goiânia",
         "Brazil",
         true
        ],
        [
         "2021-07-02_Brazil_Chile_1_0",
         "2021-07-02",
         "Brazil",
         "Chile",
         1,
         0,
         "Copa América",
         "Rio de Janeiro",
         "Brazil",
         false
        ],
        [
         "2021-07-03_Uruguay_Colombia_0_0",
         "2021-07-03",
         "Uruguay",
         "Colombia",
         0,
         0,
         "Copa América",
         "Brasília",
         "Brazil",
         true
        ],
        [
         "2021-07-03_Argentina_Ecuador_3_0",
         "2021-07-03",
         "Argentina",
         "Ecuador",
         3,
         0,
         "Copa América",
         "Goiânia",
         "Brazil",
         true
        ],
        [
         "2021-07-05_Brazil_Peru_1_0",
         "2021-07-05",
         "Brazil",
         "Peru",
         1,
         0,
         "Copa América",
         "Rio de Janeiro",
         "Brazil",
         false
        ],
        [
         "2021-07-06_Argentina_Colombia_1_1",
         "2021-07-06",
         "Argentina",
         "Colombia",
         1,
         1,
         "Copa América",
         "Brasília",
         "Brazil",
         true
        ],
        [
         "2021-07-09_Peru_Colombia_2_3",
         "2021-07-09",
         "Peru",
         "Colombia",
         2,
         3,
         "Copa América",
         "Brasília",
         "Brazil",
         true
        ],
        [
         "2021-07-10_Brazil_Argentina_0_1",
         "2021-07-10",
         "Brazil",
         "Argentina",
         0,
         1,
         "Copa América",
         "Rio de Janeiro",
         "Brazil",
         false
        ],
        [
         "2024-06-20_Argentina_Canada_2_0",
         "2024-06-20",
         "Argentina",
         "Canada",
         2,
         0,
         "Copa América",
         "Atlanta",
         "United States",
         true
        ],
        [
         "2024-06-21_Peru_Chile_0_0",
         "2024-06-21",
         "Peru",
         "Chile",
         0,
         0,
         "Copa América",
         "Arlington",
         "United States",
         true
        ],
        [
         "2024-06-22_Ecuador_Venezuela_1_2",
         "2024-06-22",
         "Ecuador",
         "Venezuela",
         1,
         2,
         "Copa América",
         "Santa Clara",
         "United States",
         true
        ],
        [
         "2024-06-22_Mexico_Jamaica_1_0",
         "2024-06-22",
         "Mexico",
         "Jamaica",
         1,
         0,
         "Copa América",
         "Houston",
         "United States",
         true
        ],
        [
         "2024-06-23_United States_Bolivia_2_0",
         "2024-06-23",
         "United States",
         "Bolivia",
         2,
         0,
         "Copa América",
         "Arlington",
         "United States",
         false
        ],
        [
         "2024-06-23_Uruguay_Panama_3_1",
         "2024-06-23",
         "Uruguay",
         "Panama",
         3,
         1,
         "Copa América",
         "Miami Gardens",
         "United States",
         true
        ],
        [
         "2024-06-24_Colombia_Paraguay_2_1",
         "2024-06-24",
         "Colombia",
         "Paraguay",
         2,
         1,
         "Copa América",
         "Houston",
         "United States",
         true
        ],
        [
         "2024-06-24_Brazil_Costa Rica_0_0",
         "2024-06-24",
         "Brazil",
         "Costa Rica",
         0,
         0,
         "Copa América",
         "Inglewood",
         "United States",
         true
        ],
        [
         "2024-06-25_Peru_Canada_0_1",
         "2024-06-25",
         "Peru",
         "Canada",
         0,
         1,
         "Copa América",
         "Kansas City",
         "United States",
         true
        ],
        [
         "2024-06-25_Chile_Argentina_0_1",
         "2024-06-25",
         "Chile",
         "Argentina",
         0,
         1,
         "Copa América",
         "East Rutherford",
         "United States",
         true
        ],
        [
         "2024-06-26_Ecuador_Jamaica_3_1",
         "2024-06-26",
         "Ecuador",
         "Jamaica",
         3,
         1,
         "Copa América",
         "Las Vegas",
         "United States",
         true
        ],
        [
         "2024-06-26_Venezuela_Mexico_1_0",
         "2024-06-26",
         "Venezuela",
         "Mexico",
         1,
         0,
         "Copa América",
         "Inglewood",
         "United States",
         true
        ],
        [
         "2024-06-27_United States_Panama_1_2",
         "2024-06-27",
         "United States",
         "Panama",
         1,
         2,
         "Copa América",
         "Atlanta",
         "United States",
         false
        ],
        [
         "2024-06-27_Uruguay_Bolivia_4_0",
         "2024-06-27",
         "Uruguay",
         "Bolivia",
         4,
         0,
         "Copa América",
         "East Rutherford",
         "United States",
         true
        ],
        [
         "2024-06-28_Colombia_Costa Rica_3_0",
         "2024-06-28",
         "Colombia",
         "Costa Rica",
         3,
         0,
         "Copa América",
         "Glendale",
         "United States",
         true
        ],
        [
         "2024-06-28_Paraguay_Brazil_1_4",
         "2024-06-28",
         "Paraguay",
         "Brazil",
         1,
         4,
         "Copa América",
         "Las Vegas",
         "United States",
         true
        ],
        [
         "2024-06-29_Argentina_Peru_2_0",
         "2024-06-29",
         "Argentina",
         "Peru",
         2,
         0,
         "Copa América",
         "Miami Gardens",
         "United States",
         true
        ],
        [
         "2024-06-29_Canada_Chile_0_0",
         "2024-06-29",
         "Canada",
         "Chile",
         0,
         0,
         "Copa América",
         "Orlando",
         "United States",
         true
        ],
        [
         "2024-06-30_Mexico_Ecuador_0_0",
         "2024-06-30",
         "Mexico",
         "Ecuador",
         0,
         0,
         "Copa América",
         "Glendale",
         "United States",
         true
        ],
        [
         "2024-06-30_Jamaica_Venezuela_0_3",
         "2024-06-30",
         "Jamaica",
         "Venezuela",
         0,
         3,
         "Copa América",
         "Austin",
         "United States",
         true
        ],
        [
         "2024-07-01_United States_Uruguay_0_1",
         "2024-07-01",
         "United States",
         "Uruguay",
         0,
         1,
         "Copa América",
         "Kansas City",
         "United States",
         false
        ],
        [
         "2024-07-01_Bolivia_Panama_1_3",
         "2024-07-01",
         "Bolivia",
         "Panama",
         1,
         3,
         "Copa América",
         "Orlando",
         "United States",
         true
        ],
        [
         "2024-07-02_Brazil_Colombia_1_1",
         "2024-07-02",
         "Brazil",
         "Colombia",
         1,
         1,
         "Copa América",
         "Santa Clara",
         "United States",
         true
        ],
        [
         "2024-07-02_Costa Rica_Paraguay_2_1",
         "2024-07-02",
         "Costa Rica",
         "Paraguay",
         2,
         1,
         "Copa América",
         "Austin",
         "United States",
         true
        ],
        [
         "2024-07-04_Argentina_Ecuador_1_1",
         "2024-07-04",
         "Argentina",
         "Ecuador",
         1,
         1,
         "Copa América",
         "Houston",
         "United States",
         true
        ],
        [
         "2024-07-05_Venezuela_Canada_1_1",
         "2024-07-05",
         "Venezuela",
         "Canada",
         1,
         1,
         "Copa América",
         "Arlington",
         "United States",
         true
        ],
        [
         "2024-07-06_Uruguay_Brazil_0_0",
         "2024-07-06",
         "Uruguay",
         "Brazil",
         0,
         0,
         "Copa América",
         "Las Vegas",
         "United States",
         true
        ],
        [
         "2024-07-06_Colombia_Panama_5_0",
         "2024-07-06",
         "Colombia",
         "Panama",
         5,
         0,
         "Copa América",
         "Glendale",
         "United States",
         true
        ],
        [
         "2024-07-09_Argentina_Canada_2_0",
         "2024-07-09",
         "Argentina",
         "Canada",
         2,
         0,
         "Copa América",
         "East Rutherford",
         "United States",
         true
        ],
        [
         "2024-07-10_Uruguay_Colombia_0_1",
         "2024-07-10",
         "Uruguay",
         "Colombia",
         0,
         1,
         "Copa América",
         "Charlotte",
         "United States",
         true
        ],
        [
         "2024-07-13_Canada_Uruguay_2_2",
         "2024-07-13",
         "Canada",
         "Uruguay",
         2,
         2,
         "Copa América",
         "Charlotte",
         "United States",
         true
        ],
        [
         "2024-07-14_Argentina_Colombia_1_0",
         "2024-07-14",
         "Argentina",
         "Colombia",
         1,
         0,
         "Copa América",
         "Miami Gardens",
         "United States",
         true
        ]
       ],
       "datasetInfos": [],
       "dbfsResultPath": null,
       "isJsonSchema": true,
       "metadata": {},
       "overflow": false,
       "plotOptions": {
        "customPlotOptions": {},
        "displayType": "table",
        "pivotAggregation": null,
        "pivotColumns": null,
        "xColumns": null,
        "yColumns": null
       },
       "removedWidgets": [],
       "schema": [
        {
         "metadata": "{}",
         "name": "match_id",
         "type": "\"string\""
        },
        {
         "metadata": "{\"comment\":\"Data da partida no formato YYYY-MM-DD. Domínio: Datas entre 1872-11-30 (primeiro jogo internacional) e a data atual.\"}",
         "name": "match_date",
         "type": "\"date\""
        },
        {
         "metadata": "{\"comment\":\"Nome do time da casa padronizado. Domínio: Valores da tabela silver.teams (ex: \\\"Brazil\\\", \\\"Germany\\\").\"}",
         "name": "home_team",
         "type": "\"string\""
        },
        {
         "metadata": "{\"comment\":\"Nome do time visitante padronizado. Domínio: Valores da tabela silver.teams.\"}",
         "name": "away_team",
         "type": "\"string\""
        },
        {
         "metadata": "{\"comment\":\"Gols marcados pelo time da casa. Domínio: Inteiro ≥ 0 (valores nulos substituídos por 0).\"}",
         "name": "home_score",
         "type": "\"integer\""
        },
        {
         "metadata": "{\"comment\":\"Gols marcados pelo time visitante. Domínio: Inteiro ≥ 0 (valores nulos substituídos por 0).\"}",
         "name": "away_score",
         "type": "\"integer\""
        },
        {
         "metadata": "{\"comment\":\"Nome do torneio sem formatação adicional. Domínio: Texto livre (ex: \\\"FIFA World Cup\\\", \\\"Copa América\\\").\"}",
         "name": "tournament",
         "type": "\"string\""
        },
        {
         "metadata": "{\"comment\":\"Cidade onde a partida foi realizada. Domínio: Texto livre (ex: \\\"Rio de Janeiro\\\", \\\"Berlin\\\").\"}",
         "name": "city",
         "type": "\"string\""
        },
        {
         "metadata": "{\"comment\":\"País onde a partida foi realizada. Domínio: Nomes de países ISO 3166 (ex: \\\"Brazil\\\", \\\"Spain\\\").\"}",
         "name": "country",
         "type": "\"string\""
        },
        {
         "metadata": "{\"comment\":\"Indica se o jogo foi em local neutro. Domínio: TRUE/FALSE.\"}",
         "name": "is_neutral",
         "type": "\"boolean\""
        }
       ],
       "type": "table"
      }
     },
     "output_type": "display_data"
    }
   ],
   "source": [
    "%sql\n",
    "SELECT *\n",
    "FROM silver.results\n",
    "WHERE tournament = \"Copa América\""
   ]
  },
  {
   "cell_type": "markdown",
   "metadata": {
    "application/vnd.databricks.v1+cell": {
     "cellMetadata": {
      "byteLimit": 2048000,
      "rowLimit": 10000
     },
     "inputWidgets": {},
     "nuid": "b4151847-22d7-4d7a-b7b2-5bc9ad6d60bb",
     "showTitle": false,
     "tableResultSettingsMap": {},
     "title": ""
    }
   },
   "source": [
    "Não foram verificadas inconsistências nessa condição, logo não é necessária correção. A seguir, são verificadas outras condições e caso seja indentificada alguma inconsitência, o script de correção é utilizado e a tabela atualizada."
   ]
  },
  {
   "cell_type": "markdown",
   "metadata": {
    "application/vnd.databricks.v1+cell": {
     "cellMetadata": {
      "byteLimit": 2048000,
      "rowLimit": 10000
     },
     "inputWidgets": {},
     "nuid": "27d7a60e-847f-4757-b9e8-d713ffba56d9",
     "showTitle": false,
     "tableResultSettingsMap": {},
     "title": ""
    }
   },
   "source": [
    "### Tabela Shootouts\n",
    "O fluxo de construção da tabela shootouts na camada Silver segue uma sequência lógica de transformações a partir dos dados brutos:\n",
    "\n",
    "- Padronização de Datas: Converte date para DATE.\n",
    "\n",
    "- Unificação de Nomes de Times: Padroniza home_team, away_team e winner usando bronze.former_names.\n",
    "\n",
    "- Preservação de Dados Originais: Mantém first_shooter (time que bateu primeiro) sem modificações.\n",
    "\n",
    "- Filtro de Qualidade: Não remove registros (todos os pênaltis são considerados válidos)."
   ]
  },
  {
   "cell_type": "code",
   "execution_count": 0,
   "metadata": {
    "application/vnd.databricks.v1+cell": {
     "cellMetadata": {
      "byteLimit": 2048000,
      "implicitDf": true,
      "rowLimit": 10000
     },
     "inputWidgets": {},
     "nuid": "5063a40a-871e-42bc-8996-9f787c7c928e",
     "showTitle": false,
     "tableResultSettingsMap": {},
     "title": ""
    }
   },
   "outputs": [
    {
     "output_type": "display_data",
     "data": {
      "text/html": [
       "<style scoped>\n",
       "  .table-result-container {\n",
       "    max-height: 300px;\n",
       "    overflow: auto;\n",
       "  }\n",
       "  table, th, td {\n",
       "    border: 1px solid black;\n",
       "    border-collapse: collapse;\n",
       "  }\n",
       "  th, td {\n",
       "    padding: 5px;\n",
       "  }\n",
       "  th {\n",
       "    text-align: left;\n",
       "  }\n",
       "</style><div class='table-result-container'><table class='table-result'><thead style='background-color: white'><tr><th>num_affected_rows</th><th>num_inserted_rows</th></tr></thead><tbody></tbody></table></div>"
      ]
     },
     "metadata": {
      "application/vnd.databricks.v1+output": {
       "addedWidgets": {},
       "aggData": [],
       "aggError": "",
       "aggOverflow": false,
       "aggSchema": [],
       "aggSeriesLimitReached": false,
       "aggType": "",
       "arguments": {},
       "columnCustomDisplayInfos": {},
       "data": [],
       "datasetInfos": [],
       "dbfsResultPath": null,
       "isJsonSchema": true,
       "metadata": {},
       "overflow": false,
       "plotOptions": {
        "customPlotOptions": {},
        "displayType": "table",
        "pivotAggregation": null,
        "pivotColumns": null,
        "xColumns": null,
        "yColumns": null
       },
       "removedWidgets": [],
       "schema": [
        {
         "metadata": "{}",
         "name": "num_affected_rows",
         "type": "\"long\""
        },
        {
         "metadata": "{}",
         "name": "num_inserted_rows",
         "type": "\"long\""
        }
       ],
       "type": "table"
      }
     },
     "output_type": "display_data"
    }
   ],
   "source": [
    "%sql\n",
    "CREATE OR REPLACE TABLE silver.shootouts AS\n",
    "SELECT \n",
    "  r.match_id,  -- Usando o match_id da tabela results já existente\n",
    "  date(s.date) AS match_date,\n",
    "  COALESCE(fn_home.current, s.home_team) AS home_team,\n",
    "  COALESCE(fn_away.current, s.away_team) AS away_team,\n",
    "  COALESCE(fn_winner.current, s.winner) AS winner,\n",
    "  s.first_shooter\n",
    "FROM bronze.shootouts s\n",
    "JOIN silver.results r\n",
    "  ON r.home_team = s.home_team\n",
    "  AND r.away_team = s.away_team\n",
    "  AND r.match_date = date(s.date)\n",
    "LEFT JOIN bronze.former_names fn_home ON s.home_team = fn_home.former\n",
    "LEFT JOIN bronze.former_names fn_away ON s.away_team = fn_away.former\n",
    "LEFT JOIN bronze.former_names fn_winner ON s.winner = fn_winner.former;\n"
   ]
  },
  {
   "cell_type": "markdown",
   "metadata": {
    "application/vnd.databricks.v1+cell": {
     "cellMetadata": {
      "byteLimit": 2048000,
      "rowLimit": 10000
     },
     "inputWidgets": {},
     "nuid": "393dd017-a2fa-489d-926a-46f5bf6e19b7",
     "showTitle": false,
     "tableResultSettingsMap": {},
     "title": ""
    }
   },
   "source": [
    "O mesmo procedimento de inserção de comentários é utilizado."
   ]
  },
  {
   "cell_type": "code",
   "execution_count": 0,
   "metadata": {
    "application/vnd.databricks.v1+cell": {
     "cellMetadata": {
      "byteLimit": 2048000,
      "implicitDf": true,
      "rowLimit": 10000
     },
     "inputWidgets": {},
     "nuid": "777d8318-5e88-4e8c-8a67-179c272f1fc1",
     "showTitle": false,
     "tableResultSettingsMap": {},
     "title": ""
    }
   },
   "outputs": [
    {
     "output_type": "display_data",
     "data": {
      "text/html": [
       "<style scoped>\n",
       "  .table-result-container {\n",
       "    max-height: 300px;\n",
       "    overflow: auto;\n",
       "  }\n",
       "  table, th, td {\n",
       "    border: 1px solid black;\n",
       "    border-collapse: collapse;\n",
       "  }\n",
       "  th, td {\n",
       "    padding: 5px;\n",
       "  }\n",
       "  th {\n",
       "    text-align: left;\n",
       "  }\n",
       "</style><div class='table-result-container'><table class='table-result'><thead style='background-color: white'><tr></tr></thead><tbody></tbody></table></div>"
      ]
     },
     "metadata": {
      "application/vnd.databricks.v1+output": {
       "addedWidgets": {},
       "aggData": [],
       "aggError": "",
       "aggOverflow": false,
       "aggSchema": [],
       "aggSeriesLimitReached": false,
       "aggType": "",
       "arguments": {},
       "columnCustomDisplayInfos": {},
       "data": [],
       "datasetInfos": [],
       "dbfsResultPath": null,
       "isJsonSchema": true,
       "metadata": {},
       "overflow": false,
       "plotOptions": {
        "customPlotOptions": {},
        "displayType": "table",
        "pivotAggregation": null,
        "pivotColumns": null,
        "xColumns": null,
        "yColumns": null
       },
       "removedWidgets": [],
       "schema": [],
       "type": "table"
      }
     },
     "output_type": "display_data"
    }
   ],
   "source": [
    "%sql\n",
    "-- Comentário da tabela\n",
    "ALTER TABLE silver.shootouts \n",
    "SET TBLPROPERTIES (\n",
    "  'comment' = 'Registro de disputas de pênaltis em partidas de futebol. Fonte: bronze.shootouts.'\n",
    ");\n",
    "\n",
    "-- Comentários das colunas\n",
    "ALTER TABLE silver.shootouts CHANGE COLUMN match_date match_date DATE COMMENT 'Data da partida associada à disputa de pênaltis. Domínio: Deve existir em silver.results.match_date.';\n",
    "ALTER TABLE silver.shootouts CHANGE COLUMN home_team home_team STRING COMMENT 'Time da casa padronizado. Domínio: Valores de silver.results.home_team.';\n",
    "ALTER TABLE silver.shootouts CHANGE COLUMN away_team away_team STRING COMMENT 'Time visitante padronizado. Domínio: Valores de silver.results.away_team.';\n",
    "ALTER TABLE silver.shootouts CHANGE COLUMN winner winner STRING COMMENT 'Time vencedor da disputa de pênaltis. Domínio: Valores de home_team ou away_team.';\n",
    "ALTER TABLE silver.shootouts CHANGE COLUMN first_shooter first_shooter STRING COMMENT 'Time que bateu primeiro nos pênaltis. Domínio: Valores de home_team ou away_team.';"
   ]
  },
  {
   "cell_type": "code",
   "execution_count": 0,
   "metadata": {
    "application/vnd.databricks.v1+cell": {
     "cellMetadata": {
      "byteLimit": 2048000,
      "implicitDf": true,
      "rowLimit": 10000
     },
     "inputWidgets": {},
     "nuid": "f2204404-607b-4e83-bc41-ef709d7efc9d",
     "showTitle": false,
     "tableResultSettingsMap": {},
     "title": ""
    }
   },
   "outputs": [
    {
     "output_type": "display_data",
     "data": {
      "text/html": [
       "<style scoped>\n",
       "  .table-result-container {\n",
       "    max-height: 300px;\n",
       "    overflow: auto;\n",
       "  }\n",
       "  table, th, td {\n",
       "    border: 1px solid black;\n",
       "    border-collapse: collapse;\n",
       "  }\n",
       "  th, td {\n",
       "    padding: 5px;\n",
       "  }\n",
       "  th {\n",
       "    text-align: left;\n",
       "  }\n",
       "</style><div class='table-result-container'><table class='table-result'><thead style='background-color: white'><tr><th>col_name</th><th>data_type</th><th>comment</th></tr></thead><tbody><tr><td>match_id</td><td>string</td><td>null</td></tr><tr><td>match_date</td><td>date</td><td>Data da partida associada à disputa de pênaltis. Domínio: Deve existir em silver.results.match_date.</td></tr><tr><td>home_team</td><td>string</td><td>Time da casa padronizado. Domínio: Valores de silver.results.home_team.</td></tr><tr><td>away_team</td><td>string</td><td>Time visitante padronizado. Domínio: Valores de silver.results.away_team.</td></tr><tr><td>winner</td><td>string</td><td>Time vencedor da disputa de pênaltis. Domínio: Valores de home_team ou away_team.</td></tr><tr><td>first_shooter</td><td>string</td><td>Time que bateu primeiro nos pênaltis. Domínio: Valores de home_team ou away_team.</td></tr></tbody></table></div>"
      ]
     },
     "metadata": {
      "application/vnd.databricks.v1+output": {
       "addedWidgets": {},
       "aggData": [],
       "aggError": "",
       "aggOverflow": false,
       "aggSchema": [],
       "aggSeriesLimitReached": false,
       "aggType": "",
       "arguments": {},
       "columnCustomDisplayInfos": {},
       "data": [
        [
         "match_id",
         "string",
         null
        ],
        [
         "match_date",
         "date",
         "Data da partida associada à disputa de pênaltis. Domínio: Deve existir em silver.results.match_date."
        ],
        [
         "home_team",
         "string",
         "Time da casa padronizado. Domínio: Valores de silver.results.home_team."
        ],
        [
         "away_team",
         "string",
         "Time visitante padronizado. Domínio: Valores de silver.results.away_team."
        ],
        [
         "winner",
         "string",
         "Time vencedor da disputa de pênaltis. Domínio: Valores de home_team ou away_team."
        ],
        [
         "first_shooter",
         "string",
         "Time que bateu primeiro nos pênaltis. Domínio: Valores de home_team ou away_team."
        ]
       ],
       "datasetInfos": [],
       "dbfsResultPath": null,
       "isJsonSchema": true,
       "metadata": {},
       "overflow": false,
       "plotOptions": {
        "customPlotOptions": {},
        "displayType": "table",
        "pivotAggregation": null,
        "pivotColumns": null,
        "xColumns": null,
        "yColumns": null
       },
       "removedWidgets": [],
       "schema": [
        {
         "metadata": "{\"comment\":\"name of the column\"}",
         "name": "col_name",
         "type": "\"string\""
        },
        {
         "metadata": "{\"comment\":\"data type of the column\"}",
         "name": "data_type",
         "type": "\"string\""
        },
        {
         "metadata": "{\"comment\":\"comment of the column\"}",
         "name": "comment",
         "type": "\"string\""
        }
       ],
       "type": "table"
      }
     },
     "output_type": "display_data"
    }
   ],
   "source": [
    "%sql\n",
    "DESCRIBE TABLE silver.shootouts;"
   ]
  },
  {
   "cell_type": "markdown",
   "metadata": {
    "application/vnd.databricks.v1+cell": {
     "cellMetadata": {
      "byteLimit": 2048000,
      "rowLimit": 10000
     },
     "inputWidgets": {},
     "nuid": "73ac738f-12dd-4af0-8ad9-04b2d3e7705c",
     "showTitle": false,
     "tableResultSettingsMap": {},
     "title": ""
    }
   },
   "source": [
    "É verificada a criação da tabela."
   ]
  },
  {
   "cell_type": "code",
   "execution_count": 0,
   "metadata": {
    "application/vnd.databricks.v1+cell": {
     "cellMetadata": {
      "byteLimit": 2048000,
      "implicitDf": true,
      "rowLimit": 10000
     },
     "inputWidgets": {},
     "nuid": "96197f41-6eca-4e73-ab75-69aad661b355",
     "showTitle": true,
     "tableResultSettingsMap": {},
     "title": "Verificando a tabela silver.shootouts sem alterações"
    }
   },
   "outputs": [
    {
     "output_type": "display_data",
     "data": {
      "text/html": [
       "<style scoped>\n",
       "  .table-result-container {\n",
       "    max-height: 300px;\n",
       "    overflow: auto;\n",
       "  }\n",
       "  table, th, td {\n",
       "    border: 1px solid black;\n",
       "    border-collapse: collapse;\n",
       "  }\n",
       "  th, td {\n",
       "    padding: 5px;\n",
       "  }\n",
       "  th {\n",
       "    text-align: left;\n",
       "  }\n",
       "</style><div class='table-result-container'><table class='table-result'><thead style='background-color: white'><tr><th>match_id</th><th>match_date</th><th>home_team</th><th>away_team</th><th>winner</th><th>first_shooter</th></tr></thead><tbody><tr><td>1967-08-22_India_Taiwan_1_1</td><td>1967-08-22</td><td>India</td><td>Taiwan</td><td>Taiwan</td><td>null</td></tr><tr><td>1971-11-14_South Korea_Vietnam Republic_1_1</td><td>1971-11-14</td><td>South Korea</td><td>Vietnam Republic</td><td>South Korea</td><td>null</td></tr><tr><td>1972-05-07_South Korea_Iraq_0_0</td><td>1972-05-07</td><td>South Korea</td><td>Iraq</td><td>Iraq</td><td>null</td></tr><tr><td>1972-05-17_Thailand_South Korea_1_1</td><td>1972-05-17</td><td>Thailand</td><td>South Korea</td><td>South Korea</td><td>null</td></tr><tr><td>1972-05-19_Thailand_Cambodia_2_2</td><td>1972-05-19</td><td>Thailand</td><td>Cambodia</td><td>Thailand</td><td>null</td></tr><tr><td>1973-04-21_Senegal_Ghana_1_0</td><td>1973-04-21</td><td>Senegal</td><td>Ghana</td><td>Ghana</td><td>null</td></tr><tr><td>1973-06-14_Guinea_Mali_1_1</td><td>1973-06-14</td><td>Guinea</td><td>Mali</td><td>Guinea</td><td>null</td></tr><tr><td>1973-06-14_Mauritius_Tanzania_1_1</td><td>1973-06-14</td><td>Mauritius</td><td>Tanzania</td><td>Mauritius</td><td>null</td></tr><tr><td>1973-07-26_Cambodia_Singapore_1_1</td><td>1973-07-26</td><td>Cambodia</td><td>Singapore</td><td>Singapore</td><td>null</td></tr><tr><td>1973-07-26_Malaysia_Kuwait_0_0</td><td>1973-07-26</td><td>Malaysia</td><td>Kuwait</td><td>Malaysia</td><td>null</td></tr><tr><td>1973-07-27_Bangladesh_Thailand_2_2</td><td>1973-07-27</td><td>Bangladesh</td><td>Thailand</td><td>Thailand</td><td>null</td></tr><tr><td>1973-07-28_Myanmar_South Korea_0_0</td><td>1973-07-28</td><td>Myanmar</td><td>South Korea</td><td>Myanmar</td><td>null</td></tr><tr><td>1973-08-09_India_Vietnam Republic_1_1</td><td>1973-08-09</td><td>India</td><td>Vietnam Republic</td><td>Vietnam Republic</td><td>null</td></tr><tr><td>1973-08-23_Algeria_Syria_0_0</td><td>1973-08-23</td><td>Algeria</td><td>Syria</td><td>Syria</td><td>null</td></tr><tr><td>1973-08-25_Algeria_Iraq_0_0</td><td>1973-08-25</td><td>Algeria</td><td>Iraq</td><td>Algeria</td><td>null</td></tr><tr><td>1973-09-06_Singapore_Vietnam Republic_1_1</td><td>1973-09-06</td><td>Singapore</td><td>Vietnam Republic</td><td>Vietnam Republic</td><td>null</td></tr><tr><td>1974-03-28_Qatar_United Arab Emirates_1_1</td><td>1974-03-28</td><td>Qatar</td><td>United Arab Emirates</td><td>Qatar</td><td>null</td></tr><tr><td>1974-07-24_Hong Kong_Indonesia_2_2</td><td>1974-07-24</td><td>Hong Kong</td><td>Indonesia</td><td>Indonesia</td><td>null</td></tr><tr><td>1974-08-01_India_Indonesia_0_0</td><td>1974-08-01</td><td>India</td><td>Indonesia</td><td>Indonesia</td><td>null</td></tr><tr><td>1974-10-09_Syria_Morocco_1_1</td><td>1974-10-09</td><td>Syria</td><td>Morocco</td><td>Morocco</td><td>null</td></tr></tbody></table></div>"
      ]
     },
     "metadata": {
      "application/vnd.databricks.v1+output": {
       "addedWidgets": {},
       "aggData": [],
       "aggError": "",
       "aggOverflow": false,
       "aggSchema": [],
       "aggSeriesLimitReached": false,
       "aggType": "",
       "arguments": {},
       "columnCustomDisplayInfos": {},
       "data": [
        [
         "1967-08-22_India_Taiwan_1_1",
         "1967-08-22",
         "India",
         "Taiwan",
         "Taiwan",
         null
        ],
        [
         "1971-11-14_South Korea_Vietnam Republic_1_1",
         "1971-11-14",
         "South Korea",
         "Vietnam Republic",
         "South Korea",
         null
        ],
        [
         "1972-05-07_South Korea_Iraq_0_0",
         "1972-05-07",
         "South Korea",
         "Iraq",
         "Iraq",
         null
        ],
        [
         "1972-05-17_Thailand_South Korea_1_1",
         "1972-05-17",
         "Thailand",
         "South Korea",
         "South Korea",
         null
        ],
        [
         "1972-05-19_Thailand_Cambodia_2_2",
         "1972-05-19",
         "Thailand",
         "Cambodia",
         "Thailand",
         null
        ],
        [
         "1973-04-21_Senegal_Ghana_1_0",
         "1973-04-21",
         "Senegal",
         "Ghana",
         "Ghana",
         null
        ],
        [
         "1973-06-14_Guinea_Mali_1_1",
         "1973-06-14",
         "Guinea",
         "Mali",
         "Guinea",
         null
        ],
        [
         "1973-06-14_Mauritius_Tanzania_1_1",
         "1973-06-14",
         "Mauritius",
         "Tanzania",
         "Mauritius",
         null
        ],
        [
         "1973-07-26_Cambodia_Singapore_1_1",
         "1973-07-26",
         "Cambodia",
         "Singapore",
         "Singapore",
         null
        ],
        [
         "1973-07-26_Malaysia_Kuwait_0_0",
         "1973-07-26",
         "Malaysia",
         "Kuwait",
         "Malaysia",
         null
        ],
        [
         "1973-07-27_Bangladesh_Thailand_2_2",
         "1973-07-27",
         "Bangladesh",
         "Thailand",
         "Thailand",
         null
        ],
        [
         "1973-07-28_Myanmar_South Korea_0_0",
         "1973-07-28",
         "Myanmar",
         "South Korea",
         "Myanmar",
         null
        ],
        [
         "1973-08-09_India_Vietnam Republic_1_1",
         "1973-08-09",
         "India",
         "Vietnam Republic",
         "Vietnam Republic",
         null
        ],
        [
         "1973-08-23_Algeria_Syria_0_0",
         "1973-08-23",
         "Algeria",
         "Syria",
         "Syria",
         null
        ],
        [
         "1973-08-25_Algeria_Iraq_0_0",
         "1973-08-25",
         "Algeria",
         "Iraq",
         "Algeria",
         null
        ],
        [
         "1973-09-06_Singapore_Vietnam Republic_1_1",
         "1973-09-06",
         "Singapore",
         "Vietnam Republic",
         "Vietnam Republic",
         null
        ],
        [
         "1974-03-28_Qatar_United Arab Emirates_1_1",
         "1974-03-28",
         "Qatar",
         "United Arab Emirates",
         "Qatar",
         null
        ],
        [
         "1974-07-24_Hong Kong_Indonesia_2_2",
         "1974-07-24",
         "Hong Kong",
         "Indonesia",
         "Indonesia",
         null
        ],
        [
         "1974-08-01_India_Indonesia_0_0",
         "1974-08-01",
         "India",
         "Indonesia",
         "Indonesia",
         null
        ],
        [
         "1974-10-09_Syria_Morocco_1_1",
         "1974-10-09",
         "Syria",
         "Morocco",
         "Morocco",
         null
        ]
       ],
       "datasetInfos": [],
       "dbfsResultPath": null,
       "isJsonSchema": true,
       "metadata": {},
       "overflow": false,
       "plotOptions": {
        "customPlotOptions": {},
        "displayType": "table",
        "pivotAggregation": null,
        "pivotColumns": null,
        "xColumns": null,
        "yColumns": null
       },
       "removedWidgets": [],
       "schema": [
        {
         "metadata": "{}",
         "name": "match_id",
         "type": "\"string\""
        },
        {
         "metadata": "{\"comment\":\"Data da partida associada à disputa de pênaltis. Domínio: Deve existir em silver.results.match_date.\"}",
         "name": "match_date",
         "type": "\"date\""
        },
        {
         "metadata": "{\"comment\":\"Time da casa padronizado. Domínio: Valores de silver.results.home_team.\"}",
         "name": "home_team",
         "type": "\"string\""
        },
        {
         "metadata": "{\"comment\":\"Time visitante padronizado. Domínio: Valores de silver.results.away_team.\"}",
         "name": "away_team",
         "type": "\"string\""
        },
        {
         "metadata": "{\"comment\":\"Time vencedor da disputa de pênaltis. Domínio: Valores de home_team ou away_team.\"}",
         "name": "winner",
         "type": "\"string\""
        },
        {
         "metadata": "{\"comment\":\"Time que bateu primeiro nos pênaltis. Domínio: Valores de home_team ou away_team.\"}",
         "name": "first_shooter",
         "type": "\"string\""
        }
       ],
       "type": "table"
      }
     },
     "output_type": "display_data"
    }
   ],
   "source": [
    "%sql\n",
    "-- Verificar a tabela silver.shootouts\n",
    "SELECT * FROM silver.shootouts LIMIT 20;"
   ]
  },
  {
   "cell_type": "markdown",
   "metadata": {
    "application/vnd.databricks.v1+cell": {
     "cellMetadata": {
      "byteLimit": 2048000,
      "rowLimit": 10000
     },
     "inputWidgets": {},
     "nuid": "213cc8c0-acdc-4a4b-932d-8024a18af656",
     "showTitle": false,
     "tableResultSettingsMap": {},
     "title": ""
    }
   },
   "source": [
    "### Tabela Goalscorers\n",
    "O fluxo de transformação para criação da tabela silver.goalscorers é descrito a seguir:\n",
    "\n",
    "- Padronização de Datas: Converte date para DATE.\n",
    "\n",
    "- Unificação de Nomes de Times e Jogadores: Padroniza scoring_team, home_team e away_team via bronze.former_names; Não formata scorer (isso será feito na camada Gold).\n",
    "\n",
    "- Conversão de Flags Booleanas: Transforma own_goal e penalty em BOOLEAN (TRUE/FALSE).\n",
    "\n",
    "- Filtro de Qualidade: Remove gols sem jogador associado (WHERE scorer IS NOT NULL)."
   ]
  },
  {
   "cell_type": "code",
   "execution_count": 0,
   "metadata": {
    "application/vnd.databricks.v1+cell": {
     "cellMetadata": {
      "byteLimit": 2048000,
      "implicitDf": true,
      "rowLimit": 10000
     },
     "inputWidgets": {},
     "nuid": "ce9f573e-54bc-47b3-aec9-f72aec722ee4",
     "showTitle": false,
     "tableResultSettingsMap": {},
     "title": ""
    }
   },
   "outputs": [
    {
     "output_type": "display_data",
     "data": {
      "text/html": [
       "<style scoped>\n",
       "  .table-result-container {\n",
       "    max-height: 300px;\n",
       "    overflow: auto;\n",
       "  }\n",
       "  table, th, td {\n",
       "    border: 1px solid black;\n",
       "    border-collapse: collapse;\n",
       "  }\n",
       "  th, td {\n",
       "    padding: 5px;\n",
       "  }\n",
       "  th {\n",
       "    text-align: left;\n",
       "  }\n",
       "</style><div class='table-result-container'><table class='table-result'><thead style='background-color: white'><tr><th>num_affected_rows</th><th>num_inserted_rows</th></tr></thead><tbody></tbody></table></div>"
      ]
     },
     "metadata": {
      "application/vnd.databricks.v1+output": {
       "addedWidgets": {},
       "aggData": [],
       "aggError": "",
       "aggOverflow": false,
       "aggSchema": [],
       "aggSeriesLimitReached": false,
       "aggType": "",
       "arguments": {},
       "columnCustomDisplayInfos": {},
       "data": [],
       "datasetInfos": [],
       "dbfsResultPath": null,
       "isJsonSchema": true,
       "metadata": {},
       "overflow": false,
       "plotOptions": {
        "customPlotOptions": {},
        "displayType": "table",
        "pivotAggregation": null,
        "pivotColumns": null,
        "xColumns": null,
        "yColumns": null
       },
       "removedWidgets": [],
       "schema": [
        {
         "metadata": "{}",
         "name": "num_affected_rows",
         "type": "\"long\""
        },
        {
         "metadata": "{}",
         "name": "num_inserted_rows",
         "type": "\"long\""
        }
       ],
       "type": "table"
      }
     },
     "output_type": "display_data"
    }
   ],
   "source": [
    "%sql\n",
    "CREATE OR REPLACE TABLE silver.goalscorers AS\n",
    "SELECT \n",
    "  r.match_id,  -- Usando o match_id da tabela results já existente\n",
    "  date(g.date) AS match_date,\n",
    "  COALESCE(fn_team.current, g.team) AS scoring_team,\n",
    "  COALESCE(fn_home.current, g.home_team) AS home_team,\n",
    "  COALESCE(fn_away.current, g.away_team) AS away_team,\n",
    "  g.scorer AS player_name_raw,  -- Sem formatação\n",
    "  CAST(g.own_goal AS BOOLEAN) AS is_own_goal,\n",
    "  CAST(g.penalty AS BOOLEAN) AS is_penalty\n",
    "FROM bronze.goalscorers g\n",
    "JOIN silver.results r\n",
    "  ON r.home_team = g.home_team\n",
    "  AND r.away_team = g.away_team\n",
    "  AND r.match_date = date(g.date)\n",
    "LEFT JOIN bronze.former_names fn_team ON g.team = fn_team.former\n",
    "LEFT JOIN bronze.former_names fn_home ON g.home_team = fn_home.former\n",
    "LEFT JOIN bronze.former_names fn_away ON g.away_team = fn_away.former\n",
    "WHERE g.scorer IS NOT NULL;\n"
   ]
  },
  {
   "cell_type": "code",
   "execution_count": 0,
   "metadata": {
    "application/vnd.databricks.v1+cell": {
     "cellMetadata": {
      "byteLimit": 2048000,
      "implicitDf": true,
      "rowLimit": 10000
     },
     "inputWidgets": {},
     "nuid": "abc80ff1-1040-479d-9780-1a2b5e498512",
     "showTitle": false,
     "tableResultSettingsMap": {},
     "title": ""
    }
   },
   "outputs": [
    {
     "output_type": "display_data",
     "data": {
      "text/html": [
       "<style scoped>\n",
       "  .table-result-container {\n",
       "    max-height: 300px;\n",
       "    overflow: auto;\n",
       "  }\n",
       "  table, th, td {\n",
       "    border: 1px solid black;\n",
       "    border-collapse: collapse;\n",
       "  }\n",
       "  th, td {\n",
       "    padding: 5px;\n",
       "  }\n",
       "  th {\n",
       "    text-align: left;\n",
       "  }\n",
       "</style><div class='table-result-container'><table class='table-result'><thead style='background-color: white'><tr></tr></thead><tbody></tbody></table></div>"
      ]
     },
     "metadata": {
      "application/vnd.databricks.v1+output": {
       "addedWidgets": {},
       "aggData": [],
       "aggError": "",
       "aggOverflow": false,
       "aggSchema": [],
       "aggSeriesLimitReached": false,
       "aggType": "",
       "arguments": {},
       "columnCustomDisplayInfos": {},
       "data": [],
       "datasetInfos": [],
       "dbfsResultPath": null,
       "isJsonSchema": true,
       "metadata": {},
       "overflow": false,
       "plotOptions": {
        "customPlotOptions": {},
        "displayType": "table",
        "pivotAggregation": null,
        "pivotColumns": null,
        "xColumns": null,
        "yColumns": null
       },
       "removedWidgets": [],
       "schema": [],
       "type": "table"
      }
     },
     "output_type": "display_data"
    }
   ],
   "source": [
    "%sql\n",
    "-- Comentário da tabela\n",
    "ALTER TABLE silver.goalscorers \n",
    "SET TBLPROPERTIES (\n",
    "  'comment' = 'Registro de gols marcados em partidas, incluindo artilheiros e tipos de gol. Fonte: bronze.goalscorers.'\n",
    ");\n",
    "\n",
    "-- Comentários das colunas (um comando por linha)\n",
    "ALTER TABLE silver.goalscorers CHANGE COLUMN match_date match_date DATE COMMENT 'Data da partida. Domínio: Deve existir em silver.results.match_date.';\n",
    "ALTER TABLE silver.goalscorers CHANGE COLUMN scoring_team scoring_team STRING COMMENT 'Time que marcou o gol. Domínio: Valores de silver.results.home_team/away_team.';\n",
    "ALTER TABLE silver.goalscorers CHANGE COLUMN home_team home_team STRING COMMENT 'Time da casa padronizado. Domínio: Valores de silver.results.home_team.';\n",
    "ALTER TABLE silver.goalscorers CHANGE COLUMN away_team away_team STRING COMMENT 'Time visitante padronizado. Domínio: Valores de silver.results.away_team.';\n",
    "ALTER TABLE silver.goalscorers CHANGE COLUMN player_name_raw player_name_raw STRING COMMENT 'Nome do jogador sem formatação. Domínio: Texto livre (ex: \"messi\", \"Pelé\").';\n",
    "ALTER TABLE silver.goalscorers CHANGE COLUMN is_own_goal is_own_goal BOOLEAN COMMENT 'Indica se o gol foi contra. Domínio: TRUE/FALSE.';\n",
    "ALTER TABLE silver.goalscorers CHANGE COLUMN is_penalty is_penalty BOOLEAN COMMENT 'Indica se o gol foi de pênalti. Domínio: TRUE/FALSE.';"
   ]
  },
  {
   "cell_type": "code",
   "execution_count": 0,
   "metadata": {
    "application/vnd.databricks.v1+cell": {
     "cellMetadata": {
      "byteLimit": 2048000,
      "implicitDf": true,
      "rowLimit": 10000
     },
     "inputWidgets": {},
     "nuid": "7498d13b-95ef-4fcb-852b-0bcc143234d3",
     "showTitle": false,
     "tableResultSettingsMap": {},
     "title": ""
    }
   },
   "outputs": [
    {
     "output_type": "display_data",
     "data": {
      "text/html": [
       "<style scoped>\n",
       "  .table-result-container {\n",
       "    max-height: 300px;\n",
       "    overflow: auto;\n",
       "  }\n",
       "  table, th, td {\n",
       "    border: 1px solid black;\n",
       "    border-collapse: collapse;\n",
       "  }\n",
       "  th, td {\n",
       "    padding: 5px;\n",
       "  }\n",
       "  th {\n",
       "    text-align: left;\n",
       "  }\n",
       "</style><div class='table-result-container'><table class='table-result'><thead style='background-color: white'><tr><th>col_name</th><th>data_type</th><th>comment</th></tr></thead><tbody><tr><td>match_id</td><td>string</td><td>null</td></tr><tr><td>match_date</td><td>date</td><td>Data da partida. Domínio: Deve existir em silver.results.match_date.</td></tr><tr><td>scoring_team</td><td>string</td><td>Time que marcou o gol. Domínio: Valores de silver.results.home_team/away_team.</td></tr><tr><td>home_team</td><td>string</td><td>Time da casa padronizado. Domínio: Valores de silver.results.home_team.</td></tr><tr><td>away_team</td><td>string</td><td>Time visitante padronizado. Domínio: Valores de silver.results.away_team.</td></tr><tr><td>player_name_raw</td><td>string</td><td>Nome do jogador sem formatação. Domínio: Texto livre (ex: \"messi\", \"Pelé\").</td></tr><tr><td>is_own_goal</td><td>boolean</td><td>Indica se o gol foi contra. Domínio: TRUE/FALSE.</td></tr><tr><td>is_penalty</td><td>boolean</td><td>Indica se o gol foi de pênalti. Domínio: TRUE/FALSE.</td></tr></tbody></table></div>"
      ]
     },
     "metadata": {
      "application/vnd.databricks.v1+output": {
       "addedWidgets": {},
       "aggData": [],
       "aggError": "",
       "aggOverflow": false,
       "aggSchema": [],
       "aggSeriesLimitReached": false,
       "aggType": "",
       "arguments": {},
       "columnCustomDisplayInfos": {},
       "data": [
        [
         "match_id",
         "string",
         null
        ],
        [
         "match_date",
         "date",
         "Data da partida. Domínio: Deve existir em silver.results.match_date."
        ],
        [
         "scoring_team",
         "string",
         "Time que marcou o gol. Domínio: Valores de silver.results.home_team/away_team."
        ],
        [
         "home_team",
         "string",
         "Time da casa padronizado. Domínio: Valores de silver.results.home_team."
        ],
        [
         "away_team",
         "string",
         "Time visitante padronizado. Domínio: Valores de silver.results.away_team."
        ],
        [
         "player_name_raw",
         "string",
         "Nome do jogador sem formatação. Domínio: Texto livre (ex: \"messi\", \"Pelé\")."
        ],
        [
         "is_own_goal",
         "boolean",
         "Indica se o gol foi contra. Domínio: TRUE/FALSE."
        ],
        [
         "is_penalty",
         "boolean",
         "Indica se o gol foi de pênalti. Domínio: TRUE/FALSE."
        ]
       ],
       "datasetInfos": [],
       "dbfsResultPath": null,
       "isJsonSchema": true,
       "metadata": {},
       "overflow": false,
       "plotOptions": {
        "customPlotOptions": {},
        "displayType": "table",
        "pivotAggregation": null,
        "pivotColumns": null,
        "xColumns": null,
        "yColumns": null
       },
       "removedWidgets": [],
       "schema": [
        {
         "metadata": "{\"comment\":\"name of the column\"}",
         "name": "col_name",
         "type": "\"string\""
        },
        {
         "metadata": "{\"comment\":\"data type of the column\"}",
         "name": "data_type",
         "type": "\"string\""
        },
        {
         "metadata": "{\"comment\":\"comment of the column\"}",
         "name": "comment",
         "type": "\"string\""
        }
       ],
       "type": "table"
      }
     },
     "output_type": "display_data"
    }
   ],
   "source": [
    "%sql\n",
    "DESCRIBE TABLE silver.goalscorers;"
   ]
  },
  {
   "cell_type": "markdown",
   "metadata": {
    "application/vnd.databricks.v1+cell": {
     "cellMetadata": {
      "byteLimit": 2048000,
      "rowLimit": 10000
     },
     "inputWidgets": {},
     "nuid": "24e93230-9068-4d24-859c-b32e6e770c52",
     "showTitle": false,
     "tableResultSettingsMap": {},
     "title": ""
    }
   },
   "source": [
    "É verificada a criação da tabela."
   ]
  },
  {
   "cell_type": "code",
   "execution_count": 0,
   "metadata": {
    "application/vnd.databricks.v1+cell": {
     "cellMetadata": {
      "byteLimit": 2048000,
      "implicitDf": true,
      "rowLimit": 10000
     },
     "inputWidgets": {},
     "nuid": "202bba9a-ed41-4783-86fd-09137860b7e7",
     "showTitle": false,
     "tableResultSettingsMap": {},
     "title": ""
    }
   },
   "outputs": [
    {
     "output_type": "display_data",
     "data": {
      "text/html": [
       "<style scoped>\n",
       "  .table-result-container {\n",
       "    max-height: 300px;\n",
       "    overflow: auto;\n",
       "  }\n",
       "  table, th, td {\n",
       "    border: 1px solid black;\n",
       "    border-collapse: collapse;\n",
       "  }\n",
       "  th, td {\n",
       "    padding: 5px;\n",
       "  }\n",
       "  th {\n",
       "    text-align: left;\n",
       "  }\n",
       "</style><div class='table-result-container'><table class='table-result'><thead style='background-color: white'><tr><th>match_id</th><th>match_date</th><th>scoring_team</th><th>home_team</th><th>away_team</th><th>player_name_raw</th><th>is_own_goal</th><th>is_penalty</th></tr></thead><tbody><tr><td>1916-07-02_Chile_Uruguay_0_4</td><td>1916-07-02</td><td>Uruguay</td><td>Chile</td><td>Uruguay</td><td>José Piendibene</td><td>false</td><td>false</td></tr><tr><td>1916-07-02_Chile_Uruguay_0_4</td><td>1916-07-02</td><td>Uruguay</td><td>Chile</td><td>Uruguay</td><td>Isabelino Gradín</td><td>false</td><td>false</td></tr><tr><td>1916-07-02_Chile_Uruguay_0_4</td><td>1916-07-02</td><td>Uruguay</td><td>Chile</td><td>Uruguay</td><td>Isabelino Gradín</td><td>false</td><td>false</td></tr><tr><td>1916-07-02_Chile_Uruguay_0_4</td><td>1916-07-02</td><td>Uruguay</td><td>Chile</td><td>Uruguay</td><td>José Piendibene</td><td>false</td><td>false</td></tr><tr><td>1916-07-06_Argentina_Chile_6_1</td><td>1916-07-06</td><td>Argentina</td><td>Argentina</td><td>Chile</td><td>Alberto Marcovecchio</td><td>false</td><td>false</td></tr><tr><td>1916-07-06_Argentina_Chile_6_1</td><td>1916-07-06</td><td>Argentina</td><td>Argentina</td><td>Chile</td><td>Alberto Ohaco</td><td>false</td><td>false</td></tr><tr><td>1916-07-06_Argentina_Chile_6_1</td><td>1916-07-06</td><td>Argentina</td><td>Argentina</td><td>Chile</td><td>Alberto Marcovecchio</td><td>false</td><td>false</td></tr><tr><td>1916-07-06_Argentina_Chile_6_1</td><td>1916-07-06</td><td>Argentina</td><td>Argentina</td><td>Chile</td><td>Juan Domingo Brown</td><td>false</td><td>true</td></tr><tr><td>1916-07-06_Argentina_Chile_6_1</td><td>1916-07-06</td><td>Argentina</td><td>Argentina</td><td>Chile</td><td>Juan Domingo Brown</td><td>false</td><td>true</td></tr><tr><td>1916-07-06_Argentina_Chile_6_1</td><td>1916-07-06</td><td>Chile</td><td>Argentina</td><td>Chile</td><td>Telésforo Báez</td><td>false</td><td>false</td></tr><tr><td>1916-07-06_Argentina_Chile_6_1</td><td>1916-07-06</td><td>Argentina</td><td>Argentina</td><td>Chile</td><td>Alberto Ohaco</td><td>false</td><td>false</td></tr><tr><td>1916-07-08_Brazil_Chile_1_1</td><td>1916-07-08</td><td>Chile</td><td>Brazil</td><td>Chile</td><td>Hernando Salazar</td><td>false</td><td>false</td></tr><tr><td>1916-07-08_Brazil_Chile_1_1</td><td>1916-07-08</td><td>Brazil</td><td>Brazil</td><td>Chile</td><td>Demóstenes Correia de Syllos</td><td>false</td><td>false</td></tr><tr><td>1916-07-10_Argentina_Brazil_1_1</td><td>1916-07-10</td><td>Brazil</td><td>Argentina</td><td>Brazil</td><td>Manoel Alencar Monte</td><td>false</td><td>false</td></tr><tr><td>1916-07-10_Argentina_Brazil_1_1</td><td>1916-07-10</td><td>Argentina</td><td>Argentina</td><td>Brazil</td><td>José Durand Laguna</td><td>false</td><td>false</td></tr><tr><td>1916-07-12_Brazil_Uruguay_1_2</td><td>1916-07-12</td><td>Uruguay</td><td>Brazil</td><td>Uruguay</td><td>Jose Tognola</td><td>false</td><td>false</td></tr><tr><td>1916-07-12_Brazil_Uruguay_1_2</td><td>1916-07-12</td><td>Uruguay</td><td>Brazil</td><td>Uruguay</td><td>Isabelino Gradín</td><td>false</td><td>false</td></tr><tr><td>1916-07-12_Brazil_Uruguay_1_2</td><td>1916-07-12</td><td>Brazil</td><td>Brazil</td><td>Uruguay</td><td>Arthur Friedenreich</td><td>false</td><td>false</td></tr><tr><td>1917-09-30_Uruguay_Chile_4_0</td><td>1917-09-30</td><td>Uruguay</td><td>Uruguay</td><td>Chile</td><td>Ángel Romano</td><td>false</td><td>false</td></tr><tr><td>1917-09-30_Uruguay_Chile_4_0</td><td>1917-09-30</td><td>Uruguay</td><td>Uruguay</td><td>Chile</td><td>Carlos Scarone</td><td>false</td><td>true</td></tr></tbody></table></div>"
      ]
     },
     "metadata": {
      "application/vnd.databricks.v1+output": {
       "addedWidgets": {},
       "aggData": [],
       "aggError": "",
       "aggOverflow": false,
       "aggSchema": [],
       "aggSeriesLimitReached": false,
       "aggType": "",
       "arguments": {},
       "columnCustomDisplayInfos": {},
       "data": [
        [
         "1916-07-02_Chile_Uruguay_0_4",
         "1916-07-02",
         "Uruguay",
         "Chile",
         "Uruguay",
         "José Piendibene",
         false,
         false
        ],
        [
         "1916-07-02_Chile_Uruguay_0_4",
         "1916-07-02",
         "Uruguay",
         "Chile",
         "Uruguay",
         "Isabelino Gradín",
         false,
         false
        ],
        [
         "1916-07-02_Chile_Uruguay_0_4",
         "1916-07-02",
         "Uruguay",
         "Chile",
         "Uruguay",
         "Isabelino Gradín",
         false,
         false
        ],
        [
         "1916-07-02_Chile_Uruguay_0_4",
         "1916-07-02",
         "Uruguay",
         "Chile",
         "Uruguay",
         "José Piendibene",
         false,
         false
        ],
        [
         "1916-07-06_Argentina_Chile_6_1",
         "1916-07-06",
         "Argentina",
         "Argentina",
         "Chile",
         "Alberto Marcovecchio",
         false,
         false
        ],
        [
         "1916-07-06_Argentina_Chile_6_1",
         "1916-07-06",
         "Argentina",
         "Argentina",
         "Chile",
         "Alberto Ohaco",
         false,
         false
        ],
        [
         "1916-07-06_Argentina_Chile_6_1",
         "1916-07-06",
         "Argentina",
         "Argentina",
         "Chile",
         "Alberto Marcovecchio",
         false,
         false
        ],
        [
         "1916-07-06_Argentina_Chile_6_1",
         "1916-07-06",
         "Argentina",
         "Argentina",
         "Chile",
         "Juan Domingo Brown",
         false,
         true
        ],
        [
         "1916-07-06_Argentina_Chile_6_1",
         "1916-07-06",
         "Argentina",
         "Argentina",
         "Chile",
         "Juan Domingo Brown",
         false,
         true
        ],
        [
         "1916-07-06_Argentina_Chile_6_1",
         "1916-07-06",
         "Chile",
         "Argentina",
         "Chile",
         "Telésforo Báez",
         false,
         false
        ],
        [
         "1916-07-06_Argentina_Chile_6_1",
         "1916-07-06",
         "Argentina",
         "Argentina",
         "Chile",
         "Alberto Ohaco",
         false,
         false
        ],
        [
         "1916-07-08_Brazil_Chile_1_1",
         "1916-07-08",
         "Chile",
         "Brazil",
         "Chile",
         "Hernando Salazar",
         false,
         false
        ],
        [
         "1916-07-08_Brazil_Chile_1_1",
         "1916-07-08",
         "Brazil",
         "Brazil",
         "Chile",
         "Demóstenes Correia de Syllos",
         false,
         false
        ],
        [
         "1916-07-10_Argentina_Brazil_1_1",
         "1916-07-10",
         "Brazil",
         "Argentina",
         "Brazil",
         "Manoel Alencar Monte",
         false,
         false
        ],
        [
         "1916-07-10_Argentina_Brazil_1_1",
         "1916-07-10",
         "Argentina",
         "Argentina",
         "Brazil",
         "José Durand Laguna",
         false,
         false
        ],
        [
         "1916-07-12_Brazil_Uruguay_1_2",
         "1916-07-12",
         "Uruguay",
         "Brazil",
         "Uruguay",
         "Jose Tognola",
         false,
         false
        ],
        [
         "1916-07-12_Brazil_Uruguay_1_2",
         "1916-07-12",
         "Uruguay",
         "Brazil",
         "Uruguay",
         "Isabelino Gradín",
         false,
         false
        ],
        [
         "1916-07-12_Brazil_Uruguay_1_2",
         "1916-07-12",
         "Brazil",
         "Brazil",
         "Uruguay",
         "Arthur Friedenreich",
         false,
         false
        ],
        [
         "1917-09-30_Uruguay_Chile_4_0",
         "1917-09-30",
         "Uruguay",
         "Uruguay",
         "Chile",
         "Ángel Romano",
         false,
         false
        ],
        [
         "1917-09-30_Uruguay_Chile_4_0",
         "1917-09-30",
         "Uruguay",
         "Uruguay",
         "Chile",
         "Carlos Scarone",
         false,
         true
        ]
       ],
       "datasetInfos": [],
       "dbfsResultPath": null,
       "isJsonSchema": true,
       "metadata": {},
       "overflow": false,
       "plotOptions": {
        "customPlotOptions": {},
        "displayType": "table",
        "pivotAggregation": null,
        "pivotColumns": null,
        "xColumns": null,
        "yColumns": null
       },
       "removedWidgets": [],
       "schema": [
        {
         "metadata": "{}",
         "name": "match_id",
         "type": "\"string\""
        },
        {
         "metadata": "{\"comment\":\"Data da partida. Domínio: Deve existir em silver.results.match_date.\"}",
         "name": "match_date",
         "type": "\"date\""
        },
        {
         "metadata": "{\"comment\":\"Time que marcou o gol. Domínio: Valores de silver.results.home_team/away_team.\"}",
         "name": "scoring_team",
         "type": "\"string\""
        },
        {
         "metadata": "{\"comment\":\"Time da casa padronizado. Domínio: Valores de silver.results.home_team.\"}",
         "name": "home_team",
         "type": "\"string\""
        },
        {
         "metadata": "{\"comment\":\"Time visitante padronizado. Domínio: Valores de silver.results.away_team.\"}",
         "name": "away_team",
         "type": "\"string\""
        },
        {
         "metadata": "{\"comment\":\"Nome do jogador sem formatação. Domínio: Texto livre (ex: \\\"messi\\\", \\\"Pelé\\\").\"}",
         "name": "player_name_raw",
         "type": "\"string\""
        },
        {
         "metadata": "{\"comment\":\"Indica se o gol foi contra. Domínio: TRUE/FALSE.\"}",
         "name": "is_own_goal",
         "type": "\"boolean\""
        },
        {
         "metadata": "{\"comment\":\"Indica se o gol foi de pênalti. Domínio: TRUE/FALSE.\"}",
         "name": "is_penalty",
         "type": "\"boolean\""
        }
       ],
       "type": "table"
      }
     },
     "output_type": "display_data"
    }
   ],
   "source": [
    "%sql\n",
    "-- Verificar a tabela silver.goalscorers\n",
    "SELECT * FROM silver.goalscorers LIMIT 20;"
   ]
  },
  {
   "cell_type": "markdown",
   "metadata": {
    "application/vnd.databricks.v1+cell": {
     "cellMetadata": {
      "byteLimit": 2048000,
      "rowLimit": 10000
     },
     "inputWidgets": {},
     "nuid": "8747585d-6b7b-48d3-9da0-ad21d96b7554",
     "showTitle": false,
     "tableResultSettingsMap": {},
     "title": ""
    }
   },
   "source": [
    "### Tabela FIFA_Ranking\n",
    "O fluxo de transformação para criação da tabela silver.fifa_ranking é descrito a seguir:\n",
    "- Padronização de Datas: Converte rank_date para DATE.\n",
    "\n",
    "- Unificação de Nomes de Países: Usa bronze.former_names para garantir consistência.\n",
    "\n",
    "- Conversão de Tipos Numéricos: Converte rank para INT e total_points para DECIMAL(10,2)."
   ]
  },
  {
   "cell_type": "code",
   "execution_count": 0,
   "metadata": {
    "application/vnd.databricks.v1+cell": {
     "cellMetadata": {
      "byteLimit": 2048000,
      "implicitDf": true,
      "rowLimit": 10000
     },
     "inputWidgets": {},
     "nuid": "3fb78176-f23e-4389-ba03-79ecb385103e",
     "showTitle": false,
     "tableResultSettingsMap": {},
     "title": ""
    }
   },
   "outputs": [
    {
     "output_type": "display_data",
     "data": {
      "text/html": [
       "<style scoped>\n",
       "  .table-result-container {\n",
       "    max-height: 300px;\n",
       "    overflow: auto;\n",
       "  }\n",
       "  table, th, td {\n",
       "    border: 1px solid black;\n",
       "    border-collapse: collapse;\n",
       "  }\n",
       "  th, td {\n",
       "    padding: 5px;\n",
       "  }\n",
       "  th {\n",
       "    text-align: left;\n",
       "  }\n",
       "</style><div class='table-result-container'><table class='table-result'><thead style='background-color: white'><tr><th>num_affected_rows</th><th>num_inserted_rows</th></tr></thead><tbody></tbody></table></div>"
      ]
     },
     "metadata": {
      "application/vnd.databricks.v1+output": {
       "addedWidgets": {},
       "aggData": [],
       "aggError": "",
       "aggOverflow": false,
       "aggSchema": [],
       "aggSeriesLimitReached": false,
       "aggType": "",
       "arguments": {},
       "columnCustomDisplayInfos": {},
       "data": [],
       "datasetInfos": [],
       "dbfsResultPath": null,
       "isJsonSchema": true,
       "metadata": {},
       "overflow": false,
       "plotOptions": {
        "customPlotOptions": {},
        "displayType": "table",
        "pivotAggregation": null,
        "pivotColumns": null,
        "xColumns": null,
        "yColumns": null
       },
       "removedWidgets": [],
       "schema": [
        {
         "metadata": "{}",
         "name": "num_affected_rows",
         "type": "\"long\""
        },
        {
         "metadata": "{}",
         "name": "num_inserted_rows",
         "type": "\"long\""
        }
       ],
       "type": "table"
      }
     },
     "output_type": "display_data"
    }
   ],
   "source": [
    "%sql\n",
    "CREATE OR REPLACE TABLE silver.fifa_ranking AS\n",
    "SELECT \n",
    "  date(r.rank_date) AS rank_date,\n",
    "  COALESCE(fn.current, r.country_full) AS country,\n",
    "  CAST(r.rank AS INT) AS rank,\n",
    "  CAST(r.total_points AS DECIMAL(10,2)) AS total_points\n",
    "FROM bronze.fifa_ranking r\n",
    "LEFT JOIN bronze.former_names fn ON r.country_full = fn.former;"
   ]
  },
  {
   "cell_type": "code",
   "execution_count": 0,
   "metadata": {
    "application/vnd.databricks.v1+cell": {
     "cellMetadata": {
      "byteLimit": 2048000,
      "implicitDf": true,
      "rowLimit": 10000
     },
     "inputWidgets": {},
     "nuid": "c0f25d37-b4f9-4a85-92aa-151dce3a25c1",
     "showTitle": false,
     "tableResultSettingsMap": {},
     "title": ""
    }
   },
   "outputs": [
    {
     "output_type": "display_data",
     "data": {
      "text/html": [
       "<style scoped>\n",
       "  .table-result-container {\n",
       "    max-height: 300px;\n",
       "    overflow: auto;\n",
       "  }\n",
       "  table, th, td {\n",
       "    border: 1px solid black;\n",
       "    border-collapse: collapse;\n",
       "  }\n",
       "  th, td {\n",
       "    padding: 5px;\n",
       "  }\n",
       "  th {\n",
       "    text-align: left;\n",
       "  }\n",
       "</style><div class='table-result-container'><table class='table-result'><thead style='background-color: white'><tr></tr></thead><tbody></tbody></table></div>"
      ]
     },
     "metadata": {
      "application/vnd.databricks.v1+output": {
       "addedWidgets": {},
       "aggData": [],
       "aggError": "",
       "aggOverflow": false,
       "aggSchema": [],
       "aggSeriesLimitReached": false,
       "aggType": "",
       "arguments": {},
       "columnCustomDisplayInfos": {},
       "data": [],
       "datasetInfos": [],
       "dbfsResultPath": null,
       "isJsonSchema": true,
       "metadata": {},
       "overflow": false,
       "plotOptions": {
        "customPlotOptions": {},
        "displayType": "table",
        "pivotAggregation": null,
        "pivotColumns": null,
        "xColumns": null,
        "yColumns": null
       },
       "removedWidgets": [],
       "schema": [],
       "type": "table"
      }
     },
     "output_type": "display_data"
    }
   ],
   "source": [
    "%sql\n",
    "-- Comentário da tabela\n",
    "ALTER TABLE silver.fifa_ranking \n",
    "SET TBLPROPERTIES (\n",
    "  'comment' = 'Rankings FIFA históricos de seleções nacionais. Fonte: bronze.fifa_ranking.'\n",
    ");\n",
    "\n",
    "-- Comentários das colunas\n",
    "ALTER TABLE silver.fifa_ranking CHANGE COLUMN rank_date rank_date DATE COMMENT 'Data de publicação do ranking. Domínio: Datas entre 1992-08-17 (primeiro ranking FIFA) e a data atual.';\n",
    "ALTER TABLE silver.fifa_ranking CHANGE COLUMN country country STRING COMMENT 'Nome do país padronizado. Domínio: Valores de silver.teams.standardized_name.';\n",
    "ALTER TABLE silver.fifa_ranking CHANGE COLUMN rank rank INT COMMENT 'Posição no ranking FIFA. Domínio: Inteiro entre 1 e 211 (total de associações FIFA).';\n",
    "ALTER TABLE silver.fifa_ranking CHANGE COLUMN total_points total_points DECIMAL(10, 2) COMMENT 'Pontos totais no ranking. Domínio: Decimal entre 0 e 1842.52 (máximo histórico).';"
   ]
  },
  {
   "cell_type": "code",
   "execution_count": 0,
   "metadata": {
    "application/vnd.databricks.v1+cell": {
     "cellMetadata": {
      "byteLimit": 2048000,
      "implicitDf": true,
      "rowLimit": 10000
     },
     "inputWidgets": {},
     "nuid": "a5ab7b2b-059a-4c6a-b2b3-82ecae78d131",
     "showTitle": false,
     "tableResultSettingsMap": {},
     "title": ""
    }
   },
   "outputs": [
    {
     "output_type": "display_data",
     "data": {
      "text/html": [
       "<style scoped>\n",
       "  .table-result-container {\n",
       "    max-height: 300px;\n",
       "    overflow: auto;\n",
       "  }\n",
       "  table, th, td {\n",
       "    border: 1px solid black;\n",
       "    border-collapse: collapse;\n",
       "  }\n",
       "  th, td {\n",
       "    padding: 5px;\n",
       "  }\n",
       "  th {\n",
       "    text-align: left;\n",
       "  }\n",
       "</style><div class='table-result-container'><table class='table-result'><thead style='background-color: white'><tr><th>col_name</th><th>data_type</th><th>comment</th></tr></thead><tbody><tr><td>rank_date</td><td>date</td><td>Data de publicação do ranking. Domínio: Datas entre 1992-08-17 (primeiro ranking FIFA) e a data atual.</td></tr><tr><td>country</td><td>string</td><td>Nome do país padronizado. Domínio: Valores de silver.teams.standardized_name.</td></tr><tr><td>rank</td><td>int</td><td>Posição no ranking FIFA. Domínio: Inteiro entre 1 e 211 (total de associações FIFA).</td></tr><tr><td>total_points</td><td>decimal(10,2)</td><td>Pontos totais no ranking. Domínio: Decimal entre 0 e 1842.52 (máximo histórico).</td></tr></tbody></table></div>"
      ]
     },
     "metadata": {
      "application/vnd.databricks.v1+output": {
       "addedWidgets": {},
       "aggData": [],
       "aggError": "",
       "aggOverflow": false,
       "aggSchema": [],
       "aggSeriesLimitReached": false,
       "aggType": "",
       "arguments": {},
       "columnCustomDisplayInfos": {},
       "data": [
        [
         "rank_date",
         "date",
         "Data de publicação do ranking. Domínio: Datas entre 1992-08-17 (primeiro ranking FIFA) e a data atual."
        ],
        [
         "country",
         "string",
         "Nome do país padronizado. Domínio: Valores de silver.teams.standardized_name."
        ],
        [
         "rank",
         "int",
         "Posição no ranking FIFA. Domínio: Inteiro entre 1 e 211 (total de associações FIFA)."
        ],
        [
         "total_points",
         "decimal(10,2)",
         "Pontos totais no ranking. Domínio: Decimal entre 0 e 1842.52 (máximo histórico)."
        ]
       ],
       "datasetInfos": [],
       "dbfsResultPath": null,
       "isJsonSchema": true,
       "metadata": {},
       "overflow": false,
       "plotOptions": {
        "customPlotOptions": {},
        "displayType": "table",
        "pivotAggregation": null,
        "pivotColumns": null,
        "xColumns": null,
        "yColumns": null
       },
       "removedWidgets": [],
       "schema": [
        {
         "metadata": "{\"comment\":\"name of the column\"}",
         "name": "col_name",
         "type": "\"string\""
        },
        {
         "metadata": "{\"comment\":\"data type of the column\"}",
         "name": "data_type",
         "type": "\"string\""
        },
        {
         "metadata": "{\"comment\":\"comment of the column\"}",
         "name": "comment",
         "type": "\"string\""
        }
       ],
       "type": "table"
      }
     },
     "output_type": "display_data"
    }
   ],
   "source": [
    "%sql\n",
    "DESCRIBE TABLE silver.fifa_ranking;"
   ]
  },
  {
   "cell_type": "markdown",
   "metadata": {
    "application/vnd.databricks.v1+cell": {
     "cellMetadata": {
      "byteLimit": 2048000,
      "rowLimit": 10000
     },
     "inputWidgets": {},
     "nuid": "317745cf-342b-4994-95c5-8a4ac9461314",
     "showTitle": false,
     "tableResultSettingsMap": {},
     "title": ""
    }
   },
   "source": [
    "É verificada a criação da tabela."
   ]
  },
  {
   "cell_type": "code",
   "execution_count": 0,
   "metadata": {
    "application/vnd.databricks.v1+cell": {
     "cellMetadata": {
      "byteLimit": 2048000,
      "implicitDf": true,
      "rowLimit": 10000
     },
     "inputWidgets": {},
     "nuid": "cf854770-319f-48b8-a2a5-2edd5c993640",
     "showTitle": false,
     "tableResultSettingsMap": {},
     "title": ""
    }
   },
   "outputs": [
    {
     "output_type": "display_data",
     "data": {
      "text/html": [
       "<style scoped>\n",
       "  .table-result-container {\n",
       "    max-height: 300px;\n",
       "    overflow: auto;\n",
       "  }\n",
       "  table, th, td {\n",
       "    border: 1px solid black;\n",
       "    border-collapse: collapse;\n",
       "  }\n",
       "  th, td {\n",
       "    padding: 5px;\n",
       "  }\n",
       "  th {\n",
       "    text-align: left;\n",
       "  }\n",
       "</style><div class='table-result-container'><table class='table-result'><thead style='background-color: white'><tr><th>rank_date</th><th>country</th><th>rank</th><th>total_points</th></tr></thead><tbody><tr><td>1992-12-31</td><td>Brunei Darussalam</td><td>140</td><td>2.00</td></tr><tr><td>1992-12-31</td><td>Portugal</td><td>33</td><td>38.00</td></tr><tr><td>1992-12-31</td><td>Zambia</td><td>32</td><td>38.00</td></tr><tr><td>1992-12-31</td><td>Greece</td><td>31</td><td>38.00</td></tr><tr><td>1992-12-31</td><td>Algeria</td><td>30</td><td>39.00</td></tr><tr><td>1992-12-31</td><td>Yugoslavia</td><td>29</td><td>39.00</td></tr><tr><td>1992-12-31</td><td>Wales</td><td>28</td><td>40.00</td></tr><tr><td>1992-12-31</td><td>Côte d'Ivoire</td><td>27</td><td>41.00</td></tr><tr><td>1992-12-31</td><td>Austria</td><td>34</td><td>38.00</td></tr><tr><td>1992-12-31</td><td>Bulgaria</td><td>26</td><td>41.00</td></tr><tr><td>1992-12-31</td><td>USA</td><td>24</td><td>43.00</td></tr><tr><td>1992-12-31</td><td>Scotland</td><td>23</td><td>43.00</td></tr><tr><td>1992-12-31</td><td>Cameroon</td><td>22</td><td>43.00</td></tr><tr><td>1992-12-31</td><td>Egypt</td><td>21</td><td>45.00</td></tr><tr><td>1992-12-31</td><td>Poland</td><td>20</td><td>46.00</td></tr><tr><td>1992-12-31</td><td>France</td><td>19</td><td>46.00</td></tr><tr><td>1992-12-31</td><td>Czechoslovakia</td><td>18</td><td>47.00</td></tr><tr><td>1992-12-31</td><td>Mexico</td><td>25</td><td>43.00</td></tr><tr><td>1992-12-31</td><td>Colombia</td><td>35</td><td>36.00</td></tr><tr><td>1992-12-31</td><td>Hungary</td><td>36</td><td>36.00</td></tr></tbody></table></div>"
      ]
     },
     "metadata": {
      "application/vnd.databricks.v1+output": {
       "addedWidgets": {},
       "aggData": [],
       "aggError": "",
       "aggOverflow": false,
       "aggSchema": [],
       "aggSeriesLimitReached": false,
       "aggType": "",
       "arguments": {},
       "columnCustomDisplayInfos": {},
       "data": [
        [
         "1992-12-31",
         "Brunei Darussalam",
         140,
         "2.00"
        ],
        [
         "1992-12-31",
         "Portugal",
         33,
         "38.00"
        ],
        [
         "1992-12-31",
         "Zambia",
         32,
         "38.00"
        ],
        [
         "1992-12-31",
         "Greece",
         31,
         "38.00"
        ],
        [
         "1992-12-31",
         "Algeria",
         30,
         "39.00"
        ],
        [
         "1992-12-31",
         "Yugoslavia",
         29,
         "39.00"
        ],
        [
         "1992-12-31",
         "Wales",
         28,
         "40.00"
        ],
        [
         "1992-12-31",
         "Côte d'Ivoire",
         27,
         "41.00"
        ],
        [
         "1992-12-31",
         "Austria",
         34,
         "38.00"
        ],
        [
         "1992-12-31",
         "Bulgaria",
         26,
         "41.00"
        ],
        [
         "1992-12-31",
         "USA",
         24,
         "43.00"
        ],
        [
         "1992-12-31",
         "Scotland",
         23,
         "43.00"
        ],
        [
         "1992-12-31",
         "Cameroon",
         22,
         "43.00"
        ],
        [
         "1992-12-31",
         "Egypt",
         21,
         "45.00"
        ],
        [
         "1992-12-31",
         "Poland",
         20,
         "46.00"
        ],
        [
         "1992-12-31",
         "France",
         19,
         "46.00"
        ],
        [
         "1992-12-31",
         "Czechoslovakia",
         18,
         "47.00"
        ],
        [
         "1992-12-31",
         "Mexico",
         25,
         "43.00"
        ],
        [
         "1992-12-31",
         "Colombia",
         35,
         "36.00"
        ],
        [
         "1992-12-31",
         "Hungary",
         36,
         "36.00"
        ]
       ],
       "datasetInfos": [],
       "dbfsResultPath": null,
       "isJsonSchema": true,
       "metadata": {},
       "overflow": false,
       "plotOptions": {
        "customPlotOptions": {},
        "displayType": "table",
        "pivotAggregation": null,
        "pivotColumns": null,
        "xColumns": null,
        "yColumns": null
       },
       "removedWidgets": [],
       "schema": [
        {
         "metadata": "{\"comment\":\"Data de publicação do ranking. Domínio: Datas entre 1992-08-17 (primeiro ranking FIFA) e a data atual.\"}",
         "name": "rank_date",
         "type": "\"date\""
        },
        {
         "metadata": "{\"comment\":\"Nome do país padronizado. Domínio: Valores de silver.teams.standardized_name.\"}",
         "name": "country",
         "type": "\"string\""
        },
        {
         "metadata": "{\"comment\":\"Posição no ranking FIFA. Domínio: Inteiro entre 1 e 211 (total de associações FIFA).\"}",
         "name": "rank",
         "type": "\"integer\""
        },
        {
         "metadata": "{\"comment\":\"Pontos totais no ranking. Domínio: Decimal entre 0 e 1842.52 (máximo histórico).\"}",
         "name": "total_points",
         "type": "\"decimal(10,2)\""
        }
       ],
       "type": "table"
      }
     },
     "output_type": "display_data"
    }
   ],
   "source": [
    "%sql\n",
    "SELECT *\n",
    "FROM silver.fifa_ranking LIMIT 20;"
   ]
  },
  {
   "cell_type": "markdown",
   "metadata": {
    "application/vnd.databricks.v1+cell": {
     "cellMetadata": {
      "byteLimit": 2048000,
      "rowLimit": 10000
     },
     "inputWidgets": {},
     "nuid": "33f7db8d-9930-430d-ad88-132922622f02",
     "showTitle": false,
     "tableResultSettingsMap": {},
     "title": ""
    }
   },
   "source": [
    "Também são realizadas algumas atualizações de nomes dos países para o mesmo nome registrado nas tabelas anteriores."
   ]
  },
  {
   "cell_type": "code",
   "execution_count": 0,
   "metadata": {
    "application/vnd.databricks.v1+cell": {
     "cellMetadata": {
      "byteLimit": 2048000,
      "implicitDf": true,
      "rowLimit": 10000
     },
     "inputWidgets": {},
     "nuid": "576265fd-36df-45a2-94c7-b7b509f0ebc7",
     "showTitle": false,
     "tableResultSettingsMap": {},
     "title": ""
    }
   },
   "outputs": [
    {
     "output_type": "display_data",
     "data": {
      "text/html": [
       "<style scoped>\n",
       "  .table-result-container {\n",
       "    max-height: 300px;\n",
       "    overflow: auto;\n",
       "  }\n",
       "  table, th, td {\n",
       "    border: 1px solid black;\n",
       "    border-collapse: collapse;\n",
       "  }\n",
       "  th, td {\n",
       "    padding: 5px;\n",
       "  }\n",
       "  th {\n",
       "    text-align: left;\n",
       "  }\n",
       "</style><div class='table-result-container'><table class='table-result'><thead style='background-color: white'><tr><th>num_affected_rows</th></tr></thead><tbody><tr><td>5594</td></tr></tbody></table></div>"
      ]
     },
     "metadata": {
      "application/vnd.databricks.v1+output": {
       "addedWidgets": {},
       "aggData": [],
       "aggError": "",
       "aggOverflow": false,
       "aggSchema": [],
       "aggSeriesLimitReached": false,
       "aggType": "",
       "arguments": {},
       "columnCustomDisplayInfos": {},
       "data": [
        [
         5594
        ]
       ],
       "datasetInfos": [],
       "dbfsResultPath": null,
       "isJsonSchema": true,
       "metadata": {},
       "overflow": false,
       "plotOptions": {
        "customPlotOptions": {},
        "displayType": "table",
        "pivotAggregation": null,
        "pivotColumns": null,
        "xColumns": null,
        "yColumns": null
       },
       "removedWidgets": [],
       "schema": [
        {
         "metadata": "{}",
         "name": "num_affected_rows",
         "type": "\"long\""
        }
       ],
       "type": "table"
      }
     },
     "output_type": "display_data"
    }
   ],
   "source": [
    "%sql\n",
    "-- Atualiza os nomes dos países na tabela silver.ranking para padronização\n",
    "UPDATE silver.fifa_ranking\n",
    "SET country = CASE \n",
    "    WHEN country = 'Brunei Darussalam' THEN 'Brunei'\n",
    "    WHEN country = 'Congo DR' THEN 'DR Congo'\n",
    "    WHEN country = 'Chinese Taipei' THEN 'Taiwan'\n",
    "    WHEN country = 'Cabo Verde' THEN 'Cape Verde'\n",
    "    WHEN country = 'Curacao' THEN 'Curaçao'\n",
    "    WHEN country = 'Czechia' THEN 'Czech Republic'\n",
    "    WHEN country = 'The Gambia' THEN 'Gambia'\n",
    "    WHEN country = 'IR Iran' THEN 'Iran'\n",
    "    WHEN country = \"Côte d'Ivoire\" THEN 'Ivory Coast'\n",
    "    WHEN country = 'Kyrgyz Republic' THEN 'Kyrgyzstan'\n",
    "    WHEN country = 'Korea DPR' THEN 'North Korea'\n",
    "    WHEN country = 'St Kitts and Nevis' THEN 'Saint Kitts and Nevis'\n",
    "    WHEN country = 'St Lucia' THEN 'Saint Lucia'\n",
    "    WHEN country = 'Korea Republic' THEN 'South Korea'\n",
    "    WHEN country = 'Sao Tome and Principe' THEN 'São Tomé and Príncipe'\n",
    "    WHEN country = 'USA' THEN 'United States'\n",
    "    WHEN country = 'St Vincent and the Grenadines' THEN 'Saint Vincent and the Grenadines'\n",
    "    WHEN country = 'US Virgin Islands' THEN 'United States Virgin Islands'\n",
    "    ELSE country\n",
    "END\n",
    "WHERE country IN (\n",
    "    'Brunei Darussalam', 'Congo DR', 'Chinese Taipei', 'Cabo Verde', \n",
    "    'Curacao', 'Czechia', 'The Gambia', 'IR Iran', \"Côte d'Ivoire\", \n",
    "    'Korea DPR', 'St Kitts and Nevis', 'St Lucia', 'Korea Republic', \n",
    "    'Sao Tome and Principe', 'USA', 'Kyrgyz Republic', \n",
    "    'St Vincent and the Grenadines', 'US Virgin Islands'\n",
    ");"
   ]
  },
  {
   "cell_type": "code",
   "execution_count": 0,
   "metadata": {
    "application/vnd.databricks.v1+cell": {
     "cellMetadata": {
      "byteLimit": 2048000,
      "implicitDf": true,
      "rowLimit": 10000
     },
     "inputWidgets": {},
     "nuid": "63097ea6-7fa3-4ece-af5e-9977639a34a0",
     "showTitle": false,
     "tableResultSettingsMap": {},
     "title": ""
    }
   },
   "outputs": [
    {
     "output_type": "display_data",
     "data": {
      "text/html": [
       "<style scoped>\n",
       "  .table-result-container {\n",
       "    max-height: 300px;\n",
       "    overflow: auto;\n",
       "  }\n",
       "  table, th, td {\n",
       "    border: 1px solid black;\n",
       "    border-collapse: collapse;\n",
       "  }\n",
       "  th, td {\n",
       "    padding: 5px;\n",
       "  }\n",
       "  th {\n",
       "    text-align: left;\n",
       "  }\n",
       "</style><div class='table-result-container'><table class='table-result'><thead style='background-color: white'><tr><th>country</th></tr></thead><tbody><tr><td>Brunei</td></tr><tr><td>Cape Verde</td></tr><tr><td>Curaçao</td></tr><tr><td>Czech Republic</td></tr><tr><td>DR Congo</td></tr><tr><td>Gambia</td></tr><tr><td>Iran</td></tr><tr><td>Ivory Coast</td></tr><tr><td>Kyrgyzstan</td></tr><tr><td>North Korea</td></tr><tr><td>Saint Kitts and Nevis</td></tr><tr><td>Saint Lucia</td></tr><tr><td>Saint Vincent and the Grenadines</td></tr><tr><td>South Korea</td></tr><tr><td>São Tomé and Príncipe</td></tr><tr><td>Taiwan</td></tr><tr><td>United States Virgin Islands</td></tr></tbody></table></div>"
      ]
     },
     "metadata": {
      "application/vnd.databricks.v1+output": {
       "addedWidgets": {},
       "aggData": [],
       "aggError": "",
       "aggOverflow": false,
       "aggSchema": [],
       "aggSeriesLimitReached": false,
       "aggType": "",
       "arguments": {},
       "columnCustomDisplayInfos": {},
       "data": [
        [
         "Brunei"
        ],
        [
         "Cape Verde"
        ],
        [
         "Curaçao"
        ],
        [
         "Czech Republic"
        ],
        [
         "DR Congo"
        ],
        [
         "Gambia"
        ],
        [
         "Iran"
        ],
        [
         "Ivory Coast"
        ],
        [
         "Kyrgyzstan"
        ],
        [
         "North Korea"
        ],
        [
         "Saint Kitts and Nevis"
        ],
        [
         "Saint Lucia"
        ],
        [
         "Saint Vincent and the Grenadines"
        ],
        [
         "South Korea"
        ],
        [
         "São Tomé and Príncipe"
        ],
        [
         "Taiwan"
        ],
        [
         "United States Virgin Islands"
        ]
       ],
       "datasetInfos": [],
       "dbfsResultPath": null,
       "isJsonSchema": true,
       "metadata": {},
       "overflow": false,
       "plotOptions": {
        "customPlotOptions": {},
        "displayType": "table",
        "pivotAggregation": null,
        "pivotColumns": null,
        "xColumns": null,
        "yColumns": null
       },
       "removedWidgets": [],
       "schema": [
        {
         "metadata": "{\"comment\":\"Nome do país padronizado. Domínio: Valores de silver.teams.standardized_name.\"}",
         "name": "country",
         "type": "\"string\""
        }
       ],
       "type": "table"
      }
     },
     "output_type": "display_data"
    }
   ],
   "source": [
    "%sql\n",
    "SELECT DISTINCT country FROM silver.fifa_ranking\n",
    "WHERE country IN ('Brunei', 'DR Congo', 'Taiwan', 'Cape Verde', 'Curaçao', \n",
    "                      'Czech Republic', 'Gambia', 'Iran', 'Ivory Coast', \n",
    "                      'North Korea', 'Saint Kitts and Nevis', 'Saint Lucia', \n",
    "                      'South Korea', 'São Tomé and Príncipe','Kyrgyzstan',\n",
    "                      'Saint Vincent and the Grenadines', \n",
    "                      'United States Virgin Islands')\n",
    "ORDER BY country;"
   ]
  },
  {
   "cell_type": "markdown",
   "metadata": {
    "application/vnd.databricks.v1+cell": {
     "cellMetadata": {
      "byteLimit": 2048000,
      "rowLimit": 10000
     },
     "inputWidgets": {},
     "nuid": "4bf441ec-c6aa-4aa9-ace3-e32eecc56d7a",
     "showTitle": false,
     "tableResultSettingsMap": {},
     "title": ""
    }
   },
   "source": [
    "Também é verificado se há algum país sem ranking definido na tabela."
   ]
  },
  {
   "cell_type": "code",
   "execution_count": 0,
   "metadata": {
    "application/vnd.databricks.v1+cell": {
     "cellMetadata": {
      "byteLimit": 2048000,
      "implicitDf": true,
      "rowLimit": 10000
     },
     "inputWidgets": {},
     "nuid": "bb05a6dd-4f86-450b-8652-fb179207421a",
     "showTitle": true,
     "tableResultSettingsMap": {},
     "title": "Posições no ranking válidas"
    }
   },
   "outputs": [
    {
     "output_type": "display_data",
     "data": {
      "text/html": [
       "<style scoped>\n",
       "  .table-result-container {\n",
       "    max-height: 300px;\n",
       "    overflow: auto;\n",
       "  }\n",
       "  table, th, td {\n",
       "    border: 1px solid black;\n",
       "    border-collapse: collapse;\n",
       "  }\n",
       "  th, td {\n",
       "    padding: 5px;\n",
       "  }\n",
       "  th {\n",
       "    text-align: left;\n",
       "  }\n",
       "</style><div class='table-result-container'><table class='table-result'><thead style='background-color: white'><tr><th>rank_date</th><th>country</th><th>rank</th><th>total_points</th></tr></thead><tbody><tr><td>2023-10-26</td><td>Eritrea</td><td>null</td><td>855.56</td></tr><tr><td>2023-10-26</td><td>Tonga</td><td>null</td><td>861.81</td></tr><tr><td>2023-10-26</td><td>Samoa</td><td>null</td><td>894.26</td></tr><tr><td>2023-10-26</td><td>American Samoa</td><td>null</td><td>900.27</td></tr><tr><td>2023-11-30</td><td>Eritrea</td><td>null</td><td>855.56</td></tr><tr><td>2023-12-21</td><td>Eritrea</td><td>null</td><td>855.56</td></tr><tr><td>2024-02-15</td><td>Eritrea</td><td>null</td><td>855.56</td></tr><tr><td>2024-04-04</td><td>Eritrea</td><td>null</td><td>855.56</td></tr><tr><td>2024-06-20</td><td>Eritrea</td><td>null</td><td>855.56</td></tr></tbody></table></div>"
      ]
     },
     "metadata": {
      "application/vnd.databricks.v1+output": {
       "addedWidgets": {},
       "aggData": [],
       "aggError": "",
       "aggOverflow": false,
       "aggSchema": [],
       "aggSeriesLimitReached": false,
       "aggType": "",
       "arguments": {},
       "columnCustomDisplayInfos": {},
       "data": [
        [
         "2023-10-26",
         "Eritrea",
         null,
         "855.56"
        ],
        [
         "2023-10-26",
         "Tonga",
         null,
         "861.81"
        ],
        [
         "2023-10-26",
         "Samoa",
         null,
         "894.26"
        ],
        [
         "2023-10-26",
         "American Samoa",
         null,
         "900.27"
        ],
        [
         "2023-11-30",
         "Eritrea",
         null,
         "855.56"
        ],
        [
         "2023-12-21",
         "Eritrea",
         null,
         "855.56"
        ],
        [
         "2024-02-15",
         "Eritrea",
         null,
         "855.56"
        ],
        [
         "2024-04-04",
         "Eritrea",
         null,
         "855.56"
        ],
        [
         "2024-06-20",
         "Eritrea",
         null,
         "855.56"
        ]
       ],
       "datasetInfos": [],
       "dbfsResultPath": null,
       "isJsonSchema": true,
       "metadata": {},
       "overflow": false,
       "plotOptions": {
        "customPlotOptions": {},
        "displayType": "table",
        "pivotAggregation": null,
        "pivotColumns": null,
        "xColumns": null,
        "yColumns": null
       },
       "removedWidgets": [],
       "schema": [
        {
         "metadata": "{\"comment\":\"Data de publicação do ranking. Domínio: Datas entre 1992-08-17 (primeiro ranking FIFA) e a data atual.\"}",
         "name": "rank_date",
         "type": "\"date\""
        },
        {
         "metadata": "{\"comment\":\"Nome do país padronizado. Domínio: Valores de silver.teams.standardized_name.\"}",
         "name": "country",
         "type": "\"string\""
        },
        {
         "metadata": "{\"comment\":\"Posição no ranking FIFA. Domínio: Inteiro entre 1 e 211 (total de associações FIFA).\"}",
         "name": "rank",
         "type": "\"integer\""
        },
        {
         "metadata": "{\"comment\":\"Pontos totais no ranking. Domínio: Decimal entre 0 e 1842.52 (máximo histórico).\"}",
         "name": "total_points",
         "type": "\"decimal(10,2)\""
        }
       ],
       "type": "table"
      }
     },
     "output_type": "display_data"
    }
   ],
   "source": [
    "%sql\n",
    "SELECT *\n",
    "FROM silver.fifa_ranking\n",
    "WHERE rank IS NULL OR rank < 1 OR rank > 216; -- Assumindo que há 211 países no ranking"
   ]
  },
  {
   "cell_type": "markdown",
   "metadata": {
    "application/vnd.databricks.v1+cell": {
     "cellMetadata": {
      "byteLimit": 2048000,
      "rowLimit": 10000
     },
     "inputWidgets": {},
     "nuid": "9e2e2708-0e59-4b9a-b867-87ce804dcf62",
     "showTitle": false,
     "tableResultSettingsMap": {},
     "title": ""
    }
   },
   "source": [
    "A partir dessa identificação, é realizada uma correção que exclui essas linhas da tabela."
   ]
  },
  {
   "cell_type": "code",
   "execution_count": 0,
   "metadata": {
    "application/vnd.databricks.v1+cell": {
     "cellMetadata": {
      "byteLimit": 2048000,
      "implicitDf": true,
      "rowLimit": 10000
     },
     "inputWidgets": {},
     "nuid": "16063657-c0c4-4c97-bafb-471cea7e23c0",
     "showTitle": false,
     "tableResultSettingsMap": {},
     "title": ""
    }
   },
   "outputs": [
    {
     "output_type": "display_data",
     "data": {
      "text/html": [
       "<style scoped>\n",
       "  .table-result-container {\n",
       "    max-height: 300px;\n",
       "    overflow: auto;\n",
       "  }\n",
       "  table, th, td {\n",
       "    border: 1px solid black;\n",
       "    border-collapse: collapse;\n",
       "  }\n",
       "  th, td {\n",
       "    padding: 5px;\n",
       "  }\n",
       "  th {\n",
       "    text-align: left;\n",
       "  }\n",
       "</style><div class='table-result-container'><table class='table-result'><thead style='background-color: white'><tr><th>num_affected_rows</th></tr></thead><tbody><tr><td>9</td></tr></tbody></table></div>"
      ]
     },
     "metadata": {
      "application/vnd.databricks.v1+output": {
       "addedWidgets": {},
       "aggData": [],
       "aggError": "",
       "aggOverflow": false,
       "aggSchema": [],
       "aggSeriesLimitReached": false,
       "aggType": "",
       "arguments": {},
       "columnCustomDisplayInfos": {},
       "data": [
        [
         9
        ]
       ],
       "datasetInfos": [],
       "dbfsResultPath": null,
       "isJsonSchema": true,
       "metadata": {},
       "overflow": false,
       "plotOptions": {
        "customPlotOptions": {},
        "displayType": "table",
        "pivotAggregation": null,
        "pivotColumns": null,
        "xColumns": null,
        "yColumns": null
       },
       "removedWidgets": [],
       "schema": [
        {
         "metadata": "{}",
         "name": "num_affected_rows",
         "type": "\"long\""
        }
       ],
       "type": "table"
      }
     },
     "output_type": "display_data"
    }
   ],
   "source": [
    "%sql\n",
    "DELETE FROM silver.fifa_ranking\n",
    "WHERE rank IS NULL OR rank < 1 OR rank > 216;"
   ]
  },
  {
   "cell_type": "markdown",
   "metadata": {
    "application/vnd.databricks.v1+cell": {
     "cellMetadata": {
      "byteLimit": 2048000,
      "rowLimit": 10000
     },
     "inputWidgets": {},
     "nuid": "626aad24-2db6-4a8f-966f-d84d787a5169",
     "showTitle": false,
     "tableResultSettingsMap": {},
     "title": ""
    }
   },
   "source": [
    "Verificando a exclusão."
   ]
  },
  {
   "cell_type": "code",
   "execution_count": 0,
   "metadata": {
    "application/vnd.databricks.v1+cell": {
     "cellMetadata": {
      "byteLimit": 2048000,
      "implicitDf": true,
      "rowLimit": 10000
     },
     "inputWidgets": {},
     "nuid": "57920092-a8fc-41ec-9ab0-73ede9555004",
     "showTitle": true,
     "tableResultSettingsMap": {},
     "title": "Verificando a exclusão"
    }
   },
   "outputs": [
    {
     "output_type": "display_data",
     "data": {
      "text/html": [
       "<style scoped>\n",
       "  .table-result-container {\n",
       "    max-height: 300px;\n",
       "    overflow: auto;\n",
       "  }\n",
       "  table, th, td {\n",
       "    border: 1px solid black;\n",
       "    border-collapse: collapse;\n",
       "  }\n",
       "  th, td {\n",
       "    padding: 5px;\n",
       "  }\n",
       "  th {\n",
       "    text-align: left;\n",
       "  }\n",
       "</style><div class='table-result-container'><table class='table-result'><thead style='background-color: white'><tr><th>rank_date</th><th>country</th><th>rank</th><th>total_points</th></tr></thead><tbody></tbody></table></div>"
      ]
     },
     "metadata": {
      "application/vnd.databricks.v1+output": {
       "addedWidgets": {},
       "aggData": [],
       "aggError": "",
       "aggOverflow": false,
       "aggSchema": [],
       "aggSeriesLimitReached": false,
       "aggType": "",
       "arguments": {},
       "columnCustomDisplayInfos": {},
       "data": [],
       "datasetInfos": [],
       "dbfsResultPath": null,
       "isJsonSchema": true,
       "metadata": {},
       "overflow": false,
       "plotOptions": {
        "customPlotOptions": {},
        "displayType": "table",
        "pivotAggregation": null,
        "pivotColumns": null,
        "xColumns": null,
        "yColumns": null
       },
       "removedWidgets": [],
       "schema": [
        {
         "metadata": "{\"comment\":\"Data de publicação do ranking. Domínio: Datas entre 1992-08-17 (primeiro ranking FIFA) e a data atual.\"}",
         "name": "rank_date",
         "type": "\"date\""
        },
        {
         "metadata": "{\"comment\":\"Nome do país padronizado. Domínio: Valores de silver.teams.standardized_name.\"}",
         "name": "country",
         "type": "\"string\""
        },
        {
         "metadata": "{\"comment\":\"Posição no ranking FIFA. Domínio: Inteiro entre 1 e 211 (total de associações FIFA).\"}",
         "name": "rank",
         "type": "\"integer\""
        },
        {
         "metadata": "{\"comment\":\"Pontos totais no ranking. Domínio: Decimal entre 0 e 1842.52 (máximo histórico).\"}",
         "name": "total_points",
         "type": "\"decimal(10,2)\""
        }
       ],
       "type": "table"
      }
     },
     "output_type": "display_data"
    }
   ],
   "source": [
    "%sql\n",
    "SELECT *\n",
    "FROM silver.fifa_ranking\n",
    "WHERE rank IS NULL OR rank < 1 OR rank > 216; -- Assumindo que há 216 países no ranking"
   ]
  },
  {
   "cell_type": "markdown",
   "metadata": {
    "application/vnd.databricks.v1+cell": {
     "cellMetadata": {
      "byteLimit": 2048000,
      "rowLimit": 10000
     },
     "inputWidgets": {},
     "nuid": "bb417c77-0f3f-4084-aec3-8f0c2bbc67a2",
     "showTitle": false,
     "tableResultSettingsMap": {},
     "title": ""
    }
   },
   "source": [
    "Desse modo, foram construídas as tabelas na camada Silver. A partir disso, as tabelas na camada Gold poderão ser construídas de forma a ser possível responder as perguntas do problema a partir de consultas. O processo de construção da camada Gold está descrito no notebook MVP - Engenharia de Dados - Camada Gold."
   ]
  }
 ],
 "metadata": {
  "application/vnd.databricks.v1+notebook": {
   "computePreferences": null,
   "dashboards": [],
   "environmentMetadata": {
    "base_environment": "",
    "environment_version": "1"
   },
   "inputWidgetPreferences": null,
   "language": "python",
   "notebookMetadata": {
    "mostRecentlyExecutedCommandWithImplicitDF": {
     "commandId": 3402953887632865,
     "dataframes": [
      "_sqldf"
     ]
    },
    "pythonIndentUnit": 4
   },
   "notebookName": "MVP - Engenharia de Dados - Camada Silver",
   "widgets": {}
  }
 },
 "nbformat": 4,
 "nbformat_minor": 0
}