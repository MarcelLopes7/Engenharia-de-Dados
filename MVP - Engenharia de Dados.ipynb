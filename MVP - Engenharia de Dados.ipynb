{
 "cells": [
  {
   "cell_type": "markdown",
   "metadata": {
    "application/vnd.databricks.v1+cell": {
     "cellMetadata": {
      "byteLimit": 2048000,
      "rowLimit": 10000
     },
     "inputWidgets": {},
     "nuid": "46409556-841c-4e62-a56c-a618acd85592",
     "showTitle": false,
     "tableResultSettingsMap": {},
     "title": ""
    }
   },
   "source": [
    "# MVP - Engenharia de Dados\n",
    "## Autor: Marcel Antonio Lopes Pereira"
   ]
  },
  {
   "cell_type": "markdown",
   "metadata": {
    "application/vnd.databricks.v1+cell": {
     "cellMetadata": {
      "byteLimit": 2048000,
      "rowLimit": 10000
     },
     "inputWidgets": {},
     "nuid": "641e2935-2ee2-496e-9e4b-0336812f8980",
     "showTitle": false,
     "tableResultSettingsMap": {},
     "title": ""
    }
   },
   "source": [
    "##1. Objetivo:\n",
    "\n",
    "Este MVP tem como objetivo construir um pipeline de dados utilizando tecnologias em nuvem para buscar, coletar, modelar, carregar e analisar dados históricos do futebol de seleções masculinas. O propósito central é responder a uma questão amplamente debatida entre torcedores e especialistas:\n",
    "\n",
    "**Existe alguma seleção nacional masculina dominante na história do futebol a ponto de ser considerada a melhor de todos os tempos?**\n",
    "\n",
    "Para explorar essa questão, o pipeline permitirá a análise de algumas perguntas-chave, que ajudarão a identificar as seleções que se destacaram ao longo da história:\n",
    "\n",
    "1. **Qual seleção tem o maior número de vitórias em jogos oficiais e amistosos?**  \n",
    "   Identificar as seleções com o maior número de vitórias em diferentes tipos de jogos, fornecendo uma base para medir a consistência no desempenho.\n",
    "\n",
    "2. **Qual seleção tem a melhor taxa de aproveitamento (pontos ganhos por jogo)?**  \n",
    "   Avaliar a eficiência das seleções, levando em consideração o número de pontos conquistados em relação aos jogos disputados, ajudando a medir o desempenho em termos de consistência.\n",
    "\n",
    "3. **Qual seleção tem o maior saldo de gols (gols marcados - gols sofridos) em toda a história?**  \n",
    "   Analisar o saldo de gols das seleções, refletindo sua capacidade ofensiva e defensiva ao longo do tempo.\n",
    "\n",
    "4. **Qual seleção tem o maior número de vitórias contra outras grandes seleções (top 10 do ranking da FIFA)?**  \n",
    "   Analisar o desempenho das seleções contra as mais fortes equipes do mundo, refletindo sua competitividade no cenário global.\n",
    "\n",
    "5. **Qual seleção tem a maior sequência invicta em toda a história?**  \n",
    "   Identificar quais seleções mantiveram longas sequências sem derrotas, um bom indicativo de consistência e resistência ao longo do tempo.\n",
    "\n",
    "6. **Qual seleção tem o maior número de jogos sem sofrer gols em toda a história?**  \n",
    "   Analisar a capacidade defensiva das seleções, refletindo uma defesa sólida e organização tática eficaz ao longo dos anos.\n",
    "\n",
    "7. **Quais seleções tiveram os artilheiros mais consistentes e como o desempenho desses jogadores está relacionado com o sucesso da equipe?**  \n",
    "   Relacionar o desempenho individual dos artilheiros com o desempenho da seleção, ajudando a identificar como a contribuição dos goleadores impactou as vitórias e o sucesso da equipe ao longo da história.\n",
    "\n",
    "\n",
    "\n",
    "##2. Estrutura do Pipeline\n",
    "\n",
    "O pipeline de dados será estruturado em três camadas principais:\n",
    "\n",
    "- **Bronze:** coleta e armazenamento dos dados brutos conforme os arquivos originais.  \n",
    "- **Silver:** limpeza, padronização e transformação dos dados brutos, garantindo consistência e qualidade para as análises. Nesta etapa, serão tratados problemas como dados ausentes, duplicidades e formatação inadequada.  \n",
    "- **Gold:** modelagem analítica dos dados para responder às perguntas de negócio, além da otimização para consultas complexas, garantindo eficiência na extração de insights e facilitando a análise exploratória e preditiva.\n",
    "\n",
    "A análise final dos dados será realizada em um notebook específico, onde todas as perguntas levantadas serão respondidas. A partir dos resultados obtidos, será possível avaliar, com base em dados, quais seleções se destacam historicamente e se alguma delas pode ser considerada a mais dominante de todos os tempos.\n",
    "\n",
    "\n",
    "\n"
   ]
  },
  {
   "cell_type": "markdown",
   "metadata": {
    "application/vnd.databricks.v1+cell": {
     "cellMetadata": {
      "byteLimit": 2048000,
      "rowLimit": 10000
     },
     "inputWidgets": {},
     "nuid": "e071bfed-f6de-47f7-b909-1042cb14aac4",
     "showTitle": false,
     "tableResultSettingsMap": {},
     "title": ""
    }
   },
   "source": [
    "## 3. Busca dos dados:\n",
    "\n",
    "Na busca dos dados necessários para solução do problema, foi escolhido o Kaggle como fonte para obtenção dos mesmos. Nesse processo, foram escolhidos dois conjuntos de dados que são descritos a seguir.\n",
    "\n",
    "O primeiro conjunto é referente aos resultados de partidas entre seleções no período entre 1872 e 2025. Nesses dados não estão incluídos os resultados de partidas em Jogos Olímípicos, com seleções nacionais B, sub-23 e seleções com melhores jogadores de ligas. O link de acesso a esse conjunto de dados é o seguinte:\n",
    "https://www.kaggle.com/datasets/martj42/international-football-results-from-1872-to-2017\n",
    "\n",
    "Esses dados foram publicados pelo usuário Mart Jürisoo e são de domínio público (CC0: Public Domain). O conjunto possui 4 arquivos do tipo csv: results.csv (resultados das partidas); shootouts.csv (disputas de penalties); goalscorers.csv (marcadores de gols); former_names.csv (nomes anteriores das equipes).\n",
    "\n",
    "O segundo conjunto é referente ao Ranking da FIFA de seleções no período de 1992 a 2024. Estão listadas as posições dos times e suas mudanças ao longo do tempo dentro desse intervalo. O link de acesso a esse conjunto de dados é o seguinte:\n",
    "https://www.kaggle.com/datasets/cashncarry/fifaworldranking\n",
    "\n",
    "Esses dados forma publicados pelo usuário Alex e também são de domínio público (CC0: Public Domain). Apesar do conjunto possuir 3 arquivos do tipo csv, somente foi utilizado um deles nesse trabalho: fifa_ranking-2024-06-20.csv (Lista de Rankings até 20-06-24)."
   ]
  },
  {
   "cell_type": "markdown",
   "metadata": {
    "application/vnd.databricks.v1+cell": {
     "cellMetadata": {
      "byteLimit": 2048000,
      "rowLimit": 10000
     },
     "inputWidgets": {},
     "nuid": "1fb3ba4c-fc56-45b1-aea3-fb3d0cd132a4",
     "showTitle": false,
     "tableResultSettingsMap": {},
     "title": ""
    }
   },
   "source": [
    "## 4. Coleta, modelagem e carga dos dados:"
   ]
  },
  {
   "cell_type": "markdown",
   "metadata": {
    "application/vnd.databricks.v1+cell": {
     "cellMetadata": {
      "byteLimit": 2048000,
      "rowLimit": 10000
     },
     "inputWidgets": {},
     "nuid": "f19d4176-3644-4698-a76b-aa230d1a9e81",
     "showTitle": false,
     "tableResultSettingsMap": {},
     "title": ""
    }
   },
   "source": [
    "Após identificar os dados necessários para o problema, é realizada a coleta e a carga dos mesmos para o ambiente de nuvem. Foi utilizado nesse processo o sistema de armazenamento do Datrabricks com utilização do framework Spark para carga dos dados.\n"
   ]
  },
  {
   "cell_type": "code",
   "execution_count": 0,
   "metadata": {
    "application/vnd.databricks.v1+cell": {
     "cellMetadata": {
      "byteLimit": 2048000,
      "rowLimit": 10000
     },
     "inputWidgets": {},
     "nuid": "e251171c-fdc9-4083-86f8-d2d7514d860f",
     "showTitle": false,
     "tableResultSettingsMap": {},
     "title": ""
    }
   },
   "outputs": [
    {
     "output_type": "display_data",
     "data": {
      "application/vnd.databricks.v1+bamboolib_hint": "{\"pd.DataFrames\": [], \"version\": \"0.0.1\"}",
      "text/plain": []
     },
     "metadata": {},
     "output_type": "display_data"
    }
   ],
   "source": [
    "# Importando as bibliotecas necessárias para o trabalho\n",
    "import pandas as pd"
   ]
  },
  {
   "cell_type": "markdown",
   "metadata": {
    "application/vnd.databricks.v1+cell": {
     "cellMetadata": {
      "byteLimit": 2048000,
      "rowLimit": 10000
     },
     "inputWidgets": {},
     "nuid": "619db7aa-a7e3-4881-88d1-f9315b68536e",
     "showTitle": false,
     "tableResultSettingsMap": {},
     "title": ""
    }
   },
   "source": [
    "### 4.1 Camada Bronze\n",
    "\n",
    "Na camada bronze, são importados os dados no seu formato bruto a partir dos arquivos csv de origem. São realizados scripts relativos a criação da database onde serão armazenados as tabelas da camada bronze."
   ]
  },
  {
   "cell_type": "code",
   "execution_count": 0,
   "metadata": {
    "application/vnd.databricks.v1+cell": {
     "cellMetadata": {
      "byteLimit": 2048000,
      "implicitDf": true,
      "rowLimit": 10000
     },
     "inputWidgets": {},
     "nuid": "34bb7a0c-4313-4bcb-b01a-e0341f49a37b",
     "showTitle": false,
     "tableResultSettingsMap": {},
     "title": ""
    }
   },
   "outputs": [
    {
     "output_type": "display_data",
     "data": {
      "text/html": [
       "<style scoped>\n",
       "  .table-result-container {\n",
       "    max-height: 300px;\n",
       "    overflow: auto;\n",
       "  }\n",
       "  table, th, td {\n",
       "    border: 1px solid black;\n",
       "    border-collapse: collapse;\n",
       "  }\n",
       "  th, td {\n",
       "    padding: 5px;\n",
       "  }\n",
       "  th {\n",
       "    text-align: left;\n",
       "  }\n",
       "</style><div class='table-result-container'><table class='table-result'><thead style='background-color: white'><tr></tr></thead><tbody></tbody></table></div>"
      ]
     },
     "metadata": {
      "application/vnd.databricks.v1+output": {
       "addedWidgets": {},
       "aggData": [],
       "aggError": "",
       "aggOverflow": false,
       "aggSchema": [],
       "aggSeriesLimitReached": false,
       "aggType": "",
       "arguments": {},
       "columnCustomDisplayInfos": {},
       "data": [],
       "datasetInfos": [],
       "dbfsResultPath": null,
       "isJsonSchema": true,
       "metadata": {},
       "overflow": false,
       "plotOptions": {
        "customPlotOptions": {},
        "displayType": "table",
        "pivotAggregation": null,
        "pivotColumns": null,
        "xColumns": null,
        "yColumns": null
       },
       "removedWidgets": [],
       "schema": [],
       "type": "table"
      }
     },
     "output_type": "display_data"
    }
   ],
   "source": [
    "%sql\n",
    "-- Desfazendo o database bronze para ser \"recriado\"\n",
    "DROP DATABASE IF EXISTS bronze CASCADE;"
   ]
  },
  {
   "cell_type": "code",
   "execution_count": 0,
   "metadata": {
    "application/vnd.databricks.v1+cell": {
     "cellMetadata": {
      "byteLimit": 2048000,
      "implicitDf": true,
      "rowLimit": 10000
     },
     "inputWidgets": {},
     "nuid": "6254a221-6a70-4ad6-9c79-24ee3e8f5ebc",
     "showTitle": false,
     "tableResultSettingsMap": {},
     "title": ""
    }
   },
   "outputs": [
    {
     "output_type": "display_data",
     "data": {
      "text/html": [
       "<style scoped>\n",
       "  .table-result-container {\n",
       "    max-height: 300px;\n",
       "    overflow: auto;\n",
       "  }\n",
       "  table, th, td {\n",
       "    border: 1px solid black;\n",
       "    border-collapse: collapse;\n",
       "  }\n",
       "  th, td {\n",
       "    padding: 5px;\n",
       "  }\n",
       "  th {\n",
       "    text-align: left;\n",
       "  }\n",
       "</style><div class='table-result-container'><table class='table-result'><thead style='background-color: white'><tr></tr></thead><tbody></tbody></table></div>"
      ]
     },
     "metadata": {
      "application/vnd.databricks.v1+output": {
       "addedWidgets": {},
       "aggData": [],
       "aggError": "",
       "aggOverflow": false,
       "aggSchema": [],
       "aggSeriesLimitReached": false,
       "aggType": "",
       "arguments": {},
       "columnCustomDisplayInfos": {},
       "data": [],
       "datasetInfos": [],
       "dbfsResultPath": null,
       "isJsonSchema": true,
       "metadata": {},
       "overflow": false,
       "plotOptions": {
        "customPlotOptions": {},
        "displayType": "table",
        "pivotAggregation": null,
        "pivotColumns": null,
        "xColumns": null,
        "yColumns": null
       },
       "removedWidgets": [],
       "schema": [],
       "type": "table"
      }
     },
     "output_type": "display_data"
    }
   ],
   "source": [
    "%sql \n",
    "-- Criando o database bronze\n",
    "CREATE DATABASE bronze;"
   ]
  },
  {
   "cell_type": "markdown",
   "metadata": {
    "application/vnd.databricks.v1+cell": {
     "cellMetadata": {
      "byteLimit": 2048000,
      "rowLimit": 10000
     },
     "inputWidgets": {},
     "nuid": "995e438f-5587-4c74-9860-8383a9ec503c",
     "showTitle": false,
     "tableResultSettingsMap": {},
     "title": ""
    }
   },
   "source": [
    "Após a criação do database, os arquivos CSV são carregados utilizando a biblioteca Pandas para gerar DataFrames a partir dos respectivos arquivos. Foi realizado download dos arquivos no Kaggle e os mesmos foram salvos no mesmo repositório onde esse Notebook está alocado. Em seguida, esses DataFrames são convertidos para o formato Spark e armazenados como tabelas no sistema de armazenamento em nuvem do Databricks, dentro da camada Bronze do database criado."
   ]
  },
  {
   "cell_type": "code",
   "execution_count": 0,
   "metadata": {
    "application/vnd.databricks.v1+cell": {
     "cellMetadata": {
      "byteLimit": 2048000,
      "rowLimit": 10000
     },
     "inputWidgets": {},
     "nuid": "7a59a4c3-c648-4b6a-8a55-8566df99efaa",
     "showTitle": false,
     "tableResultSettingsMap": {},
     "title": ""
    }
   },
   "outputs": [
    {
     "output_type": "stream",
     "name": "stdout",
     "output_type": "stream",
     "text": [
      "Tabela bronze.results carregada com sucesso.\nTabela bronze.shootouts carregada com sucesso.\nTabela bronze.goalscorers carregada com sucesso.\nTabela bronze.former_names carregada com sucesso.\nTabela bronze.fifa_ranking carregada com sucesso.\n"
     ]
    }
   ],
   "source": [
    "# Dicionário com os nomes das tabelas e URLs dos arquivos\n",
    "csv_files = {\n",
    "    \"results\": \"https://raw.githubusercontent.com/MarcelLopes7/Engenharia-de-Dados/refs/heads/main/results.csv\",\n",
    "    \"shootouts\": \"https://raw.githubusercontent.com/MarcelLopes7/Engenharia-de-Dados/refs/heads/main/shootouts.csv\",\n",
    "    \"goalscorers\": \"https://raw.githubusercontent.com/MarcelLopes7/Engenharia-de-Dados/refs/heads/main/goalscorers.csv\",\n",
    "    \"former_names\": \"https://raw.githubusercontent.com/MarcelLopes7/Engenharia-de-Dados/refs/heads/main/former_names.csv\",\n",
    "    \"fifa_ranking\": \"https://raw.githubusercontent.com/MarcelLopes7/Engenharia-de-Dados/refs/heads/main/fifa_ranking-2024-06-20.csv\"\n",
    "}\n",
    "\n",
    "# Loop para carregar, converter e salvar cada arquivo\n",
    "for table_name, url in csv_files.items():\n",
    "    # Carregar o CSV como DataFrame Pandas\n",
    "    df = pd.read_csv(url)\n",
    "    \n",
    "    # Converter para DataFrame Spark\n",
    "    spark_df = spark.createDataFrame(df)\n",
    "    \n",
    "    # Salvar como tabela na camada bronze\n",
    "    spark_df.write.mode(\"overwrite\").saveAsTable(f\"bronze.{table_name}\")\n",
    "\n",
    "    print(f\"Tabela bronze.{table_name} carregada com sucesso.\")\n"
   ]
  },
  {
   "cell_type": "markdown",
   "metadata": {
    "application/vnd.databricks.v1+cell": {
     "cellMetadata": {
      "byteLimit": 2048000,
      "rowLimit": 10000
     },
     "inputWidgets": {},
     "nuid": "a287f7c2-424d-419d-bb3f-cc34f0bfefe9",
     "showTitle": false,
     "tableResultSettingsMap": {},
     "title": ""
    }
   },
   "source": [
    "Após a execução dos script acima, a camada bronze foi construída com as tabelas. Em seguida, são realizadas verificações Spark SQL para confirmar a criação das tabelas. \n"
   ]
  },
  {
   "cell_type": "code",
   "execution_count": 0,
   "metadata": {
    "application/vnd.databricks.v1+cell": {
     "cellMetadata": {
      "byteLimit": 2048000,
      "rowLimit": 10000
     },
     "inputWidgets": {},
     "nuid": "6635e39f-c0c0-4699-b6b5-6d06a53ad4c9",
     "showTitle": false,
     "tableResultSettingsMap": {},
     "title": ""
    }
   },
   "outputs": [
    {
     "output_type": "stream",
     "name": "stdout",
     "output_type": "stream",
     "text": [
      "🔍 Exibindo 10 primeiras linhas da tabela bronze.results\n"
     ]
    },
    {
     "output_type": "display_data",
     "data": {
      "text/html": [
       "<style scoped>\n",
       "  .table-result-container {\n",
       "    max-height: 300px;\n",
       "    overflow: auto;\n",
       "  }\n",
       "  table, th, td {\n",
       "    border: 1px solid black;\n",
       "    border-collapse: collapse;\n",
       "  }\n",
       "  th, td {\n",
       "    padding: 5px;\n",
       "  }\n",
       "  th {\n",
       "    text-align: left;\n",
       "  }\n",
       "</style><div class='table-result-container'><table class='table-result'><thead style='background-color: white'><tr><th>date</th><th>home_team</th><th>away_team</th><th>home_score</th><th>away_score</th><th>tournament</th><th>city</th><th>country</th><th>neutral</th></tr></thead><tbody><tr><td>1872-11-30</td><td>Scotland</td><td>England</td><td>0</td><td>0</td><td>Friendly</td><td>Glasgow</td><td>Scotland</td><td>false</td></tr><tr><td>1873-03-08</td><td>England</td><td>Scotland</td><td>4</td><td>2</td><td>Friendly</td><td>London</td><td>England</td><td>false</td></tr><tr><td>1874-03-07</td><td>Scotland</td><td>England</td><td>2</td><td>1</td><td>Friendly</td><td>Glasgow</td><td>Scotland</td><td>false</td></tr><tr><td>1875-03-06</td><td>England</td><td>Scotland</td><td>2</td><td>2</td><td>Friendly</td><td>London</td><td>England</td><td>false</td></tr><tr><td>1876-03-04</td><td>Scotland</td><td>England</td><td>3</td><td>0</td><td>Friendly</td><td>Glasgow</td><td>Scotland</td><td>false</td></tr><tr><td>1876-03-25</td><td>Scotland</td><td>Wales</td><td>4</td><td>0</td><td>Friendly</td><td>Glasgow</td><td>Scotland</td><td>false</td></tr><tr><td>1877-03-03</td><td>England</td><td>Scotland</td><td>1</td><td>3</td><td>Friendly</td><td>London</td><td>England</td><td>false</td></tr><tr><td>1877-03-05</td><td>Wales</td><td>Scotland</td><td>0</td><td>2</td><td>Friendly</td><td>Wrexham</td><td>Wales</td><td>false</td></tr><tr><td>1878-03-02</td><td>Scotland</td><td>England</td><td>7</td><td>2</td><td>Friendly</td><td>Glasgow</td><td>Scotland</td><td>false</td></tr><tr><td>1878-03-23</td><td>Scotland</td><td>Wales</td><td>9</td><td>0</td><td>Friendly</td><td>Glasgow</td><td>Scotland</td><td>false</td></tr></tbody></table></div>"
      ]
     },
     "metadata": {
      "application/vnd.databricks.v1+output": {
       "addedWidgets": {},
       "aggData": [],
       "aggError": "",
       "aggOverflow": false,
       "aggSchema": [],
       "aggSeriesLimitReached": false,
       "aggType": "",
       "arguments": {},
       "columnCustomDisplayInfos": {},
       "data": [
        [
         "1872-11-30",
         "Scotland",
         "England",
         0,
         0,
         "Friendly",
         "Glasgow",
         "Scotland",
         false
        ],
        [
         "1873-03-08",
         "England",
         "Scotland",
         4,
         2,
         "Friendly",
         "London",
         "England",
         false
        ],
        [
         "1874-03-07",
         "Scotland",
         "England",
         2,
         1,
         "Friendly",
         "Glasgow",
         "Scotland",
         false
        ],
        [
         "1875-03-06",
         "England",
         "Scotland",
         2,
         2,
         "Friendly",
         "London",
         "England",
         false
        ],
        [
         "1876-03-04",
         "Scotland",
         "England",
         3,
         0,
         "Friendly",
         "Glasgow",
         "Scotland",
         false
        ],
        [
         "1876-03-25",
         "Scotland",
         "Wales",
         4,
         0,
         "Friendly",
         "Glasgow",
         "Scotland",
         false
        ],
        [
         "1877-03-03",
         "England",
         "Scotland",
         1,
         3,
         "Friendly",
         "London",
         "England",
         false
        ],
        [
         "1877-03-05",
         "Wales",
         "Scotland",
         0,
         2,
         "Friendly",
         "Wrexham",
         "Wales",
         false
        ],
        [
         "1878-03-02",
         "Scotland",
         "England",
         7,
         2,
         "Friendly",
         "Glasgow",
         "Scotland",
         false
        ],
        [
         "1878-03-23",
         "Scotland",
         "Wales",
         9,
         0,
         "Friendly",
         "Glasgow",
         "Scotland",
         false
        ]
       ],
       "datasetInfos": [],
       "dbfsResultPath": null,
       "isJsonSchema": true,
       "metadata": {},
       "overflow": false,
       "plotOptions": {
        "customPlotOptions": {},
        "displayType": "table",
        "pivotAggregation": null,
        "pivotColumns": null,
        "xColumns": null,
        "yColumns": null
       },
       "removedWidgets": [],
       "schema": [
        {
         "metadata": "{}",
         "name": "date",
         "type": "\"string\""
        },
        {
         "metadata": "{}",
         "name": "home_team",
         "type": "\"string\""
        },
        {
         "metadata": "{}",
         "name": "away_team",
         "type": "\"string\""
        },
        {
         "metadata": "{}",
         "name": "home_score",
         "type": "\"long\""
        },
        {
         "metadata": "{}",
         "name": "away_score",
         "type": "\"long\""
        },
        {
         "metadata": "{}",
         "name": "tournament",
         "type": "\"string\""
        },
        {
         "metadata": "{}",
         "name": "city",
         "type": "\"string\""
        },
        {
         "metadata": "{}",
         "name": "country",
         "type": "\"string\""
        },
        {
         "metadata": "{}",
         "name": "neutral",
         "type": "\"boolean\""
        }
       ],
       "type": "table"
      }
     },
     "output_type": "display_data"
    },
    {
     "output_type": "stream",
     "name": "stdout",
     "output_type": "stream",
     "text": [
      "🔍 Exibindo 10 primeiras linhas da tabela bronze.shootouts\n"
     ]
    },
    {
     "output_type": "display_data",
     "data": {
      "text/html": [
       "<style scoped>\n",
       "  .table-result-container {\n",
       "    max-height: 300px;\n",
       "    overflow: auto;\n",
       "  }\n",
       "  table, th, td {\n",
       "    border: 1px solid black;\n",
       "    border-collapse: collapse;\n",
       "  }\n",
       "  th, td {\n",
       "    padding: 5px;\n",
       "  }\n",
       "  th {\n",
       "    text-align: left;\n",
       "  }\n",
       "</style><div class='table-result-container'><table class='table-result'><thead style='background-color: white'><tr><th>date</th><th>home_team</th><th>away_team</th><th>winner</th><th>first_shooter</th></tr></thead><tbody><tr><td>1967-08-22</td><td>India</td><td>Taiwan</td><td>Taiwan</td><td>null</td></tr><tr><td>1971-11-14</td><td>South Korea</td><td>Vietnam Republic</td><td>South Korea</td><td>null</td></tr><tr><td>1972-05-07</td><td>South Korea</td><td>Iraq</td><td>Iraq</td><td>null</td></tr><tr><td>1972-05-17</td><td>Thailand</td><td>South Korea</td><td>South Korea</td><td>null</td></tr><tr><td>1972-05-19</td><td>Thailand</td><td>Cambodia</td><td>Thailand</td><td>null</td></tr><tr><td>1973-04-21</td><td>Senegal</td><td>Ghana</td><td>Ghana</td><td>null</td></tr><tr><td>1973-06-14</td><td>Guinea</td><td>Mali</td><td>Guinea</td><td>null</td></tr><tr><td>1973-06-14</td><td>Mauritius</td><td>Tanzania</td><td>Mauritius</td><td>null</td></tr><tr><td>1973-07-26</td><td>Malaysia</td><td>Kuwait</td><td>Malaysia</td><td>null</td></tr><tr><td>1973-07-26</td><td>Cambodia</td><td>Singapore</td><td>Singapore</td><td>null</td></tr></tbody></table></div>"
      ]
     },
     "metadata": {
      "application/vnd.databricks.v1+output": {
       "addedWidgets": {},
       "aggData": [],
       "aggError": "",
       "aggOverflow": false,
       "aggSchema": [],
       "aggSeriesLimitReached": false,
       "aggType": "",
       "arguments": {},
       "columnCustomDisplayInfos": {},
       "data": [
        [
         "1967-08-22",
         "India",
         "Taiwan",
         "Taiwan",
         null
        ],
        [
         "1971-11-14",
         "South Korea",
         "Vietnam Republic",
         "South Korea",
         null
        ],
        [
         "1972-05-07",
         "South Korea",
         "Iraq",
         "Iraq",
         null
        ],
        [
         "1972-05-17",
         "Thailand",
         "South Korea",
         "South Korea",
         null
        ],
        [
         "1972-05-19",
         "Thailand",
         "Cambodia",
         "Thailand",
         null
        ],
        [
         "1973-04-21",
         "Senegal",
         "Ghana",
         "Ghana",
         null
        ],
        [
         "1973-06-14",
         "Guinea",
         "Mali",
         "Guinea",
         null
        ],
        [
         "1973-06-14",
         "Mauritius",
         "Tanzania",
         "Mauritius",
         null
        ],
        [
         "1973-07-26",
         "Malaysia",
         "Kuwait",
         "Malaysia",
         null
        ],
        [
         "1973-07-26",
         "Cambodia",
         "Singapore",
         "Singapore",
         null
        ]
       ],
       "datasetInfos": [],
       "dbfsResultPath": null,
       "isJsonSchema": true,
       "metadata": {},
       "overflow": false,
       "plotOptions": {
        "customPlotOptions": {},
        "displayType": "table",
        "pivotAggregation": null,
        "pivotColumns": null,
        "xColumns": null,
        "yColumns": null
       },
       "removedWidgets": [],
       "schema": [
        {
         "metadata": "{}",
         "name": "date",
         "type": "\"string\""
        },
        {
         "metadata": "{}",
         "name": "home_team",
         "type": "\"string\""
        },
        {
         "metadata": "{}",
         "name": "away_team",
         "type": "\"string\""
        },
        {
         "metadata": "{}",
         "name": "winner",
         "type": "\"string\""
        },
        {
         "metadata": "{}",
         "name": "first_shooter",
         "type": "\"string\""
        }
       ],
       "type": "table"
      }
     },
     "output_type": "display_data"
    },
    {
     "output_type": "stream",
     "name": "stdout",
     "output_type": "stream",
     "text": [
      "🔍 Exibindo 10 primeiras linhas da tabela bronze.goalscorers\n"
     ]
    },
    {
     "output_type": "display_data",
     "data": {
      "text/html": [
       "<style scoped>\n",
       "  .table-result-container {\n",
       "    max-height: 300px;\n",
       "    overflow: auto;\n",
       "  }\n",
       "  table, th, td {\n",
       "    border: 1px solid black;\n",
       "    border-collapse: collapse;\n",
       "  }\n",
       "  th, td {\n",
       "    padding: 5px;\n",
       "  }\n",
       "  th {\n",
       "    text-align: left;\n",
       "  }\n",
       "</style><div class='table-result-container'><table class='table-result'><thead style='background-color: white'><tr><th>date</th><th>home_team</th><th>away_team</th><th>team</th><th>scorer</th><th>minute</th><th>own_goal</th><th>penalty</th></tr></thead><tbody><tr><td>1916-07-02</td><td>Chile</td><td>Uruguay</td><td>Uruguay</td><td>José Piendibene</td><td>44.0</td><td>false</td><td>false</td></tr><tr><td>1916-07-02</td><td>Chile</td><td>Uruguay</td><td>Uruguay</td><td>Isabelino Gradín</td><td>55.0</td><td>false</td><td>false</td></tr><tr><td>1916-07-02</td><td>Chile</td><td>Uruguay</td><td>Uruguay</td><td>Isabelino Gradín</td><td>70.0</td><td>false</td><td>false</td></tr><tr><td>1916-07-02</td><td>Chile</td><td>Uruguay</td><td>Uruguay</td><td>José Piendibene</td><td>75.0</td><td>false</td><td>false</td></tr><tr><td>1916-07-06</td><td>Argentina</td><td>Chile</td><td>Argentina</td><td>Alberto Ohaco</td><td>2.0</td><td>false</td><td>false</td></tr><tr><td>1916-07-06</td><td>Argentina</td><td>Chile</td><td>Chile</td><td>Telésforo Báez</td><td>44.0</td><td>false</td><td>false</td></tr><tr><td>1916-07-06</td><td>Argentina</td><td>Chile</td><td>Argentina</td><td>Juan Domingo Brown</td><td>60.0</td><td>false</td><td>true</td></tr><tr><td>1916-07-06</td><td>Argentina</td><td>Chile</td><td>Argentina</td><td>Juan Domingo Brown</td><td>62.0</td><td>false</td><td>true</td></tr><tr><td>1916-07-06</td><td>Argentina</td><td>Chile</td><td>Argentina</td><td>Alberto Marcovecchio</td><td>67.0</td><td>false</td><td>false</td></tr><tr><td>1916-07-06</td><td>Argentina</td><td>Chile</td><td>Argentina</td><td>Alberto Ohaco</td><td>75.0</td><td>false</td><td>false</td></tr></tbody></table></div>"
      ]
     },
     "metadata": {
      "application/vnd.databricks.v1+output": {
       "addedWidgets": {},
       "aggData": [],
       "aggError": "",
       "aggOverflow": false,
       "aggSchema": [],
       "aggSeriesLimitReached": false,
       "aggType": "",
       "arguments": {},
       "columnCustomDisplayInfos": {},
       "data": [
        [
         "1916-07-02",
         "Chile",
         "Uruguay",
         "Uruguay",
         "José Piendibene",
         44.0,
         false,
         false
        ],
        [
         "1916-07-02",
         "Chile",
         "Uruguay",
         "Uruguay",
         "Isabelino Gradín",
         55.0,
         false,
         false
        ],
        [
         "1916-07-02",
         "Chile",
         "Uruguay",
         "Uruguay",
         "Isabelino Gradín",
         70.0,
         false,
         false
        ],
        [
         "1916-07-02",
         "Chile",
         "Uruguay",
         "Uruguay",
         "José Piendibene",
         75.0,
         false,
         false
        ],
        [
         "1916-07-06",
         "Argentina",
         "Chile",
         "Argentina",
         "Alberto Ohaco",
         2.0,
         false,
         false
        ],
        [
         "1916-07-06",
         "Argentina",
         "Chile",
         "Chile",
         "Telésforo Báez",
         44.0,
         false,
         false
        ],
        [
         "1916-07-06",
         "Argentina",
         "Chile",
         "Argentina",
         "Juan Domingo Brown",
         60.0,
         false,
         true
        ],
        [
         "1916-07-06",
         "Argentina",
         "Chile",
         "Argentina",
         "Juan Domingo Brown",
         62.0,
         false,
         true
        ],
        [
         "1916-07-06",
         "Argentina",
         "Chile",
         "Argentina",
         "Alberto Marcovecchio",
         67.0,
         false,
         false
        ],
        [
         "1916-07-06",
         "Argentina",
         "Chile",
         "Argentina",
         "Alberto Ohaco",
         75.0,
         false,
         false
        ]
       ],
       "datasetInfos": [],
       "dbfsResultPath": null,
       "isJsonSchema": true,
       "metadata": {},
       "overflow": false,
       "plotOptions": {
        "customPlotOptions": {},
        "displayType": "table",
        "pivotAggregation": null,
        "pivotColumns": null,
        "xColumns": null,
        "yColumns": null
       },
       "removedWidgets": [],
       "schema": [
        {
         "metadata": "{}",
         "name": "date",
         "type": "\"string\""
        },
        {
         "metadata": "{}",
         "name": "home_team",
         "type": "\"string\""
        },
        {
         "metadata": "{}",
         "name": "away_team",
         "type": "\"string\""
        },
        {
         "metadata": "{}",
         "name": "team",
         "type": "\"string\""
        },
        {
         "metadata": "{}",
         "name": "scorer",
         "type": "\"string\""
        },
        {
         "metadata": "{}",
         "name": "minute",
         "type": "\"double\""
        },
        {
         "metadata": "{}",
         "name": "own_goal",
         "type": "\"boolean\""
        },
        {
         "metadata": "{}",
         "name": "penalty",
         "type": "\"boolean\""
        }
       ],
       "type": "table"
      }
     },
     "output_type": "display_data"
    },
    {
     "output_type": "stream",
     "name": "stdout",
     "output_type": "stream",
     "text": [
      "🔍 Exibindo 10 primeiras linhas da tabela bronze.former_names\n"
     ]
    },
    {
     "output_type": "display_data",
     "data": {
      "text/html": [
       "<style scoped>\n",
       "  .table-result-container {\n",
       "    max-height: 300px;\n",
       "    overflow: auto;\n",
       "  }\n",
       "  table, th, td {\n",
       "    border: 1px solid black;\n",
       "    border-collapse: collapse;\n",
       "  }\n",
       "  th, td {\n",
       "    padding: 5px;\n",
       "  }\n",
       "  th {\n",
       "    text-align: left;\n",
       "  }\n",
       "</style><div class='table-result-container'><table class='table-result'><thead style='background-color: white'><tr><th>current</th><th>former</th><th>start_date</th><th>end_date</th></tr></thead><tbody><tr><td>Benin</td><td>Dahomey</td><td>1959-11-08</td><td>1975-11-30</td></tr><tr><td>Burkina Faso</td><td>Upper Volta</td><td>1960-04-14</td><td>1984-08-04</td></tr><tr><td>Curaçao</td><td>Netherlands Antilles</td><td>1957-03-03</td><td>2010-10-10</td></tr><tr><td>Czechoslovakia</td><td>Bohemia</td><td>1903-04-05</td><td>1919-01-01</td></tr><tr><td>Czechoslovakia</td><td>Bohemia and Moravia</td><td>1939-01-01</td><td>1945-05-01</td></tr><tr><td>Czechoslovakia</td><td>Representation of Czechs and Slovaks</td><td>1993-03-24</td><td>1993-11-17</td></tr><tr><td>DR Congo</td><td>Belgian Congo</td><td>1948-05-25</td><td>1956-01-02</td></tr><tr><td>DR Congo</td><td>Congo-Léopoldville</td><td>1963-04-12</td><td>1964-07-19</td></tr><tr><td>DR Congo</td><td>Congo-Kinshasa</td><td>1965-01-09</td><td>1970-11-24</td></tr><tr><td>DR Congo</td><td>Zaïre</td><td>1971-01-10</td><td>1997-04-27</td></tr></tbody></table></div>"
      ]
     },
     "metadata": {
      "application/vnd.databricks.v1+output": {
       "addedWidgets": {},
       "aggData": [],
       "aggError": "",
       "aggOverflow": false,
       "aggSchema": [],
       "aggSeriesLimitReached": false,
       "aggType": "",
       "arguments": {},
       "columnCustomDisplayInfos": {},
       "data": [
        [
         "Benin",
         "Dahomey",
         "1959-11-08",
         "1975-11-30"
        ],
        [
         "Burkina Faso",
         "Upper Volta",
         "1960-04-14",
         "1984-08-04"
        ],
        [
         "Curaçao",
         "Netherlands Antilles",
         "1957-03-03",
         "2010-10-10"
        ],
        [
         "Czechoslovakia",
         "Bohemia",
         "1903-04-05",
         "1919-01-01"
        ],
        [
         "Czechoslovakia",
         "Bohemia and Moravia",
         "1939-01-01",
         "1945-05-01"
        ],
        [
         "Czechoslovakia",
         "Representation of Czechs and Slovaks",
         "1993-03-24",
         "1993-11-17"
        ],
        [
         "DR Congo",
         "Belgian Congo",
         "1948-05-25",
         "1956-01-02"
        ],
        [
         "DR Congo",
         "Congo-Léopoldville",
         "1963-04-12",
         "1964-07-19"
        ],
        [
         "DR Congo",
         "Congo-Kinshasa",
         "1965-01-09",
         "1970-11-24"
        ],
        [
         "DR Congo",
         "Zaïre",
         "1971-01-10",
         "1997-04-27"
        ]
       ],
       "datasetInfos": [],
       "dbfsResultPath": null,
       "isJsonSchema": true,
       "metadata": {},
       "overflow": false,
       "plotOptions": {
        "customPlotOptions": {},
        "displayType": "table",
        "pivotAggregation": null,
        "pivotColumns": null,
        "xColumns": null,
        "yColumns": null
       },
       "removedWidgets": [],
       "schema": [
        {
         "metadata": "{}",
         "name": "current",
         "type": "\"string\""
        },
        {
         "metadata": "{}",
         "name": "former",
         "type": "\"string\""
        },
        {
         "metadata": "{}",
         "name": "start_date",
         "type": "\"string\""
        },
        {
         "metadata": "{}",
         "name": "end_date",
         "type": "\"string\""
        }
       ],
       "type": "table"
      }
     },
     "output_type": "display_data"
    },
    {
     "output_type": "stream",
     "name": "stdout",
     "output_type": "stream",
     "text": [
      "🔍 Exibindo 10 primeiras linhas da tabela bronze.fifa_ranking\n"
     ]
    },
    {
     "output_type": "display_data",
     "data": {
      "text/html": [
       "<style scoped>\n",
       "  .table-result-container {\n",
       "    max-height: 300px;\n",
       "    overflow: auto;\n",
       "  }\n",
       "  table, th, td {\n",
       "    border: 1px solid black;\n",
       "    border-collapse: collapse;\n",
       "  }\n",
       "  th, td {\n",
       "    padding: 5px;\n",
       "  }\n",
       "  th {\n",
       "    text-align: left;\n",
       "  }\n",
       "</style><div class='table-result-container'><table class='table-result'><thead style='background-color: white'><tr><th>rank</th><th>country_full</th><th>country_abrv</th><th>total_points</th><th>previous_points</th><th>rank_change</th><th>confederation</th><th>rank_date</th></tr></thead><tbody><tr><td>140.0</td><td>Brunei Darussalam</td><td>BRU</td><td>2.0</td><td>0.0</td><td>140</td><td>AFC</td><td>1992-12-31</td></tr><tr><td>33.0</td><td>Portugal</td><td>POR</td><td>38.0</td><td>0.0</td><td>33</td><td>UEFA</td><td>1992-12-31</td></tr><tr><td>32.0</td><td>Zambia</td><td>ZAM</td><td>38.0</td><td>0.0</td><td>32</td><td>CAF</td><td>1992-12-31</td></tr><tr><td>31.0</td><td>Greece</td><td>GRE</td><td>38.0</td><td>0.0</td><td>31</td><td>UEFA</td><td>1992-12-31</td></tr><tr><td>30.0</td><td>Algeria</td><td>ALG</td><td>39.0</td><td>0.0</td><td>30</td><td>CAF</td><td>1992-12-31</td></tr><tr><td>29.0</td><td>Yugoslavia</td><td>YUG</td><td>39.0</td><td>0.0</td><td>29</td><td>UEFA</td><td>1992-12-31</td></tr><tr><td>28.0</td><td>Wales</td><td>WAL</td><td>40.0</td><td>0.0</td><td>28</td><td>UEFA</td><td>1992-12-31</td></tr><tr><td>27.0</td><td>Côte d'Ivoire</td><td>CIV</td><td>41.0</td><td>0.0</td><td>27</td><td>CAF</td><td>1992-12-31</td></tr><tr><td>34.0</td><td>Austria</td><td>AUT</td><td>38.0</td><td>0.0</td><td>34</td><td>UEFA</td><td>1992-12-31</td></tr><tr><td>26.0</td><td>Bulgaria</td><td>BUL</td><td>41.0</td><td>0.0</td><td>26</td><td>UEFA</td><td>1992-12-31</td></tr></tbody></table></div>"
      ]
     },
     "metadata": {
      "application/vnd.databricks.v1+output": {
       "addedWidgets": {},
       "aggData": [],
       "aggError": "",
       "aggOverflow": false,
       "aggSchema": [],
       "aggSeriesLimitReached": false,
       "aggType": "",
       "arguments": {},
       "columnCustomDisplayInfos": {},
       "data": [
        [
         140.0,
         "Brunei Darussalam",
         "BRU",
         2.0,
         0.0,
         140,
         "AFC",
         "1992-12-31"
        ],
        [
         33.0,
         "Portugal",
         "POR",
         38.0,
         0.0,
         33,
         "UEFA",
         "1992-12-31"
        ],
        [
         32.0,
         "Zambia",
         "ZAM",
         38.0,
         0.0,
         32,
         "CAF",
         "1992-12-31"
        ],
        [
         31.0,
         "Greece",
         "GRE",
         38.0,
         0.0,
         31,
         "UEFA",
         "1992-12-31"
        ],
        [
         30.0,
         "Algeria",
         "ALG",
         39.0,
         0.0,
         30,
         "CAF",
         "1992-12-31"
        ],
        [
         29.0,
         "Yugoslavia",
         "YUG",
         39.0,
         0.0,
         29,
         "UEFA",
         "1992-12-31"
        ],
        [
         28.0,
         "Wales",
         "WAL",
         40.0,
         0.0,
         28,
         "UEFA",
         "1992-12-31"
        ],
        [
         27.0,
         "Côte d'Ivoire",
         "CIV",
         41.0,
         0.0,
         27,
         "CAF",
         "1992-12-31"
        ],
        [
         34.0,
         "Austria",
         "AUT",
         38.0,
         0.0,
         34,
         "UEFA",
         "1992-12-31"
        ],
        [
         26.0,
         "Bulgaria",
         "BUL",
         41.0,
         0.0,
         26,
         "UEFA",
         "1992-12-31"
        ]
       ],
       "datasetInfos": [],
       "dbfsResultPath": null,
       "isJsonSchema": true,
       "metadata": {},
       "overflow": false,
       "plotOptions": {
        "customPlotOptions": {},
        "displayType": "table",
        "pivotAggregation": null,
        "pivotColumns": null,
        "xColumns": null,
        "yColumns": null
       },
       "removedWidgets": [],
       "schema": [
        {
         "metadata": "{}",
         "name": "rank",
         "type": "\"double\""
        },
        {
         "metadata": "{}",
         "name": "country_full",
         "type": "\"string\""
        },
        {
         "metadata": "{}",
         "name": "country_abrv",
         "type": "\"string\""
        },
        {
         "metadata": "{}",
         "name": "total_points",
         "type": "\"double\""
        },
        {
         "metadata": "{}",
         "name": "previous_points",
         "type": "\"double\""
        },
        {
         "metadata": "{}",
         "name": "rank_change",
         "type": "\"long\""
        },
        {
         "metadata": "{}",
         "name": "confederation",
         "type": "\"string\""
        },
        {
         "metadata": "{}",
         "name": "rank_date",
         "type": "\"string\""
        }
       ],
       "type": "table"
      }
     },
     "output_type": "display_data"
    },
    {
     "output_type": "stream",
     "name": "stdout",
     "output_type": "stream",
     "text": [
      "📊 Esquema da tabela bronze.results\n+----------+---------+-------+\n|  col_name|data_type|comment|\n+----------+---------+-------+\n|      date|   string|   null|\n| home_team|   string|   null|\n| away_team|   string|   null|\n|home_score|   bigint|   null|\n|away_score|   bigint|   null|\n|tournament|   string|   null|\n|      city|   string|   null|\n|   country|   string|   null|\n|   neutral|  boolean|   null|\n+----------+---------+-------+\n\n📊 Esquema da tabela bronze.shootouts\n+-------------+---------+-------+\n|     col_name|data_type|comment|\n+-------------+---------+-------+\n|         date|   string|   null|\n|    home_team|   string|   null|\n|    away_team|   string|   null|\n|       winner|   string|   null|\n|first_shooter|   string|   null|\n+-------------+---------+-------+\n\n📊 Esquema da tabela bronze.goalscorers\n+---------+---------+-------+\n| col_name|data_type|comment|\n+---------+---------+-------+\n|     date|   string|   null|\n|home_team|   string|   null|\n|away_team|   string|   null|\n|     team|   string|   null|\n|   scorer|   string|   null|\n|   minute|   double|   null|\n| own_goal|  boolean|   null|\n|  penalty|  boolean|   null|\n+---------+---------+-------+\n\n📊 Esquema da tabela bronze.former_names\n+----------+---------+-------+\n|  col_name|data_type|comment|\n+----------+---------+-------+\n|   current|   string|   null|\n|    former|   string|   null|\n|start_date|   string|   null|\n|  end_date|   string|   null|\n+----------+---------+-------+\n\n📊 Esquema da tabela bronze.fifa_ranking\n+---------------+---------+-------+\n|       col_name|data_type|comment|\n+---------------+---------+-------+\n|           rank|   double|   null|\n|   country_full|   string|   null|\n|   country_abrv|   string|   null|\n|   total_points|   double|   null|\n|previous_points|   double|   null|\n|    rank_change|   bigint|   null|\n|  confederation|   string|   null|\n|      rank_date|   string|   null|\n+---------------+---------+-------+\n\n"
     ]
    }
   ],
   "source": [
    "# Lista de tabelas que foram criadas\n",
    "tables = [\"results\", \"shootouts\", \"goalscorers\", \"former_names\", \"fifa_ranking\"]\n",
    "\n",
    "# Exibindo as 10 primeiras linhas de cada tabela\n",
    "for table in tables:\n",
    "    print(f\"🔍 Exibindo 10 primeiras linhas da tabela bronze.{table}\")\n",
    "    display(spark.sql(f\"SELECT * FROM bronze.{table} LIMIT 10\"))\n",
    "\n",
    "# Exibindo o esquema de cada tabela\n",
    "for table in tables:\n",
    "    print(f\"📊 Esquema da tabela bronze.{table}\")\n",
    "    spark.sql(f\"DESCRIBE TABLE bronze.{table}\").show()\n"
   ]
  },
  {
   "cell_type": "markdown",
   "metadata": {
    "application/vnd.databricks.v1+cell": {
     "cellMetadata": {
      "byteLimit": 2048000,
      "rowLimit": 10000
     },
     "inputWidgets": {},
     "nuid": "fe98c22b-004b-4bf7-87a5-c6e43d7f4704",
     "showTitle": false,
     "tableResultSettingsMap": {},
     "title": ""
    }
   },
   "source": [
    "Nesta etapa do projeto, foi concluída a ingestão dos dados brutos provenientes de diversos arquivos CSV históricos relacionados às seleções nacionais de futebol, utilizando o Spark no Databricks. Com a criação de tabelas na camada bronze, os dados foram armazenados em sua forma original, preservando todas as informações com a maior fidelidade possível.\n",
    "\n",
    "Agora que a camada bronze está criada e os dados estão prontos para análise, a próxima etapa do trabalho será a construção da camada silver, onde será feita a limpeza, transformação e integração dos dados para garantir que estejam no formato adequado para análises mais complexas.\n",
    "\n",
    "A camada silver será responsável por aprimorar a qualidade dos dados, identificando e corrigindo inconsistências, transformando variáveis e aplicando quaisquer outras transformações necessárias para garantir que os dados estejam prontos para a análise e construção de modelos na camada gold.\n",
    "\n",
    "Com isso, segue-se para a próxima fase do pipeline de dados, garantindo que os dados estejam cada vez mais preparados para responder às questões relacionadas à dominância das seleções nacionais no futebol."
   ]
  },
  {
   "cell_type": "markdown",
   "metadata": {
    "application/vnd.databricks.v1+cell": {
     "cellMetadata": {
      "byteLimit": 2048000,
      "rowLimit": 10000
     },
     "inputWidgets": {},
     "nuid": "eebf8068-1270-4d06-a207-332abb1b59e1",
     "showTitle": false,
     "tableResultSettingsMap": {},
     "title": ""
    }
   },
   "source": [
    "##  4.2 Camada Silver\n",
    "\n",
    "A camada silver tem como objetivo realizar um processamento mais refinado dos dados provenientes da camada bronze, aplicando transformações e limpezas essenciais para garantir que os dados estejam padronizados e prontos para análises mais complexas na camada gold.\n",
    "\n",
    "Utilizando as tabelas da camada bronze como base, foram realizadas operações como o tratamento de nomes de seleções através da tabela former_names, além de aplicar ajustes nos formatos de dados (como conversões de tipos de variáveis) e, quando necessário, a remoção de dados nulos. As tabelas resultantes da camada silver servirão como um ponto de partida para análises mais profundas e criação de métricas na camada gold.\n",
    "\n",
    "A seguir, serão processados os principais dados de resultados de partidas, disputas de pênaltis, marcadores de gols e o ranking FIFA para garantir que todas as informações estejam corretamente estruturadas e padronizadas. Ao final do processo, haverá tabelas com informações prontas para serem utilizadas em análises avançadas, como a performance das seleções ao longo do tempo.\n",
    "Primeiramente, são executados scripts de criação do database silver."
   ]
  },
  {
   "cell_type": "code",
   "execution_count": 0,
   "metadata": {
    "application/vnd.databricks.v1+cell": {
     "cellMetadata": {
      "byteLimit": 2048000,
      "implicitDf": true,
      "rowLimit": 10000
     },
     "inputWidgets": {},
     "nuid": "afe4159d-8ce7-49de-94d3-37908a2054dd",
     "showTitle": true,
     "tableResultSettingsMap": {},
     "title": "Apagando o database \"silver\" para ser recriado"
    }
   },
   "outputs": [
    {
     "output_type": "display_data",
     "data": {
      "text/html": [
       "<style scoped>\n",
       "  .table-result-container {\n",
       "    max-height: 300px;\n",
       "    overflow: auto;\n",
       "  }\n",
       "  table, th, td {\n",
       "    border: 1px solid black;\n",
       "    border-collapse: collapse;\n",
       "  }\n",
       "  th, td {\n",
       "    padding: 5px;\n",
       "  }\n",
       "  th {\n",
       "    text-align: left;\n",
       "  }\n",
       "</style><div class='table-result-container'><table class='table-result'><thead style='background-color: white'><tr></tr></thead><tbody></tbody></table></div>"
      ]
     },
     "metadata": {
      "application/vnd.databricks.v1+output": {
       "addedWidgets": {},
       "aggData": [],
       "aggError": "",
       "aggOverflow": false,
       "aggSchema": [],
       "aggSeriesLimitReached": false,
       "aggType": "",
       "arguments": {},
       "columnCustomDisplayInfos": {},
       "data": [],
       "datasetInfos": [],
       "dbfsResultPath": null,
       "isJsonSchema": true,
       "metadata": {},
       "overflow": false,
       "plotOptions": {
        "customPlotOptions": {},
        "displayType": "table",
        "pivotAggregation": null,
        "pivotColumns": null,
        "xColumns": null,
        "yColumns": null
       },
       "removedWidgets": [],
       "schema": [],
       "type": "table"
      }
     },
     "output_type": "display_data"
    }
   ],
   "source": [
    "%sql DROP DATABASE IF EXISTS silver CASCADE"
   ]
  },
  {
   "cell_type": "code",
   "execution_count": 0,
   "metadata": {
    "application/vnd.databricks.v1+cell": {
     "cellMetadata": {
      "byteLimit": 2048000,
      "implicitDf": true,
      "rowLimit": 10000
     },
     "inputWidgets": {},
     "nuid": "6f0fa3ce-47c4-4681-b4e9-983bef80678b",
     "showTitle": true,
     "tableResultSettingsMap": {},
     "title": "Recriando o database \"silver\""
    }
   },
   "outputs": [
    {
     "output_type": "display_data",
     "data": {
      "text/html": [
       "<style scoped>\n",
       "  .table-result-container {\n",
       "    max-height: 300px;\n",
       "    overflow: auto;\n",
       "  }\n",
       "  table, th, td {\n",
       "    border: 1px solid black;\n",
       "    border-collapse: collapse;\n",
       "  }\n",
       "  th, td {\n",
       "    padding: 5px;\n",
       "  }\n",
       "  th {\n",
       "    text-align: left;\n",
       "  }\n",
       "</style><div class='table-result-container'><table class='table-result'><thead style='background-color: white'><tr></tr></thead><tbody></tbody></table></div>"
      ]
     },
     "metadata": {
      "application/vnd.databricks.v1+output": {
       "addedWidgets": {},
       "aggData": [],
       "aggError": "",
       "aggOverflow": false,
       "aggSchema": [],
       "aggSeriesLimitReached": false,
       "aggType": "",
       "arguments": {},
       "columnCustomDisplayInfos": {},
       "data": [],
       "datasetInfos": [],
       "dbfsResultPath": null,
       "isJsonSchema": true,
       "metadata": {},
       "overflow": false,
       "plotOptions": {
        "customPlotOptions": {},
        "displayType": "table",
        "pivotAggregation": null,
        "pivotColumns": null,
        "xColumns": null,
        "yColumns": null
       },
       "removedWidgets": [],
       "schema": [],
       "type": "table"
      }
     },
     "output_type": "display_data"
    }
   ],
   "source": [
    "%sql CREATE DATABASE silver"
   ]
  },
  {
   "cell_type": "markdown",
   "metadata": {
    "application/vnd.databricks.v1+cell": {
     "cellMetadata": {
      "byteLimit": 2048000,
      "rowLimit": 10000
     },
     "inputWidgets": {},
     "nuid": "5a9b68f4-53c7-4305-9168-8475939bb249",
     "showTitle": false,
     "tableResultSettingsMap": {},
     "title": ""
    }
   },
   "source": [
    "A partir disso, são criadas as tabelas na camada silver a partir das tabelas da camada Bronze. O processo de criação de cada uma delas é descrito a seguir."
   ]
  },
  {
   "cell_type": "markdown",
   "metadata": {
    "application/vnd.databricks.v1+cell": {
     "cellMetadata": {
      "byteLimit": 2048000,
      "rowLimit": 10000
     },
     "inputWidgets": {},
     "nuid": "4cad6a38-571f-4a60-ac0f-30f4e58ff792",
     "showTitle": false,
     "tableResultSettingsMap": {},
     "title": ""
    }
   },
   "source": [
    "### 4.2.1 Tabela Former Names\n",
    "A primeira tabela a ser criada foi a silver.former_names. Nesta etapa do pipeline de ingestão e transformação, a tabela silver.former_names foi construída a partir da camada bronze, com o objetivo de refinar e padronizar as informações relacionadas às alterações históricas de nome das seleções nacionais. Durante o processo, foram aplicadas rotinas de limpeza que incluem a remoção de valores nulos, o tratamento de espaços em branco, a conversão explícita de campos de data para o tipo DATE e a validação de integridade temporal (start_date <= end_date). Essas transformações garantem maior confiabilidade e consistência aos dados, preparando-os para análises mais avançadas nas camadas analíticas do projeto."
   ]
  },
  {
   "cell_type": "code",
   "execution_count": 0,
   "metadata": {
    "application/vnd.databricks.v1+cell": {
     "cellMetadata": {
      "byteLimit": 2048000,
      "implicitDf": true,
      "rowLimit": 10000
     },
     "inputWidgets": {},
     "nuid": "ac118ff1-b34f-4ff3-bce5-d2d5bafbc686",
     "showTitle": false,
     "tableResultSettingsMap": {},
     "title": ""
    }
   },
   "outputs": [
    {
     "output_type": "display_data",
     "data": {
      "text/html": [
       "<style scoped>\n",
       "  .table-result-container {\n",
       "    max-height: 300px;\n",
       "    overflow: auto;\n",
       "  }\n",
       "  table, th, td {\n",
       "    border: 1px solid black;\n",
       "    border-collapse: collapse;\n",
       "  }\n",
       "  th, td {\n",
       "    padding: 5px;\n",
       "  }\n",
       "  th {\n",
       "    text-align: left;\n",
       "  }\n",
       "</style><div class='table-result-container'><table class='table-result'><thead style='background-color: white'><tr><th>num_affected_rows</th><th>num_inserted_rows</th></tr></thead><tbody></tbody></table></div>"
      ]
     },
     "metadata": {
      "application/vnd.databricks.v1+output": {
       "addedWidgets": {},
       "aggData": [],
       "aggError": "",
       "aggOverflow": false,
       "aggSchema": [],
       "aggSeriesLimitReached": false,
       "aggType": "",
       "arguments": {},
       "columnCustomDisplayInfos": {},
       "data": [],
       "datasetInfos": [],
       "dbfsResultPath": null,
       "isJsonSchema": true,
       "metadata": {},
       "overflow": false,
       "plotOptions": {
        "customPlotOptions": {},
        "displayType": "table",
        "pivotAggregation": null,
        "pivotColumns": null,
        "xColumns": null,
        "yColumns": null
       },
       "removedWidgets": [],
       "schema": [
        {
         "metadata": "{}",
         "name": "num_affected_rows",
         "type": "\"long\""
        },
        {
         "metadata": "{}",
         "name": "num_inserted_rows",
         "type": "\"long\""
        }
       ],
       "type": "table"
      }
     },
     "output_type": "display_data"
    }
   ],
   "source": [
    "%sql\n",
    "DROP TABLE IF EXISTS silver.former_names;\n",
    "\n",
    "CREATE TABLE silver.former_names AS\n",
    "SELECT \n",
    "  TRIM(current) AS current,\n",
    "  TRIM(former) AS former,\n",
    "  CAST(start_date AS DATE) AS start_date,\n",
    "  CAST(end_date AS DATE) AS end_date\n",
    "FROM bronze.former_names\n",
    "WHERE \n",
    "  current IS NOT NULL\n",
    "  AND former IS NOT NULL\n",
    "  AND start_date <= end_date;"
   ]
  },
  {
   "cell_type": "markdown",
   "metadata": {
    "application/vnd.databricks.v1+cell": {
     "cellMetadata": {
      "byteLimit": 2048000,
      "rowLimit": 10000
     },
     "inputWidgets": {},
     "nuid": "f5b89a9a-bfa3-4f6d-8b20-94e3ae3664de",
     "showTitle": false,
     "tableResultSettingsMap": {},
     "title": ""
    }
   },
   "source": [
    "A seguir, é verificado na tabela se todo o processo foi realizado com sucesso."
   ]
  },
  {
   "cell_type": "code",
   "execution_count": 0,
   "metadata": {
    "application/vnd.databricks.v1+cell": {
     "cellMetadata": {
      "byteLimit": 2048000,
      "implicitDf": true,
      "rowLimit": 10000
     },
     "inputWidgets": {},
     "nuid": "cee254ac-2e55-4db9-9010-5e00f55910a7",
     "showTitle": false,
     "tableResultSettingsMap": {},
     "title": ""
    }
   },
   "outputs": [
    {
     "output_type": "display_data",
     "data": {
      "text/html": [
       "<style scoped>\n",
       "  .table-result-container {\n",
       "    max-height: 300px;\n",
       "    overflow: auto;\n",
       "  }\n",
       "  table, th, td {\n",
       "    border: 1px solid black;\n",
       "    border-collapse: collapse;\n",
       "  }\n",
       "  th, td {\n",
       "    padding: 5px;\n",
       "  }\n",
       "  th {\n",
       "    text-align: left;\n",
       "  }\n",
       "</style><div class='table-result-container'><table class='table-result'><thead style='background-color: white'><tr><th>total_records</th><th>source_count</th><th>source_unique_names</th><th>null_dates</th><th>null_names</th><th>invalid_date_ranges</th><th>basic_validation</th><th>count_validation</th></tr></thead><tbody><tr><td>34</td><td>34</td><td>34</td><td>0</td><td>0</td><td>0</td><td>✅ Validações básicas passaram</td><td>✅ Contagem de registros OK</td></tr></tbody></table></div>"
      ]
     },
     "metadata": {
      "application/vnd.databricks.v1+output": {
       "addedWidgets": {},
       "aggData": [],
       "aggError": "",
       "aggOverflow": false,
       "aggSchema": [],
       "aggSeriesLimitReached": false,
       "aggType": "",
       "arguments": {},
       "columnCustomDisplayInfos": {},
       "data": [
        [
         34,
         34,
         34,
         0,
         0,
         0,
         "✅ Validações básicas passaram",
         "✅ Contagem de registros OK"
        ]
       ],
       "datasetInfos": [],
       "dbfsResultPath": null,
       "isJsonSchema": true,
       "metadata": {},
       "overflow": false,
       "plotOptions": {
        "customPlotOptions": {},
        "displayType": "table",
        "pivotAggregation": null,
        "pivotColumns": null,
        "xColumns": null,
        "yColumns": null
       },
       "removedWidgets": [],
       "schema": [
        {
         "metadata": "{}",
         "name": "total_records",
         "type": "\"long\""
        },
        {
         "metadata": "{}",
         "name": "source_count",
         "type": "\"long\""
        },
        {
         "metadata": "{}",
         "name": "source_unique_names",
         "type": "\"long\""
        },
        {
         "metadata": "{}",
         "name": "null_dates",
         "type": "\"long\""
        },
        {
         "metadata": "{}",
         "name": "null_names",
         "type": "\"long\""
        },
        {
         "metadata": "{}",
         "name": "invalid_date_ranges",
         "type": "\"long\""
        },
        {
         "metadata": "{}",
         "name": "basic_validation",
         "type": "\"string\""
        },
        {
         "metadata": "{}",
         "name": "count_validation",
         "type": "\"string\""
        }
       ],
       "type": "table"
      }
     },
     "output_type": "display_data"
    }
   ],
   "source": [
    "%sql\n",
    "-- Verificação de qualidade dos dados após criação da tabela\n",
    "WITH checks AS (\n",
    "  SELECT\n",
    "    COUNT(*) AS total_records,  -- Total de registros transformados\n",
    "    \n",
    "    SUM(CASE \n",
    "        WHEN silver.start_date IS NULL OR silver.end_date IS NULL \n",
    "        THEN 1 ELSE 0 END) AS null_dates,  -- Datas convertidas corretamente\n",
    "    \n",
    "    SUM(CASE \n",
    "        WHEN silver.current IS NULL OR silver.former IS NULL \n",
    "        THEN 1 ELSE 0 END) AS null_names,  -- Campos nulos nos nomes\n",
    "    \n",
    "    SUM(CASE \n",
    "        WHEN silver.start_date > silver.end_date \n",
    "        THEN 1 ELSE 0 END) AS invalid_date_ranges,  -- Consistência temporal\n",
    "    \n",
    "    (SELECT COUNT(*) FROM bronze.former_names) AS source_count,  -- Verificação de volume da fonte\n",
    "    (SELECT COUNT(DISTINCT former) FROM bronze.former_names) AS source_unique_names  -- 👍 Insight adicional\n",
    "  FROM silver.former_names silver\n",
    ")\n",
    "\n",
    "SELECT\n",
    "  total_records,\n",
    "  source_count,\n",
    "  source_unique_names,\n",
    "  null_dates,\n",
    "  null_names,\n",
    "  invalid_date_ranges,\n",
    "  \n",
    "  CASE\n",
    "    WHEN null_dates = 0 AND null_names = 0 AND invalid_date_ranges = 0 \n",
    "    THEN '✅ Validações básicas passaram'\n",
    "    ELSE '❌ Problemas encontrados'\n",
    "  END AS basic_validation,\n",
    "  \n",
    "  CASE\n",
    "    WHEN total_records <= source_count AND total_records > 0\n",
    "    THEN '✅ Contagem de registros OK'\n",
    "    ELSE '❌ Problema na contagem de registros'\n",
    "  END AS count_validation\n",
    "FROM checks;\n"
   ]
  },
  {
   "cell_type": "markdown",
   "metadata": {
    "application/vnd.databricks.v1+cell": {
     "cellMetadata": {
      "byteLimit": 2048000,
      "rowLimit": 10000
     },
     "inputWidgets": {},
     "nuid": "068f8218-8bd8-4852-bd9d-4768d1b8988e",
     "showTitle": false,
     "tableResultSettingsMap": {},
     "title": ""
    }
   },
   "source": [
    "Visualização da tabela criada."
   ]
  },
  {
   "cell_type": "code",
   "execution_count": 0,
   "metadata": {
    "application/vnd.databricks.v1+cell": {
     "cellMetadata": {
      "byteLimit": 2048000,
      "implicitDf": true,
      "rowLimit": 10000
     },
     "inputWidgets": {},
     "nuid": "ced7419e-f2ee-4fec-9166-836a2e76b206",
     "showTitle": false,
     "tableResultSettingsMap": {},
     "title": ""
    }
   },
   "outputs": [
    {
     "output_type": "display_data",
     "data": {
      "text/html": [
       "<style scoped>\n",
       "  .table-result-container {\n",
       "    max-height: 300px;\n",
       "    overflow: auto;\n",
       "  }\n",
       "  table, th, td {\n",
       "    border: 1px solid black;\n",
       "    border-collapse: collapse;\n",
       "  }\n",
       "  th, td {\n",
       "    padding: 5px;\n",
       "  }\n",
       "  th {\n",
       "    text-align: left;\n",
       "  }\n",
       "</style><div class='table-result-container'><table class='table-result'><thead style='background-color: white'><tr><th>current</th><th>former</th><th>start_date</th><th>end_date</th></tr></thead><tbody><tr><td>Benin</td><td>Dahomey</td><td>1959-11-08</td><td>1975-11-30</td></tr><tr><td>Burkina Faso</td><td>Upper Volta</td><td>1960-04-14</td><td>1984-08-04</td></tr><tr><td>Curaçao</td><td>Netherlands Antilles</td><td>1957-03-03</td><td>2010-10-10</td></tr><tr><td>Czechoslovakia</td><td>Bohemia</td><td>1903-04-05</td><td>1919-01-01</td></tr><tr><td>Czechoslovakia</td><td>Bohemia and Moravia</td><td>1939-01-01</td><td>1945-05-01</td></tr><tr><td>Czechoslovakia</td><td>Representation of Czechs and Slovaks</td><td>1993-03-24</td><td>1993-11-17</td></tr><tr><td>DR Congo</td><td>Belgian Congo</td><td>1948-05-25</td><td>1956-01-02</td></tr><tr><td>DR Congo</td><td>Congo-Léopoldville</td><td>1963-04-12</td><td>1964-07-19</td></tr><tr><td>DR Congo</td><td>Congo-Kinshasa</td><td>1965-01-09</td><td>1970-11-24</td></tr><tr><td>DR Congo</td><td>Zaïre</td><td>1971-01-10</td><td>1997-04-27</td></tr><tr><td>Djibouti</td><td>French Somaliland</td><td>1947-12-05</td><td>1977-06-27</td></tr><tr><td>Egypt</td><td>United Arab Republic</td><td>1958-02-22</td><td>1971-09-11</td></tr><tr><td>Eswatini</td><td>Swaziland</td><td>1968-05-01</td><td>2018-04-19</td></tr><tr><td>Ghana</td><td>Gold Coast</td><td>1950-05-28</td><td>1957-03-06</td></tr><tr><td>Guinea-Bissau</td><td>Portuguese Guinea</td><td>1953-06-02</td><td>1973-09-24</td></tr><tr><td>Guyana</td><td>British Guiana</td><td>1905-07-21</td><td>1967-08-02</td></tr><tr><td>Indonesia</td><td>Dutch East Indies</td><td>1934-05-13</td><td>1951-03-04</td></tr><tr><td>Israel</td><td>Mandatory Palestine</td><td>1934-03-16</td><td>1940-04-27</td></tr><tr><td>Malawi</td><td>Nyasaland</td><td>1957-08-28</td><td>1964-07-04</td></tr><tr><td>Malaysia</td><td>Malaya</td><td>1948-06-20</td><td>1963-08-16</td></tr><tr><td>Myanmar</td><td>Burma</td><td>1952-03-14</td><td>1989-01-01</td></tr><tr><td>North Macedonia</td><td>Macedonia</td><td>1993-10-13</td><td>2018-11-19</td></tr><tr><td>Northern Ireland</td><td>Ireland</td><td>1882-02-18</td><td>1956-04-11</td></tr><tr><td>Republic of Ireland</td><td>Irish Free State</td><td>1924-05-28</td><td>1936-12-06</td></tr><tr><td>Republic of Ireland</td><td>Éire</td><td>1937-01-01</td><td>1953-03-25</td></tr><tr><td>Russia</td><td>Soviet Union</td><td>1924-11-16</td><td>1991-11-13</td></tr><tr><td>Russia</td><td>CIS</td><td>1992-01-25</td><td>1992-06-18</td></tr><tr><td>Samoa</td><td>Western Samoa</td><td>1979-08-31</td><td>1996-11-15</td></tr><tr><td>Sri Lanka</td><td>Ceylon</td><td>1952-03-24</td><td>1972-05-22</td></tr><tr><td>Suriname</td><td>Dutch Guyana</td><td>1921-01-28</td><td>1975-11-25</td></tr><tr><td>Tanzania</td><td>Tanganyika</td><td>1945-01-01</td><td>1964-04-26</td></tr><tr><td>Vanuatu</td><td>New Hebrides</td><td>1951-10-04</td><td>1980-07-30</td></tr><tr><td>Zambia</td><td>Northern Rhodesia</td><td>1947-02-22</td><td>1964-10-25</td></tr><tr><td>Zimbabwe</td><td>Southern Rhodesia</td><td>1946-06-16</td><td>1980-04-18</td></tr></tbody></table></div>"
      ]
     },
     "metadata": {
      "application/vnd.databricks.v1+output": {
       "addedWidgets": {},
       "aggData": [],
       "aggError": "",
       "aggOverflow": false,
       "aggSchema": [],
       "aggSeriesLimitReached": false,
       "aggType": "",
       "arguments": {},
       "columnCustomDisplayInfos": {},
       "data": [
        [
         "Benin",
         "Dahomey",
         "1959-11-08",
         "1975-11-30"
        ],
        [
         "Burkina Faso",
         "Upper Volta",
         "1960-04-14",
         "1984-08-04"
        ],
        [
         "Curaçao",
         "Netherlands Antilles",
         "1957-03-03",
         "2010-10-10"
        ],
        [
         "Czechoslovakia",
         "Bohemia",
         "1903-04-05",
         "1919-01-01"
        ],
        [
         "Czechoslovakia",
         "Bohemia and Moravia",
         "1939-01-01",
         "1945-05-01"
        ],
        [
         "Czechoslovakia",
         "Representation of Czechs and Slovaks",
         "1993-03-24",
         "1993-11-17"
        ],
        [
         "DR Congo",
         "Belgian Congo",
         "1948-05-25",
         "1956-01-02"
        ],
        [
         "DR Congo",
         "Congo-Léopoldville",
         "1963-04-12",
         "1964-07-19"
        ],
        [
         "DR Congo",
         "Congo-Kinshasa",
         "1965-01-09",
         "1970-11-24"
        ],
        [
         "DR Congo",
         "Zaïre",
         "1971-01-10",
         "1997-04-27"
        ],
        [
         "Djibouti",
         "French Somaliland",
         "1947-12-05",
         "1977-06-27"
        ],
        [
         "Egypt",
         "United Arab Republic",
         "1958-02-22",
         "1971-09-11"
        ],
        [
         "Eswatini",
         "Swaziland",
         "1968-05-01",
         "2018-04-19"
        ],
        [
         "Ghana",
         "Gold Coast",
         "1950-05-28",
         "1957-03-06"
        ],
        [
         "Guinea-Bissau",
         "Portuguese Guinea",
         "1953-06-02",
         "1973-09-24"
        ],
        [
         "Guyana",
         "British Guiana",
         "1905-07-21",
         "1967-08-02"
        ],
        [
         "Indonesia",
         "Dutch East Indies",
         "1934-05-13",
         "1951-03-04"
        ],
        [
         "Israel",
         "Mandatory Palestine",
         "1934-03-16",
         "1940-04-27"
        ],
        [
         "Malawi",
         "Nyasaland",
         "1957-08-28",
         "1964-07-04"
        ],
        [
         "Malaysia",
         "Malaya",
         "1948-06-20",
         "1963-08-16"
        ],
        [
         "Myanmar",
         "Burma",
         "1952-03-14",
         "1989-01-01"
        ],
        [
         "North Macedonia",
         "Macedonia",
         "1993-10-13",
         "2018-11-19"
        ],
        [
         "Northern Ireland",
         "Ireland",
         "1882-02-18",
         "1956-04-11"
        ],
        [
         "Republic of Ireland",
         "Irish Free State",
         "1924-05-28",
         "1936-12-06"
        ],
        [
         "Republic of Ireland",
         "Éire",
         "1937-01-01",
         "1953-03-25"
        ],
        [
         "Russia",
         "Soviet Union",
         "1924-11-16",
         "1991-11-13"
        ],
        [
         "Russia",
         "CIS",
         "1992-01-25",
         "1992-06-18"
        ],
        [
         "Samoa",
         "Western Samoa",
         "1979-08-31",
         "1996-11-15"
        ],
        [
         "Sri Lanka",
         "Ceylon",
         "1952-03-24",
         "1972-05-22"
        ],
        [
         "Suriname",
         "Dutch Guyana",
         "1921-01-28",
         "1975-11-25"
        ],
        [
         "Tanzania",
         "Tanganyika",
         "1945-01-01",
         "1964-04-26"
        ],
        [
         "Vanuatu",
         "New Hebrides",
         "1951-10-04",
         "1980-07-30"
        ],
        [
         "Zambia",
         "Northern Rhodesia",
         "1947-02-22",
         "1964-10-25"
        ],
        [
         "Zimbabwe",
         "Southern Rhodesia",
         "1946-06-16",
         "1980-04-18"
        ]
       ],
       "datasetInfos": [],
       "dbfsResultPath": null,
       "isJsonSchema": true,
       "metadata": {},
       "overflow": false,
       "plotOptions": {
        "customPlotOptions": {},
        "displayType": "table",
        "pivotAggregation": null,
        "pivotColumns": null,
        "xColumns": null,
        "yColumns": null
       },
       "removedWidgets": [],
       "schema": [
        {
         "metadata": "{}",
         "name": "current",
         "type": "\"string\""
        },
        {
         "metadata": "{}",
         "name": "former",
         "type": "\"string\""
        },
        {
         "metadata": "{}",
         "name": "start_date",
         "type": "\"date\""
        },
        {
         "metadata": "{}",
         "name": "end_date",
         "type": "\"date\""
        }
       ],
       "type": "table"
      }
     },
     "output_type": "display_data"
    }
   ],
   "source": [
    "%sql\n",
    "SELECT *\n",
    "FROM silver.former_names"
   ]
  },
  {
   "cell_type": "markdown",
   "metadata": {
    "application/vnd.databricks.v1+cell": {
     "cellMetadata": {
      "byteLimit": 2048000,
      "rowLimit": 10000
     },
     "inputWidgets": {},
     "nuid": "8c099980-7f73-42bd-995b-4ec43ec5278c",
     "showTitle": false,
     "tableResultSettingsMap": {},
     "title": ""
    }
   },
   "source": [
    "Alterando o nome de um país para evitar conflito de nome com a tabela results."
   ]
  },
  {
   "cell_type": "code",
   "execution_count": 0,
   "metadata": {
    "application/vnd.databricks.v1+cell": {
     "cellMetadata": {
      "byteLimit": 2048000,
      "implicitDf": true,
      "rowLimit": 10000
     },
     "inputWidgets": {},
     "nuid": "4a6a7f61-c698-4fc5-99ab-2eea1c2cee5d",
     "showTitle": false,
     "tableResultSettingsMap": {},
     "title": ""
    }
   },
   "outputs": [
    {
     "output_type": "display_data",
     "data": {
      "text/html": [
       "<style scoped>\n",
       "  .table-result-container {\n",
       "    max-height: 300px;\n",
       "    overflow: auto;\n",
       "  }\n",
       "  table, th, td {\n",
       "    border: 1px solid black;\n",
       "    border-collapse: collapse;\n",
       "  }\n",
       "  th, td {\n",
       "    padding: 5px;\n",
       "  }\n",
       "  th {\n",
       "    text-align: left;\n",
       "  }\n",
       "</style><div class='table-result-container'><table class='table-result'><thead style='background-color: white'><tr><th>num_affected_rows</th></tr></thead><tbody><tr><td>3</td></tr></tbody></table></div>"
      ]
     },
     "metadata": {
      "application/vnd.databricks.v1+output": {
       "addedWidgets": {},
       "aggData": [],
       "aggError": "",
       "aggOverflow": false,
       "aggSchema": [],
       "aggSeriesLimitReached": false,
       "aggType": "",
       "arguments": {},
       "columnCustomDisplayInfos": {},
       "data": [
        [
         3
        ]
       ],
       "datasetInfos": [],
       "dbfsResultPath": null,
       "isJsonSchema": true,
       "metadata": {},
       "overflow": false,
       "plotOptions": {
        "customPlotOptions": {},
        "displayType": "table",
        "pivotAggregation": null,
        "pivotColumns": null,
        "xColumns": null,
        "yColumns": null
       },
       "removedWidgets": [],
       "schema": [
        {
         "metadata": "{}",
         "name": "num_affected_rows",
         "type": "\"long\""
        }
       ],
       "type": "table"
      }
     },
     "output_type": "display_data"
    }
   ],
   "source": [
    "%sql\n",
    "UPDATE silver.former_names\n",
    "SET current = 'Czech Republic'\n",
    "WHERE current = 'Czechoslovakia';"
   ]
  },
  {
   "cell_type": "code",
   "execution_count": 0,
   "metadata": {
    "application/vnd.databricks.v1+cell": {
     "cellMetadata": {
      "byteLimit": 2048000,
      "implicitDf": true,
      "rowLimit": 10000
     },
     "inputWidgets": {},
     "nuid": "5da39549-10be-468f-88f9-c01699db9923",
     "showTitle": false,
     "tableResultSettingsMap": {},
     "title": ""
    }
   },
   "outputs": [
    {
     "output_type": "display_data",
     "data": {
      "text/html": [
       "<style scoped>\n",
       "  .table-result-container {\n",
       "    max-height: 300px;\n",
       "    overflow: auto;\n",
       "  }\n",
       "  table, th, td {\n",
       "    border: 1px solid black;\n",
       "    border-collapse: collapse;\n",
       "  }\n",
       "  th, td {\n",
       "    padding: 5px;\n",
       "  }\n",
       "  th {\n",
       "    text-align: left;\n",
       "  }\n",
       "</style><div class='table-result-container'><table class='table-result'><thead style='background-color: white'><tr><th>num_affected_rows</th><th>num_inserted_rows</th></tr></thead><tbody><tr><td>1</td><td>1</td></tr></tbody></table></div>"
      ]
     },
     "metadata": {
      "application/vnd.databricks.v1+output": {
       "addedWidgets": {},
       "aggData": [],
       "aggError": "",
       "aggOverflow": false,
       "aggSchema": [],
       "aggSeriesLimitReached": false,
       "aggType": "",
       "arguments": {},
       "columnCustomDisplayInfos": {},
       "data": [
        [
         1,
         1
        ]
       ],
       "datasetInfos": [],
       "dbfsResultPath": null,
       "isJsonSchema": true,
       "metadata": {},
       "overflow": false,
       "plotOptions": {
        "customPlotOptions": {},
        "displayType": "table",
        "pivotAggregation": null,
        "pivotColumns": null,
        "xColumns": null,
        "yColumns": null
       },
       "removedWidgets": [],
       "schema": [
        {
         "metadata": "{}",
         "name": "num_affected_rows",
         "type": "\"long\""
        },
        {
         "metadata": "{}",
         "name": "num_inserted_rows",
         "type": "\"long\""
        }
       ],
       "type": "table"
      }
     },
     "output_type": "display_data"
    }
   ],
   "source": [
    "%sql\n",
    "INSERT INTO silver.former_names (current, former, start_date, end_date)\n",
    "VALUES ('Czech Republic', 'Czechoslovakia', '1993-11-17', NULL);"
   ]
  },
  {
   "cell_type": "code",
   "execution_count": 0,
   "metadata": {
    "application/vnd.databricks.v1+cell": {
     "cellMetadata": {
      "byteLimit": 2048000,
      "implicitDf": true,
      "rowLimit": 10000
     },
     "inputWidgets": {},
     "nuid": "8ed9c563-625b-416f-897d-6781d8b93e12",
     "showTitle": false,
     "tableResultSettingsMap": {},
     "title": ""
    }
   },
   "outputs": [
    {
     "output_type": "display_data",
     "data": {
      "text/html": [
       "<style scoped>\n",
       "  .table-result-container {\n",
       "    max-height: 300px;\n",
       "    overflow: auto;\n",
       "  }\n",
       "  table, th, td {\n",
       "    border: 1px solid black;\n",
       "    border-collapse: collapse;\n",
       "  }\n",
       "  th, td {\n",
       "    padding: 5px;\n",
       "  }\n",
       "  th {\n",
       "    text-align: left;\n",
       "  }\n",
       "</style><div class='table-result-container'><table class='table-result'><thead style='background-color: white'><tr><th>current</th><th>former</th><th>start_date</th><th>end_date</th></tr></thead><tbody><tr><td>Czech Republic</td><td>Bohemia</td><td>1903-04-05</td><td>1919-01-01</td></tr><tr><td>Czech Republic</td><td>Bohemia and Moravia</td><td>1939-01-01</td><td>1945-05-01</td></tr><tr><td>Czech Republic</td><td>Representation of Czechs and Slovaks</td><td>1993-03-24</td><td>1993-11-17</td></tr><tr><td>Czech Republic</td><td>Czechoslovakia</td><td>1993-11-17</td><td>null</td></tr></tbody></table></div>"
      ]
     },
     "metadata": {
      "application/vnd.databricks.v1+output": {
       "addedWidgets": {},
       "aggData": [],
       "aggError": "",
       "aggOverflow": false,
       "aggSchema": [],
       "aggSeriesLimitReached": false,
       "aggType": "",
       "arguments": {},
       "columnCustomDisplayInfos": {},
       "data": [
        [
         "Czech Republic",
         "Bohemia",
         "1903-04-05",
         "1919-01-01"
        ],
        [
         "Czech Republic",
         "Bohemia and Moravia",
         "1939-01-01",
         "1945-05-01"
        ],
        [
         "Czech Republic",
         "Representation of Czechs and Slovaks",
         "1993-03-24",
         "1993-11-17"
        ],
        [
         "Czech Republic",
         "Czechoslovakia",
         "1993-11-17",
         null
        ]
       ],
       "datasetInfos": [],
       "dbfsResultPath": null,
       "isJsonSchema": true,
       "metadata": {},
       "overflow": false,
       "plotOptions": {
        "customPlotOptions": {},
        "displayType": "table",
        "pivotAggregation": null,
        "pivotColumns": null,
        "xColumns": null,
        "yColumns": null
       },
       "removedWidgets": [],
       "schema": [
        {
         "metadata": "{}",
         "name": "current",
         "type": "\"string\""
        },
        {
         "metadata": "{}",
         "name": "former",
         "type": "\"string\""
        },
        {
         "metadata": "{}",
         "name": "start_date",
         "type": "\"date\""
        },
        {
         "metadata": "{}",
         "name": "end_date",
         "type": "\"date\""
        }
       ],
       "type": "table"
      }
     },
     "output_type": "display_data"
    }
   ],
   "source": [
    "%sql\n",
    "SELECT * FROM silver.former_names WHERE current = 'Czech Republic'"
   ]
  },
  {
   "cell_type": "markdown",
   "metadata": {
    "application/vnd.databricks.v1+cell": {
     "cellMetadata": {
      "byteLimit": 2048000,
      "rowLimit": 10000
     },
     "inputWidgets": {},
     "nuid": "01e9b37c-174f-4fbf-bf1d-a5da18045016",
     "showTitle": false,
     "tableResultSettingsMap": {},
     "title": ""
    }
   },
   "source": [
    "Desse modo, essa tabela será agregada com as outras posteriormente de modo que os times estejam registrados com um nome único por todo o período de tempo."
   ]
  },
  {
   "cell_type": "markdown",
   "metadata": {
    "application/vnd.databricks.v1+cell": {
     "cellMetadata": {
      "byteLimit": 2048000,
      "rowLimit": 10000
     },
     "inputWidgets": {},
     "nuid": "a35d651f-3703-4b1b-a255-a4e36516dcc8",
     "showTitle": false,
     "tableResultSettingsMap": {},
     "title": ""
    }
   },
   "source": [
    "### 4.2.2 Tabela Results\n",
    "A próxima tabela a ser criada é a tabela silver.results. Nesta etapa, foi criada a tabela silver.results, responsável por armazenar os resultados das partidas internacionais de forma padronizada e enriquecida. O fluxo de construção da tabela silver.results inicia com os dados brutos da camada Bronze (bronze.results) e aplica uma série de transformações essenciais para garantir consistência, qualidade e enriquecimento dos dados. A partir da base bruta bronze.results, foram aplicadas diversas transformações: conversão da data para o tipo DATE, padronização dos nomes das seleções por meio da junção com a tabela silver.former_names, limpeza do campo tournament, tipagem correta dos placares e criação de um identificador único para cada partida (match_id). Além disso, registros com pontuação nula foram descartados, assegurando que apenas jogos concluídos estejam presentes na camada silver. \n",
    "\n"
   ]
  },
  {
   "cell_type": "code",
   "execution_count": 0,
   "metadata": {
    "application/vnd.databricks.v1+cell": {
     "cellMetadata": {
      "byteLimit": 2048000,
      "implicitDf": true,
      "rowLimit": 10000
     },
     "inputWidgets": {},
     "nuid": "db76eae7-eabf-431d-ba95-c62eaf4fd92f",
     "showTitle": false,
     "tableResultSettingsMap": {},
     "title": ""
    }
   },
   "outputs": [
    {
     "output_type": "display_data",
     "data": {
      "text/html": [
       "<style scoped>\n",
       "  .table-result-container {\n",
       "    max-height: 300px;\n",
       "    overflow: auto;\n",
       "  }\n",
       "  table, th, td {\n",
       "    border: 1px solid black;\n",
       "    border-collapse: collapse;\n",
       "  }\n",
       "  th, td {\n",
       "    padding: 5px;\n",
       "  }\n",
       "  th {\n",
       "    text-align: left;\n",
       "  }\n",
       "</style><div class='table-result-container'><table class='table-result'><thead style='background-color: white'><tr><th>num_affected_rows</th><th>num_inserted_rows</th></tr></thead><tbody></tbody></table></div>"
      ]
     },
     "metadata": {
      "application/vnd.databricks.v1+output": {
       "addedWidgets": {},
       "aggData": [],
       "aggError": "",
       "aggOverflow": false,
       "aggSchema": [],
       "aggSeriesLimitReached": false,
       "aggType": "",
       "arguments": {},
       "columnCustomDisplayInfos": {},
       "data": [],
       "datasetInfos": [],
       "dbfsResultPath": null,
       "isJsonSchema": true,
       "metadata": {},
       "overflow": false,
       "plotOptions": {
        "customPlotOptions": {},
        "displayType": "table",
        "pivotAggregation": null,
        "pivotColumns": null,
        "xColumns": null,
        "yColumns": null
       },
       "removedWidgets": [],
       "schema": [
        {
         "metadata": "{}",
         "name": "num_affected_rows",
         "type": "\"long\""
        },
        {
         "metadata": "{}",
         "name": "num_inserted_rows",
         "type": "\"long\""
        }
       ],
       "type": "table"
      }
     },
     "output_type": "display_data"
    }
   ],
   "source": [
    "%sql\n",
    "DROP TABLE IF EXISTS silver.results;\n",
    "\n",
    "CREATE TABLE silver.results AS\n",
    "SELECT \n",
    "  date(r.date) AS match_date,\n",
    "  COALESCE(fn_home.current, r.home_team) AS home_team,\n",
    "  COALESCE(fn_away.current, r.away_team) AS away_team,\n",
    "  CAST(r.home_score AS INT) AS home_score,\n",
    "  CAST(r.away_score AS INT) AS away_score,\n",
    "  trim(r.tournament) AS tournament,\n",
    "  r.city,\n",
    "  r.country,\n",
    "  CAST(r.neutral AS BOOLEAN) AS is_neutral,\n",
    "  CONCAT(\n",
    "    CAST(date(r.date) AS STRING), \n",
    "    '_', \n",
    "    COALESCE(fn_home.current, r.home_team), \n",
    "    '_', \n",
    "    COALESCE(fn_away.current, r.away_team), \n",
    "    '_', \n",
    "    CAST(r.home_score AS STRING), \n",
    "    '_', \n",
    "    CAST(r.away_score AS STRING)\n",
    "  ) AS match_id  -- Criando match_id APÓS a substituição dos nomes\n",
    "FROM bronze.results r\n",
    "LEFT JOIN silver.former_names fn_home \n",
    "  ON TRIM(r.home_team) = TRIM(fn_home.former)\n",
    "LEFT JOIN silver.former_names fn_away \n",
    "  ON TRIM(r.away_team) = TRIM(fn_away.former)\n",
    "WHERE r.home_score IS NOT NULL;\n"
   ]
  },
  {
   "cell_type": "markdown",
   "metadata": {
    "application/vnd.databricks.v1+cell": {
     "cellMetadata": {
      "byteLimit": 2048000,
      "rowLimit": 10000
     },
     "inputWidgets": {},
     "nuid": "423853ba-ddf6-4c4a-bfaf-7224a39bf431",
     "showTitle": false,
     "tableResultSettingsMap": {},
     "title": ""
    }
   },
   "source": [
    "Após as transformações para criação da tabela, é realizada a validação das mesmas."
   ]
  },
  {
   "cell_type": "code",
   "execution_count": 0,
   "metadata": {
    "application/vnd.databricks.v1+cell": {
     "cellMetadata": {
      "byteLimit": 2048000,
      "implicitDf": true,
      "rowLimit": 10000
     },
     "inputWidgets": {},
     "nuid": "af2d0af4-9629-4be9-9ff3-d12fe674a185",
     "showTitle": false,
     "tableResultSettingsMap": {},
     "title": ""
    }
   },
   "outputs": [
    {
     "output_type": "display_data",
     "data": {
      "text/html": [
       "<style scoped>\n",
       "  .table-result-container {\n",
       "    max-height: 300px;\n",
       "    overflow: auto;\n",
       "  }\n",
       "  table, th, td {\n",
       "    border: 1px solid black;\n",
       "    border-collapse: collapse;\n",
       "  }\n",
       "  th, td {\n",
       "    padding: 5px;\n",
       "  }\n",
       "  th {\n",
       "    text-align: left;\n",
       "  }\n",
       "</style><div class='table-result-container'><table class='table-result'><thead style='background-color: white'><tr><th>total_records</th><th>unique_match_ids</th><th>source_count</th><th>null_dates</th><th>null_teams</th><th>null_scores</th><th>null_match_id</th><th>negative_scores</th><th>basic_validation</th><th>match_id_validation</th><th>count_validation</th></tr></thead><tbody><tr><td>48207</td><td>48190</td><td>48207</td><td>0</td><td>0</td><td>0</td><td>0</td><td>0</td><td>✅ Validações básicas passaram</td><td>❌ match_id duplicado detectado</td><td>✅ Volume consistente com a fonte (após filtro)</td></tr></tbody></table></div>"
      ]
     },
     "metadata": {
      "application/vnd.databricks.v1+output": {
       "addedWidgets": {},
       "aggData": [],
       "aggError": "",
       "aggOverflow": false,
       "aggSchema": [],
       "aggSeriesLimitReached": false,
       "aggType": "",
       "arguments": {},
       "columnCustomDisplayInfos": {},
       "data": [
        [
         48207,
         48190,
         48207,
         0,
         0,
         0,
         0,
         0,
         "✅ Validações básicas passaram",
         "❌ match_id duplicado detectado",
         "✅ Volume consistente com a fonte (após filtro)"
        ]
       ],
       "datasetInfos": [],
       "dbfsResultPath": null,
       "isJsonSchema": true,
       "metadata": {},
       "overflow": false,
       "plotOptions": {
        "customPlotOptions": {},
        "displayType": "table",
        "pivotAggregation": null,
        "pivotColumns": null,
        "xColumns": null,
        "yColumns": null
       },
       "removedWidgets": [],
       "schema": [
        {
         "metadata": "{}",
         "name": "total_records",
         "type": "\"long\""
        },
        {
         "metadata": "{}",
         "name": "unique_match_ids",
         "type": "\"long\""
        },
        {
         "metadata": "{}",
         "name": "source_count",
         "type": "\"long\""
        },
        {
         "metadata": "{}",
         "name": "null_dates",
         "type": "\"long\""
        },
        {
         "metadata": "{}",
         "name": "null_teams",
         "type": "\"long\""
        },
        {
         "metadata": "{}",
         "name": "null_scores",
         "type": "\"long\""
        },
        {
         "metadata": "{}",
         "name": "null_match_id",
         "type": "\"long\""
        },
        {
         "metadata": "{}",
         "name": "negative_scores",
         "type": "\"long\""
        },
        {
         "metadata": "{}",
         "name": "basic_validation",
         "type": "\"string\""
        },
        {
         "metadata": "{}",
         "name": "match_id_validation",
         "type": "\"string\""
        },
        {
         "metadata": "{}",
         "name": "count_validation",
         "type": "\"string\""
        }
       ],
       "type": "table"
      }
     },
     "output_type": "display_data"
    }
   ],
   "source": [
    "%sql\n",
    "WITH checks AS (\n",
    "  SELECT\n",
    "    COUNT(*) AS total_records,\n",
    "\n",
    "    -- Validação de campos obrigatórios\n",
    "    SUM(CASE WHEN match_date IS NULL THEN 1 ELSE 0 END) AS null_dates,\n",
    "    SUM(CASE WHEN home_team IS NULL OR away_team IS NULL THEN 1 ELSE 0 END) AS null_teams,\n",
    "    SUM(CASE WHEN home_score IS NULL OR away_score IS NULL THEN 1 ELSE 0 END) AS null_scores,\n",
    "    SUM(CASE WHEN match_id IS NULL OR match_id = '' THEN 1 ELSE 0 END) AS null_match_id,\n",
    "    \n",
    "    -- Placar deve ser zero ou positivo\n",
    "    SUM(CASE WHEN home_score < 0 OR away_score < 0 THEN 1 ELSE 0 END) AS negative_scores,\n",
    "    \n",
    "    -- Verificação de duplicidade no match_id\n",
    "    COUNT(DISTINCT match_id) AS unique_match_ids,\n",
    "\n",
    "    -- Total original para comparação (excluindo scores nulos como no filtro do SELECT)\n",
    "    (SELECT COUNT(*) FROM bronze.results WHERE home_score IS NOT NULL) AS source_count\n",
    "  FROM silver.results\n",
    ")\n",
    "\n",
    "SELECT\n",
    "  total_records,\n",
    "  unique_match_ids,\n",
    "  source_count,\n",
    "  null_dates,\n",
    "  null_teams,\n",
    "  null_scores,\n",
    "  null_match_id,\n",
    "  negative_scores,\n",
    "\n",
    "  -- Relatório de integridade\n",
    "  CASE\n",
    "    WHEN null_dates = 0 AND null_teams = 0 AND null_scores = 0 \n",
    "         AND null_match_id = 0 AND negative_scores = 0\n",
    "    THEN '✅ Validações básicas passaram'\n",
    "    ELSE '❌ Problemas encontrados nos dados'\n",
    "  END AS basic_validation,\n",
    "\n",
    "  -- Validação de ID único\n",
    "  CASE\n",
    "    WHEN total_records = unique_match_ids \n",
    "    THEN '✅ match_id único para cada partida'\n",
    "    ELSE '❌ match_id duplicado detectado'\n",
    "  END AS match_id_validation,\n",
    "\n",
    "  -- Validação de volume\n",
    "  CASE\n",
    "    WHEN total_records = source_count \n",
    "    THEN '✅ Volume consistente com a fonte (após filtro)'\n",
    "    ELSE '❌ Divergência na contagem de registros'\n",
    "  END AS count_validation\n",
    "\n",
    "FROM checks;\n"
   ]
  },
  {
   "cell_type": "code",
   "execution_count": 0,
   "metadata": {
    "application/vnd.databricks.v1+cell": {
     "cellMetadata": {
      "byteLimit": 2048000,
      "implicitDf": true,
      "rowLimit": 10000
     },
     "inputWidgets": {},
     "nuid": "8375e19f-a718-40f9-ac8b-3ead92652eae",
     "showTitle": false,
     "tableResultSettingsMap": {},
     "title": ""
    }
   },
   "outputs": [
    {
     "output_type": "display_data",
     "data": {
      "text/html": [
       "<style scoped>\n",
       "  .table-result-container {\n",
       "    max-height: 300px;\n",
       "    overflow: auto;\n",
       "  }\n",
       "  table, th, td {\n",
       "    border: 1px solid black;\n",
       "    border-collapse: collapse;\n",
       "  }\n",
       "  th, td {\n",
       "    padding: 5px;\n",
       "  }\n",
       "  th {\n",
       "    text-align: left;\n",
       "  }\n",
       "</style><div class='table-result-container'><table class='table-result'><thead style='background-color: white'><tr><th>match_date</th><th>home_team</th><th>away_team</th><th>home_score</th><th>away_score</th><th>tournament</th><th>city</th><th>country</th><th>is_neutral</th><th>match_id</th></tr></thead><tbody><tr><td>1923-05-22</td><td>China PR</td><td>Philippines</td><td>3</td><td>0</td><td>Friendly</td><td>Osaka</td><td>Japan</td><td>true</td><td>1923-05-22_China PR_Philippines_3_0</td></tr><tr><td>1923-05-22</td><td>China PR</td><td>Philippines</td><td>3</td><td>0</td><td>Far Eastern Championship Games</td><td>Osaka</td><td>Japan</td><td>true</td><td>1923-05-22_China PR_Philippines_3_0</td></tr><tr><td>1923-05-24</td><td>Japan</td><td>China PR</td><td>1</td><td>5</td><td>Friendly</td><td>Osaka</td><td>Japan</td><td>false</td><td>1923-05-24_Japan_China PR_1_5</td></tr><tr><td>1923-05-24</td><td>Japan</td><td>China PR</td><td>1</td><td>5</td><td>Far Eastern Championship Games</td><td>Osaka</td><td>Japan</td><td>false</td><td>1923-05-24_Japan_China PR_1_5</td></tr><tr><td>1925-05-22</td><td>Philippines</td><td>China PR</td><td>1</td><td>5</td><td>Friendly</td><td>Manila</td><td>Philippines</td><td>false</td><td>1925-05-22_Philippines_China PR_1_5</td></tr><tr><td>1925-05-22</td><td>Philippines</td><td>China PR</td><td>1</td><td>5</td><td>Far Eastern Championship Games</td><td>Manila</td><td>Philippines</td><td>false</td><td>1925-05-22_Philippines_China PR_1_5</td></tr><tr><td>1927-08-27</td><td>China PR</td><td>Japan</td><td>5</td><td>1</td><td>Friendly</td><td>Shanghai</td><td>China PR</td><td>false</td><td>1927-08-27_China PR_Japan_5_1</td></tr><tr><td>1927-08-27</td><td>China PR</td><td>Japan</td><td>5</td><td>1</td><td>Far Eastern Championship Games</td><td>Shanghai</td><td>China PR</td><td>false</td><td>1927-08-27_China PR_Japan_5_1</td></tr><tr><td>1927-08-29</td><td>Japan</td><td>Philippines</td><td>2</td><td>1</td><td>Friendly</td><td>Shanghai</td><td>China PR</td><td>true</td><td>1927-08-29_Japan_Philippines_2_1</td></tr><tr><td>1927-08-29</td><td>Japan</td><td>Philippines</td><td>2</td><td>1</td><td>Far Eastern Championship Games</td><td>Shanghai</td><td>China PR</td><td>true</td><td>1927-08-29_Japan_Philippines_2_1</td></tr><tr><td>1927-08-31</td><td>China PR</td><td>Philippines</td><td>3</td><td>1</td><td>Friendly</td><td>Shanghai</td><td>China PR</td><td>false</td><td>1927-08-31_China PR_Philippines_3_1</td></tr><tr><td>1927-08-31</td><td>China PR</td><td>Philippines</td><td>3</td><td>1</td><td>Far Eastern Championship Games</td><td>Shanghai</td><td>China PR</td><td>false</td><td>1927-08-31_China PR_Philippines_3_1</td></tr><tr><td>1930-05-27</td><td>China PR</td><td>Philippines</td><td>5</td><td>0</td><td>Friendly</td><td>Tokyo</td><td>Japan</td><td>true</td><td>1930-05-27_China PR_Philippines_5_0</td></tr><tr><td>1930-05-27</td><td>China PR</td><td>Philippines</td><td>5</td><td>0</td><td>Far Eastern Championship Games</td><td>Tokyo</td><td>Japan</td><td>true</td><td>1930-05-27_China PR_Philippines_5_0</td></tr><tr><td>1934-05-12</td><td>Philippines</td><td>China PR</td><td>0</td><td>2</td><td>Friendly</td><td>Manila</td><td>Philippines</td><td>false</td><td>1934-05-12_Philippines_China PR_0_2</td></tr><tr><td>1934-05-12</td><td>Philippines</td><td>China PR</td><td>0</td><td>2</td><td>Far Eastern Championship Games</td><td>Manila</td><td>Philippines</td><td>false</td><td>1934-05-12_Philippines_China PR_0_2</td></tr><tr><td>1934-05-13</td><td>Japan</td><td>Indonesia</td><td>1</td><td>7</td><td>Friendly</td><td>Manila</td><td>Philippines</td><td>true</td><td>1934-05-13_Japan_Indonesia_1_7</td></tr><tr><td>1934-05-13</td><td>Japan</td><td>Indonesia</td><td>1</td><td>7</td><td>Far Eastern Championship Games</td><td>Manila</td><td>Philippines</td><td>true</td><td>1934-05-13_Japan_Indonesia_1_7</td></tr><tr><td>1934-05-14</td><td>China PR</td><td>Indonesia</td><td>2</td><td>0</td><td>Friendly</td><td>Manila</td><td>Philippines</td><td>true</td><td>1934-05-14_China PR_Indonesia_2_0</td></tr><tr><td>1934-05-14</td><td>China PR</td><td>Indonesia</td><td>2</td><td>0</td><td>Far Eastern Championship Games</td><td>Manila</td><td>Philippines</td><td>true</td><td>1934-05-14_China PR_Indonesia_2_0</td></tr><tr><td>1934-05-19</td><td>Philippines</td><td>Indonesia</td><td>3</td><td>2</td><td>Friendly</td><td>Manila</td><td>Philippines</td><td>false</td><td>1934-05-19_Philippines_Indonesia_3_2</td></tr><tr><td>1934-05-19</td><td>Philippines</td><td>Indonesia</td><td>3</td><td>2</td><td>Far Eastern Championship Games</td><td>Manila</td><td>Philippines</td><td>false</td><td>1934-05-19_Philippines_Indonesia_3_2</td></tr><tr><td>1934-05-20</td><td>China PR</td><td>Japan</td><td>4</td><td>3</td><td>Friendly</td><td>Manila</td><td>Philippines</td><td>true</td><td>1934-05-20_China PR_Japan_4_3</td></tr><tr><td>1934-05-20</td><td>China PR</td><td>Japan</td><td>4</td><td>3</td><td>Far Eastern Championship Games</td><td>Manila</td><td>Philippines</td><td>true</td><td>1934-05-20_China PR_Japan_4_3</td></tr><tr><td>1960-04-14</td><td>Cameroon</td><td>Djibouti</td><td>9</td><td>2</td><td>Friendly</td><td>Antananarivo</td><td>Madagascar</td><td>true</td><td>1960-04-14_Cameroon_Djibouti_9_2</td></tr><tr><td>1960-04-14</td><td>Cameroon</td><td>Djibouti</td><td>9</td><td>2</td><td>African Friendship Games</td><td>Tananarive</td><td>Madagascar</td><td>true</td><td>1960-04-14_Cameroon_Djibouti_9_2</td></tr><tr><td>1960-04-14</td><td>Ivory Coast</td><td>Benin</td><td>3</td><td>2</td><td>Friendly</td><td>Antananarivo</td><td>Madagascar</td><td>true</td><td>1960-04-14_Ivory Coast_Benin_3_2</td></tr><tr><td>1960-04-14</td><td>Ivory Coast</td><td>Benin</td><td>3</td><td>2</td><td>African Friendship Games</td><td>Tananarive</td><td>Madagascar</td><td>true</td><td>1960-04-14_Ivory Coast_Benin_3_2</td></tr><tr><td>1960-04-15</td><td>Cameroon</td><td>Mali</td><td>3</td><td>2</td><td>Friendly</td><td>Antananarivo</td><td>Madagascar</td><td>true</td><td>1960-04-15_Cameroon_Mali_3_2</td></tr><tr><td>1960-04-15</td><td>Cameroon</td><td>Mali</td><td>3</td><td>2</td><td>African Friendship Games</td><td>Tananarive</td><td>Madagascar</td><td>true</td><td>1960-04-15_Cameroon_Mali_3_2</td></tr><tr><td>1960-04-15</td><td>Congo</td><td>Ivory Coast</td><td>3</td><td>2</td><td>Friendly</td><td>Antananarivo</td><td>Madagascar</td><td>true</td><td>1960-04-15_Congo_Ivory Coast_3_2</td></tr><tr><td>1960-04-15</td><td>Congo</td><td>Ivory Coast</td><td>3</td><td>2</td><td>African Friendship Games</td><td>Tananarive</td><td>Madagascar</td><td>true</td><td>1960-04-15_Congo_Ivory Coast_3_2</td></tr><tr><td>1960-04-15</td><td>Madagascar</td><td>Burkina Faso</td><td>6</td><td>1</td><td>Friendly</td><td>Antananarivo</td><td>Madagascar</td><td>false</td><td>1960-04-15_Madagascar_Burkina Faso_6_1</td></tr><tr><td>1960-04-15</td><td>Madagascar</td><td>Burkina Faso</td><td>6</td><td>1</td><td>African Friendship Games</td><td>Tananarive</td><td>Madagascar</td><td>false</td><td>1960-04-15_Madagascar_Burkina Faso_6_1</td></tr></tbody></table></div>"
      ]
     },
     "metadata": {
      "application/vnd.databricks.v1+output": {
       "addedWidgets": {},
       "aggData": [],
       "aggError": "",
       "aggOverflow": false,
       "aggSchema": [],
       "aggSeriesLimitReached": false,
       "aggType": "",
       "arguments": {},
       "columnCustomDisplayInfos": {},
       "data": [
        [
         "1923-05-22",
         "China PR",
         "Philippines",
         3,
         0,
         "Friendly",
         "Osaka",
         "Japan",
         true,
         "1923-05-22_China PR_Philippines_3_0"
        ],
        [
         "1923-05-22",
         "China PR",
         "Philippines",
         3,
         0,
         "Far Eastern Championship Games",
         "Osaka",
         "Japan",
         true,
         "1923-05-22_China PR_Philippines_3_0"
        ],
        [
         "1923-05-24",
         "Japan",
         "China PR",
         1,
         5,
         "Friendly",
         "Osaka",
         "Japan",
         false,
         "1923-05-24_Japan_China PR_1_5"
        ],
        [
         "1923-05-24",
         "Japan",
         "China PR",
         1,
         5,
         "Far Eastern Championship Games",
         "Osaka",
         "Japan",
         false,
         "1923-05-24_Japan_China PR_1_5"
        ],
        [
         "1925-05-22",
         "Philippines",
         "China PR",
         1,
         5,
         "Friendly",
         "Manila",
         "Philippines",
         false,
         "1925-05-22_Philippines_China PR_1_5"
        ],
        [
         "1925-05-22",
         "Philippines",
         "China PR",
         1,
         5,
         "Far Eastern Championship Games",
         "Manila",
         "Philippines",
         false,
         "1925-05-22_Philippines_China PR_1_5"
        ],
        [
         "1927-08-27",
         "China PR",
         "Japan",
         5,
         1,
         "Friendly",
         "Shanghai",
         "China PR",
         false,
         "1927-08-27_China PR_Japan_5_1"
        ],
        [
         "1927-08-27",
         "China PR",
         "Japan",
         5,
         1,
         "Far Eastern Championship Games",
         "Shanghai",
         "China PR",
         false,
         "1927-08-27_China PR_Japan_5_1"
        ],
        [
         "1927-08-29",
         "Japan",
         "Philippines",
         2,
         1,
         "Friendly",
         "Shanghai",
         "China PR",
         true,
         "1927-08-29_Japan_Philippines_2_1"
        ],
        [
         "1927-08-29",
         "Japan",
         "Philippines",
         2,
         1,
         "Far Eastern Championship Games",
         "Shanghai",
         "China PR",
         true,
         "1927-08-29_Japan_Philippines_2_1"
        ],
        [
         "1927-08-31",
         "China PR",
         "Philippines",
         3,
         1,
         "Friendly",
         "Shanghai",
         "China PR",
         false,
         "1927-08-31_China PR_Philippines_3_1"
        ],
        [
         "1927-08-31",
         "China PR",
         "Philippines",
         3,
         1,
         "Far Eastern Championship Games",
         "Shanghai",
         "China PR",
         false,
         "1927-08-31_China PR_Philippines_3_1"
        ],
        [
         "1930-05-27",
         "China PR",
         "Philippines",
         5,
         0,
         "Friendly",
         "Tokyo",
         "Japan",
         true,
         "1930-05-27_China PR_Philippines_5_0"
        ],
        [
         "1930-05-27",
         "China PR",
         "Philippines",
         5,
         0,
         "Far Eastern Championship Games",
         "Tokyo",
         "Japan",
         true,
         "1930-05-27_China PR_Philippines_5_0"
        ],
        [
         "1934-05-12",
         "Philippines",
         "China PR",
         0,
         2,
         "Friendly",
         "Manila",
         "Philippines",
         false,
         "1934-05-12_Philippines_China PR_0_2"
        ],
        [
         "1934-05-12",
         "Philippines",
         "China PR",
         0,
         2,
         "Far Eastern Championship Games",
         "Manila",
         "Philippines",
         false,
         "1934-05-12_Philippines_China PR_0_2"
        ],
        [
         "1934-05-13",
         "Japan",
         "Indonesia",
         1,
         7,
         "Friendly",
         "Manila",
         "Philippines",
         true,
         "1934-05-13_Japan_Indonesia_1_7"
        ],
        [
         "1934-05-13",
         "Japan",
         "Indonesia",
         1,
         7,
         "Far Eastern Championship Games",
         "Manila",
         "Philippines",
         true,
         "1934-05-13_Japan_Indonesia_1_7"
        ],
        [
         "1934-05-14",
         "China PR",
         "Indonesia",
         2,
         0,
         "Friendly",
         "Manila",
         "Philippines",
         true,
         "1934-05-14_China PR_Indonesia_2_0"
        ],
        [
         "1934-05-14",
         "China PR",
         "Indonesia",
         2,
         0,
         "Far Eastern Championship Games",
         "Manila",
         "Philippines",
         true,
         "1934-05-14_China PR_Indonesia_2_0"
        ],
        [
         "1934-05-19",
         "Philippines",
         "Indonesia",
         3,
         2,
         "Friendly",
         "Manila",
         "Philippines",
         false,
         "1934-05-19_Philippines_Indonesia_3_2"
        ],
        [
         "1934-05-19",
         "Philippines",
         "Indonesia",
         3,
         2,
         "Far Eastern Championship Games",
         "Manila",
         "Philippines",
         false,
         "1934-05-19_Philippines_Indonesia_3_2"
        ],
        [
         "1934-05-20",
         "China PR",
         "Japan",
         4,
         3,
         "Friendly",
         "Manila",
         "Philippines",
         true,
         "1934-05-20_China PR_Japan_4_3"
        ],
        [
         "1934-05-20",
         "China PR",
         "Japan",
         4,
         3,
         "Far Eastern Championship Games",
         "Manila",
         "Philippines",
         true,
         "1934-05-20_China PR_Japan_4_3"
        ],
        [
         "1960-04-14",
         "Cameroon",
         "Djibouti",
         9,
         2,
         "Friendly",
         "Antananarivo",
         "Madagascar",
         true,
         "1960-04-14_Cameroon_Djibouti_9_2"
        ],
        [
         "1960-04-14",
         "Cameroon",
         "Djibouti",
         9,
         2,
         "African Friendship Games",
         "Tananarive",
         "Madagascar",
         true,
         "1960-04-14_Cameroon_Djibouti_9_2"
        ],
        [
         "1960-04-14",
         "Ivory Coast",
         "Benin",
         3,
         2,
         "Friendly",
         "Antananarivo",
         "Madagascar",
         true,
         "1960-04-14_Ivory Coast_Benin_3_2"
        ],
        [
         "1960-04-14",
         "Ivory Coast",
         "Benin",
         3,
         2,
         "African Friendship Games",
         "Tananarive",
         "Madagascar",
         true,
         "1960-04-14_Ivory Coast_Benin_3_2"
        ],
        [
         "1960-04-15",
         "Cameroon",
         "Mali",
         3,
         2,
         "Friendly",
         "Antananarivo",
         "Madagascar",
         true,
         "1960-04-15_Cameroon_Mali_3_2"
        ],
        [
         "1960-04-15",
         "Cameroon",
         "Mali",
         3,
         2,
         "African Friendship Games",
         "Tananarive",
         "Madagascar",
         true,
         "1960-04-15_Cameroon_Mali_3_2"
        ],
        [
         "1960-04-15",
         "Congo",
         "Ivory Coast",
         3,
         2,
         "Friendly",
         "Antananarivo",
         "Madagascar",
         true,
         "1960-04-15_Congo_Ivory Coast_3_2"
        ],
        [
         "1960-04-15",
         "Congo",
         "Ivory Coast",
         3,
         2,
         "African Friendship Games",
         "Tananarive",
         "Madagascar",
         true,
         "1960-04-15_Congo_Ivory Coast_3_2"
        ],
        [
         "1960-04-15",
         "Madagascar",
         "Burkina Faso",
         6,
         1,
         "Friendly",
         "Antananarivo",
         "Madagascar",
         false,
         "1960-04-15_Madagascar_Burkina Faso_6_1"
        ],
        [
         "1960-04-15",
         "Madagascar",
         "Burkina Faso",
         6,
         1,
         "African Friendship Games",
         "Tananarive",
         "Madagascar",
         false,
         "1960-04-15_Madagascar_Burkina Faso_6_1"
        ]
       ],
       "datasetInfos": [],
       "dbfsResultPath": null,
       "isJsonSchema": true,
       "metadata": {},
       "overflow": false,
       "plotOptions": {
        "customPlotOptions": {},
        "displayType": "table",
        "pivotAggregation": null,
        "pivotColumns": null,
        "xColumns": null,
        "yColumns": null
       },
       "removedWidgets": [],
       "schema": [
        {
         "metadata": "{}",
         "name": "match_date",
         "type": "\"date\""
        },
        {
         "metadata": "{}",
         "name": "home_team",
         "type": "\"string\""
        },
        {
         "metadata": "{}",
         "name": "away_team",
         "type": "\"string\""
        },
        {
         "metadata": "{}",
         "name": "home_score",
         "type": "\"integer\""
        },
        {
         "metadata": "{}",
         "name": "away_score",
         "type": "\"integer\""
        },
        {
         "metadata": "{}",
         "name": "tournament",
         "type": "\"string\""
        },
        {
         "metadata": "{}",
         "name": "city",
         "type": "\"string\""
        },
        {
         "metadata": "{}",
         "name": "country",
         "type": "\"string\""
        },
        {
         "metadata": "{}",
         "name": "is_neutral",
         "type": "\"boolean\""
        },
        {
         "metadata": "{}",
         "name": "match_id",
         "type": "\"string\""
        }
       ],
       "type": "table"
      }
     },
     "output_type": "display_data"
    }
   ],
   "source": [
    "%sql\n",
    "SELECT *\n",
    "FROM silver.results\n",
    "WHERE match_id IN (\n",
    "  SELECT match_id\n",
    "  FROM silver.results\n",
    "  GROUP BY match_id\n",
    "  HAVING COUNT(*) > 1\n",
    ")\n",
    "ORDER BY match_id, match_date;\n"
   ]
  },
  {
   "cell_type": "markdown",
   "metadata": {
    "application/vnd.databricks.v1+cell": {
     "cellMetadata": {
      "byteLimit": 2048000,
      "rowLimit": 10000
     },
     "inputWidgets": {},
     "nuid": "ddb61f2e-328d-451d-84c9-79565bee2a65",
     "showTitle": false,
     "tableResultSettingsMap": {},
     "title": ""
    }
   },
   "source": [
    "Durante a verificação dos dados na tabela silver.results, foram identificadas duplicatas de partidas com os mesmos times, placar e data, mas listadas com dois nomes de torneio distintos: \"Friendly\" e o nome real do campeonato (como \"Far Eastern Championship Games\" ou \"African Friendship Games\").\n",
    "\n",
    "Essas duplicações ocorrem porque o campo match_id é gerado com base apenas na data, equipes e placar, desconsiderando o tipo de torneio. Como o nome do torneio real é mais informativo e relevante para análises futuras, optou-se por remover os registros do tipo \"Friendly\" quando uma partida equivalente já estiver registrada com o nome correto do torneio.\n",
    "\n",
    "A seguir, foi utilizada uma instrução DELETE com subconsulta EXISTS para garantir a remoção segura e controlada desses casos duplicados:"
   ]
  },
  {
   "cell_type": "code",
   "execution_count": 0,
   "metadata": {
    "application/vnd.databricks.v1+cell": {
     "cellMetadata": {
      "byteLimit": 2048000,
      "implicitDf": true,
      "rowLimit": 10000
     },
     "inputWidgets": {},
     "nuid": "bae84ff7-9760-42df-bd8c-ebc854ed825b",
     "showTitle": false,
     "tableResultSettingsMap": {},
     "title": ""
    }
   },
   "outputs": [
    {
     "output_type": "display_data",
     "data": {
      "text/html": [
       "<style scoped>\n",
       "  .table-result-container {\n",
       "    max-height: 300px;\n",
       "    overflow: auto;\n",
       "  }\n",
       "  table, th, td {\n",
       "    border: 1px solid black;\n",
       "    border-collapse: collapse;\n",
       "  }\n",
       "  th, td {\n",
       "    padding: 5px;\n",
       "  }\n",
       "  th {\n",
       "    text-align: left;\n",
       "  }\n",
       "</style><div class='table-result-container'><table class='table-result'><thead style='background-color: white'><tr><th>num_affected_rows</th></tr></thead><tbody><tr><td>17</td></tr></tbody></table></div>"
      ]
     },
     "metadata": {
      "application/vnd.databricks.v1+output": {
       "addedWidgets": {},
       "aggData": [],
       "aggError": "",
       "aggOverflow": false,
       "aggSchema": [],
       "aggSeriesLimitReached": false,
       "aggType": "",
       "arguments": {},
       "columnCustomDisplayInfos": {},
       "data": [
        [
         17
        ]
       ],
       "datasetInfos": [],
       "dbfsResultPath": null,
       "isJsonSchema": true,
       "metadata": {},
       "overflow": false,
       "plotOptions": {
        "customPlotOptions": {},
        "displayType": "table",
        "pivotAggregation": null,
        "pivotColumns": null,
        "xColumns": null,
        "yColumns": null
       },
       "removedWidgets": [],
       "schema": [
        {
         "metadata": "{}",
         "name": "num_affected_rows",
         "type": "\"long\""
        }
       ],
       "type": "table"
      }
     },
     "output_type": "display_data"
    }
   ],
   "source": [
    "%sql\n",
    "DELETE FROM silver.results r\n",
    "WHERE r.tournament = 'Friendly'\n",
    "  AND EXISTS (\n",
    "    SELECT 1\n",
    "    FROM silver.results s\n",
    "    WHERE \n",
    "      s.match_date = r.match_date\n",
    "      AND s.home_team = r.home_team\n",
    "      AND s.away_team = r.away_team\n",
    "      AND s.home_score = r.home_score\n",
    "      AND s.away_score = r.away_score\n",
    "      AND s.tournament <> 'Friendly'\n",
    "  );"
   ]
  },
  {
   "cell_type": "markdown",
   "metadata": {
    "application/vnd.databricks.v1+cell": {
     "cellMetadata": {
      "byteLimit": 2048000,
      "rowLimit": 10000
     },
     "inputWidgets": {},
     "nuid": "7e348cf4-7f5a-448e-80ca-2bba2cce0881",
     "showTitle": false,
     "tableResultSettingsMap": {},
     "title": ""
    }
   },
   "source": [
    "Verificando a exclusão das linhas duplicadas."
   ]
  },
  {
   "cell_type": "code",
   "execution_count": 0,
   "metadata": {
    "application/vnd.databricks.v1+cell": {
     "cellMetadata": {
      "byteLimit": 2048000,
      "implicitDf": true,
      "rowLimit": 10000
     },
     "inputWidgets": {},
     "nuid": "fd0cde89-18e6-4b10-a2c5-03288cbef98d",
     "showTitle": false,
     "tableResultSettingsMap": {},
     "title": ""
    }
   },
   "outputs": [
    {
     "output_type": "display_data",
     "data": {
      "text/html": [
       "<style scoped>\n",
       "  .table-result-container {\n",
       "    max-height: 300px;\n",
       "    overflow: auto;\n",
       "  }\n",
       "  table, th, td {\n",
       "    border: 1px solid black;\n",
       "    border-collapse: collapse;\n",
       "  }\n",
       "  th, td {\n",
       "    padding: 5px;\n",
       "  }\n",
       "  th {\n",
       "    text-align: left;\n",
       "  }\n",
       "</style><div class='table-result-container'><table class='table-result'><thead style='background-color: white'><tr><th>match_date</th><th>home_team</th><th>away_team</th><th>home_score</th><th>away_score</th><th>tournament</th><th>city</th><th>country</th><th>is_neutral</th><th>match_id</th><th>match_date</th><th>home_team</th><th>away_team</th><th>home_score</th><th>away_score</th><th>tournament</th><th>city</th><th>country</th><th>is_neutral</th><th>match_id</th></tr></thead><tbody></tbody></table></div>"
      ]
     },
     "metadata": {
      "application/vnd.databricks.v1+output": {
       "addedWidgets": {},
       "aggData": [],
       "aggError": "",
       "aggOverflow": false,
       "aggSchema": [],
       "aggSeriesLimitReached": false,
       "aggType": "",
       "arguments": {},
       "columnCustomDisplayInfos": {},
       "data": [],
       "datasetInfos": [],
       "dbfsResultPath": null,
       "isJsonSchema": true,
       "metadata": {},
       "overflow": false,
       "plotOptions": {
        "customPlotOptions": {},
        "displayType": "table",
        "pivotAggregation": null,
        "pivotColumns": null,
        "xColumns": null,
        "yColumns": null
       },
       "removedWidgets": [],
       "schema": [
        {
         "metadata": "{}",
         "name": "match_date",
         "type": "\"date\""
        },
        {
         "metadata": "{}",
         "name": "home_team",
         "type": "\"string\""
        },
        {
         "metadata": "{}",
         "name": "away_team",
         "type": "\"string\""
        },
        {
         "metadata": "{}",
         "name": "home_score",
         "type": "\"integer\""
        },
        {
         "metadata": "{}",
         "name": "away_score",
         "type": "\"integer\""
        },
        {
         "metadata": "{}",
         "name": "tournament",
         "type": "\"string\""
        },
        {
         "metadata": "{}",
         "name": "city",
         "type": "\"string\""
        },
        {
         "metadata": "{}",
         "name": "country",
         "type": "\"string\""
        },
        {
         "metadata": "{}",
         "name": "is_neutral",
         "type": "\"boolean\""
        },
        {
         "metadata": "{}",
         "name": "match_id",
         "type": "\"string\""
        },
        {
         "metadata": "{}",
         "name": "match_date",
         "type": "\"date\""
        },
        {
         "metadata": "{}",
         "name": "home_team",
         "type": "\"string\""
        },
        {
         "metadata": "{}",
         "name": "away_team",
         "type": "\"string\""
        },
        {
         "metadata": "{}",
         "name": "home_score",
         "type": "\"integer\""
        },
        {
         "metadata": "{}",
         "name": "away_score",
         "type": "\"integer\""
        },
        {
         "metadata": "{}",
         "name": "tournament",
         "type": "\"string\""
        },
        {
         "metadata": "{}",
         "name": "city",
         "type": "\"string\""
        },
        {
         "metadata": "{}",
         "name": "country",
         "type": "\"string\""
        },
        {
         "metadata": "{}",
         "name": "is_neutral",
         "type": "\"boolean\""
        },
        {
         "metadata": "{}",
         "name": "match_id",
         "type": "\"string\""
        }
       ],
       "type": "table"
      }
     },
     "output_type": "display_data"
    }
   ],
   "source": [
    "%sql\n",
    "SELECT *\n",
    "FROM silver.results r1\n",
    "JOIN silver.results r2\n",
    "  ON r1.match_date = r2.match_date\n",
    " AND r1.home_team = r2.home_team\n",
    " AND r1.away_team = r2.away_team\n",
    " AND r1.home_score = r2.home_score\n",
    " AND r1.away_score = r2.away_score\n",
    "WHERE r1.tournament = 'Friendly'\n",
    "  AND r2.tournament != 'Friendly';"
   ]
  },
  {
   "cell_type": "markdown",
   "metadata": {
    "application/vnd.databricks.v1+cell": {
     "cellMetadata": {
      "byteLimit": 2048000,
      "rowLimit": 10000
     },
     "inputWidgets": {},
     "nuid": "b0edd94c-338d-4cf3-aeab-634db033c717",
     "showTitle": false,
     "tableResultSettingsMap": {},
     "title": ""
    }
   },
   "source": [
    "Para melhorar a documentação dos dados e facilitar sua interpretação, foram adicionados comentários descritivos à tabela silver.results e suas colunas. Isso garante que futuras consultas e análises possam ser feitas com clareza sobre o significado e as restrições dos dados."
   ]
  },
  {
   "cell_type": "code",
   "execution_count": 0,
   "metadata": {
    "application/vnd.databricks.v1+cell": {
     "cellMetadata": {
      "byteLimit": 2048000,
      "implicitDf": true,
      "rowLimit": 10000
     },
     "inputWidgets": {},
     "nuid": "6ec1704b-9d79-49f1-997a-960ec9546c92",
     "showTitle": false,
     "tableResultSettingsMap": {},
     "title": ""
    }
   },
   "outputs": [
    {
     "output_type": "display_data",
     "data": {
      "text/html": [
       "<style scoped>\n",
       "  .table-result-container {\n",
       "    max-height: 300px;\n",
       "    overflow: auto;\n",
       "  }\n",
       "  table, th, td {\n",
       "    border: 1px solid black;\n",
       "    border-collapse: collapse;\n",
       "  }\n",
       "  th, td {\n",
       "    padding: 5px;\n",
       "  }\n",
       "  th {\n",
       "    text-align: left;\n",
       "  }\n",
       "</style><div class='table-result-container'><table class='table-result'><thead style='background-color: white'><tr></tr></thead><tbody></tbody></table></div>"
      ]
     },
     "metadata": {
      "application/vnd.databricks.v1+output": {
       "addedWidgets": {},
       "aggData": [],
       "aggError": "",
       "aggOverflow": false,
       "aggSchema": [],
       "aggSeriesLimitReached": false,
       "aggType": "",
       "arguments": {},
       "columnCustomDisplayInfos": {},
       "data": [],
       "datasetInfos": [],
       "dbfsResultPath": null,
       "isJsonSchema": true,
       "metadata": {},
       "overflow": false,
       "plotOptions": {
        "customPlotOptions": {},
        "displayType": "table",
        "pivotAggregation": null,
        "pivotColumns": null,
        "xColumns": null,
        "yColumns": null
       },
       "removedWidgets": [],
       "schema": [],
       "type": "table"
      }
     },
     "output_type": "display_data"
    }
   ],
   "source": [
    "%sql\n",
    "-- Comentário geral da tabela\n",
    "ALTER TABLE silver.results \n",
    "SET TBLPROPERTIES (\n",
    "  'comment' = 'Tabela de resultados de partidas de futebol internacionais. Contém dados brutos padronizados para uso na camada Gold. Fonte: bronze.results.'\n",
    ");\n",
    "\n",
    "-- 🔍 Comentários das colunas (um comando por coluna)\n",
    "ALTER TABLE silver.results CHANGE COLUMN match_id match_id STRING COMMENT \n",
    "  'Código único de identificação da partida. Formato: YYYY-MM-DD_HomeTeam_AwayTeam_HomeScore_AwayScore.';\n",
    "  \n",
    "ALTER TABLE silver.results CHANGE COLUMN match_date match_date DATE COMMENT \n",
    "  'Data da partida no formato YYYY-MM-DD. Domínio: Datas entre 1872-11-30 (primeiro jogo internacional) e a data atual.';\n",
    "  \n",
    "ALTER TABLE silver.results CHANGE COLUMN home_team home_team STRING COMMENT \n",
    "  'Nome do time da casa padronizado. Domínio: Valores da tabela silver.teams (ex: \"Brazil\", \"Germany\").';\n",
    "  \n",
    "ALTER TABLE silver.results CHANGE COLUMN away_team away_team STRING COMMENT \n",
    "  'Nome do time visitante padronizado. Domínio: Valores da tabela silver.teams.';\n",
    "  \n",
    "ALTER TABLE silver.results CHANGE COLUMN home_score home_score INT COMMENT \n",
    "  'Gols marcados pelo time da casa. Domínio: Inteiro ≥ 0.';\n",
    "  \n",
    "ALTER TABLE silver.results CHANGE COLUMN away_score away_score INT COMMENT \n",
    "  'Gols marcados pelo time visitante. Domínio: Inteiro ≥ 0.';\n",
    "  \n",
    "ALTER TABLE silver.results CHANGE COLUMN tournament tournament STRING COMMENT \n",
    "  'Nome do torneio sem formatação adicional. Domínio: Texto livre (ex: \"FIFA World Cup\", \"Copa América\").';\n",
    "  \n",
    "ALTER TABLE silver.results CHANGE COLUMN city city STRING COMMENT \n",
    "  'Cidade onde a partida foi realizada. Domínio: Texto livre (ex: \"Rio de Janeiro\", \"Berlin\").';\n",
    "  \n",
    "ALTER TABLE silver.results CHANGE COLUMN country country STRING COMMENT \n",
    "  'País onde a partida foi realizada. Domínio: Nomes de países ISO 3166 (ex: \"Brazil\", \"Spain\").';\n",
    "  \n",
    "ALTER TABLE silver.results CHANGE COLUMN is_neutral is_neutral BOOLEAN COMMENT \n",
    "  'Indica se o jogo foi em local neutro. Domínio: TRUE/FALSE.';\n"
   ]
  },
  {
   "cell_type": "code",
   "execution_count": 0,
   "metadata": {
    "application/vnd.databricks.v1+cell": {
     "cellMetadata": {
      "byteLimit": 2048000,
      "implicitDf": true,
      "rowLimit": 10000
     },
     "inputWidgets": {},
     "nuid": "1eed430b-5b4b-4759-817a-1457e8256c5f",
     "showTitle": false,
     "tableResultSettingsMap": {},
     "title": ""
    }
   },
   "outputs": [
    {
     "output_type": "display_data",
     "data": {
      "text/html": [
       "<style scoped>\n",
       "  .table-result-container {\n",
       "    max-height: 300px;\n",
       "    overflow: auto;\n",
       "  }\n",
       "  table, th, td {\n",
       "    border: 1px solid black;\n",
       "    border-collapse: collapse;\n",
       "  }\n",
       "  th, td {\n",
       "    padding: 5px;\n",
       "  }\n",
       "  th {\n",
       "    text-align: left;\n",
       "  }\n",
       "</style><div class='table-result-container'><table class='table-result'><thead style='background-color: white'><tr><th>col_name</th><th>data_type</th><th>comment</th></tr></thead><tbody><tr><td>match_date</td><td>date</td><td>Data da partida no formato YYYY-MM-DD. Domínio: Datas entre 1872-11-30 (primeiro jogo internacional) e a data atual.</td></tr><tr><td>home_team</td><td>string</td><td>Nome do time da casa padronizado. Domínio: Valores da tabela silver.teams (ex: \"Brazil\", \"Germany\").</td></tr><tr><td>away_team</td><td>string</td><td>Nome do time visitante padronizado. Domínio: Valores da tabela silver.teams.</td></tr><tr><td>home_score</td><td>int</td><td>Gols marcados pelo time da casa. Domínio: Inteiro ≥ 0.</td></tr><tr><td>away_score</td><td>int</td><td>Gols marcados pelo time visitante. Domínio: Inteiro ≥ 0.</td></tr><tr><td>tournament</td><td>string</td><td>Nome do torneio sem formatação adicional. Domínio: Texto livre (ex: \"FIFA World Cup\", \"Copa América\").</td></tr><tr><td>city</td><td>string</td><td>Cidade onde a partida foi realizada. Domínio: Texto livre (ex: \"Rio de Janeiro\", \"Berlin\").</td></tr><tr><td>country</td><td>string</td><td>País onde a partida foi realizada. Domínio: Nomes de países ISO 3166 (ex: \"Brazil\", \"Spain\").</td></tr><tr><td>is_neutral</td><td>boolean</td><td>Indica se o jogo foi em local neutro. Domínio: TRUE/FALSE.</td></tr><tr><td>match_id</td><td>string</td><td>Código único de identificação da partida. Formato: YYYY-MM-DD_HomeTeam_AwayTeam_HomeScore_AwayScore.</td></tr></tbody></table></div>"
      ]
     },
     "metadata": {
      "application/vnd.databricks.v1+output": {
       "addedWidgets": {},
       "aggData": [],
       "aggError": "",
       "aggOverflow": false,
       "aggSchema": [],
       "aggSeriesLimitReached": false,
       "aggType": "",
       "arguments": {},
       "columnCustomDisplayInfos": {},
       "data": [
        [
         "match_date",
         "date",
         "Data da partida no formato YYYY-MM-DD. Domínio: Datas entre 1872-11-30 (primeiro jogo internacional) e a data atual."
        ],
        [
         "home_team",
         "string",
         "Nome do time da casa padronizado. Domínio: Valores da tabela silver.teams (ex: \"Brazil\", \"Germany\")."
        ],
        [
         "away_team",
         "string",
         "Nome do time visitante padronizado. Domínio: Valores da tabela silver.teams."
        ],
        [
         "home_score",
         "int",
         "Gols marcados pelo time da casa. Domínio: Inteiro ≥ 0."
        ],
        [
         "away_score",
         "int",
         "Gols marcados pelo time visitante. Domínio: Inteiro ≥ 0."
        ],
        [
         "tournament",
         "string",
         "Nome do torneio sem formatação adicional. Domínio: Texto livre (ex: \"FIFA World Cup\", \"Copa América\")."
        ],
        [
         "city",
         "string",
         "Cidade onde a partida foi realizada. Domínio: Texto livre (ex: \"Rio de Janeiro\", \"Berlin\")."
        ],
        [
         "country",
         "string",
         "País onde a partida foi realizada. Domínio: Nomes de países ISO 3166 (ex: \"Brazil\", \"Spain\")."
        ],
        [
         "is_neutral",
         "boolean",
         "Indica se o jogo foi em local neutro. Domínio: TRUE/FALSE."
        ],
        [
         "match_id",
         "string",
         "Código único de identificação da partida. Formato: YYYY-MM-DD_HomeTeam_AwayTeam_HomeScore_AwayScore."
        ]
       ],
       "datasetInfos": [],
       "dbfsResultPath": null,
       "isJsonSchema": true,
       "metadata": {},
       "overflow": false,
       "plotOptions": {
        "customPlotOptions": {},
        "displayType": "table",
        "pivotAggregation": null,
        "pivotColumns": null,
        "xColumns": null,
        "yColumns": null
       },
       "removedWidgets": [],
       "schema": [
        {
         "metadata": "{\"comment\":\"name of the column\"}",
         "name": "col_name",
         "type": "\"string\""
        },
        {
         "metadata": "{\"comment\":\"data type of the column\"}",
         "name": "data_type",
         "type": "\"string\""
        },
        {
         "metadata": "{\"comment\":\"comment of the column\"}",
         "name": "comment",
         "type": "\"string\""
        }
       ],
       "type": "table"
      }
     },
     "output_type": "display_data"
    }
   ],
   "source": [
    "%sql\n",
    "DESCRIBE TABLE silver.results;"
   ]
  },
  {
   "cell_type": "markdown",
   "metadata": {
    "application/vnd.databricks.v1+cell": {
     "cellMetadata": {
      "byteLimit": 2048000,
      "rowLimit": 10000
     },
     "inputWidgets": {},
     "nuid": "d30ac69a-c21c-4275-b6b1-e4ba85caded9",
     "showTitle": false,
     "tableResultSettingsMap": {},
     "title": ""
    }
   },
   "source": [
    "É verificada a criação da tabela."
   ]
  },
  {
   "cell_type": "code",
   "execution_count": 0,
   "metadata": {
    "application/vnd.databricks.v1+cell": {
     "cellMetadata": {
      "byteLimit": 2048000,
      "implicitDf": true,
      "rowLimit": 10000
     },
     "inputWidgets": {},
     "nuid": "cb37ac88-19a2-469d-a0a2-1b660c829566",
     "showTitle": false,
     "tableResultSettingsMap": {},
     "title": ""
    }
   },
   "outputs": [
    {
     "output_type": "display_data",
     "data": {
      "text/html": [
       "<style scoped>\n",
       "  .table-result-container {\n",
       "    max-height: 300px;\n",
       "    overflow: auto;\n",
       "  }\n",
       "  table, th, td {\n",
       "    border: 1px solid black;\n",
       "    border-collapse: collapse;\n",
       "  }\n",
       "  th, td {\n",
       "    padding: 5px;\n",
       "  }\n",
       "  th {\n",
       "    text-align: left;\n",
       "  }\n",
       "</style><div class='table-result-container'><table class='table-result'><thead style='background-color: white'><tr><th>match_date</th><th>home_team</th><th>away_team</th><th>home_score</th><th>away_score</th><th>tournament</th><th>city</th><th>country</th><th>is_neutral</th><th>match_id</th></tr></thead><tbody><tr><td>1872-11-30</td><td>Scotland</td><td>England</td><td>0</td><td>0</td><td>Friendly</td><td>Glasgow</td><td>Scotland</td><td>false</td><td>1872-11-30_Scotland_England_0_0</td></tr><tr><td>1873-03-08</td><td>England</td><td>Scotland</td><td>4</td><td>2</td><td>Friendly</td><td>London</td><td>England</td><td>false</td><td>1873-03-08_England_Scotland_4_2</td></tr><tr><td>1874-03-07</td><td>Scotland</td><td>England</td><td>2</td><td>1</td><td>Friendly</td><td>Glasgow</td><td>Scotland</td><td>false</td><td>1874-03-07_Scotland_England_2_1</td></tr><tr><td>1875-03-06</td><td>England</td><td>Scotland</td><td>2</td><td>2</td><td>Friendly</td><td>London</td><td>England</td><td>false</td><td>1875-03-06_England_Scotland_2_2</td></tr><tr><td>1876-03-04</td><td>Scotland</td><td>England</td><td>3</td><td>0</td><td>Friendly</td><td>Glasgow</td><td>Scotland</td><td>false</td><td>1876-03-04_Scotland_England_3_0</td></tr><tr><td>1876-03-25</td><td>Scotland</td><td>Wales</td><td>4</td><td>0</td><td>Friendly</td><td>Glasgow</td><td>Scotland</td><td>false</td><td>1876-03-25_Scotland_Wales_4_0</td></tr><tr><td>1877-03-03</td><td>England</td><td>Scotland</td><td>1</td><td>3</td><td>Friendly</td><td>London</td><td>England</td><td>false</td><td>1877-03-03_England_Scotland_1_3</td></tr><tr><td>1877-03-05</td><td>Wales</td><td>Scotland</td><td>0</td><td>2</td><td>Friendly</td><td>Wrexham</td><td>Wales</td><td>false</td><td>1877-03-05_Wales_Scotland_0_2</td></tr><tr><td>1878-03-02</td><td>Scotland</td><td>England</td><td>7</td><td>2</td><td>Friendly</td><td>Glasgow</td><td>Scotland</td><td>false</td><td>1878-03-02_Scotland_England_7_2</td></tr><tr><td>1878-03-23</td><td>Scotland</td><td>Wales</td><td>9</td><td>0</td><td>Friendly</td><td>Glasgow</td><td>Scotland</td><td>false</td><td>1878-03-23_Scotland_Wales_9_0</td></tr><tr><td>1879-01-18</td><td>England</td><td>Wales</td><td>2</td><td>1</td><td>Friendly</td><td>London</td><td>England</td><td>false</td><td>1879-01-18_England_Wales_2_1</td></tr><tr><td>1879-04-05</td><td>England</td><td>Scotland</td><td>5</td><td>4</td><td>Friendly</td><td>London</td><td>England</td><td>false</td><td>1879-04-05_England_Scotland_5_4</td></tr><tr><td>1879-04-07</td><td>Wales</td><td>Scotland</td><td>0</td><td>3</td><td>Friendly</td><td>Wrexham</td><td>Wales</td><td>false</td><td>1879-04-07_Wales_Scotland_0_3</td></tr><tr><td>1880-03-13</td><td>Scotland</td><td>England</td><td>5</td><td>4</td><td>Friendly</td><td>Glasgow</td><td>Scotland</td><td>false</td><td>1880-03-13_Scotland_England_5_4</td></tr><tr><td>1880-03-15</td><td>Wales</td><td>England</td><td>2</td><td>3</td><td>Friendly</td><td>Wrexham</td><td>Wales</td><td>false</td><td>1880-03-15_Wales_England_2_3</td></tr><tr><td>1880-03-27</td><td>Scotland</td><td>Wales</td><td>5</td><td>1</td><td>Friendly</td><td>Glasgow</td><td>Scotland</td><td>false</td><td>1880-03-27_Scotland_Wales_5_1</td></tr><tr><td>1881-02-26</td><td>England</td><td>Wales</td><td>0</td><td>1</td><td>Friendly</td><td>Blackburn</td><td>England</td><td>false</td><td>1881-02-26_England_Wales_0_1</td></tr><tr><td>1881-03-12</td><td>England</td><td>Scotland</td><td>1</td><td>6</td><td>Friendly</td><td>London</td><td>England</td><td>false</td><td>1881-03-12_England_Scotland_1_6</td></tr><tr><td>1881-03-14</td><td>Wales</td><td>Scotland</td><td>1</td><td>5</td><td>Friendly</td><td>Wrexham</td><td>Wales</td><td>false</td><td>1881-03-14_Wales_Scotland_1_5</td></tr><tr><td>1882-02-18</td><td>Northern Ireland</td><td>England</td><td>0</td><td>13</td><td>Friendly</td><td>Belfast</td><td>Ireland</td><td>false</td><td>1882-02-18_Northern Ireland_England_0_13</td></tr></tbody></table></div>"
      ]
     },
     "metadata": {
      "application/vnd.databricks.v1+output": {
       "addedWidgets": {},
       "aggData": [],
       "aggError": "",
       "aggOverflow": false,
       "aggSchema": [],
       "aggSeriesLimitReached": false,
       "aggType": "",
       "arguments": {},
       "columnCustomDisplayInfos": {},
       "data": [
        [
         "1872-11-30",
         "Scotland",
         "England",
         0,
         0,
         "Friendly",
         "Glasgow",
         "Scotland",
         false,
         "1872-11-30_Scotland_England_0_0"
        ],
        [
         "1873-03-08",
         "England",
         "Scotland",
         4,
         2,
         "Friendly",
         "London",
         "England",
         false,
         "1873-03-08_England_Scotland_4_2"
        ],
        [
         "1874-03-07",
         "Scotland",
         "England",
         2,
         1,
         "Friendly",
         "Glasgow",
         "Scotland",
         false,
         "1874-03-07_Scotland_England_2_1"
        ],
        [
         "1875-03-06",
         "England",
         "Scotland",
         2,
         2,
         "Friendly",
         "London",
         "England",
         false,
         "1875-03-06_England_Scotland_2_2"
        ],
        [
         "1876-03-04",
         "Scotland",
         "England",
         3,
         0,
         "Friendly",
         "Glasgow",
         "Scotland",
         false,
         "1876-03-04_Scotland_England_3_0"
        ],
        [
         "1876-03-25",
         "Scotland",
         "Wales",
         4,
         0,
         "Friendly",
         "Glasgow",
         "Scotland",
         false,
         "1876-03-25_Scotland_Wales_4_0"
        ],
        [
         "1877-03-03",
         "England",
         "Scotland",
         1,
         3,
         "Friendly",
         "London",
         "England",
         false,
         "1877-03-03_England_Scotland_1_3"
        ],
        [
         "1877-03-05",
         "Wales",
         "Scotland",
         0,
         2,
         "Friendly",
         "Wrexham",
         "Wales",
         false,
         "1877-03-05_Wales_Scotland_0_2"
        ],
        [
         "1878-03-02",
         "Scotland",
         "England",
         7,
         2,
         "Friendly",
         "Glasgow",
         "Scotland",
         false,
         "1878-03-02_Scotland_England_7_2"
        ],
        [
         "1878-03-23",
         "Scotland",
         "Wales",
         9,
         0,
         "Friendly",
         "Glasgow",
         "Scotland",
         false,
         "1878-03-23_Scotland_Wales_9_0"
        ],
        [
         "1879-01-18",
         "England",
         "Wales",
         2,
         1,
         "Friendly",
         "London",
         "England",
         false,
         "1879-01-18_England_Wales_2_1"
        ],
        [
         "1879-04-05",
         "England",
         "Scotland",
         5,
         4,
         "Friendly",
         "London",
         "England",
         false,
         "1879-04-05_England_Scotland_5_4"
        ],
        [
         "1879-04-07",
         "Wales",
         "Scotland",
         0,
         3,
         "Friendly",
         "Wrexham",
         "Wales",
         false,
         "1879-04-07_Wales_Scotland_0_3"
        ],
        [
         "1880-03-13",
         "Scotland",
         "England",
         5,
         4,
         "Friendly",
         "Glasgow",
         "Scotland",
         false,
         "1880-03-13_Scotland_England_5_4"
        ],
        [
         "1880-03-15",
         "Wales",
         "England",
         2,
         3,
         "Friendly",
         "Wrexham",
         "Wales",
         false,
         "1880-03-15_Wales_England_2_3"
        ],
        [
         "1880-03-27",
         "Scotland",
         "Wales",
         5,
         1,
         "Friendly",
         "Glasgow",
         "Scotland",
         false,
         "1880-03-27_Scotland_Wales_5_1"
        ],
        [
         "1881-02-26",
         "England",
         "Wales",
         0,
         1,
         "Friendly",
         "Blackburn",
         "England",
         false,
         "1881-02-26_England_Wales_0_1"
        ],
        [
         "1881-03-12",
         "England",
         "Scotland",
         1,
         6,
         "Friendly",
         "London",
         "England",
         false,
         "1881-03-12_England_Scotland_1_6"
        ],
        [
         "1881-03-14",
         "Wales",
         "Scotland",
         1,
         5,
         "Friendly",
         "Wrexham",
         "Wales",
         false,
         "1881-03-14_Wales_Scotland_1_5"
        ],
        [
         "1882-02-18",
         "Northern Ireland",
         "England",
         0,
         13,
         "Friendly",
         "Belfast",
         "Ireland",
         false,
         "1882-02-18_Northern Ireland_England_0_13"
        ]
       ],
       "datasetInfos": [],
       "dbfsResultPath": null,
       "isJsonSchema": true,
       "metadata": {},
       "overflow": false,
       "plotOptions": {
        "customPlotOptions": {},
        "displayType": "table",
        "pivotAggregation": null,
        "pivotColumns": null,
        "xColumns": null,
        "yColumns": null
       },
       "removedWidgets": [],
       "schema": [
        {
         "metadata": "{\"comment\":\"Data da partida no formato YYYY-MM-DD. Domínio: Datas entre 1872-11-30 (primeiro jogo internacional) e a data atual.\"}",
         "name": "match_date",
         "type": "\"date\""
        },
        {
         "metadata": "{\"comment\":\"Nome do time da casa padronizado. Domínio: Valores da tabela silver.teams (ex: \\\"Brazil\\\", \\\"Germany\\\").\"}",
         "name": "home_team",
         "type": "\"string\""
        },
        {
         "metadata": "{\"comment\":\"Nome do time visitante padronizado. Domínio: Valores da tabela silver.teams.\"}",
         "name": "away_team",
         "type": "\"string\""
        },
        {
         "metadata": "{\"comment\":\"Gols marcados pelo time da casa. Domínio: Inteiro ≥ 0.\"}",
         "name": "home_score",
         "type": "\"integer\""
        },
        {
         "metadata": "{\"comment\":\"Gols marcados pelo time visitante. Domínio: Inteiro ≥ 0.\"}",
         "name": "away_score",
         "type": "\"integer\""
        },
        {
         "metadata": "{\"comment\":\"Nome do torneio sem formatação adicional. Domínio: Texto livre (ex: \\\"FIFA World Cup\\\", \\\"Copa América\\\").\"}",
         "name": "tournament",
         "type": "\"string\""
        },
        {
         "metadata": "{\"comment\":\"Cidade onde a partida foi realizada. Domínio: Texto livre (ex: \\\"Rio de Janeiro\\\", \\\"Berlin\\\").\"}",
         "name": "city",
         "type": "\"string\""
        },
        {
         "metadata": "{\"comment\":\"País onde a partida foi realizada. Domínio: Nomes de países ISO 3166 (ex: \\\"Brazil\\\", \\\"Spain\\\").\"}",
         "name": "country",
         "type": "\"string\""
        },
        {
         "metadata": "{\"comment\":\"Indica se o jogo foi em local neutro. Domínio: TRUE/FALSE.\"}",
         "name": "is_neutral",
         "type": "\"boolean\""
        },
        {
         "metadata": "{\"comment\":\"Código único de identificação da partida. Formato: YYYY-MM-DD_HomeTeam_AwayTeam_HomeScore_AwayScore.\"}",
         "name": "match_id",
         "type": "\"string\""
        }
       ],
       "type": "table"
      }
     },
     "output_type": "display_data"
    }
   ],
   "source": [
    "%sql\n",
    "-- Verificar a tabela silver.results\n",
    "SELECT * \n",
    "FROM silver.results \n",
    "LIMIT 20"
   ]
  },
  {
   "cell_type": "markdown",
   "metadata": {
    "application/vnd.databricks.v1+cell": {
     "cellMetadata": {
      "byteLimit": 2048000,
      "rowLimit": 10000
     },
     "inputWidgets": {},
     "nuid": "bda823b2-127e-4be6-8f9a-7cf7f61eec46",
     "showTitle": false,
     "tableResultSettingsMap": {},
     "title": ""
    }
   },
   "source": [
    "### 4.2.3 Tabela `silver.shootouts`\n",
    "A tabela `silver.shootouts` foi criada a partir da padronização dos dados brutos presentes em `bronze.shootouts`, representando disputas de pênaltis ocorridas após o término das partidas. Para garantir integridade e consistência, cada disputa foi vinculada à tabela `silver.results` por meio do campo `match_date`, juntamente com os nomes das equipes mandante e visitante. Essa junção possibilitou a reutilização do campo `match_id` já padronizado como identificador único da partida. Os nomes das equipes foram padronizados utilizando a tabela `silver.former_names`, assegurando uniformidade na representação histórica. Além disso, valores ausentes no campo `first_shooter` foram substituídos pela string 'Unknown' para manter a completude do dado."
   ]
  },
  {
   "cell_type": "code",
   "execution_count": 0,
   "metadata": {
    "application/vnd.databricks.v1+cell": {
     "cellMetadata": {
      "byteLimit": 2048000,
      "implicitDf": true,
      "rowLimit": 10000
     },
     "inputWidgets": {},
     "nuid": "7d3f3dff-725b-457d-8684-5a4a16447ba2",
     "showTitle": false,
     "tableResultSettingsMap": {},
     "title": ""
    }
   },
   "outputs": [
    {
     "output_type": "display_data",
     "data": {
      "text/html": [
       "<style scoped>\n",
       "  .table-result-container {\n",
       "    max-height: 300px;\n",
       "    overflow: auto;\n",
       "  }\n",
       "  table, th, td {\n",
       "    border: 1px solid black;\n",
       "    border-collapse: collapse;\n",
       "  }\n",
       "  th, td {\n",
       "    padding: 5px;\n",
       "  }\n",
       "  th {\n",
       "    text-align: left;\n",
       "  }\n",
       "</style><div class='table-result-container'><table class='table-result'><thead style='background-color: white'><tr><th>num_affected_rows</th><th>num_inserted_rows</th></tr></thead><tbody></tbody></table></div>"
      ]
     },
     "metadata": {
      "application/vnd.databricks.v1+output": {
       "addedWidgets": {},
       "aggData": [],
       "aggError": "",
       "aggOverflow": false,
       "aggSchema": [],
       "aggSeriesLimitReached": false,
       "aggType": "",
       "arguments": {},
       "columnCustomDisplayInfos": {},
       "data": [],
       "datasetInfos": [],
       "dbfsResultPath": null,
       "isJsonSchema": true,
       "metadata": {},
       "overflow": false,
       "plotOptions": {
        "customPlotOptions": {},
        "displayType": "table",
        "pivotAggregation": null,
        "pivotColumns": null,
        "xColumns": null,
        "yColumns": null
       },
       "removedWidgets": [],
       "schema": [
        {
         "metadata": "{}",
         "name": "num_affected_rows",
         "type": "\"long\""
        },
        {
         "metadata": "{}",
         "name": "num_inserted_rows",
         "type": "\"long\""
        }
       ],
       "type": "table"
      }
     },
     "output_type": "display_data"
    }
   ],
   "source": [
    "%sql\n",
    "DROP TABLE IF EXISTS silver.shootouts;\n",
    "\n",
    "CREATE TABLE silver.shootouts AS\n",
    "SELECT \n",
    "  r.match_id,  -- Usando o match_id da tabela results já existente\n",
    "  date(s.date) AS match_date,\n",
    "  COALESCE(fn_home.current, s.home_team) AS home_team,\n",
    "  COALESCE(fn_away.current, s.away_team) AS away_team,\n",
    "  COALESCE(fn_winner.current, s.winner) AS winner,\n",
    "  COALESCE(s.first_shooter, 'Unknown') AS first_shooter\n",
    "FROM bronze.shootouts s\n",
    "JOIN silver.results r\n",
    "  ON r.home_team = s.home_team\n",
    "  AND r.away_team = s.away_team\n",
    "  AND r.match_date = date(s.date)\n",
    "LEFT JOIN silver.former_names fn_home ON s.home_team = fn_home.former\n",
    "LEFT JOIN silver.former_names fn_away ON s.away_team = fn_away.former\n",
    "LEFT JOIN silver.former_names fn_winner ON s.winner = fn_winner.former;\n"
   ]
  },
  {
   "cell_type": "markdown",
   "metadata": {
    "application/vnd.databricks.v1+cell": {
     "cellMetadata": {
      "byteLimit": 2048000,
      "rowLimit": 10000
     },
     "inputWidgets": {},
     "nuid": "7c27692c-94c7-4102-8ceb-a3fa5cd0bb75",
     "showTitle": false,
     "tableResultSettingsMap": {},
     "title": ""
    }
   },
   "source": [
    "As tranformações são validadas."
   ]
  },
  {
   "cell_type": "code",
   "execution_count": 0,
   "metadata": {
    "application/vnd.databricks.v1+cell": {
     "cellMetadata": {
      "byteLimit": 2048000,
      "implicitDf": true,
      "rowLimit": 10000
     },
     "inputWidgets": {},
     "nuid": "ee869227-a72f-4689-88e6-296713abb852",
     "showTitle": false,
     "tableResultSettingsMap": {},
     "title": ""
    }
   },
   "outputs": [
    {
     "output_type": "display_data",
     "data": {
      "text/html": [
       "<style scoped>\n",
       "  .table-result-container {\n",
       "    max-height: 300px;\n",
       "    overflow: auto;\n",
       "  }\n",
       "  table, th, td {\n",
       "    border: 1px solid black;\n",
       "    border-collapse: collapse;\n",
       "  }\n",
       "  th, td {\n",
       "    padding: 5px;\n",
       "  }\n",
       "  th {\n",
       "    text-align: left;\n",
       "  }\n",
       "</style><div class='table-result-container'><table class='table-result'><thead style='background-color: white'><tr><th>total_records</th><th>unique_match_ids</th><th>source_count</th><th>null_dates</th><th>null_teams</th><th>null_winner</th><th>null_match_id</th><th>basic_validation</th><th>match_id_validation</th><th>count_validation</th></tr></thead><tbody><tr><td>641</td><td>641</td><td>645</td><td>0</td><td>0</td><td>0</td><td>0</td><td>✅ Validações básicas passaram</td><td>✅ match_id único para cada disputa de pênaltis</td><td>❌ Divergência na contagem de registros</td></tr></tbody></table></div>"
      ]
     },
     "metadata": {
      "application/vnd.databricks.v1+output": {
       "addedWidgets": {},
       "aggData": [],
       "aggError": "",
       "aggOverflow": false,
       "aggSchema": [],
       "aggSeriesLimitReached": false,
       "aggType": "",
       "arguments": {},
       "columnCustomDisplayInfos": {},
       "data": [
        [
         641,
         641,
         645,
         0,
         0,
         0,
         0,
         "✅ Validações básicas passaram",
         "✅ match_id único para cada disputa de pênaltis",
         "❌ Divergência na contagem de registros"
        ]
       ],
       "datasetInfos": [],
       "dbfsResultPath": null,
       "isJsonSchema": true,
       "metadata": {},
       "overflow": false,
       "plotOptions": {
        "customPlotOptions": {},
        "displayType": "table",
        "pivotAggregation": null,
        "pivotColumns": null,
        "xColumns": null,
        "yColumns": null
       },
       "removedWidgets": [],
       "schema": [
        {
         "metadata": "{}",
         "name": "total_records",
         "type": "\"long\""
        },
        {
         "metadata": "{}",
         "name": "unique_match_ids",
         "type": "\"long\""
        },
        {
         "metadata": "{}",
         "name": "source_count",
         "type": "\"long\""
        },
        {
         "metadata": "{}",
         "name": "null_dates",
         "type": "\"long\""
        },
        {
         "metadata": "{}",
         "name": "null_teams",
         "type": "\"long\""
        },
        {
         "metadata": "{}",
         "name": "null_winner",
         "type": "\"long\""
        },
        {
         "metadata": "{}",
         "name": "null_match_id",
         "type": "\"long\""
        },
        {
         "metadata": "{}",
         "name": "basic_validation",
         "type": "\"string\""
        },
        {
         "metadata": "{}",
         "name": "match_id_validation",
         "type": "\"string\""
        },
        {
         "metadata": "{}",
         "name": "count_validation",
         "type": "\"string\""
        }
       ],
       "type": "table"
      }
     },
     "output_type": "display_data"
    }
   ],
   "source": [
    "%sql\n",
    "WITH checks AS (\n",
    "  SELECT\n",
    "    COUNT(*) AS total_records,\n",
    "\n",
    "    -- Validação de campos obrigatórios\n",
    "    SUM(CASE WHEN match_date IS NULL THEN 1 ELSE 0 END) AS null_dates,\n",
    "    SUM(CASE WHEN home_team IS NULL OR away_team IS NULL THEN 1 ELSE 0 END) AS null_teams,\n",
    "    SUM(CASE WHEN winner IS NULL THEN 1 ELSE 0 END) AS null_winner,\n",
    "    SUM(CASE WHEN match_id IS NULL OR match_id = '' THEN 1 ELSE 0 END) AS null_match_id,\n",
    "    \n",
    "    -- Verificação de duplicidade no match_id\n",
    "    COUNT(DISTINCT match_id) AS unique_match_ids,\n",
    "\n",
    "    -- Total original para comparação (base bronze)\n",
    "    (SELECT COUNT(*) FROM bronze.shootouts) AS source_count\n",
    "  FROM silver.shootouts\n",
    ")\n",
    "\n",
    "SELECT\n",
    "  total_records,\n",
    "  unique_match_ids,\n",
    "  source_count,\n",
    "  null_dates,\n",
    "  null_teams,\n",
    "  null_winner,\n",
    "  null_match_id,\n",
    "\n",
    "  -- Relatório de integridade\n",
    "  CASE\n",
    "    WHEN null_dates = 0 AND null_teams = 0 AND null_winner = 0 \n",
    "         AND null_match_id = 0\n",
    "    THEN '✅ Validações básicas passaram'\n",
    "    ELSE '❌ Problemas encontrados nos dados'\n",
    "  END AS basic_validation,\n",
    "\n",
    "  -- Validação de ID único\n",
    "  CASE\n",
    "    WHEN total_records = unique_match_ids \n",
    "    THEN '✅ match_id único para cada disputa de pênaltis'\n",
    "    ELSE '❌ match_id duplicado detectado'\n",
    "  END AS match_id_validation,\n",
    "\n",
    "  -- Validação de volume\n",
    "  CASE\n",
    "    WHEN total_records = source_count \n",
    "    THEN '✅ Volume consistente com a fonte'\n",
    "    ELSE '❌ Divergência na contagem de registros'\n",
    "  END AS count_validation\n",
    "\n",
    "FROM checks;\n"
   ]
  },
  {
   "cell_type": "code",
   "execution_count": 0,
   "metadata": {
    "application/vnd.databricks.v1+cell": {
     "cellMetadata": {
      "byteLimit": 2048000,
      "implicitDf": true,
      "rowLimit": 10000
     },
     "inputWidgets": {},
     "nuid": "da7fab2f-c1ba-4c08-90cf-e6cd69d66d51",
     "showTitle": false,
     "tableResultSettingsMap": {},
     "title": ""
    }
   },
   "outputs": [
    {
     "output_type": "display_data",
     "data": {
      "text/html": [
       "<style scoped>\n",
       "  .table-result-container {\n",
       "    max-height: 300px;\n",
       "    overflow: auto;\n",
       "  }\n",
       "  table, th, td {\n",
       "    border: 1px solid black;\n",
       "    border-collapse: collapse;\n",
       "  }\n",
       "  th, td {\n",
       "    padding: 5px;\n",
       "  }\n",
       "  th {\n",
       "    text-align: left;\n",
       "  }\n",
       "</style><div class='table-result-container'><table class='table-result'><thead style='background-color: white'><tr><th>match_date</th><th>home_team</th><th>away_team</th><th>winner</th><th>first_shooter</th></tr></thead><tbody><tr><td>1976-06-20</td><td>Czechoslovakia</td><td>Germany</td><td>Czechoslovakia</td><td>Czechoslovakia</td></tr><tr><td>1980-06-21</td><td>Italy</td><td>Czechoslovakia</td><td>Czechoslovakia</td><td>Italy</td></tr><tr><td>1991-08-08</td><td>Czechoslovakia</td><td>Yugoslavia</td><td>Czechoslovakia</td><td>null</td></tr><tr><td>2011-06-29</td><td>Saare County</td><td>Åland Islands</td><td>Åland Islands</td><td>null</td></tr></tbody></table></div>"
      ]
     },
     "metadata": {
      "application/vnd.databricks.v1+output": {
       "addedWidgets": {},
       "aggData": [],
       "aggError": "",
       "aggOverflow": false,
       "aggSchema": [],
       "aggSeriesLimitReached": false,
       "aggType": "",
       "arguments": {},
       "columnCustomDisplayInfos": {},
       "data": [
        [
         "1976-06-20",
         "Czechoslovakia",
         "Germany",
         "Czechoslovakia",
         "Czechoslovakia"
        ],
        [
         "1980-06-21",
         "Italy",
         "Czechoslovakia",
         "Czechoslovakia",
         "Italy"
        ],
        [
         "1991-08-08",
         "Czechoslovakia",
         "Yugoslavia",
         "Czechoslovakia",
         null
        ],
        [
         "2011-06-29",
         "Saare County",
         "Åland Islands",
         "Åland Islands",
         null
        ]
       ],
       "datasetInfos": [],
       "dbfsResultPath": null,
       "isJsonSchema": true,
       "metadata": {},
       "overflow": false,
       "plotOptions": {
        "customPlotOptions": {},
        "displayType": "table",
        "pivotAggregation": null,
        "pivotColumns": null,
        "xColumns": null,
        "yColumns": null
       },
       "removedWidgets": [],
       "schema": [
        {
         "metadata": "{}",
         "name": "match_date",
         "type": "\"date\""
        },
        {
         "metadata": "{}",
         "name": "home_team",
         "type": "\"string\""
        },
        {
         "metadata": "{}",
         "name": "away_team",
         "type": "\"string\""
        },
        {
         "metadata": "{}",
         "name": "winner",
         "type": "\"string\""
        },
        {
         "metadata": "{}",
         "name": "first_shooter",
         "type": "\"string\""
        }
       ],
       "type": "table"
      }
     },
     "output_type": "display_data"
    }
   ],
   "source": [
    "%sql\n",
    "SELECT \n",
    "  date(s.date) AS match_date,\n",
    "  s.home_team,\n",
    "  s.away_team,\n",
    "  s.winner,\n",
    "  s.first_shooter\n",
    "FROM bronze.shootouts s\n",
    "WHERE NOT EXISTS (\n",
    "  SELECT 1\n",
    "  FROM silver.shootouts ss\n",
    "  WHERE ss.match_date = date(s.date)\n",
    "    AND (\n",
    "      ss.home_team = s.home_team AND ss.away_team = s.away_team\n",
    "      OR ss.home_team = s.away_team AND ss.away_team = s.home_team\n",
    "    )\n",
    ");"
   ]
  },
  {
   "cell_type": "markdown",
   "metadata": {
    "application/vnd.databricks.v1+cell": {
     "cellMetadata": {
      "byteLimit": 2048000,
      "rowLimit": 10000
     },
     "inputWidgets": {},
     "nuid": "fa1ee07e-2d39-4bd8-a7c1-483025af15ff",
     "showTitle": false,
     "tableResultSettingsMap": {},
     "title": ""
    }
   },
   "source": [
    "Durante a construção da tabela silver.shootouts, 4 registros da fonte bronze.shootouts não foram incluídos devido à ausência de correspondência com a tabela silver.results. Isso ocorreu por dois principais motivos:\n",
    "\n",
    "1. **Seleções extintas**: Como **Czechoslovakia** e **Yugoslavia**, que não constam na silver.results, pois foram substituídas por países atuais e seus nomes antigos não têm correspondência clara nos dados padronizados.\n",
    "\n",
    "2. **Regiões autônomas ou não reconhecidas como seleções oficiais**: Casos como **Saare County** e **Åland Islands**, que são divisões regionais e não aparecem como seleções na base principal de partidas (silver.results).\n",
    "\n",
    "Esses registros foram explicitamente excluídos da tabela com base em seus valores de home_team e away_team, a fim de manter a integridade e consistência do modelo dimensional.\n"
   ]
  },
  {
   "cell_type": "code",
   "execution_count": 0,
   "metadata": {
    "application/vnd.databricks.v1+cell": {
     "cellMetadata": {
      "byteLimit": 2048000,
      "implicitDf": true,
      "rowLimit": 10000
     },
     "inputWidgets": {},
     "nuid": "8e2539df-5593-4579-a792-68bde5a99418",
     "showTitle": false,
     "tableResultSettingsMap": {},
     "title": ""
    }
   },
   "outputs": [
    {
     "output_type": "display_data",
     "data": {
      "text/html": [
       "<style scoped>\n",
       "  .table-result-container {\n",
       "    max-height: 300px;\n",
       "    overflow: auto;\n",
       "  }\n",
       "  table, th, td {\n",
       "    border: 1px solid black;\n",
       "    border-collapse: collapse;\n",
       "  }\n",
       "  th, td {\n",
       "    padding: 5px;\n",
       "  }\n",
       "  th {\n",
       "    text-align: left;\n",
       "  }\n",
       "</style><div class='table-result-container'><table class='table-result'><thead style='background-color: white'><tr><th>num_affected_rows</th></tr></thead><tbody><tr><td>0</td></tr></tbody></table></div>"
      ]
     },
     "metadata": {
      "application/vnd.databricks.v1+output": {
       "addedWidgets": {},
       "aggData": [],
       "aggError": "",
       "aggOverflow": false,
       "aggSchema": [],
       "aggSeriesLimitReached": false,
       "aggType": "",
       "arguments": {},
       "columnCustomDisplayInfos": {},
       "data": [
        [
         0
        ]
       ],
       "datasetInfos": [],
       "dbfsResultPath": null,
       "isJsonSchema": true,
       "metadata": {},
       "overflow": false,
       "plotOptions": {
        "customPlotOptions": {},
        "displayType": "table",
        "pivotAggregation": null,
        "pivotColumns": null,
        "xColumns": null,
        "yColumns": null
       },
       "removedWidgets": [],
       "schema": [
        {
         "metadata": "{}",
         "name": "num_affected_rows",
         "type": "\"long\""
        }
       ],
       "type": "table"
      }
     },
     "output_type": "display_data"
    }
   ],
   "source": [
    "%sql\n",
    "DELETE FROM silver.shootouts\n",
    "WHERE \n",
    "  (match_date = '1976-06-20' AND home_team = 'Czechoslovakia' AND away_team = 'Germany') OR\n",
    "  (match_date = '1980-06-21' AND home_team = 'Italy' AND away_team = 'Czechoslovakia') OR\n",
    "  (match_date = '1991-08-08' AND home_team = 'Czechoslovakia' AND away_team = 'Yugoslavia') OR\n",
    "  (match_date = '2011-06-29' AND home_team = 'Saare County' AND away_team = 'Åland Islands');"
   ]
  },
  {
   "cell_type": "markdown",
   "metadata": {
    "application/vnd.databricks.v1+cell": {
     "cellMetadata": {},
     "inputWidgets": {},
     "nuid": "ed3b4b37-1247-40bb-80b1-68950f458a68",
     "showTitle": false,
     "tableResultSettingsMap": {},
     "title": ""
    }
   },
   "source": [
    "Verificando a exclusão."
   ]
  },
  {
   "cell_type": "code",
   "execution_count": 0,
   "metadata": {
    "application/vnd.databricks.v1+cell": {
     "cellMetadata": {
      "byteLimit": 2048000,
      "implicitDf": true,
      "rowLimit": 10000
     },
     "inputWidgets": {},
     "nuid": "29ba7f2d-9d1a-4455-83da-efefdfe0c02e",
     "showTitle": false,
     "tableResultSettingsMap": {},
     "title": ""
    }
   },
   "outputs": [
    {
     "output_type": "display_data",
     "data": {
      "text/html": [
       "<style scoped>\n",
       "  .table-result-container {\n",
       "    max-height: 300px;\n",
       "    overflow: auto;\n",
       "  }\n",
       "  table, th, td {\n",
       "    border: 1px solid black;\n",
       "    border-collapse: collapse;\n",
       "  }\n",
       "  th, td {\n",
       "    padding: 5px;\n",
       "  }\n",
       "  th {\n",
       "    text-align: left;\n",
       "  }\n",
       "</style><div class='table-result-container'><table class='table-result'><thead style='background-color: white'><tr><th>match_date</th><th>home_team</th><th>away_team</th><th>winner</th><th>first_shooter</th></tr></thead><tbody></tbody></table></div>"
      ]
     },
     "metadata": {
      "application/vnd.databricks.v1+output": {
       "addedWidgets": {},
       "aggData": [],
       "aggError": "",
       "aggOverflow": false,
       "aggSchema": [],
       "aggSeriesLimitReached": false,
       "aggType": "",
       "arguments": {},
       "columnCustomDisplayInfos": {},
       "data": [],
       "datasetInfos": [],
       "dbfsResultPath": null,
       "isJsonSchema": true,
       "metadata": {},
       "overflow": false,
       "plotOptions": {
        "customPlotOptions": {},
        "displayType": "table",
        "pivotAggregation": null,
        "pivotColumns": null,
        "xColumns": null,
        "yColumns": null
       },
       "removedWidgets": [],
       "schema": [
        {
         "metadata": "{}",
         "name": "match_date",
         "type": "\"date\""
        },
        {
         "metadata": "{}",
         "name": "home_team",
         "type": "\"string\""
        },
        {
         "metadata": "{}",
         "name": "away_team",
         "type": "\"string\""
        },
        {
         "metadata": "{}",
         "name": "winner",
         "type": "\"string\""
        },
        {
         "metadata": "{}",
         "name": "first_shooter",
         "type": "\"string\""
        }
       ],
       "type": "table"
      }
     },
     "output_type": "display_data"
    }
   ],
   "source": [
    "%sql\n",
    "SELECT match_date, home_team, away_team, winner, first_shooter\n",
    "FROM silver.shootouts\n",
    "WHERE (match_date = '1976-06-20' AND home_team = 'Czechoslovakia' AND away_team = 'Germany')\n",
    "   OR (match_date = '1980-06-21' AND home_team = 'Italy' AND away_team = 'Czechoslovakia')\n",
    "   OR (match_date = '1991-08-08' AND home_team = 'Czechoslovakia' AND away_team = 'Yugoslavia')\n",
    "   OR (match_date = '2011-06-29' AND home_team = 'Saare County' AND away_team = 'Åland Islands');\n"
   ]
  },
  {
   "cell_type": "code",
   "execution_count": 0,
   "metadata": {
    "application/vnd.databricks.v1+cell": {
     "cellMetadata": {
      "byteLimit": 2048000,
      "implicitDf": true,
      "rowLimit": 10000
     },
     "inputWidgets": {},
     "nuid": "231f4471-a809-401b-b2fd-c7b3a3d52510",
     "showTitle": false,
     "tableResultSettingsMap": {},
     "title": ""
    }
   },
   "outputs": [
    {
     "output_type": "display_data",
     "data": {
      "text/html": [
       "<style scoped>\n",
       "  .table-result-container {\n",
       "    max-height: 300px;\n",
       "    overflow: auto;\n",
       "  }\n",
       "  table, th, td {\n",
       "    border: 1px solid black;\n",
       "    border-collapse: collapse;\n",
       "  }\n",
       "  th, td {\n",
       "    padding: 5px;\n",
       "  }\n",
       "  th {\n",
       "    text-align: left;\n",
       "  }\n",
       "</style><div class='table-result-container'><table class='table-result'><thead style='background-color: white'><tr><th>total_after_delete</th></tr></thead><tbody><tr><td>641</td></tr></tbody></table></div>"
      ]
     },
     "metadata": {
      "application/vnd.databricks.v1+output": {
       "addedWidgets": {},
       "aggData": [],
       "aggError": "",
       "aggOverflow": false,
       "aggSchema": [],
       "aggSeriesLimitReached": false,
       "aggType": "",
       "arguments": {},
       "columnCustomDisplayInfos": {},
       "data": [
        [
         641
        ]
       ],
       "datasetInfos": [],
       "dbfsResultPath": null,
       "isJsonSchema": true,
       "metadata": {},
       "overflow": false,
       "plotOptions": {
        "customPlotOptions": {},
        "displayType": "table",
        "pivotAggregation": null,
        "pivotColumns": null,
        "xColumns": null,
        "yColumns": null
       },
       "removedWidgets": [],
       "schema": [
        {
         "metadata": "{}",
         "name": "total_after_delete",
         "type": "\"long\""
        }
       ],
       "type": "table"
      }
     },
     "output_type": "display_data"
    }
   ],
   "source": [
    "%sql\n",
    "SELECT COUNT(*) AS total_after_delete\n",
    "FROM silver.shootouts;\n"
   ]
  },
  {
   "cell_type": "markdown",
   "metadata": {
    "application/vnd.databricks.v1+cell": {
     "cellMetadata": {
      "byteLimit": 2048000,
      "rowLimit": 10000
     },
     "inputWidgets": {},
     "nuid": "6d5afa9a-7253-4ef1-8b44-d6025b3bae58",
     "showTitle": false,
     "tableResultSettingsMap": {},
     "title": ""
    }
   },
   "source": [
    "O mesmo procedimento de inserção de comentários é utilizado."
   ]
  },
  {
   "cell_type": "code",
   "execution_count": 0,
   "metadata": {
    "application/vnd.databricks.v1+cell": {
     "cellMetadata": {
      "byteLimit": 2048000,
      "implicitDf": true,
      "rowLimit": 10000
     },
     "inputWidgets": {},
     "nuid": "06826096-aae9-4f03-8f89-8b64e29ac5c4",
     "showTitle": false,
     "tableResultSettingsMap": {},
     "title": ""
    }
   },
   "outputs": [
    {
     "output_type": "display_data",
     "data": {
      "text/html": [
       "<style scoped>\n",
       "  .table-result-container {\n",
       "    max-height: 300px;\n",
       "    overflow: auto;\n",
       "  }\n",
       "  table, th, td {\n",
       "    border: 1px solid black;\n",
       "    border-collapse: collapse;\n",
       "  }\n",
       "  th, td {\n",
       "    padding: 5px;\n",
       "  }\n",
       "  th {\n",
       "    text-align: left;\n",
       "  }\n",
       "</style><div class='table-result-container'><table class='table-result'><thead style='background-color: white'><tr></tr></thead><tbody></tbody></table></div>"
      ]
     },
     "metadata": {
      "application/vnd.databricks.v1+output": {
       "addedWidgets": {},
       "aggData": [],
       "aggError": "",
       "aggOverflow": false,
       "aggSchema": [],
       "aggSeriesLimitReached": false,
       "aggType": "",
       "arguments": {},
       "columnCustomDisplayInfos": {},
       "data": [],
       "datasetInfos": [],
       "dbfsResultPath": null,
       "isJsonSchema": true,
       "metadata": {},
       "overflow": false,
       "plotOptions": {
        "customPlotOptions": {},
        "displayType": "table",
        "pivotAggregation": null,
        "pivotColumns": null,
        "xColumns": null,
        "yColumns": null
       },
       "removedWidgets": [],
       "schema": [],
       "type": "table"
      }
     },
     "output_type": "display_data"
    }
   ],
   "source": [
    "%sql\n",
    "-- Comentário da tabela\n",
    "ALTER TABLE silver.shootouts \n",
    "SET TBLPROPERTIES (\n",
    "  'comment' = 'Tabela com informações de disputas de pênaltis em partidas internacionais. Utiliza dados limpos e padronizados da camada Bronze com match_id vinculado à tabela silver.results.'\n",
    ");\n",
    "\n",
    "-- Comentários das colunas (um comando por coluna)\n",
    "ALTER TABLE silver.shootouts CHANGE COLUMN match_id match_id STRING \n",
    "COMMENT 'Código único da partida, vinculado à tabela silver.results. Domínio: Até 100 caracteres.';\n",
    "\n",
    "ALTER TABLE silver.shootouts CHANGE COLUMN match_date match_date DATE \n",
    "COMMENT 'Data da partida no formato YYYY-MM-DD. Domínio: Datas entre 1872-11-30 e a data atual.';\n",
    "\n",
    "ALTER TABLE silver.shootouts CHANGE COLUMN home_team home_team STRING \n",
    "COMMENT 'Nome padronizado da equipe mandante. Domínio: Países conforme tabela silver.results.';\n",
    "\n",
    "ALTER TABLE silver.shootouts CHANGE COLUMN away_team away_team STRING \n",
    "COMMENT 'Nome padronizado da equipe visitante. Domínio: Países conforme tabela silver.results.';\n",
    "\n",
    "ALTER TABLE silver.shootouts CHANGE COLUMN winner winner STRING \n",
    "COMMENT 'Nome padronizado da equipe que venceu a disputa de pênaltis. Pode ser nulo em registros incompletos.';\n",
    "\n",
    "ALTER TABLE silver.shootouts CHANGE COLUMN first_shooter first_shooter STRING \n",
    "COMMENT 'Equipe que iniciou a disputa de pênaltis. Domínio: Nome da equipe ou \"Unknown\" caso não informado.';\n",
    ";"
   ]
  },
  {
   "cell_type": "code",
   "execution_count": 0,
   "metadata": {
    "application/vnd.databricks.v1+cell": {
     "cellMetadata": {
      "byteLimit": 2048000,
      "implicitDf": true,
      "rowLimit": 10000
     },
     "inputWidgets": {},
     "nuid": "b0394799-63d5-499f-9f7a-9e4c9822fdfc",
     "showTitle": false,
     "tableResultSettingsMap": {},
     "title": ""
    }
   },
   "outputs": [
    {
     "output_type": "display_data",
     "data": {
      "text/html": [
       "<style scoped>\n",
       "  .table-result-container {\n",
       "    max-height: 300px;\n",
       "    overflow: auto;\n",
       "  }\n",
       "  table, th, td {\n",
       "    border: 1px solid black;\n",
       "    border-collapse: collapse;\n",
       "  }\n",
       "  th, td {\n",
       "    padding: 5px;\n",
       "  }\n",
       "  th {\n",
       "    text-align: left;\n",
       "  }\n",
       "</style><div class='table-result-container'><table class='table-result'><thead style='background-color: white'><tr><th>col_name</th><th>data_type</th><th>comment</th></tr></thead><tbody><tr><td>match_id</td><td>string</td><td>Código único da partida, vinculado à tabela silver.results. Domínio: Até 100 caracteres.</td></tr><tr><td>match_date</td><td>date</td><td>Data da partida no formato YYYY-MM-DD. Domínio: Datas entre 1872-11-30 e a data atual.</td></tr><tr><td>home_team</td><td>string</td><td>Nome padronizado da equipe mandante. Domínio: Países conforme tabela silver.results.</td></tr><tr><td>away_team</td><td>string</td><td>Nome padronizado da equipe visitante. Domínio: Países conforme tabela silver.results.</td></tr><tr><td>winner</td><td>string</td><td>Nome padronizado da equipe que venceu a disputa de pênaltis. Pode ser nulo em registros incompletos.</td></tr><tr><td>first_shooter</td><td>string</td><td>Equipe que iniciou a disputa de pênaltis. Domínio: Nome da equipe ou \"Unknown\" caso não informado.</td></tr></tbody></table></div>"
      ]
     },
     "metadata": {
      "application/vnd.databricks.v1+output": {
       "addedWidgets": {},
       "aggData": [],
       "aggError": "",
       "aggOverflow": false,
       "aggSchema": [],
       "aggSeriesLimitReached": false,
       "aggType": "",
       "arguments": {},
       "columnCustomDisplayInfos": {},
       "data": [
        [
         "match_id",
         "string",
         "Código único da partida, vinculado à tabela silver.results. Domínio: Até 100 caracteres."
        ],
        [
         "match_date",
         "date",
         "Data da partida no formato YYYY-MM-DD. Domínio: Datas entre 1872-11-30 e a data atual."
        ],
        [
         "home_team",
         "string",
         "Nome padronizado da equipe mandante. Domínio: Países conforme tabela silver.results."
        ],
        [
         "away_team",
         "string",
         "Nome padronizado da equipe visitante. Domínio: Países conforme tabela silver.results."
        ],
        [
         "winner",
         "string",
         "Nome padronizado da equipe que venceu a disputa de pênaltis. Pode ser nulo em registros incompletos."
        ],
        [
         "first_shooter",
         "string",
         "Equipe que iniciou a disputa de pênaltis. Domínio: Nome da equipe ou \"Unknown\" caso não informado."
        ]
       ],
       "datasetInfos": [],
       "dbfsResultPath": null,
       "isJsonSchema": true,
       "metadata": {},
       "overflow": false,
       "plotOptions": {
        "customPlotOptions": {},
        "displayType": "table",
        "pivotAggregation": null,
        "pivotColumns": null,
        "xColumns": null,
        "yColumns": null
       },
       "removedWidgets": [],
       "schema": [
        {
         "metadata": "{\"comment\":\"name of the column\"}",
         "name": "col_name",
         "type": "\"string\""
        },
        {
         "metadata": "{\"comment\":\"data type of the column\"}",
         "name": "data_type",
         "type": "\"string\""
        },
        {
         "metadata": "{\"comment\":\"comment of the column\"}",
         "name": "comment",
         "type": "\"string\""
        }
       ],
       "type": "table"
      }
     },
     "output_type": "display_data"
    }
   ],
   "source": [
    "%sql\n",
    "DESCRIBE TABLE silver.shootouts;"
   ]
  },
  {
   "cell_type": "markdown",
   "metadata": {
    "application/vnd.databricks.v1+cell": {
     "cellMetadata": {
      "byteLimit": 2048000,
      "rowLimit": 10000
     },
     "inputWidgets": {},
     "nuid": "c41d333c-7468-43db-932b-b6a06a81a9e4",
     "showTitle": false,
     "tableResultSettingsMap": {},
     "title": ""
    }
   },
   "source": [
    "### 4.2.4 Tabela Goalscorers\n",
    "A tabela silver.goalscorers armazena os detalhes dos gols marcados em partidas internacionais. Os dados foram extraídos da camada bronze.goalscorers e passaram por diversas transformações para garantir qualidade e padronização. Os nomes históricos das seleções (colunas team, home_team e away_team) foram padronizados por meio da tabela de correspondência silver.former_names, assegurando consistência com as tabelas da camada Silver. O campo scorer foi preenchido com o valor 'Unknown' nos casos de ausência, garantindo que não existam nulos nessa coluna. O mesmo foi feito para o campo minute, que indica o momento do gol, cujo valor ausente também foi substituído por 'Unknown'. Os campos own_goal e penalty, que indicam respectivamente se o gol foi contra ou de pênalti, foram convertidos explicitamente para o tipo booleano. Para relacionar cada registro de gol com o respectivo jogo, foi realizada uma junção com a tabela silver.results, com base nas colunas home_team, away_team e match_date. Essa etapa foi essencial para incluir o identificador único da partida (match_id), permitindo que os dados sejam analisados no contexto do jogo."
   ]
  },
  {
   "cell_type": "code",
   "execution_count": 0,
   "metadata": {
    "application/vnd.databricks.v1+cell": {
     "cellMetadata": {
      "byteLimit": 2048000,
      "implicitDf": true,
      "rowLimit": 10000
     },
     "inputWidgets": {},
     "nuid": "ba7364d0-eebf-4818-85ce-a1dec3922fe2",
     "showTitle": false,
     "tableResultSettingsMap": {},
     "title": ""
    }
   },
   "outputs": [
    {
     "output_type": "display_data",
     "data": {
      "text/html": [
       "<style scoped>\n",
       "  .table-result-container {\n",
       "    max-height: 300px;\n",
       "    overflow: auto;\n",
       "  }\n",
       "  table, th, td {\n",
       "    border: 1px solid black;\n",
       "    border-collapse: collapse;\n",
       "  }\n",
       "  th, td {\n",
       "    padding: 5px;\n",
       "  }\n",
       "  th {\n",
       "    text-align: left;\n",
       "  }\n",
       "</style><div class='table-result-container'><table class='table-result'><thead style='background-color: white'><tr><th>num_affected_rows</th><th>num_inserted_rows</th></tr></thead><tbody></tbody></table></div>"
      ]
     },
     "metadata": {
      "application/vnd.databricks.v1+output": {
       "addedWidgets": {},
       "aggData": [],
       "aggError": "",
       "aggOverflow": false,
       "aggSchema": [],
       "aggSeriesLimitReached": false,
       "aggType": "",
       "arguments": {},
       "columnCustomDisplayInfos": {},
       "data": [],
       "datasetInfos": [],
       "dbfsResultPath": null,
       "isJsonSchema": true,
       "metadata": {},
       "overflow": false,
       "plotOptions": {
        "customPlotOptions": {},
        "displayType": "table",
        "pivotAggregation": null,
        "pivotColumns": null,
        "xColumns": null,
        "yColumns": null
       },
       "removedWidgets": [],
       "schema": [
        {
         "metadata": "{}",
         "name": "num_affected_rows",
         "type": "\"long\""
        },
        {
         "metadata": "{}",
         "name": "num_inserted_rows",
         "type": "\"long\""
        }
       ],
       "type": "table"
      }
     },
     "output_type": "display_data"
    }
   ],
   "source": [
    "%sql\n",
    "CREATE OR REPLACE TABLE silver.goalscorers AS\n",
    "SELECT \n",
    "  r.match_id,  \n",
    "  date(g.date) AS match_date,\n",
    "  g.team AS scoring_team,\n",
    "  g.home_team AS home_team,\n",
    "  g.away_team AS away_team,\n",
    "  COALESCE(g.scorer, 'Unknown') AS scorer,\n",
    "  COALESCE(g.minute, 'Unknown') AS minute,\n",
    "  CAST(g.own_goal AS BOOLEAN) AS is_own_goal,\n",
    "  CAST(g.penalty AS BOOLEAN) AS is_penalty\n",
    "FROM (\n",
    "  SELECT\n",
    "    g.date,\n",
    "    COALESCE(fn_team.current, g.team) AS team,\n",
    "    COALESCE(fn_home.current, g.home_team) AS home_team,\n",
    "    COALESCE(fn_away.current, g.away_team) AS away_team,\n",
    "    g.scorer,\n",
    "    g.minute,\n",
    "    g.own_goal,\n",
    "    g.penalty\n",
    "  FROM bronze.goalscorers g\n",
    "  LEFT JOIN silver.former_names fn_team \n",
    "    ON g.team = fn_team.former\n",
    "  LEFT JOIN silver.former_names fn_home \n",
    "    ON g.home_team = fn_home.former\n",
    "  LEFT JOIN silver.former_names fn_away \n",
    "    ON g.away_team = fn_away.former\n",
    ") g\n",
    "LEFT JOIN silver.results r\n",
    "  ON r.home_team = g.home_team\n",
    "  AND r.away_team = g.away_team\n",
    "  AND r.match_date = date(g.date);\n",
    "\n"
   ]
  },
  {
   "cell_type": "markdown",
   "metadata": {
    "application/vnd.databricks.v1+cell": {
     "cellMetadata": {
      "byteLimit": 2048000,
      "rowLimit": 10000
     },
     "inputWidgets": {},
     "nuid": "33597c7e-ca62-459a-bd0a-06f445c7d926",
     "showTitle": false,
     "tableResultSettingsMap": {},
     "title": ""
    }
   },
   "source": [
    "As transformações são validadas."
   ]
  },
  {
   "cell_type": "code",
   "execution_count": 0,
   "metadata": {
    "application/vnd.databricks.v1+cell": {
     "cellMetadata": {
      "byteLimit": 2048000,
      "implicitDf": true,
      "rowLimit": 10000
     },
     "inputWidgets": {},
     "nuid": "a066b342-e4d3-41c3-b269-556042b7e9ce",
     "showTitle": false,
     "tableResultSettingsMap": {},
     "title": ""
    }
   },
   "outputs": [
    {
     "output_type": "display_data",
     "data": {
      "text/html": [
       "<style scoped>\n",
       "  .table-result-container {\n",
       "    max-height: 300px;\n",
       "    overflow: auto;\n",
       "  }\n",
       "  table, th, td {\n",
       "    border: 1px solid black;\n",
       "    border-collapse: collapse;\n",
       "  }\n",
       "  th, td {\n",
       "    padding: 5px;\n",
       "  }\n",
       "  th {\n",
       "    text-align: left;\n",
       "  }\n",
       "</style><div class='table-result-container'><table class='table-result'><thead style='background-color: white'><tr><th>total_records</th><th>unique_goals</th><th>source_count</th><th>null_match_id</th><th>null_dates</th><th>null_teams</th><th>null_home_away_teams</th><th>null_scorers</th><th>null_minutes</th><th>null_own_goal</th><th>null_penalty</th><th>basic_validation</th><th>uniqueness_validation</th><th>count_validation</th></tr></thead><tbody><tr><td>44362</td><td>44271</td><td>44362</td><td>3</td><td>0</td><td>0</td><td>0</td><td>0</td><td>0</td><td>0</td><td>0</td><td>❌ Problemas encontrados nos dados</td><td>❌ Possíveis duplicidades de gols detectadas</td><td>✅ Volume consistente com a fonte</td></tr></tbody></table></div>"
      ]
     },
     "metadata": {
      "application/vnd.databricks.v1+output": {
       "addedWidgets": {},
       "aggData": [],
       "aggError": "",
       "aggOverflow": false,
       "aggSchema": [],
       "aggSeriesLimitReached": false,
       "aggType": "",
       "arguments": {},
       "columnCustomDisplayInfos": {},
       "data": [
        [
         44362,
         44271,
         44362,
         3,
         0,
         0,
         0,
         0,
         0,
         0,
         0,
         "❌ Problemas encontrados nos dados",
         "❌ Possíveis duplicidades de gols detectadas",
         "✅ Volume consistente com a fonte"
        ]
       ],
       "datasetInfos": [],
       "dbfsResultPath": null,
       "isJsonSchema": true,
       "metadata": {},
       "overflow": false,
       "plotOptions": {
        "customPlotOptions": {},
        "displayType": "table",
        "pivotAggregation": null,
        "pivotColumns": null,
        "xColumns": null,
        "yColumns": null
       },
       "removedWidgets": [],
       "schema": [
        {
         "metadata": "{}",
         "name": "total_records",
         "type": "\"long\""
        },
        {
         "metadata": "{}",
         "name": "unique_goals",
         "type": "\"long\""
        },
        {
         "metadata": "{}",
         "name": "source_count",
         "type": "\"long\""
        },
        {
         "metadata": "{}",
         "name": "null_match_id",
         "type": "\"long\""
        },
        {
         "metadata": "{}",
         "name": "null_dates",
         "type": "\"long\""
        },
        {
         "metadata": "{}",
         "name": "null_teams",
         "type": "\"long\""
        },
        {
         "metadata": "{}",
         "name": "null_home_away_teams",
         "type": "\"long\""
        },
        {
         "metadata": "{}",
         "name": "null_scorers",
         "type": "\"long\""
        },
        {
         "metadata": "{}",
         "name": "null_minutes",
         "type": "\"long\""
        },
        {
         "metadata": "{}",
         "name": "null_own_goal",
         "type": "\"long\""
        },
        {
         "metadata": "{}",
         "name": "null_penalty",
         "type": "\"long\""
        },
        {
         "metadata": "{}",
         "name": "basic_validation",
         "type": "\"string\""
        },
        {
         "metadata": "{}",
         "name": "uniqueness_validation",
         "type": "\"string\""
        },
        {
         "metadata": "{}",
         "name": "count_validation",
         "type": "\"string\""
        }
       ],
       "type": "table"
      }
     },
     "output_type": "display_data"
    }
   ],
   "source": [
    "%sql\n",
    "WITH checks AS (\n",
    "  SELECT\n",
    "    COUNT(*) AS total_records,\n",
    "\n",
    "    -- Verificações de campos obrigatórios\n",
    "    SUM(CASE WHEN match_id IS NULL OR match_id = '' THEN 1 ELSE 0 END) AS null_match_id,\n",
    "    SUM(CASE WHEN match_date IS NULL THEN 1 ELSE 0 END) AS null_dates,\n",
    "    SUM(CASE WHEN scoring_team IS NULL THEN 1 ELSE 0 END) AS null_teams,\n",
    "    SUM(CASE WHEN home_team IS NULL OR away_team IS NULL THEN 1 ELSE 0 END) AS null_home_away_teams,\n",
    "    SUM(CASE WHEN scorer IS NULL THEN 1 ELSE 0 END) AS null_scorers,\n",
    "    SUM(CASE WHEN minute IS NULL THEN 1 ELSE 0 END) AS null_minutes,\n",
    "\n",
    "    -- Verificações de tipos booleanos\n",
    "    SUM(CASE WHEN is_own_goal IS NULL THEN 1 ELSE 0 END) AS null_own_goal,\n",
    "    SUM(CASE WHEN is_penalty IS NULL THEN 1 ELSE 0 END) AS null_penalty,\n",
    "\n",
    "    -- Contagem distinta de match_id + scorer + minute (como proxy de unicidade)\n",
    "    COUNT(DISTINCT CONCAT(match_id, scorer, minute)) AS unique_goals,\n",
    "\n",
    "    -- Total da fonte\n",
    "    (SELECT COUNT(*) FROM bronze.goalscorers) AS source_count\n",
    "\n",
    "  FROM silver.goalscorers\n",
    ")\n",
    "\n",
    "SELECT\n",
    "  total_records,\n",
    "  unique_goals,\n",
    "  source_count,\n",
    "  null_match_id,\n",
    "  null_dates,\n",
    "  null_teams,\n",
    "  null_home_away_teams,\n",
    "  null_scorers,\n",
    "  null_minutes,\n",
    "  null_own_goal,\n",
    "  null_penalty,\n",
    "\n",
    "  -- Validação de integridade\n",
    "  CASE\n",
    "    WHEN null_match_id = 0 AND null_dates = 0 AND null_teams = 0 \n",
    "         AND null_home_away_teams = 0 AND null_scorers = 0 AND null_minutes = 0\n",
    "         AND null_own_goal = 0 AND null_penalty = 0\n",
    "    THEN '✅ Validações básicas passaram'\n",
    "    ELSE '❌ Problemas encontrados nos dados'\n",
    "  END AS basic_validation,\n",
    "\n",
    "  -- Verificação de duplicidade de gols\n",
    "  CASE\n",
    "    WHEN total_records = unique_goals\n",
    "    THEN '✅ Nenhuma duplicidade detectada (match_id + scorer + minute)'\n",
    "    ELSE '❌ Possíveis duplicidades de gols detectadas'\n",
    "  END AS uniqueness_validation,\n",
    "\n",
    "  -- Verificação de volume\n",
    "  CASE\n",
    "    WHEN total_records = source_count\n",
    "    THEN '✅ Volume consistente com a fonte'\n",
    "    ELSE '❌ Divergência na contagem de registros'\n",
    "  END AS count_validation\n",
    "\n",
    "FROM checks;\n"
   ]
  },
  {
   "cell_type": "markdown",
   "metadata": {
    "application/vnd.databricks.v1+cell": {
     "cellMetadata": {},
     "inputWidgets": {},
     "nuid": "87b0e96e-eb5b-446a-a507-2b95032ed8b5",
     "showTitle": false,
     "tableResultSettingsMap": {},
     "title": ""
    }
   },
   "source": [
    "Durante o processo de validação da tabela silver.goalscorers, foram identificadas duas inconsistências principais que exigem uma análise mais aprofundada. A primeira refere-se à presença de registros com valores nulos na coluna match_id, o que pode indicar falhas no cruzamento entre os dados de artilheiros e os resultados das partidas."
   ]
  },
  {
   "cell_type": "code",
   "execution_count": 0,
   "metadata": {
    "application/vnd.databricks.v1+cell": {
     "cellMetadata": {
      "byteLimit": 2048000,
      "implicitDf": true,
      "rowLimit": 10000
     },
     "inputWidgets": {},
     "nuid": "41fe69ae-c788-4e1e-bd15-797a09f959e2",
     "showTitle": false,
     "tableResultSettingsMap": {},
     "title": ""
    }
   },
   "outputs": [
    {
     "output_type": "display_data",
     "data": {
      "text/html": [
       "<style scoped>\n",
       "  .table-result-container {\n",
       "    max-height: 300px;\n",
       "    overflow: auto;\n",
       "  }\n",
       "  table, th, td {\n",
       "    border: 1px solid black;\n",
       "    border-collapse: collapse;\n",
       "  }\n",
       "  th, td {\n",
       "    padding: 5px;\n",
       "  }\n",
       "  th {\n",
       "    text-align: left;\n",
       "  }\n",
       "</style><div class='table-result-container'><table class='table-result'><thead style='background-color: white'><tr><th>match_date</th><th>home_team</th><th>away_team</th><th>match_id</th><th>tournament</th><th>city</th><th>country</th></tr></thead><tbody><tr><td>1922-10-12</td><td>Paraguay</td><td>Uruguay</td><td>1922-10-12_Paraguay_Uruguay_1_0</td><td>Copa América</td><td>Rio de Janeiro</td><td>Brazil</td></tr><tr><td>1922-10-15</td><td>Brazil</td><td>Argentina</td><td>1922-10-15_Brazil_Argentina_2_0</td><td>Copa América</td><td>Rio de Janeiro</td><td>Brazil</td></tr><tr><td>1922-10-18</td><td>Argentina</td><td>Paraguay</td><td>1922-10-18_Argentina_Paraguay_2_0</td><td>Copa América</td><td>Rio de Janeiro</td><td>Brazil</td></tr><tr><td>1922-10-21</td><td>England</td><td>Northern Ireland</td><td>1922-10-21_England_Northern Ireland_2_0</td><td>British Home Championship</td><td>West Bromwich</td><td>England</td></tr><tr><td>1922-10-22</td><td>Argentina</td><td>Chile</td><td>1922-10-22_Argentina_Chile_1_0</td><td>Friendly</td><td>Buenos Aires</td><td>Argentina</td></tr><tr><td>1922-10-22</td><td>Brazil</td><td>Argentina</td><td>1922-10-22_Brazil_Argentina_2_1</td><td>Copa Roca</td><td>São Paulo</td><td>Brazil</td></tr><tr><td>1922-10-29</td><td>Brazil</td><td>Paraguay</td><td>1922-10-29_Brazil_Paraguay_3_1</td><td>Friendly</td><td>São Paulo</td><td>Brazil</td></tr><tr><td>1922-11-06</td><td>Brazil</td><td>Paraguay</td><td>1922-11-06_Brazil_Paraguay_3_0</td><td>Copa América</td><td>Rio de Janeiro</td><td>Brazil</td></tr><tr><td>1922-11-12</td><td>Uruguay</td><td>Argentina</td><td>1922-11-12_Uruguay_Argentina_1_0</td><td>Copa Lipton</td><td>Montevideo</td><td>Uruguay</td></tr><tr><td>1922-11-19</td><td>Switzerland</td><td>Netherlands</td><td>1922-11-19_Switzerland_Netherlands_5_0</td><td>Friendly</td><td>Bern</td><td>Switzerland</td></tr><tr><td>1922-11-19</td><td>Galicia</td><td>Central Spain</td><td>1922-11-19_Galicia_Central Spain_4_1</td><td>Friendly</td><td>Vigo</td><td>Spain</td></tr></tbody></table></div>"
      ]
     },
     "metadata": {
      "application/vnd.databricks.v1+output": {
       "addedWidgets": {},
       "aggData": [],
       "aggError": "",
       "aggOverflow": false,
       "aggSchema": [],
       "aggSeriesLimitReached": false,
       "aggType": "",
       "arguments": {},
       "columnCustomDisplayInfos": {},
       "data": [
        [
         "1922-10-12",
         "Paraguay",
         "Uruguay",
         "1922-10-12_Paraguay_Uruguay_1_0",
         "Copa América",
         "Rio de Janeiro",
         "Brazil"
        ],
        [
         "1922-10-15",
         "Brazil",
         "Argentina",
         "1922-10-15_Brazil_Argentina_2_0",
         "Copa América",
         "Rio de Janeiro",
         "Brazil"
        ],
        [
         "1922-10-18",
         "Argentina",
         "Paraguay",
         "1922-10-18_Argentina_Paraguay_2_0",
         "Copa América",
         "Rio de Janeiro",
         "Brazil"
        ],
        [
         "1922-10-21",
         "England",
         "Northern Ireland",
         "1922-10-21_England_Northern Ireland_2_0",
         "British Home Championship",
         "West Bromwich",
         "England"
        ],
        [
         "1922-10-22",
         "Argentina",
         "Chile",
         "1922-10-22_Argentina_Chile_1_0",
         "Friendly",
         "Buenos Aires",
         "Argentina"
        ],
        [
         "1922-10-22",
         "Brazil",
         "Argentina",
         "1922-10-22_Brazil_Argentina_2_1",
         "Copa Roca",
         "São Paulo",
         "Brazil"
        ],
        [
         "1922-10-29",
         "Brazil",
         "Paraguay",
         "1922-10-29_Brazil_Paraguay_3_1",
         "Friendly",
         "São Paulo",
         "Brazil"
        ],
        [
         "1922-11-06",
         "Brazil",
         "Paraguay",
         "1922-11-06_Brazil_Paraguay_3_0",
         "Copa América",
         "Rio de Janeiro",
         "Brazil"
        ],
        [
         "1922-11-12",
         "Uruguay",
         "Argentina",
         "1922-11-12_Uruguay_Argentina_1_0",
         "Copa Lipton",
         "Montevideo",
         "Uruguay"
        ],
        [
         "1922-11-19",
         "Switzerland",
         "Netherlands",
         "1922-11-19_Switzerland_Netherlands_5_0",
         "Friendly",
         "Bern",
         "Switzerland"
        ],
        [
         "1922-11-19",
         "Galicia",
         "Central Spain",
         "1922-11-19_Galicia_Central Spain_4_1",
         "Friendly",
         "Vigo",
         "Spain"
        ]
       ],
       "datasetInfos": [],
       "dbfsResultPath": null,
       "isJsonSchema": true,
       "metadata": {},
       "overflow": false,
       "plotOptions": {
        "customPlotOptions": {},
        "displayType": "table",
        "pivotAggregation": null,
        "pivotColumns": null,
        "xColumns": null,
        "yColumns": null
       },
       "removedWidgets": [],
       "schema": [
        {
         "metadata": "{\"comment\":\"Data da partida no formato YYYY-MM-DD. Domínio: Datas entre 1872-11-30 (primeiro jogo internacional) e a data atual.\"}",
         "name": "match_date",
         "type": "\"date\""
        },
        {
         "metadata": "{\"comment\":\"Nome do time da casa padronizado. Domínio: Valores da tabela silver.teams (ex: \\\"Brazil\\\", \\\"Germany\\\").\"}",
         "name": "home_team",
         "type": "\"string\""
        },
        {
         "metadata": "{\"comment\":\"Nome do time visitante padronizado. Domínio: Valores da tabela silver.teams.\"}",
         "name": "away_team",
         "type": "\"string\""
        },
        {
         "metadata": "{\"comment\":\"Código único de identificação da partida. Formato: YYYY-MM-DD_HomeTeam_AwayTeam_HomeScore_AwayScore.\"}",
         "name": "match_id",
         "type": "\"string\""
        },
        {
         "metadata": "{\"comment\":\"Nome do torneio sem formatação adicional. Domínio: Texto livre (ex: \\\"FIFA World Cup\\\", \\\"Copa América\\\").\"}",
         "name": "tournament",
         "type": "\"string\""
        },
        {
         "metadata": "{\"comment\":\"Cidade onde a partida foi realizada. Domínio: Texto livre (ex: \\\"Rio de Janeiro\\\", \\\"Berlin\\\").\"}",
         "name": "city",
         "type": "\"string\""
        },
        {
         "metadata": "{\"comment\":\"País onde a partida foi realizada. Domínio: Nomes de países ISO 3166 (ex: \\\"Brazil\\\", \\\"Spain\\\").\"}",
         "name": "country",
         "type": "\"string\""
        }
       ],
       "type": "table"
      }
     },
     "output_type": "display_data"
    }
   ],
   "source": [
    "%sql\n",
    "-- Verifica se existem partidas na silver.results entre 10 de outbro e 22 de novembro de 1922\n",
    "SELECT \n",
    "  match_date,\n",
    "  home_team,\n",
    "  away_team,\n",
    "  match_id,\n",
    "  tournament,\n",
    "  city,\n",
    "  country\n",
    "FROM silver.results\n",
    "WHERE match_date BETWEEN DATE('1922-10-10') AND DATE('1922-11-22')\n",
    "ORDER BY match_date;\n"
   ]
  },
  {
   "cell_type": "code",
   "execution_count": 0,
   "metadata": {
    "application/vnd.databricks.v1+cell": {
     "cellMetadata": {
      "byteLimit": 2048000,
      "implicitDf": true,
      "rowLimit": 10000
     },
     "inputWidgets": {},
     "nuid": "77cf71f4-8df1-4f4a-bd7f-6a62e8be764f",
     "showTitle": false,
     "tableResultSettingsMap": {},
     "title": ""
    }
   },
   "outputs": [
    {
     "output_type": "display_data",
     "data": {
      "text/html": [
       "<style scoped>\n",
       "  .table-result-container {\n",
       "    max-height: 300px;\n",
       "    overflow: auto;\n",
       "  }\n",
       "  table, th, td {\n",
       "    border: 1px solid black;\n",
       "    border-collapse: collapse;\n",
       "  }\n",
       "  th, td {\n",
       "    padding: 5px;\n",
       "  }\n",
       "  th {\n",
       "    text-align: left;\n",
       "  }\n",
       "</style><div class='table-result-container'><table class='table-result'><thead style='background-color: white'><tr><th>num_affected_rows</th><th>num_inserted_rows</th></tr></thead><tbody></tbody></table></div>"
      ]
     },
     "metadata": {
      "application/vnd.databricks.v1+output": {
       "addedWidgets": {},
       "aggData": [],
       "aggError": "",
       "aggOverflow": false,
       "aggSchema": [],
       "aggSeriesLimitReached": false,
       "aggType": "",
       "arguments": {},
       "columnCustomDisplayInfos": {},
       "data": [],
       "datasetInfos": [],
       "dbfsResultPath": null,
       "isJsonSchema": true,
       "metadata": {},
       "overflow": false,
       "plotOptions": {
        "customPlotOptions": {},
        "displayType": "table",
        "pivotAggregation": null,
        "pivotColumns": null,
        "xColumns": null,
        "yColumns": null
       },
       "removedWidgets": [],
       "schema": [
        {
         "metadata": "{}",
         "name": "num_affected_rows",
         "type": "\"long\""
        },
        {
         "metadata": "{}",
         "name": "num_inserted_rows",
         "type": "\"long\""
        }
       ],
       "type": "table"
      }
     },
     "output_type": "display_data"
    }
   ],
   "source": [
    "%sql\n",
    "CREATE OR REPLACE TABLE silver.goalscorers AS\n",
    "SELECT \n",
    "  r.match_id,  \n",
    "  r.match_date,  -- Agora usamos a data da tabela results para garantir alinhamento\n",
    "  g.team AS scoring_team,\n",
    "  g.home_team,\n",
    "  g.away_team,\n",
    "  COALESCE(g.scorer, 'Unknown') AS scorer,\n",
    "  COALESCE(g.minute, 'Unknown') AS minute,\n",
    "  CAST(g.own_goal AS BOOLEAN) AS is_own_goal,\n",
    "  CAST(g.penalty AS BOOLEAN) AS is_penalty\n",
    "FROM (\n",
    "  SELECT\n",
    "    -- Substitui a data incorreta manualmente com base em match_date correto da silver.results\n",
    "    CASE \n",
    "      WHEN g.date = '1922-10-22' \n",
    "           AND g.home_team = 'Brazil' AND g.away_team = 'Paraguay'\n",
    "      THEN '1922-11-06'\n",
    "      ELSE g.date\n",
    "    END AS date,\n",
    "    COALESCE(fn_team.current, g.team) AS team,\n",
    "    COALESCE(fn_home.current, g.home_team) AS home_team,\n",
    "    COALESCE(fn_away.current, g.away_team) AS away_team,\n",
    "    g.scorer,\n",
    "    g.minute,\n",
    "    g.own_goal,\n",
    "    g.penalty\n",
    "  FROM bronze.goalscorers g\n",
    "  LEFT JOIN silver.former_names fn_team \n",
    "    ON g.team = fn_team.former\n",
    "  LEFT JOIN silver.former_names fn_home \n",
    "    ON g.home_team = fn_home.former\n",
    "  LEFT JOIN silver.former_names fn_away \n",
    "    ON g.away_team = fn_away.former\n",
    ") g\n",
    "LEFT JOIN silver.results r\n",
    "  ON r.home_team = g.home_team\n",
    "  AND r.away_team = g.away_team\n",
    "  AND r.match_date = date(g.date);\n"
   ]
  },
  {
   "cell_type": "markdown",
   "metadata": {
    "application/vnd.databricks.v1+cell": {
     "cellMetadata": {},
     "inputWidgets": {},
     "nuid": "037d0ea2-9c80-4c54-9803-a21d7cb74312",
     "showTitle": false,
     "tableResultSettingsMap": {},
     "title": ""
    }
   },
   "source": [
    "Verifica a correção."
   ]
  },
  {
   "cell_type": "code",
   "execution_count": 0,
   "metadata": {
    "application/vnd.databricks.v1+cell": {
     "cellMetadata": {
      "byteLimit": 2048000,
      "implicitDf": true,
      "rowLimit": 10000
     },
     "inputWidgets": {},
     "nuid": "e4b05e8a-f0f1-449c-9515-4271f7ab0a4a",
     "showTitle": false,
     "tableResultSettingsMap": {},
     "title": ""
    }
   },
   "outputs": [
    {
     "output_type": "display_data",
     "data": {
      "text/html": [
       "<style scoped>\n",
       "  .table-result-container {\n",
       "    max-height: 300px;\n",
       "    overflow: auto;\n",
       "  }\n",
       "  table, th, td {\n",
       "    border: 1px solid black;\n",
       "    border-collapse: collapse;\n",
       "  }\n",
       "  th, td {\n",
       "    padding: 5px;\n",
       "  }\n",
       "  th {\n",
       "    text-align: left;\n",
       "  }\n",
       "</style><div class='table-result-container'><table class='table-result'><thead style='background-color: white'><tr><th>match_id</th><th>match_date</th><th>scoring_team</th><th>home_team</th><th>away_team</th><th>scorer</th><th>minute</th><th>is_own_goal</th><th>is_penalty</th></tr></thead><tbody><tr><td>1922-11-06_Brazil_Paraguay_3_0</td><td>1922-11-06</td><td>Brazil</td><td>Brazil</td><td>Paraguay</td><td>Neco</td><td>11.0</td><td>false</td><td>false</td></tr><tr><td>1922-11-06_Brazil_Paraguay_3_0</td><td>1922-11-06</td><td>Brazil</td><td>Brazil</td><td>Paraguay</td><td>Xavier Camargo</td><td>48.0</td><td>false</td><td>false</td></tr><tr><td>1922-11-06_Brazil_Paraguay_3_0</td><td>1922-11-06</td><td>Brazil</td><td>Brazil</td><td>Paraguay</td><td>Xavier Camargo</td><td>89.0</td><td>false</td><td>false</td></tr></tbody></table></div>"
      ]
     },
     "metadata": {
      "application/vnd.databricks.v1+output": {
       "addedWidgets": {},
       "aggData": [],
       "aggError": "",
       "aggOverflow": false,
       "aggSchema": [],
       "aggSeriesLimitReached": false,
       "aggType": "",
       "arguments": {},
       "columnCustomDisplayInfos": {},
       "data": [
        [
         "1922-11-06_Brazil_Paraguay_3_0",
         "1922-11-06",
         "Brazil",
         "Brazil",
         "Paraguay",
         "Neco",
         "11.0",
         false,
         false
        ],
        [
         "1922-11-06_Brazil_Paraguay_3_0",
         "1922-11-06",
         "Brazil",
         "Brazil",
         "Paraguay",
         "Xavier Camargo",
         "48.0",
         false,
         false
        ],
        [
         "1922-11-06_Brazil_Paraguay_3_0",
         "1922-11-06",
         "Brazil",
         "Brazil",
         "Paraguay",
         "Xavier Camargo",
         "89.0",
         false,
         false
        ]
       ],
       "datasetInfos": [],
       "dbfsResultPath": null,
       "isJsonSchema": true,
       "metadata": {},
       "overflow": false,
       "plotOptions": {
        "customPlotOptions": {},
        "displayType": "table",
        "pivotAggregation": null,
        "pivotColumns": null,
        "xColumns": null,
        "yColumns": null
       },
       "removedWidgets": [],
       "schema": [
        {
         "metadata": "{\"comment\":\"Código único de identificação da partida. Formato: YYYY-MM-DD_HomeTeam_AwayTeam_HomeScore_AwayScore.\"}",
         "name": "match_id",
         "type": "\"string\""
        },
        {
         "metadata": "{\"comment\":\"Data da partida no formato YYYY-MM-DD. Domínio: Datas entre 1872-11-30 (primeiro jogo internacional) e a data atual.\"}",
         "name": "match_date",
         "type": "\"date\""
        },
        {
         "metadata": "{}",
         "name": "scoring_team",
         "type": "\"string\""
        },
        {
         "metadata": "{}",
         "name": "home_team",
         "type": "\"string\""
        },
        {
         "metadata": "{}",
         "name": "away_team",
         "type": "\"string\""
        },
        {
         "metadata": "{}",
         "name": "scorer",
         "type": "\"string\""
        },
        {
         "metadata": "{}",
         "name": "minute",
         "type": "\"string\""
        },
        {
         "metadata": "{}",
         "name": "is_own_goal",
         "type": "\"boolean\""
        },
        {
         "metadata": "{}",
         "name": "is_penalty",
         "type": "\"boolean\""
        }
       ],
       "type": "table"
      }
     },
     "output_type": "display_data"
    }
   ],
   "source": [
    "%sql\n",
    "-- Verifica se os registros corrigidos agora estão com a data 1922-11-06\n",
    "SELECT *\n",
    "FROM silver.goalscorers\n",
    "WHERE match_date = '1922-11-06'\n",
    "  AND home_team = 'Brazil'\n",
    "  AND away_team = 'Paraguay'\n",
    "ORDER BY minute;\n"
   ]
  },
  {
   "cell_type": "markdown",
   "metadata": {
    "application/vnd.databricks.v1+cell": {
     "cellMetadata": {},
     "inputWidgets": {},
     "nuid": "e47c96a9-d1c5-4849-91e6-7f9141fcd6c4",
     "showTitle": false,
     "tableResultSettingsMap": {},
     "title": ""
    }
   },
   "source": [
    "A segunda inconsistência envolve possíveis duplicidades na combinação de campos que caracterizam um gol em uma partida, como o jogador, minuto, time e tipo de gol. Essas duplicidades podem indicar erros na ingestão ou representar situações válidas que precisam ser avaliadas com atenção antes de qualquer tratamento.\n",
    "A seguir, são identificadas as duplicidades."
   ]
  },
  {
   "cell_type": "code",
   "execution_count": 0,
   "metadata": {
    "application/vnd.databricks.v1+cell": {
     "cellMetadata": {
      "byteLimit": 2048000,
      "implicitDf": true,
      "rowLimit": 10000
     },
     "inputWidgets": {},
     "nuid": "b96e79ae-66b2-4741-bad4-5d3cbd86d2a3",
     "showTitle": false,
     "tableResultSettingsMap": {},
     "title": ""
    }
   },
   "outputs": [
    {
     "output_type": "display_data",
     "data": {
      "text/html": [
       "<style scoped>\n",
       "  .table-result-container {\n",
       "    max-height: 300px;\n",
       "    overflow: auto;\n",
       "  }\n",
       "  table, th, td {\n",
       "    border: 1px solid black;\n",
       "    border-collapse: collapse;\n",
       "  }\n",
       "  th, td {\n",
       "    padding: 5px;\n",
       "  }\n",
       "  th {\n",
       "    text-align: left;\n",
       "  }\n",
       "</style><div class='table-result-container'><table class='table-result'><thead style='background-color: white'><tr><th>match_id</th><th>scoring_team</th><th>scorer</th><th>minute</th><th>is_own_goal</th><th>is_penalty</th><th>count</th><th>match_date</th><th>home_team</th><th>away_team</th></tr></thead><tbody><tr><td>1963-11-26_Ghana_Ethiopia_2_0</td><td>Ghana</td><td>Edward Acquah</td><td>Unknown</td><td>false</td><td>false</td><td>2</td><td>1963-11-26</td><td>Ghana</td><td>Ethiopia</td></tr><tr><td>1963-11-26_Ghana_Ethiopia_2_0</td><td>Ghana</td><td>Edward Acquah</td><td>Unknown</td><td>false</td><td>false</td><td>2</td><td>1963-11-26</td><td>Ghana</td><td>Ethiopia</td></tr><tr><td>1963-11-28_Ethiopia_Tunisia_4_2</td><td>Ethiopia</td><td>Mengistu Worku</td><td>Unknown</td><td>false</td><td>false</td><td>2</td><td>1963-11-28</td><td>Ethiopia</td><td>Tunisia</td></tr><tr><td>1963-11-28_Nigeria_Sudan_0_4</td><td>Sudan</td><td>Nasr Eddin Abbas</td><td>Unknown</td><td>false</td><td>false</td><td>2</td><td>1963-11-28</td><td>Nigeria</td><td>Sudan</td></tr><tr><td>1963-11-28_Ethiopia_Tunisia_4_2</td><td>Ethiopia</td><td>Mengistu Worku</td><td>Unknown</td><td>false</td><td>false</td><td>2</td><td>1963-11-28</td><td>Ethiopia</td><td>Tunisia</td></tr><tr><td>1963-11-28_Nigeria_Sudan_0_4</td><td>Sudan</td><td>Nasr Eddin Abbas</td><td>Unknown</td><td>false</td><td>false</td><td>2</td><td>1963-11-28</td><td>Nigeria</td><td>Sudan</td></tr><tr><td>1965-03-14_Suriname_Trinidad and Tobago_6_1</td><td>Suriname</td><td>Edmund Waterval</td><td>Unknown</td><td>false</td><td>false</td><td>2</td><td>1965-03-14</td><td>Suriname</td><td>Trinidad and Tobago</td></tr><tr><td>1965-03-14_Suriname_Trinidad and Tobago_6_1</td><td>Suriname</td><td>Edmund Waterval</td><td>Unknown</td><td>false</td><td>false</td><td>2</td><td>1965-03-14</td><td>Suriname</td><td>Trinidad and Tobago</td></tr><tr><td>1968-01-16_Congo_Ghana_1_3</td><td>Ghana</td><td>Osei Kofi</td><td>Unknown</td><td>false</td><td>false</td><td>2</td><td>1968-01-16</td><td>Congo</td><td>Ghana</td></tr><tr><td>1968-01-16_Congo_Ghana_1_3</td><td>Ghana</td><td>Osei Kofi</td><td>Unknown</td><td>false</td><td>false</td><td>2</td><td>1968-01-16</td><td>Congo</td><td>Ghana</td></tr><tr><td>1968-01-19_Ghana_Ivory Coast_4_3</td><td>Ghana</td><td>Wilberforce Mfum</td><td>Unknown</td><td>false</td><td>false</td><td>2</td><td>1968-01-19</td><td>Ghana</td><td>Ivory Coast</td></tr><tr><td>1968-01-19_Ghana_Ivory Coast_4_3</td><td>Ivory Coast</td><td>Laurent Pokou</td><td>Unknown</td><td>false</td><td>false</td><td>2</td><td>1968-01-19</td><td>Ghana</td><td>Ivory Coast</td></tr><tr><td>1968-01-19_Ghana_Ivory Coast_4_3</td><td>Ghana</td><td>Wilberforce Mfum</td><td>Unknown</td><td>false</td><td>false</td><td>2</td><td>1968-01-19</td><td>Ghana</td><td>Ivory Coast</td></tr><tr><td>1968-01-19_Ghana_Ivory Coast_4_3</td><td>Ivory Coast</td><td>Laurent Pokou</td><td>Unknown</td><td>false</td><td>false</td><td>2</td><td>1968-01-19</td><td>Ghana</td><td>Ivory Coast</td></tr><tr><td>1968-11-24_Suriname_Curaçao_6_0</td><td>Suriname</td><td>Ruud Schoonhoven</td><td>Unknown</td><td>false</td><td>false</td><td>2</td><td>1968-11-24</td><td>Suriname</td><td>Curaçao</td></tr><tr><td>1968-11-24_Suriname_Curaçao_6_0</td><td>Suriname</td><td>Ruud Schoonhoven</td><td>Unknown</td><td>false</td><td>false</td><td>2</td><td>1968-11-24</td><td>Suriname</td><td>Curaçao</td></tr><tr><td>1968-11-24_Suriname_Curaçao_6_0</td><td>Suriname</td><td>Roy Vanenburg</td><td>Unknown</td><td>false</td><td>false</td><td>2</td><td>1968-11-24</td><td>Suriname</td><td>Curaçao</td></tr><tr><td>1968-11-24_Suriname_Curaçao_6_0</td><td>Suriname</td><td>Roy Vanenburg</td><td>Unknown</td><td>false</td><td>false</td><td>2</td><td>1968-11-24</td><td>Suriname</td><td>Curaçao</td></tr><tr><td>1968-11-24_Suriname_Curaçao_6_0</td><td>Suriname</td><td>Paul Ruben Corte</td><td>Unknown</td><td>false</td><td>false</td><td>2</td><td>1968-11-24</td><td>Suriname</td><td>Curaçao</td></tr><tr><td>1968-11-24_Suriname_Curaçao_6_0</td><td>Suriname</td><td>Paul Ruben Corte</td><td>Unknown</td><td>false</td><td>false</td><td>2</td><td>1968-11-24</td><td>Suriname</td><td>Curaçao</td></tr><tr><td>1968-11-25_Haiti_Trinidad and Tobago_2_4</td><td>Trinidad and Tobago</td><td>Warren Archibald</td><td>Unknown</td><td>false</td><td>false</td><td>4</td><td>1968-11-25</td><td>Haiti</td><td>Trinidad and Tobago</td></tr><tr><td>1968-11-25_Haiti_Trinidad and Tobago_2_4</td><td>Trinidad and Tobago</td><td>Warren Archibald</td><td>Unknown</td><td>false</td><td>false</td><td>4</td><td>1968-11-25</td><td>Haiti</td><td>Trinidad and Tobago</td></tr><tr><td>1968-11-25_Haiti_Trinidad and Tobago_2_4</td><td>Trinidad and Tobago</td><td>Warren Archibald</td><td>Unknown</td><td>false</td><td>false</td><td>4</td><td>1968-11-25</td><td>Haiti</td><td>Trinidad and Tobago</td></tr><tr><td>1968-11-25_Haiti_Trinidad and Tobago_2_4</td><td>Trinidad and Tobago</td><td>Warren Archibald</td><td>Unknown</td><td>false</td><td>false</td><td>4</td><td>1968-11-25</td><td>Haiti</td><td>Trinidad and Tobago</td></tr><tr><td>1968-12-22_Suriname_El Salvador_4_1</td><td>Suriname</td><td>Jules Lagadeau</td><td>Unknown</td><td>false</td><td>false</td><td>2</td><td>1968-12-22</td><td>Suriname</td><td>El Salvador</td></tr><tr><td>1968-12-22_Suriname_El Salvador_4_1</td><td>Suriname</td><td>Jules Lagadeau</td><td>Unknown</td><td>false</td><td>false</td><td>2</td><td>1968-12-22</td><td>Suriname</td><td>El Salvador</td></tr><tr><td>1969-02-09_Ethiopia_Libya_5_1</td><td>Ethiopia</td><td>Asmeron Germa</td><td>Unknown</td><td>false</td><td>false</td><td>2</td><td>1969-02-09</td><td>Ethiopia</td><td>Libya</td></tr><tr><td>1969-02-09_Ethiopia_Libya_5_1</td><td>Ethiopia</td><td>Zerga Geremew</td><td>Unknown</td><td>false</td><td>false</td><td>2</td><td>1969-02-09</td><td>Ethiopia</td><td>Libya</td></tr><tr><td>1969-02-09_Ethiopia_Libya_5_1</td><td>Ethiopia</td><td>Asmeron Germa</td><td>Unknown</td><td>false</td><td>false</td><td>2</td><td>1969-02-09</td><td>Ethiopia</td><td>Libya</td></tr><tr><td>1969-02-09_Ethiopia_Libya_5_1</td><td>Ethiopia</td><td>Zerga Geremew</td><td>Unknown</td><td>false</td><td>false</td><td>2</td><td>1969-02-09</td><td>Ethiopia</td><td>Libya</td></tr><tr><td>1973-02-18_New Caledonia_Vanuatu_4_1</td><td>New Caledonia</td><td>Jean Hmae</td><td>Unknown</td><td>false</td><td>false</td><td>2</td><td>1973-02-18</td><td>New Caledonia</td><td>Vanuatu</td></tr><tr><td>1973-02-18_New Caledonia_Vanuatu_4_1</td><td>New Caledonia</td><td>Jean Hmae</td><td>Unknown</td><td>false</td><td>false</td><td>2</td><td>1973-02-18</td><td>New Caledonia</td><td>Vanuatu</td></tr><tr><td>1973-02-20_Fiji_New Caledonia_0_2</td><td>New Caledonia</td><td>Segin Wayewol</td><td>Unknown</td><td>false</td><td>false</td><td>2</td><td>1973-02-20</td><td>Fiji</td><td>New Caledonia</td></tr><tr><td>1973-02-20_Fiji_New Caledonia_0_2</td><td>New Caledonia</td><td>Segin Wayewol</td><td>Unknown</td><td>false</td><td>false</td><td>2</td><td>1973-02-20</td><td>Fiji</td><td>New Caledonia</td></tr><tr><td>1980-02-24_New Caledonia_Australia_0_8</td><td>Australia</td><td>Ian Hunter</td><td>Unknown</td><td>false</td><td>false</td><td>2</td><td>1980-02-24</td><td>New Caledonia</td><td>Australia</td></tr><tr><td>1980-02-24_New Caledonia_Australia_0_8</td><td>Australia</td><td>Eddie Krncevic</td><td>Unknown</td><td>false</td><td>false</td><td>3</td><td>1980-02-24</td><td>New Caledonia</td><td>Australia</td></tr><tr><td>1980-02-24_New Caledonia_Australia_0_8</td><td>Australia</td><td>Ian Hunter</td><td>Unknown</td><td>false</td><td>false</td><td>2</td><td>1980-02-24</td><td>New Caledonia</td><td>Australia</td></tr><tr><td>1980-02-24_Vanuatu_Papua New Guinea_3_4</td><td>Papua New Guinea</td><td>Unknown</td><td>Unknown</td><td>false</td><td>false</td><td>4</td><td>1980-02-24</td><td>Vanuatu</td><td>Papua New Guinea</td></tr><tr><td>1980-02-24_New Caledonia_Australia_0_8</td><td>Australia</td><td>Paul Kay</td><td>Unknown</td><td>false</td><td>false</td><td>2</td><td>1980-02-24</td><td>New Caledonia</td><td>Australia</td></tr><tr><td>1980-02-24_New Caledonia_Australia_0_8</td><td>Australia</td><td>Eddie Krncevic</td><td>Unknown</td><td>false</td><td>false</td><td>3</td><td>1980-02-24</td><td>New Caledonia</td><td>Australia</td></tr><tr><td>1980-02-24_New Caledonia_Australia_0_8</td><td>Australia</td><td>Paul Kay</td><td>Unknown</td><td>false</td><td>false</td><td>2</td><td>1980-02-24</td><td>New Caledonia</td><td>Australia</td></tr><tr><td>1980-02-24_Vanuatu_Papua New Guinea_3_4</td><td>Papua New Guinea</td><td>Unknown</td><td>Unknown</td><td>false</td><td>false</td><td>4</td><td>1980-02-24</td><td>Vanuatu</td><td>Papua New Guinea</td></tr><tr><td>1980-02-24_Vanuatu_Papua New Guinea_3_4</td><td>Vanuatu</td><td>Unknown</td><td>Unknown</td><td>false</td><td>false</td><td>3</td><td>1980-02-24</td><td>Vanuatu</td><td>Papua New Guinea</td></tr><tr><td>1980-02-24_New Caledonia_Australia_0_8</td><td>Australia</td><td>Eddie Krncevic</td><td>Unknown</td><td>false</td><td>false</td><td>3</td><td>1980-02-24</td><td>New Caledonia</td><td>Australia</td></tr><tr><td>1980-02-24_Vanuatu_Papua New Guinea_3_4</td><td>Vanuatu</td><td>Unknown</td><td>Unknown</td><td>false</td><td>false</td><td>3</td><td>1980-02-24</td><td>Vanuatu</td><td>Papua New Guinea</td></tr><tr><td>1980-02-24_Vanuatu_Papua New Guinea_3_4</td><td>Papua New Guinea</td><td>Unknown</td><td>Unknown</td><td>false</td><td>false</td><td>4</td><td>1980-02-24</td><td>Vanuatu</td><td>Papua New Guinea</td></tr><tr><td>1980-02-24_Vanuatu_Papua New Guinea_3_4</td><td>Vanuatu</td><td>Unknown</td><td>Unknown</td><td>false</td><td>false</td><td>3</td><td>1980-02-24</td><td>Vanuatu</td><td>Papua New Guinea</td></tr><tr><td>1980-02-24_Vanuatu_Papua New Guinea_3_4</td><td>Papua New Guinea</td><td>Unknown</td><td>Unknown</td><td>false</td><td>false</td><td>4</td><td>1980-02-24</td><td>Vanuatu</td><td>Papua New Guinea</td></tr><tr><td>1980-02-25_Fiji_Solomon Islands_3_1</td><td>Fiji</td><td>Unknown</td><td>Unknown</td><td>false</td><td>false</td><td>3</td><td>1980-02-25</td><td>Fiji</td><td>Solomon Islands</td></tr><tr><td>1980-02-25_Fiji_Solomon Islands_3_1</td><td>Fiji</td><td>Unknown</td><td>Unknown</td><td>false</td><td>false</td><td>3</td><td>1980-02-25</td><td>Fiji</td><td>Solomon Islands</td></tr><tr><td>1980-02-25_Fiji_Solomon Islands_3_1</td><td>Fiji</td><td>Unknown</td><td>Unknown</td><td>false</td><td>false</td><td>3</td><td>1980-02-25</td><td>Fiji</td><td>Solomon Islands</td></tr><tr><td>1980-02-26_Australia_Papua New Guinea_11_2</td><td>Australia</td><td>Ian Hunter</td><td>Unknown</td><td>false</td><td>false</td><td>3</td><td>1980-02-26</td><td>Australia</td><td>Papua New Guinea</td></tr><tr><td>1980-02-26_Australia_Papua New Guinea_11_2</td><td>Australia</td><td>Peter Sharne</td><td>Unknown</td><td>false</td><td>false</td><td>4</td><td>1980-02-26</td><td>Australia</td><td>Papua New Guinea</td></tr><tr><td>1980-02-26_Australia_Papua New Guinea_11_2</td><td>Australia</td><td>Ian Hunter</td><td>Unknown</td><td>false</td><td>false</td><td>3</td><td>1980-02-26</td><td>Australia</td><td>Papua New Guinea</td></tr><tr><td>1980-02-26_New Caledonia_Vanuatu_4_3</td><td>New Caledonia</td><td>Unknown</td><td>Unknown</td><td>false</td><td>false</td><td>4</td><td>1980-02-26</td><td>New Caledonia</td><td>Vanuatu</td></tr><tr><td>1980-02-26_Australia_Papua New Guinea_11_2</td><td>Australia</td><td>Ian Hunter</td><td>Unknown</td><td>false</td><td>false</td><td>3</td><td>1980-02-26</td><td>Australia</td><td>Papua New Guinea</td></tr><tr><td>1980-02-26_Australia_Papua New Guinea_11_2</td><td>Australia</td><td>Peter Sharne</td><td>Unknown</td><td>false</td><td>false</td><td>4</td><td>1980-02-26</td><td>Australia</td><td>Papua New Guinea</td></tr><tr><td>1980-02-26_New Caledonia_Vanuatu_4_3</td><td>New Caledonia</td><td>Unknown</td><td>Unknown</td><td>false</td><td>false</td><td>4</td><td>1980-02-26</td><td>New Caledonia</td><td>Vanuatu</td></tr><tr><td>1980-02-26_Australia_Papua New Guinea_11_2</td><td>Australia</td><td>Peter Sharne</td><td>Unknown</td><td>false</td><td>false</td><td>4</td><td>1980-02-26</td><td>Australia</td><td>Papua New Guinea</td></tr><tr><td>1980-02-26_New Caledonia_Vanuatu_4_3</td><td>New Caledonia</td><td>Unknown</td><td>Unknown</td><td>false</td><td>false</td><td>4</td><td>1980-02-26</td><td>New Caledonia</td><td>Vanuatu</td></tr><tr><td>1980-02-26_Australia_Papua New Guinea_11_2</td><td>Australia</td><td>Peter Sharne</td><td>Unknown</td><td>false</td><td>false</td><td>4</td><td>1980-02-26</td><td>Australia</td><td>Papua New Guinea</td></tr><tr><td>1980-02-26_New Caledonia_Vanuatu_4_3</td><td>New Caledonia</td><td>Unknown</td><td>Unknown</td><td>false</td><td>false</td><td>4</td><td>1980-02-26</td><td>New Caledonia</td><td>Vanuatu</td></tr><tr><td>1980-02-26_New Caledonia_Vanuatu_4_3</td><td>Vanuatu</td><td>Unknown</td><td>Unknown</td><td>false</td><td>false</td><td>3</td><td>1980-02-26</td><td>New Caledonia</td><td>Vanuatu</td></tr><tr><td>1980-02-26_New Caledonia_Vanuatu_4_3</td><td>Vanuatu</td><td>Unknown</td><td>Unknown</td><td>false</td><td>false</td><td>3</td><td>1980-02-26</td><td>New Caledonia</td><td>Vanuatu</td></tr><tr><td>1980-02-26_New Caledonia_Vanuatu_4_3</td><td>Vanuatu</td><td>Unknown</td><td>Unknown</td><td>false</td><td>false</td><td>3</td><td>1980-02-26</td><td>New Caledonia</td><td>Vanuatu</td></tr><tr><td>1980-02-27_Solomon Islands_Tahiti_1_12</td><td>Tahiti</td><td>Unknown</td><td>Unknown</td><td>false</td><td>false</td><td>12</td><td>1980-02-27</td><td>Solomon Islands</td><td>Tahiti</td></tr><tr><td>1980-02-27_Solomon Islands_Tahiti_1_12</td><td>Tahiti</td><td>Unknown</td><td>Unknown</td><td>false</td><td>false</td><td>12</td><td>1980-02-27</td><td>Solomon Islands</td><td>Tahiti</td></tr><tr><td>1980-02-27_Solomon Islands_Tahiti_1_12</td><td>Tahiti</td><td>Unknown</td><td>Unknown</td><td>false</td><td>false</td><td>12</td><td>1980-02-27</td><td>Solomon Islands</td><td>Tahiti</td></tr><tr><td>1980-02-27_Solomon Islands_Tahiti_1_12</td><td>Tahiti</td><td>Unknown</td><td>Unknown</td><td>false</td><td>false</td><td>12</td><td>1980-02-27</td><td>Solomon Islands</td><td>Tahiti</td></tr><tr><td>1980-02-27_Solomon Islands_Tahiti_1_12</td><td>Tahiti</td><td>Unknown</td><td>Unknown</td><td>false</td><td>false</td><td>12</td><td>1980-02-27</td><td>Solomon Islands</td><td>Tahiti</td></tr><tr><td>1980-02-27_Solomon Islands_Tahiti_1_12</td><td>Tahiti</td><td>Unknown</td><td>Unknown</td><td>false</td><td>false</td><td>12</td><td>1980-02-27</td><td>Solomon Islands</td><td>Tahiti</td></tr><tr><td>1980-02-27_Solomon Islands_Tahiti_1_12</td><td>Tahiti</td><td>Unknown</td><td>Unknown</td><td>false</td><td>false</td><td>12</td><td>1980-02-27</td><td>Solomon Islands</td><td>Tahiti</td></tr><tr><td>1980-02-27_Solomon Islands_Tahiti_1_12</td><td>Tahiti</td><td>Unknown</td><td>Unknown</td><td>false</td><td>false</td><td>12</td><td>1980-02-27</td><td>Solomon Islands</td><td>Tahiti</td></tr><tr><td>1980-02-27_Solomon Islands_Tahiti_1_12</td><td>Tahiti</td><td>Unknown</td><td>Unknown</td><td>false</td><td>false</td><td>12</td><td>1980-02-27</td><td>Solomon Islands</td><td>Tahiti</td></tr><tr><td>1980-02-27_Solomon Islands_Tahiti_1_12</td><td>Tahiti</td><td>Unknown</td><td>Unknown</td><td>false</td><td>false</td><td>12</td><td>1980-02-27</td><td>Solomon Islands</td><td>Tahiti</td></tr><tr><td>1980-02-27_Solomon Islands_Tahiti_1_12</td><td>Tahiti</td><td>Unknown</td><td>Unknown</td><td>false</td><td>false</td><td>12</td><td>1980-02-27</td><td>Solomon Islands</td><td>Tahiti</td></tr><tr><td>1980-02-27_Solomon Islands_Tahiti_1_12</td><td>Tahiti</td><td>Unknown</td><td>Unknown</td><td>false</td><td>false</td><td>12</td><td>1980-02-27</td><td>Solomon Islands</td><td>Tahiti</td></tr><tr><td>1980-02-28_New Caledonia_Papua New Guinea_8_0</td><td>New Caledonia</td><td>Unknown</td><td>Unknown</td><td>false</td><td>false</td><td>8</td><td>1980-02-28</td><td>New Caledonia</td><td>Papua New Guinea</td></tr><tr><td>1980-02-28_New Caledonia_Papua New Guinea_8_0</td><td>New Caledonia</td><td>Unknown</td><td>Unknown</td><td>false</td><td>false</td><td>8</td><td>1980-02-28</td><td>New Caledonia</td><td>Papua New Guinea</td></tr><tr><td>1980-02-28_New Caledonia_Papua New Guinea_8_0</td><td>New Caledonia</td><td>Unknown</td><td>Unknown</td><td>false</td><td>false</td><td>8</td><td>1980-02-28</td><td>New Caledonia</td><td>Papua New Guinea</td></tr><tr><td>1980-02-28_New Caledonia_Papua New Guinea_8_0</td><td>New Caledonia</td><td>Unknown</td><td>Unknown</td><td>false</td><td>false</td><td>8</td><td>1980-02-28</td><td>New Caledonia</td><td>Papua New Guinea</td></tr><tr><td>1980-02-28_New Caledonia_Papua New Guinea_8_0</td><td>New Caledonia</td><td>Unknown</td><td>Unknown</td><td>false</td><td>false</td><td>8</td><td>1980-02-28</td><td>New Caledonia</td><td>Papua New Guinea</td></tr><tr><td>1980-02-28_New Caledonia_Papua New Guinea_8_0</td><td>New Caledonia</td><td>Unknown</td><td>Unknown</td><td>false</td><td>false</td><td>8</td><td>1980-02-28</td><td>New Caledonia</td><td>Papua New Guinea</td></tr><tr><td>1980-02-28_New Caledonia_Papua New Guinea_8_0</td><td>New Caledonia</td><td>Unknown</td><td>Unknown</td><td>false</td><td>false</td><td>8</td><td>1980-02-28</td><td>New Caledonia</td><td>Papua New Guinea</td></tr><tr><td>1980-02-28_New Caledonia_Papua New Guinea_8_0</td><td>New Caledonia</td><td>Unknown</td><td>Unknown</td><td>false</td><td>false</td><td>8</td><td>1980-02-28</td><td>New Caledonia</td><td>Papua New Guinea</td></tr><tr><td>1980-02-29_Fiji_Tahiti_3_6</td><td>Tahiti</td><td>Unknown</td><td>Unknown</td><td>false</td><td>false</td><td>6</td><td>1980-02-29</td><td>Fiji</td><td>Tahiti</td></tr><tr><td>1980-02-29_Fiji_Tahiti_3_6</td><td>Fiji</td><td>Unknown</td><td>Unknown</td><td>false</td><td>false</td><td>3</td><td>1980-02-29</td><td>Fiji</td><td>Tahiti</td></tr><tr><td>1980-02-29_Fiji_Tahiti_3_6</td><td>Tahiti</td><td>Unknown</td><td>Unknown</td><td>false</td><td>false</td><td>6</td><td>1980-02-29</td><td>Fiji</td><td>Tahiti</td></tr><tr><td>1980-02-29_Fiji_Tahiti_3_6</td><td>Fiji</td><td>Unknown</td><td>Unknown</td><td>false</td><td>false</td><td>3</td><td>1980-02-29</td><td>Fiji</td><td>Tahiti</td></tr><tr><td>1980-02-29_Fiji_Tahiti_3_6</td><td>Tahiti</td><td>Unknown</td><td>Unknown</td><td>false</td><td>false</td><td>6</td><td>1980-02-29</td><td>Fiji</td><td>Tahiti</td></tr><tr><td>1980-02-29_Fiji_Tahiti_3_6</td><td>Fiji</td><td>Unknown</td><td>Unknown</td><td>false</td><td>false</td><td>3</td><td>1980-02-29</td><td>Fiji</td><td>Tahiti</td></tr><tr><td>1980-02-29_Fiji_Tahiti_3_6</td><td>Tahiti</td><td>Unknown</td><td>Unknown</td><td>false</td><td>false</td><td>6</td><td>1980-02-29</td><td>Fiji</td><td>Tahiti</td></tr><tr><td>1980-02-29_Fiji_Tahiti_3_6</td><td>Tahiti</td><td>Unknown</td><td>Unknown</td><td>false</td><td>false</td><td>6</td><td>1980-02-29</td><td>Fiji</td><td>Tahiti</td></tr><tr><td>1980-02-29_Fiji_Tahiti_3_6</td><td>Tahiti</td><td>Unknown</td><td>Unknown</td><td>false</td><td>false</td><td>6</td><td>1980-02-29</td><td>Fiji</td><td>Tahiti</td></tr><tr><td>1980-09-25_China PR_Bangladesh_6_0</td><td>China PR</td><td>Xu Yonglai</td><td>Unknown</td><td>false</td><td>false</td><td>3</td><td>1980-09-25</td><td>China PR</td><td>Bangladesh</td></tr><tr><td>1980-09-25_China PR_Bangladesh_6_0</td><td>China PR</td><td>Shen Xiangfu</td><td>Unknown</td><td>false</td><td>false</td><td>3</td><td>1980-09-25</td><td>China PR</td><td>Bangladesh</td></tr><tr><td>1980-09-25_China PR_Bangladesh_6_0</td><td>China PR</td><td>Xu Yonglai</td><td>Unknown</td><td>false</td><td>false</td><td>3</td><td>1980-09-25</td><td>China PR</td><td>Bangladesh</td></tr><tr><td>1980-09-25_China PR_Bangladesh_6_0</td><td>China PR</td><td>Shen Xiangfu</td><td>Unknown</td><td>false</td><td>false</td><td>3</td><td>1980-09-25</td><td>China PR</td><td>Bangladesh</td></tr><tr><td>1980-09-25_China PR_Bangladesh_6_0</td><td>China PR</td><td>Xu Yonglai</td><td>Unknown</td><td>false</td><td>false</td><td>3</td><td>1980-09-25</td><td>China PR</td><td>Bangladesh</td></tr><tr><td>1980-09-25_China PR_Bangladesh_6_0</td><td>China PR</td><td>Shen Xiangfu</td><td>Unknown</td><td>false</td><td>false</td><td>3</td><td>1980-09-25</td><td>China PR</td><td>Bangladesh</td></tr><tr><td>1981-03-22_Qatar_Bahrain_3_0</td><td>Qatar</td><td>Mansour Muftah</td><td>Unknown</td><td>false</td><td>false</td><td>2</td><td>1981-03-22</td><td>Qatar</td><td>Bahrain</td></tr><tr><td>1981-03-22_Qatar_Bahrain_3_0</td><td>Qatar</td><td>Mansour Muftah</td><td>Unknown</td><td>false</td><td>false</td><td>2</td><td>1981-03-22</td><td>Qatar</td><td>Bahrain</td></tr><tr><td>1981-03-24_Saudi Arabia_Syria_2_0</td><td>Saudi Arabia</td><td>Saud Jassem</td><td>Unknown</td><td>false</td><td>false</td><td>2</td><td>1981-03-24</td><td>Saudi Arabia</td><td>Syria</td></tr><tr><td>1981-03-24_Saudi Arabia_Syria_2_0</td><td>Saudi Arabia</td><td>Saud Jassem</td><td>Unknown</td><td>false</td><td>false</td><td>2</td><td>1981-03-24</td><td>Saudi Arabia</td><td>Syria</td></tr><tr><td>1981-04-22_Kuwait_Thailand_6_0</td><td>Kuwait</td><td>Abdulaziz Al-Anberi</td><td>Unknown</td><td>false</td><td>false</td><td>2</td><td>1981-04-22</td><td>Kuwait</td><td>Thailand</td></tr><tr><td>1981-04-22_Kuwait_Thailand_6_0</td><td>Kuwait</td><td>Abdulaziz Al-Anberi</td><td>Unknown</td><td>false</td><td>false</td><td>2</td><td>1981-04-22</td><td>Kuwait</td><td>Thailand</td></tr><tr><td>1981-06-06_Fiji_Taiwan_2_1</td><td>Fiji</td><td>Ratu Jone</td><td>55.0</td><td>false</td><td>false</td><td>2</td><td>1981-06-06</td><td>Fiji</td><td>Taiwan</td></tr><tr><td>1981-06-06_Fiji_Taiwan_2_1</td><td>Fiji</td><td>Ratu Jone</td><td>55.0</td><td>false</td><td>false</td><td>2</td><td>1981-06-06</td><td>Fiji</td><td>Taiwan</td></tr><tr><td>1993-06-18_Iraq_Pakistan_4_0</td><td>Iraq</td><td>Saad Qais</td><td>Unknown</td><td>false</td><td>false</td><td>2</td><td>1993-06-18</td><td>Iraq</td><td>Pakistan</td></tr><tr><td>1993-06-18_Iraq_Pakistan_4_0</td><td>Iraq</td><td>Saad Qais</td><td>Unknown</td><td>false</td><td>false</td><td>2</td><td>1993-06-18</td><td>Iraq</td><td>Pakistan</td></tr><tr><td>2001-04-30_Oman_Laos_12_0</td><td>Oman</td><td>Hani Al-Dhabit</td><td>45.0</td><td>false</td><td>false</td><td>2</td><td>2001-04-30</td><td>Oman</td><td>Laos</td></tr><tr><td>2001-04-30_Oman_Laos_12_0</td><td>Oman</td><td>Hani Al-Dhabit</td><td>45.0</td><td>false</td><td>false</td><td>2</td><td>2001-04-30</td><td>Oman</td><td>Laos</td></tr><tr><td>2002-01-30_Burkina Faso_Ghana_1_2</td><td>Ghana</td><td>Isaac Boakye</td><td>90.0</td><td>false</td><td>false</td><td>2</td><td>2002-01-30</td><td>Burkina Faso</td><td>Ghana</td></tr><tr><td>2002-01-30_Burkina Faso_Ghana_1_2</td><td>Ghana</td><td>Isaac Boakye</td><td>90.0</td><td>false</td><td>false</td><td>2</td><td>2002-01-30</td><td>Burkina Faso</td><td>Ghana</td></tr><tr><td>2003-12-03_Maldives_Mongolia_12_0</td><td>Maldives</td><td>Ibrahim Fazeel</td><td>45.0</td><td>false</td><td>false</td><td>2</td><td>2003-12-03</td><td>Maldives</td><td>Mongolia</td></tr><tr><td>2003-12-03_Maldives_Mongolia_12_0</td><td>Maldives</td><td>Ibrahim Fazeel</td><td>45.0</td><td>false</td><td>false</td><td>2</td><td>2003-12-03</td><td>Maldives</td><td>Mongolia</td></tr><tr><td>2004-10-09_Turkey_Kazakhstan_4_0</td><td>Turkey</td><td>Fatih Tekke</td><td>90.0</td><td>false</td><td>false</td><td>2</td><td>2004-10-09</td><td>Turkey</td><td>Kazakhstan</td></tr><tr><td>2004-10-09_Turkey_Kazakhstan_4_0</td><td>Turkey</td><td>Fatih Tekke</td><td>90.0</td><td>false</td><td>false</td><td>2</td><td>2004-10-09</td><td>Turkey</td><td>Kazakhstan</td></tr><tr><td>2015-06-13_Poland_Georgia_4_0</td><td>Poland</td><td>Robert Lewandowski</td><td>90.0</td><td>false</td><td>false</td><td>2</td><td>2015-06-13</td><td>Poland</td><td>Georgia</td></tr><tr><td>2015-06-13_Poland_Georgia_4_0</td><td>Poland</td><td>Robert Lewandowski</td><td>90.0</td><td>false</td><td>false</td><td>2</td><td>2015-06-13</td><td>Poland</td><td>Georgia</td></tr><tr><td>2019-09-08_Spain_Faroe Islands_4_0</td><td>Spain</td><td>Paco Alcácer</td><td>90.0</td><td>false</td><td>false</td><td>2</td><td>2019-09-08</td><td>Spain</td><td>Faroe Islands</td></tr><tr><td>2019-09-08_Spain_Faroe Islands_4_0</td><td>Spain</td><td>Paco Alcácer</td><td>90.0</td><td>false</td><td>false</td><td>2</td><td>2019-09-08</td><td>Spain</td><td>Faroe Islands</td></tr><tr><td>2021-09-05_San Marino_Poland_1_7</td><td>Poland</td><td>Adam Buksa</td><td>90.0</td><td>false</td><td>false</td><td>2</td><td>2021-09-05</td><td>San Marino</td><td>Poland</td></tr><tr><td>2021-09-05_San Marino_Poland_1_7</td><td>Poland</td><td>Adam Buksa</td><td>90.0</td><td>false</td><td>false</td><td>2</td><td>2021-09-05</td><td>San Marino</td><td>Poland</td></tr><tr><td>2021-10-12_Syria_Lebanon_2_3</td><td>Lebanon</td><td>Mohamad Kdouh</td><td>45.0</td><td>false</td><td>false</td><td>2</td><td>2021-10-12</td><td>Syria</td><td>Lebanon</td></tr><tr><td>2021-10-12_Syria_Lebanon_2_3</td><td>Lebanon</td><td>Mohamad Kdouh</td><td>45.0</td><td>false</td><td>false</td><td>2</td><td>2021-10-12</td><td>Syria</td><td>Lebanon</td></tr><tr><td>2022-09-25_Moldova_Liechtenstein_2_0</td><td>Moldova</td><td>Victor Stînă</td><td>90.0</td><td>false</td><td>false</td><td>2</td><td>2022-09-25</td><td>Moldova</td><td>Liechtenstein</td></tr><tr><td>2022-09-25_Moldova_Liechtenstein_2_0</td><td>Moldova</td><td>Victor Stînă</td><td>90.0</td><td>false</td><td>false</td><td>2</td><td>2022-09-25</td><td>Moldova</td><td>Liechtenstein</td></tr></tbody></table></div>"
      ]
     },
     "metadata": {
      "application/vnd.databricks.v1+output": {
       "addedWidgets": {},
       "aggData": [],
       "aggError": "",
       "aggOverflow": false,
       "aggSchema": [],
       "aggSeriesLimitReached": false,
       "aggType": "",
       "arguments": {},
       "columnCustomDisplayInfos": {},
       "data": [
        [
         "1963-11-26_Ghana_Ethiopia_2_0",
         "Ghana",
         "Edward Acquah",
         "Unknown",
         false,
         false,
         2,
         "1963-11-26",
         "Ghana",
         "Ethiopia"
        ],
        [
         "1963-11-26_Ghana_Ethiopia_2_0",
         "Ghana",
         "Edward Acquah",
         "Unknown",
         false,
         false,
         2,
         "1963-11-26",
         "Ghana",
         "Ethiopia"
        ],
        [
         "1963-11-28_Ethiopia_Tunisia_4_2",
         "Ethiopia",
         "Mengistu Worku",
         "Unknown",
         false,
         false,
         2,
         "1963-11-28",
         "Ethiopia",
         "Tunisia"
        ],
        [
         "1963-11-28_Nigeria_Sudan_0_4",
         "Sudan",
         "Nasr Eddin Abbas",
         "Unknown",
         false,
         false,
         2,
         "1963-11-28",
         "Nigeria",
         "Sudan"
        ],
        [
         "1963-11-28_Ethiopia_Tunisia_4_2",
         "Ethiopia",
         "Mengistu Worku",
         "Unknown",
         false,
         false,
         2,
         "1963-11-28",
         "Ethiopia",
         "Tunisia"
        ],
        [
         "1963-11-28_Nigeria_Sudan_0_4",
         "Sudan",
         "Nasr Eddin Abbas",
         "Unknown",
         false,
         false,
         2,
         "1963-11-28",
         "Nigeria",
         "Sudan"
        ],
        [
         "1965-03-14_Suriname_Trinidad and Tobago_6_1",
         "Suriname",
         "Edmund Waterval",
         "Unknown",
         false,
         false,
         2,
         "1965-03-14",
         "Suriname",
         "Trinidad and Tobago"
        ],
        [
         "1965-03-14_Suriname_Trinidad and Tobago_6_1",
         "Suriname",
         "Edmund Waterval",
         "Unknown",
         false,
         false,
         2,
         "1965-03-14",
         "Suriname",
         "Trinidad and Tobago"
        ],
        [
         "1968-01-16_Congo_Ghana_1_3",
         "Ghana",
         "Osei Kofi",
         "Unknown",
         false,
         false,
         2,
         "1968-01-16",
         "Congo",
         "Ghana"
        ],
        [
         "1968-01-16_Congo_Ghana_1_3",
         "Ghana",
         "Osei Kofi",
         "Unknown",
         false,
         false,
         2,
         "1968-01-16",
         "Congo",
         "Ghana"
        ],
        [
         "1968-01-19_Ghana_Ivory Coast_4_3",
         "Ghana",
         "Wilberforce Mfum",
         "Unknown",
         false,
         false,
         2,
         "1968-01-19",
         "Ghana",
         "Ivory Coast"
        ],
        [
         "1968-01-19_Ghana_Ivory Coast_4_3",
         "Ivory Coast",
         "Laurent Pokou",
         "Unknown",
         false,
         false,
         2,
         "1968-01-19",
         "Ghana",
         "Ivory Coast"
        ],
        [
         "1968-01-19_Ghana_Ivory Coast_4_3",
         "Ghana",
         "Wilberforce Mfum",
         "Unknown",
         false,
         false,
         2,
         "1968-01-19",
         "Ghana",
         "Ivory Coast"
        ],
        [
         "1968-01-19_Ghana_Ivory Coast_4_3",
         "Ivory Coast",
         "Laurent Pokou",
         "Unknown",
         false,
         false,
         2,
         "1968-01-19",
         "Ghana",
         "Ivory Coast"
        ],
        [
         "1968-11-24_Suriname_Curaçao_6_0",
         "Suriname",
         "Ruud Schoonhoven",
         "Unknown",
         false,
         false,
         2,
         "1968-11-24",
         "Suriname",
         "Curaçao"
        ],
        [
         "1968-11-24_Suriname_Curaçao_6_0",
         "Suriname",
         "Ruud Schoonhoven",
         "Unknown",
         false,
         false,
         2,
         "1968-11-24",
         "Suriname",
         "Curaçao"
        ],
        [
         "1968-11-24_Suriname_Curaçao_6_0",
         "Suriname",
         "Roy Vanenburg",
         "Unknown",
         false,
         false,
         2,
         "1968-11-24",
         "Suriname",
         "Curaçao"
        ],
        [
         "1968-11-24_Suriname_Curaçao_6_0",
         "Suriname",
         "Roy Vanenburg",
         "Unknown",
         false,
         false,
         2,
         "1968-11-24",
         "Suriname",
         "Curaçao"
        ],
        [
         "1968-11-24_Suriname_Curaçao_6_0",
         "Suriname",
         "Paul Ruben Corte",
         "Unknown",
         false,
         false,
         2,
         "1968-11-24",
         "Suriname",
         "Curaçao"
        ],
        [
         "1968-11-24_Suriname_Curaçao_6_0",
         "Suriname",
         "Paul Ruben Corte",
         "Unknown",
         false,
         false,
         2,
         "1968-11-24",
         "Suriname",
         "Curaçao"
        ],
        [
         "1968-11-25_Haiti_Trinidad and Tobago_2_4",
         "Trinidad and Tobago",
         "Warren Archibald",
         "Unknown",
         false,
         false,
         4,
         "1968-11-25",
         "Haiti",
         "Trinidad and Tobago"
        ],
        [
         "1968-11-25_Haiti_Trinidad and Tobago_2_4",
         "Trinidad and Tobago",
         "Warren Archibald",
         "Unknown",
         false,
         false,
         4,
         "1968-11-25",
         "Haiti",
         "Trinidad and Tobago"
        ],
        [
         "1968-11-25_Haiti_Trinidad and Tobago_2_4",
         "Trinidad and Tobago",
         "Warren Archibald",
         "Unknown",
         false,
         false,
         4,
         "1968-11-25",
         "Haiti",
         "Trinidad and Tobago"
        ],
        [
         "1968-11-25_Haiti_Trinidad and Tobago_2_4",
         "Trinidad and Tobago",
         "Warren Archibald",
         "Unknown",
         false,
         false,
         4,
         "1968-11-25",
         "Haiti",
         "Trinidad and Tobago"
        ],
        [
         "1968-12-22_Suriname_El Salvador_4_1",
         "Suriname",
         "Jules Lagadeau",
         "Unknown",
         false,
         false,
         2,
         "1968-12-22",
         "Suriname",
         "El Salvador"
        ],
        [
         "1968-12-22_Suriname_El Salvador_4_1",
         "Suriname",
         "Jules Lagadeau",
         "Unknown",
         false,
         false,
         2,
         "1968-12-22",
         "Suriname",
         "El Salvador"
        ],
        [
         "1969-02-09_Ethiopia_Libya_5_1",
         "Ethiopia",
         "Asmeron Germa",
         "Unknown",
         false,
         false,
         2,
         "1969-02-09",
         "Ethiopia",
         "Libya"
        ],
        [
         "1969-02-09_Ethiopia_Libya_5_1",
         "Ethiopia",
         "Zerga Geremew",
         "Unknown",
         false,
         false,
         2,
         "1969-02-09",
         "Ethiopia",
         "Libya"
        ],
        [
         "1969-02-09_Ethiopia_Libya_5_1",
         "Ethiopia",
         "Asmeron Germa",
         "Unknown",
         false,
         false,
         2,
         "1969-02-09",
         "Ethiopia",
         "Libya"
        ],
        [
         "1969-02-09_Ethiopia_Libya_5_1",
         "Ethiopia",
         "Zerga Geremew",
         "Unknown",
         false,
         false,
         2,
         "1969-02-09",
         "Ethiopia",
         "Libya"
        ],
        [
         "1973-02-18_New Caledonia_Vanuatu_4_1",
         "New Caledonia",
         "Jean Hmae",
         "Unknown",
         false,
         false,
         2,
         "1973-02-18",
         "New Caledonia",
         "Vanuatu"
        ],
        [
         "1973-02-18_New Caledonia_Vanuatu_4_1",
         "New Caledonia",
         "Jean Hmae",
         "Unknown",
         false,
         false,
         2,
         "1973-02-18",
         "New Caledonia",
         "Vanuatu"
        ],
        [
         "1973-02-20_Fiji_New Caledonia_0_2",
         "New Caledonia",
         "Segin Wayewol",
         "Unknown",
         false,
         false,
         2,
         "1973-02-20",
         "Fiji",
         "New Caledonia"
        ],
        [
         "1973-02-20_Fiji_New Caledonia_0_2",
         "New Caledonia",
         "Segin Wayewol",
         "Unknown",
         false,
         false,
         2,
         "1973-02-20",
         "Fiji",
         "New Caledonia"
        ],
        [
         "1980-02-24_New Caledonia_Australia_0_8",
         "Australia",
         "Ian Hunter",
         "Unknown",
         false,
         false,
         2,
         "1980-02-24",
         "New Caledonia",
         "Australia"
        ],
        [
         "1980-02-24_New Caledonia_Australia_0_8",
         "Australia",
         "Eddie Krncevic",
         "Unknown",
         false,
         false,
         3,
         "1980-02-24",
         "New Caledonia",
         "Australia"
        ],
        [
         "1980-02-24_New Caledonia_Australia_0_8",
         "Australia",
         "Ian Hunter",
         "Unknown",
         false,
         false,
         2,
         "1980-02-24",
         "New Caledonia",
         "Australia"
        ],
        [
         "1980-02-24_Vanuatu_Papua New Guinea_3_4",
         "Papua New Guinea",
         "Unknown",
         "Unknown",
         false,
         false,
         4,
         "1980-02-24",
         "Vanuatu",
         "Papua New Guinea"
        ],
        [
         "1980-02-24_New Caledonia_Australia_0_8",
         "Australia",
         "Paul Kay",
         "Unknown",
         false,
         false,
         2,
         "1980-02-24",
         "New Caledonia",
         "Australia"
        ],
        [
         "1980-02-24_New Caledonia_Australia_0_8",
         "Australia",
         "Eddie Krncevic",
         "Unknown",
         false,
         false,
         3,
         "1980-02-24",
         "New Caledonia",
         "Australia"
        ],
        [
         "1980-02-24_New Caledonia_Australia_0_8",
         "Australia",
         "Paul Kay",
         "Unknown",
         false,
         false,
         2,
         "1980-02-24",
         "New Caledonia",
         "Australia"
        ],
        [
         "1980-02-24_Vanuatu_Papua New Guinea_3_4",
         "Papua New Guinea",
         "Unknown",
         "Unknown",
         false,
         false,
         4,
         "1980-02-24",
         "Vanuatu",
         "Papua New Guinea"
        ],
        [
         "1980-02-24_Vanuatu_Papua New Guinea_3_4",
         "Vanuatu",
         "Unknown",
         "Unknown",
         false,
         false,
         3,
         "1980-02-24",
         "Vanuatu",
         "Papua New Guinea"
        ],
        [
         "1980-02-24_New Caledonia_Australia_0_8",
         "Australia",
         "Eddie Krncevic",
         "Unknown",
         false,
         false,
         3,
         "1980-02-24",
         "New Caledonia",
         "Australia"
        ],
        [
         "1980-02-24_Vanuatu_Papua New Guinea_3_4",
         "Vanuatu",
         "Unknown",
         "Unknown",
         false,
         false,
         3,
         "1980-02-24",
         "Vanuatu",
         "Papua New Guinea"
        ],
        [
         "1980-02-24_Vanuatu_Papua New Guinea_3_4",
         "Papua New Guinea",
         "Unknown",
         "Unknown",
         false,
         false,
         4,
         "1980-02-24",
         "Vanuatu",
         "Papua New Guinea"
        ],
        [
         "1980-02-24_Vanuatu_Papua New Guinea_3_4",
         "Vanuatu",
         "Unknown",
         "Unknown",
         false,
         false,
         3,
         "1980-02-24",
         "Vanuatu",
         "Papua New Guinea"
        ],
        [
         "1980-02-24_Vanuatu_Papua New Guinea_3_4",
         "Papua New Guinea",
         "Unknown",
         "Unknown",
         false,
         false,
         4,
         "1980-02-24",
         "Vanuatu",
         "Papua New Guinea"
        ],
        [
         "1980-02-25_Fiji_Solomon Islands_3_1",
         "Fiji",
         "Unknown",
         "Unknown",
         false,
         false,
         3,
         "1980-02-25",
         "Fiji",
         "Solomon Islands"
        ],
        [
         "1980-02-25_Fiji_Solomon Islands_3_1",
         "Fiji",
         "Unknown",
         "Unknown",
         false,
         false,
         3,
         "1980-02-25",
         "Fiji",
         "Solomon Islands"
        ],
        [
         "1980-02-25_Fiji_Solomon Islands_3_1",
         "Fiji",
         "Unknown",
         "Unknown",
         false,
         false,
         3,
         "1980-02-25",
         "Fiji",
         "Solomon Islands"
        ],
        [
         "1980-02-26_Australia_Papua New Guinea_11_2",
         "Australia",
         "Ian Hunter",
         "Unknown",
         false,
         false,
         3,
         "1980-02-26",
         "Australia",
         "Papua New Guinea"
        ],
        [
         "1980-02-26_Australia_Papua New Guinea_11_2",
         "Australia",
         "Peter Sharne",
         "Unknown",
         false,
         false,
         4,
         "1980-02-26",
         "Australia",
         "Papua New Guinea"
        ],
        [
         "1980-02-26_Australia_Papua New Guinea_11_2",
         "Australia",
         "Ian Hunter",
         "Unknown",
         false,
         false,
         3,
         "1980-02-26",
         "Australia",
         "Papua New Guinea"
        ],
        [
         "1980-02-26_New Caledonia_Vanuatu_4_3",
         "New Caledonia",
         "Unknown",
         "Unknown",
         false,
         false,
         4,
         "1980-02-26",
         "New Caledonia",
         "Vanuatu"
        ],
        [
         "1980-02-26_Australia_Papua New Guinea_11_2",
         "Australia",
         "Ian Hunter",
         "Unknown",
         false,
         false,
         3,
         "1980-02-26",
         "Australia",
         "Papua New Guinea"
        ],
        [
         "1980-02-26_Australia_Papua New Guinea_11_2",
         "Australia",
         "Peter Sharne",
         "Unknown",
         false,
         false,
         4,
         "1980-02-26",
         "Australia",
         "Papua New Guinea"
        ],
        [
         "1980-02-26_New Caledonia_Vanuatu_4_3",
         "New Caledonia",
         "Unknown",
         "Unknown",
         false,
         false,
         4,
         "1980-02-26",
         "New Caledonia",
         "Vanuatu"
        ],
        [
         "1980-02-26_Australia_Papua New Guinea_11_2",
         "Australia",
         "Peter Sharne",
         "Unknown",
         false,
         false,
         4,
         "1980-02-26",
         "Australia",
         "Papua New Guinea"
        ],
        [
         "1980-02-26_New Caledonia_Vanuatu_4_3",
         "New Caledonia",
         "Unknown",
         "Unknown",
         false,
         false,
         4,
         "1980-02-26",
         "New Caledonia",
         "Vanuatu"
        ],
        [
         "1980-02-26_Australia_Papua New Guinea_11_2",
         "Australia",
         "Peter Sharne",
         "Unknown",
         false,
         false,
         4,
         "1980-02-26",
         "Australia",
         "Papua New Guinea"
        ],
        [
         "1980-02-26_New Caledonia_Vanuatu_4_3",
         "New Caledonia",
         "Unknown",
         "Unknown",
         false,
         false,
         4,
         "1980-02-26",
         "New Caledonia",
         "Vanuatu"
        ],
        [
         "1980-02-26_New Caledonia_Vanuatu_4_3",
         "Vanuatu",
         "Unknown",
         "Unknown",
         false,
         false,
         3,
         "1980-02-26",
         "New Caledonia",
         "Vanuatu"
        ],
        [
         "1980-02-26_New Caledonia_Vanuatu_4_3",
         "Vanuatu",
         "Unknown",
         "Unknown",
         false,
         false,
         3,
         "1980-02-26",
         "New Caledonia",
         "Vanuatu"
        ],
        [
         "1980-02-26_New Caledonia_Vanuatu_4_3",
         "Vanuatu",
         "Unknown",
         "Unknown",
         false,
         false,
         3,
         "1980-02-26",
         "New Caledonia",
         "Vanuatu"
        ],
        [
         "1980-02-27_Solomon Islands_Tahiti_1_12",
         "Tahiti",
         "Unknown",
         "Unknown",
         false,
         false,
         12,
         "1980-02-27",
         "Solomon Islands",
         "Tahiti"
        ],
        [
         "1980-02-27_Solomon Islands_Tahiti_1_12",
         "Tahiti",
         "Unknown",
         "Unknown",
         false,
         false,
         12,
         "1980-02-27",
         "Solomon Islands",
         "Tahiti"
        ],
        [
         "1980-02-27_Solomon Islands_Tahiti_1_12",
         "Tahiti",
         "Unknown",
         "Unknown",
         false,
         false,
         12,
         "1980-02-27",
         "Solomon Islands",
         "Tahiti"
        ],
        [
         "1980-02-27_Solomon Islands_Tahiti_1_12",
         "Tahiti",
         "Unknown",
         "Unknown",
         false,
         false,
         12,
         "1980-02-27",
         "Solomon Islands",
         "Tahiti"
        ],
        [
         "1980-02-27_Solomon Islands_Tahiti_1_12",
         "Tahiti",
         "Unknown",
         "Unknown",
         false,
         false,
         12,
         "1980-02-27",
         "Solomon Islands",
         "Tahiti"
        ],
        [
         "1980-02-27_Solomon Islands_Tahiti_1_12",
         "Tahiti",
         "Unknown",
         "Unknown",
         false,
         false,
         12,
         "1980-02-27",
         "Solomon Islands",
         "Tahiti"
        ],
        [
         "1980-02-27_Solomon Islands_Tahiti_1_12",
         "Tahiti",
         "Unknown",
         "Unknown",
         false,
         false,
         12,
         "1980-02-27",
         "Solomon Islands",
         "Tahiti"
        ],
        [
         "1980-02-27_Solomon Islands_Tahiti_1_12",
         "Tahiti",
         "Unknown",
         "Unknown",
         false,
         false,
         12,
         "1980-02-27",
         "Solomon Islands",
         "Tahiti"
        ],
        [
         "1980-02-27_Solomon Islands_Tahiti_1_12",
         "Tahiti",
         "Unknown",
         "Unknown",
         false,
         false,
         12,
         "1980-02-27",
         "Solomon Islands",
         "Tahiti"
        ],
        [
         "1980-02-27_Solomon Islands_Tahiti_1_12",
         "Tahiti",
         "Unknown",
         "Unknown",
         false,
         false,
         12,
         "1980-02-27",
         "Solomon Islands",
         "Tahiti"
        ],
        [
         "1980-02-27_Solomon Islands_Tahiti_1_12",
         "Tahiti",
         "Unknown",
         "Unknown",
         false,
         false,
         12,
         "1980-02-27",
         "Solomon Islands",
         "Tahiti"
        ],
        [
         "1980-02-27_Solomon Islands_Tahiti_1_12",
         "Tahiti",
         "Unknown",
         "Unknown",
         false,
         false,
         12,
         "1980-02-27",
         "Solomon Islands",
         "Tahiti"
        ],
        [
         "1980-02-28_New Caledonia_Papua New Guinea_8_0",
         "New Caledonia",
         "Unknown",
         "Unknown",
         false,
         false,
         8,
         "1980-02-28",
         "New Caledonia",
         "Papua New Guinea"
        ],
        [
         "1980-02-28_New Caledonia_Papua New Guinea_8_0",
         "New Caledonia",
         "Unknown",
         "Unknown",
         false,
         false,
         8,
         "1980-02-28",
         "New Caledonia",
         "Papua New Guinea"
        ],
        [
         "1980-02-28_New Caledonia_Papua New Guinea_8_0",
         "New Caledonia",
         "Unknown",
         "Unknown",
         false,
         false,
         8,
         "1980-02-28",
         "New Caledonia",
         "Papua New Guinea"
        ],
        [
         "1980-02-28_New Caledonia_Papua New Guinea_8_0",
         "New Caledonia",
         "Unknown",
         "Unknown",
         false,
         false,
         8,
         "1980-02-28",
         "New Caledonia",
         "Papua New Guinea"
        ],
        [
         "1980-02-28_New Caledonia_Papua New Guinea_8_0",
         "New Caledonia",
         "Unknown",
         "Unknown",
         false,
         false,
         8,
         "1980-02-28",
         "New Caledonia",
         "Papua New Guinea"
        ],
        [
         "1980-02-28_New Caledonia_Papua New Guinea_8_0",
         "New Caledonia",
         "Unknown",
         "Unknown",
         false,
         false,
         8,
         "1980-02-28",
         "New Caledonia",
         "Papua New Guinea"
        ],
        [
         "1980-02-28_New Caledonia_Papua New Guinea_8_0",
         "New Caledonia",
         "Unknown",
         "Unknown",
         false,
         false,
         8,
         "1980-02-28",
         "New Caledonia",
         "Papua New Guinea"
        ],
        [
         "1980-02-28_New Caledonia_Papua New Guinea_8_0",
         "New Caledonia",
         "Unknown",
         "Unknown",
         false,
         false,
         8,
         "1980-02-28",
         "New Caledonia",
         "Papua New Guinea"
        ],
        [
         "1980-02-29_Fiji_Tahiti_3_6",
         "Tahiti",
         "Unknown",
         "Unknown",
         false,
         false,
         6,
         "1980-02-29",
         "Fiji",
         "Tahiti"
        ],
        [
         "1980-02-29_Fiji_Tahiti_3_6",
         "Fiji",
         "Unknown",
         "Unknown",
         false,
         false,
         3,
         "1980-02-29",
         "Fiji",
         "Tahiti"
        ],
        [
         "1980-02-29_Fiji_Tahiti_3_6",
         "Tahiti",
         "Unknown",
         "Unknown",
         false,
         false,
         6,
         "1980-02-29",
         "Fiji",
         "Tahiti"
        ],
        [
         "1980-02-29_Fiji_Tahiti_3_6",
         "Fiji",
         "Unknown",
         "Unknown",
         false,
         false,
         3,
         "1980-02-29",
         "Fiji",
         "Tahiti"
        ],
        [
         "1980-02-29_Fiji_Tahiti_3_6",
         "Tahiti",
         "Unknown",
         "Unknown",
         false,
         false,
         6,
         "1980-02-29",
         "Fiji",
         "Tahiti"
        ],
        [
         "1980-02-29_Fiji_Tahiti_3_6",
         "Fiji",
         "Unknown",
         "Unknown",
         false,
         false,
         3,
         "1980-02-29",
         "Fiji",
         "Tahiti"
        ],
        [
         "1980-02-29_Fiji_Tahiti_3_6",
         "Tahiti",
         "Unknown",
         "Unknown",
         false,
         false,
         6,
         "1980-02-29",
         "Fiji",
         "Tahiti"
        ],
        [
         "1980-02-29_Fiji_Tahiti_3_6",
         "Tahiti",
         "Unknown",
         "Unknown",
         false,
         false,
         6,
         "1980-02-29",
         "Fiji",
         "Tahiti"
        ],
        [
         "1980-02-29_Fiji_Tahiti_3_6",
         "Tahiti",
         "Unknown",
         "Unknown",
         false,
         false,
         6,
         "1980-02-29",
         "Fiji",
         "Tahiti"
        ],
        [
         "1980-09-25_China PR_Bangladesh_6_0",
         "China PR",
         "Xu Yonglai",
         "Unknown",
         false,
         false,
         3,
         "1980-09-25",
         "China PR",
         "Bangladesh"
        ],
        [
         "1980-09-25_China PR_Bangladesh_6_0",
         "China PR",
         "Shen Xiangfu",
         "Unknown",
         false,
         false,
         3,
         "1980-09-25",
         "China PR",
         "Bangladesh"
        ],
        [
         "1980-09-25_China PR_Bangladesh_6_0",
         "China PR",
         "Xu Yonglai",
         "Unknown",
         false,
         false,
         3,
         "1980-09-25",
         "China PR",
         "Bangladesh"
        ],
        [
         "1980-09-25_China PR_Bangladesh_6_0",
         "China PR",
         "Shen Xiangfu",
         "Unknown",
         false,
         false,
         3,
         "1980-09-25",
         "China PR",
         "Bangladesh"
        ],
        [
         "1980-09-25_China PR_Bangladesh_6_0",
         "China PR",
         "Xu Yonglai",
         "Unknown",
         false,
         false,
         3,
         "1980-09-25",
         "China PR",
         "Bangladesh"
        ],
        [
         "1980-09-25_China PR_Bangladesh_6_0",
         "China PR",
         "Shen Xiangfu",
         "Unknown",
         false,
         false,
         3,
         "1980-09-25",
         "China PR",
         "Bangladesh"
        ],
        [
         "1981-03-22_Qatar_Bahrain_3_0",
         "Qatar",
         "Mansour Muftah",
         "Unknown",
         false,
         false,
         2,
         "1981-03-22",
         "Qatar",
         "Bahrain"
        ],
        [
         "1981-03-22_Qatar_Bahrain_3_0",
         "Qatar",
         "Mansour Muftah",
         "Unknown",
         false,
         false,
         2,
         "1981-03-22",
         "Qatar",
         "Bahrain"
        ],
        [
         "1981-03-24_Saudi Arabia_Syria_2_0",
         "Saudi Arabia",
         "Saud Jassem",
         "Unknown",
         false,
         false,
         2,
         "1981-03-24",
         "Saudi Arabia",
         "Syria"
        ],
        [
         "1981-03-24_Saudi Arabia_Syria_2_0",
         "Saudi Arabia",
         "Saud Jassem",
         "Unknown",
         false,
         false,
         2,
         "1981-03-24",
         "Saudi Arabia",
         "Syria"
        ],
        [
         "1981-04-22_Kuwait_Thailand_6_0",
         "Kuwait",
         "Abdulaziz Al-Anberi",
         "Unknown",
         false,
         false,
         2,
         "1981-04-22",
         "Kuwait",
         "Thailand"
        ],
        [
         "1981-04-22_Kuwait_Thailand_6_0",
         "Kuwait",
         "Abdulaziz Al-Anberi",
         "Unknown",
         false,
         false,
         2,
         "1981-04-22",
         "Kuwait",
         "Thailand"
        ],
        [
         "1981-06-06_Fiji_Taiwan_2_1",
         "Fiji",
         "Ratu Jone",
         "55.0",
         false,
         false,
         2,
         "1981-06-06",
         "Fiji",
         "Taiwan"
        ],
        [
         "1981-06-06_Fiji_Taiwan_2_1",
         "Fiji",
         "Ratu Jone",
         "55.0",
         false,
         false,
         2,
         "1981-06-06",
         "Fiji",
         "Taiwan"
        ],
        [
         "1993-06-18_Iraq_Pakistan_4_0",
         "Iraq",
         "Saad Qais",
         "Unknown",
         false,
         false,
         2,
         "1993-06-18",
         "Iraq",
         "Pakistan"
        ],
        [
         "1993-06-18_Iraq_Pakistan_4_0",
         "Iraq",
         "Saad Qais",
         "Unknown",
         false,
         false,
         2,
         "1993-06-18",
         "Iraq",
         "Pakistan"
        ],
        [
         "2001-04-30_Oman_Laos_12_0",
         "Oman",
         "Hani Al-Dhabit",
         "45.0",
         false,
         false,
         2,
         "2001-04-30",
         "Oman",
         "Laos"
        ],
        [
         "2001-04-30_Oman_Laos_12_0",
         "Oman",
         "Hani Al-Dhabit",
         "45.0",
         false,
         false,
         2,
         "2001-04-30",
         "Oman",
         "Laos"
        ],
        [
         "2002-01-30_Burkina Faso_Ghana_1_2",
         "Ghana",
         "Isaac Boakye",
         "90.0",
         false,
         false,
         2,
         "2002-01-30",
         "Burkina Faso",
         "Ghana"
        ],
        [
         "2002-01-30_Burkina Faso_Ghana_1_2",
         "Ghana",
         "Isaac Boakye",
         "90.0",
         false,
         false,
         2,
         "2002-01-30",
         "Burkina Faso",
         "Ghana"
        ],
        [
         "2003-12-03_Maldives_Mongolia_12_0",
         "Maldives",
         "Ibrahim Fazeel",
         "45.0",
         false,
         false,
         2,
         "2003-12-03",
         "Maldives",
         "Mongolia"
        ],
        [
         "2003-12-03_Maldives_Mongolia_12_0",
         "Maldives",
         "Ibrahim Fazeel",
         "45.0",
         false,
         false,
         2,
         "2003-12-03",
         "Maldives",
         "Mongolia"
        ],
        [
         "2004-10-09_Turkey_Kazakhstan_4_0",
         "Turkey",
         "Fatih Tekke",
         "90.0",
         false,
         false,
         2,
         "2004-10-09",
         "Turkey",
         "Kazakhstan"
        ],
        [
         "2004-10-09_Turkey_Kazakhstan_4_0",
         "Turkey",
         "Fatih Tekke",
         "90.0",
         false,
         false,
         2,
         "2004-10-09",
         "Turkey",
         "Kazakhstan"
        ],
        [
         "2015-06-13_Poland_Georgia_4_0",
         "Poland",
         "Robert Lewandowski",
         "90.0",
         false,
         false,
         2,
         "2015-06-13",
         "Poland",
         "Georgia"
        ],
        [
         "2015-06-13_Poland_Georgia_4_0",
         "Poland",
         "Robert Lewandowski",
         "90.0",
         false,
         false,
         2,
         "2015-06-13",
         "Poland",
         "Georgia"
        ],
        [
         "2019-09-08_Spain_Faroe Islands_4_0",
         "Spain",
         "Paco Alcácer",
         "90.0",
         false,
         false,
         2,
         "2019-09-08",
         "Spain",
         "Faroe Islands"
        ],
        [
         "2019-09-08_Spain_Faroe Islands_4_0",
         "Spain",
         "Paco Alcácer",
         "90.0",
         false,
         false,
         2,
         "2019-09-08",
         "Spain",
         "Faroe Islands"
        ],
        [
         "2021-09-05_San Marino_Poland_1_7",
         "Poland",
         "Adam Buksa",
         "90.0",
         false,
         false,
         2,
         "2021-09-05",
         "San Marino",
         "Poland"
        ],
        [
         "2021-09-05_San Marino_Poland_1_7",
         "Poland",
         "Adam Buksa",
         "90.0",
         false,
         false,
         2,
         "2021-09-05",
         "San Marino",
         "Poland"
        ],
        [
         "2021-10-12_Syria_Lebanon_2_3",
         "Lebanon",
         "Mohamad Kdouh",
         "45.0",
         false,
         false,
         2,
         "2021-10-12",
         "Syria",
         "Lebanon"
        ],
        [
         "2021-10-12_Syria_Lebanon_2_3",
         "Lebanon",
         "Mohamad Kdouh",
         "45.0",
         false,
         false,
         2,
         "2021-10-12",
         "Syria",
         "Lebanon"
        ],
        [
         "2022-09-25_Moldova_Liechtenstein_2_0",
         "Moldova",
         "Victor Stînă",
         "90.0",
         false,
         false,
         2,
         "2022-09-25",
         "Moldova",
         "Liechtenstein"
        ],
        [
         "2022-09-25_Moldova_Liechtenstein_2_0",
         "Moldova",
         "Victor Stînă",
         "90.0",
         false,
         false,
         2,
         "2022-09-25",
         "Moldova",
         "Liechtenstein"
        ]
       ],
       "datasetInfos": [],
       "dbfsResultPath": null,
       "isJsonSchema": true,
       "metadata": {},
       "overflow": false,
       "plotOptions": {
        "customPlotOptions": {},
        "displayType": "table",
        "pivotAggregation": null,
        "pivotColumns": null,
        "xColumns": null,
        "yColumns": null
       },
       "removedWidgets": [],
       "schema": [
        {
         "metadata": "{\"comment\":\"Código único de identificação da partida. Formato: YYYY-MM-DD_HomeTeam_AwayTeam_HomeScore_AwayScore.\"}",
         "name": "match_id",
         "type": "\"string\""
        },
        {
         "metadata": "{}",
         "name": "scoring_team",
         "type": "\"string\""
        },
        {
         "metadata": "{}",
         "name": "scorer",
         "type": "\"string\""
        },
        {
         "metadata": "{}",
         "name": "minute",
         "type": "\"string\""
        },
        {
         "metadata": "{}",
         "name": "is_own_goal",
         "type": "\"boolean\""
        },
        {
         "metadata": "{}",
         "name": "is_penalty",
         "type": "\"boolean\""
        },
        {
         "metadata": "{}",
         "name": "count",
         "type": "\"long\""
        },
        {
         "metadata": "{\"comment\":\"Data da partida no formato YYYY-MM-DD. Domínio: Datas entre 1872-11-30 (primeiro jogo internacional) e a data atual.\"}",
         "name": "match_date",
         "type": "\"date\""
        },
        {
         "metadata": "{}",
         "name": "home_team",
         "type": "\"string\""
        },
        {
         "metadata": "{}",
         "name": "away_team",
         "type": "\"string\""
        }
       ],
       "type": "table"
      }
     },
     "output_type": "display_data"
    }
   ],
   "source": [
    "%sql\n",
    "WITH duplicates AS (\n",
    "  SELECT \n",
    "    match_id,\n",
    "    scoring_team,\n",
    "    scorer,\n",
    "    minute,\n",
    "    is_own_goal,\n",
    "    is_penalty,\n",
    "    COUNT(*) AS count\n",
    "  FROM silver.goalscorers\n",
    "  GROUP BY \n",
    "    match_id,\n",
    "    scoring_team,\n",
    "    scorer,\n",
    "    minute,\n",
    "    is_own_goal,\n",
    "    is_penalty\n",
    "  HAVING count > 1\n",
    ")\n",
    "\n",
    "SELECT d.*, g.match_date, g.home_team, g.away_team\n",
    "FROM duplicates d\n",
    "JOIN silver.goalscorers g\n",
    "  ON d.match_id = g.match_id\n",
    "  AND d.scoring_team = g.scoring_team\n",
    "  AND d.scorer = g.scorer\n",
    "  AND d.minute = g.minute\n",
    "  AND d.is_own_goal = g.is_own_goal\n",
    "  AND d.is_penalty = g.is_penalty\n",
    "ORDER BY g.match_date;\n"
   ]
  },
  {
   "cell_type": "markdown",
   "metadata": {
    "application/vnd.databricks.v1+cell": {
     "cellMetadata": {},
     "inputWidgets": {},
     "nuid": "73a1f75a-3737-42ac-9b6a-88bfab2cc450",
     "showTitle": false,
     "tableResultSettingsMap": {},
     "title": ""
    }
   },
   "source": [
    "Após análise cuidadosa, decidiu-se manter esses registros na tabela, considerando que:\n",
    "\n",
    "- É comum que um mesmo jogador marque dois ou mais gols em uma mesma partida.\n",
    "- Em alguns casos, o campo minute não está identificado corretamente (registrado como 'Unknown'), o que dificulta a distinção temporal entre os gols, mas não invalida a ocorrência de múltiplos gols pelo mesmo atleta.\n",
    "- Gols marcados aos minutos 45 e 90 podem representar tentos nos acréscimos do primeiro e segundo tempo, respectivamente — o que reforça que repetições nesses minutos não significam, necessariamente, duplicidade indevida.\n",
    "\n",
    "Portanto, os registros foram considerados válidos e foram mantidos como parte íntegra da tabela silver.goalscorers.\n",
    "\n",
    "Para concluir a criação da tabela, são incluídos os comentários, como nas tabelas anteriores."
   ]
  },
  {
   "cell_type": "code",
   "execution_count": 0,
   "metadata": {
    "application/vnd.databricks.v1+cell": {
     "cellMetadata": {
      "byteLimit": 2048000,
      "implicitDf": true,
      "rowLimit": 10000
     },
     "inputWidgets": {},
     "nuid": "b4fafc69-b2fd-49db-8d25-3e315a1313a5",
     "showTitle": false,
     "tableResultSettingsMap": {},
     "title": ""
    }
   },
   "outputs": [
    {
     "output_type": "display_data",
     "data": {
      "text/html": [
       "<style scoped>\n",
       "  .table-result-container {\n",
       "    max-height: 300px;\n",
       "    overflow: auto;\n",
       "  }\n",
       "  table, th, td {\n",
       "    border: 1px solid black;\n",
       "    border-collapse: collapse;\n",
       "  }\n",
       "  th, td {\n",
       "    padding: 5px;\n",
       "  }\n",
       "  th {\n",
       "    text-align: left;\n",
       "  }\n",
       "</style><div class='table-result-container'><table class='table-result'><thead style='background-color: white'><tr></tr></thead><tbody></tbody></table></div>"
      ]
     },
     "metadata": {
      "application/vnd.databricks.v1+output": {
       "addedWidgets": {},
       "aggData": [],
       "aggError": "",
       "aggOverflow": false,
       "aggSchema": [],
       "aggSeriesLimitReached": false,
       "aggType": "",
       "arguments": {},
       "columnCustomDisplayInfos": {},
       "data": [],
       "datasetInfos": [],
       "dbfsResultPath": null,
       "isJsonSchema": true,
       "metadata": {},
       "overflow": false,
       "plotOptions": {
        "customPlotOptions": {},
        "displayType": "table",
        "pivotAggregation": null,
        "pivotColumns": null,
        "xColumns": null,
        "yColumns": null
       },
       "removedWidgets": [],
       "schema": [],
       "type": "table"
      }
     },
     "output_type": "display_data"
    }
   ],
   "source": [
    "%sql\n",
    "-- Comentário da tabela\n",
    "ALTER TABLE silver.goalscorers \n",
    "SET TBLPROPERTIES (\n",
    "  'comment' = 'Tabela de artilheiros de partidas internacionais. Registra quem marcou os gols, incluindo penalidades e gols contra. Fonte: bronze.goalscorers, com padronizações e match_id obtido via silver.results.'\n",
    ");\n",
    "\n",
    "-- Comentários das colunas (um comando por coluna)\n",
    "ALTER TABLE silver.goalscorers CHANGE COLUMN match_id match_id STRING \n",
    "  COMMENT 'Identificador único da partida, proveniente da tabela silver.results.';\n",
    "\n",
    "ALTER TABLE silver.goalscorers CHANGE COLUMN match_date match_date DATE \n",
    "  COMMENT 'Data da partida no formato YYYY-MM-DD.';\n",
    "\n",
    "ALTER TABLE silver.goalscorers CHANGE COLUMN scoring_team scoring_team STRING \n",
    "  COMMENT 'Nome da equipe que marcou o gol, padronizado conforme a tabela silver.former_names.';\n",
    "\n",
    "ALTER TABLE silver.goalscorers CHANGE COLUMN home_team home_team STRING \n",
    "  COMMENT 'Nome do time mandante na partida, padronizado conforme a tabela silver.former_names.';\n",
    "\n",
    "ALTER TABLE silver.goalscorers CHANGE COLUMN away_team away_team STRING \n",
    "  COMMENT 'Nome do time visitante na partida, padronizado conforme a tabela silver.former_names.';\n",
    "\n",
    "ALTER TABLE silver.goalscorers CHANGE COLUMN scorer scorer STRING \n",
    "  COMMENT 'Nome do jogador que marcou o gol. Domínio: texto livre (ex: \"Pelé\", \"Messi\"). Se ausente, recebe \"Unknown\".';\n",
    "\n",
    "ALTER TABLE silver.goalscorers CHANGE COLUMN minute minute STRING \n",
    "  COMMENT 'Minuto do gol como texto (ex: \"45+1\", \"89\"). Se ausente, recebe \"Unknown\".';\n",
    "\n",
    "ALTER TABLE silver.goalscorers CHANGE COLUMN is_own_goal is_own_goal BOOLEAN \n",
    "  COMMENT 'Indica se o gol foi contra. TRUE para gol contra, FALSE caso contrário.';\n",
    "\n",
    "ALTER TABLE silver.goalscorers CHANGE COLUMN is_penalty is_penalty BOOLEAN \n",
    "  COMMENT 'Indica se o gol foi de pênalti. TRUE para penalidade, FALSE caso contrário.';\n"
   ]
  },
  {
   "cell_type": "code",
   "execution_count": 0,
   "metadata": {
    "application/vnd.databricks.v1+cell": {
     "cellMetadata": {
      "byteLimit": 2048000,
      "implicitDf": true,
      "rowLimit": 10000
     },
     "inputWidgets": {},
     "nuid": "a03944c2-3c5b-4dde-8a0d-55ed8ed186b0",
     "showTitle": false,
     "tableResultSettingsMap": {},
     "title": ""
    }
   },
   "outputs": [
    {
     "output_type": "display_data",
     "data": {
      "text/html": [
       "<style scoped>\n",
       "  .table-result-container {\n",
       "    max-height: 300px;\n",
       "    overflow: auto;\n",
       "  }\n",
       "  table, th, td {\n",
       "    border: 1px solid black;\n",
       "    border-collapse: collapse;\n",
       "  }\n",
       "  th, td {\n",
       "    padding: 5px;\n",
       "  }\n",
       "  th {\n",
       "    text-align: left;\n",
       "  }\n",
       "</style><div class='table-result-container'><table class='table-result'><thead style='background-color: white'><tr><th>col_name</th><th>data_type</th><th>comment</th></tr></thead><tbody><tr><td>match_id</td><td>string</td><td>Identificador único da partida, proveniente da tabela silver.results.</td></tr><tr><td>match_date</td><td>date</td><td>Data da partida no formato YYYY-MM-DD.</td></tr><tr><td>scoring_team</td><td>string</td><td>Nome da equipe que marcou o gol, padronizado conforme a tabela silver.former_names.</td></tr><tr><td>home_team</td><td>string</td><td>Nome do time mandante na partida, padronizado conforme a tabela silver.former_names.</td></tr><tr><td>away_team</td><td>string</td><td>Nome do time visitante na partida, padronizado conforme a tabela silver.former_names.</td></tr><tr><td>scorer</td><td>string</td><td>Nome do jogador que marcou o gol. Domínio: texto livre (ex: \"Pelé\", \"Messi\"). Se ausente, recebe \"Unknown\".</td></tr><tr><td>minute</td><td>string</td><td>Minuto do gol como texto (ex: \"45+1\", \"89\"). Se ausente, recebe \"Unknown\".</td></tr><tr><td>is_own_goal</td><td>boolean</td><td>Indica se o gol foi contra. TRUE para gol contra, FALSE caso contrário.</td></tr><tr><td>is_penalty</td><td>boolean</td><td>Indica se o gol foi de pênalti. TRUE para penalidade, FALSE caso contrário.</td></tr></tbody></table></div>"
      ]
     },
     "metadata": {
      "application/vnd.databricks.v1+output": {
       "addedWidgets": {},
       "aggData": [],
       "aggError": "",
       "aggOverflow": false,
       "aggSchema": [],
       "aggSeriesLimitReached": false,
       "aggType": "",
       "arguments": {},
       "columnCustomDisplayInfos": {},
       "data": [
        [
         "match_id",
         "string",
         "Identificador único da partida, proveniente da tabela silver.results."
        ],
        [
         "match_date",
         "date",
         "Data da partida no formato YYYY-MM-DD."
        ],
        [
         "scoring_team",
         "string",
         "Nome da equipe que marcou o gol, padronizado conforme a tabela silver.former_names."
        ],
        [
         "home_team",
         "string",
         "Nome do time mandante na partida, padronizado conforme a tabela silver.former_names."
        ],
        [
         "away_team",
         "string",
         "Nome do time visitante na partida, padronizado conforme a tabela silver.former_names."
        ],
        [
         "scorer",
         "string",
         "Nome do jogador que marcou o gol. Domínio: texto livre (ex: \"Pelé\", \"Messi\"). Se ausente, recebe \"Unknown\"."
        ],
        [
         "minute",
         "string",
         "Minuto do gol como texto (ex: \"45+1\", \"89\"). Se ausente, recebe \"Unknown\"."
        ],
        [
         "is_own_goal",
         "boolean",
         "Indica se o gol foi contra. TRUE para gol contra, FALSE caso contrário."
        ],
        [
         "is_penalty",
         "boolean",
         "Indica se o gol foi de pênalti. TRUE para penalidade, FALSE caso contrário."
        ]
       ],
       "datasetInfos": [],
       "dbfsResultPath": null,
       "isJsonSchema": true,
       "metadata": {},
       "overflow": false,
       "plotOptions": {
        "customPlotOptions": {},
        "displayType": "table",
        "pivotAggregation": null,
        "pivotColumns": null,
        "xColumns": null,
        "yColumns": null
       },
       "removedWidgets": [],
       "schema": [
        {
         "metadata": "{\"comment\":\"name of the column\"}",
         "name": "col_name",
         "type": "\"string\""
        },
        {
         "metadata": "{\"comment\":\"data type of the column\"}",
         "name": "data_type",
         "type": "\"string\""
        },
        {
         "metadata": "{\"comment\":\"comment of the column\"}",
         "name": "comment",
         "type": "\"string\""
        }
       ],
       "type": "table"
      }
     },
     "output_type": "display_data"
    }
   ],
   "source": [
    "%sql\n",
    "DESCRIBE TABLE silver.goalscorers"
   ]
  },
  {
   "cell_type": "markdown",
   "metadata": {
    "application/vnd.databricks.v1+cell": {
     "cellMetadata": {
      "byteLimit": 2048000,
      "rowLimit": 10000
     },
     "inputWidgets": {},
     "nuid": "899d9f0d-7a3c-496c-bf34-784d66463470",
     "showTitle": false,
     "tableResultSettingsMap": {},
     "title": ""
    }
   },
   "source": [
    "### 4.2.5 Tabela FIFA_Ranking\n",
    "A tabela silver.fifa_ranking foi criada a partir da base bruta bronze.fifa_ranking, contendo os rankings históricos das seleções nacionais publicados pela FIFA entre 1992 e 2024. Durante o processo de transformação, foi realizada a conversão explícita de tipos para os campos de posição no ranking (rank), pontuação total (total_points) e variação no ranking (rank_change) a fim de garantir consistência numérica. Para assegurar a padronização dos nomes das seleções ao longo do tempo, foi aplicada uma junção com a tabela silver.former_names, utilizando uma comparação case-insensitive e ignorando espaços em branco. Também foram incluídas as colunas confederation e rank_change para enriquecer a análise posterior. Por fim, registros com a data de ranking nula foram desconsiderados para garantir integridade temporal."
   ]
  },
  {
   "cell_type": "code",
   "execution_count": 0,
   "metadata": {
    "application/vnd.databricks.v1+cell": {
     "cellMetadata": {
      "byteLimit": 2048000,
      "implicitDf": true,
      "rowLimit": 10000
     },
     "inputWidgets": {},
     "nuid": "9c5bcab1-e856-4a78-b1a7-dfa1df826856",
     "showTitle": false,
     "tableResultSettingsMap": {},
     "title": ""
    }
   },
   "outputs": [
    {
     "output_type": "display_data",
     "data": {
      "text/html": [
       "<style scoped>\n",
       "  .table-result-container {\n",
       "    max-height: 300px;\n",
       "    overflow: auto;\n",
       "  }\n",
       "  table, th, td {\n",
       "    border: 1px solid black;\n",
       "    border-collapse: collapse;\n",
       "  }\n",
       "  th, td {\n",
       "    padding: 5px;\n",
       "  }\n",
       "  th {\n",
       "    text-align: left;\n",
       "  }\n",
       "</style><div class='table-result-container'><table class='table-result'><thead style='background-color: white'><tr><th>num_affected_rows</th><th>num_inserted_rows</th></tr></thead><tbody></tbody></table></div>"
      ]
     },
     "metadata": {
      "application/vnd.databricks.v1+output": {
       "addedWidgets": {},
       "aggData": [],
       "aggError": "",
       "aggOverflow": false,
       "aggSchema": [],
       "aggSeriesLimitReached": false,
       "aggType": "",
       "arguments": {},
       "columnCustomDisplayInfos": {},
       "data": [],
       "datasetInfos": [],
       "dbfsResultPath": null,
       "isJsonSchema": true,
       "metadata": {},
       "overflow": false,
       "plotOptions": {
        "customPlotOptions": {},
        "displayType": "table",
        "pivotAggregation": null,
        "pivotColumns": null,
        "xColumns": null,
        "yColumns": null
       },
       "removedWidgets": [],
       "schema": [
        {
         "metadata": "{}",
         "name": "num_affected_rows",
         "type": "\"long\""
        },
        {
         "metadata": "{}",
         "name": "num_inserted_rows",
         "type": "\"long\""
        }
       ],
       "type": "table"
      }
     },
     "output_type": "display_data"
    }
   ],
   "source": [
    "%sql\n",
    "DROP TABLE IF EXISTS silver.fifa_ranking;\n",
    "\n",
    "CREATE TABLE silver.fifa_ranking AS\n",
    "SELECT \n",
    "  date(r.rank_date) AS rank_date,\n",
    "  COALESCE(fn.current, r.country_full) AS country,\n",
    "  CAST(r.rank AS INT) AS rank,\n",
    "  CAST(r.total_points AS DECIMAL(10,2)) AS total_points,\n",
    "  r.confederation,  -- Adicionado exemplo extra\n",
    "  CAST(r.rank_change AS INT) AS rank_change  -- Adicionado exemplo extra\n",
    "FROM bronze.fifa_ranking r\n",
    "LEFT JOIN silver.former_names fn \n",
    "  ON TRIM(UPPER(r.country_full)) = TRIM(UPPER(fn.former))  -- Exemplo: join case-insensitive\n",
    "WHERE r.rank_date IS NOT NULL;  -- Exemplo: filtrar nulo"
   ]
  },
  {
   "cell_type": "markdown",
   "metadata": {
    "application/vnd.databricks.v1+cell": {
     "cellMetadata": {},
     "inputWidgets": {},
     "nuid": "cb9f8f87-fde3-441c-aa89-90329df9ee2e",
     "showTitle": false,
     "tableResultSettingsMap": {},
     "title": ""
    }
   },
   "source": [
    "As transformações são validadas."
   ]
  },
  {
   "cell_type": "code",
   "execution_count": 0,
   "metadata": {
    "application/vnd.databricks.v1+cell": {
     "cellMetadata": {
      "byteLimit": 2048000,
      "implicitDf": true,
      "rowLimit": 10000
     },
     "inputWidgets": {},
     "nuid": "aa6b8314-8f20-44ff-9ef7-6be4f710d927",
     "showTitle": false,
     "tableResultSettingsMap": {},
     "title": ""
    }
   },
   "outputs": [
    {
     "output_type": "display_data",
     "data": {
      "text/html": [
       "<style scoped>\n",
       "  .table-result-container {\n",
       "    max-height: 300px;\n",
       "    overflow: auto;\n",
       "  }\n",
       "  table, th, td {\n",
       "    border: 1px solid black;\n",
       "    border-collapse: collapse;\n",
       "  }\n",
       "  th, td {\n",
       "    padding: 5px;\n",
       "  }\n",
       "  th {\n",
       "    text-align: left;\n",
       "  }\n",
       "</style><div class='table-result-container'><table class='table-result'><thead style='background-color: white'><tr><th>total_records</th><th>unique_entries</th><th>source_count</th><th>null_dates</th><th>null_countries</th><th>null_ranks</th><th>null_points</th><th>invalid_ranks</th><th>basic_validation</th><th>uniqueness_validation</th><th>count_validation</th></tr></thead><tbody><tr><td>67472</td><td>67472</td><td>67472</td><td>0</td><td>0</td><td>9</td><td>0</td><td>0</td><td>❌ Problemas encontrados nos dados</td><td>✅ Um único ranking por data e país</td><td>✅ Volume consistente com a base original</td></tr></tbody></table></div>"
      ]
     },
     "metadata": {
      "application/vnd.databricks.v1+output": {
       "addedWidgets": {},
       "aggData": [],
       "aggError": "",
       "aggOverflow": false,
       "aggSchema": [],
       "aggSeriesLimitReached": false,
       "aggType": "",
       "arguments": {},
       "columnCustomDisplayInfos": {},
       "data": [
        [
         67472,
         67472,
         67472,
         0,
         0,
         9,
         0,
         0,
         "❌ Problemas encontrados nos dados",
         "✅ Um único ranking por data e país",
         "✅ Volume consistente com a base original"
        ]
       ],
       "datasetInfos": [],
       "dbfsResultPath": null,
       "isJsonSchema": true,
       "metadata": {},
       "overflow": false,
       "plotOptions": {
        "customPlotOptions": {},
        "displayType": "table",
        "pivotAggregation": null,
        "pivotColumns": null,
        "xColumns": null,
        "yColumns": null
       },
       "removedWidgets": [],
       "schema": [
        {
         "metadata": "{}",
         "name": "total_records",
         "type": "\"long\""
        },
        {
         "metadata": "{}",
         "name": "unique_entries",
         "type": "\"long\""
        },
        {
         "metadata": "{}",
         "name": "source_count",
         "type": "\"long\""
        },
        {
         "metadata": "{}",
         "name": "null_dates",
         "type": "\"long\""
        },
        {
         "metadata": "{}",
         "name": "null_countries",
         "type": "\"long\""
        },
        {
         "metadata": "{}",
         "name": "null_ranks",
         "type": "\"long\""
        },
        {
         "metadata": "{}",
         "name": "null_points",
         "type": "\"long\""
        },
        {
         "metadata": "{}",
         "name": "invalid_ranks",
         "type": "\"long\""
        },
        {
         "metadata": "{}",
         "name": "basic_validation",
         "type": "\"string\""
        },
        {
         "metadata": "{}",
         "name": "uniqueness_validation",
         "type": "\"string\""
        },
        {
         "metadata": "{}",
         "name": "count_validation",
         "type": "\"string\""
        }
       ],
       "type": "table"
      }
     },
     "output_type": "display_data"
    }
   ],
   "source": [
    "%sql\n",
    "WITH checks AS (\n",
    "  SELECT\n",
    "    COUNT(*) AS total_records,\n",
    "\n",
    "    -- Validação de campos obrigatórios\n",
    "    SUM(CASE WHEN rank_date IS NULL THEN 1 ELSE 0 END) AS null_dates,\n",
    "    SUM(CASE WHEN country IS NULL THEN 1 ELSE 0 END) AS null_countries,\n",
    "    SUM(CASE WHEN rank IS NULL THEN 1 ELSE 0 END) AS null_ranks,\n",
    "    SUM(CASE WHEN total_points IS NULL THEN 1 ELSE 0 END) AS null_points,\n",
    "\n",
    "    -- Rank deve ser positivo\n",
    "    SUM(CASE WHEN rank <= 0 THEN 1 ELSE 0 END) AS invalid_ranks,\n",
    "\n",
    "    -- Verificação de duplicidade\n",
    "    COUNT(DISTINCT CONCAT(rank_date, '-', country)) AS unique_entries,\n",
    "\n",
    "    -- Total original da bronze, após filtro\n",
    "    (SELECT COUNT(*) FROM bronze.fifa_ranking WHERE rank_date IS NOT NULL) AS source_count\n",
    "\n",
    "  FROM silver.fifa_ranking\n",
    ")\n",
    "\n",
    "SELECT\n",
    "  total_records,\n",
    "  unique_entries,\n",
    "  source_count,\n",
    "  null_dates,\n",
    "  null_countries,\n",
    "  null_ranks,\n",
    "  null_points,\n",
    "  invalid_ranks,\n",
    "\n",
    "  -- Validação geral dos dados\n",
    "  CASE\n",
    "    WHEN null_dates = 0 AND null_countries = 0 AND null_ranks = 0 AND null_points = 0 AND invalid_ranks = 0\n",
    "    THEN '✅ Validações básicas passaram'\n",
    "    ELSE '❌ Problemas encontrados nos dados'\n",
    "  END AS basic_validation,\n",
    "\n",
    "  -- Validação de unicidade (por data e país)\n",
    "  CASE\n",
    "    WHEN total_records = unique_entries \n",
    "    THEN '✅ Um único ranking por data e país'\n",
    "    ELSE '❌ Rankings duplicados encontrados'\n",
    "  END AS uniqueness_validation,\n",
    "\n",
    "  -- Validação de volume\n",
    "  CASE\n",
    "    WHEN total_records = source_count \n",
    "    THEN '✅ Volume consistente com a base original'\n",
    "    ELSE '❌ Divergência na contagem de registros'\n",
    "  END AS count_validation\n",
    "\n",
    "FROM checks;\n"
   ]
  },
  {
   "cell_type": "markdown",
   "metadata": {
    "application/vnd.databricks.v1+cell": {
     "cellMetadata": {
      "byteLimit": 2048000,
      "rowLimit": 10000
     },
     "inputWidgets": {},
     "nuid": "54e746b9-5056-407e-b9a4-a299ea88259f",
     "showTitle": false,
     "tableResultSettingsMap": {},
     "title": ""
    }
   },
   "source": [
    "Foram encontrados 9 valores null na coluna referente ao ranking. Os mesmos são listados e em seguida é realizada a correção, deletando os mesmos da lista, pois não é um dado possível de ser substituído por algum valor arbitrário."
   ]
  },
  {
   "cell_type": "code",
   "execution_count": 0,
   "metadata": {
    "application/vnd.databricks.v1+cell": {
     "cellMetadata": {
      "byteLimit": 2048000,
      "implicitDf": true,
      "rowLimit": 10000
     },
     "inputWidgets": {},
     "nuid": "fdad3249-6833-4534-a6dc-8d99bb228c81",
     "showTitle": false,
     "tableResultSettingsMap": {},
     "title": ""
    }
   },
   "outputs": [
    {
     "output_type": "display_data",
     "data": {
      "text/html": [
       "<style scoped>\n",
       "  .table-result-container {\n",
       "    max-height: 300px;\n",
       "    overflow: auto;\n",
       "  }\n",
       "  table, th, td {\n",
       "    border: 1px solid black;\n",
       "    border-collapse: collapse;\n",
       "  }\n",
       "  th, td {\n",
       "    padding: 5px;\n",
       "  }\n",
       "  th {\n",
       "    text-align: left;\n",
       "  }\n",
       "</style><div class='table-result-container'><table class='table-result'><thead style='background-color: white'><tr><th>rank_date</th><th>country</th><th>rank</th><th>total_points</th><th>confederation</th><th>rank_change</th></tr></thead><tbody><tr><td>2023-10-26</td><td>Eritrea</td><td>null</td><td>855.56</td><td>CAF</td><td>0</td></tr><tr><td>2023-10-26</td><td>Tonga</td><td>null</td><td>861.81</td><td>OFC</td><td>0</td></tr><tr><td>2023-10-26</td><td>Samoa</td><td>null</td><td>894.26</td><td>OFC</td><td>0</td></tr><tr><td>2023-10-26</td><td>American Samoa</td><td>null</td><td>900.27</td><td>OFC</td><td>0</td></tr><tr><td>2023-11-30</td><td>Eritrea</td><td>null</td><td>855.56</td><td>CAF</td><td>0</td></tr><tr><td>2023-12-21</td><td>Eritrea</td><td>null</td><td>855.56</td><td>CAF</td><td>0</td></tr><tr><td>2024-02-15</td><td>Eritrea</td><td>null</td><td>855.56</td><td>CAF</td><td>0</td></tr><tr><td>2024-04-04</td><td>Eritrea</td><td>null</td><td>855.56</td><td>CAF</td><td>0</td></tr><tr><td>2024-06-20</td><td>Eritrea</td><td>null</td><td>855.56</td><td>CAF</td><td>0</td></tr></tbody></table></div>"
      ]
     },
     "metadata": {
      "application/vnd.databricks.v1+output": {
       "addedWidgets": {},
       "aggData": [],
       "aggError": "",
       "aggOverflow": false,
       "aggSchema": [],
       "aggSeriesLimitReached": false,
       "aggType": "",
       "arguments": {},
       "columnCustomDisplayInfos": {},
       "data": [
        [
         "2023-10-26",
         "Eritrea",
         null,
         "855.56",
         "CAF",
         0
        ],
        [
         "2023-10-26",
         "Tonga",
         null,
         "861.81",
         "OFC",
         0
        ],
        [
         "2023-10-26",
         "Samoa",
         null,
         "894.26",
         "OFC",
         0
        ],
        [
         "2023-10-26",
         "American Samoa",
         null,
         "900.27",
         "OFC",
         0
        ],
        [
         "2023-11-30",
         "Eritrea",
         null,
         "855.56",
         "CAF",
         0
        ],
        [
         "2023-12-21",
         "Eritrea",
         null,
         "855.56",
         "CAF",
         0
        ],
        [
         "2024-02-15",
         "Eritrea",
         null,
         "855.56",
         "CAF",
         0
        ],
        [
         "2024-04-04",
         "Eritrea",
         null,
         "855.56",
         "CAF",
         0
        ],
        [
         "2024-06-20",
         "Eritrea",
         null,
         "855.56",
         "CAF",
         0
        ]
       ],
       "datasetInfos": [],
       "dbfsResultPath": null,
       "isJsonSchema": true,
       "metadata": {},
       "overflow": false,
       "plotOptions": {
        "customPlotOptions": {},
        "displayType": "table",
        "pivotAggregation": null,
        "pivotColumns": null,
        "xColumns": null,
        "yColumns": null
       },
       "removedWidgets": [],
       "schema": [
        {
         "metadata": "{}",
         "name": "rank_date",
         "type": "\"date\""
        },
        {
         "metadata": "{}",
         "name": "country",
         "type": "\"string\""
        },
        {
         "metadata": "{}",
         "name": "rank",
         "type": "\"integer\""
        },
        {
         "metadata": "{}",
         "name": "total_points",
         "type": "\"decimal(10,2)\""
        },
        {
         "metadata": "{}",
         "name": "confederation",
         "type": "\"string\""
        },
        {
         "metadata": "{}",
         "name": "rank_change",
         "type": "\"integer\""
        }
       ],
       "type": "table"
      }
     },
     "output_type": "display_data"
    }
   ],
   "source": [
    "%sql\n",
    "SELECT *\n",
    "FROM silver.fifa_ranking\n",
    "WHERE rank IS NULL OR rank < 1 OR rank > 216; -- Assumindo que há 211 países no ranking"
   ]
  },
  {
   "cell_type": "code",
   "execution_count": 0,
   "metadata": {
    "application/vnd.databricks.v1+cell": {
     "cellMetadata": {
      "byteLimit": 2048000,
      "implicitDf": true,
      "rowLimit": 10000
     },
     "inputWidgets": {},
     "nuid": "28a6fe20-3b34-4ee1-97c2-079c3103ef85",
     "showTitle": false,
     "tableResultSettingsMap": {},
     "title": ""
    }
   },
   "outputs": [
    {
     "output_type": "display_data",
     "data": {
      "text/html": [
       "<style scoped>\n",
       "  .table-result-container {\n",
       "    max-height: 300px;\n",
       "    overflow: auto;\n",
       "  }\n",
       "  table, th, td {\n",
       "    border: 1px solid black;\n",
       "    border-collapse: collapse;\n",
       "  }\n",
       "  th, td {\n",
       "    padding: 5px;\n",
       "  }\n",
       "  th {\n",
       "    text-align: left;\n",
       "  }\n",
       "</style><div class='table-result-container'><table class='table-result'><thead style='background-color: white'><tr><th>num_affected_rows</th></tr></thead><tbody><tr><td>9</td></tr></tbody></table></div>"
      ]
     },
     "metadata": {
      "application/vnd.databricks.v1+output": {
       "addedWidgets": {},
       "aggData": [],
       "aggError": "",
       "aggOverflow": false,
       "aggSchema": [],
       "aggSeriesLimitReached": false,
       "aggType": "",
       "arguments": {},
       "columnCustomDisplayInfos": {},
       "data": [
        [
         9
        ]
       ],
       "datasetInfos": [],
       "dbfsResultPath": null,
       "isJsonSchema": true,
       "metadata": {},
       "overflow": false,
       "plotOptions": {
        "customPlotOptions": {},
        "displayType": "table",
        "pivotAggregation": null,
        "pivotColumns": null,
        "xColumns": null,
        "yColumns": null
       },
       "removedWidgets": [],
       "schema": [
        {
         "metadata": "{}",
         "name": "num_affected_rows",
         "type": "\"long\""
        }
       ],
       "type": "table"
      }
     },
     "output_type": "display_data"
    }
   ],
   "source": [
    "%sql\n",
    "DELETE FROM silver.fifa_ranking\n",
    "WHERE rank IS NULL OR rank < 1 OR rank > 216;"
   ]
  },
  {
   "cell_type": "markdown",
   "metadata": {
    "application/vnd.databricks.v1+cell": {
     "cellMetadata": {
      "byteLimit": 2048000,
      "rowLimit": 10000
     },
     "inputWidgets": {},
     "nuid": "814ff5e2-128f-46ca-989d-0a172278f980",
     "showTitle": false,
     "tableResultSettingsMap": {},
     "title": ""
    }
   },
   "source": [
    "Verificando a exclusão."
   ]
  },
  {
   "cell_type": "code",
   "execution_count": 0,
   "metadata": {
    "application/vnd.databricks.v1+cell": {
     "cellMetadata": {
      "byteLimit": 2048000,
      "implicitDf": true,
      "rowLimit": 10000
     },
     "inputWidgets": {},
     "nuid": "edc5d039-4360-416a-b6f8-bcabfb2b1fab",
     "showTitle": false,
     "tableResultSettingsMap": {},
     "title": ""
    }
   },
   "outputs": [
    {
     "output_type": "display_data",
     "data": {
      "text/html": [
       "<style scoped>\n",
       "  .table-result-container {\n",
       "    max-height: 300px;\n",
       "    overflow: auto;\n",
       "  }\n",
       "  table, th, td {\n",
       "    border: 1px solid black;\n",
       "    border-collapse: collapse;\n",
       "  }\n",
       "  th, td {\n",
       "    padding: 5px;\n",
       "  }\n",
       "  th {\n",
       "    text-align: left;\n",
       "  }\n",
       "</style><div class='table-result-container'><table class='table-result'><thead style='background-color: white'><tr><th>rank_date</th><th>country</th><th>rank</th><th>total_points</th><th>confederation</th><th>rank_change</th></tr></thead><tbody></tbody></table></div>"
      ]
     },
     "metadata": {
      "application/vnd.databricks.v1+output": {
       "addedWidgets": {},
       "aggData": [],
       "aggError": "",
       "aggOverflow": false,
       "aggSchema": [],
       "aggSeriesLimitReached": false,
       "aggType": "",
       "arguments": {},
       "columnCustomDisplayInfos": {},
       "data": [],
       "datasetInfos": [],
       "dbfsResultPath": null,
       "isJsonSchema": true,
       "metadata": {},
       "overflow": false,
       "plotOptions": {
        "customPlotOptions": {},
        "displayType": "table",
        "pivotAggregation": null,
        "pivotColumns": null,
        "xColumns": null,
        "yColumns": null
       },
       "removedWidgets": [],
       "schema": [
        {
         "metadata": "{}",
         "name": "rank_date",
         "type": "\"date\""
        },
        {
         "metadata": "{}",
         "name": "country",
         "type": "\"string\""
        },
        {
         "metadata": "{}",
         "name": "rank",
         "type": "\"integer\""
        },
        {
         "metadata": "{}",
         "name": "total_points",
         "type": "\"decimal(10,2)\""
        },
        {
         "metadata": "{}",
         "name": "confederation",
         "type": "\"string\""
        },
        {
         "metadata": "{}",
         "name": "rank_change",
         "type": "\"integer\""
        }
       ],
       "type": "table"
      }
     },
     "output_type": "display_data"
    }
   ],
   "source": [
    "%sql\n",
    "SELECT *\n",
    "FROM silver.fifa_ranking\n",
    "WHERE rank IS NULL OR rank < 1 OR rank > 216; -- Assumindo que há 216 países no ranking"
   ]
  },
  {
   "cell_type": "markdown",
   "metadata": {
    "application/vnd.databricks.v1+cell": {
     "cellMetadata": {
      "byteLimit": 2048000,
      "rowLimit": 10000
     },
     "inputWidgets": {},
     "nuid": "987221b5-6dc3-4916-9dfc-89a9983542e6",
     "showTitle": false,
     "tableResultSettingsMap": {},
     "title": ""
    }
   },
   "source": [
    "Também são atualizados os nomes de alguns países para ficar de acordo com o registrado na tabela results."
   ]
  },
  {
   "cell_type": "code",
   "execution_count": 0,
   "metadata": {
    "application/vnd.databricks.v1+cell": {
     "cellMetadata": {
      "byteLimit": 2048000,
      "implicitDf": true,
      "rowLimit": 10000
     },
     "inputWidgets": {},
     "nuid": "18f502ae-1b4a-4e1b-b661-0460147fa0f0",
     "showTitle": false,
     "tableResultSettingsMap": {},
     "title": ""
    }
   },
   "outputs": [
    {
     "output_type": "display_data",
     "data": {
      "text/html": [
       "<style scoped>\n",
       "  .table-result-container {\n",
       "    max-height: 300px;\n",
       "    overflow: auto;\n",
       "  }\n",
       "  table, th, td {\n",
       "    border: 1px solid black;\n",
       "    border-collapse: collapse;\n",
       "  }\n",
       "  th, td {\n",
       "    padding: 5px;\n",
       "  }\n",
       "  th {\n",
       "    text-align: left;\n",
       "  }\n",
       "</style><div class='table-result-container'><table class='table-result'><thead style='background-color: white'><tr><th>num_affected_rows</th></tr></thead><tbody><tr><td>5594</td></tr></tbody></table></div>"
      ]
     },
     "metadata": {
      "application/vnd.databricks.v1+output": {
       "addedWidgets": {},
       "aggData": [],
       "aggError": "",
       "aggOverflow": false,
       "aggSchema": [],
       "aggSeriesLimitReached": false,
       "aggType": "",
       "arguments": {},
       "columnCustomDisplayInfos": {},
       "data": [
        [
         5594
        ]
       ],
       "datasetInfos": [],
       "dbfsResultPath": null,
       "isJsonSchema": true,
       "metadata": {},
       "overflow": false,
       "plotOptions": {
        "customPlotOptions": {},
        "displayType": "table",
        "pivotAggregation": null,
        "pivotColumns": null,
        "xColumns": null,
        "yColumns": null
       },
       "removedWidgets": [],
       "schema": [
        {
         "metadata": "{}",
         "name": "num_affected_rows",
         "type": "\"long\""
        }
       ],
       "type": "table"
      }
     },
     "output_type": "display_data"
    }
   ],
   "source": [
    "%sql\n",
    "-- Atualiza os nomes dos países na tabela silver.ranking para padronização\n",
    "UPDATE silver.fifa_ranking\n",
    "SET country = CASE \n",
    "    WHEN country = 'Brunei Darussalam' THEN 'Brunei'\n",
    "    WHEN country = 'Congo DR' THEN 'DR Congo'\n",
    "    WHEN country = 'Chinese Taipei' THEN 'Taiwan'\n",
    "    WHEN country = 'Cabo Verde' THEN 'Cape Verde'\n",
    "    WHEN country = 'Curacao' THEN 'Curaçao'\n",
    "    WHEN country = 'Czechia' THEN 'Czech Republic'\n",
    "    WHEN country = 'The Gambia' THEN 'Gambia'\n",
    "    WHEN country = 'IR Iran' THEN 'Iran'\n",
    "    WHEN country = \"Côte d'Ivoire\" THEN 'Ivory Coast'\n",
    "    WHEN country = 'Kyrgyz Republic' THEN 'Kyrgyzstan'\n",
    "    WHEN country = 'Korea DPR' THEN 'North Korea'\n",
    "    WHEN country = 'St Kitts and Nevis' THEN 'Saint Kitts and Nevis'\n",
    "    WHEN country = 'St Lucia' THEN 'Saint Lucia'\n",
    "    WHEN country = 'Korea Republic' THEN 'South Korea'\n",
    "    WHEN country = 'Sao Tome and Principe' THEN 'São Tomé and Príncipe'\n",
    "    WHEN country = 'USA' THEN 'United States'\n",
    "    WHEN country = 'St Vincent and the Grenadines' THEN 'Saint Vincent and the Grenadines'\n",
    "    WHEN country = 'US Virgin Islands' THEN 'United States Virgin Islands'\n",
    "    ELSE country\n",
    "END\n",
    "WHERE country IN (\n",
    "    'Brunei Darussalam', 'Congo DR', 'Chinese Taipei', 'Cabo Verde', \n",
    "    'Curacao', 'Czechia', 'The Gambia', 'IR Iran', \"Côte d'Ivoire\", \n",
    "    'Korea DPR', 'St Kitts and Nevis', 'St Lucia', 'Korea Republic', \n",
    "    'Sao Tome and Principe', 'USA', 'Kyrgyz Republic', \n",
    "    'St Vincent and the Grenadines', 'US Virgin Islands'\n",
    ");"
   ]
  },
  {
   "cell_type": "code",
   "execution_count": 0,
   "metadata": {
    "application/vnd.databricks.v1+cell": {
     "cellMetadata": {
      "byteLimit": 2048000,
      "implicitDf": true,
      "rowLimit": 10000
     },
     "inputWidgets": {},
     "nuid": "d99dfeff-f3c1-438d-a1fe-73193947d6dc",
     "showTitle": false,
     "tableResultSettingsMap": {},
     "title": ""
    }
   },
   "outputs": [
    {
     "output_type": "display_data",
     "data": {
      "text/html": [
       "<style scoped>\n",
       "  .table-result-container {\n",
       "    max-height: 300px;\n",
       "    overflow: auto;\n",
       "  }\n",
       "  table, th, td {\n",
       "    border: 1px solid black;\n",
       "    border-collapse: collapse;\n",
       "  }\n",
       "  th, td {\n",
       "    padding: 5px;\n",
       "  }\n",
       "  th {\n",
       "    text-align: left;\n",
       "  }\n",
       "</style><div class='table-result-container'><table class='table-result'><thead style='background-color: white'><tr><th>country</th></tr></thead><tbody><tr><td>Brunei</td></tr><tr><td>Cape Verde</td></tr><tr><td>Curaçao</td></tr><tr><td>Czech Republic</td></tr><tr><td>DR Congo</td></tr><tr><td>Gambia</td></tr><tr><td>Iran</td></tr><tr><td>Ivory Coast</td></tr><tr><td>Kyrgyzstan</td></tr><tr><td>North Korea</td></tr><tr><td>Saint Kitts and Nevis</td></tr><tr><td>Saint Lucia</td></tr><tr><td>Saint Vincent and the Grenadines</td></tr><tr><td>South Korea</td></tr><tr><td>São Tomé and Príncipe</td></tr><tr><td>Taiwan</td></tr><tr><td>United States Virgin Islands</td></tr></tbody></table></div>"
      ]
     },
     "metadata": {
      "application/vnd.databricks.v1+output": {
       "addedWidgets": {},
       "aggData": [],
       "aggError": "",
       "aggOverflow": false,
       "aggSchema": [],
       "aggSeriesLimitReached": false,
       "aggType": "",
       "arguments": {},
       "columnCustomDisplayInfos": {},
       "data": [
        [
         "Brunei"
        ],
        [
         "Cape Verde"
        ],
        [
         "Curaçao"
        ],
        [
         "Czech Republic"
        ],
        [
         "DR Congo"
        ],
        [
         "Gambia"
        ],
        [
         "Iran"
        ],
        [
         "Ivory Coast"
        ],
        [
         "Kyrgyzstan"
        ],
        [
         "North Korea"
        ],
        [
         "Saint Kitts and Nevis"
        ],
        [
         "Saint Lucia"
        ],
        [
         "Saint Vincent and the Grenadines"
        ],
        [
         "South Korea"
        ],
        [
         "São Tomé and Príncipe"
        ],
        [
         "Taiwan"
        ],
        [
         "United States Virgin Islands"
        ]
       ],
       "datasetInfos": [],
       "dbfsResultPath": null,
       "isJsonSchema": true,
       "metadata": {},
       "overflow": false,
       "plotOptions": {
        "customPlotOptions": {},
        "displayType": "table",
        "pivotAggregation": null,
        "pivotColumns": null,
        "xColumns": null,
        "yColumns": null
       },
       "removedWidgets": [],
       "schema": [
        {
         "metadata": "{}",
         "name": "country",
         "type": "\"string\""
        }
       ],
       "type": "table"
      }
     },
     "output_type": "display_data"
    }
   ],
   "source": [
    "%sql\n",
    "SELECT DISTINCT country FROM silver.fifa_ranking\n",
    "WHERE country IN ('Brunei', 'DR Congo', 'Taiwan', 'Cape Verde', 'Curaçao', \n",
    "                      'Czech Republic', 'Gambia', 'Iran', 'Ivory Coast', \n",
    "                      'North Korea', 'Saint Kitts and Nevis', 'Saint Lucia', \n",
    "                      'South Korea', 'São Tomé and Príncipe','Kyrgyzstan',\n",
    "                      'Saint Vincent and the Grenadines', \n",
    "                      'United States Virgin Islands')\n",
    "ORDER BY country;"
   ]
  },
  {
   "cell_type": "markdown",
   "metadata": {
    "application/vnd.databricks.v1+cell": {
     "cellMetadata": {},
     "inputWidgets": {},
     "nuid": "d4586193-bff7-4e0e-b6be-ce3453593e4d",
     "showTitle": false,
     "tableResultSettingsMap": {},
     "title": ""
    }
   },
   "source": [
    "Após todas as correções, são inseridos os comentários. "
   ]
  },
  {
   "cell_type": "code",
   "execution_count": 0,
   "metadata": {
    "application/vnd.databricks.v1+cell": {
     "cellMetadata": {
      "byteLimit": 2048000,
      "implicitDf": true,
      "rowLimit": 10000
     },
     "inputWidgets": {},
     "nuid": "da23c0f1-d961-4a8d-aed2-3aebff0a49d4",
     "showTitle": false,
     "tableResultSettingsMap": {},
     "title": ""
    }
   },
   "outputs": [
    {
     "output_type": "display_data",
     "data": {
      "text/html": [
       "<style scoped>\n",
       "  .table-result-container {\n",
       "    max-height: 300px;\n",
       "    overflow: auto;\n",
       "  }\n",
       "  table, th, td {\n",
       "    border: 1px solid black;\n",
       "    border-collapse: collapse;\n",
       "  }\n",
       "  th, td {\n",
       "    padding: 5px;\n",
       "  }\n",
       "  th {\n",
       "    text-align: left;\n",
       "  }\n",
       "</style><div class='table-result-container'><table class='table-result'><thead style='background-color: white'><tr></tr></thead><tbody></tbody></table></div>"
      ]
     },
     "metadata": {
      "application/vnd.databricks.v1+output": {
       "addedWidgets": {},
       "aggData": [],
       "aggError": "",
       "aggOverflow": false,
       "aggSchema": [],
       "aggSeriesLimitReached": false,
       "aggType": "",
       "arguments": {},
       "columnCustomDisplayInfos": {},
       "data": [],
       "datasetInfos": [],
       "dbfsResultPath": null,
       "isJsonSchema": true,
       "metadata": {},
       "overflow": false,
       "plotOptions": {
        "customPlotOptions": {},
        "displayType": "table",
        "pivotAggregation": null,
        "pivotColumns": null,
        "xColumns": null,
        "yColumns": null
       },
       "removedWidgets": [],
       "schema": [],
       "type": "table"
      }
     },
     "output_type": "display_data"
    }
   ],
   "source": [
    "%sql\n",
    "-- Comentário para a tabela\n",
    "ALTER TABLE silver.fifa_ranking SET TBLPROPERTIES (\n",
    "  'comment' = 'Tabela de rankings históricos da FIFA, com informações padronizadas sobre data, país, colocação, pontuação total, confederação e variação de posição.'\n",
    ");\n",
    "\n",
    "-- Comentários para as colunas com domínio\n",
    "ALTER TABLE silver.fifa_ranking ALTER COLUMN rank_date COMMENT \n",
    "  'Data do ranking FIFA publicado (formato: yyyy-MM-dd). Domínio: 1992-12-31 a 2024-06-20.';\n",
    "\n",
    "ALTER TABLE silver.fifa_ranking ALTER COLUMN country COMMENT \n",
    "  'Nome atual do país, com padronização para nomes históricos. Domínio: aproximadamente 210 países reconhecidos pela FIFA.';\n",
    "\n",
    "ALTER TABLE silver.fifa_ranking ALTER COLUMN rank COMMENT \n",
    "  'Posição do país no ranking FIFA na respectiva data. Domínio: valores inteiros entre 1 (melhor colocado) e cerca de 210.';\n",
    "\n",
    "ALTER TABLE silver.fifa_ranking ALTER COLUMN total_points COMMENT \n",
    "  'Pontuação total do país no ranking FIFA na respectiva data. Domínio: valores decimais positivos, variando conforme fórmula da FIFA.';\n",
    "\n",
    "ALTER TABLE silver.fifa_ranking ALTER COLUMN confederation COMMENT \n",
    "  'Confederação continental à qual o país pertence. Domínio: \"UEFA\", \"CONMEBOL\", \"CONCACAF\", \"CAF\", \"AFC\", \"OFC\".';\n",
    "\n",
    "ALTER TABLE silver.fifa_ranking ALTER COLUMN rank_change COMMENT \n",
    "  'Diferença de posição em relação ao ranking anterior. Domínio: valores inteiros positivos (subida), negativos (queda) ou zero (sem alteração).';\n"
   ]
  },
  {
   "cell_type": "code",
   "execution_count": 0,
   "metadata": {
    "application/vnd.databricks.v1+cell": {
     "cellMetadata": {
      "byteLimit": 2048000,
      "implicitDf": true,
      "rowLimit": 10000
     },
     "inputWidgets": {},
     "nuid": "63cf32cf-f994-48ee-9817-63e5900d4f8d",
     "showTitle": false,
     "tableResultSettingsMap": {},
     "title": ""
    }
   },
   "outputs": [
    {
     "output_type": "display_data",
     "data": {
      "text/html": [
       "<style scoped>\n",
       "  .table-result-container {\n",
       "    max-height: 300px;\n",
       "    overflow: auto;\n",
       "  }\n",
       "  table, th, td {\n",
       "    border: 1px solid black;\n",
       "    border-collapse: collapse;\n",
       "  }\n",
       "  th, td {\n",
       "    padding: 5px;\n",
       "  }\n",
       "  th {\n",
       "    text-align: left;\n",
       "  }\n",
       "</style><div class='table-result-container'><table class='table-result'><thead style='background-color: white'><tr><th>col_name</th><th>data_type</th><th>comment</th></tr></thead><tbody><tr><td>rank_date</td><td>date</td><td>Data do ranking FIFA publicado (formato: yyyy-MM-dd). Domínio: 1992-12-31 a 2024-06-20.</td></tr><tr><td>country</td><td>string</td><td>Nome atual do país, com padronização para nomes históricos. Domínio: aproximadamente 210 países reconhecidos pela FIFA.</td></tr><tr><td>rank</td><td>int</td><td>Posição do país no ranking FIFA na respectiva data. Domínio: valores inteiros entre 1 (melhor colocado) e cerca de 210.</td></tr><tr><td>total_points</td><td>decimal(10,2)</td><td>Pontuação total do país no ranking FIFA na respectiva data. Domínio: valores decimais positivos, variando conforme fórmula da FIFA.</td></tr><tr><td>confederation</td><td>string</td><td>Confederação continental à qual o país pertence. Domínio: \"UEFA\", \"CONMEBOL\", \"CONCACAF\", \"CAF\", \"AFC\", \"OFC\".</td></tr><tr><td>rank_change</td><td>int</td><td>Diferença de posição em relação ao ranking anterior. Domínio: valores inteiros positivos (subida), negativos (queda) ou zero (sem alteração).</td></tr></tbody></table></div>"
      ]
     },
     "metadata": {
      "application/vnd.databricks.v1+output": {
       "addedWidgets": {},
       "aggData": [],
       "aggError": "",
       "aggOverflow": false,
       "aggSchema": [],
       "aggSeriesLimitReached": false,
       "aggType": "",
       "arguments": {},
       "columnCustomDisplayInfos": {},
       "data": [
        [
         "rank_date",
         "date",
         "Data do ranking FIFA publicado (formato: yyyy-MM-dd). Domínio: 1992-12-31 a 2024-06-20."
        ],
        [
         "country",
         "string",
         "Nome atual do país, com padronização para nomes históricos. Domínio: aproximadamente 210 países reconhecidos pela FIFA."
        ],
        [
         "rank",
         "int",
         "Posição do país no ranking FIFA na respectiva data. Domínio: valores inteiros entre 1 (melhor colocado) e cerca de 210."
        ],
        [
         "total_points",
         "decimal(10,2)",
         "Pontuação total do país no ranking FIFA na respectiva data. Domínio: valores decimais positivos, variando conforme fórmula da FIFA."
        ],
        [
         "confederation",
         "string",
         "Confederação continental à qual o país pertence. Domínio: \"UEFA\", \"CONMEBOL\", \"CONCACAF\", \"CAF\", \"AFC\", \"OFC\"."
        ],
        [
         "rank_change",
         "int",
         "Diferença de posição em relação ao ranking anterior. Domínio: valores inteiros positivos (subida), negativos (queda) ou zero (sem alteração)."
        ]
       ],
       "datasetInfos": [],
       "dbfsResultPath": null,
       "isJsonSchema": true,
       "metadata": {},
       "overflow": false,
       "plotOptions": {
        "customPlotOptions": {},
        "displayType": "table",
        "pivotAggregation": null,
        "pivotColumns": null,
        "xColumns": null,
        "yColumns": null
       },
       "removedWidgets": [],
       "schema": [
        {
         "metadata": "{\"comment\":\"name of the column\"}",
         "name": "col_name",
         "type": "\"string\""
        },
        {
         "metadata": "{\"comment\":\"data type of the column\"}",
         "name": "data_type",
         "type": "\"string\""
        },
        {
         "metadata": "{\"comment\":\"comment of the column\"}",
         "name": "comment",
         "type": "\"string\""
        }
       ],
       "type": "table"
      }
     },
     "output_type": "display_data"
    }
   ],
   "source": [
    "%sql\n",
    "DESCRIBE TABLE silver.fifa_ranking"
   ]
  },
  {
   "cell_type": "markdown",
   "metadata": {
    "application/vnd.databricks.v1+cell": {
     "cellMetadata": {
      "byteLimit": 2048000,
      "rowLimit": 10000
     },
     "inputWidgets": {},
     "nuid": "05b0f665-5ca9-4e67-9ab1-a60279100259",
     "showTitle": false,
     "tableResultSettingsMap": {},
     "title": ""
    }
   },
   "source": [
    "A camada silver do projeto ficou composta por cinco tabelas resultantes do tratamento, padronização e enriquecimento dos dados brutos da camada bronze. Quatro dessas tabelas compõem o núcleo da estrutura, enquanto uma foi utilizada exclusivamente como apoio no processo de transformação.\n",
    "\n",
    "As tabelas foram organizadas seguindo um esquema `flat`, ou seja, não há definição explícita de relacionamentos entre elas nesta camada. Cada tabela é autônoma e autossuficiente, refletindo diferentes aspectos dos dados históricos do futebol internacional. Esse modelo foi adotado para garantir simplicidade, flexibilidade e performance na leitura dos dados, deixando a integração entre entidades para ser realizada de forma contextualizada na camada gold.\n",
    "\n",
    "\n",
    "Essa abordagem flat garante uma base limpa, segmentada e de fácil manutenção para a construção da camada gold, onde os relacionamentos entre entidades serão formalizados conforme os objetivos analíticos do projeto.\n",
    "\n",
    "\n",
    "Com a camada silver concluída, segue-se agora para a camada gold, onde as tabelas serão modeladas com agregações e métricas que permitirão responder às perguntas de negócio e extrair insights sobre a dominância histórica das seleções nacionais no futebol."
   ]
  },
  {
   "cell_type": "markdown",
   "metadata": {
    "application/vnd.databricks.v1+cell": {
     "cellMetadata": {},
     "inputWidgets": {},
     "nuid": "5e556d33-170b-4c7b-8f9c-83fb7712168f",
     "showTitle": false,
     "tableResultSettingsMap": {},
     "title": ""
    }
   },
   "source": [
    "## 4.3 Camada Gold\n",
    "\n",
    "A camada Gold representa o estágio final do pipeline de dados, onde as informações limpas e padronizadas da camada Silver são transformadas em modelos analíticos prontos para consumo. Essa etapa é fundamental para a construção de análises históricas e comparativas, permitindo extrair insights sobre o desempenho das seleções nacionais de futebol.\n",
    "\n",
    "Para estruturar essa camada, foi adotado o `modelo estrela (star schema)`, um padrão amplamente utilizado em soluções de Business Intelligence e Data Warehousing. Esse modelo organiza os dados em uma tabela fato central conectada a múltiplas tabelas dimensão, promovendo desempenho, flexibilidade e simplicidade na execução de consultas analíticas.\n",
    "\n",
    "O modelo da camada Gold foi projetado para permitir a realização de análises detalhadas por partida, seleção, jogador e disputa de pênaltis, apoiando a construção de visualizações e dashboards com diferentes recortes.\n",
    "\n",
    "A estrutura da camada Gold é composta por:\n",
    "\n",
    "- **1 tabela fato**: `gold.match_performance`\n",
    "- **3 tabelas dimensão**: `gold.team_stats`, `gold.penalty_shootouts` e `gold.top_scores`\n",
    "\n",
    "Essa organização permite a centralização dos dados das partidas na tabela fato e o enriquecimento da análise por meio de diferentes perspectivas oferecidas pelas tabelas dimensão.\n",
    "\n",
    "Nos próximos blocos, serão apresentadas as características de cada tabela, os critérios utilizados em sua construção e os relacionamentos definidos entre elas.\n"
   ]
  },
  {
   "cell_type": "code",
   "execution_count": 0,
   "metadata": {
    "application/vnd.databricks.v1+cell": {
     "cellMetadata": {
      "byteLimit": 2048000,
      "implicitDf": true,
      "rowLimit": 10000
     },
     "inputWidgets": {},
     "nuid": "99d74497-1363-439e-9f64-e45c842192e9",
     "showTitle": false,
     "tableResultSettingsMap": {},
     "title": ""
    }
   },
   "outputs": [
    {
     "output_type": "display_data",
     "data": {
      "text/html": [
       "<style scoped>\n",
       "  .table-result-container {\n",
       "    max-height: 300px;\n",
       "    overflow: auto;\n",
       "  }\n",
       "  table, th, td {\n",
       "    border: 1px solid black;\n",
       "    border-collapse: collapse;\n",
       "  }\n",
       "  th, td {\n",
       "    padding: 5px;\n",
       "  }\n",
       "  th {\n",
       "    text-align: left;\n",
       "  }\n",
       "</style><div class='table-result-container'><table class='table-result'><thead style='background-color: white'><tr></tr></thead><tbody></tbody></table></div>"
      ]
     },
     "metadata": {
      "application/vnd.databricks.v1+output": {
       "addedWidgets": {},
       "aggData": [],
       "aggError": "",
       "aggOverflow": false,
       "aggSchema": [],
       "aggSeriesLimitReached": false,
       "aggType": "",
       "arguments": {},
       "columnCustomDisplayInfos": {},
       "data": [],
       "datasetInfos": [],
       "dbfsResultPath": null,
       "isJsonSchema": true,
       "metadata": {},
       "overflow": false,
       "plotOptions": {
        "customPlotOptions": {},
        "displayType": "table",
        "pivotAggregation": null,
        "pivotColumns": null,
        "xColumns": null,
        "yColumns": null
       },
       "removedWidgets": [],
       "schema": [],
       "type": "table"
      }
     },
     "output_type": "display_data"
    }
   ],
   "source": [
    "%sql DROP DATABASE IF EXISTS gold CASCADE"
   ]
  },
  {
   "cell_type": "code",
   "execution_count": 0,
   "metadata": {
    "application/vnd.databricks.v1+cell": {
     "cellMetadata": {
      "byteLimit": 2048000,
      "implicitDf": true,
      "rowLimit": 10000
     },
     "inputWidgets": {},
     "nuid": "d8a4e33b-3a1c-471d-a78b-2b8da06fc877",
     "showTitle": false,
     "tableResultSettingsMap": {},
     "title": ""
    }
   },
   "outputs": [
    {
     "output_type": "display_data",
     "data": {
      "text/html": [
       "<style scoped>\n",
       "  .table-result-container {\n",
       "    max-height: 300px;\n",
       "    overflow: auto;\n",
       "  }\n",
       "  table, th, td {\n",
       "    border: 1px solid black;\n",
       "    border-collapse: collapse;\n",
       "  }\n",
       "  th, td {\n",
       "    padding: 5px;\n",
       "  }\n",
       "  th {\n",
       "    text-align: left;\n",
       "  }\n",
       "</style><div class='table-result-container'><table class='table-result'><thead style='background-color: white'><tr></tr></thead><tbody></tbody></table></div>"
      ]
     },
     "metadata": {
      "application/vnd.databricks.v1+output": {
       "addedWidgets": {},
       "aggData": [],
       "aggError": "",
       "aggOverflow": false,
       "aggSchema": [],
       "aggSeriesLimitReached": false,
       "aggType": "",
       "arguments": {},
       "columnCustomDisplayInfos": {},
       "data": [],
       "datasetInfos": [],
       "dbfsResultPath": null,
       "isJsonSchema": true,
       "metadata": {},
       "overflow": false,
       "plotOptions": {
        "customPlotOptions": {},
        "displayType": "table",
        "pivotAggregation": null,
        "pivotColumns": null,
        "xColumns": null,
        "yColumns": null
       },
       "removedWidgets": [],
       "schema": [],
       "type": "table"
      }
     },
     "output_type": "display_data"
    }
   ],
   "source": [
    "%sql CREATE DATABASE gold"
   ]
  },
  {
   "cell_type": "markdown",
   "metadata": {
    "application/vnd.databricks.v1+cell": {
     "cellMetadata": {},
     "inputWidgets": {},
     "nuid": "f3580c7a-4e55-4431-938e-f93653814b74",
     "showTitle": false,
     "tableResultSettingsMap": {},
     "title": ""
    }
   },
   "source": [
    "### 4.3.1 Tabela Fato: `gold.match_performance`\n",
    "\n",
    "A tabela `match_performance` representa o núcleo da camada Gold e armazena informações detalhadas sobre cada partida registrada na base de dados. Ela concentra os principais indicadores de desempenho de cada confronto, servindo como base para relacionar com as tabelas dimensão.\n",
    "\n",
    "**Principais atributos:**\n",
    "-`match_id`: Identificador único da partida, utilizado para integrar diferentes fontes de dados relacionadas ao mesmo jogo.\n",
    "- `match_date`: Data em que a partida foi realizada.\n",
    "- `home_team`: Nome da seleção que atuou como mandante.\n",
    "- `away_team`: Nome da seleção adversária, que atuou como visitante.\n",
    "- `home_score`: Número de gols marcados pela seleção mandante.\n",
    "- `away_score`: Número de gols marcados pela seleção visitante.\n",
    "- `home_team_rank`: Posição da seleção mandante no ranking da FIFA imediatamente anterior à data da partida.\n",
    "- `away_team_rank`: Posição da seleção visitante no ranking da FIFA imediatamente anterior à data da partida.\n",
    "- `rank_diff`: Diferença de posições no ranking entre a seleção mandante e a visitante (home_team_rank - away_team_rank), útil para análises comparativas de desempenho.\n",
    "- `home_team_confederation`: Confederação à qual pertence a seleção mandante (ex: UEFA, CONMEBOL, etc.).\n",
    "- `away_team_confederation`: Confederação à qual pertence a seleção visitante.\n",
    "- `tournament`: Tipo de competição em que a partida foi disputada, categorizada como \"Friendly\" para amistosos ou \"Competitive\" para torneios oficiais.\n",
    "- `is_neutral`: Indicador booleano que identifica se a partida foi realizada em campo neutro (valor true) ou com vantagem de mando (valor false).\n",
    "\n",
    "A tabela `gold.match_performance` foi construída a partir da junção dos dados de partidas com os rankings FIFA mais recentes disponíveis antes da realização de cada jogo. O processo envolveu a identificação da última data de ranking válida para cada seleção (mandante e visitante), com base na data do jogo, garantindo que as análises levem em consideração o contexto competitivo de cada confronto. A partir disso, foram incluídas informações como posição no ranking, confederação, resultado da partida e se o jogo ocorreu em campo neutro.\n",
    "\n",
    "\n",
    "\n",
    "\n",
    "\n"
   ]
  },
  {
   "cell_type": "code",
   "execution_count": 0,
   "metadata": {
    "application/vnd.databricks.v1+cell": {
     "cellMetadata": {
      "byteLimit": 2048000,
      "implicitDf": true,
      "rowLimit": 10000
     },
     "inputWidgets": {},
     "nuid": "4ca42636-6902-42b6-afe7-b66cec0ec5b4",
     "showTitle": false,
     "tableResultSettingsMap": {},
     "title": ""
    }
   },
   "outputs": [
    {
     "output_type": "display_data",
     "data": {
      "text/html": [
       "<style scoped>\n",
       "  .table-result-container {\n",
       "    max-height: 300px;\n",
       "    overflow: auto;\n",
       "  }\n",
       "  table, th, td {\n",
       "    border: 1px solid black;\n",
       "    border-collapse: collapse;\n",
       "  }\n",
       "  th, td {\n",
       "    padding: 5px;\n",
       "  }\n",
       "  th {\n",
       "    text-align: left;\n",
       "  }\n",
       "</style><div class='table-result-container'><table class='table-result'><thead style='background-color: white'><tr><th>num_affected_rows</th><th>num_inserted_rows</th></tr></thead><tbody></tbody></table></div>"
      ]
     },
     "metadata": {
      "application/vnd.databricks.v1+output": {
       "addedWidgets": {},
       "aggData": [],
       "aggError": "",
       "aggOverflow": false,
       "aggSchema": [],
       "aggSeriesLimitReached": false,
       "aggType": "",
       "arguments": {},
       "columnCustomDisplayInfos": {},
       "data": [],
       "datasetInfos": [],
       "dbfsResultPath": null,
       "isJsonSchema": true,
       "metadata": {},
       "overflow": false,
       "plotOptions": {
        "customPlotOptions": {},
        "displayType": "table",
        "pivotAggregation": null,
        "pivotColumns": null,
        "xColumns": null,
        "yColumns": null
       },
       "removedWidgets": [],
       "schema": [
        {
         "metadata": "{}",
         "name": "num_affected_rows",
         "type": "\"long\""
        },
        {
         "metadata": "{}",
         "name": "num_inserted_rows",
         "type": "\"long\""
        }
       ],
       "type": "table"
      }
     },
     "output_type": "display_data"
    }
   ],
   "source": [
    "%sql\n",
    "CREATE OR REPLACE TABLE gold.match_performance AS\n",
    "WITH latest_ranking AS (\n",
    "    SELECT \n",
    "        country, \n",
    "        rank_date, \n",
    "        rank, \n",
    "        confederation,\n",
    "        ROW_NUMBER() OVER (\n",
    "            PARTITION BY country, rank_date \n",
    "            ORDER BY rank_date DESC\n",
    "        ) AS rn\n",
    "    FROM silver.fifa_ranking\n",
    "),\n",
    "\n",
    "home_ranking AS (\n",
    "    SELECT \n",
    "        r.match_id, \n",
    "        MAX(fr.rank_date) AS latest_rank_date\n",
    "    FROM silver.results r\n",
    "    JOIN silver.fifa_ranking fr\n",
    "        ON r.home_team = fr.country\n",
    "        AND fr.rank_date <= r.match_date\n",
    "    GROUP BY r.match_id\n",
    "),\n",
    "\n",
    "away_ranking AS (\n",
    "    SELECT \n",
    "        r.match_id, \n",
    "        MAX(fr.rank_date) AS latest_rank_date\n",
    "    FROM silver.results r\n",
    "    JOIN silver.fifa_ranking fr\n",
    "        ON r.away_team = fr.country\n",
    "        AND fr.rank_date <= r.match_date\n",
    "    GROUP BY r.match_id\n",
    ")\n",
    "\n",
    "SELECT \n",
    "    r.match_id,\n",
    "    r.match_date,\n",
    "    r.home_team,\n",
    "    r.away_team,\n",
    "    r.home_score,\n",
    "    r.away_score,\n",
    "    hr.rank AS home_team_rank,\n",
    "    ar.rank AS away_team_rank,\n",
    "    COALESCE(hr.rank - ar.rank, 0) AS rank_diff,\n",
    "    hr.confederation AS home_team_confederation,\n",
    "    ar.confederation AS away_team_confederation,\n",
    "    r.tournament,\n",
    "    r.is_neutral\n",
    "FROM silver.results r\n",
    "LEFT JOIN home_ranking h\n",
    "    ON r.match_id = h.match_id\n",
    "LEFT JOIN away_ranking a\n",
    "    ON r.match_id = a.match_id\n",
    "LEFT JOIN latest_ranking hr\n",
    "    ON hr.country = r.home_team \n",
    "    AND hr.rank_date = h.latest_rank_date\n",
    "LEFT JOIN latest_ranking ar\n",
    "    ON ar.country = r.away_team \n",
    "    AND ar.rank_date = a.latest_rank_date;\n",
    "\n"
   ]
  },
  {
   "cell_type": "markdown",
   "metadata": {
    "application/vnd.databricks.v1+cell": {
     "cellMetadata": {},
     "inputWidgets": {},
     "nuid": "9d34ab83-dcd7-453a-bf1d-59ab4a096f4e",
     "showTitle": false,
     "tableResultSettingsMap": {},
     "title": ""
    }
   },
   "source": [
    "A tabela é visualizada após a criação."
   ]
  },
  {
   "cell_type": "code",
   "execution_count": 0,
   "metadata": {
    "application/vnd.databricks.v1+cell": {
     "cellMetadata": {
      "byteLimit": 2048000,
      "implicitDf": true,
      "rowLimit": 10000
     },
     "inputWidgets": {},
     "nuid": "1ccc5844-93b1-4a84-8a23-0f5c22472d5a",
     "showTitle": false,
     "tableResultSettingsMap": {},
     "title": ""
    }
   },
   "outputs": [
    {
     "output_type": "display_data",
     "data": {
      "text/html": [
       "<style scoped>\n",
       "  .table-result-container {\n",
       "    max-height: 300px;\n",
       "    overflow: auto;\n",
       "  }\n",
       "  table, th, td {\n",
       "    border: 1px solid black;\n",
       "    border-collapse: collapse;\n",
       "  }\n",
       "  th, td {\n",
       "    padding: 5px;\n",
       "  }\n",
       "  th {\n",
       "    text-align: left;\n",
       "  }\n",
       "</style><div class='table-result-container'><table class='table-result'><thead style='background-color: white'><tr><th>match_id</th><th>match_date</th><th>home_team</th><th>away_team</th><th>home_score</th><th>away_score</th><th>home_team_rank</th><th>away_team_rank</th><th>rank_diff</th><th>home_team_confederation</th><th>away_team_confederation</th><th>tournament</th><th>is_neutral</th></tr></thead><tbody><tr><td>2025-03-25_Martinique_Suriname_0_1</td><td>2025-03-25</td><td>Martinique</td><td>Suriname</td><td>0</td><td>1</td><td>null</td><td>141</td><td>0</td><td>null</td><td>CONCACAF</td><td>Gold Cup qualification</td><td>false</td></tr><tr><td>2025-03-25_Algeria_Mozambique_5_1</td><td>2025-03-25</td><td>Algeria</td><td>Mozambique</td><td>5</td><td>1</td><td>44</td><td>103</td><td>-59</td><td>CAF</td><td>CAF</td><td>FIFA World Cup qualification</td><td>false</td></tr><tr><td>2025-03-25_Sweden_Northern Ireland_5_1</td><td>2025-03-25</td><td>Sweden</td><td>Northern Ireland</td><td>5</td><td>1</td><td>28</td><td>73</td><td>-45</td><td>UEFA</td><td>UEFA</td><td>Friendly</td><td>false</td></tr><tr><td>2025-03-25_Bolivia_Uruguay_0_0</td><td>2025-03-25</td><td>Bolivia</td><td>Uruguay</td><td>0</td><td>0</td><td>84</td><td>14</td><td>70</td><td>CONMEBOL</td><td>CONMEBOL</td><td>FIFA World Cup qualification</td><td>false</td></tr><tr><td>2025-03-25_Liechtenstein_Kazakhstan_0_2</td><td>2025-03-25</td><td>Liechtenstein</td><td>Kazakhstan</td><td>0</td><td>2</td><td>199</td><td>109</td><td>90</td><td>UEFA</td><td>UEFA</td><td>FIFA World Cup qualification</td><td>false</td></tr><tr><td>2025-03-25_Mauritania_DR Congo_0_2</td><td>2025-03-25</td><td>Mauritania</td><td>DR Congo</td><td>0</td><td>2</td><td>112</td><td>61</td><td>51</td><td>CAF</td><td>CAF</td><td>FIFA World Cup qualification</td><td>false</td></tr><tr><td>2025-03-25_Guatemala_Guyana_2_0</td><td>2025-03-25</td><td>Guatemala</td><td>Guyana</td><td>2</td><td>0</td><td>106</td><td>153</td><td>-47</td><td>CONCACAF</td><td>CONCACAF</td><td>Gold Cup qualification</td><td>false</td></tr><tr><td>2025-03-25_Israel_Norway_2_4</td><td>2025-03-25</td><td>Israel</td><td>Norway</td><td>2</td><td>4</td><td>79</td><td>46</td><td>33</td><td>UEFA</td><td>UEFA</td><td>FIFA World Cup qualification</td><td>true</td></tr><tr><td>2025-03-25_Switzerland_Luxembourg_3_1</td><td>2025-03-25</td><td>Switzerland</td><td>Luxembourg</td><td>3</td><td>1</td><td>19</td><td>85</td><td>-66</td><td>UEFA</td><td>UEFA</td><td>Friendly</td><td>false</td></tr><tr><td>2025-03-25_Kuwait_Oman_0_1</td><td>2025-03-25</td><td>Kuwait</td><td>Oman</td><td>0</td><td>1</td><td>137</td><td>76</td><td>61</td><td>AFC</td><td>AFC</td><td>FIFA World Cup qualification</td><td>false</td></tr><tr><td>2025-03-25_Benin_South Africa_0_2</td><td>2025-03-25</td><td>Benin</td><td>South Africa</td><td>0</td><td>2</td><td>91</td><td>59</td><td>32</td><td>CAF</td><td>CAF</td><td>FIFA World Cup qualification</td><td>true</td></tr><tr><td>2025-03-25_Senegal_Togo_2_0</td><td>2025-03-25</td><td>Senegal</td><td>Togo</td><td>2</td><td>0</td><td>18</td><td>120</td><td>-102</td><td>CAF</td><td>CAF</td><td>FIFA World Cup qualification</td><td>false</td></tr><tr><td>2025-03-25_Bhutan_Yemen_0_0</td><td>2025-03-25</td><td>Bhutan</td><td>Yemen</td><td>0</td><td>0</td><td>183</td><td>155</td><td>28</td><td>AFC</td><td>AFC</td><td>AFC Asian Cup qualification</td><td>false</td></tr><tr><td>2025-03-25_Chile_Ecuador_0_0</td><td>2025-03-25</td><td>Chile</td><td>Ecuador</td><td>0</td><td>0</td><td>40</td><td>30</td><td>10</td><td>CONMEBOL</td><td>CONMEBOL</td><td>FIFA World Cup qualification</td><td>false</td></tr><tr><td>2025-03-25_Russia_Zambia_5_0</td><td>2025-03-25</td><td>Russia</td><td>Zambia</td><td>5</td><td>0</td><td>33</td><td>90</td><td>-57</td><td>UEFA</td><td>CAF</td><td>Friendly</td><td>false</td></tr><tr><td>2025-03-25_Japan_Saudi Arabia_0_0</td><td>2025-03-25</td><td>Japan</td><td>Saudi Arabia</td><td>0</td><td>0</td><td>17</td><td>56</td><td>-39</td><td>AFC</td><td>AFC</td><td>FIFA World Cup qualification</td><td>false</td></tr><tr><td>2025-03-25_Philippines_Maldives_4_1</td><td>2025-03-25</td><td>Philippines</td><td>Maldives</td><td>4</td><td>1</td><td>147</td><td>160</td><td>-13</td><td>AFC</td><td>AFC</td><td>AFC Asian Cup qualification</td><td>false</td></tr><tr><td>2025-03-25_Tajikistan_Timor-Leste_1_0</td><td>2025-03-25</td><td>Tajikistan</td><td>Timor-Leste</td><td>1</td><td>0</td><td>102</td><td>196</td><td>-94</td><td>AFC</td><td>AFC</td><td>AFC Asian Cup qualification</td><td>false</td></tr><tr><td>2025-03-25_Kyrgyzstan_Qatar_3_1</td><td>2025-03-25</td><td>Kyrgyzstan</td><td>Qatar</td><td>3</td><td>1</td><td>101</td><td>35</td><td>66</td><td>AFC</td><td>AFC</td><td>FIFA World Cup qualification</td><td>false</td></tr><tr><td>2025-03-25_Sudan_South Sudan_1_1</td><td>2025-03-25</td><td>Sudan</td><td>South Sudan</td><td>1</td><td>1</td><td>121</td><td>167</td><td>-46</td><td>CAF</td><td>CAF</td><td>FIFA World Cup qualification</td><td>true</td></tr></tbody></table></div>"
      ]
     },
     "metadata": {
      "application/vnd.databricks.v1+output": {
       "addedWidgets": {},
       "aggData": [],
       "aggError": "",
       "aggOverflow": false,
       "aggSchema": [],
       "aggSeriesLimitReached": false,
       "aggType": "",
       "arguments": {},
       "columnCustomDisplayInfos": {},
       "data": [
        [
         "2025-03-25_Martinique_Suriname_0_1",
         "2025-03-25",
         "Martinique",
         "Suriname",
         0,
         1,
         null,
         141,
         0,
         null,
         "CONCACAF",
         "Gold Cup qualification",
         false
        ],
        [
         "2025-03-25_Algeria_Mozambique_5_1",
         "2025-03-25",
         "Algeria",
         "Mozambique",
         5,
         1,
         44,
         103,
         -59,
         "CAF",
         "CAF",
         "FIFA World Cup qualification",
         false
        ],
        [
         "2025-03-25_Sweden_Northern Ireland_5_1",
         "2025-03-25",
         "Sweden",
         "Northern Ireland",
         5,
         1,
         28,
         73,
         -45,
         "UEFA",
         "UEFA",
         "Friendly",
         false
        ],
        [
         "2025-03-25_Bolivia_Uruguay_0_0",
         "2025-03-25",
         "Bolivia",
         "Uruguay",
         0,
         0,
         84,
         14,
         70,
         "CONMEBOL",
         "CONMEBOL",
         "FIFA World Cup qualification",
         false
        ],
        [
         "2025-03-25_Liechtenstein_Kazakhstan_0_2",
         "2025-03-25",
         "Liechtenstein",
         "Kazakhstan",
         0,
         2,
         199,
         109,
         90,
         "UEFA",
         "UEFA",
         "FIFA World Cup qualification",
         false
        ],
        [
         "2025-03-25_Mauritania_DR Congo_0_2",
         "2025-03-25",
         "Mauritania",
         "DR Congo",
         0,
         2,
         112,
         61,
         51,
         "CAF",
         "CAF",
         "FIFA World Cup qualification",
         false
        ],
        [
         "2025-03-25_Guatemala_Guyana_2_0",
         "2025-03-25",
         "Guatemala",
         "Guyana",
         2,
         0,
         106,
         153,
         -47,
         "CONCACAF",
         "CONCACAF",
         "Gold Cup qualification",
         false
        ],
        [
         "2025-03-25_Israel_Norway_2_4",
         "2025-03-25",
         "Israel",
         "Norway",
         2,
         4,
         79,
         46,
         33,
         "UEFA",
         "UEFA",
         "FIFA World Cup qualification",
         true
        ],
        [
         "2025-03-25_Switzerland_Luxembourg_3_1",
         "2025-03-25",
         "Switzerland",
         "Luxembourg",
         3,
         1,
         19,
         85,
         -66,
         "UEFA",
         "UEFA",
         "Friendly",
         false
        ],
        [
         "2025-03-25_Kuwait_Oman_0_1",
         "2025-03-25",
         "Kuwait",
         "Oman",
         0,
         1,
         137,
         76,
         61,
         "AFC",
         "AFC",
         "FIFA World Cup qualification",
         false
        ],
        [
         "2025-03-25_Benin_South Africa_0_2",
         "2025-03-25",
         "Benin",
         "South Africa",
         0,
         2,
         91,
         59,
         32,
         "CAF",
         "CAF",
         "FIFA World Cup qualification",
         true
        ],
        [
         "2025-03-25_Senegal_Togo_2_0",
         "2025-03-25",
         "Senegal",
         "Togo",
         2,
         0,
         18,
         120,
         -102,
         "CAF",
         "CAF",
         "FIFA World Cup qualification",
         false
        ],
        [
         "2025-03-25_Bhutan_Yemen_0_0",
         "2025-03-25",
         "Bhutan",
         "Yemen",
         0,
         0,
         183,
         155,
         28,
         "AFC",
         "AFC",
         "AFC Asian Cup qualification",
         false
        ],
        [
         "2025-03-25_Chile_Ecuador_0_0",
         "2025-03-25",
         "Chile",
         "Ecuador",
         0,
         0,
         40,
         30,
         10,
         "CONMEBOL",
         "CONMEBOL",
         "FIFA World Cup qualification",
         false
        ],
        [
         "2025-03-25_Russia_Zambia_5_0",
         "2025-03-25",
         "Russia",
         "Zambia",
         5,
         0,
         33,
         90,
         -57,
         "UEFA",
         "CAF",
         "Friendly",
         false
        ],
        [
         "2025-03-25_Japan_Saudi Arabia_0_0",
         "2025-03-25",
         "Japan",
         "Saudi Arabia",
         0,
         0,
         17,
         56,
         -39,
         "AFC",
         "AFC",
         "FIFA World Cup qualification",
         false
        ],
        [
         "2025-03-25_Philippines_Maldives_4_1",
         "2025-03-25",
         "Philippines",
         "Maldives",
         4,
         1,
         147,
         160,
         -13,
         "AFC",
         "AFC",
         "AFC Asian Cup qualification",
         false
        ],
        [
         "2025-03-25_Tajikistan_Timor-Leste_1_0",
         "2025-03-25",
         "Tajikistan",
         "Timor-Leste",
         1,
         0,
         102,
         196,
         -94,
         "AFC",
         "AFC",
         "AFC Asian Cup qualification",
         false
        ],
        [
         "2025-03-25_Kyrgyzstan_Qatar_3_1",
         "2025-03-25",
         "Kyrgyzstan",
         "Qatar",
         3,
         1,
         101,
         35,
         66,
         "AFC",
         "AFC",
         "FIFA World Cup qualification",
         false
        ],
        [
         "2025-03-25_Sudan_South Sudan_1_1",
         "2025-03-25",
         "Sudan",
         "South Sudan",
         1,
         1,
         121,
         167,
         -46,
         "CAF",
         "CAF",
         "FIFA World Cup qualification",
         true
        ]
       ],
       "datasetInfos": [],
       "dbfsResultPath": null,
       "isJsonSchema": true,
       "metadata": {},
       "overflow": false,
       "plotOptions": {
        "customPlotOptions": {},
        "displayType": "table",
        "pivotAggregation": null,
        "pivotColumns": null,
        "xColumns": null,
        "yColumns": null
       },
       "removedWidgets": [],
       "schema": [
        {
         "metadata": "{\"comment\":\"Código único de identificação da partida. Formato: YYYY-MM-DD_HomeTeam_AwayTeam_HomeScore_AwayScore.\"}",
         "name": "match_id",
         "type": "\"string\""
        },
        {
         "metadata": "{\"comment\":\"Data da partida no formato YYYY-MM-DD. Domínio: Datas entre 1872-11-30 (primeiro jogo internacional) e a data atual.\"}",
         "name": "match_date",
         "type": "\"date\""
        },
        {
         "metadata": "{\"comment\":\"Nome do time da casa padronizado. Domínio: Valores da tabela silver.teams (ex: \\\"Brazil\\\", \\\"Germany\\\").\"}",
         "name": "home_team",
         "type": "\"string\""
        },
        {
         "metadata": "{\"comment\":\"Nome do time visitante padronizado. Domínio: Valores da tabela silver.teams.\"}",
         "name": "away_team",
         "type": "\"string\""
        },
        {
         "metadata": "{\"comment\":\"Gols marcados pelo time da casa. Domínio: Inteiro ≥ 0.\"}",
         "name": "home_score",
         "type": "\"integer\""
        },
        {
         "metadata": "{\"comment\":\"Gols marcados pelo time visitante. Domínio: Inteiro ≥ 0.\"}",
         "name": "away_score",
         "type": "\"integer\""
        },
        {
         "metadata": "{\"comment\":\"Posição do país no ranking FIFA na respectiva data. Domínio: valores inteiros entre 1 (melhor colocado) e cerca de 210.\"}",
         "name": "home_team_rank",
         "type": "\"integer\""
        },
        {
         "metadata": "{\"comment\":\"Posição do país no ranking FIFA na respectiva data. Domínio: valores inteiros entre 1 (melhor colocado) e cerca de 210.\"}",
         "name": "away_team_rank",
         "type": "\"integer\""
        },
        {
         "metadata": "{}",
         "name": "rank_diff",
         "type": "\"integer\""
        },
        {
         "metadata": "{\"comment\":\"Confederação continental à qual o país pertence. Domínio: \\\"UEFA\\\", \\\"CONMEBOL\\\", \\\"CONCACAF\\\", \\\"CAF\\\", \\\"AFC\\\", \\\"OFC\\\".\"}",
         "name": "home_team_confederation",
         "type": "\"string\""
        },
        {
         "metadata": "{\"comment\":\"Confederação continental à qual o país pertence. Domínio: \\\"UEFA\\\", \\\"CONMEBOL\\\", \\\"CONCACAF\\\", \\\"CAF\\\", \\\"AFC\\\", \\\"OFC\\\".\"}",
         "name": "away_team_confederation",
         "type": "\"string\""
        },
        {
         "metadata": "{\"comment\":\"Nome do torneio sem formatação adicional. Domínio: Texto livre (ex: \\\"FIFA World Cup\\\", \\\"Copa América\\\").\"}",
         "name": "tournament",
         "type": "\"string\""
        },
        {
         "metadata": "{\"comment\":\"Indica se o jogo foi em local neutro. Domínio: TRUE/FALSE.\"}",
         "name": "is_neutral",
         "type": "\"boolean\""
        }
       ],
       "type": "table"
      }
     },
     "output_type": "display_data"
    }
   ],
   "source": [
    "%sql\n",
    "SELECT *\n",
    "FROM gold.match_performance\n",
    "ORDER BY match_date DESC\n",
    "LIMIT 20"
   ]
  },
  {
   "cell_type": "markdown",
   "metadata": {
    "application/vnd.databricks.v1+cell": {
     "cellMetadata": {},
     "inputWidgets": {},
     "nuid": "5315775b-6bc2-44d6-b72d-7b523e2e2da8",
     "showTitle": false,
     "tableResultSettingsMap": {},
     "title": ""
    }
   },
   "source": [
    "Como na camada silver, são inseridos comentários para a tabela e suas respectivas colunas."
   ]
  },
  {
   "cell_type": "code",
   "execution_count": 0,
   "metadata": {
    "application/vnd.databricks.v1+cell": {
     "cellMetadata": {
      "byteLimit": 2048000,
      "implicitDf": true,
      "rowLimit": 10000
     },
     "inputWidgets": {},
     "nuid": "79339bc7-8fe0-4fa5-a26b-7b76e3b2564b",
     "showTitle": false,
     "tableResultSettingsMap": {},
     "title": ""
    }
   },
   "outputs": [
    {
     "output_type": "display_data",
     "data": {
      "text/html": [
       "<style scoped>\n",
       "  .table-result-container {\n",
       "    max-height: 300px;\n",
       "    overflow: auto;\n",
       "  }\n",
       "  table, th, td {\n",
       "    border: 1px solid black;\n",
       "    border-collapse: collapse;\n",
       "  }\n",
       "  th, td {\n",
       "    padding: 5px;\n",
       "  }\n",
       "  th {\n",
       "    text-align: left;\n",
       "  }\n",
       "</style><div class='table-result-container'><table class='table-result'><thead style='background-color: white'><tr></tr></thead><tbody></tbody></table></div>"
      ]
     },
     "metadata": {
      "application/vnd.databricks.v1+output": {
       "addedWidgets": {},
       "aggData": [],
       "aggError": "",
       "aggOverflow": false,
       "aggSchema": [],
       "aggSeriesLimitReached": false,
       "aggType": "",
       "arguments": {},
       "columnCustomDisplayInfos": {},
       "data": [],
       "datasetInfos": [],
       "dbfsResultPath": null,
       "isJsonSchema": true,
       "metadata": {},
       "overflow": false,
       "plotOptions": {
        "customPlotOptions": {},
        "displayType": "table",
        "pivotAggregation": null,
        "pivotColumns": null,
        "xColumns": null,
        "yColumns": null
       },
       "removedWidgets": [],
       "schema": [],
       "type": "table"
      }
     },
     "output_type": "display_data"
    }
   ],
   "source": [
    "%sql\n",
    "-- Comentário da tabela\n",
    "ALTER TABLE gold.match_performance \n",
    "SET TBLPROPERTIES (\n",
    "  'comment' = 'Tabela fato com informações detalhadas sobre o desempenho das seleções em partidas internacionais. Baseada em dados tratados da camada Silver com enriquecimento a partir do ranking FIFA.'\n",
    ");\n",
    "\n",
    "-- Comentários das colunas (um comando por coluna)\n",
    "ALTER TABLE gold.match_performance CHANGE COLUMN match_id match_id STRING \n",
    "COMMENT 'Identificador único da partida. Domínio: Até 100 caracteres, exemplo: BRA-ARG-1994-07-17.';\n",
    "\n",
    "ALTER TABLE gold.match_performance CHANGE COLUMN match_date match_date DATE \n",
    "COMMENT 'Data em que a partida foi realizada. Domínio: Datas entre 1872-11-30 e a data atual.';\n",
    "\n",
    "ALTER TABLE gold.match_performance CHANGE COLUMN home_team home_team STRING \n",
    "COMMENT 'Nome padronizado da seleção mandante. Domínio: Países conforme tabela silver.results.';\n",
    "\n",
    "ALTER TABLE gold.match_performance CHANGE COLUMN away_team away_team STRING \n",
    "COMMENT 'Nome padronizado da seleção visitante. Domínio: Países conforme tabela silver.results.';\n",
    "\n",
    "ALTER TABLE gold.match_performance CHANGE COLUMN home_score home_score INT \n",
    "COMMENT 'Gols marcados pela seleção mandante. Domínio: Números inteiros >= 0.';\n",
    "\n",
    "ALTER TABLE gold.match_performance CHANGE COLUMN away_score away_score INT \n",
    "COMMENT 'Gols marcados pela seleção visitante. Domínio: Números inteiros >= 0.';\n",
    "\n",
    "ALTER TABLE gold.match_performance CHANGE COLUMN home_team_rank home_team_rank INT \n",
    "COMMENT 'Ranking FIFA da seleção mandante antes da partida. Domínio: 1 a 211.';\n",
    "\n",
    "ALTER TABLE gold.match_performance CHANGE COLUMN away_team_rank away_team_rank INT \n",
    "COMMENT 'Ranking FIFA da seleção visitante antes da partida. Domínio: 1 a 211.';\n",
    "\n",
    "ALTER TABLE gold.match_performance CHANGE COLUMN rank_diff rank_diff INT \n",
    "COMMENT 'Diferença entre os rankings FIFA das seleções (mandante - visitante). Domínio: Pode ser positivo, negativo ou zero.';\n",
    "\n",
    "ALTER TABLE gold.match_performance CHANGE COLUMN home_team_confederation home_team_confederation STRING \n",
    "COMMENT 'Confederação da seleção mandante. Domínio: UEFA, CONMEBOL, CONCACAF, AFC, CAF, OFC.';\n",
    "\n",
    "ALTER TABLE gold.match_performance CHANGE COLUMN away_team_confederation away_team_confederation STRING \n",
    "COMMENT 'Confederação da seleção visitante. Domínio: UEFA, CONMEBOL, CONCACAF, AFC, CAF, OFC.';\n",
    "\n",
    "ALTER TABLE gold.match_performance CHANGE COLUMN tournament tournament STRING \n",
    "COMMENT 'Nome do torneio em que a partida foi disputada. Domínio: Exemplos incluem \"FIFA World Cup\", \"Friendly\", \"Copa América\", etc.';\n",
    "\n",
    "ALTER TABLE gold.match_performance CHANGE COLUMN is_neutral is_neutral BOOLEAN \n",
    "COMMENT 'Indica se a partida foi em campo neutro. Domínio: true (sim) ou false (não).';\n"
   ]
  },
  {
   "cell_type": "code",
   "execution_count": 0,
   "metadata": {
    "application/vnd.databricks.v1+cell": {
     "cellMetadata": {
      "byteLimit": 2048000,
      "implicitDf": true,
      "rowLimit": 10000
     },
     "inputWidgets": {},
     "nuid": "8e722617-a1fb-4380-bba6-2e47df8caa99",
     "showTitle": false,
     "tableResultSettingsMap": {},
     "title": ""
    }
   },
   "outputs": [
    {
     "output_type": "display_data",
     "data": {
      "text/html": [
       "<style scoped>\n",
       "  .table-result-container {\n",
       "    max-height: 300px;\n",
       "    overflow: auto;\n",
       "  }\n",
       "  table, th, td {\n",
       "    border: 1px solid black;\n",
       "    border-collapse: collapse;\n",
       "  }\n",
       "  th, td {\n",
       "    padding: 5px;\n",
       "  }\n",
       "  th {\n",
       "    text-align: left;\n",
       "  }\n",
       "</style><div class='table-result-container'><table class='table-result'><thead style='background-color: white'><tr><th>col_name</th><th>data_type</th><th>comment</th></tr></thead><tbody><tr><td>match_id</td><td>string</td><td>Identificador único da partida. Domínio: Até 100 caracteres, exemplo: BRA-ARG-1994-07-17.</td></tr><tr><td>match_date</td><td>date</td><td>Data em que a partida foi realizada. Domínio: Datas entre 1872-11-30 e a data atual.</td></tr><tr><td>home_team</td><td>string</td><td>Nome padronizado da seleção mandante. Domínio: Países conforme tabela silver.results.</td></tr><tr><td>away_team</td><td>string</td><td>Nome padronizado da seleção visitante. Domínio: Países conforme tabela silver.results.</td></tr><tr><td>home_score</td><td>int</td><td>Gols marcados pela seleção mandante. Domínio: Números inteiros >= 0.</td></tr><tr><td>away_score</td><td>int</td><td>Gols marcados pela seleção visitante. Domínio: Números inteiros >= 0.</td></tr><tr><td>home_team_rank</td><td>int</td><td>Ranking FIFA da seleção mandante antes da partida. Domínio: 1 a 211.</td></tr><tr><td>away_team_rank</td><td>int</td><td>Ranking FIFA da seleção visitante antes da partida. Domínio: 1 a 211.</td></tr><tr><td>rank_diff</td><td>int</td><td>Diferença entre os rankings FIFA das seleções (mandante - visitante). Domínio: Pode ser positivo, negativo ou zero.</td></tr><tr><td>home_team_confederation</td><td>string</td><td>Confederação da seleção mandante. Domínio: UEFA, CONMEBOL, CONCACAF, AFC, CAF, OFC.</td></tr><tr><td>away_team_confederation</td><td>string</td><td>Confederação da seleção visitante. Domínio: UEFA, CONMEBOL, CONCACAF, AFC, CAF, OFC.</td></tr><tr><td>tournament</td><td>string</td><td>Nome do torneio em que a partida foi disputada. Domínio: Exemplos incluem \"FIFA World Cup\", \"Friendly\", \"Copa América\", etc.</td></tr><tr><td>is_neutral</td><td>boolean</td><td>Indica se a partida foi em campo neutro. Domínio: true (sim) ou false (não).</td></tr></tbody></table></div>"
      ]
     },
     "metadata": {
      "application/vnd.databricks.v1+output": {
       "addedWidgets": {},
       "aggData": [],
       "aggError": "",
       "aggOverflow": false,
       "aggSchema": [],
       "aggSeriesLimitReached": false,
       "aggType": "",
       "arguments": {},
       "columnCustomDisplayInfos": {},
       "data": [
        [
         "match_id",
         "string",
         "Identificador único da partida. Domínio: Até 100 caracteres, exemplo: BRA-ARG-1994-07-17."
        ],
        [
         "match_date",
         "date",
         "Data em que a partida foi realizada. Domínio: Datas entre 1872-11-30 e a data atual."
        ],
        [
         "home_team",
         "string",
         "Nome padronizado da seleção mandante. Domínio: Países conforme tabela silver.results."
        ],
        [
         "away_team",
         "string",
         "Nome padronizado da seleção visitante. Domínio: Países conforme tabela silver.results."
        ],
        [
         "home_score",
         "int",
         "Gols marcados pela seleção mandante. Domínio: Números inteiros >= 0."
        ],
        [
         "away_score",
         "int",
         "Gols marcados pela seleção visitante. Domínio: Números inteiros >= 0."
        ],
        [
         "home_team_rank",
         "int",
         "Ranking FIFA da seleção mandante antes da partida. Domínio: 1 a 211."
        ],
        [
         "away_team_rank",
         "int",
         "Ranking FIFA da seleção visitante antes da partida. Domínio: 1 a 211."
        ],
        [
         "rank_diff",
         "int",
         "Diferença entre os rankings FIFA das seleções (mandante - visitante). Domínio: Pode ser positivo, negativo ou zero."
        ],
        [
         "home_team_confederation",
         "string",
         "Confederação da seleção mandante. Domínio: UEFA, CONMEBOL, CONCACAF, AFC, CAF, OFC."
        ],
        [
         "away_team_confederation",
         "string",
         "Confederação da seleção visitante. Domínio: UEFA, CONMEBOL, CONCACAF, AFC, CAF, OFC."
        ],
        [
         "tournament",
         "string",
         "Nome do torneio em que a partida foi disputada. Domínio: Exemplos incluem \"FIFA World Cup\", \"Friendly\", \"Copa América\", etc."
        ],
        [
         "is_neutral",
         "boolean",
         "Indica se a partida foi em campo neutro. Domínio: true (sim) ou false (não)."
        ]
       ],
       "datasetInfos": [],
       "dbfsResultPath": null,
       "isJsonSchema": true,
       "metadata": {},
       "overflow": false,
       "plotOptions": {
        "customPlotOptions": {},
        "displayType": "table",
        "pivotAggregation": null,
        "pivotColumns": null,
        "xColumns": null,
        "yColumns": null
       },
       "removedWidgets": [],
       "schema": [
        {
         "metadata": "{\"comment\":\"name of the column\"}",
         "name": "col_name",
         "type": "\"string\""
        },
        {
         "metadata": "{\"comment\":\"data type of the column\"}",
         "name": "data_type",
         "type": "\"string\""
        },
        {
         "metadata": "{\"comment\":\"comment of the column\"}",
         "name": "comment",
         "type": "\"string\""
        }
       ],
       "type": "table"
      }
     },
     "output_type": "display_data"
    }
   ],
   "source": [
    "%sql\n",
    "DESCRIBE TABLE gold.match_performance"
   ]
  },
  {
   "cell_type": "markdown",
   "metadata": {
    "application/vnd.databricks.v1+cell": {
     "cellMetadata": {},
     "inputWidgets": {},
     "nuid": "bc128964-82bb-4364-a524-9ba36b818808",
     "showTitle": false,
     "tableResultSettingsMap": {},
     "title": ""
    }
   },
   "source": [
    "\n",
    "### 4.3.2 Tabela Dimensão: `gold.team_stats`\n",
    "\n",
    "A tabela `team_stats` consolida estatísticas históricas das seleções, permitindo uma visão agregada do desempenho de cada equipe nacional ao longo do tempo. Ela inclui métricas clássicas de performance e eficiência.\n",
    "\n",
    "**Principais atributos:**\n",
    "- `team_id`: Identificador único da seleção nacional.  \n",
    "- `team_name`: Nome oficial da seleção.  \n",
    "- `confederation`: Confederação à qual a seleção está afiliada (ex: UEFA, CONMEBOL, AFC, etc.).  \n",
    "- `total_matches`: Número total de partidas disputadas pela seleção ao longo do período analisado.  \n",
    "- `wins`: Total de partidas vencidas.  \n",
    "- `draws`: Total de partidas empatadas.  \n",
    "- `losses`: Total de partidas perdidas.  \n",
    "- `goals_for`: Número total de gols marcados pela seleção.  \n",
    "- `goals_against`: Número total de gols sofridos.  \n",
    "- `goal_difference`: Saldo de gols da seleção, calculado como `goals_for - goals_against`.  \n",
    "- `clean_sheets`: Quantidade de jogos em que a seleção não sofreu gols.  \n",
    "- `points`: Pontuação total acumulada, considerando 3 pontos por vitória e 1 por empate.  \n",
    "- `win_percentage`: Percentual de aproveitamento da seleção, calculado com base na proporção de vitórias sobre o total de partidas disputadas."
   ]
  },
  {
   "cell_type": "code",
   "execution_count": 0,
   "metadata": {
    "application/vnd.databricks.v1+cell": {
     "cellMetadata": {
      "byteLimit": 2048000,
      "implicitDf": true,
      "rowLimit": 10000
     },
     "inputWidgets": {},
     "nuid": "1cd45b42-9c77-4aaf-a278-1cfda30bf3f0",
     "showTitle": false,
     "tableResultSettingsMap": {},
     "title": ""
    }
   },
   "outputs": [
    {
     "output_type": "display_data",
     "data": {
      "text/html": [
       "<style scoped>\n",
       "  .table-result-container {\n",
       "    max-height: 300px;\n",
       "    overflow: auto;\n",
       "  }\n",
       "  table, th, td {\n",
       "    border: 1px solid black;\n",
       "    border-collapse: collapse;\n",
       "  }\n",
       "  th, td {\n",
       "    padding: 5px;\n",
       "  }\n",
       "  th {\n",
       "    text-align: left;\n",
       "  }\n",
       "</style><div class='table-result-container'><table class='table-result'><thead style='background-color: white'><tr><th>num_affected_rows</th><th>num_inserted_rows</th></tr></thead><tbody></tbody></table></div>"
      ]
     },
     "metadata": {
      "application/vnd.databricks.v1+output": {
       "addedWidgets": {},
       "aggData": [],
       "aggError": "",
       "aggOverflow": false,
       "aggSchema": [],
       "aggSeriesLimitReached": false,
       "aggType": "",
       "arguments": {},
       "columnCustomDisplayInfos": {},
       "data": [],
       "datasetInfos": [],
       "dbfsResultPath": null,
       "isJsonSchema": true,
       "metadata": {},
       "overflow": false,
       "plotOptions": {
        "customPlotOptions": {},
        "displayType": "table",
        "pivotAggregation": null,
        "pivotColumns": null,
        "xColumns": null,
        "yColumns": null
       },
       "removedWidgets": [],
       "schema": [
        {
         "metadata": "{}",
         "name": "num_affected_rows",
         "type": "\"long\""
        },
        {
         "metadata": "{}",
         "name": "num_inserted_rows",
         "type": "\"long\""
        }
       ],
       "type": "table"
      }
     },
     "output_type": "display_data"
    }
   ],
   "source": [
    "%sql\n",
    "CREATE OR REPLACE TABLE gold.team_stats AS\n",
    "WITH latest_confederation AS (\n",
    "    SELECT \n",
    "        country, \n",
    "        confederation,\n",
    "        ROW_NUMBER() OVER (PARTITION BY country ORDER BY rank_date DESC) AS rn\n",
    "    FROM silver.fifa_ranking\n",
    ")\n",
    "SELECT\n",
    "    t.team AS team_id,\n",
    "    t.team AS team_name,\n",
    "    COALESCE(lc.confederation, 'Unknown') AS confederation,\n",
    "    COUNT(*) AS total_matches,\n",
    "    SUM(CASE WHEN t.goals_for > t.goals_against THEN 1 ELSE 0 END) AS wins,\n",
    "    SUM(CASE WHEN t.goals_for = t.goals_against THEN 1 ELSE 0 END) AS draws,\n",
    "    SUM(CASE WHEN t.goals_for < t.goals_against THEN 1 ELSE 0 END) AS losses,\n",
    "    SUM(t.goals_for) AS goals_for,\n",
    "    SUM(t.goals_against) AS goals_against,\n",
    "    SUM(t.goals_for) - SUM(t.goals_against) AS goal_difference,\n",
    "    SUM(CASE WHEN t.goals_against = 0 THEN 1 ELSE 0 END) AS clean_sheets,\n",
    "    (SUM(CASE WHEN t.goals_for > t.goals_against THEN 3 ELSE 0 END) + \n",
    "     SUM(CASE WHEN t.goals_for = t.goals_against THEN 1 ELSE 0 END)) AS points,\n",
    "    ROUND(\n",
    "        SUM(CASE WHEN t.goals_for > t.goals_against THEN 1 ELSE 0 END) * 100.0 / COUNT(*),\n",
    "        2\n",
    "    ) AS win_percentage\n",
    "FROM (\n",
    "    SELECT home_team AS team, home_score AS goals_for, away_score AS goals_against FROM silver.results\n",
    "    UNION ALL\n",
    "    SELECT away_team AS team, away_score AS goals_for, home_score AS goals_against FROM silver.results\n",
    ") AS t\n",
    "LEFT JOIN latest_confederation lc\n",
    "    ON t.team = lc.country\n",
    "    AND lc.rn = 1  -- Pegamos apenas a confederação mais recente\n",
    "GROUP BY t.team, lc.confederation;\n"
   ]
  },
  {
   "cell_type": "markdown",
   "metadata": {
    "application/vnd.databricks.v1+cell": {
     "cellMetadata": {},
     "inputWidgets": {},
     "nuid": "d03f53e2-1b5b-46e2-bd5b-84dfab254175",
     "showTitle": false,
     "tableResultSettingsMap": {},
     "title": ""
    }
   },
   "source": [
    "Visualização da tabela criada."
   ]
  },
  {
   "cell_type": "code",
   "execution_count": 0,
   "metadata": {
    "application/vnd.databricks.v1+cell": {
     "cellMetadata": {
      "byteLimit": 2048000,
      "implicitDf": true,
      "rowLimit": 10000
     },
     "inputWidgets": {},
     "nuid": "cc7f0cac-a4cd-4492-b6b6-ba4083732e8d",
     "showTitle": false,
     "tableResultSettingsMap": {},
     "title": ""
    }
   },
   "outputs": [
    {
     "output_type": "display_data",
     "data": {
      "text/html": [
       "<style scoped>\n",
       "  .table-result-container {\n",
       "    max-height: 300px;\n",
       "    overflow: auto;\n",
       "  }\n",
       "  table, th, td {\n",
       "    border: 1px solid black;\n",
       "    border-collapse: collapse;\n",
       "  }\n",
       "  th, td {\n",
       "    padding: 5px;\n",
       "  }\n",
       "  th {\n",
       "    text-align: left;\n",
       "  }\n",
       "</style><div class='table-result-container'><table class='table-result'><thead style='background-color: white'><tr><th>team_id</th><th>team_name</th><th>confederation</th><th>total_matches</th><th>wins</th><th>draws</th><th>losses</th><th>goals_for</th><th>goals_against</th><th>goal_difference</th><th>clean_sheets</th><th>points</th><th>win_percentage</th></tr></thead><tbody><tr><td>Sweden</td><td>Sweden</td><td>UEFA</td><td>1089</td><td>537</td><td>230</td><td>322</td><td>2152</td><td>1398</td><td>754</td><td>357</td><td>1841</td><td>49.31</td></tr><tr><td>England</td><td>England</td><td>UEFA</td><td>1078</td><td>616</td><td>257</td><td>205</td><td>2355</td><td>1036</td><td>1319</td><td>446</td><td>2105</td><td>57.14</td></tr><tr><td>Argentina</td><td>Argentina</td><td>CONMEBOL</td><td>1055</td><td>581</td><td>256</td><td>218</td><td>1995</td><td>1070</td><td>925</td><td>410</td><td>1999</td><td>55.07</td></tr><tr><td>Brazil</td><td>Brazil</td><td>CONMEBOL</td><td>1047</td><td>665</td><td>214</td><td>168</td><td>2279</td><td>946</td><td>1333</td><td>467</td><td>2209</td><td>63.51</td></tr><tr><td>Germany</td><td>Germany</td><td>UEFA</td><td>1019</td><td>590</td><td>213</td><td>216</td><td>2291</td><td>1186</td><td>1105</td><td>350</td><td>1983</td><td>57.90</td></tr><tr><td>South Korea</td><td>South Korea</td><td>AFC</td><td>995</td><td>530</td><td>251</td><td>214</td><td>1771</td><td>902</td><td>869</td><td>459</td><td>1841</td><td>53.27</td></tr><tr><td>Hungary</td><td>Hungary</td><td>UEFA</td><td>994</td><td>466</td><td>219</td><td>309</td><td>1992</td><td>1468</td><td>524</td><td>278</td><td>1617</td><td>46.88</td></tr><tr><td>Mexico</td><td>Mexico</td><td>CONCACAF</td><td>982</td><td>503</td><td>224</td><td>255</td><td>1736</td><td>1036</td><td>700</td><td>402</td><td>1733</td><td>51.22</td></tr><tr><td>Uruguay</td><td>Uruguay</td><td>CONMEBOL</td><td>956</td><td>421</td><td>235</td><td>300</td><td>1514</td><td>1166</td><td>348</td><td>323</td><td>1498</td><td>44.04</td></tr><tr><td>France</td><td>France</td><td>UEFA</td><td>923</td><td>468</td><td>194</td><td>261</td><td>1684</td><td>1195</td><td>489</td><td>331</td><td>1598</td><td>50.70</td></tr><tr><td>Italy</td><td>Italy</td><td>UEFA</td><td>881</td><td>468</td><td>242</td><td>171</td><td>1539</td><td>863</td><td>676</td><td>354</td><td>1646</td><td>53.12</td></tr><tr><td>Poland</td><td>Poland</td><td>UEFA</td><td>880</td><td>378</td><td>222</td><td>280</td><td>1479</td><td>1186</td><td>293</td><td>277</td><td>1356</td><td>42.95</td></tr><tr><td>Switzerland</td><td>Switzerland</td><td>UEFA</td><td>871</td><td>309</td><td>199</td><td>363</td><td>1289</td><td>1434</td><td>-145</td><td>211</td><td>1126</td><td>35.48</td></tr><tr><td>Czech Republic</td><td>Czech Republic</td><td>UEFA</td><td>868</td><td>421</td><td>187</td><td>260</td><td>1602</td><td>1075</td><td>527</td><td>265</td><td>1450</td><td>48.50</td></tr><tr><td>Netherlands</td><td>Netherlands</td><td>UEFA</td><td>867</td><td>445</td><td>195</td><td>227</td><td>1809</td><td>1068</td><td>741</td><td>307</td><td>1530</td><td>51.33</td></tr><tr><td>Denmark</td><td>Denmark</td><td>UEFA</td><td>862</td><td>395</td><td>181</td><td>286</td><td>1556</td><td>1162</td><td>394</td><td>254</td><td>1366</td><td>45.82</td></tr><tr><td>Norway</td><td>Norway</td><td>UEFA</td><td>860</td><td>320</td><td>193</td><td>347</td><td>1316</td><td>1408</td><td>-92</td><td>235</td><td>1153</td><td>37.21</td></tr><tr><td>Thailand</td><td>Thailand</td><td>AFC</td><td>853</td><td>331</td><td>204</td><td>318</td><td>1362</td><td>1270</td><td>92</td><td>263</td><td>1197</td><td>38.80</td></tr><tr><td>Austria</td><td>Austria</td><td>UEFA</td><td>849</td><td>358</td><td>183</td><td>308</td><td>1512</td><td>1310</td><td>202</td><td>210</td><td>1257</td><td>42.17</td></tr><tr><td>Belgium</td><td>Belgium</td><td>UEFA</td><td>841</td><td>374</td><td>177</td><td>290</td><td>1508</td><td>1280</td><td>228</td><td>252</td><td>1299</td><td>44.47</td></tr></tbody></table></div>"
      ]
     },
     "metadata": {
      "application/vnd.databricks.v1+output": {
       "addedWidgets": {},
       "aggData": [],
       "aggError": "",
       "aggOverflow": false,
       "aggSchema": [],
       "aggSeriesLimitReached": false,
       "aggType": "",
       "arguments": {},
       "columnCustomDisplayInfos": {},
       "data": [
        [
         "Sweden",
         "Sweden",
         "UEFA",
         1089,
         537,
         230,
         322,
         2152,
         1398,
         754,
         357,
         1841,
         "49.31"
        ],
        [
         "England",
         "England",
         "UEFA",
         1078,
         616,
         257,
         205,
         2355,
         1036,
         1319,
         446,
         2105,
         "57.14"
        ],
        [
         "Argentina",
         "Argentina",
         "CONMEBOL",
         1055,
         581,
         256,
         218,
         1995,
         1070,
         925,
         410,
         1999,
         "55.07"
        ],
        [
         "Brazil",
         "Brazil",
         "CONMEBOL",
         1047,
         665,
         214,
         168,
         2279,
         946,
         1333,
         467,
         2209,
         "63.51"
        ],
        [
         "Germany",
         "Germany",
         "UEFA",
         1019,
         590,
         213,
         216,
         2291,
         1186,
         1105,
         350,
         1983,
         "57.90"
        ],
        [
         "South Korea",
         "South Korea",
         "AFC",
         995,
         530,
         251,
         214,
         1771,
         902,
         869,
         459,
         1841,
         "53.27"
        ],
        [
         "Hungary",
         "Hungary",
         "UEFA",
         994,
         466,
         219,
         309,
         1992,
         1468,
         524,
         278,
         1617,
         "46.88"
        ],
        [
         "Mexico",
         "Mexico",
         "CONCACAF",
         982,
         503,
         224,
         255,
         1736,
         1036,
         700,
         402,
         1733,
         "51.22"
        ],
        [
         "Uruguay",
         "Uruguay",
         "CONMEBOL",
         956,
         421,
         235,
         300,
         1514,
         1166,
         348,
         323,
         1498,
         "44.04"
        ],
        [
         "France",
         "France",
         "UEFA",
         923,
         468,
         194,
         261,
         1684,
         1195,
         489,
         331,
         1598,
         "50.70"
        ],
        [
         "Italy",
         "Italy",
         "UEFA",
         881,
         468,
         242,
         171,
         1539,
         863,
         676,
         354,
         1646,
         "53.12"
        ],
        [
         "Poland",
         "Poland",
         "UEFA",
         880,
         378,
         222,
         280,
         1479,
         1186,
         293,
         277,
         1356,
         "42.95"
        ],
        [
         "Switzerland",
         "Switzerland",
         "UEFA",
         871,
         309,
         199,
         363,
         1289,
         1434,
         -145,
         211,
         1126,
         "35.48"
        ],
        [
         "Czech Republic",
         "Czech Republic",
         "UEFA",
         868,
         421,
         187,
         260,
         1602,
         1075,
         527,
         265,
         1450,
         "48.50"
        ],
        [
         "Netherlands",
         "Netherlands",
         "UEFA",
         867,
         445,
         195,
         227,
         1809,
         1068,
         741,
         307,
         1530,
         "51.33"
        ],
        [
         "Denmark",
         "Denmark",
         "UEFA",
         862,
         395,
         181,
         286,
         1556,
         1162,
         394,
         254,
         1366,
         "45.82"
        ],
        [
         "Norway",
         "Norway",
         "UEFA",
         860,
         320,
         193,
         347,
         1316,
         1408,
         -92,
         235,
         1153,
         "37.21"
        ],
        [
         "Thailand",
         "Thailand",
         "AFC",
         853,
         331,
         204,
         318,
         1362,
         1270,
         92,
         263,
         1197,
         "38.80"
        ],
        [
         "Austria",
         "Austria",
         "UEFA",
         849,
         358,
         183,
         308,
         1512,
         1310,
         202,
         210,
         1257,
         "42.17"
        ],
        [
         "Belgium",
         "Belgium",
         "UEFA",
         841,
         374,
         177,
         290,
         1508,
         1280,
         228,
         252,
         1299,
         "44.47"
        ]
       ],
       "datasetInfos": [],
       "dbfsResultPath": null,
       "isJsonSchema": true,
       "metadata": {},
       "overflow": false,
       "plotOptions": {
        "customPlotOptions": {},
        "displayType": "table",
        "pivotAggregation": null,
        "pivotColumns": null,
        "xColumns": null,
        "yColumns": null
       },
       "removedWidgets": [],
       "schema": [
        {
         "metadata": "{\"comment\":\"Nome do time da casa padronizado. Domínio: Valores da tabela silver.teams (ex: \\\"Brazil\\\", \\\"Germany\\\").\"}",
         "name": "team_id",
         "type": "\"string\""
        },
        {
         "metadata": "{\"comment\":\"Nome do time da casa padronizado. Domínio: Valores da tabela silver.teams (ex: \\\"Brazil\\\", \\\"Germany\\\").\"}",
         "name": "team_name",
         "type": "\"string\""
        },
        {
         "metadata": "{}",
         "name": "confederation",
         "type": "\"string\""
        },
        {
         "metadata": "{}",
         "name": "total_matches",
         "type": "\"long\""
        },
        {
         "metadata": "{}",
         "name": "wins",
         "type": "\"long\""
        },
        {
         "metadata": "{}",
         "name": "draws",
         "type": "\"long\""
        },
        {
         "metadata": "{}",
         "name": "losses",
         "type": "\"long\""
        },
        {
         "metadata": "{}",
         "name": "goals_for",
         "type": "\"long\""
        },
        {
         "metadata": "{}",
         "name": "goals_against",
         "type": "\"long\""
        },
        {
         "metadata": "{}",
         "name": "goal_difference",
         "type": "\"long\""
        },
        {
         "metadata": "{}",
         "name": "clean_sheets",
         "type": "\"long\""
        },
        {
         "metadata": "{}",
         "name": "points",
         "type": "\"long\""
        },
        {
         "metadata": "{}",
         "name": "win_percentage",
         "type": "\"decimal(27,2)\""
        }
       ],
       "type": "table"
      }
     },
     "output_type": "display_data"
    }
   ],
   "source": [
    "%sql\n",
    "SELECT* \n",
    "FROM gold.team_stats\n",
    "ORDER BY total_matches DESC\n",
    "LIMIT 20"
   ]
  },
  {
   "cell_type": "markdown",
   "metadata": {
    "application/vnd.databricks.v1+cell": {
     "cellMetadata": {},
     "inputWidgets": {},
     "nuid": "e96a38f8-e884-46a9-b1af-d7999908577b",
     "showTitle": false,
     "tableResultSettingsMap": {},
     "title": ""
    }
   },
   "source": [
    "Inserção de comentários descritivos."
   ]
  },
  {
   "cell_type": "code",
   "execution_count": 0,
   "metadata": {
    "application/vnd.databricks.v1+cell": {
     "cellMetadata": {
      "byteLimit": 2048000,
      "implicitDf": true,
      "rowLimit": 10000
     },
     "inputWidgets": {},
     "nuid": "3c0b4e25-8a19-4f8c-97fb-a2d6b9544593",
     "showTitle": false,
     "tableResultSettingsMap": {},
     "title": ""
    }
   },
   "outputs": [
    {
     "output_type": "display_data",
     "data": {
      "text/html": [
       "<style scoped>\n",
       "  .table-result-container {\n",
       "    max-height: 300px;\n",
       "    overflow: auto;\n",
       "  }\n",
       "  table, th, td {\n",
       "    border: 1px solid black;\n",
       "    border-collapse: collapse;\n",
       "  }\n",
       "  th, td {\n",
       "    padding: 5px;\n",
       "  }\n",
       "  th {\n",
       "    text-align: left;\n",
       "  }\n",
       "</style><div class='table-result-container'><table class='table-result'><thead style='background-color: white'><tr></tr></thead><tbody></tbody></table></div>"
      ]
     },
     "metadata": {
      "application/vnd.databricks.v1+output": {
       "addedWidgets": {},
       "aggData": [],
       "aggError": "",
       "aggOverflow": false,
       "aggSchema": [],
       "aggSeriesLimitReached": false,
       "aggType": "",
       "arguments": {},
       "columnCustomDisplayInfos": {},
       "data": [],
       "datasetInfos": [],
       "dbfsResultPath": null,
       "isJsonSchema": true,
       "metadata": {},
       "overflow": false,
       "plotOptions": {
        "customPlotOptions": {},
        "displayType": "table",
        "pivotAggregation": null,
        "pivotColumns": null,
        "xColumns": null,
        "yColumns": null
       },
       "removedWidgets": [],
       "schema": [],
       "type": "table"
      }
     },
     "output_type": "display_data"
    }
   ],
   "source": [
    "%sql\n",
    "-- Comentário da tabela\n",
    "ALTER TABLE gold.team_stats \n",
    "SET TBLPROPERTIES (\n",
    "  'comment' = 'Tabela dimensão que consolida estatísticas históricas agregadas de cada seleção nacional. Inclui informações como número de partidas, vitórias, empates, derrotas, gols marcados e sofridos, saldo de gols, clean sheets, pontos e aproveitamento. A confederação é associada com base no ranking FIFA mais recente.'\n",
    ");\n",
    "\n",
    "-- Comentários das colunas (um comando por coluna)\n",
    "\n",
    "ALTER TABLE gold.team_stats CHANGE COLUMN team_id team_id STRING \n",
    "COMMENT 'Identificador único da seleção nacional. Domínio: Nome padronizado dos países conforme tabela silver.results.';\n",
    "\n",
    "ALTER TABLE gold.team_stats CHANGE COLUMN team_name team_name STRING \n",
    "COMMENT 'Nome padronizado da seleção nacional. Domínio: Mesmo valor de team_id.';\n",
    "\n",
    "ALTER TABLE gold.team_stats CHANGE COLUMN confederation confederation STRING \n",
    "COMMENT 'Confederação mais recente à qual a seleção pertence (ex: UEFA, CONMEBOL, CAF, AFC, CONCACAF, OFC). Domínio: Lista de confederações da FIFA ou \"Unknown\".';\n",
    "\n",
    "ALTER TABLE gold.team_stats CHANGE COLUMN total_matches total_matches BIGINT\n",
    "COMMENT 'Número total de partidas disputadas pela seleção. Domínio: Inteiros positivos.';\n",
    "\n",
    "ALTER TABLE gold.team_stats CHANGE COLUMN wins wins BIGINT \n",
    "COMMENT 'Total de partidas vencidas pela seleção. Domínio: Inteiros positivos, sempre menor ou igual a total_matches.';\n",
    "\n",
    "ALTER TABLE gold.team_stats CHANGE COLUMN draws draws BIGINT \n",
    "COMMENT 'Total de partidas empatadas pela seleção. Domínio: Inteiros positivos, sempre menor ou igual a total_matches.';\n",
    "\n",
    "ALTER TABLE gold.team_stats CHANGE COLUMN losses losses BIGINT \n",
    "COMMENT 'Total de partidas perdidas pela seleção. Domínio: Inteiros positivos, sempre menor ou igual a total_matches.';\n",
    "\n",
    "ALTER TABLE gold.team_stats CHANGE COLUMN goals_for goals_for BIGINT \n",
    "COMMENT 'Total de gols marcados pela seleção. Domínio: Inteiros positivos.';\n",
    "\n",
    "ALTER TABLE gold.team_stats CHANGE COLUMN goals_against goals_against BIGINT \n",
    "COMMENT 'Total de gols sofridos pela seleção. Domínio: Inteiros positivos.';\n",
    "\n",
    "ALTER TABLE gold.team_stats CHANGE COLUMN goal_difference goal_difference BIGINT \n",
    "COMMENT 'Saldo de gols da seleção (gols marcados - gols sofridos). Domínio: Números inteiros (positivos, negativos ou zero).';\n",
    "\n",
    "ALTER TABLE gold.team_stats CHANGE COLUMN clean_sheets clean_sheets BIGINT \n",
    "COMMENT 'Número de partidas em que a seleção não sofreu gols. Domínio: Inteiros positivos, menor ou igual a total_matches.';\n",
    "\n",
    "ALTER TABLE gold.team_stats CHANGE COLUMN points points BIGINT \n",
    "COMMENT 'Pontuação total baseada na regra de 3 pontos por vitória e 1 ponto por empate. Domínio: Inteiros positivos.';\n",
    "\n",
    "ALTER TABLE gold.team_stats CHANGE COLUMN win_percentage win_percentage DECIMAL(27,2) \n",
    "COMMENT 'Percentual de vitórias da seleção em relação ao total de partidas. Domínio: Valores entre 0.00 e 100.00.';\n"
   ]
  },
  {
   "cell_type": "code",
   "execution_count": 0,
   "metadata": {
    "application/vnd.databricks.v1+cell": {
     "cellMetadata": {
      "byteLimit": 2048000,
      "implicitDf": true,
      "rowLimit": 10000
     },
     "inputWidgets": {},
     "nuid": "9ff0415d-58de-4ab0-adaa-4b3f79a97178",
     "showTitle": false,
     "tableResultSettingsMap": {},
     "title": ""
    }
   },
   "outputs": [
    {
     "output_type": "display_data",
     "data": {
      "text/html": [
       "<style scoped>\n",
       "  .table-result-container {\n",
       "    max-height: 300px;\n",
       "    overflow: auto;\n",
       "  }\n",
       "  table, th, td {\n",
       "    border: 1px solid black;\n",
       "    border-collapse: collapse;\n",
       "  }\n",
       "  th, td {\n",
       "    padding: 5px;\n",
       "  }\n",
       "  th {\n",
       "    text-align: left;\n",
       "  }\n",
       "</style><div class='table-result-container'><table class='table-result'><thead style='background-color: white'><tr><th>col_name</th><th>data_type</th><th>comment</th></tr></thead><tbody><tr><td>team_id</td><td>string</td><td>Identificador único da seleção nacional. Domínio: Nome padronizado dos países conforme tabela silver.results.</td></tr><tr><td>team_name</td><td>string</td><td>Nome padronizado da seleção nacional. Domínio: Mesmo valor de team_id.</td></tr><tr><td>confederation</td><td>string</td><td>Confederação mais recente à qual a seleção pertence (ex: UEFA, CONMEBOL, CAF, AFC, CONCACAF, OFC). Domínio: Lista de confederações da FIFA ou \"Unknown\".</td></tr><tr><td>total_matches</td><td>bigint</td><td>Número total de partidas disputadas pela seleção. Domínio: Inteiros positivos.</td></tr><tr><td>wins</td><td>bigint</td><td>Total de partidas vencidas pela seleção. Domínio: Inteiros positivos, sempre menor ou igual a total_matches.</td></tr><tr><td>draws</td><td>bigint</td><td>Total de partidas empatadas pela seleção. Domínio: Inteiros positivos, sempre menor ou igual a total_matches.</td></tr><tr><td>losses</td><td>bigint</td><td>Total de partidas perdidas pela seleção. Domínio: Inteiros positivos, sempre menor ou igual a total_matches.</td></tr><tr><td>goals_for</td><td>bigint</td><td>Total de gols marcados pela seleção. Domínio: Inteiros positivos.</td></tr><tr><td>goals_against</td><td>bigint</td><td>Total de gols sofridos pela seleção. Domínio: Inteiros positivos.</td></tr><tr><td>goal_difference</td><td>bigint</td><td>Saldo de gols da seleção (gols marcados - gols sofridos). Domínio: Números inteiros (positivos, negativos ou zero).</td></tr><tr><td>clean_sheets</td><td>bigint</td><td>Número de partidas em que a seleção não sofreu gols. Domínio: Inteiros positivos, menor ou igual a total_matches.</td></tr><tr><td>points</td><td>bigint</td><td>Pontuação total baseada na regra de 3 pontos por vitória e 1 ponto por empate. Domínio: Inteiros positivos.</td></tr><tr><td>win_percentage</td><td>decimal(27,2)</td><td>Percentual de vitórias da seleção em relação ao total de partidas. Domínio: Valores entre 0.00 e 100.00.</td></tr></tbody></table></div>"
      ]
     },
     "metadata": {
      "application/vnd.databricks.v1+output": {
       "addedWidgets": {},
       "aggData": [],
       "aggError": "",
       "aggOverflow": false,
       "aggSchema": [],
       "aggSeriesLimitReached": false,
       "aggType": "",
       "arguments": {},
       "columnCustomDisplayInfos": {},
       "data": [
        [
         "team_id",
         "string",
         "Identificador único da seleção nacional. Domínio: Nome padronizado dos países conforme tabela silver.results."
        ],
        [
         "team_name",
         "string",
         "Nome padronizado da seleção nacional. Domínio: Mesmo valor de team_id."
        ],
        [
         "confederation",
         "string",
         "Confederação mais recente à qual a seleção pertence (ex: UEFA, CONMEBOL, CAF, AFC, CONCACAF, OFC). Domínio: Lista de confederações da FIFA ou \"Unknown\"."
        ],
        [
         "total_matches",
         "bigint",
         "Número total de partidas disputadas pela seleção. Domínio: Inteiros positivos."
        ],
        [
         "wins",
         "bigint",
         "Total de partidas vencidas pela seleção. Domínio: Inteiros positivos, sempre menor ou igual a total_matches."
        ],
        [
         "draws",
         "bigint",
         "Total de partidas empatadas pela seleção. Domínio: Inteiros positivos, sempre menor ou igual a total_matches."
        ],
        [
         "losses",
         "bigint",
         "Total de partidas perdidas pela seleção. Domínio: Inteiros positivos, sempre menor ou igual a total_matches."
        ],
        [
         "goals_for",
         "bigint",
         "Total de gols marcados pela seleção. Domínio: Inteiros positivos."
        ],
        [
         "goals_against",
         "bigint",
         "Total de gols sofridos pela seleção. Domínio: Inteiros positivos."
        ],
        [
         "goal_difference",
         "bigint",
         "Saldo de gols da seleção (gols marcados - gols sofridos). Domínio: Números inteiros (positivos, negativos ou zero)."
        ],
        [
         "clean_sheets",
         "bigint",
         "Número de partidas em que a seleção não sofreu gols. Domínio: Inteiros positivos, menor ou igual a total_matches."
        ],
        [
         "points",
         "bigint",
         "Pontuação total baseada na regra de 3 pontos por vitória e 1 ponto por empate. Domínio: Inteiros positivos."
        ],
        [
         "win_percentage",
         "decimal(27,2)",
         "Percentual de vitórias da seleção em relação ao total de partidas. Domínio: Valores entre 0.00 e 100.00."
        ]
       ],
       "datasetInfos": [],
       "dbfsResultPath": null,
       "isJsonSchema": true,
       "metadata": {},
       "overflow": false,
       "plotOptions": {
        "customPlotOptions": {},
        "displayType": "table",
        "pivotAggregation": null,
        "pivotColumns": null,
        "xColumns": null,
        "yColumns": null
       },
       "removedWidgets": [],
       "schema": [
        {
         "metadata": "{\"comment\":\"name of the column\"}",
         "name": "col_name",
         "type": "\"string\""
        },
        {
         "metadata": "{\"comment\":\"data type of the column\"}",
         "name": "data_type",
         "type": "\"string\""
        },
        {
         "metadata": "{\"comment\":\"comment of the column\"}",
         "name": "comment",
         "type": "\"string\""
        }
       ],
       "type": "table"
      }
     },
     "output_type": "display_data"
    }
   ],
   "source": [
    "%sql\n",
    "DESCRIBE TABLE gold.team_stats"
   ]
  },
  {
   "cell_type": "markdown",
   "metadata": {
    "application/vnd.databricks.v1+cell": {
     "cellMetadata": {},
     "inputWidgets": {},
     "nuid": "9e403a33-1e56-495d-9944-48b968524dba",
     "showTitle": false,
     "tableResultSettingsMap": {},
     "title": ""
    }
   },
   "source": [
    "\n",
    "\n",
    "### 4.3.3 Tabela Dimensão: `gold.top_scores`\n",
    "\n",
    "A tabela `top_scores` destaca os principais artilheiros da base de dados, vinculando o desempenho individual dos jogadores às respectivas seleções.\n",
    "\n",
    "**Principais atributos:**\n",
    "- `player_name`: Nome do jogador.\n",
    "- `team_name`: Nome da seleção pela qual o jogador marcou os gols.\n",
    "- `total_goals`: Total de gols marcados pelo jogador (excluindo gols contra).\n",
    "- `matches_scored`: Número de partidas diferentes em que o jogador marcou pelo menos um gol.\n",
    "- `max_goals_in_a_game`: Maior número de gols marcados pelo jogador em uma única partida.\n",
    "- `hat_tricks`: Quantidade de vezes que o jogador marcou 3 ou mais gols em um mesmo jogo.\n",
    "- `penalty_goals`: Total de gols marcados de pênalti.\n",
    "- `own_goals`: Total de gols contra registrados pelo jogador (a favor da equipe adversária).\n",
    "\n",
    "Com essa dimensão, é possível analisar o impacto dos principais jogadores no desempenho ofensivo das seleções."
   ]
  },
  {
   "cell_type": "code",
   "execution_count": 0,
   "metadata": {
    "application/vnd.databricks.v1+cell": {
     "cellMetadata": {
      "byteLimit": 2048000,
      "implicitDf": true,
      "rowLimit": 10000
     },
     "inputWidgets": {},
     "nuid": "3131b3e1-5ff9-457f-9310-da569bcc8fb4",
     "showTitle": false,
     "tableResultSettingsMap": {},
     "title": ""
    }
   },
   "outputs": [
    {
     "output_type": "display_data",
     "data": {
      "text/html": [
       "<style scoped>\n",
       "  .table-result-container {\n",
       "    max-height: 300px;\n",
       "    overflow: auto;\n",
       "  }\n",
       "  table, th, td {\n",
       "    border: 1px solid black;\n",
       "    border-collapse: collapse;\n",
       "  }\n",
       "  th, td {\n",
       "    padding: 5px;\n",
       "  }\n",
       "  th {\n",
       "    text-align: left;\n",
       "  }\n",
       "</style><div class='table-result-container'><table class='table-result'><thead style='background-color: white'><tr><th>num_affected_rows</th><th>num_inserted_rows</th></tr></thead><tbody></tbody></table></div>"
      ]
     },
     "metadata": {
      "application/vnd.databricks.v1+output": {
       "addedWidgets": {},
       "aggData": [],
       "aggError": "",
       "aggOverflow": false,
       "aggSchema": [],
       "aggSeriesLimitReached": false,
       "aggType": "",
       "arguments": {},
       "columnCustomDisplayInfos": {},
       "data": [],
       "datasetInfos": [],
       "dbfsResultPath": null,
       "isJsonSchema": true,
       "metadata": {},
       "overflow": false,
       "plotOptions": {
        "customPlotOptions": {},
        "displayType": "table",
        "pivotAggregation": null,
        "pivotColumns": null,
        "xColumns": null,
        "yColumns": null
       },
       "removedWidgets": [],
       "schema": [
        {
         "metadata": "{}",
         "name": "num_affected_rows",
         "type": "\"long\""
        },
        {
         "metadata": "{}",
         "name": "num_inserted_rows",
         "type": "\"long\""
        }
       ],
       "type": "table"
      }
     },
     "output_type": "display_data"
    }
   ],
   "source": [
    "%sql\n",
    "-- Criação da tabela gold.top_scorers com métricas adicionais\n",
    "\n",
    "CREATE OR REPLACE TABLE gold.top_scorers AS\n",
    "WITH gols_por_partida AS (\n",
    "    SELECT\n",
    "        scorer,\n",
    "        scoring_team,\n",
    "        match_id,\n",
    "        COUNT(*) AS total_gols\n",
    "    FROM silver.goalscorers\n",
    "    WHERE is_own_goal = false\n",
    "    GROUP BY scorer, scoring_team, match_id\n",
    "),\n",
    "hat_tricks_cte AS (\n",
    "    SELECT\n",
    "        scorer,\n",
    "        scoring_team,\n",
    "        COUNT(*) AS hat_tricks\n",
    "    FROM gols_por_partida\n",
    "    WHERE total_gols >= 3\n",
    "    GROUP BY scorer, scoring_team\n",
    "),\n",
    "tipo_gols_cte AS (\n",
    "    SELECT\n",
    "        scorer,\n",
    "        scoring_team,\n",
    "        SUM(CASE WHEN is_penalty THEN 1 ELSE 0 END) AS penalty_goals,\n",
    "        SUM(CASE WHEN is_own_goal THEN 1 ELSE 0 END) AS own_goals\n",
    "    FROM silver.goalscorers\n",
    "    GROUP BY scorer, scoring_team\n",
    ")\n",
    "SELECT\n",
    "    gpp.scorer AS player_name,\n",
    "    gpp.scoring_team AS team_name,\n",
    "    SUM(gpp.total_gols) AS total_goals,\n",
    "    COUNT(DISTINCT gpp.match_id) AS matches_scored,\n",
    "    MAX(gpp.total_gols) AS max_goals_in_a_game,\n",
    "    COALESCE(ht.hat_tricks, 0) AS hat_tricks,\n",
    "    COALESCE(tg.penalty_goals, 0) AS penalty_goals,\n",
    "    COALESCE(tg.own_goals, 0) AS own_goals\n",
    "FROM gols_por_partida gpp\n",
    "LEFT JOIN hat_tricks_cte ht\n",
    "    ON gpp.scorer = ht.scorer AND gpp.scoring_team = ht.scoring_team\n",
    "LEFT JOIN tipo_gols_cte tg\n",
    "    ON gpp.scorer = tg.scorer AND gpp.scoring_team = tg.scoring_team\n",
    "GROUP BY\n",
    "    gpp.scorer,\n",
    "    gpp.scoring_team,\n",
    "    ht.hat_tricks,\n",
    "    tg.penalty_goals,\n",
    "    tg.own_goals;\n"
   ]
  },
  {
   "cell_type": "markdown",
   "metadata": {
    "application/vnd.databricks.v1+cell": {
     "cellMetadata": {},
     "inputWidgets": {},
     "nuid": "4e2fc4a4-2a0b-4042-b19e-8439038cab30",
     "showTitle": false,
     "tableResultSettingsMap": {},
     "title": ""
    }
   },
   "source": [
    "Visualização da tabela criada."
   ]
  },
  {
   "cell_type": "code",
   "execution_count": 0,
   "metadata": {
    "application/vnd.databricks.v1+cell": {
     "cellMetadata": {
      "byteLimit": 2048000,
      "implicitDf": true,
      "rowLimit": 10000
     },
     "inputWidgets": {},
     "nuid": "056a2b08-5678-4679-8f6d-9642c9ac010a",
     "showTitle": false,
     "tableResultSettingsMap": {},
     "title": ""
    }
   },
   "outputs": [
    {
     "output_type": "display_data",
     "data": {
      "text/html": [
       "<style scoped>\n",
       "  .table-result-container {\n",
       "    max-height: 300px;\n",
       "    overflow: auto;\n",
       "  }\n",
       "  table, th, td {\n",
       "    border: 1px solid black;\n",
       "    border-collapse: collapse;\n",
       "  }\n",
       "  th, td {\n",
       "    padding: 5px;\n",
       "  }\n",
       "  th {\n",
       "    text-align: left;\n",
       "  }\n",
       "</style><div class='table-result-container'><table class='table-result'><thead style='background-color: white'><tr><th>player_name</th><th>team_name</th><th>total_goals</th><th>matches_scored</th><th>max_goals_in_a_game</th><th>hat_tricks</th><th>penalty_goals</th><th>own_goals</th></tr></thead><tbody><tr><td>Cristiano Ronaldo</td><td>Portugal</td><td>108</td><td>67</td><td>4</td><td>10</td><td>19</td><td>0</td></tr><tr><td>Robert Lewandowski</td><td>Poland</td><td>63</td><td>40</td><td>4</td><td>6</td><td>13</td><td>0</td></tr><tr><td>Romelu Lukaku</td><td>Belgium</td><td>60</td><td>37</td><td>4</td><td>3</td><td>6</td><td>0</td></tr><tr><td>Harry Kane</td><td>England</td><td>58</td><td>42</td><td>4</td><td>5</td><td>20</td><td>0</td></tr><tr><td>Lionel Messi</td><td>Argentina</td><td>55</td><td>44</td><td>3</td><td>3</td><td>14</td><td>0</td></tr><tr><td>Edin Džeko</td><td>Bosnia and Herzegovina</td><td>50</td><td>38</td><td>3</td><td>2</td><td>2</td><td>0</td></tr><tr><td>Ali Daei</td><td>Iran</td><td>49</td><td>34</td><td>4</td><td>3</td><td>8</td><td>0</td></tr><tr><td>Miroslav Klose</td><td>Germany</td><td>48</td><td>34</td><td>3</td><td>2</td><td>0</td><td>0</td></tr><tr><td>Luis Suárez</td><td>Uruguay</td><td>47</td><td>37</td><td>4</td><td>1</td><td>9</td><td>0</td></tr><tr><td>Aleksandar Mitrović</td><td>Serbia</td><td>47</td><td>32</td><td>3</td><td>2</td><td>2</td><td>0</td></tr><tr><td>Carlos Ruiz</td><td>Guatemala</td><td>47</td><td>30</td><td>5</td><td>3</td><td>4</td><td>0</td></tr><tr><td>Zlatan Ibrahimović</td><td>Sweden</td><td>44</td><td>32</td><td>4</td><td>2</td><td>5</td><td>0</td></tr><tr><td>Robbie Keane</td><td>Republic of Ireland</td><td>44</td><td>32</td><td>3</td><td>3</td><td>10</td><td>0</td></tr><tr><td>Clint Dempsey</td><td>United States</td><td>41</td><td>34</td><td>3</td><td>2</td><td>4</td><td>0</td></tr><tr><td>David Villa</td><td>Spain</td><td>41</td><td>29</td><td>3</td><td>2</td><td>4</td><td>0</td></tr><tr><td>Samuel Eto'o</td><td>Cameroon</td><td>40</td><td>33</td><td>3</td><td>1</td><td>7</td><td>0</td></tr><tr><td>Andriy Shevchenko</td><td>Ukraine</td><td>40</td><td>35</td><td>2</td><td>0</td><td>5</td><td>0</td></tr><tr><td>Hakan Şükür</td><td>Turkey</td><td>39</td><td>27</td><td>4</td><td>2</td><td>2</td><td>0</td></tr><tr><td>Gerd Müller</td><td>Germany</td><td>39</td><td>24</td><td>4</td><td>4</td><td>3</td><td>0</td></tr><tr><td>Ronaldo</td><td>Brazil</td><td>39</td><td>26</td><td>3</td><td>2</td><td>5</td><td>0</td></tr></tbody></table></div>"
      ]
     },
     "metadata": {
      "application/vnd.databricks.v1+output": {
       "addedWidgets": {},
       "aggData": [],
       "aggError": "",
       "aggOverflow": false,
       "aggSchema": [],
       "aggSeriesLimitReached": false,
       "aggType": "",
       "arguments": {},
       "columnCustomDisplayInfos": {},
       "data": [
        [
         "Cristiano Ronaldo",
         "Portugal",
         108,
         67,
         4,
         10,
         19,
         0
        ],
        [
         "Robert Lewandowski",
         "Poland",
         63,
         40,
         4,
         6,
         13,
         0
        ],
        [
         "Romelu Lukaku",
         "Belgium",
         60,
         37,
         4,
         3,
         6,
         0
        ],
        [
         "Harry Kane",
         "England",
         58,
         42,
         4,
         5,
         20,
         0
        ],
        [
         "Lionel Messi",
         "Argentina",
         55,
         44,
         3,
         3,
         14,
         0
        ],
        [
         "Edin Džeko",
         "Bosnia and Herzegovina",
         50,
         38,
         3,
         2,
         2,
         0
        ],
        [
         "Ali Daei",
         "Iran",
         49,
         34,
         4,
         3,
         8,
         0
        ],
        [
         "Miroslav Klose",
         "Germany",
         48,
         34,
         3,
         2,
         0,
         0
        ],
        [
         "Luis Suárez",
         "Uruguay",
         47,
         37,
         4,
         1,
         9,
         0
        ],
        [
         "Aleksandar Mitrović",
         "Serbia",
         47,
         32,
         3,
         2,
         2,
         0
        ],
        [
         "Carlos Ruiz",
         "Guatemala",
         47,
         30,
         5,
         3,
         4,
         0
        ],
        [
         "Zlatan Ibrahimović",
         "Sweden",
         44,
         32,
         4,
         2,
         5,
         0
        ],
        [
         "Robbie Keane",
         "Republic of Ireland",
         44,
         32,
         3,
         3,
         10,
         0
        ],
        [
         "Clint Dempsey",
         "United States",
         41,
         34,
         3,
         2,
         4,
         0
        ],
        [
         "David Villa",
         "Spain",
         41,
         29,
         3,
         2,
         4,
         0
        ],
        [
         "Samuel Eto'o",
         "Cameroon",
         40,
         33,
         3,
         1,
         7,
         0
        ],
        [
         "Andriy Shevchenko",
         "Ukraine",
         40,
         35,
         2,
         0,
         5,
         0
        ],
        [
         "Hakan Şükür",
         "Turkey",
         39,
         27,
         4,
         2,
         2,
         0
        ],
        [
         "Gerd Müller",
         "Germany",
         39,
         24,
         4,
         4,
         3,
         0
        ],
        [
         "Ronaldo",
         "Brazil",
         39,
         26,
         3,
         2,
         5,
         0
        ]
       ],
       "datasetInfos": [],
       "dbfsResultPath": null,
       "isJsonSchema": true,
       "metadata": {},
       "overflow": false,
       "plotOptions": {
        "customPlotOptions": {},
        "displayType": "table",
        "pivotAggregation": null,
        "pivotColumns": null,
        "xColumns": null,
        "yColumns": null
       },
       "removedWidgets": [],
       "schema": [
        {
         "metadata": "{\"comment\":\"Nome do jogador que marcou o gol. Domínio: texto livre (ex: \\\"Pelé\\\", \\\"Messi\\\"). Se ausente, recebe \\\"Unknown\\\".\"}",
         "name": "player_name",
         "type": "\"string\""
        },
        {
         "metadata": "{\"comment\":\"Nome da equipe que marcou o gol, padronizado conforme a tabela silver.former_names.\"}",
         "name": "team_name",
         "type": "\"string\""
        },
        {
         "metadata": "{}",
         "name": "total_goals",
         "type": "\"long\""
        },
        {
         "metadata": "{}",
         "name": "matches_scored",
         "type": "\"long\""
        },
        {
         "metadata": "{}",
         "name": "max_goals_in_a_game",
         "type": "\"long\""
        },
        {
         "metadata": "{}",
         "name": "hat_tricks",
         "type": "\"long\""
        },
        {
         "metadata": "{}",
         "name": "penalty_goals",
         "type": "\"long\""
        },
        {
         "metadata": "{}",
         "name": "own_goals",
         "type": "\"long\""
        }
       ],
       "type": "table"
      }
     },
     "output_type": "display_data"
    }
   ],
   "source": [
    "%sql\n",
    "SELECT *\n",
    "FROM gold.top_scorers\n",
    "ORDER BY total_goals DESC\n",
    "LIMIT 20"
   ]
  },
  {
   "cell_type": "markdown",
   "metadata": {
    "application/vnd.databricks.v1+cell": {
     "cellMetadata": {},
     "inputWidgets": {},
     "nuid": "943ca44c-9cdb-4dd8-902f-182908c8160a",
     "showTitle": false,
     "tableResultSettingsMap": {},
     "title": ""
    }
   },
   "source": [
    "Inserção de comentários descritivos."
   ]
  },
  {
   "cell_type": "code",
   "execution_count": 0,
   "metadata": {
    "application/vnd.databricks.v1+cell": {
     "cellMetadata": {
      "byteLimit": 2048000,
      "implicitDf": true,
      "rowLimit": 10000
     },
     "inputWidgets": {},
     "nuid": "e697cd0a-d7b4-4b4b-b512-ac8903fb011a",
     "showTitle": false,
     "tableResultSettingsMap": {},
     "title": ""
    }
   },
   "outputs": [
    {
     "output_type": "display_data",
     "data": {
      "text/html": [
       "<style scoped>\n",
       "  .table-result-container {\n",
       "    max-height: 300px;\n",
       "    overflow: auto;\n",
       "  }\n",
       "  table, th, td {\n",
       "    border: 1px solid black;\n",
       "    border-collapse: collapse;\n",
       "  }\n",
       "  th, td {\n",
       "    padding: 5px;\n",
       "  }\n",
       "  th {\n",
       "    text-align: left;\n",
       "  }\n",
       "</style><div class='table-result-container'><table class='table-result'><thead style='background-color: white'><tr></tr></thead><tbody></tbody></table></div>"
      ]
     },
     "metadata": {
      "application/vnd.databricks.v1+output": {
       "addedWidgets": {},
       "aggData": [],
       "aggError": "",
       "aggOverflow": false,
       "aggSchema": [],
       "aggSeriesLimitReached": false,
       "aggType": "",
       "arguments": {},
       "columnCustomDisplayInfos": {},
       "data": [],
       "datasetInfos": [],
       "dbfsResultPath": null,
       "isJsonSchema": true,
       "metadata": {},
       "overflow": false,
       "plotOptions": {
        "customPlotOptions": {},
        "displayType": "table",
        "pivotAggregation": null,
        "pivotColumns": null,
        "xColumns": null,
        "yColumns": null
       },
       "removedWidgets": [],
       "schema": [],
       "type": "table"
      }
     },
     "output_type": "display_data"
    }
   ],
   "source": [
    "%sql\n",
    "-- Comentário geral da tabela\n",
    "ALTER TABLE gold.top_scorers \n",
    "SET TBLPROPERTIES (\n",
    "  'comment' = 'Tabela com os principais artilheiros da história das seleções, baseada na contagem consolidada de gols por jogador a partir da tabela silver.goalscorers.'\n",
    ");\n",
    "\n",
    "-- Comentários das colunas\n",
    "\n",
    "ALTER TABLE gold.top_scorers CHANGE COLUMN player_name player_name STRING \n",
    "COMMENT 'Nome do jogador que marcou gols em partidas internacionais. Domínio: até 100 caracteres.';\n",
    "\n",
    "ALTER TABLE gold.top_scorers CHANGE COLUMN team_name team_name STRING \n",
    "COMMENT 'Nome da seleção pela qual o jogador marcou gols. Domínio: nomes padronizados de países presentes na tabela silver.goalscorers.';\n",
    "\n",
    "ALTER TABLE gold.top_scorers CHANGE COLUMN total_goals total_goals BIGINT \n",
    "COMMENT 'Quantidade total de gols marcados pelo jogador (excluindo gols contra). Domínio: inteiros positivos.';\n",
    "\n",
    "ALTER TABLE gold.top_scorers CHANGE COLUMN matches_scored matches_scored BIGINT \n",
    "COMMENT 'Número de partidas diferentes em que o jogador marcou pelo menos um gol. Domínio: inteiros positivos.';\n",
    "\n",
    "ALTER TABLE gold.top_scorers CHANGE COLUMN max_goals_in_a_game max_goals_in_a_game BIGINT \n",
    "COMMENT 'Maior número de gols marcados pelo jogador em uma única partida. Domínio: inteiros positivos.';\n",
    "\n",
    "ALTER TABLE gold.top_scorers CHANGE COLUMN hat_tricks hat_tricks BIGINT \n",
    "COMMENT 'Número de jogos em que o jogador marcou 3 ou mais gols (hat-tricks). Domínio: inteiros positivos.';\n",
    "\n",
    "ALTER TABLE gold.top_scorers CHANGE COLUMN penalty_goals penalty_goals BIGINT \n",
    "COMMENT 'Total de gols marcados de pênalti pelo jogador. Domínio: inteiros positivos.';\n",
    "\n",
    "ALTER TABLE gold.top_scorers CHANGE COLUMN own_goals own_goals BIGINT \n",
    "COMMENT 'Total de gols contra registrados pelo jogador, a favor da equipe adversária. Domínio: inteiros positivos.';\n"
   ]
  },
  {
   "cell_type": "code",
   "execution_count": 0,
   "metadata": {
    "application/vnd.databricks.v1+cell": {
     "cellMetadata": {
      "byteLimit": 2048000,
      "implicitDf": true,
      "rowLimit": 10000
     },
     "inputWidgets": {},
     "nuid": "4ee96ec0-e5f8-4583-bfcd-5e319b989477",
     "showTitle": false,
     "tableResultSettingsMap": {},
     "title": ""
    }
   },
   "outputs": [
    {
     "output_type": "display_data",
     "data": {
      "text/html": [
       "<style scoped>\n",
       "  .table-result-container {\n",
       "    max-height: 300px;\n",
       "    overflow: auto;\n",
       "  }\n",
       "  table, th, td {\n",
       "    border: 1px solid black;\n",
       "    border-collapse: collapse;\n",
       "  }\n",
       "  th, td {\n",
       "    padding: 5px;\n",
       "  }\n",
       "  th {\n",
       "    text-align: left;\n",
       "  }\n",
       "</style><div class='table-result-container'><table class='table-result'><thead style='background-color: white'><tr><th>col_name</th><th>data_type</th><th>comment</th></tr></thead><tbody><tr><td>player_name</td><td>string</td><td>Nome do jogador que marcou gols em partidas internacionais. Domínio: até 100 caracteres.</td></tr><tr><td>team_name</td><td>string</td><td>Nome da seleção pela qual o jogador marcou gols. Domínio: nomes padronizados de países presentes na tabela silver.goalscorers.</td></tr><tr><td>total_goals</td><td>bigint</td><td>Quantidade total de gols marcados pelo jogador (excluindo gols contra). Domínio: inteiros positivos.</td></tr><tr><td>matches_scored</td><td>bigint</td><td>Número de partidas diferentes em que o jogador marcou pelo menos um gol. Domínio: inteiros positivos.</td></tr><tr><td>max_goals_in_a_game</td><td>bigint</td><td>Maior número de gols marcados pelo jogador em uma única partida. Domínio: inteiros positivos.</td></tr><tr><td>hat_tricks</td><td>bigint</td><td>Número de jogos em que o jogador marcou 3 ou mais gols (hat-tricks). Domínio: inteiros positivos.</td></tr><tr><td>penalty_goals</td><td>bigint</td><td>Total de gols marcados de pênalti pelo jogador. Domínio: inteiros positivos.</td></tr><tr><td>own_goals</td><td>bigint</td><td>Total de gols contra registrados pelo jogador, a favor da equipe adversária. Domínio: inteiros positivos.</td></tr></tbody></table></div>"
      ]
     },
     "metadata": {
      "application/vnd.databricks.v1+output": {
       "addedWidgets": {},
       "aggData": [],
       "aggError": "",
       "aggOverflow": false,
       "aggSchema": [],
       "aggSeriesLimitReached": false,
       "aggType": "",
       "arguments": {},
       "columnCustomDisplayInfos": {},
       "data": [
        [
         "player_name",
         "string",
         "Nome do jogador que marcou gols em partidas internacionais. Domínio: até 100 caracteres."
        ],
        [
         "team_name",
         "string",
         "Nome da seleção pela qual o jogador marcou gols. Domínio: nomes padronizados de países presentes na tabela silver.goalscorers."
        ],
        [
         "total_goals",
         "bigint",
         "Quantidade total de gols marcados pelo jogador (excluindo gols contra). Domínio: inteiros positivos."
        ],
        [
         "matches_scored",
         "bigint",
         "Número de partidas diferentes em que o jogador marcou pelo menos um gol. Domínio: inteiros positivos."
        ],
        [
         "max_goals_in_a_game",
         "bigint",
         "Maior número de gols marcados pelo jogador em uma única partida. Domínio: inteiros positivos."
        ],
        [
         "hat_tricks",
         "bigint",
         "Número de jogos em que o jogador marcou 3 ou mais gols (hat-tricks). Domínio: inteiros positivos."
        ],
        [
         "penalty_goals",
         "bigint",
         "Total de gols marcados de pênalti pelo jogador. Domínio: inteiros positivos."
        ],
        [
         "own_goals",
         "bigint",
         "Total de gols contra registrados pelo jogador, a favor da equipe adversária. Domínio: inteiros positivos."
        ]
       ],
       "datasetInfos": [],
       "dbfsResultPath": null,
       "isJsonSchema": true,
       "metadata": {},
       "overflow": false,
       "plotOptions": {
        "customPlotOptions": {},
        "displayType": "table",
        "pivotAggregation": null,
        "pivotColumns": null,
        "xColumns": null,
        "yColumns": null
       },
       "removedWidgets": [],
       "schema": [
        {
         "metadata": "{\"comment\":\"name of the column\"}",
         "name": "col_name",
         "type": "\"string\""
        },
        {
         "metadata": "{\"comment\":\"data type of the column\"}",
         "name": "data_type",
         "type": "\"string\""
        },
        {
         "metadata": "{\"comment\":\"comment of the column\"}",
         "name": "comment",
         "type": "\"string\""
        }
       ],
       "type": "table"
      }
     },
     "output_type": "display_data"
    }
   ],
   "source": [
    "%sql\n",
    "DESCRIBE TABLE gold.top_scorers"
   ]
  },
  {
   "cell_type": "markdown",
   "metadata": {
    "application/vnd.databricks.v1+cell": {
     "cellMetadata": {},
     "inputWidgets": {},
     "nuid": "9cb8b3bc-767e-401a-9b87-0a4489194f8c",
     "showTitle": false,
     "tableResultSettingsMap": {},
     "title": ""
    }
   },
   "source": [
    "### 4.3.4 Tabela Dimensão: `gold.penalty_shootouts`\n",
    "\n",
    "A tabela `penalty_shootouts` traz informações detalhadas sobre disputas de pênaltis registradas na base de dados, focando nos aspectos decisivos desse tipo de confronto.\n",
    "\n",
    "**Principais atributos:**\n",
    "- `match_id`: Identificador da partida\n",
    "- `match_date`: Data do jogo\n",
    "- `home_team`: Seleção mandante\n",
    "- `away_team`: Seleção visitante\n",
    "- `penalty_winner`: Seleção vencedora da disputa\n",
    "- `penalty_loser`: Seleção perdedora da disputa\n",
    "- `first_penalty_shooter`: Seleção que iniciou a disputa de pênaltis\n",
    "\n",
    "Essa tabela possibilita análises específicas sobre o desempenho das seleções em decisões por pênaltis."
   ]
  },
  {
   "cell_type": "code",
   "execution_count": 0,
   "metadata": {
    "application/vnd.databricks.v1+cell": {
     "cellMetadata": {
      "byteLimit": 2048000,
      "implicitDf": true,
      "rowLimit": 10000
     },
     "inputWidgets": {},
     "nuid": "745e7c8d-da22-43bf-8f24-cbf47a6eb8aa",
     "showTitle": false,
     "tableResultSettingsMap": {},
     "title": ""
    }
   },
   "outputs": [
    {
     "output_type": "display_data",
     "data": {
      "text/html": [
       "<style scoped>\n",
       "  .table-result-container {\n",
       "    max-height: 300px;\n",
       "    overflow: auto;\n",
       "  }\n",
       "  table, th, td {\n",
       "    border: 1px solid black;\n",
       "    border-collapse: collapse;\n",
       "  }\n",
       "  th, td {\n",
       "    padding: 5px;\n",
       "  }\n",
       "  th {\n",
       "    text-align: left;\n",
       "  }\n",
       "</style><div class='table-result-container'><table class='table-result'><thead style='background-color: white'><tr><th>num_affected_rows</th><th>num_inserted_rows</th></tr></thead><tbody></tbody></table></div>"
      ]
     },
     "metadata": {
      "application/vnd.databricks.v1+output": {
       "addedWidgets": {},
       "aggData": [],
       "aggError": "",
       "aggOverflow": false,
       "aggSchema": [],
       "aggSeriesLimitReached": false,
       "aggType": "",
       "arguments": {},
       "columnCustomDisplayInfos": {},
       "data": [],
       "datasetInfos": [],
       "dbfsResultPath": null,
       "isJsonSchema": true,
       "metadata": {},
       "overflow": false,
       "plotOptions": {
        "customPlotOptions": {},
        "displayType": "table",
        "pivotAggregation": null,
        "pivotColumns": null,
        "xColumns": null,
        "yColumns": null
       },
       "removedWidgets": [],
       "schema": [
        {
         "metadata": "{}",
         "name": "num_affected_rows",
         "type": "\"long\""
        },
        {
         "metadata": "{}",
         "name": "num_inserted_rows",
         "type": "\"long\""
        }
       ],
       "type": "table"
      }
     },
     "output_type": "display_data"
    }
   ],
   "source": [
    "%sql\n",
    "CREATE OR REPLACE TABLE gold.penalty_shootouts AS\n",
    "SELECT\n",
    "    s.match_id,\n",
    "    s.match_date,\n",
    "    s.home_team,\n",
    "    s.away_team,\n",
    "    s.winner AS penalty_winner,\n",
    "    CASE \n",
    "        WHEN s.winner = s.home_team THEN s.away_team\n",
    "        ELSE s.home_team\n",
    "    END AS penalty_loser,\n",
    "    s.first_shooter AS first_penalty_shooter\n",
    "FROM silver.shootouts s;\n"
   ]
  },
  {
   "cell_type": "markdown",
   "metadata": {
    "application/vnd.databricks.v1+cell": {
     "cellMetadata": {},
     "inputWidgets": {},
     "nuid": "c4266c13-b0bc-4b1d-b4f5-99a485e8926f",
     "showTitle": false,
     "tableResultSettingsMap": {},
     "title": ""
    }
   },
   "source": [
    "Visualização da tabela."
   ]
  },
  {
   "cell_type": "code",
   "execution_count": 0,
   "metadata": {
    "application/vnd.databricks.v1+cell": {
     "cellMetadata": {
      "byteLimit": 2048000,
      "implicitDf": true,
      "rowLimit": 10000
     },
     "inputWidgets": {},
     "nuid": "ace2b14d-fe01-4f40-8418-8472c3418a3a",
     "showTitle": false,
     "tableResultSettingsMap": {},
     "title": ""
    }
   },
   "outputs": [
    {
     "output_type": "display_data",
     "data": {
      "text/html": [
       "<style scoped>\n",
       "  .table-result-container {\n",
       "    max-height: 300px;\n",
       "    overflow: auto;\n",
       "  }\n",
       "  table, th, td {\n",
       "    border: 1px solid black;\n",
       "    border-collapse: collapse;\n",
       "  }\n",
       "  th, td {\n",
       "    padding: 5px;\n",
       "  }\n",
       "  th {\n",
       "    text-align: left;\n",
       "  }\n",
       "</style><div class='table-result-container'><table class='table-result'><thead style='background-color: white'><tr><th>match_id</th><th>match_date</th><th>home_team</th><th>away_team</th><th>penalty_winner</th><th>penalty_loser</th><th>first_penalty_shooter</th></tr></thead><tbody><tr><td>1967-08-22_India_Taiwan_1_1</td><td>1967-08-22</td><td>India</td><td>Taiwan</td><td>Taiwan</td><td>India</td><td>Unknown</td></tr><tr><td>1971-11-14_South Korea_Vietnam Republic_1_1</td><td>1971-11-14</td><td>South Korea</td><td>Vietnam Republic</td><td>South Korea</td><td>Vietnam Republic</td><td>Unknown</td></tr><tr><td>1972-05-07_South Korea_Iraq_0_0</td><td>1972-05-07</td><td>South Korea</td><td>Iraq</td><td>Iraq</td><td>South Korea</td><td>Unknown</td></tr><tr><td>1972-05-17_Thailand_South Korea_1_1</td><td>1972-05-17</td><td>Thailand</td><td>South Korea</td><td>South Korea</td><td>Thailand</td><td>Unknown</td></tr><tr><td>1972-05-19_Thailand_Cambodia_2_2</td><td>1972-05-19</td><td>Thailand</td><td>Cambodia</td><td>Thailand</td><td>Cambodia</td><td>Unknown</td></tr><tr><td>1973-04-21_Senegal_Ghana_1_0</td><td>1973-04-21</td><td>Senegal</td><td>Ghana</td><td>Ghana</td><td>Senegal</td><td>Unknown</td></tr><tr><td>1973-06-14_Guinea_Mali_1_1</td><td>1973-06-14</td><td>Guinea</td><td>Mali</td><td>Guinea</td><td>Mali</td><td>Unknown</td></tr><tr><td>1973-06-14_Mauritius_Tanzania_1_1</td><td>1973-06-14</td><td>Mauritius</td><td>Tanzania</td><td>Mauritius</td><td>Tanzania</td><td>Unknown</td></tr><tr><td>1973-07-26_Cambodia_Singapore_1_1</td><td>1973-07-26</td><td>Cambodia</td><td>Singapore</td><td>Singapore</td><td>Cambodia</td><td>Unknown</td></tr><tr><td>1973-07-26_Malaysia_Kuwait_0_0</td><td>1973-07-26</td><td>Malaysia</td><td>Kuwait</td><td>Malaysia</td><td>Kuwait</td><td>Unknown</td></tr><tr><td>1973-07-27_Bangladesh_Thailand_2_2</td><td>1973-07-27</td><td>Bangladesh</td><td>Thailand</td><td>Thailand</td><td>Bangladesh</td><td>Unknown</td></tr><tr><td>1973-07-28_Myanmar_South Korea_0_0</td><td>1973-07-28</td><td>Myanmar</td><td>South Korea</td><td>Myanmar</td><td>South Korea</td><td>Unknown</td></tr><tr><td>1973-08-09_India_Vietnam Republic_1_1</td><td>1973-08-09</td><td>India</td><td>Vietnam Republic</td><td>Vietnam Republic</td><td>India</td><td>Unknown</td></tr><tr><td>1973-08-23_Algeria_Syria_0_0</td><td>1973-08-23</td><td>Algeria</td><td>Syria</td><td>Syria</td><td>Algeria</td><td>Unknown</td></tr><tr><td>1973-08-25_Algeria_Iraq_0_0</td><td>1973-08-25</td><td>Algeria</td><td>Iraq</td><td>Algeria</td><td>Iraq</td><td>Unknown</td></tr><tr><td>1973-09-06_Singapore_Vietnam Republic_1_1</td><td>1973-09-06</td><td>Singapore</td><td>Vietnam Republic</td><td>Vietnam Republic</td><td>Singapore</td><td>Unknown</td></tr><tr><td>1974-03-28_Qatar_United Arab Emirates_1_1</td><td>1974-03-28</td><td>Qatar</td><td>United Arab Emirates</td><td>Qatar</td><td>United Arab Emirates</td><td>Unknown</td></tr><tr><td>1974-07-24_Hong Kong_Indonesia_2_2</td><td>1974-07-24</td><td>Hong Kong</td><td>Indonesia</td><td>Indonesia</td><td>Hong Kong</td><td>Unknown</td></tr><tr><td>1974-08-01_India_Indonesia_0_0</td><td>1974-08-01</td><td>India</td><td>Indonesia</td><td>Indonesia</td><td>India</td><td>Unknown</td></tr><tr><td>1974-10-09_Syria_Morocco_1_1</td><td>1974-10-09</td><td>Syria</td><td>Morocco</td><td>Morocco</td><td>Syria</td><td>Unknown</td></tr></tbody></table></div>"
      ]
     },
     "metadata": {
      "application/vnd.databricks.v1+output": {
       "addedWidgets": {},
       "aggData": [],
       "aggError": "",
       "aggOverflow": false,
       "aggSchema": [],
       "aggSeriesLimitReached": false,
       "aggType": "",
       "arguments": {},
       "columnCustomDisplayInfos": {},
       "data": [
        [
         "1967-08-22_India_Taiwan_1_1",
         "1967-08-22",
         "India",
         "Taiwan",
         "Taiwan",
         "India",
         "Unknown"
        ],
        [
         "1971-11-14_South Korea_Vietnam Republic_1_1",
         "1971-11-14",
         "South Korea",
         "Vietnam Republic",
         "South Korea",
         "Vietnam Republic",
         "Unknown"
        ],
        [
         "1972-05-07_South Korea_Iraq_0_0",
         "1972-05-07",
         "South Korea",
         "Iraq",
         "Iraq",
         "South Korea",
         "Unknown"
        ],
        [
         "1972-05-17_Thailand_South Korea_1_1",
         "1972-05-17",
         "Thailand",
         "South Korea",
         "South Korea",
         "Thailand",
         "Unknown"
        ],
        [
         "1972-05-19_Thailand_Cambodia_2_2",
         "1972-05-19",
         "Thailand",
         "Cambodia",
         "Thailand",
         "Cambodia",
         "Unknown"
        ],
        [
         "1973-04-21_Senegal_Ghana_1_0",
         "1973-04-21",
         "Senegal",
         "Ghana",
         "Ghana",
         "Senegal",
         "Unknown"
        ],
        [
         "1973-06-14_Guinea_Mali_1_1",
         "1973-06-14",
         "Guinea",
         "Mali",
         "Guinea",
         "Mali",
         "Unknown"
        ],
        [
         "1973-06-14_Mauritius_Tanzania_1_1",
         "1973-06-14",
         "Mauritius",
         "Tanzania",
         "Mauritius",
         "Tanzania",
         "Unknown"
        ],
        [
         "1973-07-26_Cambodia_Singapore_1_1",
         "1973-07-26",
         "Cambodia",
         "Singapore",
         "Singapore",
         "Cambodia",
         "Unknown"
        ],
        [
         "1973-07-26_Malaysia_Kuwait_0_0",
         "1973-07-26",
         "Malaysia",
         "Kuwait",
         "Malaysia",
         "Kuwait",
         "Unknown"
        ],
        [
         "1973-07-27_Bangladesh_Thailand_2_2",
         "1973-07-27",
         "Bangladesh",
         "Thailand",
         "Thailand",
         "Bangladesh",
         "Unknown"
        ],
        [
         "1973-07-28_Myanmar_South Korea_0_0",
         "1973-07-28",
         "Myanmar",
         "South Korea",
         "Myanmar",
         "South Korea",
         "Unknown"
        ],
        [
         "1973-08-09_India_Vietnam Republic_1_1",
         "1973-08-09",
         "India",
         "Vietnam Republic",
         "Vietnam Republic",
         "India",
         "Unknown"
        ],
        [
         "1973-08-23_Algeria_Syria_0_0",
         "1973-08-23",
         "Algeria",
         "Syria",
         "Syria",
         "Algeria",
         "Unknown"
        ],
        [
         "1973-08-25_Algeria_Iraq_0_0",
         "1973-08-25",
         "Algeria",
         "Iraq",
         "Algeria",
         "Iraq",
         "Unknown"
        ],
        [
         "1973-09-06_Singapore_Vietnam Republic_1_1",
         "1973-09-06",
         "Singapore",
         "Vietnam Republic",
         "Vietnam Republic",
         "Singapore",
         "Unknown"
        ],
        [
         "1974-03-28_Qatar_United Arab Emirates_1_1",
         "1974-03-28",
         "Qatar",
         "United Arab Emirates",
         "Qatar",
         "United Arab Emirates",
         "Unknown"
        ],
        [
         "1974-07-24_Hong Kong_Indonesia_2_2",
         "1974-07-24",
         "Hong Kong",
         "Indonesia",
         "Indonesia",
         "Hong Kong",
         "Unknown"
        ],
        [
         "1974-08-01_India_Indonesia_0_0",
         "1974-08-01",
         "India",
         "Indonesia",
         "Indonesia",
         "India",
         "Unknown"
        ],
        [
         "1974-10-09_Syria_Morocco_1_1",
         "1974-10-09",
         "Syria",
         "Morocco",
         "Morocco",
         "Syria",
         "Unknown"
        ]
       ],
       "datasetInfos": [],
       "dbfsResultPath": null,
       "isJsonSchema": true,
       "metadata": {},
       "overflow": false,
       "plotOptions": {
        "customPlotOptions": {},
        "displayType": "table",
        "pivotAggregation": null,
        "pivotColumns": null,
        "xColumns": null,
        "yColumns": null
       },
       "removedWidgets": [],
       "schema": [
        {
         "metadata": "{\"comment\":\"Código único da partida, vinculado à tabela silver.results. Domínio: Até 100 caracteres.\"}",
         "name": "match_id",
         "type": "\"string\""
        },
        {
         "metadata": "{\"comment\":\"Data da partida no formato YYYY-MM-DD. Domínio: Datas entre 1872-11-30 e a data atual.\"}",
         "name": "match_date",
         "type": "\"date\""
        },
        {
         "metadata": "{\"comment\":\"Nome padronizado da equipe mandante. Domínio: Países conforme tabela silver.results.\"}",
         "name": "home_team",
         "type": "\"string\""
        },
        {
         "metadata": "{\"comment\":\"Nome padronizado da equipe visitante. Domínio: Países conforme tabela silver.results.\"}",
         "name": "away_team",
         "type": "\"string\""
        },
        {
         "metadata": "{\"comment\":\"Nome padronizado da equipe que venceu a disputa de pênaltis. Pode ser nulo em registros incompletos.\"}",
         "name": "penalty_winner",
         "type": "\"string\""
        },
        {
         "metadata": "{}",
         "name": "penalty_loser",
         "type": "\"string\""
        },
        {
         "metadata": "{\"comment\":\"Equipe que iniciou a disputa de pênaltis. Domínio: Nome da equipe ou \\\"Unknown\\\" caso não informado.\"}",
         "name": "first_penalty_shooter",
         "type": "\"string\""
        }
       ],
       "type": "table"
      }
     },
     "output_type": "display_data"
    }
   ],
   "source": [
    "%sql\n",
    "SELECT *\n",
    "FROM gold.penalty_shootouts\n",
    "LIMIT 20"
   ]
  },
  {
   "cell_type": "markdown",
   "metadata": {
    "application/vnd.databricks.v1+cell": {
     "cellMetadata": {},
     "inputWidgets": {},
     "nuid": "69cd8fe4-807c-40ca-8e09-3c297caaa00f",
     "showTitle": false,
     "tableResultSettingsMap": {},
     "title": ""
    }
   },
   "source": [
    "Inserção de comentários descritivos."
   ]
  },
  {
   "cell_type": "code",
   "execution_count": 0,
   "metadata": {
    "application/vnd.databricks.v1+cell": {
     "cellMetadata": {
      "byteLimit": 2048000,
      "implicitDf": true,
      "rowLimit": 10000
     },
     "inputWidgets": {},
     "nuid": "800aefc8-6a49-49e5-8676-8beda042321d",
     "showTitle": false,
     "tableResultSettingsMap": {},
     "title": ""
    }
   },
   "outputs": [
    {
     "output_type": "display_data",
     "data": {
      "text/html": [
       "<style scoped>\n",
       "  .table-result-container {\n",
       "    max-height: 300px;\n",
       "    overflow: auto;\n",
       "  }\n",
       "  table, th, td {\n",
       "    border: 1px solid black;\n",
       "    border-collapse: collapse;\n",
       "  }\n",
       "  th, td {\n",
       "    padding: 5px;\n",
       "  }\n",
       "  th {\n",
       "    text-align: left;\n",
       "  }\n",
       "</style><div class='table-result-container'><table class='table-result'><thead style='background-color: white'><tr></tr></thead><tbody></tbody></table></div>"
      ]
     },
     "metadata": {
      "application/vnd.databricks.v1+output": {
       "addedWidgets": {},
       "aggData": [],
       "aggError": "",
       "aggOverflow": false,
       "aggSchema": [],
       "aggSeriesLimitReached": false,
       "aggType": "",
       "arguments": {},
       "columnCustomDisplayInfos": {},
       "data": [],
       "datasetInfos": [],
       "dbfsResultPath": null,
       "isJsonSchema": true,
       "metadata": {},
       "overflow": false,
       "plotOptions": {
        "customPlotOptions": {},
        "displayType": "table",
        "pivotAggregation": null,
        "pivotColumns": null,
        "xColumns": null,
        "yColumns": null
       },
       "removedWidgets": [],
       "schema": [],
       "type": "table"
      }
     },
     "output_type": "display_data"
    }
   ],
   "source": [
    "%sql\n",
    "-- Comentário da tabela\n",
    "ALTER TABLE gold.penalty_shootouts \n",
    "SET TBLPROPERTIES (\n",
    "  'comment' = 'Tabela com informações de disputas de pênaltis em partidas internacionais, derivadas da camada Silver. Inclui detalhes sobre as seleções envolvidas, vencedores e ordem dos cobradores.'\n",
    ");\n",
    "\n",
    "-- Comentários das colunas (um comando por coluna)\n",
    "ALTER TABLE gold.penalty_shootouts CHANGE COLUMN match_id match_id STRING \n",
    "COMMENT 'Identificador único da partida, vinculado à tabela silver.shootouts. Domínio: Até 100 caracteres.';\n",
    "\n",
    "ALTER TABLE gold.penalty_shootouts CHANGE COLUMN match_date match_date DATE \n",
    "COMMENT 'Data da partida no formato YYYY-MM-DD. Domínio: Datas entre 1872-11-30 e a data atual.';\n",
    "\n",
    "ALTER TABLE gold.penalty_shootouts CHANGE COLUMN home_team home_team STRING \n",
    "COMMENT 'Nome padronizado da seleção mandante. Domínio: Países conforme tabela silver.shootouts.';\n",
    "\n",
    "ALTER TABLE gold.penalty_shootouts CHANGE COLUMN away_team away_team STRING \n",
    "COMMENT 'Nome padronizado da seleção visitante. Domínio: Países conforme tabela silver.shootouts.';\n",
    "\n",
    "ALTER TABLE gold.penalty_shootouts CHANGE COLUMN penalty_winner penalty_winner STRING \n",
    "COMMENT 'Seleção que venceu a disputa de pênaltis. Domínio: Nome de um dos times da partida ou nulo em registros incompletos.';\n",
    "\n",
    "ALTER TABLE gold.penalty_shootouts CHANGE COLUMN penalty_loser penalty_loser STRING \n",
    "COMMENT 'Seleção que perdeu a disputa de pênaltis. Domínio: Nome de um dos times da partida ou nulo em registros incompletos.';\n",
    "\n",
    "ALTER TABLE gold.penalty_shootouts CHANGE COLUMN first_penalty_shooter first_penalty_shooter STRING \n",
    "COMMENT 'Seleção que iniciou a disputa de pênaltis. Domínio: Nome de uma das seleções da partida ou \"Unknown\" se não disponível.';\n"
   ]
  },
  {
   "cell_type": "code",
   "execution_count": 0,
   "metadata": {
    "application/vnd.databricks.v1+cell": {
     "cellMetadata": {
      "byteLimit": 2048000,
      "implicitDf": true,
      "rowLimit": 10000
     },
     "inputWidgets": {},
     "nuid": "11e78cf3-1a17-4dde-b4ad-984601ded9c2",
     "showTitle": false,
     "tableResultSettingsMap": {},
     "title": ""
    }
   },
   "outputs": [
    {
     "output_type": "display_data",
     "data": {
      "text/html": [
       "<style scoped>\n",
       "  .table-result-container {\n",
       "    max-height: 300px;\n",
       "    overflow: auto;\n",
       "  }\n",
       "  table, th, td {\n",
       "    border: 1px solid black;\n",
       "    border-collapse: collapse;\n",
       "  }\n",
       "  th, td {\n",
       "    padding: 5px;\n",
       "  }\n",
       "  th {\n",
       "    text-align: left;\n",
       "  }\n",
       "</style><div class='table-result-container'><table class='table-result'><thead style='background-color: white'><tr><th>col_name</th><th>data_type</th><th>comment</th></tr></thead><tbody><tr><td>match_id</td><td>string</td><td>Identificador único da partida, vinculado à tabela silver.shootouts. Domínio: Até 100 caracteres.</td></tr><tr><td>match_date</td><td>date</td><td>Data da partida no formato YYYY-MM-DD. Domínio: Datas entre 1872-11-30 e a data atual.</td></tr><tr><td>home_team</td><td>string</td><td>Nome padronizado da seleção mandante. Domínio: Países conforme tabela silver.shootouts.</td></tr><tr><td>away_team</td><td>string</td><td>Nome padronizado da seleção visitante. Domínio: Países conforme tabela silver.shootouts.</td></tr><tr><td>penalty_winner</td><td>string</td><td>Seleção que venceu a disputa de pênaltis. Domínio: Nome de um dos times da partida ou nulo em registros incompletos.</td></tr><tr><td>penalty_loser</td><td>string</td><td>Seleção que perdeu a disputa de pênaltis. Domínio: Nome de um dos times da partida ou nulo em registros incompletos.</td></tr><tr><td>first_penalty_shooter</td><td>string</td><td>Seleção que iniciou a disputa de pênaltis. Domínio: Nome de uma das seleções da partida ou \"Unknown\" se não disponível.</td></tr></tbody></table></div>"
      ]
     },
     "metadata": {
      "application/vnd.databricks.v1+output": {
       "addedWidgets": {},
       "aggData": [],
       "aggError": "",
       "aggOverflow": false,
       "aggSchema": [],
       "aggSeriesLimitReached": false,
       "aggType": "",
       "arguments": {},
       "columnCustomDisplayInfos": {},
       "data": [
        [
         "match_id",
         "string",
         "Identificador único da partida, vinculado à tabela silver.shootouts. Domínio: Até 100 caracteres."
        ],
        [
         "match_date",
         "date",
         "Data da partida no formato YYYY-MM-DD. Domínio: Datas entre 1872-11-30 e a data atual."
        ],
        [
         "home_team",
         "string",
         "Nome padronizado da seleção mandante. Domínio: Países conforme tabela silver.shootouts."
        ],
        [
         "away_team",
         "string",
         "Nome padronizado da seleção visitante. Domínio: Países conforme tabela silver.shootouts."
        ],
        [
         "penalty_winner",
         "string",
         "Seleção que venceu a disputa de pênaltis. Domínio: Nome de um dos times da partida ou nulo em registros incompletos."
        ],
        [
         "penalty_loser",
         "string",
         "Seleção que perdeu a disputa de pênaltis. Domínio: Nome de um dos times da partida ou nulo em registros incompletos."
        ],
        [
         "first_penalty_shooter",
         "string",
         "Seleção que iniciou a disputa de pênaltis. Domínio: Nome de uma das seleções da partida ou \"Unknown\" se não disponível."
        ]
       ],
       "datasetInfos": [],
       "dbfsResultPath": null,
       "isJsonSchema": true,
       "metadata": {},
       "overflow": false,
       "plotOptions": {
        "customPlotOptions": {},
        "displayType": "table",
        "pivotAggregation": null,
        "pivotColumns": null,
        "xColumns": null,
        "yColumns": null
       },
       "removedWidgets": [],
       "schema": [
        {
         "metadata": "{\"comment\":\"name of the column\"}",
         "name": "col_name",
         "type": "\"string\""
        },
        {
         "metadata": "{\"comment\":\"data type of the column\"}",
         "name": "data_type",
         "type": "\"string\""
        },
        {
         "metadata": "{\"comment\":\"comment of the column\"}",
         "name": "comment",
         "type": "\"string\""
        }
       ],
       "type": "table"
      }
     },
     "output_type": "display_data"
    }
   ],
   "source": [
    "%sql\n",
    "DESCRIBE TABLE gold.penalty_shootouts\n"
   ]
  },
  {
   "cell_type": "markdown",
   "metadata": {
    "application/vnd.databricks.v1+cell": {
     "cellMetadata": {},
     "inputWidgets": {},
     "nuid": "2621fd48-6751-44b7-a99d-271f353bc9e9",
     "showTitle": false,
     "tableResultSettingsMap": {},
     "title": ""
    }
   },
   "source": [
    "\n",
    "### 4.4 Relacionamentos do Modelo\n",
    "\n",
    "A estrutura do modelo estrela garante que todas as tabelas se conectam de forma eficiente por meio da tabela fato `match_performance`.\n",
    "\n",
    "**Relacionamentos principais:**\n",
    "- `match_performance` com `team_stats`: via `home_team` e `away_team`\n",
    "- `match_performance` com `penalty_shootouts`: via `match_id`\n",
    "- `match_performance` com `top_scores`: via `match_id`\n",
    "\n",
    "A escolha do modelo estrela se baseia nos seguintes benefícios:\n",
    "- Facilita a execução de análises complexas e agregações por seleção, jogador e tipo de partida\n",
    "- Garante alta performance em consultas mesmo com grandes volumes de dados\n",
    "- Oferece flexibilidade para expansão futura do modelo com novas dimensões\n",
    "- Simplifica o entendimento e a manutenção da estrutura analítica\n"
   ]
  },
  {
   "cell_type": "markdown",
   "metadata": {
    "application/vnd.databricks.v1+cell": {
     "cellMetadata": {},
     "inputWidgets": {},
     "nuid": "05a6ffa7-97f4-4cf4-884c-fa5b6bb0951b",
     "showTitle": false,
     "tableResultSettingsMap": {},
     "title": ""
    }
   },
   "source": [
    "A seguir, o esquema relacional pode ser visualizado. Esse esquema foi desenhado utilizando a ferramenta Quick Data Base Diagrams (link: https://www.quickdatabasediagrams.com)."
   ]
  },
  {
   "cell_type": "code",
   "execution_count": 0,
   "metadata": {
    "application/vnd.databricks.v1+cell": {
     "cellMetadata": {
      "byteLimit": 2048000,
      "rowLimit": 10000
     },
     "inputWidgets": {},
     "nuid": "c1728013-1384-4451-99b5-c7d576172672",
     "showTitle": false,
     "tableResultSettingsMap": {},
     "title": ""
    }
   },
   "outputs": [
    {
     "output_type": "display_data",
     "data": {
      "text/html": [
       "<img src=\"https://raw.githubusercontent.com/MarcelLopes7/Engenharia-de-Dados/main/QuickDBD-Esquema%20Estrela%20Camada%20Gold.png\"/>"
      ]
     },
     "metadata": {
      "application/vnd.databricks.v1+output": {
       "addedWidgets": {},
       "arguments": {},
       "data": "<img src=\"https://raw.githubusercontent.com/MarcelLopes7/Engenharia-de-Dados/main/QuickDBD-Esquema%20Estrela%20Camada%20Gold.png\"/>",
       "datasetInfos": [],
       "metadata": {},
       "removedWidgets": [],
       "textData": null,
       "type": "htmlSandbox"
      }
     },
     "output_type": "display_data"
    }
   ],
   "source": [
    "from IPython.display import Image, display\n",
    "\n",
    "# URL da imagem em versão raw do GitHub\n",
    "image_url = \"https://raw.githubusercontent.com/MarcelLopes7/Engenharia-de-Dados/main/QuickDBD-Esquema%20Estrela%20Camada%20Gold.png\"\n",
    "\n",
    "# Exibe a imagem no notebook\n",
    "display(Image(url=image_url))"
   ]
  },
  {
   "cell_type": "markdown",
   "metadata": {
    "application/vnd.databricks.v1+cell": {
     "cellMetadata": {
      "byteLimit": 2048000,
      "rowLimit": 10000
     },
     "inputWidgets": {},
     "nuid": "afe2a53a-c17e-41dd-a388-aa81e9c0a450",
     "showTitle": false,
     "tableResultSettingsMap": {},
     "title": ""
    }
   },
   "source": [
    "A construção da camada gold consolidou e refinou os dados históricos do futebol em um esquema otimizado para análise. As tabelas foram projetadas para capturar estatísticas detalhadas das seleções, desempenho em partidas, artilheiros e disputas de pênaltis, garantindo consistência e eficiência na consulta dos dados. Além disso, a simplificação do modelo permitiu integrar estatísticas diretamente nas tabelas de desempenho, reduzindo redundâncias sem comprometer a granularidade da análise. Com essa estrutura, as perguntas analíticas poderão ser respondidas de forma mais direta, apoiando insights sobre a dominância e evolução das seleções ao longo do tempo.\n",
    "\n",
    "A resposta das perguntas com suas respectivas análises, além da conclusão do trabalho estão no notebook MVP - Engenharia de Dados - Análise e Solução do Problema que está contido no mesmo repositório desse notebook."
   ]
  }
 ],
 "metadata": {
  "application/vnd.databricks.v1+notebook": {
   "computePreferences": null,
   "dashboards": [],
   "environmentMetadata": {
    "base_environment": "",
    "environment_version": "1"
   },
   "inputWidgetPreferences": null,
   "language": "python",
   "notebookMetadata": {
    "mostRecentlyExecutedCommandWithImplicitDF": {
     "commandId": 1180248969072297,
     "dataframes": [
      "_sqldf"
     ]
    },
    "pythonIndentUnit": 4
   },
   "notebookName": "MVP - Engenharia de Dados",
   "widgets": {}
  }
 },
 "nbformat": 4,
 "nbformat_minor": 0
}