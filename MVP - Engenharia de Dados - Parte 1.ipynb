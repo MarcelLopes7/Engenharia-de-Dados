{
 "cells": [
  {
   "cell_type": "markdown",
   "metadata": {
    "application/vnd.databricks.v1+cell": {
     "cellMetadata": {
      "byteLimit": 2048000,
      "rowLimit": 10000
     },
     "inputWidgets": {},
     "nuid": "46409556-841c-4e62-a56c-a618acd85592",
     "showTitle": false,
     "tableResultSettingsMap": {},
     "title": ""
    }
   },
   "source": [
    "# MVP - Engenharia de Dados\n",
    "## Autor: Marcel Antonio Lopes Pereira"
   ]
  },
  {
   "cell_type": "markdown",
   "metadata": {
    "application/vnd.databricks.v1+cell": {
     "cellMetadata": {
      "byteLimit": 2048000,
      "rowLimit": 10000
     },
     "inputWidgets": {},
     "nuid": "641e2935-2ee2-496e-9e4b-0336812f8980",
     "showTitle": false,
     "tableResultSettingsMap": {},
     "title": ""
    }
   },
   "source": [
    "## Objetivo:\n",
    "\n",
    "Esse MVP consiste na construção de um pipeline de dados utilizando tecnologias na nuvem. O pipeline envolve a busca, coleta, modelagem, carga e análise dos dados para responder a perguntas relativas a solução de um problema.\n",
    "\n",
    "A questão principal motivadora para esse trabalho é: Existe alguma seleção nacional masculina dominante na história do futebol a ponto de ser considerada a melhor da História até os dias de hoje? \n",
    "\n",
    "Essa é uma pergunta que motiva muitas discussões entre torcedores por todo o mundo. O desempenho em Copas do Mundo pode ser um bom indicativo e isso pode ser verificado analisando os dados. Além disso, são levantadas nesse processo algumas outras questões cujas respostas podem auxiliar na busca pela resposta da pergunta inicial:\n",
    "- Qual seleção tem o maior número de vitórias em jogos oficiais e amistosos?\n",
    "- Qual seleção tem a melhor taxa de aproveitamento (pontos ganhos por jogo) em toda a história?\n",
    "- Qual seleção tem o maior saldo de gols (gols marcados - gols sofridos) em toda a história?\n",
    "- Qual seleção tem o maior número de títulos oficiais (Copas do Mundo, Copas Continentais, etc.)?\n",
    "- Qual seleção teve a maior sequência invicta em toda a história?\n",
    "- Qual seleção tem o maior número de gols marcados em toda a história?\n",
    "- Qual seleção tem a menor média de gols sofridos por jogo em toda a história?\n",
    "- Qual seleção tem o maior número de vitórias em jogos decisivos (finais, semifinais, etc.)? \n",
    "- Qual seleção tem o maior número de jogos sem sofrer gols em toda a história?\n",
    "- Qual seleção tem o maior número de vitórias contra outras grandes seleções (top 10 do ranking da FIFA)?\n",
    "- Qual seleção tem o melhor desempenho como mandante e como visitante?\n",
    "- Qual seleção tem o maior número de vitórias por diferença de gols (goleadas)?\n",
    "- Qual seleção tem o maior número de vitórias em jogos decididos nos acréscimos ou na prorrogação?\n",
    "- Qual seleção tem o maior número de vitórias em jogos contra a atual campeã mundial?\n",
    "- Qual seleção tem o maior número de vitórias em jogos como visitante contra seleções do top 10 do ranking da FIFA?\n",
    "\n",
    "O objetivo desse trabalho é realizar uma busca nos dados para tentar encontrar as respostas para todas essas perguntas. \n",
    "\n",
    "Este notebook é o responsável pela coleta dos dados e construção da camada bronze, com os dados brutos, conforme estruturados nos arquivos originais. As camadas silver e gold são construídas em outros notebooks associados a esse trabalho. Por fim, há um outro notebook onde a análise dos dados e as perguntas do problemas serão respondidas, bem como a conclusão do trabalho.\n",
    "\n",
    "\n"
   ]
  },
  {
   "cell_type": "markdown",
   "metadata": {
    "application/vnd.databricks.v1+cell": {
     "cellMetadata": {
      "byteLimit": 2048000,
      "rowLimit": 10000
     },
     "inputWidgets": {},
     "nuid": "e071bfed-f6de-47f7-b909-1042cb14aac4",
     "showTitle": false,
     "tableResultSettingsMap": {},
     "title": ""
    }
   },
   "source": [
    "## Busca dos dados:\n",
    "\n",
    "Na busca dos dados necessários para solução do problema, foi escolhida o Kaggle como fonte para obtenção dos mesmos. Nesse processo, foram escolhidos dois conjuntos de dados que são descritos a seguir.\n",
    "\n",
    "O primeiro conjunto é referente aos resultados de partidas entre seleções no período entre 1872 e 2024. Nesses dados não estão incluídos os resultados de partidas em Jogos Olímípicos, com seleções nacionais B, sub-23 e seleções com melhores jogadores de ligas. O link de acesso a esse conjunto de dados é o seguinte:\n",
    "https://www.kaggle.com/datasets/martj42/international-football-results-from-1872-to-2017\n",
    "\n",
    "Esses dados foram publicados pelo usuário Mart Jürisoo e são de domínio público (CC0: Public Domain). O conjunto possui 4 arquivos do tipo csv: results.csv (resultados das partidas); shootouts.csv (disputas de penalties); goalscorers.csv (marcadores de gols); former_names.csv (nomes anteriores das equipes).\n",
    "\n",
    "O segundo conjunto é referente ao Ranking da FIFA de seleções no período de 1992 a 2024. Estão listadas as posições dos times e suas mudanças ao longo do tempo dentro desse intervalo. O link de acesso a esse conjunto de dados é o seguinte:\n",
    "https://www.kaggle.com/datasets/cashncarry/fifaworldranking\n",
    "\n",
    "Esses dados forma publicados pelo usuário Alex e também são de domínio público (CC0: Public Domain). Apesar do conjunto possuir 3 arquivos do tipo csv, somente foi utilizado um deles nesse trabalho: fifa_ranking-2024-06-20.csv (Lista de Rankings até 20-06-24)."
   ]
  },
  {
   "cell_type": "markdown",
   "metadata": {
    "application/vnd.databricks.v1+cell": {
     "cellMetadata": {
      "byteLimit": 2048000,
      "rowLimit": 10000
     },
     "inputWidgets": {},
     "nuid": "1fb3ba4c-fc56-45b1-aea3-fb3d0cd132a4",
     "showTitle": false,
     "tableResultSettingsMap": {},
     "title": ""
    }
   },
   "source": [
    "## Coleta, modelagem e carga dos dados:"
   ]
  },
  {
   "cell_type": "markdown",
   "metadata": {
    "application/vnd.databricks.v1+cell": {
     "cellMetadata": {
      "byteLimit": 2048000,
      "rowLimit": 10000
     },
     "inputWidgets": {},
     "nuid": "f19d4176-3644-4698-a76b-aa230d1a9e81",
     "showTitle": false,
     "tableResultSettingsMap": {},
     "title": ""
    }
   },
   "source": [
    "Após identificar os dados necessários para o problema, é realiza a coleta e a carga dos mesmos para o ambiente de nuvem. Foi utilizado nesse processo o sistema de armazenamento do Datrabricks com utilização do framework Spark para carga dos dados.\n"
   ]
  },
  {
   "cell_type": "markdown",
   "metadata": {
    "application/vnd.databricks.v1+cell": {
     "cellMetadata": {
      "byteLimit": 2048000,
      "rowLimit": 10000
     },
     "inputWidgets": {},
     "nuid": "619db7aa-a7e3-4881-88d1-f9315b68536e",
     "showTitle": false,
     "tableResultSettingsMap": {},
     "title": ""
    }
   },
   "source": [
    "### Camada Bronze\n",
    "\n",
    "Na camada bronze, são importados os dados no seu formato bruto a partir dos arquivos csv de origem."
   ]
  },
  {
   "cell_type": "code",
   "execution_count": 0,
   "metadata": {
    "application/vnd.databricks.v1+cell": {
     "cellMetadata": {
      "byteLimit": 2048000,
      "implicitDf": true,
      "rowLimit": 10000
     },
     "inputWidgets": {},
     "nuid": "34bb7a0c-4313-4bcb-b01a-e0341f49a37b",
     "showTitle": false,
     "tableResultSettingsMap": {},
     "title": ""
    }
   },
   "outputs": [
    {
     "output_type": "display_data",
     "data": {
      "text/html": [
       "<style scoped>\n",
       "  .table-result-container {\n",
       "    max-height: 300px;\n",
       "    overflow: auto;\n",
       "  }\n",
       "  table, th, td {\n",
       "    border: 1px solid black;\n",
       "    border-collapse: collapse;\n",
       "  }\n",
       "  th, td {\n",
       "    padding: 5px;\n",
       "  }\n",
       "  th {\n",
       "    text-align: left;\n",
       "  }\n",
       "</style><div class='table-result-container'><table class='table-result'><thead style='background-color: white'><tr></tr></thead><tbody></tbody></table></div>"
      ]
     },
     "metadata": {
      "application/vnd.databricks.v1+output": {
       "addedWidgets": {},
       "aggData": [],
       "aggError": "",
       "aggOverflow": false,
       "aggSchema": [],
       "aggSeriesLimitReached": false,
       "aggType": "",
       "arguments": {},
       "columnCustomDisplayInfos": {},
       "data": [],
       "datasetInfos": [],
       "dbfsResultPath": null,
       "isJsonSchema": true,
       "metadata": {},
       "overflow": false,
       "plotOptions": {
        "customPlotOptions": {},
        "displayType": "table",
        "pivotAggregation": null,
        "pivotColumns": null,
        "xColumns": null,
        "yColumns": null
       },
       "removedWidgets": [],
       "schema": [],
       "type": "table"
      }
     },
     "output_type": "display_data"
    }
   ],
   "source": [
    "%sql DROP DATABASE bronze;"
   ]
  },
  {
   "cell_type": "code",
   "execution_count": 0,
   "metadata": {
    "application/vnd.databricks.v1+cell": {
     "cellMetadata": {
      "byteLimit": 2048000,
      "implicitDf": true,
      "rowLimit": 10000
     },
     "inputWidgets": {},
     "nuid": "6254a221-6a70-4ad6-9c79-24ee3e8f5ebc",
     "showTitle": false,
     "tableResultSettingsMap": {},
     "title": ""
    }
   },
   "outputs": [
    {
     "output_type": "display_data",
     "data": {
      "text/html": [
       "<style scoped>\n",
       "  .table-result-container {\n",
       "    max-height: 300px;\n",
       "    overflow: auto;\n",
       "  }\n",
       "  table, th, td {\n",
       "    border: 1px solid black;\n",
       "    border-collapse: collapse;\n",
       "  }\n",
       "  th, td {\n",
       "    padding: 5px;\n",
       "  }\n",
       "  th {\n",
       "    text-align: left;\n",
       "  }\n",
       "</style><div class='table-result-container'><table class='table-result'><thead style='background-color: white'><tr></tr></thead><tbody></tbody></table></div>"
      ]
     },
     "metadata": {
      "application/vnd.databricks.v1+output": {
       "addedWidgets": {},
       "aggData": [],
       "aggError": "",
       "aggOverflow": false,
       "aggSchema": [],
       "aggSeriesLimitReached": false,
       "aggType": "",
       "arguments": {},
       "columnCustomDisplayInfos": {},
       "data": [],
       "datasetInfos": [],
       "dbfsResultPath": null,
       "isJsonSchema": true,
       "metadata": {},
       "overflow": false,
       "plotOptions": {
        "customPlotOptions": {},
        "displayType": "table",
        "pivotAggregation": null,
        "pivotColumns": null,
        "xColumns": null,
        "yColumns": null
       },
       "removedWidgets": [],
       "schema": [],
       "type": "table"
      }
     },
     "output_type": "display_data"
    }
   ],
   "source": [
    "%sql CREATE DATABASE bronze;"
   ]
  },
  {
   "cell_type": "code",
   "execution_count": 0,
   "metadata": {
    "application/vnd.databricks.v1+cell": {
     "cellMetadata": {
      "byteLimit": 2048000,
      "rowLimit": 10000
     },
     "inputWidgets": {},
     "nuid": "729debc1-8481-4cd2-91c7-a27698005f8a",
     "showTitle": true,
     "tableResultSettingsMap": {},
     "title": "Carga dos dados de resultados das partidas"
    }
   },
   "outputs": [
    {
     "output_type": "stream",
     "name": "stdout",
     "output_type": "stream",
     "text": [
      "+----------+---------+---------+----------+----------+----------+-------+--------+-------+\n|      date|home_team|away_team|home_score|away_score|tournament|   city| country|neutral|\n+----------+---------+---------+----------+----------+----------+-------+--------+-------+\n|1872-11-30| Scotland|  England|         0|         0|  Friendly|Glasgow|Scotland|  false|\n|1873-03-08|  England| Scotland|         4|         2|  Friendly| London| England|  false|\n|1874-03-07| Scotland|  England|         2|         1|  Friendly|Glasgow|Scotland|  false|\n|1875-03-06|  England| Scotland|         2|         2|  Friendly| London| England|  false|\n|1876-03-04| Scotland|  England|         3|         0|  Friendly|Glasgow|Scotland|  false|\n|1876-03-25| Scotland|    Wales|         4|         0|  Friendly|Glasgow|Scotland|  false|\n|1877-03-03|  England| Scotland|         1|         3|  Friendly| London| England|  false|\n|1877-03-05|    Wales| Scotland|         0|         2|  Friendly|Wrexham|   Wales|  false|\n|1878-03-02| Scotland|  England|         7|         2|  Friendly|Glasgow|Scotland|  false|\n|1878-03-23| Scotland|    Wales|         9|         0|  Friendly|Glasgow|Scotland|  false|\n+----------+---------+---------+----------+----------+----------+-------+--------+-------+\nonly showing top 10 rows\n\n"
     ]
    }
   ],
   "source": [
    "# Carga da tabela de resultados das partidas\n",
    "file_location = \"/FileStore/tables/results.csv\"\n",
    "file_type = \"csv\"\n",
    "\n",
    "# Opções CSV\n",
    "infer_schema = \"true\"\n",
    "first_row_is_header = \"true\"\n",
    "delimiter = \",\"\n",
    "\n",
    "# Importando o CSV para o dataframe df_results.\n",
    "df_results = spark.read.format(file_type) \\\n",
    "  .option(\"inferSchema\", infer_schema) \\\n",
    "  .option(\"header\", first_row_is_header) \\\n",
    "  .option(\"sep\", delimiter) \\\n",
    "  .load(file_location)\n",
    "\n",
    "# Visualizando os dados carregados\n",
    "display(df_results.show(10))"
   ]
  },
  {
   "cell_type": "code",
   "execution_count": 0,
   "metadata": {
    "application/vnd.databricks.v1+cell": {
     "cellMetadata": {
      "byteLimit": 2048000,
      "rowLimit": 10000
     },
     "inputWidgets": {},
     "nuid": "8ca690db-5cfc-4e7b-a548-0d15f3d8a6d8",
     "showTitle": true,
     "tableResultSettingsMap": {},
     "title": "Tabela Results"
    }
   },
   "outputs": [],
   "source": [
    "# Salvar o DataFrame como uma tabela na camada bronze\n",
    "df_results.write.mode(\"overwrite\").saveAsTable(\"bronze.results\")"
   ]
  },
  {
   "cell_type": "markdown",
   "metadata": {
    "application/vnd.databricks.v1+cell": {
     "cellMetadata": {
      "byteLimit": 2048000,
      "rowLimit": 10000
     },
     "inputWidgets": {},
     "nuid": "8e7f27bd-8174-43cf-953b-a996b80bca49",
     "showTitle": false,
     "tableResultSettingsMap": {},
     "title": ""
    }
   },
   "source": [
    "A seguir, o mesmo procedimento é realizado para carregar respectivos arquivos csv das outras tabelas e salvamento das mesmas como tabela Delta na camada Bronze."
   ]
  },
  {
   "cell_type": "code",
   "execution_count": 0,
   "metadata": {
    "application/vnd.databricks.v1+cell": {
     "cellMetadata": {
      "byteLimit": 2048000,
      "rowLimit": 10000
     },
     "inputWidgets": {},
     "nuid": "7d66ec06-3b7a-4a1d-ab01-7ce14453e6ca",
     "showTitle": true,
     "tableResultSettingsMap": {},
     "title": "Tabela Shootouts (Disputas de pênaltis)"
    }
   },
   "outputs": [
    {
     "output_type": "stream",
     "name": "stdout",
     "output_type": "stream",
     "text": [
      "+----------+-----------+----------------+-----------+-------------+\n|      date|  home_team|       away_team|     winner|first_shooter|\n+----------+-----------+----------------+-----------+-------------+\n|1967-08-22|      India|          Taiwan|     Taiwan|         null|\n|1971-11-14|South Korea|Vietnam Republic|South Korea|         null|\n|1972-05-07|South Korea|            Iraq|       Iraq|         null|\n|1972-05-17|   Thailand|     South Korea|South Korea|         null|\n|1972-05-19|   Thailand|        Cambodia|   Thailand|         null|\n|1973-04-21|    Senegal|           Ghana|      Ghana|         null|\n|1973-06-14|     Guinea|            Mali|     Guinea|         null|\n|1973-06-14|  Mauritius|        Tanzania|  Mauritius|         null|\n|1973-07-26|   Malaysia|          Kuwait|   Malaysia|         null|\n|1973-07-26|   Cambodia|       Singapore|  Singapore|         null|\n+----------+-----------+----------------+-----------+-------------+\nonly showing top 10 rows\n\n"
     ]
    }
   ],
   "source": [
    "# Caminho do arquivo CSV\n",
    "file_location = \"/FileStore/tables/shootouts.csv\"\n",
    "file_type = \"csv\"\n",
    "\n",
    "# Opções CSV\n",
    "infer_schema = \"true\"\n",
    "first_row_is_header = \"true\"\n",
    "delimiter = \",\"\n",
    "\n",
    "# Carregando o CSV para o DataFrame df_shootouts\n",
    "df_shootouts = spark.read.format(file_type) \\\n",
    "  .option(\"inferSchema\", infer_schema) \\\n",
    "  .option(\"header\", first_row_is_header) \\\n",
    "  .option(\"sep\", delimiter) \\\n",
    "  .load(file_location)\n",
    "\n",
    "# Visualizando os dados carregados\n",
    "display(df_shootouts.show(10))\n",
    "\n",
    "# Salvando na camada bronze\n",
    "df_shootouts.write.mode(\"overwrite\").saveAsTable(\"bronze.shootouts\")"
   ]
  },
  {
   "cell_type": "code",
   "execution_count": 0,
   "metadata": {
    "application/vnd.databricks.v1+cell": {
     "cellMetadata": {
      "byteLimit": 2048000,
      "rowLimit": 10000
     },
     "inputWidgets": {},
     "nuid": "34c76f32-a4f8-4557-8472-a46a3e4b0410",
     "showTitle": true,
     "tableResultSettingsMap": {},
     "title": "Tabela Goalscorers (Marcadores dos gols)"
    }
   },
   "outputs": [
    {
     "output_type": "stream",
     "name": "stdout",
     "output_type": "stream",
     "text": [
      "+----------+---------+---------+---------+--------------------+------+--------+-------+\n|      date|home_team|away_team|     team|              scorer|minute|own_goal|penalty|\n+----------+---------+---------+---------+--------------------+------+--------+-------+\n|1916-07-02|    Chile|  Uruguay|  Uruguay|     José Piendibene|    44|   false|  false|\n|1916-07-02|    Chile|  Uruguay|  Uruguay|    Isabelino Gradín|    55|   false|  false|\n|1916-07-02|    Chile|  Uruguay|  Uruguay|    Isabelino Gradín|    70|   false|  false|\n|1916-07-02|    Chile|  Uruguay|  Uruguay|     José Piendibene|    75|   false|  false|\n|1916-07-06|Argentina|    Chile|Argentina|       Alberto Ohaco|     2|   false|  false|\n|1916-07-06|Argentina|    Chile|    Chile|      Telésforo Báez|    44|   false|  false|\n|1916-07-06|Argentina|    Chile|Argentina|  Juan Domingo Brown|    60|   false|   true|\n|1916-07-06|Argentina|    Chile|Argentina|  Juan Domingo Brown|    62|   false|   true|\n|1916-07-06|Argentina|    Chile|Argentina|Alberto Marcovecchio|    67|   false|  false|\n|1916-07-06|Argentina|    Chile|Argentina|       Alberto Ohaco|    75|   false|  false|\n+----------+---------+---------+---------+--------------------+------+--------+-------+\nonly showing top 10 rows\n\n"
     ]
    }
   ],
   "source": [
    "# Caminho do arquivo CSV\n",
    "file_location = \"/FileStore/tables/goalscorers.csv\"\n",
    "file_type = \"csv\"\n",
    "\n",
    "# Opções CSV\n",
    "infer_schema = \"true\"\n",
    "first_row_is_header = \"true\"\n",
    "delimiter = \",\"\n",
    "\n",
    "# Carregando o CSV para o DataFrame df_goalscorers\n",
    "df_goalscorers = spark.read.format(file_type) \\\n",
    "  .option(\"inferSchema\", infer_schema) \\\n",
    "  .option(\"header\", first_row_is_header) \\\n",
    "  .option(\"sep\", delimiter) \\\n",
    "  .load(file_location)\n",
    "\n",
    "# Visualizando os dados carregados\n",
    "display(df_goalscorers.show(10))\n",
    "\n",
    "# Salvando na camada bronze\n",
    "df_goalscorers.write.mode(\"overwrite\").saveAsTable(\"bronze.goalscorers\")"
   ]
  },
  {
   "cell_type": "code",
   "execution_count": 0,
   "metadata": {
    "application/vnd.databricks.v1+cell": {
     "cellMetadata": {
      "byteLimit": 2048000,
      "rowLimit": 10000
     },
     "inputWidgets": {},
     "nuid": "5f7aa9e3-258c-4cfb-b909-89bfc4340086",
     "showTitle": true,
     "tableResultSettingsMap": {},
     "title": "Tabela Former Names (Nomes anteriores dos times)"
    }
   },
   "outputs": [
    {
     "output_type": "stream",
     "name": "stdout",
     "output_type": "stream",
     "text": [
      "+--------------+--------------------+----------+----------+\n|       current|              former|start_date|  end_date|\n+--------------+--------------------+----------+----------+\n|         Benin|             Dahomey|1959-11-08|1975-11-30|\n|  Burkina Faso|         Upper Volta|1960-04-14|1984-08-04|\n|       Curaçao|Netherlands Antilles|1957-03-03|2010-10-10|\n|Czechoslovakia|             Bohemia|1903-04-05|1919-01-01|\n|Czechoslovakia| Bohemia and Moravia|1939-01-01|1940-01-01|\n|      DR Congo|       Belgian Congo|1948-05-25|1956-01-02|\n|      DR Congo|  Congo-Léopoldville|1963-04-12|1964-07-19|\n|      DR Congo|      Congo-Kinshasa|1965-01-09|1970-11-24|\n|      DR Congo|               Zaïre|1971-01-10|1997-04-27|\n|      Djibouti|   French Somaliland|1947-12-05|1977-06-27|\n+--------------+--------------------+----------+----------+\nonly showing top 10 rows\n\n"
     ]
    }
   ],
   "source": [
    "# Caminho do arquivo CSV\n",
    "file_location = \"/FileStore/tables/former_names.csv\"\n",
    "file_type = \"csv\"\n",
    "\n",
    "# Opções CSV\n",
    "infer_schema = \"true\"\n",
    "first_row_is_header = \"true\"\n",
    "delimiter = \",\"\n",
    "\n",
    "# Carregar o CSV para o DataFrame df_former_names\n",
    "df_former_names = spark.read.format(file_type) \\\n",
    "  .option(\"inferSchema\", infer_schema) \\\n",
    "  .option(\"header\", first_row_is_header) \\\n",
    "  .option(\"sep\", delimiter) \\\n",
    "  .load(file_location)\n",
    "\n",
    "# Visualizando os dados carregados\n",
    "display(df_former_names.show(10))\n",
    "\n",
    "# Salvando na camada bronze\n",
    "df_former_names.write.mode(\"overwrite\").saveAsTable(\"bronze.former_names\")"
   ]
  },
  {
   "cell_type": "code",
   "execution_count": 0,
   "metadata": {
    "application/vnd.databricks.v1+cell": {
     "cellMetadata": {
      "byteLimit": 2048000,
      "rowLimit": 10000
     },
     "inputWidgets": {},
     "nuid": "ed160fcf-7650-4d49-9247-59dfd91c107d",
     "showTitle": true,
     "tableResultSettingsMap": {},
     "title": "Tabela Ranking da Fifa"
    }
   },
   "outputs": [
    {
     "output_type": "stream",
     "name": "stdout",
     "output_type": "stream",
     "text": [
      "+-----+-----------------+------------+------------+---------------+-----------+-------------+----------+\n| rank|     country_full|country_abrv|total_points|previous_points|rank_change|confederation| rank_date|\n+-----+-----------------+------------+------------+---------------+-----------+-------------+----------+\n|140.0|Brunei Darussalam|         BRU|         2.0|            0.0|        140|          AFC|1992-12-31|\n| 33.0|         Portugal|         POR|        38.0|            0.0|         33|         UEFA|1992-12-31|\n| 32.0|           Zambia|         ZAM|        38.0|            0.0|         32|          CAF|1992-12-31|\n| 31.0|           Greece|         GRE|        38.0|            0.0|         31|         UEFA|1992-12-31|\n| 30.0|          Algeria|         ALG|        39.0|            0.0|         30|          CAF|1992-12-31|\n| 29.0|       Yugoslavia|         YUG|        39.0|            0.0|         29|         UEFA|1992-12-31|\n| 28.0|            Wales|         WAL|        40.0|            0.0|         28|         UEFA|1992-12-31|\n| 27.0|    Côte d'Ivoire|         CIV|        41.0|            0.0|         27|          CAF|1992-12-31|\n| 34.0|          Austria|         AUT|        38.0|            0.0|         34|         UEFA|1992-12-31|\n| 26.0|         Bulgaria|         BUL|        41.0|            0.0|         26|         UEFA|1992-12-31|\n+-----+-----------------+------------+------------+---------------+-----------+-------------+----------+\nonly showing top 10 rows\n\n"
     ]
    }
   ],
   "source": [
    "# Caminho do arquivo CSV\n",
    "file_location = \"/FileStore/tables/fifa_ranking_2024_06_20.csv\"\n",
    "file_type = \"csv\"\n",
    "\n",
    "# Opções CSV\n",
    "infer_schema = \"true\"\n",
    "first_row_is_header = \"true\"\n",
    "delimiter = \",\"\n",
    "\n",
    "# Carregar o CSV para o DataFrame df_fifa_ranking\n",
    "df_fifa_ranking = spark.read.format(file_type) \\\n",
    "  .option(\"inferSchema\", infer_schema) \\\n",
    "  .option(\"header\", first_row_is_header) \\\n",
    "  .option(\"sep\", delimiter) \\\n",
    "  .load(file_location)\n",
    "\n",
    "# Visualizando os dados carregados\n",
    "display(df_fifa_ranking.show(10))\n",
    "\n",
    "# Salvando na camada bronze\n",
    "df_fifa_ranking.write.mode(\"overwrite\").saveAsTable(\"bronze.fifa_ranking\")"
   ]
  },
  {
   "cell_type": "markdown",
   "metadata": {
    "application/vnd.databricks.v1+cell": {
     "cellMetadata": {
      "byteLimit": 2048000,
      "rowLimit": 10000
     },
     "inputWidgets": {},
     "nuid": "a287f7c2-424d-419d-bb3f-cc34f0bfefe9",
     "showTitle": false,
     "tableResultSettingsMap": {},
     "title": ""
    }
   },
   "source": [
    "Após a execução dos scripts acima, a camada bronze foi construída com as tabelas. Em seguida, são realizadas consultas SQL para verificar os dados. \n"
   ]
  },
  {
   "cell_type": "code",
   "execution_count": 0,
   "metadata": {
    "application/vnd.databricks.v1+cell": {
     "cellMetadata": {
      "byteLimit": 2048000,
      "implicitDf": true,
      "rowLimit": 10000
     },
     "inputWidgets": {},
     "nuid": "16d8d0fe-5632-4c2a-af51-509dbd1a750a",
     "showTitle": true,
     "tableResultSettingsMap": {},
     "title": "Consulta dos primeiros dados da Tabela Results"
    }
   },
   "outputs": [
    {
     "output_type": "display_data",
     "data": {
      "text/html": [
       "<style scoped>\n",
       "  .table-result-container {\n",
       "    max-height: 300px;\n",
       "    overflow: auto;\n",
       "  }\n",
       "  table, th, td {\n",
       "    border: 1px solid black;\n",
       "    border-collapse: collapse;\n",
       "  }\n",
       "  th, td {\n",
       "    padding: 5px;\n",
       "  }\n",
       "  th {\n",
       "    text-align: left;\n",
       "  }\n",
       "</style><div class='table-result-container'><table class='table-result'><thead style='background-color: white'><tr><th>date</th><th>home_team</th><th>away_team</th><th>home_score</th><th>away_score</th><th>tournament</th><th>city</th><th>country</th><th>neutral</th></tr></thead><tbody><tr><td>1872-11-30</td><td>Scotland</td><td>England</td><td>0</td><td>0</td><td>Friendly</td><td>Glasgow</td><td>Scotland</td><td>false</td></tr><tr><td>1873-03-08</td><td>England</td><td>Scotland</td><td>4</td><td>2</td><td>Friendly</td><td>London</td><td>England</td><td>false</td></tr><tr><td>1874-03-07</td><td>Scotland</td><td>England</td><td>2</td><td>1</td><td>Friendly</td><td>Glasgow</td><td>Scotland</td><td>false</td></tr><tr><td>1875-03-06</td><td>England</td><td>Scotland</td><td>2</td><td>2</td><td>Friendly</td><td>London</td><td>England</td><td>false</td></tr><tr><td>1876-03-04</td><td>Scotland</td><td>England</td><td>3</td><td>0</td><td>Friendly</td><td>Glasgow</td><td>Scotland</td><td>false</td></tr><tr><td>1876-03-25</td><td>Scotland</td><td>Wales</td><td>4</td><td>0</td><td>Friendly</td><td>Glasgow</td><td>Scotland</td><td>false</td></tr><tr><td>1877-03-03</td><td>England</td><td>Scotland</td><td>1</td><td>3</td><td>Friendly</td><td>London</td><td>England</td><td>false</td></tr><tr><td>1877-03-05</td><td>Wales</td><td>Scotland</td><td>0</td><td>2</td><td>Friendly</td><td>Wrexham</td><td>Wales</td><td>false</td></tr><tr><td>1878-03-02</td><td>Scotland</td><td>England</td><td>7</td><td>2</td><td>Friendly</td><td>Glasgow</td><td>Scotland</td><td>false</td></tr><tr><td>1878-03-23</td><td>Scotland</td><td>Wales</td><td>9</td><td>0</td><td>Friendly</td><td>Glasgow</td><td>Scotland</td><td>false</td></tr></tbody></table></div>"
      ]
     },
     "metadata": {
      "application/vnd.databricks.v1+output": {
       "addedWidgets": {},
       "aggData": [],
       "aggError": "",
       "aggOverflow": false,
       "aggSchema": [],
       "aggSeriesLimitReached": false,
       "aggType": "",
       "arguments": {},
       "columnCustomDisplayInfos": {},
       "data": [
        [
         "1872-11-30",
         "Scotland",
         "England",
         0,
         0,
         "Friendly",
         "Glasgow",
         "Scotland",
         false
        ],
        [
         "1873-03-08",
         "England",
         "Scotland",
         4,
         2,
         "Friendly",
         "London",
         "England",
         false
        ],
        [
         "1874-03-07",
         "Scotland",
         "England",
         2,
         1,
         "Friendly",
         "Glasgow",
         "Scotland",
         false
        ],
        [
         "1875-03-06",
         "England",
         "Scotland",
         2,
         2,
         "Friendly",
         "London",
         "England",
         false
        ],
        [
         "1876-03-04",
         "Scotland",
         "England",
         3,
         0,
         "Friendly",
         "Glasgow",
         "Scotland",
         false
        ],
        [
         "1876-03-25",
         "Scotland",
         "Wales",
         4,
         0,
         "Friendly",
         "Glasgow",
         "Scotland",
         false
        ],
        [
         "1877-03-03",
         "England",
         "Scotland",
         1,
         3,
         "Friendly",
         "London",
         "England",
         false
        ],
        [
         "1877-03-05",
         "Wales",
         "Scotland",
         0,
         2,
         "Friendly",
         "Wrexham",
         "Wales",
         false
        ],
        [
         "1878-03-02",
         "Scotland",
         "England",
         7,
         2,
         "Friendly",
         "Glasgow",
         "Scotland",
         false
        ],
        [
         "1878-03-23",
         "Scotland",
         "Wales",
         9,
         0,
         "Friendly",
         "Glasgow",
         "Scotland",
         false
        ]
       ],
       "datasetInfos": [],
       "dbfsResultPath": null,
       "isJsonSchema": true,
       "metadata": {},
       "overflow": false,
       "plotOptions": {
        "customPlotOptions": {},
        "displayType": "table",
        "pivotAggregation": null,
        "pivotColumns": null,
        "xColumns": null,
        "yColumns": null
       },
       "removedWidgets": [],
       "schema": [
        {
         "metadata": "{\"__detected_date_formats\":\"yyyy-M-d\"}",
         "name": "date",
         "type": "\"date\""
        },
        {
         "metadata": "{}",
         "name": "home_team",
         "type": "\"string\""
        },
        {
         "metadata": "{}",
         "name": "away_team",
         "type": "\"string\""
        },
        {
         "metadata": "{}",
         "name": "home_score",
         "type": "\"integer\""
        },
        {
         "metadata": "{}",
         "name": "away_score",
         "type": "\"integer\""
        },
        {
         "metadata": "{}",
         "name": "tournament",
         "type": "\"string\""
        },
        {
         "metadata": "{}",
         "name": "city",
         "type": "\"string\""
        },
        {
         "metadata": "{}",
         "name": "country",
         "type": "\"string\""
        },
        {
         "metadata": "{}",
         "name": "neutral",
         "type": "\"boolean\""
        }
       ],
       "type": "table"
      }
     },
     "output_type": "display_data"
    }
   ],
   "source": [
    "%sql SELECT * FROM bronze.results LIMIT 10"
   ]
  },
  {
   "cell_type": "code",
   "execution_count": 0,
   "metadata": {
    "application/vnd.databricks.v1+cell": {
     "cellMetadata": {
      "byteLimit": 2048000,
      "implicitDf": true,
      "rowLimit": 10000
     },
     "inputWidgets": {},
     "nuid": "48890dd5-c9d5-4b4e-825a-9addcb3fe0f3",
     "showTitle": true,
     "tableResultSettingsMap": {},
     "title": "Consulta dos primeiros dados da Tabela Shootouts"
    }
   },
   "outputs": [
    {
     "output_type": "display_data",
     "data": {
      "text/html": [
       "<style scoped>\n",
       "  .table-result-container {\n",
       "    max-height: 300px;\n",
       "    overflow: auto;\n",
       "  }\n",
       "  table, th, td {\n",
       "    border: 1px solid black;\n",
       "    border-collapse: collapse;\n",
       "  }\n",
       "  th, td {\n",
       "    padding: 5px;\n",
       "  }\n",
       "  th {\n",
       "    text-align: left;\n",
       "  }\n",
       "</style><div class='table-result-container'><table class='table-result'><thead style='background-color: white'><tr><th>date</th><th>home_team</th><th>away_team</th><th>winner</th><th>first_shooter</th></tr></thead><tbody><tr><td>1967-08-22</td><td>India</td><td>Taiwan</td><td>Taiwan</td><td>null</td></tr><tr><td>1971-11-14</td><td>South Korea</td><td>Vietnam Republic</td><td>South Korea</td><td>null</td></tr><tr><td>1972-05-07</td><td>South Korea</td><td>Iraq</td><td>Iraq</td><td>null</td></tr><tr><td>1972-05-17</td><td>Thailand</td><td>South Korea</td><td>South Korea</td><td>null</td></tr><tr><td>1972-05-19</td><td>Thailand</td><td>Cambodia</td><td>Thailand</td><td>null</td></tr><tr><td>1973-04-21</td><td>Senegal</td><td>Ghana</td><td>Ghana</td><td>null</td></tr><tr><td>1973-06-14</td><td>Guinea</td><td>Mali</td><td>Guinea</td><td>null</td></tr><tr><td>1973-06-14</td><td>Mauritius</td><td>Tanzania</td><td>Mauritius</td><td>null</td></tr><tr><td>1973-07-26</td><td>Malaysia</td><td>Kuwait</td><td>Malaysia</td><td>null</td></tr><tr><td>1973-07-26</td><td>Cambodia</td><td>Singapore</td><td>Singapore</td><td>null</td></tr></tbody></table></div>"
      ]
     },
     "metadata": {
      "application/vnd.databricks.v1+output": {
       "addedWidgets": {},
       "aggData": [],
       "aggError": "",
       "aggOverflow": false,
       "aggSchema": [],
       "aggSeriesLimitReached": false,
       "aggType": "",
       "arguments": {},
       "columnCustomDisplayInfos": {},
       "data": [
        [
         "1967-08-22",
         "India",
         "Taiwan",
         "Taiwan",
         null
        ],
        [
         "1971-11-14",
         "South Korea",
         "Vietnam Republic",
         "South Korea",
         null
        ],
        [
         "1972-05-07",
         "South Korea",
         "Iraq",
         "Iraq",
         null
        ],
        [
         "1972-05-17",
         "Thailand",
         "South Korea",
         "South Korea",
         null
        ],
        [
         "1972-05-19",
         "Thailand",
         "Cambodia",
         "Thailand",
         null
        ],
        [
         "1973-04-21",
         "Senegal",
         "Ghana",
         "Ghana",
         null
        ],
        [
         "1973-06-14",
         "Guinea",
         "Mali",
         "Guinea",
         null
        ],
        [
         "1973-06-14",
         "Mauritius",
         "Tanzania",
         "Mauritius",
         null
        ],
        [
         "1973-07-26",
         "Malaysia",
         "Kuwait",
         "Malaysia",
         null
        ],
        [
         "1973-07-26",
         "Cambodia",
         "Singapore",
         "Singapore",
         null
        ]
       ],
       "datasetInfos": [],
       "dbfsResultPath": null,
       "isJsonSchema": true,
       "metadata": {},
       "overflow": false,
       "plotOptions": {
        "customPlotOptions": {},
        "displayType": "table",
        "pivotAggregation": null,
        "pivotColumns": null,
        "xColumns": null,
        "yColumns": null
       },
       "removedWidgets": [],
       "schema": [
        {
         "metadata": "{\"__detected_date_formats\":\"yyyy-M-d\"}",
         "name": "date",
         "type": "\"date\""
        },
        {
         "metadata": "{}",
         "name": "home_team",
         "type": "\"string\""
        },
        {
         "metadata": "{}",
         "name": "away_team",
         "type": "\"string\""
        },
        {
         "metadata": "{}",
         "name": "winner",
         "type": "\"string\""
        },
        {
         "metadata": "{}",
         "name": "first_shooter",
         "type": "\"string\""
        }
       ],
       "type": "table"
      }
     },
     "output_type": "display_data"
    }
   ],
   "source": [
    "%sql SELECT * FROM bronze.shootouts LIMIT 10"
   ]
  },
  {
   "cell_type": "code",
   "execution_count": 0,
   "metadata": {
    "application/vnd.databricks.v1+cell": {
     "cellMetadata": {
      "byteLimit": 2048000,
      "implicitDf": true,
      "rowLimit": 10000
     },
     "inputWidgets": {},
     "nuid": "55e6c6bd-c9d4-438f-9be0-3dd7a70bd12a",
     "showTitle": true,
     "tableResultSettingsMap": {},
     "title": "Consulta dos primeiros dados da Tabela Goalscorers"
    }
   },
   "outputs": [
    {
     "output_type": "display_data",
     "data": {
      "text/html": [
       "<style scoped>\n",
       "  .table-result-container {\n",
       "    max-height: 300px;\n",
       "    overflow: auto;\n",
       "  }\n",
       "  table, th, td {\n",
       "    border: 1px solid black;\n",
       "    border-collapse: collapse;\n",
       "  }\n",
       "  th, td {\n",
       "    padding: 5px;\n",
       "  }\n",
       "  th {\n",
       "    text-align: left;\n",
       "  }\n",
       "</style><div class='table-result-container'><table class='table-result'><thead style='background-color: white'><tr><th>date</th><th>home_team</th><th>away_team</th><th>team</th><th>scorer</th><th>minute</th><th>own_goal</th><th>penalty</th></tr></thead><tbody><tr><td>1916-07-02</td><td>Chile</td><td>Uruguay</td><td>Uruguay</td><td>José Piendibene</td><td>44</td><td>false</td><td>false</td></tr><tr><td>1916-07-02</td><td>Chile</td><td>Uruguay</td><td>Uruguay</td><td>Isabelino Gradín</td><td>55</td><td>false</td><td>false</td></tr><tr><td>1916-07-02</td><td>Chile</td><td>Uruguay</td><td>Uruguay</td><td>Isabelino Gradín</td><td>70</td><td>false</td><td>false</td></tr><tr><td>1916-07-02</td><td>Chile</td><td>Uruguay</td><td>Uruguay</td><td>José Piendibene</td><td>75</td><td>false</td><td>false</td></tr><tr><td>1916-07-06</td><td>Argentina</td><td>Chile</td><td>Argentina</td><td>Alberto Ohaco</td><td>2</td><td>false</td><td>false</td></tr><tr><td>1916-07-06</td><td>Argentina</td><td>Chile</td><td>Chile</td><td>Telésforo Báez</td><td>44</td><td>false</td><td>false</td></tr><tr><td>1916-07-06</td><td>Argentina</td><td>Chile</td><td>Argentina</td><td>Juan Domingo Brown</td><td>60</td><td>false</td><td>true</td></tr><tr><td>1916-07-06</td><td>Argentina</td><td>Chile</td><td>Argentina</td><td>Juan Domingo Brown</td><td>62</td><td>false</td><td>true</td></tr><tr><td>1916-07-06</td><td>Argentina</td><td>Chile</td><td>Argentina</td><td>Alberto Marcovecchio</td><td>67</td><td>false</td><td>false</td></tr><tr><td>1916-07-06</td><td>Argentina</td><td>Chile</td><td>Argentina</td><td>Alberto Ohaco</td><td>75</td><td>false</td><td>false</td></tr></tbody></table></div>"
      ]
     },
     "metadata": {
      "application/vnd.databricks.v1+output": {
       "addedWidgets": {},
       "aggData": [],
       "aggError": "",
       "aggOverflow": false,
       "aggSchema": [],
       "aggSeriesLimitReached": false,
       "aggType": "",
       "arguments": {},
       "columnCustomDisplayInfos": {},
       "data": [
        [
         "1916-07-02",
         "Chile",
         "Uruguay",
         "Uruguay",
         "José Piendibene",
         "44",
         false,
         false
        ],
        [
         "1916-07-02",
         "Chile",
         "Uruguay",
         "Uruguay",
         "Isabelino Gradín",
         "55",
         false,
         false
        ],
        [
         "1916-07-02",
         "Chile",
         "Uruguay",
         "Uruguay",
         "Isabelino Gradín",
         "70",
         false,
         false
        ],
        [
         "1916-07-02",
         "Chile",
         "Uruguay",
         "Uruguay",
         "José Piendibene",
         "75",
         false,
         false
        ],
        [
         "1916-07-06",
         "Argentina",
         "Chile",
         "Argentina",
         "Alberto Ohaco",
         "2",
         false,
         false
        ],
        [
         "1916-07-06",
         "Argentina",
         "Chile",
         "Chile",
         "Telésforo Báez",
         "44",
         false,
         false
        ],
        [
         "1916-07-06",
         "Argentina",
         "Chile",
         "Argentina",
         "Juan Domingo Brown",
         "60",
         false,
         true
        ],
        [
         "1916-07-06",
         "Argentina",
         "Chile",
         "Argentina",
         "Juan Domingo Brown",
         "62",
         false,
         true
        ],
        [
         "1916-07-06",
         "Argentina",
         "Chile",
         "Argentina",
         "Alberto Marcovecchio",
         "67",
         false,
         false
        ],
        [
         "1916-07-06",
         "Argentina",
         "Chile",
         "Argentina",
         "Alberto Ohaco",
         "75",
         false,
         false
        ]
       ],
       "datasetInfos": [],
       "dbfsResultPath": null,
       "isJsonSchema": true,
       "metadata": {},
       "overflow": false,
       "plotOptions": {
        "customPlotOptions": {},
        "displayType": "table",
        "pivotAggregation": null,
        "pivotColumns": null,
        "xColumns": null,
        "yColumns": null
       },
       "removedWidgets": [],
       "schema": [
        {
         "metadata": "{\"__detected_date_formats\":\"yyyy-M-d\"}",
         "name": "date",
         "type": "\"date\""
        },
        {
         "metadata": "{}",
         "name": "home_team",
         "type": "\"string\""
        },
        {
         "metadata": "{}",
         "name": "away_team",
         "type": "\"string\""
        },
        {
         "metadata": "{}",
         "name": "team",
         "type": "\"string\""
        },
        {
         "metadata": "{}",
         "name": "scorer",
         "type": "\"string\""
        },
        {
         "metadata": "{}",
         "name": "minute",
         "type": "\"string\""
        },
        {
         "metadata": "{}",
         "name": "own_goal",
         "type": "\"boolean\""
        },
        {
         "metadata": "{}",
         "name": "penalty",
         "type": "\"boolean\""
        }
       ],
       "type": "table"
      }
     },
     "output_type": "display_data"
    }
   ],
   "source": [
    "%sql SELECT * FROM bronze.goalscorers LIMIT 10"
   ]
  },
  {
   "cell_type": "code",
   "execution_count": 0,
   "metadata": {
    "application/vnd.databricks.v1+cell": {
     "cellMetadata": {
      "byteLimit": 2048000,
      "implicitDf": true,
      "rowLimit": 10000
     },
     "inputWidgets": {},
     "nuid": "01e67245-cecc-494b-8640-527f539e291b",
     "showTitle": true,
     "tableResultSettingsMap": {},
     "title": "Consulta dos primeiros dados da Tabela Former Names"
    }
   },
   "outputs": [
    {
     "output_type": "display_data",
     "data": {
      "text/html": [
       "<style scoped>\n",
       "  .table-result-container {\n",
       "    max-height: 300px;\n",
       "    overflow: auto;\n",
       "  }\n",
       "  table, th, td {\n",
       "    border: 1px solid black;\n",
       "    border-collapse: collapse;\n",
       "  }\n",
       "  th, td {\n",
       "    padding: 5px;\n",
       "  }\n",
       "  th {\n",
       "    text-align: left;\n",
       "  }\n",
       "</style><div class='table-result-container'><table class='table-result'><thead style='background-color: white'><tr><th>current</th><th>former</th><th>start_date</th><th>end_date</th></tr></thead><tbody><tr><td>Benin</td><td>Dahomey</td><td>1959-11-08</td><td>1975-11-30</td></tr><tr><td>Burkina Faso</td><td>Upper Volta</td><td>1960-04-14</td><td>1984-08-04</td></tr><tr><td>Curaçao</td><td>Netherlands Antilles</td><td>1957-03-03</td><td>2010-10-10</td></tr><tr><td>Czechoslovakia</td><td>Bohemia</td><td>1903-04-05</td><td>1919-01-01</td></tr><tr><td>Czechoslovakia</td><td>Bohemia and Moravia</td><td>1939-01-01</td><td>1940-01-01</td></tr><tr><td>DR Congo</td><td>Belgian Congo</td><td>1948-05-25</td><td>1956-01-02</td></tr><tr><td>DR Congo</td><td>Congo-Léopoldville</td><td>1963-04-12</td><td>1964-07-19</td></tr><tr><td>DR Congo</td><td>Congo-Kinshasa</td><td>1965-01-09</td><td>1970-11-24</td></tr><tr><td>DR Congo</td><td>Zaïre</td><td>1971-01-10</td><td>1997-04-27</td></tr><tr><td>Djibouti</td><td>French Somaliland</td><td>1947-12-05</td><td>1977-06-27</td></tr></tbody></table></div>"
      ]
     },
     "metadata": {
      "application/vnd.databricks.v1+output": {
       "addedWidgets": {},
       "aggData": [],
       "aggError": "",
       "aggOverflow": false,
       "aggSchema": [],
       "aggSeriesLimitReached": false,
       "aggType": "",
       "arguments": {},
       "columnCustomDisplayInfos": {},
       "data": [
        [
         "Benin",
         "Dahomey",
         "1959-11-08",
         "1975-11-30"
        ],
        [
         "Burkina Faso",
         "Upper Volta",
         "1960-04-14",
         "1984-08-04"
        ],
        [
         "Curaçao",
         "Netherlands Antilles",
         "1957-03-03",
         "2010-10-10"
        ],
        [
         "Czechoslovakia",
         "Bohemia",
         "1903-04-05",
         "1919-01-01"
        ],
        [
         "Czechoslovakia",
         "Bohemia and Moravia",
         "1939-01-01",
         "1940-01-01"
        ],
        [
         "DR Congo",
         "Belgian Congo",
         "1948-05-25",
         "1956-01-02"
        ],
        [
         "DR Congo",
         "Congo-Léopoldville",
         "1963-04-12",
         "1964-07-19"
        ],
        [
         "DR Congo",
         "Congo-Kinshasa",
         "1965-01-09",
         "1970-11-24"
        ],
        [
         "DR Congo",
         "Zaïre",
         "1971-01-10",
         "1997-04-27"
        ],
        [
         "Djibouti",
         "French Somaliland",
         "1947-12-05",
         "1977-06-27"
        ]
       ],
       "datasetInfos": [],
       "dbfsResultPath": null,
       "isJsonSchema": true,
       "metadata": {},
       "overflow": false,
       "plotOptions": {
        "customPlotOptions": {},
        "displayType": "table",
        "pivotAggregation": null,
        "pivotColumns": null,
        "xColumns": null,
        "yColumns": null
       },
       "removedWidgets": [],
       "schema": [
        {
         "metadata": "{}",
         "name": "current",
         "type": "\"string\""
        },
        {
         "metadata": "{}",
         "name": "former",
         "type": "\"string\""
        },
        {
         "metadata": "{\"__detected_date_formats\":\"yyyy-M-d\"}",
         "name": "start_date",
         "type": "\"date\""
        },
        {
         "metadata": "{\"__detected_date_formats\":\"yyyy-M-d\"}",
         "name": "end_date",
         "type": "\"date\""
        }
       ],
       "type": "table"
      }
     },
     "output_type": "display_data"
    }
   ],
   "source": [
    "%sql SELECT * FROM bronze.former_names LIMIT 10"
   ]
  },
  {
   "cell_type": "code",
   "execution_count": 0,
   "metadata": {
    "application/vnd.databricks.v1+cell": {
     "cellMetadata": {
      "byteLimit": 2048000,
      "implicitDf": true,
      "rowLimit": 10000
     },
     "inputWidgets": {},
     "nuid": "48166c95-9ca1-4f84-825c-fbcc341058de",
     "showTitle": true,
     "tableResultSettingsMap": {},
     "title": "Consulta dos primeiros dados da Tabela Ranking FIFA"
    }
   },
   "outputs": [
    {
     "output_type": "display_data",
     "data": {
      "text/html": [
       "<style scoped>\n",
       "  .table-result-container {\n",
       "    max-height: 300px;\n",
       "    overflow: auto;\n",
       "  }\n",
       "  table, th, td {\n",
       "    border: 1px solid black;\n",
       "    border-collapse: collapse;\n",
       "  }\n",
       "  th, td {\n",
       "    padding: 5px;\n",
       "  }\n",
       "  th {\n",
       "    text-align: left;\n",
       "  }\n",
       "</style><div class='table-result-container'><table class='table-result'><thead style='background-color: white'><tr><th>rank</th><th>country_full</th><th>country_abrv</th><th>total_points</th><th>previous_points</th><th>rank_change</th><th>confederation</th><th>rank_date</th></tr></thead><tbody><tr><td>140.0</td><td>Brunei Darussalam</td><td>BRU</td><td>2.0</td><td>0.0</td><td>140</td><td>AFC</td><td>1992-12-31</td></tr><tr><td>33.0</td><td>Portugal</td><td>POR</td><td>38.0</td><td>0.0</td><td>33</td><td>UEFA</td><td>1992-12-31</td></tr><tr><td>32.0</td><td>Zambia</td><td>ZAM</td><td>38.0</td><td>0.0</td><td>32</td><td>CAF</td><td>1992-12-31</td></tr><tr><td>31.0</td><td>Greece</td><td>GRE</td><td>38.0</td><td>0.0</td><td>31</td><td>UEFA</td><td>1992-12-31</td></tr><tr><td>30.0</td><td>Algeria</td><td>ALG</td><td>39.0</td><td>0.0</td><td>30</td><td>CAF</td><td>1992-12-31</td></tr><tr><td>29.0</td><td>Yugoslavia</td><td>YUG</td><td>39.0</td><td>0.0</td><td>29</td><td>UEFA</td><td>1992-12-31</td></tr><tr><td>28.0</td><td>Wales</td><td>WAL</td><td>40.0</td><td>0.0</td><td>28</td><td>UEFA</td><td>1992-12-31</td></tr><tr><td>27.0</td><td>Côte d'Ivoire</td><td>CIV</td><td>41.0</td><td>0.0</td><td>27</td><td>CAF</td><td>1992-12-31</td></tr><tr><td>34.0</td><td>Austria</td><td>AUT</td><td>38.0</td><td>0.0</td><td>34</td><td>UEFA</td><td>1992-12-31</td></tr><tr><td>26.0</td><td>Bulgaria</td><td>BUL</td><td>41.0</td><td>0.0</td><td>26</td><td>UEFA</td><td>1992-12-31</td></tr></tbody></table></div>"
      ]
     },
     "metadata": {
      "application/vnd.databricks.v1+output": {
       "addedWidgets": {},
       "aggData": [],
       "aggError": "",
       "aggOverflow": false,
       "aggSchema": [],
       "aggSeriesLimitReached": false,
       "aggType": "",
       "arguments": {},
       "columnCustomDisplayInfos": {},
       "data": [
        [
         140.0,
         "Brunei Darussalam",
         "BRU",
         2.0,
         0.0,
         140,
         "AFC",
         "1992-12-31"
        ],
        [
         33.0,
         "Portugal",
         "POR",
         38.0,
         0.0,
         33,
         "UEFA",
         "1992-12-31"
        ],
        [
         32.0,
         "Zambia",
         "ZAM",
         38.0,
         0.0,
         32,
         "CAF",
         "1992-12-31"
        ],
        [
         31.0,
         "Greece",
         "GRE",
         38.0,
         0.0,
         31,
         "UEFA",
         "1992-12-31"
        ],
        [
         30.0,
         "Algeria",
         "ALG",
         39.0,
         0.0,
         30,
         "CAF",
         "1992-12-31"
        ],
        [
         29.0,
         "Yugoslavia",
         "YUG",
         39.0,
         0.0,
         29,
         "UEFA",
         "1992-12-31"
        ],
        [
         28.0,
         "Wales",
         "WAL",
         40.0,
         0.0,
         28,
         "UEFA",
         "1992-12-31"
        ],
        [
         27.0,
         "Côte d'Ivoire",
         "CIV",
         41.0,
         0.0,
         27,
         "CAF",
         "1992-12-31"
        ],
        [
         34.0,
         "Austria",
         "AUT",
         38.0,
         0.0,
         34,
         "UEFA",
         "1992-12-31"
        ],
        [
         26.0,
         "Bulgaria",
         "BUL",
         41.0,
         0.0,
         26,
         "UEFA",
         "1992-12-31"
        ]
       ],
       "datasetInfos": [],
       "dbfsResultPath": null,
       "isJsonSchema": true,
       "metadata": {},
       "overflow": false,
       "plotOptions": {
        "customPlotOptions": {},
        "displayType": "table",
        "pivotAggregation": null,
        "pivotColumns": null,
        "xColumns": null,
        "yColumns": null
       },
       "removedWidgets": [],
       "schema": [
        {
         "metadata": "{}",
         "name": "rank",
         "type": "\"double\""
        },
        {
         "metadata": "{}",
         "name": "country_full",
         "type": "\"string\""
        },
        {
         "metadata": "{}",
         "name": "country_abrv",
         "type": "\"string\""
        },
        {
         "metadata": "{}",
         "name": "total_points",
         "type": "\"double\""
        },
        {
         "metadata": "{}",
         "name": "previous_points",
         "type": "\"double\""
        },
        {
         "metadata": "{}",
         "name": "rank_change",
         "type": "\"integer\""
        },
        {
         "metadata": "{}",
         "name": "confederation",
         "type": "\"string\""
        },
        {
         "metadata": "{\"__detected_date_formats\":\"yyyy-M-d\"}",
         "name": "rank_date",
         "type": "\"date\""
        }
       ],
       "type": "table"
      }
     },
     "output_type": "display_data"
    }
   ],
   "source": [
    "%sql SELECT * FROM bronze.fifa_ranking LIMIT 10"
   ]
  },
  {
   "cell_type": "markdown",
   "metadata": {
    "application/vnd.databricks.v1+cell": {
     "cellMetadata": {
      "byteLimit": 2048000,
      "rowLimit": 10000
     },
     "inputWidgets": {},
     "nuid": "4a7e86e5-2013-4d96-b55b-8ebe8ed635d7",
     "showTitle": false,
     "tableResultSettingsMap": {},
     "title": ""
    }
   },
   "source": [
    "De modo a facilitar o entendimento dos dados no futuro e melhoria da gestão e qualidade dos dados, são incluídas as descrições de cada coluna nas tabelas da camada bronze."
   ]
  },
  {
   "cell_type": "code",
   "execution_count": 0,
   "metadata": {
    "application/vnd.databricks.v1+cell": {
     "cellMetadata": {
      "byteLimit": 2048000,
      "rowLimit": 10000
     },
     "inputWidgets": {},
     "nuid": "c67799f0-a68f-4010-b285-8315984b1a22",
     "showTitle": true,
     "tableResultSettingsMap": {},
     "title": "Tabela Results"
    }
   },
   "outputs": [
    {
     "output_type": "stream",
     "name": "stdout",
     "output_type": "stream",
     "text": [
      "+----------------------------+-------------------------------------------+---------------------------------------------------------------------+\n|col_name                    |data_type                                  |comment                                                              |\n+----------------------------+-------------------------------------------+---------------------------------------------------------------------+\n|date                        |date                                       |Data da partida                                                      |\n|home_team                   |string                                     |Nome do time da casa                                                 |\n|away_team                   |string                                     |Nome do time visitante                                               |\n|home_score                  |int                                        |Pontuação do time da casa (incluindo prorrogação, mas não pênaltis)  |\n|away_score                  |int                                        |Pontuação do time visitante (incluindo prorrogação, mas não pênaltis)|\n|tournament                  |string                                     |Nome do torneio ou competição                                        |\n|city                        |string                                     |Nome da cidade onde a partida foi realizada                          |\n|country                     |string                                     |Nome do país onde a partida foi realizada                            |\n|neutral                     |boolean                                    |Indica se a partida foi realizada em um local neutro (TRUE/FALSE)    |\n|                            |                                           |                                                                     |\n|# Detailed Table Information|                                           |                                                                     |\n|Catalog                     |spark_catalog                              |                                                                     |\n|Database                    |bronze                                     |                                                                     |\n|Table                       |results                                    |                                                                     |\n|Created Time                |Wed Mar 26 16:02:09 UTC 2025               |                                                                     |\n|Last Access                 |UNKNOWN                                    |                                                                     |\n|Created By                  |Spark 3.3.2                                |                                                                     |\n|Statistics                  |472998 bytes                               |                                                                     |\n|Type                        |MANAGED                                    |                                                                     |\n|Location                    |dbfs:/user/hive/warehouse/bronze.db/results|                                                                     |\n+----------------------------+-------------------------------------------+---------------------------------------------------------------------+\nonly showing top 20 rows\n\n"
     ]
    }
   ],
   "source": [
    "# Adicionar descrições às colunas da tabela bronze_results\n",
    "table_name = \"bronze.results\"\n",
    "\n",
    "spark.sql(f\"ALTER TABLE {table_name} CHANGE COLUMN `date` `date` DATE COMMENT 'Data da partida'\")\n",
    "spark.sql(f\"ALTER TABLE {table_name} CHANGE COLUMN `home_team` `home_team` STRING COMMENT 'Nome do time da casa'\")\n",
    "spark.sql(f\"ALTER TABLE {table_name} CHANGE COLUMN `away_team` `away_team` STRING COMMENT 'Nome do time visitante'\")\n",
    "spark.sql(f\"ALTER TABLE {table_name} CHANGE COLUMN `home_score` `home_score` INT COMMENT 'Pontuação do time da casa (incluindo prorrogação, mas não pênaltis)'\")\n",
    "spark.sql(f\"ALTER TABLE {table_name} CHANGE COLUMN `away_score` `away_score` INT COMMENT 'Pontuação do time visitante (incluindo prorrogação, mas não pênaltis)'\")\n",
    "spark.sql(f\"ALTER TABLE {table_name} CHANGE COLUMN `tournament` `tournament` STRING COMMENT 'Nome do torneio ou competição'\")\n",
    "spark.sql(f\"ALTER TABLE {table_name} CHANGE COLUMN `city` `city` STRING COMMENT 'Nome da cidade onde a partida foi realizada'\")\n",
    "spark.sql(f\"ALTER TABLE {table_name} CHANGE COLUMN `country` `country` STRING COMMENT 'Nome do país onde a partida foi realizada'\")\n",
    "spark.sql(f\"ALTER TABLE {table_name} CHANGE COLUMN `neutral` `neutral` BOOLEAN COMMENT 'Indica se a partida foi realizada em um local neutro (TRUE/FALSE)'\")\n",
    "\n",
    "# Verificar se os comentários foram adicionados\n",
    "desc_table = spark.sql(f\"DESCRIBE EXTENDED {table_name}\")\n",
    "desc_table.show(truncate=False)"
   ]
  },
  {
   "cell_type": "code",
   "execution_count": 0,
   "metadata": {
    "application/vnd.databricks.v1+cell": {
     "cellMetadata": {
      "byteLimit": 2048000,
      "rowLimit": 10000
     },
     "inputWidgets": {},
     "nuid": "748f05fd-9eed-41b9-a076-184a973177fd",
     "showTitle": true,
     "tableResultSettingsMap": {},
     "title": "Tabela Shootouts"
    }
   },
   "outputs": [
    {
     "output_type": "stream",
     "name": "stdout",
     "output_type": "stream",
     "text": [
      "+----------------------------+---------------------------------------------------+-----------------------------------------------+\n|col_name                    |data_type                                          |comment                                        |\n+----------------------------+---------------------------------------------------+-----------------------------------------------+\n|date                        |date                                               |Data da partida                                |\n|home_team                   |string                                             |Nome do time da casa                           |\n|away_team                   |string                                             |Nome do time visitante                         |\n|winner                      |string                                             |Vencedor da disputa de pênaltis                |\n|first_shooter               |string                                             |Time que chutou primeiro na disputa de pênaltis|\n|                            |                                                   |                                               |\n|# Detailed Table Information|                                                   |                                               |\n|Catalog                     |spark_catalog                                      |                                               |\n|Database                    |bronze                                             |                                               |\n|Table                       |shootouts                                          |                                               |\n|Created Time                |Wed Mar 26 16:02:18 UTC 2025                       |                                               |\n|Last Access                 |UNKNOWN                                            |                                               |\n|Created By                  |Spark 3.3.2                                        |                                               |\n|Statistics                  |13196 bytes                                        |                                               |\n|Type                        |MANAGED                                            |                                               |\n|Location                    |dbfs:/user/hive/warehouse/bronze.db/shootouts      |                                               |\n|Provider                    |delta                                              |                                               |\n|Owner                       |root                                               |                                               |\n|Is_managed_location         |true                                               |                                               |\n|Table Properties            |[delta.minReaderVersion=1,delta.minWriterVersion=2]|                                               |\n+----------------------------+---------------------------------------------------+-----------------------------------------------+\n\n"
     ]
    }
   ],
   "source": [
    "table_name = \"bronze.shootouts\"\n",
    "\n",
    "spark.sql(f\"ALTER TABLE {table_name} CHANGE COLUMN `date` `date` DATE COMMENT 'Data da partida'\")\n",
    "spark.sql(f\"ALTER TABLE {table_name} CHANGE COLUMN `home_team` `home_team` STRING COMMENT 'Nome do time da casa'\")\n",
    "spark.sql(f\"ALTER TABLE {table_name} CHANGE COLUMN `away_team` `away_team` STRING COMMENT 'Nome do time visitante'\")\n",
    "spark.sql(f\"ALTER TABLE {table_name} CHANGE COLUMN `winner` `winner` STRING COMMENT 'Vencedor da disputa de pênaltis'\")\n",
    "spark.sql(f\"ALTER TABLE {table_name} CHANGE COLUMN `first_shooter` `first_shooter` STRING COMMENT 'Time que chutou primeiro na disputa de pênaltis'\")\n",
    "\n",
    "# Verificar se os comentários foram adicionados\n",
    "desc_table = spark.sql(f\"DESCRIBE EXTENDED {table_name}\")\n",
    "desc_table.show(truncate=False)"
   ]
  },
  {
   "cell_type": "code",
   "execution_count": 0,
   "metadata": {
    "application/vnd.databricks.v1+cell": {
     "cellMetadata": {
      "byteLimit": 2048000,
      "rowLimit": 10000
     },
     "inputWidgets": {},
     "nuid": "52cf3930-ee56-4a27-8bd3-994443c82b82",
     "showTitle": true,
     "tableResultSettingsMap": {},
     "title": "Tabela Goalscorers"
    }
   },
   "outputs": [
    {
     "output_type": "stream",
     "name": "stdout",
     "output_type": "stream",
     "text": [
      "+----------------------------+-----------------------------------------------+-------------------------------------------+\n|col_name                    |data_type                                      |comment                                    |\n+----------------------------+-----------------------------------------------+-------------------------------------------+\n|date                        |date                                           |Data da partida                            |\n|home_team                   |string                                         |Nome do time da casa                       |\n|away_team                   |string                                         |Nome do time visitante                     |\n|team                        |string                                         |Nome do time que marcou o gol              |\n|scorer                      |string                                         |Nome do jogador que marcou o gol           |\n|minute                      |string                                         |null                                       |\n|own_goal                    |boolean                                        |Indica se o gol foi contra (TRUE/FALSE)    |\n|penalty                     |boolean                                        |Indica se o gol foi de pênalti (TRUE/FALSE)|\n|                            |                                               |                                           |\n|# Detailed Table Information|                                               |                                           |\n|Catalog                     |spark_catalog                                  |                                           |\n|Database                    |bronze                                         |                                           |\n|Table                       |goalscorers                                    |                                           |\n|Created Time                |Wed Mar 26 16:02:30 UTC 2025                   |                                           |\n|Last Access                 |UNKNOWN                                        |                                           |\n|Created By                  |Spark 3.3.2                                    |                                           |\n|Statistics                  |482335 bytes                                   |                                           |\n|Type                        |MANAGED                                        |                                           |\n|Location                    |dbfs:/user/hive/warehouse/bronze.db/goalscorers|                                           |\n|Provider                    |delta                                          |                                           |\n+----------------------------+-----------------------------------------------+-------------------------------------------+\nonly showing top 20 rows\n\n"
     ]
    }
   ],
   "source": [
    "table_name = \"bronze.goalscorers\"\n",
    "\n",
    "spark.sql(f\"ALTER TABLE {table_name} CHANGE COLUMN `date` `date` DATE COMMENT 'Data da partida'\")\n",
    "spark.sql(f\"ALTER TABLE {table_name} CHANGE COLUMN `home_team` `home_team` STRING COMMENT 'Nome do time da casa'\")\n",
    "spark.sql(f\"ALTER TABLE {table_name} CHANGE COLUMN `away_team` `away_team` STRING COMMENT 'Nome do time visitante'\")\n",
    "spark.sql(f\"ALTER TABLE {table_name} CHANGE COLUMN `team` `team` STRING COMMENT 'Nome do time que marcou o gol'\")\n",
    "spark.sql(f\"ALTER TABLE {table_name} CHANGE COLUMN `scorer` `scorer` STRING COMMENT 'Nome do jogador que marcou o gol'\")\n",
    "spark.sql(f\"ALTER TABLE {table_name} CHANGE COLUMN `own_goal` `own_goal` BOOLEAN COMMENT 'Indica se o gol foi contra (TRUE/FALSE)'\")\n",
    "spark.sql(f\"ALTER TABLE {table_name} CHANGE COLUMN `penalty` `penalty` BOOLEAN COMMENT 'Indica se o gol foi de pênalti (TRUE/FALSE)'\")\n",
    "\n",
    "# Verificar se os comentários foram adicionados\n",
    "desc_table = spark.sql(f\"DESCRIBE EXTENDED {table_name}\")\n",
    "desc_table.show(truncate=False)"
   ]
  },
  {
   "cell_type": "code",
   "execution_count": 0,
   "metadata": {
    "application/vnd.databricks.v1+cell": {
     "cellMetadata": {
      "byteLimit": 2048000,
      "rowLimit": 10000
     },
     "inputWidgets": {},
     "nuid": "0f2feaeb-b8a7-4ef7-9d65-68a45edba459",
     "showTitle": true,
     "tableResultSettingsMap": {},
     "title": "Tabela Former Names"
    }
   },
   "outputs": [
    {
     "output_type": "stream",
     "name": "stdout",
     "output_type": "stream",
     "text": [
      "+----------------------------+---------------------------------------------------+-------------------------------------+\n|col_name                    |data_type                                          |comment                              |\n+----------------------------+---------------------------------------------------+-------------------------------------+\n|current                     |string                                             |Nome atual do time                   |\n|former                      |string                                             |Nome antigo do time                  |\n|start_date                  |date                                               |Data de início do uso do nome antigo |\n|end_date                    |date                                               |Data de término do uso do nome antigo|\n|                            |                                                   |                                     |\n|# Detailed Table Information|                                                   |                                     |\n|Catalog                     |spark_catalog                                      |                                     |\n|Database                    |bronze                                             |                                     |\n|Table                       |former_names                                       |                                     |\n|Created Time                |Wed Mar 26 16:02:38 UTC 2025                       |                                     |\n|Last Access                 |UNKNOWN                                            |                                     |\n|Created By                  |Spark 3.3.2                                        |                                     |\n|Statistics                  |2406 bytes                                         |                                     |\n|Type                        |MANAGED                                            |                                     |\n|Location                    |dbfs:/user/hive/warehouse/bronze.db/former_names   |                                     |\n|Provider                    |delta                                              |                                     |\n|Owner                       |root                                               |                                     |\n|Is_managed_location         |true                                               |                                     |\n|Table Properties            |[delta.minReaderVersion=1,delta.minWriterVersion=2]|                                     |\n+----------------------------+---------------------------------------------------+-------------------------------------+\n\n"
     ]
    }
   ],
   "source": [
    "table_name = \"bronze.former_names\"\n",
    "\n",
    "spark.sql(f\"ALTER TABLE {table_name} CHANGE COLUMN `current` `current` STRING COMMENT 'Nome atual do time'\")\n",
    "spark.sql(f\"ALTER TABLE {table_name} CHANGE COLUMN `former` `former` STRING COMMENT 'Nome antigo do time'\")\n",
    "spark.sql(f\"ALTER TABLE {table_name} CHANGE COLUMN `start_date` `start_date` DATE COMMENT 'Data de início do uso do nome antigo'\")\n",
    "spark.sql(f\"ALTER TABLE {table_name} CHANGE COLUMN `end_date` `end_date` DATE COMMENT 'Data de término do uso do nome antigo'\")\n",
    "\n",
    "# Verificar se os comentários foram adicionados\n",
    "desc_table = spark.sql(f\"DESCRIBE EXTENDED {table_name}\")\n",
    "desc_table.show(truncate=False)"
   ]
  },
  {
   "cell_type": "code",
   "execution_count": 0,
   "metadata": {
    "application/vnd.databricks.v1+cell": {
     "cellMetadata": {
      "byteLimit": 2048000,
      "rowLimit": 10000
     },
     "inputWidgets": {},
     "nuid": "26e2617e-f74f-4888-ab50-96412a2387f5",
     "showTitle": true,
     "tableResultSettingsMap": {},
     "title": "Tabela FIFA Ranking"
    }
   },
   "outputs": [
    {
     "output_type": "display_data",
     "data": {
      "text/plain": [
       "\u001B[0;31m---------------------------------------------------------------------------\u001B[0m\n",
       "\u001B[0;31mAnalysisException\u001B[0m                         Traceback (most recent call last)\n",
       "File \u001B[0;32m<command-3290182131485722>:8\u001B[0m\n",
       "\u001B[1;32m      6\u001B[0m spark\u001B[38;5;241m.\u001B[39msql(\u001B[38;5;124mf\u001B[39m\u001B[38;5;124m\"\u001B[39m\u001B[38;5;124mALTER TABLE \u001B[39m\u001B[38;5;132;01m{\u001B[39;00mtable_name\u001B[38;5;132;01m}\u001B[39;00m\u001B[38;5;124m CHANGE COLUMN `total_points` `total_points` DOUBLE COMMENT \u001B[39m\u001B[38;5;124m'\u001B[39m\u001B[38;5;124mPontuação total no ranking FIFA\u001B[39m\u001B[38;5;124m'\u001B[39m\u001B[38;5;124m\"\u001B[39m)\n",
       "\u001B[1;32m      7\u001B[0m spark\u001B[38;5;241m.\u001B[39msql(\u001B[38;5;124mf\u001B[39m\u001B[38;5;124m\"\u001B[39m\u001B[38;5;124mALTER TABLE \u001B[39m\u001B[38;5;132;01m{\u001B[39;00mtable_name\u001B[38;5;132;01m}\u001B[39;00m\u001B[38;5;124m CHANGE COLUMN `previous_points` `previous_points` DOUBLE COMMENT \u001B[39m\u001B[38;5;124m'\u001B[39m\u001B[38;5;124mPontuação anterior no ranking FIFA\u001B[39m\u001B[38;5;124m'\u001B[39m\u001B[38;5;124m\"\u001B[39m)\n",
       "\u001B[0;32m----> 8\u001B[0m spark\u001B[38;5;241m.\u001B[39msql(\u001B[38;5;124mf\u001B[39m\u001B[38;5;124m\"\u001B[39m\u001B[38;5;124mALTER TABLE \u001B[39m\u001B[38;5;132;01m{\u001B[39;00mtable_name\u001B[38;5;132;01m}\u001B[39;00m\u001B[38;5;124m CHANGE COLUMN `rank_change` `rank_change` INT COMMENT \u001B[39m\u001B[38;5;124m'\u001B[39m\u001B[38;5;124mMudança na posição do ranking desde a última publicação\u001B[39m\u001B[38;5;124m'\u001B[39m\u001B[38;5;124m\"\u001B[39m)\n",
       "\u001B[1;32m      9\u001B[0m spark\u001B[38;5;241m.\u001B[39msql(\u001B[38;5;124mf\u001B[39m\u001B[38;5;124m\"\u001B[39m\u001B[38;5;124mALTER TABLE \u001B[39m\u001B[38;5;132;01m{\u001B[39;00mtable_name\u001B[38;5;132;01m}\u001B[39;00m\u001B[38;5;124m CHANGE COLUMN `confederation` `confederation` STRING COMMENT \u001B[39m\u001B[38;5;124m'\u001B[39m\u001B[38;5;124mConfederação FIFA do país\u001B[39m\u001B[38;5;124m'\u001B[39m\u001B[38;5;124m\"\u001B[39m)\n",
       "\u001B[1;32m     10\u001B[0m spark\u001B[38;5;241m.\u001B[39msql(\u001B[38;5;124mf\u001B[39m\u001B[38;5;124m\"\u001B[39m\u001B[38;5;124mALTER TABLE \u001B[39m\u001B[38;5;132;01m{\u001B[39;00mtable_name\u001B[38;5;132;01m}\u001B[39;00m\u001B[38;5;124m CHANGE COLUMN `rank_date` `rank_date` DATE COMMENT \u001B[39m\u001B[38;5;124m'\u001B[39m\u001B[38;5;124mData do cálculo do ranking\u001B[39m\u001B[38;5;124m'\u001B[39m\u001B[38;5;124m\"\u001B[39m)\n",
       "\n",
       "File \u001B[0;32m/databricks/spark/python/pyspark/instrumentation_utils.py:48\u001B[0m, in \u001B[0;36m_wrap_function.<locals>.wrapper\u001B[0;34m(*args, **kwargs)\u001B[0m\n",
       "\u001B[1;32m     46\u001B[0m start \u001B[38;5;241m=\u001B[39m time\u001B[38;5;241m.\u001B[39mperf_counter()\n",
       "\u001B[1;32m     47\u001B[0m \u001B[38;5;28;01mtry\u001B[39;00m:\n",
       "\u001B[0;32m---> 48\u001B[0m     res \u001B[38;5;241m=\u001B[39m \u001B[43mfunc\u001B[49m\u001B[43m(\u001B[49m\u001B[38;5;241;43m*\u001B[39;49m\u001B[43margs\u001B[49m\u001B[43m,\u001B[49m\u001B[43m \u001B[49m\u001B[38;5;241;43m*\u001B[39;49m\u001B[38;5;241;43m*\u001B[39;49m\u001B[43mkwargs\u001B[49m\u001B[43m)\u001B[49m\n",
       "\u001B[1;32m     49\u001B[0m     logger\u001B[38;5;241m.\u001B[39mlog_success(\n",
       "\u001B[1;32m     50\u001B[0m         module_name, class_name, function_name, time\u001B[38;5;241m.\u001B[39mperf_counter() \u001B[38;5;241m-\u001B[39m start, signature\n",
       "\u001B[1;32m     51\u001B[0m     )\n",
       "\u001B[1;32m     52\u001B[0m     \u001B[38;5;28;01mreturn\u001B[39;00m res\n",
       "\n",
       "File \u001B[0;32m/databricks/spark/python/pyspark/sql/session.py:1387\u001B[0m, in \u001B[0;36mSparkSession.sql\u001B[0;34m(self, sqlQuery, args, **kwargs)\u001B[0m\n",
       "\u001B[1;32m   1385\u001B[0m \u001B[38;5;28;01mtry\u001B[39;00m:\n",
       "\u001B[1;32m   1386\u001B[0m     litArgs \u001B[38;5;241m=\u001B[39m {k: _to_java_column(lit(v)) \u001B[38;5;28;01mfor\u001B[39;00m k, v \u001B[38;5;129;01min\u001B[39;00m (args \u001B[38;5;129;01mor\u001B[39;00m {})\u001B[38;5;241m.\u001B[39mitems()}\n",
       "\u001B[0;32m-> 1387\u001B[0m     \u001B[38;5;28;01mreturn\u001B[39;00m DataFrame(\u001B[38;5;28;43mself\u001B[39;49m\u001B[38;5;241;43m.\u001B[39;49m\u001B[43m_jsparkSession\u001B[49m\u001B[38;5;241;43m.\u001B[39;49m\u001B[43msql\u001B[49m\u001B[43m(\u001B[49m\u001B[43msqlQuery\u001B[49m\u001B[43m,\u001B[49m\u001B[43m \u001B[49m\u001B[43mlitArgs\u001B[49m\u001B[43m)\u001B[49m, \u001B[38;5;28mself\u001B[39m)\n",
       "\u001B[1;32m   1388\u001B[0m \u001B[38;5;28;01mfinally\u001B[39;00m:\n",
       "\u001B[1;32m   1389\u001B[0m     \u001B[38;5;28;01mif\u001B[39;00m \u001B[38;5;28mlen\u001B[39m(kwargs) \u001B[38;5;241m>\u001B[39m \u001B[38;5;241m0\u001B[39m:\n",
       "\n",
       "File \u001B[0;32m/databricks/spark/python/lib/py4j-0.10.9.5-src.zip/py4j/java_gateway.py:1321\u001B[0m, in \u001B[0;36mJavaMember.__call__\u001B[0;34m(self, *args)\u001B[0m\n",
       "\u001B[1;32m   1315\u001B[0m command \u001B[38;5;241m=\u001B[39m proto\u001B[38;5;241m.\u001B[39mCALL_COMMAND_NAME \u001B[38;5;241m+\u001B[39m\\\n",
       "\u001B[1;32m   1316\u001B[0m     \u001B[38;5;28mself\u001B[39m\u001B[38;5;241m.\u001B[39mcommand_header \u001B[38;5;241m+\u001B[39m\\\n",
       "\u001B[1;32m   1317\u001B[0m     args_command \u001B[38;5;241m+\u001B[39m\\\n",
       "\u001B[1;32m   1318\u001B[0m     proto\u001B[38;5;241m.\u001B[39mEND_COMMAND_PART\n",
       "\u001B[1;32m   1320\u001B[0m answer \u001B[38;5;241m=\u001B[39m \u001B[38;5;28mself\u001B[39m\u001B[38;5;241m.\u001B[39mgateway_client\u001B[38;5;241m.\u001B[39msend_command(command)\n",
       "\u001B[0;32m-> 1321\u001B[0m return_value \u001B[38;5;241m=\u001B[39m \u001B[43mget_return_value\u001B[49m\u001B[43m(\u001B[49m\n",
       "\u001B[1;32m   1322\u001B[0m \u001B[43m    \u001B[49m\u001B[43manswer\u001B[49m\u001B[43m,\u001B[49m\u001B[43m \u001B[49m\u001B[38;5;28;43mself\u001B[39;49m\u001B[38;5;241;43m.\u001B[39;49m\u001B[43mgateway_client\u001B[49m\u001B[43m,\u001B[49m\u001B[43m \u001B[49m\u001B[38;5;28;43mself\u001B[39;49m\u001B[38;5;241;43m.\u001B[39;49m\u001B[43mtarget_id\u001B[49m\u001B[43m,\u001B[49m\u001B[43m \u001B[49m\u001B[38;5;28;43mself\u001B[39;49m\u001B[38;5;241;43m.\u001B[39;49m\u001B[43mname\u001B[49m\u001B[43m)\u001B[49m\n",
       "\u001B[1;32m   1324\u001B[0m \u001B[38;5;28;01mfor\u001B[39;00m temp_arg \u001B[38;5;129;01min\u001B[39;00m temp_args:\n",
       "\u001B[1;32m   1325\u001B[0m     temp_arg\u001B[38;5;241m.\u001B[39m_detach()\n",
       "\n",
       "File \u001B[0;32m/databricks/spark/python/pyspark/errors/exceptions.py:234\u001B[0m, in \u001B[0;36mcapture_sql_exception.<locals>.deco\u001B[0;34m(*a, **kw)\u001B[0m\n",
       "\u001B[1;32m    230\u001B[0m converted \u001B[38;5;241m=\u001B[39m convert_exception(e\u001B[38;5;241m.\u001B[39mjava_exception)\n",
       "\u001B[1;32m    231\u001B[0m \u001B[38;5;28;01mif\u001B[39;00m \u001B[38;5;129;01mnot\u001B[39;00m \u001B[38;5;28misinstance\u001B[39m(converted, UnknownException):\n",
       "\u001B[1;32m    232\u001B[0m     \u001B[38;5;66;03m# Hide where the exception came from that shows a non-Pythonic\u001B[39;00m\n",
       "\u001B[1;32m    233\u001B[0m     \u001B[38;5;66;03m# JVM exception message.\u001B[39;00m\n",
       "\u001B[0;32m--> 234\u001B[0m     \u001B[38;5;28;01mraise\u001B[39;00m converted \u001B[38;5;28;01mfrom\u001B[39;00m \u001B[38;5;28mNone\u001B[39m\n",
       "\u001B[1;32m    235\u001B[0m \u001B[38;5;28;01melse\u001B[39;00m:\n",
       "\u001B[1;32m    236\u001B[0m     \u001B[38;5;28;01mraise\u001B[39;00m\n",
       "\n",
       "\u001B[0;31mAnalysisException\u001B[0m: [TABLE_OR_VIEW_NOT_FOUND] The table or view `spark_catalog`.`bronze`.`fifa_ranking` cannot be found. Verify the spelling and correctness of the schema and catalog.\n",
       "If you did not qualify the name with a schema, verify the current_schema() output, or qualify the name with the correct schema and catalog.\n",
       "To tolerate the error on drop use DROP VIEW IF EXISTS or DROP TABLE IF EXISTS."
      ]
     },
     "metadata": {
      "application/vnd.databricks.v1+output": {
       "arguments": {},
       "data": "\u001B[0;31m---------------------------------------------------------------------------\u001B[0m\n\u001B[0;31mAnalysisException\u001B[0m                         Traceback (most recent call last)\nFile \u001B[0;32m<command-3290182131485722>:8\u001B[0m\n\u001B[1;32m      6\u001B[0m spark\u001B[38;5;241m.\u001B[39msql(\u001B[38;5;124mf\u001B[39m\u001B[38;5;124m\"\u001B[39m\u001B[38;5;124mALTER TABLE \u001B[39m\u001B[38;5;132;01m{\u001B[39;00mtable_name\u001B[38;5;132;01m}\u001B[39;00m\u001B[38;5;124m CHANGE COLUMN `total_points` `total_points` DOUBLE COMMENT \u001B[39m\u001B[38;5;124m'\u001B[39m\u001B[38;5;124mPontuação total no ranking FIFA\u001B[39m\u001B[38;5;124m'\u001B[39m\u001B[38;5;124m\"\u001B[39m)\n\u001B[1;32m      7\u001B[0m spark\u001B[38;5;241m.\u001B[39msql(\u001B[38;5;124mf\u001B[39m\u001B[38;5;124m\"\u001B[39m\u001B[38;5;124mALTER TABLE \u001B[39m\u001B[38;5;132;01m{\u001B[39;00mtable_name\u001B[38;5;132;01m}\u001B[39;00m\u001B[38;5;124m CHANGE COLUMN `previous_points` `previous_points` DOUBLE COMMENT \u001B[39m\u001B[38;5;124m'\u001B[39m\u001B[38;5;124mPontuação anterior no ranking FIFA\u001B[39m\u001B[38;5;124m'\u001B[39m\u001B[38;5;124m\"\u001B[39m)\n\u001B[0;32m----> 8\u001B[0m spark\u001B[38;5;241m.\u001B[39msql(\u001B[38;5;124mf\u001B[39m\u001B[38;5;124m\"\u001B[39m\u001B[38;5;124mALTER TABLE \u001B[39m\u001B[38;5;132;01m{\u001B[39;00mtable_name\u001B[38;5;132;01m}\u001B[39;00m\u001B[38;5;124m CHANGE COLUMN `rank_change` `rank_change` INT COMMENT \u001B[39m\u001B[38;5;124m'\u001B[39m\u001B[38;5;124mMudança na posição do ranking desde a última publicação\u001B[39m\u001B[38;5;124m'\u001B[39m\u001B[38;5;124m\"\u001B[39m)\n\u001B[1;32m      9\u001B[0m spark\u001B[38;5;241m.\u001B[39msql(\u001B[38;5;124mf\u001B[39m\u001B[38;5;124m\"\u001B[39m\u001B[38;5;124mALTER TABLE \u001B[39m\u001B[38;5;132;01m{\u001B[39;00mtable_name\u001B[38;5;132;01m}\u001B[39;00m\u001B[38;5;124m CHANGE COLUMN `confederation` `confederation` STRING COMMENT \u001B[39m\u001B[38;5;124m'\u001B[39m\u001B[38;5;124mConfederação FIFA do país\u001B[39m\u001B[38;5;124m'\u001B[39m\u001B[38;5;124m\"\u001B[39m)\n\u001B[1;32m     10\u001B[0m spark\u001B[38;5;241m.\u001B[39msql(\u001B[38;5;124mf\u001B[39m\u001B[38;5;124m\"\u001B[39m\u001B[38;5;124mALTER TABLE \u001B[39m\u001B[38;5;132;01m{\u001B[39;00mtable_name\u001B[38;5;132;01m}\u001B[39;00m\u001B[38;5;124m CHANGE COLUMN `rank_date` `rank_date` DATE COMMENT \u001B[39m\u001B[38;5;124m'\u001B[39m\u001B[38;5;124mData do cálculo do ranking\u001B[39m\u001B[38;5;124m'\u001B[39m\u001B[38;5;124m\"\u001B[39m)\n\nFile \u001B[0;32m/databricks/spark/python/pyspark/instrumentation_utils.py:48\u001B[0m, in \u001B[0;36m_wrap_function.<locals>.wrapper\u001B[0;34m(*args, **kwargs)\u001B[0m\n\u001B[1;32m     46\u001B[0m start \u001B[38;5;241m=\u001B[39m time\u001B[38;5;241m.\u001B[39mperf_counter()\n\u001B[1;32m     47\u001B[0m \u001B[38;5;28;01mtry\u001B[39;00m:\n\u001B[0;32m---> 48\u001B[0m     res \u001B[38;5;241m=\u001B[39m \u001B[43mfunc\u001B[49m\u001B[43m(\u001B[49m\u001B[38;5;241;43m*\u001B[39;49m\u001B[43margs\u001B[49m\u001B[43m,\u001B[49m\u001B[43m \u001B[49m\u001B[38;5;241;43m*\u001B[39;49m\u001B[38;5;241;43m*\u001B[39;49m\u001B[43mkwargs\u001B[49m\u001B[43m)\u001B[49m\n\u001B[1;32m     49\u001B[0m     logger\u001B[38;5;241m.\u001B[39mlog_success(\n\u001B[1;32m     50\u001B[0m         module_name, class_name, function_name, time\u001B[38;5;241m.\u001B[39mperf_counter() \u001B[38;5;241m-\u001B[39m start, signature\n\u001B[1;32m     51\u001B[0m     )\n\u001B[1;32m     52\u001B[0m     \u001B[38;5;28;01mreturn\u001B[39;00m res\n\nFile \u001B[0;32m/databricks/spark/python/pyspark/sql/session.py:1387\u001B[0m, in \u001B[0;36mSparkSession.sql\u001B[0;34m(self, sqlQuery, args, **kwargs)\u001B[0m\n\u001B[1;32m   1385\u001B[0m \u001B[38;5;28;01mtry\u001B[39;00m:\n\u001B[1;32m   1386\u001B[0m     litArgs \u001B[38;5;241m=\u001B[39m {k: _to_java_column(lit(v)) \u001B[38;5;28;01mfor\u001B[39;00m k, v \u001B[38;5;129;01min\u001B[39;00m (args \u001B[38;5;129;01mor\u001B[39;00m {})\u001B[38;5;241m.\u001B[39mitems()}\n\u001B[0;32m-> 1387\u001B[0m     \u001B[38;5;28;01mreturn\u001B[39;00m DataFrame(\u001B[38;5;28;43mself\u001B[39;49m\u001B[38;5;241;43m.\u001B[39;49m\u001B[43m_jsparkSession\u001B[49m\u001B[38;5;241;43m.\u001B[39;49m\u001B[43msql\u001B[49m\u001B[43m(\u001B[49m\u001B[43msqlQuery\u001B[49m\u001B[43m,\u001B[49m\u001B[43m \u001B[49m\u001B[43mlitArgs\u001B[49m\u001B[43m)\u001B[49m, \u001B[38;5;28mself\u001B[39m)\n\u001B[1;32m   1388\u001B[0m \u001B[38;5;28;01mfinally\u001B[39;00m:\n\u001B[1;32m   1389\u001B[0m     \u001B[38;5;28;01mif\u001B[39;00m \u001B[38;5;28mlen\u001B[39m(kwargs) \u001B[38;5;241m>\u001B[39m \u001B[38;5;241m0\u001B[39m:\n\nFile \u001B[0;32m/databricks/spark/python/lib/py4j-0.10.9.5-src.zip/py4j/java_gateway.py:1321\u001B[0m, in \u001B[0;36mJavaMember.__call__\u001B[0;34m(self, *args)\u001B[0m\n\u001B[1;32m   1315\u001B[0m command \u001B[38;5;241m=\u001B[39m proto\u001B[38;5;241m.\u001B[39mCALL_COMMAND_NAME \u001B[38;5;241m+\u001B[39m\\\n\u001B[1;32m   1316\u001B[0m     \u001B[38;5;28mself\u001B[39m\u001B[38;5;241m.\u001B[39mcommand_header \u001B[38;5;241m+\u001B[39m\\\n\u001B[1;32m   1317\u001B[0m     args_command \u001B[38;5;241m+\u001B[39m\\\n\u001B[1;32m   1318\u001B[0m     proto\u001B[38;5;241m.\u001B[39mEND_COMMAND_PART\n\u001B[1;32m   1320\u001B[0m answer \u001B[38;5;241m=\u001B[39m \u001B[38;5;28mself\u001B[39m\u001B[38;5;241m.\u001B[39mgateway_client\u001B[38;5;241m.\u001B[39msend_command(command)\n\u001B[0;32m-> 1321\u001B[0m return_value \u001B[38;5;241m=\u001B[39m \u001B[43mget_return_value\u001B[49m\u001B[43m(\u001B[49m\n\u001B[1;32m   1322\u001B[0m \u001B[43m    \u001B[49m\u001B[43manswer\u001B[49m\u001B[43m,\u001B[49m\u001B[43m \u001B[49m\u001B[38;5;28;43mself\u001B[39;49m\u001B[38;5;241;43m.\u001B[39;49m\u001B[43mgateway_client\u001B[49m\u001B[43m,\u001B[49m\u001B[43m \u001B[49m\u001B[38;5;28;43mself\u001B[39;49m\u001B[38;5;241;43m.\u001B[39;49m\u001B[43mtarget_id\u001B[49m\u001B[43m,\u001B[49m\u001B[43m \u001B[49m\u001B[38;5;28;43mself\u001B[39;49m\u001B[38;5;241;43m.\u001B[39;49m\u001B[43mname\u001B[49m\u001B[43m)\u001B[49m\n\u001B[1;32m   1324\u001B[0m \u001B[38;5;28;01mfor\u001B[39;00m temp_arg \u001B[38;5;129;01min\u001B[39;00m temp_args:\n\u001B[1;32m   1325\u001B[0m     temp_arg\u001B[38;5;241m.\u001B[39m_detach()\n\nFile \u001B[0;32m/databricks/spark/python/pyspark/errors/exceptions.py:234\u001B[0m, in \u001B[0;36mcapture_sql_exception.<locals>.deco\u001B[0;34m(*a, **kw)\u001B[0m\n\u001B[1;32m    230\u001B[0m converted \u001B[38;5;241m=\u001B[39m convert_exception(e\u001B[38;5;241m.\u001B[39mjava_exception)\n\u001B[1;32m    231\u001B[0m \u001B[38;5;28;01mif\u001B[39;00m \u001B[38;5;129;01mnot\u001B[39;00m \u001B[38;5;28misinstance\u001B[39m(converted, UnknownException):\n\u001B[1;32m    232\u001B[0m     \u001B[38;5;66;03m# Hide where the exception came from that shows a non-Pythonic\u001B[39;00m\n\u001B[1;32m    233\u001B[0m     \u001B[38;5;66;03m# JVM exception message.\u001B[39;00m\n\u001B[0;32m--> 234\u001B[0m     \u001B[38;5;28;01mraise\u001B[39;00m converted \u001B[38;5;28;01mfrom\u001B[39;00m \u001B[38;5;28mNone\u001B[39m\n\u001B[1;32m    235\u001B[0m \u001B[38;5;28;01melse\u001B[39;00m:\n\u001B[1;32m    236\u001B[0m     \u001B[38;5;28;01mraise\u001B[39;00m\n\n\u001B[0;31mAnalysisException\u001B[0m: [TABLE_OR_VIEW_NOT_FOUND] The table or view `spark_catalog`.`bronze`.`fifa_ranking` cannot be found. Verify the spelling and correctness of the schema and catalog.\nIf you did not qualify the name with a schema, verify the current_schema() output, or qualify the name with the correct schema and catalog.\nTo tolerate the error on drop use DROP VIEW IF EXISTS or DROP TABLE IF EXISTS.",
       "errorSummary": "<span class='ansi-red-fg'>AnalysisException</span>: [TABLE_OR_VIEW_NOT_FOUND] The table or view `spark_catalog`.`bronze`.`fifa_ranking` cannot be found. Verify the spelling and correctness of the schema and catalog.\nIf you did not qualify the name with a schema, verify the current_schema() output, or qualify the name with the correct schema and catalog.\nTo tolerate the error on drop use DROP VIEW IF EXISTS or DROP TABLE IF EXISTS.",
       "errorTraceType": "ansi",
       "metadata": {},
       "type": "ipynbError"
      }
     },
     "output_type": "display_data"
    }
   ],
   "source": [
    "table_name = \"bronze.fifa_ranking\"\n",
    "\n",
    "spark.sql(f\"ALTER TABLE {table_name} CHANGE COLUMN `country_full` `country_full` STRING COMMENT 'Nome completo do país'\")\n",
    "spark.sql(f\"ALTER TABLE {table_name} CHANGE COLUMN `country_abrv` `country_abrv` STRING COMMENT 'Abreviação do país'\")\n",
    "spark.sql(f\"ALTER TABLE {table_name} CHANGE COLUMN `rank` `rank` DOUBLE COMMENT 'Posição no ranking FIFA'\")\n",
    "spark.sql(f\"ALTER TABLE {table_name} CHANGE COLUMN `total_points` `total_points` DOUBLE COMMENT 'Pontuação total no ranking FIFA'\")\n",
    "spark.sql(f\"ALTER TABLE {table_name} CHANGE COLUMN `previous_points` `previous_points` DOUBLE COMMENT 'Pontuação anterior no ranking FIFA'\")\n",
    "spark.sql(f\"ALTER TABLE {table_name} CHANGE COLUMN `rank_change` `rank_change` INT COMMENT 'Mudança na posição do ranking desde a última publicação'\")\n",
    "spark.sql(f\"ALTER TABLE {table_name} CHANGE COLUMN `confederation` `confederation` STRING COMMENT 'Confederação FIFA do país'\")\n",
    "spark.sql(f\"ALTER TABLE {table_name} CHANGE COLUMN `rank_date` `rank_date` DATE COMMENT 'Data do cálculo do ranking'\")\n",
    "\n",
    "# Verificar se os comentários foram adicionados\n",
    "desc_table = spark.sql(f\"DESCRIBE EXTENDED {table_name}\")\n",
    "desc_table.show(truncate=False)"
   ]
  },
  {
   "cell_type": "markdown",
   "metadata": {
    "application/vnd.databricks.v1+cell": {
     "cellMetadata": {
      "byteLimit": 2048000,
      "rowLimit": 10000
     },
     "inputWidgets": {},
     "nuid": "0b7acc06-00f5-4a15-8dd0-5082ff3ee30b",
     "showTitle": false,
     "tableResultSettingsMap": {},
     "title": ""
    }
   },
   "source": [
    "A construção da camada bronze foi concluída após esse passo, com os dados brutos e com adição dos metadados de acordo com boas práticas de gestão e governança dos dados. A partir disso, é construída a camada silver, com limpeza, estruturação e preparação dos dados para uso futuro. A camada silver é construída no notebook MVP - Engenharia de Dados - parte 2"
   ]
  }
 ],
 "metadata": {
  "application/vnd.databricks.v1+notebook": {
   "computePreferences": null,
   "dashboards": [],
   "environmentMetadata": {
    "base_environment": "",
    "environment_version": "1"
   },
   "inputWidgetPreferences": null,
   "language": "python",
   "notebookMetadata": {
    "mostRecentlyExecutedCommandWithImplicitDF": {
     "commandId": 3290182131485718,
     "dataframes": [
      "_sqldf"
     ]
    },
    "pythonIndentUnit": 4
   },
   "notebookName": "MVP - Engenharia de Dados - Parte 1",
   "widgets": {}
  }
 },
 "nbformat": 4,
 "nbformat_minor": 0
}