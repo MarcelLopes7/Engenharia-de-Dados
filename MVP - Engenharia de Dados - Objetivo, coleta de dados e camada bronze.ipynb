{
 "cells": [
  {
   "cell_type": "markdown",
   "metadata": {
    "application/vnd.databricks.v1+cell": {
     "cellMetadata": {
      "byteLimit": 2048000,
      "rowLimit": 10000
     },
     "inputWidgets": {},
     "nuid": "46409556-841c-4e62-a56c-a618acd85592",
     "showTitle": false,
     "tableResultSettingsMap": {},
     "title": ""
    }
   },
   "source": [
    "# MVP - Engenharia de Dados\n",
    "## Autor: Marcel Antonio Lopes Pereira"
   ]
  },
  {
   "cell_type": "markdown",
   "metadata": {
    "application/vnd.databricks.v1+cell": {
     "cellMetadata": {
      "byteLimit": 2048000,
      "rowLimit": 10000
     },
     "inputWidgets": {},
     "nuid": "641e2935-2ee2-496e-9e4b-0336812f8980",
     "showTitle": false,
     "tableResultSettingsMap": {},
     "title": ""
    }
   },
   "source": [
    "## Objetivo:\n",
    "\n",
    "Este MVP tem como objetivo construir um pipeline de dados utilizando tecnologias em nuvem para buscar, coletar, modelar, carregar e analisar dados históricos do futebol de seleções masculinas. O propósito central é responder a uma questão amplamente debatida entre torcedores e especialistas:\n",
    "\n",
    "**Existe alguma seleção nacional masculina dominante na história do futebol a ponto de ser considerada a melhor de todos os tempos?**\n",
    "\n",
    "Para explorar essa questão, o pipeline permitirá a análise de algumas perguntas-chave, que ajudarão a identificar as seleções que se destacaram ao longo da história:\n",
    "\n",
    "1. **Qual seleção tem o maior número de vitórias em jogos oficiais e amistosos?**  \n",
    "   Identificar as seleções com o maior número de vitórias em diferentes tipos de jogos, fornecendo uma base para medir a consistência no desempenho.\n",
    "\n",
    "2. **Qual seleção tem a melhor taxa de aproveitamento (pontos ganhos por jogo)?**  \n",
    "   Avaliar a eficiência das seleções, levando em consideração o número de pontos conquistados em relação aos jogos disputados, ajudando a medir o desempenho em termos de consistência.\n",
    "\n",
    "3. **Qual seleção tem o maior saldo de gols (gols marcados - gols sofridos) em toda a história?**  \n",
    "   Analisar o saldo de gols das seleções, refletindo sua capacidade ofensiva e defensiva ao longo do tempo.\n",
    "\n",
    "4. **Qual seleção tem o maior número de vitórias contra outras grandes seleções (top 10 do ranking da FIFA)?**  \n",
    "   Analisar o desempenho das seleções contra as mais fortes equipes do mundo, refletindo sua competitividade no cenário global.\n",
    "\n",
    "5. **Qual seleção tem a maior sequência invicta em toda a história?**  \n",
    "   Identificar quais seleções mantiveram longas sequências sem derrotas, um bom indicativo de consistência e resistência ao longo do tempo.\n",
    "\n",
    "6. **Qual seleção tem o maior número de jogos sem sofrer gols em toda a história?**  \n",
    "   Analisar a capacidade defensiva das seleções, refletindo uma defesa sólida e organização tática eficaz ao longo dos anos.\n",
    "\n",
    "7. **Quais seleções tiveram os artilheiros mais consistentes e como o desempenho desses jogadores está relacionado com o sucesso da equipe?**  \n",
    "   Relacionar o desempenho individual dos artilheiros com o desempenho da seleção, ajudando a identificar como a contribuição dos goleadores impactou as vitórias e o sucesso da equipe ao longo da história.\n",
    "\n",
    "\n",
    "\n",
    "## Estrutura do Pipeline\n",
    "\n",
    "O pipeline de dados será estruturado em três camadas principais:\n",
    "\n",
    "- **Bronze:** coleta e armazenamento dos dados brutos conforme os arquivos originais.  \n",
    "- **Silver:** limpeza, padronização e transformação dos dados brutos, garantindo consistência e qualidade para as análises. Nesta etapa, serão tratados problemas como dados ausentes, duplicidades e formatação inadequada.  \n",
    "- **Gold:** modelagem analítica dos dados para responder às perguntas de negócio, além da otimização para consultas complexas, garantindo eficiência na extração de insights e facilitando a análise exploratória e preditiva.\n",
    "\n",
    "A análise final dos dados será realizada em um notebook específico, onde todas as perguntas levantadas serão respondidas. A partir dos resultados obtidos, será possível avaliar, com base em dados, quais seleções se destacam historicamente e se alguma delas pode ser considerada a mais dominante de todos os tempos.\n",
    "\n",
    "\n",
    "\n"
   ]
  },
  {
   "cell_type": "markdown",
   "metadata": {
    "application/vnd.databricks.v1+cell": {
     "cellMetadata": {
      "byteLimit": 2048000,
      "rowLimit": 10000
     },
     "inputWidgets": {},
     "nuid": "e071bfed-f6de-47f7-b909-1042cb14aac4",
     "showTitle": false,
     "tableResultSettingsMap": {},
     "title": ""
    }
   },
   "source": [
    "## Busca dos dados:\n",
    "\n",
    "Na busca dos dados necessários para solução do problema, foi escolhida o Kaggle como fonte para obtenção dos mesmos. Nesse processo, foram escolhidos dois conjuntos de dados que são descritos a seguir.\n",
    "\n",
    "O primeiro conjunto é referente aos resultados de partidas entre seleções no período entre 1872 e 2025. Nesses dados não estão incluídos os resultados de partidas em Jogos Olímípicos, com seleções nacionais B, sub-23 e seleções com melhores jogadores de ligas. O link de acesso a esse conjunto de dados é o seguinte:\n",
    "https://www.kaggle.com/datasets/martj42/international-football-results-from-1872-to-2017\n",
    "\n",
    "Esses dados foram publicados pelo usuário Mart Jürisoo e são de domínio público (CC0: Public Domain). O conjunto possui 4 arquivos do tipo csv: results.csv (resultados das partidas); shootouts.csv (disputas de penalties); goalscorers.csv (marcadores de gols); former_names.csv (nomes anteriores das equipes).\n",
    "\n",
    "O segundo conjunto é referente ao Ranking da FIFA de seleções no período de 1992 a 2024. Estão listadas as posições dos times e suas mudanças ao longo do tempo dentro desse intervalo. O link de acesso a esse conjunto de dados é o seguinte:\n",
    "https://www.kaggle.com/datasets/cashncarry/fifaworldranking\n",
    "\n",
    "Esses dados forma publicados pelo usuário Alex e também são de domínio público (CC0: Public Domain). Apesar do conjunto possuir 3 arquivos do tipo csv, somente foi utilizado um deles nesse trabalho: fifa_ranking-2024-06-20.csv (Lista de Rankings até 20-06-24)."
   ]
  },
  {
   "cell_type": "markdown",
   "metadata": {
    "application/vnd.databricks.v1+cell": {
     "cellMetadata": {
      "byteLimit": 2048000,
      "rowLimit": 10000
     },
     "inputWidgets": {},
     "nuid": "1fb3ba4c-fc56-45b1-aea3-fb3d0cd132a4",
     "showTitle": false,
     "tableResultSettingsMap": {},
     "title": ""
    }
   },
   "source": [
    "## Coleta, modelagem e carga dos dados:"
   ]
  },
  {
   "cell_type": "markdown",
   "metadata": {
    "application/vnd.databricks.v1+cell": {
     "cellMetadata": {
      "byteLimit": 2048000,
      "rowLimit": 10000
     },
     "inputWidgets": {},
     "nuid": "f19d4176-3644-4698-a76b-aa230d1a9e81",
     "showTitle": false,
     "tableResultSettingsMap": {},
     "title": ""
    }
   },
   "source": [
    "Após identificar os dados necessários para o problema, é realizada a coleta e a carga dos mesmos para o ambiente de nuvem. Foi utilizado nesse processo o sistema de armazenamento do Datrabricks com utilização do framework Spark para carga dos dados.\n"
   ]
  },
  {
   "cell_type": "code",
   "execution_count": 0,
   "metadata": {
    "application/vnd.databricks.v1+cell": {
     "cellMetadata": {
      "byteLimit": 2048000,
      "rowLimit": 10000
     },
     "inputWidgets": {},
     "nuid": "e251171c-fdc9-4083-86f8-d2d7514d860f",
     "showTitle": false,
     "tableResultSettingsMap": {},
     "title": ""
    }
   },
   "outputs": [],
   "source": [
    "# Importando as bibliotecas necessárias para carga e manipulação das tabelas\n",
    "import pandas as pd"
   ]
  },
  {
   "cell_type": "markdown",
   "metadata": {
    "application/vnd.databricks.v1+cell": {
     "cellMetadata": {
      "byteLimit": 2048000,
      "rowLimit": 10000
     },
     "inputWidgets": {},
     "nuid": "619db7aa-a7e3-4881-88d1-f9315b68536e",
     "showTitle": false,
     "tableResultSettingsMap": {},
     "title": ""
    }
   },
   "source": [
    "### Camada Bronze\n",
    "\n",
    "Na camada bronze, são importados os dados no seu formato bruto a partir dos arquivos csv de origem. São realizados scripts relativos a criação da database onde serão armazenados as tabelas da camada bronze."
   ]
  },
  {
   "cell_type": "code",
   "execution_count": 0,
   "metadata": {
    "application/vnd.databricks.v1+cell": {
     "cellMetadata": {
      "byteLimit": 2048000,
      "implicitDf": true,
      "rowLimit": 10000
     },
     "inputWidgets": {},
     "nuid": "34bb7a0c-4313-4bcb-b01a-e0341f49a37b",
     "showTitle": false,
     "tableResultSettingsMap": {},
     "title": ""
    }
   },
   "outputs": [
    {
     "output_type": "display_data",
     "data": {
      "text/html": [
       "<style scoped>\n",
       "  .table-result-container {\n",
       "    max-height: 300px;\n",
       "    overflow: auto;\n",
       "  }\n",
       "  table, th, td {\n",
       "    border: 1px solid black;\n",
       "    border-collapse: collapse;\n",
       "  }\n",
       "  th, td {\n",
       "    padding: 5px;\n",
       "  }\n",
       "  th {\n",
       "    text-align: left;\n",
       "  }\n",
       "</style><div class='table-result-container'><table class='table-result'><thead style='background-color: white'><tr></tr></thead><tbody></tbody></table></div>"
      ]
     },
     "metadata": {
      "application/vnd.databricks.v1+output": {
       "addedWidgets": {},
       "aggData": [],
       "aggError": "",
       "aggOverflow": false,
       "aggSchema": [],
       "aggSeriesLimitReached": false,
       "aggType": "",
       "arguments": {},
       "columnCustomDisplayInfos": {},
       "data": [],
       "datasetInfos": [],
       "dbfsResultPath": null,
       "isJsonSchema": true,
       "metadata": {},
       "overflow": false,
       "plotOptions": {
        "customPlotOptions": {},
        "displayType": "table",
        "pivotAggregation": null,
        "pivotColumns": null,
        "xColumns": null,
        "yColumns": null
       },
       "removedWidgets": [],
       "schema": [],
       "type": "table"
      }
     },
     "output_type": "display_data"
    }
   ],
   "source": [
    "%sql\n",
    "-- Desfazendo o database bronze para ser \"recriado\"\n",
    "DROP DATABASE IF EXISTS bronze CASCADE;"
   ]
  },
  {
   "cell_type": "code",
   "execution_count": 0,
   "metadata": {
    "application/vnd.databricks.v1+cell": {
     "cellMetadata": {
      "byteLimit": 2048000,
      "implicitDf": true,
      "rowLimit": 10000
     },
     "inputWidgets": {},
     "nuid": "6254a221-6a70-4ad6-9c79-24ee3e8f5ebc",
     "showTitle": false,
     "tableResultSettingsMap": {},
     "title": ""
    }
   },
   "outputs": [
    {
     "output_type": "display_data",
     "data": {
      "text/html": [
       "<style scoped>\n",
       "  .table-result-container {\n",
       "    max-height: 300px;\n",
       "    overflow: auto;\n",
       "  }\n",
       "  table, th, td {\n",
       "    border: 1px solid black;\n",
       "    border-collapse: collapse;\n",
       "  }\n",
       "  th, td {\n",
       "    padding: 5px;\n",
       "  }\n",
       "  th {\n",
       "    text-align: left;\n",
       "  }\n",
       "</style><div class='table-result-container'><table class='table-result'><thead style='background-color: white'><tr></tr></thead><tbody></tbody></table></div>"
      ]
     },
     "metadata": {
      "application/vnd.databricks.v1+output": {
       "addedWidgets": {},
       "aggData": [],
       "aggError": "",
       "aggOverflow": false,
       "aggSchema": [],
       "aggSeriesLimitReached": false,
       "aggType": "",
       "arguments": {},
       "columnCustomDisplayInfos": {},
       "data": [],
       "datasetInfos": [],
       "dbfsResultPath": null,
       "isJsonSchema": true,
       "metadata": {},
       "overflow": false,
       "plotOptions": {
        "customPlotOptions": {},
        "displayType": "table",
        "pivotAggregation": null,
        "pivotColumns": null,
        "xColumns": null,
        "yColumns": null
       },
       "removedWidgets": [],
       "schema": [],
       "type": "table"
      }
     },
     "output_type": "display_data"
    }
   ],
   "source": [
    "%sql \n",
    "-- Criando o database bronze\n",
    "CREATE DATABASE bronze;"
   ]
  },
  {
   "cell_type": "markdown",
   "metadata": {
    "application/vnd.databricks.v1+cell": {
     "cellMetadata": {
      "byteLimit": 2048000,
      "rowLimit": 10000
     },
     "inputWidgets": {},
     "nuid": "995e438f-5587-4c74-9860-8383a9ec503c",
     "showTitle": false,
     "tableResultSettingsMap": {},
     "title": ""
    }
   },
   "source": [
    "Após a criação do database, os arquivos CSV são carregados utilizando a biblioteca Pandas para gerar DataFrames a partir dos respectivos arquivos. Foi realizado download dos arquivos no Kaggle e os mesmos foram salvos no mesmo repositório onde esse Notebook está alocado. Em seguida, esses DataFrames são convertidos para o formato Spark e armazenados como tabelas no sistema de armazenamento em nuvem do Databricks, dentro da camada Bronze do database criado."
   ]
  },
  {
   "cell_type": "code",
   "execution_count": 0,
   "metadata": {
    "application/vnd.databricks.v1+cell": {
     "cellMetadata": {
      "byteLimit": 2048000,
      "rowLimit": 10000
     },
     "inputWidgets": {},
     "nuid": "7a59a4c3-c648-4b6a-8a55-8566df99efaa",
     "showTitle": false,
     "tableResultSettingsMap": {},
     "title": ""
    }
   },
   "outputs": [
    {
     "output_type": "stream",
     "name": "stdout",
     "output_type": "stream",
     "text": [
      "Tabela bronze.results carregada com sucesso.\nTabela bronze.shootouts carregada com sucesso.\nTabela bronze.goalscorers carregada com sucesso.\nTabela bronze.former_names carregada com sucesso.\nTabela bronze.fifa_ranking carregada com sucesso.\n"
     ]
    }
   ],
   "source": [
    "# Dicionário com os nomes das tabelas e URLs dos arquivos\n",
    "csv_files = {\n",
    "    \"results\": \"https://raw.githubusercontent.com/MarcelLopes7/Engenharia-de-Dados/refs/heads/main/results.csv\",\n",
    "    \"shootouts\": \"https://raw.githubusercontent.com/MarcelLopes7/Engenharia-de-Dados/refs/heads/main/shootouts.csv\",\n",
    "    \"goalscorers\": \"https://raw.githubusercontent.com/MarcelLopes7/Engenharia-de-Dados/refs/heads/main/goalscorers.csv\",\n",
    "    \"former_names\": \"https://raw.githubusercontent.com/MarcelLopes7/Engenharia-de-Dados/refs/heads/main/former_names.csv\",\n",
    "    \"fifa_ranking\": \"https://raw.githubusercontent.com/MarcelLopes7/Engenharia-de-Dados/refs/heads/main/fifa_ranking-2024-06-20.csv\"\n",
    "}\n",
    "\n",
    "# Loop para carregar, converter e salvar cada arquivo\n",
    "for table_name, url in csv_files.items():\n",
    "    # Carregar o CSV como DataFrame Pandas\n",
    "    df = pd.read_csv(url)\n",
    "    \n",
    "    # Converter para DataFrame Spark\n",
    "    spark_df = spark.createDataFrame(df)\n",
    "    \n",
    "    # Salvar como tabela na camada bronze\n",
    "    spark_df.write.mode(\"overwrite\").saveAsTable(f\"bronze.{table_name}\")\n",
    "\n",
    "    print(f\"Tabela bronze.{table_name} carregada com sucesso.\")\n"
   ]
  },
  {
   "cell_type": "markdown",
   "metadata": {
    "application/vnd.databricks.v1+cell": {
     "cellMetadata": {
      "byteLimit": 2048000,
      "rowLimit": 10000
     },
     "inputWidgets": {},
     "nuid": "a287f7c2-424d-419d-bb3f-cc34f0bfefe9",
     "showTitle": false,
     "tableResultSettingsMap": {},
     "title": ""
    }
   },
   "source": [
    "Após a execução dos script acima, a camada bronze foi construída com as tabelas. Em seguida, são realizadas verificações Spark SQL para confirmar a criação das tabelas. \n"
   ]
  },
  {
   "cell_type": "code",
   "execution_count": 0,
   "metadata": {
    "application/vnd.databricks.v1+cell": {
     "cellMetadata": {
      "byteLimit": 2048000,
      "rowLimit": 10000
     },
     "inputWidgets": {},
     "nuid": "6635e39f-c0c0-4699-b6b5-6d06a53ad4c9",
     "showTitle": false,
     "tableResultSettingsMap": {},
     "title": ""
    }
   },
   "outputs": [
    {
     "output_type": "stream",
     "name": "stdout",
     "output_type": "stream",
     "text": [
      "🔍 Exibindo 10 primeiras linhas da tabela bronze.results\n"
     ]
    },
    {
     "output_type": "display_data",
     "data": {
      "text/html": [
       "<style scoped>\n",
       "  .table-result-container {\n",
       "    max-height: 300px;\n",
       "    overflow: auto;\n",
       "  }\n",
       "  table, th, td {\n",
       "    border: 1px solid black;\n",
       "    border-collapse: collapse;\n",
       "  }\n",
       "  th, td {\n",
       "    padding: 5px;\n",
       "  }\n",
       "  th {\n",
       "    text-align: left;\n",
       "  }\n",
       "</style><div class='table-result-container'><table class='table-result'><thead style='background-color: white'><tr><th>date</th><th>home_team</th><th>away_team</th><th>home_score</th><th>away_score</th><th>tournament</th><th>city</th><th>country</th><th>neutral</th></tr></thead><tbody><tr><td>1872-11-30</td><td>Scotland</td><td>England</td><td>0</td><td>0</td><td>Friendly</td><td>Glasgow</td><td>Scotland</td><td>false</td></tr><tr><td>1873-03-08</td><td>England</td><td>Scotland</td><td>4</td><td>2</td><td>Friendly</td><td>London</td><td>England</td><td>false</td></tr><tr><td>1874-03-07</td><td>Scotland</td><td>England</td><td>2</td><td>1</td><td>Friendly</td><td>Glasgow</td><td>Scotland</td><td>false</td></tr><tr><td>1875-03-06</td><td>England</td><td>Scotland</td><td>2</td><td>2</td><td>Friendly</td><td>London</td><td>England</td><td>false</td></tr><tr><td>1876-03-04</td><td>Scotland</td><td>England</td><td>3</td><td>0</td><td>Friendly</td><td>Glasgow</td><td>Scotland</td><td>false</td></tr><tr><td>1876-03-25</td><td>Scotland</td><td>Wales</td><td>4</td><td>0</td><td>Friendly</td><td>Glasgow</td><td>Scotland</td><td>false</td></tr><tr><td>1877-03-03</td><td>England</td><td>Scotland</td><td>1</td><td>3</td><td>Friendly</td><td>London</td><td>England</td><td>false</td></tr><tr><td>1877-03-05</td><td>Wales</td><td>Scotland</td><td>0</td><td>2</td><td>Friendly</td><td>Wrexham</td><td>Wales</td><td>false</td></tr><tr><td>1878-03-02</td><td>Scotland</td><td>England</td><td>7</td><td>2</td><td>Friendly</td><td>Glasgow</td><td>Scotland</td><td>false</td></tr><tr><td>1878-03-23</td><td>Scotland</td><td>Wales</td><td>9</td><td>0</td><td>Friendly</td><td>Glasgow</td><td>Scotland</td><td>false</td></tr></tbody></table></div>"
      ]
     },
     "metadata": {
      "application/vnd.databricks.v1+output": {
       "addedWidgets": {},
       "aggData": [],
       "aggError": "",
       "aggOverflow": false,
       "aggSchema": [],
       "aggSeriesLimitReached": false,
       "aggType": "",
       "arguments": {},
       "columnCustomDisplayInfos": {},
       "data": [
        [
         "1872-11-30",
         "Scotland",
         "England",
         0,
         0,
         "Friendly",
         "Glasgow",
         "Scotland",
         false
        ],
        [
         "1873-03-08",
         "England",
         "Scotland",
         4,
         2,
         "Friendly",
         "London",
         "England",
         false
        ],
        [
         "1874-03-07",
         "Scotland",
         "England",
         2,
         1,
         "Friendly",
         "Glasgow",
         "Scotland",
         false
        ],
        [
         "1875-03-06",
         "England",
         "Scotland",
         2,
         2,
         "Friendly",
         "London",
         "England",
         false
        ],
        [
         "1876-03-04",
         "Scotland",
         "England",
         3,
         0,
         "Friendly",
         "Glasgow",
         "Scotland",
         false
        ],
        [
         "1876-03-25",
         "Scotland",
         "Wales",
         4,
         0,
         "Friendly",
         "Glasgow",
         "Scotland",
         false
        ],
        [
         "1877-03-03",
         "England",
         "Scotland",
         1,
         3,
         "Friendly",
         "London",
         "England",
         false
        ],
        [
         "1877-03-05",
         "Wales",
         "Scotland",
         0,
         2,
         "Friendly",
         "Wrexham",
         "Wales",
         false
        ],
        [
         "1878-03-02",
         "Scotland",
         "England",
         7,
         2,
         "Friendly",
         "Glasgow",
         "Scotland",
         false
        ],
        [
         "1878-03-23",
         "Scotland",
         "Wales",
         9,
         0,
         "Friendly",
         "Glasgow",
         "Scotland",
         false
        ]
       ],
       "datasetInfos": [],
       "dbfsResultPath": null,
       "isJsonSchema": true,
       "metadata": {},
       "overflow": false,
       "plotOptions": {
        "customPlotOptions": {},
        "displayType": "table",
        "pivotAggregation": null,
        "pivotColumns": null,
        "xColumns": null,
        "yColumns": null
       },
       "removedWidgets": [],
       "schema": [
        {
         "metadata": "{}",
         "name": "date",
         "type": "\"string\""
        },
        {
         "metadata": "{}",
         "name": "home_team",
         "type": "\"string\""
        },
        {
         "metadata": "{}",
         "name": "away_team",
         "type": "\"string\""
        },
        {
         "metadata": "{}",
         "name": "home_score",
         "type": "\"long\""
        },
        {
         "metadata": "{}",
         "name": "away_score",
         "type": "\"long\""
        },
        {
         "metadata": "{}",
         "name": "tournament",
         "type": "\"string\""
        },
        {
         "metadata": "{}",
         "name": "city",
         "type": "\"string\""
        },
        {
         "metadata": "{}",
         "name": "country",
         "type": "\"string\""
        },
        {
         "metadata": "{}",
         "name": "neutral",
         "type": "\"boolean\""
        }
       ],
       "type": "table"
      }
     },
     "output_type": "display_data"
    },
    {
     "output_type": "stream",
     "name": "stdout",
     "output_type": "stream",
     "text": [
      "🔍 Exibindo 10 primeiras linhas da tabela bronze.shootouts\n"
     ]
    },
    {
     "output_type": "display_data",
     "data": {
      "text/html": [
       "<style scoped>\n",
       "  .table-result-container {\n",
       "    max-height: 300px;\n",
       "    overflow: auto;\n",
       "  }\n",
       "  table, th, td {\n",
       "    border: 1px solid black;\n",
       "    border-collapse: collapse;\n",
       "  }\n",
       "  th, td {\n",
       "    padding: 5px;\n",
       "  }\n",
       "  th {\n",
       "    text-align: left;\n",
       "  }\n",
       "</style><div class='table-result-container'><table class='table-result'><thead style='background-color: white'><tr><th>date</th><th>home_team</th><th>away_team</th><th>winner</th><th>first_shooter</th></tr></thead><tbody><tr><td>1967-08-22</td><td>India</td><td>Taiwan</td><td>Taiwan</td><td>null</td></tr><tr><td>1971-11-14</td><td>South Korea</td><td>Vietnam Republic</td><td>South Korea</td><td>null</td></tr><tr><td>1972-05-07</td><td>South Korea</td><td>Iraq</td><td>Iraq</td><td>null</td></tr><tr><td>1972-05-17</td><td>Thailand</td><td>South Korea</td><td>South Korea</td><td>null</td></tr><tr><td>1972-05-19</td><td>Thailand</td><td>Cambodia</td><td>Thailand</td><td>null</td></tr><tr><td>1973-04-21</td><td>Senegal</td><td>Ghana</td><td>Ghana</td><td>null</td></tr><tr><td>1973-06-14</td><td>Guinea</td><td>Mali</td><td>Guinea</td><td>null</td></tr><tr><td>1973-06-14</td><td>Mauritius</td><td>Tanzania</td><td>Mauritius</td><td>null</td></tr><tr><td>1973-07-26</td><td>Malaysia</td><td>Kuwait</td><td>Malaysia</td><td>null</td></tr><tr><td>1973-07-26</td><td>Cambodia</td><td>Singapore</td><td>Singapore</td><td>null</td></tr></tbody></table></div>"
      ]
     },
     "metadata": {
      "application/vnd.databricks.v1+output": {
       "addedWidgets": {},
       "aggData": [],
       "aggError": "",
       "aggOverflow": false,
       "aggSchema": [],
       "aggSeriesLimitReached": false,
       "aggType": "",
       "arguments": {},
       "columnCustomDisplayInfos": {},
       "data": [
        [
         "1967-08-22",
         "India",
         "Taiwan",
         "Taiwan",
         null
        ],
        [
         "1971-11-14",
         "South Korea",
         "Vietnam Republic",
         "South Korea",
         null
        ],
        [
         "1972-05-07",
         "South Korea",
         "Iraq",
         "Iraq",
         null
        ],
        [
         "1972-05-17",
         "Thailand",
         "South Korea",
         "South Korea",
         null
        ],
        [
         "1972-05-19",
         "Thailand",
         "Cambodia",
         "Thailand",
         null
        ],
        [
         "1973-04-21",
         "Senegal",
         "Ghana",
         "Ghana",
         null
        ],
        [
         "1973-06-14",
         "Guinea",
         "Mali",
         "Guinea",
         null
        ],
        [
         "1973-06-14",
         "Mauritius",
         "Tanzania",
         "Mauritius",
         null
        ],
        [
         "1973-07-26",
         "Malaysia",
         "Kuwait",
         "Malaysia",
         null
        ],
        [
         "1973-07-26",
         "Cambodia",
         "Singapore",
         "Singapore",
         null
        ]
       ],
       "datasetInfos": [],
       "dbfsResultPath": null,
       "isJsonSchema": true,
       "metadata": {},
       "overflow": false,
       "plotOptions": {
        "customPlotOptions": {},
        "displayType": "table",
        "pivotAggregation": null,
        "pivotColumns": null,
        "xColumns": null,
        "yColumns": null
       },
       "removedWidgets": [],
       "schema": [
        {
         "metadata": "{}",
         "name": "date",
         "type": "\"string\""
        },
        {
         "metadata": "{}",
         "name": "home_team",
         "type": "\"string\""
        },
        {
         "metadata": "{}",
         "name": "away_team",
         "type": "\"string\""
        },
        {
         "metadata": "{}",
         "name": "winner",
         "type": "\"string\""
        },
        {
         "metadata": "{}",
         "name": "first_shooter",
         "type": "\"string\""
        }
       ],
       "type": "table"
      }
     },
     "output_type": "display_data"
    },
    {
     "output_type": "stream",
     "name": "stdout",
     "output_type": "stream",
     "text": [
      "🔍 Exibindo 10 primeiras linhas da tabela bronze.goalscorers\n"
     ]
    },
    {
     "output_type": "display_data",
     "data": {
      "text/html": [
       "<style scoped>\n",
       "  .table-result-container {\n",
       "    max-height: 300px;\n",
       "    overflow: auto;\n",
       "  }\n",
       "  table, th, td {\n",
       "    border: 1px solid black;\n",
       "    border-collapse: collapse;\n",
       "  }\n",
       "  th, td {\n",
       "    padding: 5px;\n",
       "  }\n",
       "  th {\n",
       "    text-align: left;\n",
       "  }\n",
       "</style><div class='table-result-container'><table class='table-result'><thead style='background-color: white'><tr><th>date</th><th>home_team</th><th>away_team</th><th>team</th><th>scorer</th><th>minute</th><th>own_goal</th><th>penalty</th></tr></thead><tbody><tr><td>1916-07-02</td><td>Chile</td><td>Uruguay</td><td>Uruguay</td><td>José Piendibene</td><td>44.0</td><td>false</td><td>false</td></tr><tr><td>1916-07-02</td><td>Chile</td><td>Uruguay</td><td>Uruguay</td><td>Isabelino Gradín</td><td>55.0</td><td>false</td><td>false</td></tr><tr><td>1916-07-02</td><td>Chile</td><td>Uruguay</td><td>Uruguay</td><td>Isabelino Gradín</td><td>70.0</td><td>false</td><td>false</td></tr><tr><td>1916-07-02</td><td>Chile</td><td>Uruguay</td><td>Uruguay</td><td>José Piendibene</td><td>75.0</td><td>false</td><td>false</td></tr><tr><td>1916-07-06</td><td>Argentina</td><td>Chile</td><td>Argentina</td><td>Alberto Ohaco</td><td>2.0</td><td>false</td><td>false</td></tr><tr><td>1916-07-06</td><td>Argentina</td><td>Chile</td><td>Chile</td><td>Telésforo Báez</td><td>44.0</td><td>false</td><td>false</td></tr><tr><td>1916-07-06</td><td>Argentina</td><td>Chile</td><td>Argentina</td><td>Juan Domingo Brown</td><td>60.0</td><td>false</td><td>true</td></tr><tr><td>1916-07-06</td><td>Argentina</td><td>Chile</td><td>Argentina</td><td>Juan Domingo Brown</td><td>62.0</td><td>false</td><td>true</td></tr><tr><td>1916-07-06</td><td>Argentina</td><td>Chile</td><td>Argentina</td><td>Alberto Marcovecchio</td><td>67.0</td><td>false</td><td>false</td></tr><tr><td>1916-07-06</td><td>Argentina</td><td>Chile</td><td>Argentina</td><td>Alberto Ohaco</td><td>75.0</td><td>false</td><td>false</td></tr></tbody></table></div>"
      ]
     },
     "metadata": {
      "application/vnd.databricks.v1+output": {
       "addedWidgets": {},
       "aggData": [],
       "aggError": "",
       "aggOverflow": false,
       "aggSchema": [],
       "aggSeriesLimitReached": false,
       "aggType": "",
       "arguments": {},
       "columnCustomDisplayInfos": {},
       "data": [
        [
         "1916-07-02",
         "Chile",
         "Uruguay",
         "Uruguay",
         "José Piendibene",
         44.0,
         false,
         false
        ],
        [
         "1916-07-02",
         "Chile",
         "Uruguay",
         "Uruguay",
         "Isabelino Gradín",
         55.0,
         false,
         false
        ],
        [
         "1916-07-02",
         "Chile",
         "Uruguay",
         "Uruguay",
         "Isabelino Gradín",
         70.0,
         false,
         false
        ],
        [
         "1916-07-02",
         "Chile",
         "Uruguay",
         "Uruguay",
         "José Piendibene",
         75.0,
         false,
         false
        ],
        [
         "1916-07-06",
         "Argentina",
         "Chile",
         "Argentina",
         "Alberto Ohaco",
         2.0,
         false,
         false
        ],
        [
         "1916-07-06",
         "Argentina",
         "Chile",
         "Chile",
         "Telésforo Báez",
         44.0,
         false,
         false
        ],
        [
         "1916-07-06",
         "Argentina",
         "Chile",
         "Argentina",
         "Juan Domingo Brown",
         60.0,
         false,
         true
        ],
        [
         "1916-07-06",
         "Argentina",
         "Chile",
         "Argentina",
         "Juan Domingo Brown",
         62.0,
         false,
         true
        ],
        [
         "1916-07-06",
         "Argentina",
         "Chile",
         "Argentina",
         "Alberto Marcovecchio",
         67.0,
         false,
         false
        ],
        [
         "1916-07-06",
         "Argentina",
         "Chile",
         "Argentina",
         "Alberto Ohaco",
         75.0,
         false,
         false
        ]
       ],
       "datasetInfos": [],
       "dbfsResultPath": null,
       "isJsonSchema": true,
       "metadata": {},
       "overflow": false,
       "plotOptions": {
        "customPlotOptions": {},
        "displayType": "table",
        "pivotAggregation": null,
        "pivotColumns": null,
        "xColumns": null,
        "yColumns": null
       },
       "removedWidgets": [],
       "schema": [
        {
         "metadata": "{}",
         "name": "date",
         "type": "\"string\""
        },
        {
         "metadata": "{}",
         "name": "home_team",
         "type": "\"string\""
        },
        {
         "metadata": "{}",
         "name": "away_team",
         "type": "\"string\""
        },
        {
         "metadata": "{}",
         "name": "team",
         "type": "\"string\""
        },
        {
         "metadata": "{}",
         "name": "scorer",
         "type": "\"string\""
        },
        {
         "metadata": "{}",
         "name": "minute",
         "type": "\"double\""
        },
        {
         "metadata": "{}",
         "name": "own_goal",
         "type": "\"boolean\""
        },
        {
         "metadata": "{}",
         "name": "penalty",
         "type": "\"boolean\""
        }
       ],
       "type": "table"
      }
     },
     "output_type": "display_data"
    },
    {
     "output_type": "stream",
     "name": "stdout",
     "output_type": "stream",
     "text": [
      "🔍 Exibindo 10 primeiras linhas da tabela bronze.former_names\n"
     ]
    },
    {
     "output_type": "display_data",
     "data": {
      "text/html": [
       "<style scoped>\n",
       "  .table-result-container {\n",
       "    max-height: 300px;\n",
       "    overflow: auto;\n",
       "  }\n",
       "  table, th, td {\n",
       "    border: 1px solid black;\n",
       "    border-collapse: collapse;\n",
       "  }\n",
       "  th, td {\n",
       "    padding: 5px;\n",
       "  }\n",
       "  th {\n",
       "    text-align: left;\n",
       "  }\n",
       "</style><div class='table-result-container'><table class='table-result'><thead style='background-color: white'><tr><th>current</th><th>former</th><th>start_date</th><th>end_date</th></tr></thead><tbody><tr><td>Benin</td><td>Dahomey</td><td>1959-11-08</td><td>1975-11-30</td></tr><tr><td>Burkina Faso</td><td>Upper Volta</td><td>1960-04-14</td><td>1984-08-04</td></tr><tr><td>Curaçao</td><td>Netherlands Antilles</td><td>1957-03-03</td><td>2010-10-10</td></tr><tr><td>Czechoslovakia</td><td>Bohemia</td><td>1903-04-05</td><td>1919-01-01</td></tr><tr><td>Czechoslovakia</td><td>Bohemia and Moravia</td><td>1939-01-01</td><td>1945-05-01</td></tr><tr><td>Czechoslovakia</td><td>Representation of Czechs and Slovaks</td><td>1993-03-24</td><td>1993-11-17</td></tr><tr><td>DR Congo</td><td>Belgian Congo</td><td>1948-05-25</td><td>1956-01-02</td></tr><tr><td>DR Congo</td><td>Congo-Léopoldville</td><td>1963-04-12</td><td>1964-07-19</td></tr><tr><td>DR Congo</td><td>Congo-Kinshasa</td><td>1965-01-09</td><td>1970-11-24</td></tr><tr><td>DR Congo</td><td>Zaïre</td><td>1971-01-10</td><td>1997-04-27</td></tr></tbody></table></div>"
      ]
     },
     "metadata": {
      "application/vnd.databricks.v1+output": {
       "addedWidgets": {},
       "aggData": [],
       "aggError": "",
       "aggOverflow": false,
       "aggSchema": [],
       "aggSeriesLimitReached": false,
       "aggType": "",
       "arguments": {},
       "columnCustomDisplayInfos": {},
       "data": [
        [
         "Benin",
         "Dahomey",
         "1959-11-08",
         "1975-11-30"
        ],
        [
         "Burkina Faso",
         "Upper Volta",
         "1960-04-14",
         "1984-08-04"
        ],
        [
         "Curaçao",
         "Netherlands Antilles",
         "1957-03-03",
         "2010-10-10"
        ],
        [
         "Czechoslovakia",
         "Bohemia",
         "1903-04-05",
         "1919-01-01"
        ],
        [
         "Czechoslovakia",
         "Bohemia and Moravia",
         "1939-01-01",
         "1945-05-01"
        ],
        [
         "Czechoslovakia",
         "Representation of Czechs and Slovaks",
         "1993-03-24",
         "1993-11-17"
        ],
        [
         "DR Congo",
         "Belgian Congo",
         "1948-05-25",
         "1956-01-02"
        ],
        [
         "DR Congo",
         "Congo-Léopoldville",
         "1963-04-12",
         "1964-07-19"
        ],
        [
         "DR Congo",
         "Congo-Kinshasa",
         "1965-01-09",
         "1970-11-24"
        ],
        [
         "DR Congo",
         "Zaïre",
         "1971-01-10",
         "1997-04-27"
        ]
       ],
       "datasetInfos": [],
       "dbfsResultPath": null,
       "isJsonSchema": true,
       "metadata": {},
       "overflow": false,
       "plotOptions": {
        "customPlotOptions": {},
        "displayType": "table",
        "pivotAggregation": null,
        "pivotColumns": null,
        "xColumns": null,
        "yColumns": null
       },
       "removedWidgets": [],
       "schema": [
        {
         "metadata": "{}",
         "name": "current",
         "type": "\"string\""
        },
        {
         "metadata": "{}",
         "name": "former",
         "type": "\"string\""
        },
        {
         "metadata": "{}",
         "name": "start_date",
         "type": "\"string\""
        },
        {
         "metadata": "{}",
         "name": "end_date",
         "type": "\"string\""
        }
       ],
       "type": "table"
      }
     },
     "output_type": "display_data"
    },
    {
     "output_type": "stream",
     "name": "stdout",
     "output_type": "stream",
     "text": [
      "🔍 Exibindo 10 primeiras linhas da tabela bronze.fifa_ranking\n"
     ]
    },
    {
     "output_type": "display_data",
     "data": {
      "text/html": [
       "<style scoped>\n",
       "  .table-result-container {\n",
       "    max-height: 300px;\n",
       "    overflow: auto;\n",
       "  }\n",
       "  table, th, td {\n",
       "    border: 1px solid black;\n",
       "    border-collapse: collapse;\n",
       "  }\n",
       "  th, td {\n",
       "    padding: 5px;\n",
       "  }\n",
       "  th {\n",
       "    text-align: left;\n",
       "  }\n",
       "</style><div class='table-result-container'><table class='table-result'><thead style='background-color: white'><tr><th>rank</th><th>country_full</th><th>country_abrv</th><th>total_points</th><th>previous_points</th><th>rank_change</th><th>confederation</th><th>rank_date</th></tr></thead><tbody><tr><td>140.0</td><td>Brunei Darussalam</td><td>BRU</td><td>2.0</td><td>0.0</td><td>140</td><td>AFC</td><td>1992-12-31</td></tr><tr><td>33.0</td><td>Portugal</td><td>POR</td><td>38.0</td><td>0.0</td><td>33</td><td>UEFA</td><td>1992-12-31</td></tr><tr><td>32.0</td><td>Zambia</td><td>ZAM</td><td>38.0</td><td>0.0</td><td>32</td><td>CAF</td><td>1992-12-31</td></tr><tr><td>31.0</td><td>Greece</td><td>GRE</td><td>38.0</td><td>0.0</td><td>31</td><td>UEFA</td><td>1992-12-31</td></tr><tr><td>30.0</td><td>Algeria</td><td>ALG</td><td>39.0</td><td>0.0</td><td>30</td><td>CAF</td><td>1992-12-31</td></tr><tr><td>29.0</td><td>Yugoslavia</td><td>YUG</td><td>39.0</td><td>0.0</td><td>29</td><td>UEFA</td><td>1992-12-31</td></tr><tr><td>28.0</td><td>Wales</td><td>WAL</td><td>40.0</td><td>0.0</td><td>28</td><td>UEFA</td><td>1992-12-31</td></tr><tr><td>27.0</td><td>Côte d'Ivoire</td><td>CIV</td><td>41.0</td><td>0.0</td><td>27</td><td>CAF</td><td>1992-12-31</td></tr><tr><td>34.0</td><td>Austria</td><td>AUT</td><td>38.0</td><td>0.0</td><td>34</td><td>UEFA</td><td>1992-12-31</td></tr><tr><td>26.0</td><td>Bulgaria</td><td>BUL</td><td>41.0</td><td>0.0</td><td>26</td><td>UEFA</td><td>1992-12-31</td></tr></tbody></table></div>"
      ]
     },
     "metadata": {
      "application/vnd.databricks.v1+output": {
       "addedWidgets": {},
       "aggData": [],
       "aggError": "",
       "aggOverflow": false,
       "aggSchema": [],
       "aggSeriesLimitReached": false,
       "aggType": "",
       "arguments": {},
       "columnCustomDisplayInfos": {},
       "data": [
        [
         140.0,
         "Brunei Darussalam",
         "BRU",
         2.0,
         0.0,
         140,
         "AFC",
         "1992-12-31"
        ],
        [
         33.0,
         "Portugal",
         "POR",
         38.0,
         0.0,
         33,
         "UEFA",
         "1992-12-31"
        ],
        [
         32.0,
         "Zambia",
         "ZAM",
         38.0,
         0.0,
         32,
         "CAF",
         "1992-12-31"
        ],
        [
         31.0,
         "Greece",
         "GRE",
         38.0,
         0.0,
         31,
         "UEFA",
         "1992-12-31"
        ],
        [
         30.0,
         "Algeria",
         "ALG",
         39.0,
         0.0,
         30,
         "CAF",
         "1992-12-31"
        ],
        [
         29.0,
         "Yugoslavia",
         "YUG",
         39.0,
         0.0,
         29,
         "UEFA",
         "1992-12-31"
        ],
        [
         28.0,
         "Wales",
         "WAL",
         40.0,
         0.0,
         28,
         "UEFA",
         "1992-12-31"
        ],
        [
         27.0,
         "Côte d'Ivoire",
         "CIV",
         41.0,
         0.0,
         27,
         "CAF",
         "1992-12-31"
        ],
        [
         34.0,
         "Austria",
         "AUT",
         38.0,
         0.0,
         34,
         "UEFA",
         "1992-12-31"
        ],
        [
         26.0,
         "Bulgaria",
         "BUL",
         41.0,
         0.0,
         26,
         "UEFA",
         "1992-12-31"
        ]
       ],
       "datasetInfos": [],
       "dbfsResultPath": null,
       "isJsonSchema": true,
       "metadata": {},
       "overflow": false,
       "plotOptions": {
        "customPlotOptions": {},
        "displayType": "table",
        "pivotAggregation": null,
        "pivotColumns": null,
        "xColumns": null,
        "yColumns": null
       },
       "removedWidgets": [],
       "schema": [
        {
         "metadata": "{}",
         "name": "rank",
         "type": "\"double\""
        },
        {
         "metadata": "{}",
         "name": "country_full",
         "type": "\"string\""
        },
        {
         "metadata": "{}",
         "name": "country_abrv",
         "type": "\"string\""
        },
        {
         "metadata": "{}",
         "name": "total_points",
         "type": "\"double\""
        },
        {
         "metadata": "{}",
         "name": "previous_points",
         "type": "\"double\""
        },
        {
         "metadata": "{}",
         "name": "rank_change",
         "type": "\"long\""
        },
        {
         "metadata": "{}",
         "name": "confederation",
         "type": "\"string\""
        },
        {
         "metadata": "{}",
         "name": "rank_date",
         "type": "\"string\""
        }
       ],
       "type": "table"
      }
     },
     "output_type": "display_data"
    },
    {
     "output_type": "stream",
     "name": "stdout",
     "output_type": "stream",
     "text": [
      "📊 Esquema da tabela bronze.results\n+----------+---------+-------+\n|  col_name|data_type|comment|\n+----------+---------+-------+\n|      date|   string|   null|\n| home_team|   string|   null|\n| away_team|   string|   null|\n|home_score|   bigint|   null|\n|away_score|   bigint|   null|\n|tournament|   string|   null|\n|      city|   string|   null|\n|   country|   string|   null|\n|   neutral|  boolean|   null|\n+----------+---------+-------+\n\n📊 Esquema da tabela bronze.shootouts\n+-------------+---------+-------+\n|     col_name|data_type|comment|\n+-------------+---------+-------+\n|         date|   string|   null|\n|    home_team|   string|   null|\n|    away_team|   string|   null|\n|       winner|   string|   null|\n|first_shooter|   string|   null|\n+-------------+---------+-------+\n\n📊 Esquema da tabela bronze.goalscorers\n+---------+---------+-------+\n| col_name|data_type|comment|\n+---------+---------+-------+\n|     date|   string|   null|\n|home_team|   string|   null|\n|away_team|   string|   null|\n|     team|   string|   null|\n|   scorer|   string|   null|\n|   minute|   double|   null|\n| own_goal|  boolean|   null|\n|  penalty|  boolean|   null|\n+---------+---------+-------+\n\n📊 Esquema da tabela bronze.former_names\n+----------+---------+-------+\n|  col_name|data_type|comment|\n+----------+---------+-------+\n|   current|   string|   null|\n|    former|   string|   null|\n|start_date|   string|   null|\n|  end_date|   string|   null|\n+----------+---------+-------+\n\n📊 Esquema da tabela bronze.fifa_ranking\n+---------------+---------+-------+\n|       col_name|data_type|comment|\n+---------------+---------+-------+\n|           rank|   double|   null|\n|   country_full|   string|   null|\n|   country_abrv|   string|   null|\n|   total_points|   double|   null|\n|previous_points|   double|   null|\n|    rank_change|   bigint|   null|\n|  confederation|   string|   null|\n|      rank_date|   string|   null|\n+---------------+---------+-------+\n\n"
     ]
    }
   ],
   "source": [
    "# Lista de tabelas que foram criadas\n",
    "tables = [\"results\", \"shootouts\", \"goalscorers\", \"former_names\", \"fifa_ranking\"]\n",
    "\n",
    "# Exibindo as 10 primeiras linhas de cada tabela\n",
    "for table in tables:\n",
    "    print(f\"🔍 Exibindo 10 primeiras linhas da tabela bronze.{table}\")\n",
    "    display(spark.sql(f\"SELECT * FROM bronze.{table} LIMIT 10\"))\n",
    "\n",
    "# Exibindo o esquema de cada tabela\n",
    "for table in tables:\n",
    "    print(f\"📊 Esquema da tabela bronze.{table}\")\n",
    "    spark.sql(f\"DESCRIBE TABLE bronze.{table}\").show()\n"
   ]
  },
  {
   "cell_type": "markdown",
   "metadata": {
    "application/vnd.databricks.v1+cell": {
     "cellMetadata": {
      "byteLimit": 2048000,
      "rowLimit": 10000
     },
     "inputWidgets": {},
     "nuid": "fe98c22b-004b-4bf7-87a5-c6e43d7f4704",
     "showTitle": false,
     "tableResultSettingsMap": {},
     "title": ""
    }
   },
   "source": [
    "Nesta etapa do projeto, foi concluída a ingestão dos dados brutos provenientes de diversos arquivos CSV históricos relacionados às seleções nacionais de futebol, utilizando o Spark no Databricks. Com a criação de tabelas na camada bronze, os dados foram armazenados em sua forma original, preservando todas as informações com a maior fidelidade possível.\n",
    "\n",
    "Agora que a camada bronze está criada e os dados estão prontos para análise, a próxima etapa do trabalho será a construção da camada silver, onde será feita a limpeza, transformação e integração dos dados para garantir que estejam no formato adequado para análises mais complexas.\n",
    "\n",
    "A camada silver será responsável por aprimorar a qualidade dos dados, identificando e corrigindo inconsistências, transformando variáveis e aplicando quaisquer outras transformações necessárias para garantir que os dados estejam prontos para a análise e construção de modelos na camada gold.\n",
    "\n",
    "Com isso, segue-se para a próxima fase do pipeline de dados, garantindo que os dados estejam cada vez mais preparados para responder às questões relacionadas à dominância das seleções nacionais no futebol."
   ]
  }
 ],
 "metadata": {
  "application/vnd.databricks.v1+notebook": {
   "computePreferences": null,
   "dashboards": [],
   "environmentMetadata": {
    "base_environment": "",
    "environment_version": "1"
   },
   "inputWidgetPreferences": null,
   "language": "python",
   "notebookMetadata": {
    "mostRecentlyExecutedCommandWithImplicitDF": {
     "commandId": 3290182131485718,
     "dataframes": [
      "_sqldf"
     ]
    },
    "pythonIndentUnit": 4
   },
   "notebookName": "MVP - Engenharia de Dados - Objetivo, coleta de dados e camada bronze",
   "widgets": {}
  }
 },
 "nbformat": 4,
 "nbformat_minor": 0
}